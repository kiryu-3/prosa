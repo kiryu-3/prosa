{
  "nbformat": 4,
  "nbformat_minor": 0,
  "metadata": {
    "colab": {
      "provenance": [],
      "toc_visible": true,
      "include_colab_link": true
    },
    "kernelspec": {
      "name": "python3",
      "display_name": "Python 3"
    },
    "language_info": {
      "name": "python"
    },
    "gpuClass": "standard"
  },
  "cells": [
    {
      "cell_type": "markdown",
      "metadata": {
        "id": "view-in-github",
        "colab_type": "text"
      },
      "source": [
        "<a href=\"https://colab.research.google.com/github/kiryu-3/prosa/blob/main/Python/Python_DS/DS_Matplotlib.ipynb\" target=\"_parent\"><img src=\"https://colab.research.google.com/assets/colab-badge.svg\" alt=\"Open In Colab\"/></a>"
      ]
    },
    {
      "cell_type": "markdown",
      "source": [
        "# matplotlib"
      ],
      "metadata": {
        "id": "-mwb_ZyD2wNv"
      }
    },
    {
      "cell_type": "markdown",
      "source": [
        "## matplotlibとは"
      ],
      "metadata": {
        "id": "Tm_muWi-PhBF"
      }
    },
    {
      "cell_type": "markdown",
      "source": [
        "\n",
        "Pythonでデータの可視化をしていく場合に使うライブラリが**matplotlib**です。  \n",
        "Pythonでグラフを描画（**plotする**という）することができます。\n",
        "\n",
        "![リンクテキスト](https://imgur.com/LqabO4Z.png)\n",
        "\n",
        "**MATLAB**という数値解析ソフトウェアに仕様が似ているようです。\n",
        "\n",
        "GoogleColabやJupyter Labといった環境下では、最初から入っているため改めて入れる必要はありません。  \n",
        "自分で入れる場合は`conda install matplotlib`や`pip install matplotlib`という記述をします。"
      ],
      "metadata": {
        "id": "7GFd1LF83drs"
      }
    },
    {
      "cell_type": "markdown",
      "source": [
        "matplotlibをimportする際、`plt`とするのが一般的です。"
      ],
      "metadata": {
        "id": "ony8PPd445t7"
      }
    },
    {
      "cell_type": "code",
      "execution_count": null,
      "metadata": {
        "id": "ZSqf9i-51DGf"
      },
      "outputs": [],
      "source": [
        "import matplotlib.pyplot as plt  #「pyplot」というモジュールをimportすることが多い\n",
        "import numpy as np  # 同時にnumpyをimport\n",
        "import pandas as pd  # 同時にpandasもimport\n",
        "import seaborn as sns  # 同時にSeabornもimport\n",
        "\n",
        "# 日本語を利用するためにimport\n",
        "!pip install japanize-matplotlib\n",
        "import japanize_matplotlib"
      ]
    },
    {
      "cell_type": "markdown",
      "source": [
        "### plt.plot()\n",
        "**`plt.plot()`**関数に、横軸→縦軸 の順で渡すとplotすることができます。"
      ],
      "metadata": {
        "id": "EMplvLoz7FV_"
      }
    },
    {
      "cell_type": "code",
      "source": [
        "x = [0,1,2,3,4,5]\n",
        "y = [10,11,12,13,14,15]\n",
        "plt.plot(x,y)  #「y=x+10」のグラフを記述"
      ],
      "metadata": {
        "id": "8g7CEckm8teL",
        "colab": {
          "base_uri": "https://localhost:8080/",
          "height": 281
        },
        "outputId": "b242595e-d831-4106-ff15-db42ea4c6789"
      },
      "execution_count": 2,
      "outputs": [
        {
          "output_type": "execute_result",
          "data": {
            "text/plain": [
              "[<matplotlib.lines.Line2D at 0x7f04a0f7ef40>]"
            ]
          },
          "metadata": {},
          "execution_count": 2
        },
        {
          "output_type": "display_data",
          "data": {
            "text/plain": [
              "<Figure size 432x288 with 1 Axes>"
            ],
            "image/png": "[encoded data removed]"
          },
          "metadata": {
            "needs_background": "light"
          }
        }
      ]
    },
    {
      "cell_type": "markdown",
      "source": [
        "yの部分を数式を使って記述しましょう。"
      ],
      "metadata": {
        "id": "Katl-KBi9IcN"
      }
    },
    {
      "cell_type": "code",
      "source": [
        "x = [0,1,2,3,4,5]\n",
        "y = np.array(x) + 10  # ndarrayにしてからでないと演算できない\n",
        "plt.plot(x,y)  #「y=x+10」のグラフを記述"
      ],
      "metadata": {
        "id": "KtYYCbCT9w-h",
        "colab": {
          "base_uri": "https://localhost:8080/",
          "height": 281
        },
        "outputId": "78028e9d-a6d9-40dd-ac10-e8b0272f7d7c"
      },
      "execution_count": 3,
      "outputs": [
        {
          "output_type": "execute_result",
          "data": {
            "text/plain": [
              "[<matplotlib.lines.Line2D at 0x7f04a0a5a940>]"
            ]
          },
          "metadata": {},
          "execution_count": 3
        },
        {
          "output_type": "display_data",
          "data": {
            "text/plain": [
              "<Figure size 432x288 with 1 Axes>"
            ],
            "image/png": "[encoded data removed]"
          },
          "metadata": {
            "needs_background": "light"
          }
        }
      ]
    },
    {
      "cell_type": "markdown",
      "source": [
        "ここでは、AIの分野でよく登場する\n",
        "**シグモイド関数**についてplotしてみましょう。\n",
        "\n",
        "![リンクテキスト](https://imgur.com/PaFCL6T.png)"
      ],
      "metadata": {
        "id": "GGK80NJ_St8H"
      }
    },
    {
      "cell_type": "markdown",
      "source": [
        "シグモイド関数の意味は、ある入力に対する出力を0～1の範囲に抑えることにあります。"
      ],
      "metadata": {
        "id": "BYr9HRFtAHUv"
      }
    },
    {
      "cell_type": "code",
      "source": [
        "# シグモイド関数のplot\n",
        "\n",
        "x = np.linspace(-10 , 10 , 100)\n",
        "z = 1 / (1 + np.exp(-x))\n",
        "plt.plot(x,z)"
      ],
      "metadata": {
        "id": "TqPoNM_gBn8U",
        "colab": {
          "base_uri": "https://localhost:8080/",
          "height": 281
        },
        "outputId": "78026e80-df00-4cd3-c45c-7988283d2502"
      },
      "execution_count": 4,
      "outputs": [
        {
          "output_type": "execute_result",
          "data": {
            "text/plain": [
              "[<matplotlib.lines.Line2D at 0x7f04a0a35f10>]"
            ]
          },
          "metadata": {},
          "execution_count": 4
        },
        {
          "output_type": "display_data",
          "data": {
            "text/plain": [
              "<Figure size 432x288 with 1 Axes>"
            ],
            "image/png": "[encoded data removed]"
          },
          "metadata": {
            "needs_background": "light"
          }
        }
      ]
    },
    {
      "cell_type": "markdown",
      "source": [
        "このような数式のグラフを表示する際は、**`linspace`**を横軸に使うことが多いようです。"
      ],
      "metadata": {
        "id": "Lju8i9zSCbGS"
      }
    },
    {
      "cell_type": "markdown",
      "source": [
        "次はDataFrameを使ってplotしてみましょう。"
      ],
      "metadata": {
        "id": "-b89HUPhC6IC"
      }
    },
    {
      "cell_type": "code",
      "source": [
        "# カラムxの値を横軸、カラムyの値を縦軸にしたグラフのplot\n",
        "\n",
        "df = pd.DataFrame({\"x\" : [1,2,3,4,5,],\n",
        "                   \"y\" : [1,32,243,1024,3125]})\n",
        "\n",
        "plt.plot(\"x\",\"y\" , data=df)  # 引数dataにDataFrameを渡してあげる"
      ],
      "metadata": {
        "id": "OdzeNPbXDnj7",
        "colab": {
          "base_uri": "https://localhost:8080/",
          "height": 336
        },
        "outputId": "2fd64f58-392a-4e92-e389-98045e3ae55e"
      },
      "execution_count": 5,
      "outputs": [
        {
          "output_type": "stream",
          "name": "stderr",
          "text": [
            "<ipython-input-5-203005ed4f4e>:6: RuntimeWarning: Second argument 'y' is ambiguous: could be a format string but is in 'data'; using as data.  If it was intended as data, set the format string to an empty string to suppress this warning.  If it was intended as a format string, explicitly pass the x-values as well.  Alternatively, rename the entry in 'data'.\n",
            "  plt.plot(\"x\",\"y\" , data=df)  # 引数dataにDataFrameを渡してあげる\n"
          ]
        },
        {
          "output_type": "execute_result",
          "data": {
            "text/plain": [
              "[<matplotlib.lines.Line2D at 0x7f04a099a850>]"
            ]
          },
          "metadata": {},
          "execution_count": 5
        },
        {
          "output_type": "display_data",
          "data": {
            "text/plain": [
              "<Figure size 432x288 with 1 Axes>"
            ],
            "image/png": "[encoded data removed]"
          },
          "metadata": {
            "needs_background": "light"
          }
        }
      ]
    },
    {
      "cell_type": "markdown",
      "source": [
        "## 装飾\n",
        "引数を与えることで、様々なパターンでplotすることができます。"
      ],
      "metadata": {
        "id": "ENlB-mTVFy6l"
      }
    },
    {
      "cell_type": "code",
      "source": [
        "# シグモイド関数のplot\n",
        "\n",
        "x = np.linspace(-10 , 10 , 100)\n",
        "z = 1 / (1 + np.exp(-x))\n",
        "plt.plot(x,z)"
      ],
      "metadata": {
        "id": "f9G0aLewJ0MZ",
        "colab": {
          "base_uri": "https://localhost:8080/",
          "height": 281
        },
        "outputId": "4b70b62d-2a43-4f54-98a9-903950014fdd"
      },
      "execution_count": 6,
      "outputs": [
        {
          "output_type": "execute_result",
          "data": {
            "text/plain": [
              "[<matplotlib.lines.Line2D at 0x7f04a0a0e820>]"
            ]
          },
          "metadata": {},
          "execution_count": 6
        },
        {
          "output_type": "display_data",
          "data": {
            "text/plain": [
              "<Figure size 432x288 with 1 Axes>"
            ],
            "image/png": "[encoded data removed]"
          },
          "metadata": {
            "needs_background": "light"
          }
        }
      ]
    },
    {
      "cell_type": "markdown",
      "source": [
        "### color\n",
        "グラフの線の色を変更することができます。  \n",
        "※[こちら](https://www.yutaka-note.com/entry/matplotlib_color)のページにより詳しい解説が書いてあります。"
      ],
      "metadata": {
        "id": "Dd4sUDK_GbVl"
      }
    },
    {
      "cell_type": "code",
      "source": [
        "plt.plot(x,z , color = \"blue\")"
      ],
      "metadata": {
        "id": "mYjUyWKvKUF9",
        "colab": {
          "base_uri": "https://localhost:8080/",
          "height": 281
        },
        "outputId": "13000d47-416c-4fd0-f3b6-eb578e774a9a"
      },
      "execution_count": 7,
      "outputs": [
        {
          "output_type": "execute_result",
          "data": {
            "text/plain": [
              "[<matplotlib.lines.Line2D at 0x7f04a08d52e0>]"
            ]
          },
          "metadata": {},
          "execution_count": 7
        },
        {
          "output_type": "display_data",
          "data": {
            "text/plain": [
              "<Figure size 432x288 with 1 Axes>"
            ],
            "image/png": "[encoded data removed]"
          },
          "metadata": {
            "needs_background": "light"
          }
        }
      ]
    },
    {
      "cell_type": "markdown",
      "source": [
        "### lw\n",
        "「line width」の略です。線の太さを変更します。"
      ],
      "metadata": {
        "id": "TGXyTb4zLI9G"
      }
    },
    {
      "cell_type": "code",
      "source": [
        "plt.plot(x,z , lw = 5)"
      ],
      "metadata": {
        "id": "G8HyhxS_LWtD",
        "colab": {
          "base_uri": "https://localhost:8080/",
          "height": 281
        },
        "outputId": "dd3131e4-d580-4439-8f80-673923a5dbe0"
      },
      "execution_count": 8,
      "outputs": [
        {
          "output_type": "execute_result",
          "data": {
            "text/plain": [
              "[<matplotlib.lines.Line2D at 0x7f04a08b4040>]"
            ]
          },
          "metadata": {},
          "execution_count": 8
        },
        {
          "output_type": "display_data",
          "data": {
            "text/plain": [
              "<Figure size 432x288 with 1 Axes>"
            ],
            "image/png": "[encoded data removed]"
          },
          "metadata": {
            "needs_background": "light"
          }
        }
      ]
    },
    {
      "cell_type": "markdown",
      "source": [
        "### ls\n",
        "「line style」の略です。線の種類を変更します。  \n",
        "`例：'-','--'`"
      ],
      "metadata": {
        "id": "-CgBCKeVLrAD"
      }
    },
    {
      "cell_type": "code",
      "source": [
        "plt.plot(x, z, ls = \"--\")"
      ],
      "metadata": {
        "id": "r2u0WYrML8Jy",
        "colab": {
          "base_uri": "https://localhost:8080/",
          "height": 281
        },
        "outputId": "7f226311-975f-4b86-ee13-08b41c89b108"
      },
      "execution_count": 9,
      "outputs": [
        {
          "output_type": "execute_result",
          "data": {
            "text/plain": [
              "[<matplotlib.lines.Line2D at 0x7f04a0810f70>]"
            ]
          },
          "metadata": {},
          "execution_count": 9
        },
        {
          "output_type": "display_data",
          "data": {
            "text/plain": [
              "<Figure size 432x288 with 1 Axes>"
            ],
            "image/png": "[encoded data removed]"
          },
          "metadata": {
            "needs_background": "light"
          }
        }
      ]
    },
    {
      "cell_type": "markdown",
      "source": [
        "* \"--\"：ハイフン2つ\n",
        "* \"-\"：ハイフンとピリオド\n",
        "* \":\"：コロン"
      ],
      "metadata": {
        "id": "imwhFTx8YkE8"
      }
    },
    {
      "cell_type": "markdown",
      "source": [
        "### marker\n",
        "マーカーの種類を指定します。  \n",
        "`例：'o','x'`\n"
      ],
      "metadata": {
        "id": "EjXp3sGmMZBN"
      }
    },
    {
      "cell_type": "code",
      "source": [
        "plt.plot(x,z , marker = \"o\")"
      ],
      "metadata": {
        "id": "dYSnM6jYM0sT",
        "colab": {
          "base_uri": "https://localhost:8080/",
          "height": 281
        },
        "outputId": "d438d2b9-b708-45d4-8712-d4bbcad38cd3"
      },
      "execution_count": 10,
      "outputs": [
        {
          "output_type": "execute_result",
          "data": {
            "text/plain": [
              "[<matplotlib.lines.Line2D at 0x7f04a07ee130>]"
            ]
          },
          "metadata": {},
          "execution_count": 10
        },
        {
          "output_type": "display_data",
          "data": {
            "text/plain": [
              "<Figure size 432x288 with 1 Axes>"
            ],
            "image/png": "[encoded data removed]"
          },
          "metadata": {
            "needs_background": "light"
          }
        }
      ]
    },
    {
      "cell_type": "markdown",
      "source": [
        "#### markersize\n",
        "マーカーの大きさを指定します。"
      ],
      "metadata": {
        "id": "vLY3eRgtNlov"
      }
    },
    {
      "cell_type": "code",
      "source": [
        "plt.plot(x,z , \n",
        "         marker = \"o\" , \n",
        "         markersize = 3)"
      ],
      "metadata": {
        "id": "QFtHs7OKNr-o",
        "colab": {
          "base_uri": "https://localhost:8080/",
          "height": 281
        },
        "outputId": "f87367af-f766-47e6-a0aa-e15a820757ad"
      },
      "execution_count": 69,
      "outputs": [
        {
          "output_type": "execute_result",
          "data": {
            "text/plain": [
              "[<matplotlib.lines.Line2D at 0x7f049fe9d6a0>]"
            ]
          },
          "metadata": {},
          "execution_count": 69
        },
        {
          "output_type": "display_data",
          "data": {
            "text/plain": [
              "<Figure size 432x288 with 1 Axes>"
            ],
            "image/png": "[encoded data removed]"
          },
          "metadata": {
            "needs_background": "light"
          }
        }
      ]
    },
    {
      "cell_type": "markdown",
      "source": [
        "#### markerfacecolor\n",
        "マーカーの色を指定することができます。"
      ],
      "metadata": {
        "id": "uVXmdgRHOBLP"
      }
    },
    {
      "cell_type": "code",
      "source": [
        "plt.plot(x,z , \n",
        "         marker = \"o\" , \n",
        "         markerfacecolor = \"yellow\")"
      ],
      "metadata": {
        "id": "Lu2ZXBioOIJQ",
        "colab": {
          "base_uri": "https://localhost:8080/",
          "height": 281
        },
        "outputId": "cb39fa2d-6c61-419b-8f50-4ce2efa3e71c"
      },
      "execution_count": 12,
      "outputs": [
        {
          "output_type": "execute_result",
          "data": {
            "text/plain": [
              "[<matplotlib.lines.Line2D at 0x7f04a0726610>]"
            ]
          },
          "metadata": {},
          "execution_count": 12
        },
        {
          "output_type": "display_data",
          "data": {
            "text/plain": [
              "<Figure size 432x288 with 1 Axes>"
            ],
            "image/png": "[encoded data removed]"
          },
          "metadata": {
            "needs_background": "light"
          }
        }
      ]
    },
    {
      "cell_type": "markdown",
      "source": [
        "#### markeredgecolor\n",
        "マーカーの枠の色を指定します。"
      ],
      "metadata": {
        "id": "gAUtdrtYOgDG"
      }
    },
    {
      "cell_type": "code",
      "source": [
        "plt.plot(x,z , \n",
        "         marker = \"o\" , \n",
        "         markerfacecolor = \"yellow\" , \n",
        "         markeredgecolor = \"red\")"
      ],
      "metadata": {
        "id": "9QR0FIQFOo93",
        "colab": {
          "base_uri": "https://localhost:8080/",
          "height": 281
        },
        "outputId": "3ef56c54-78ab-47dc-e7be-3659db0e967b"
      },
      "execution_count": 13,
      "outputs": [
        {
          "output_type": "execute_result",
          "data": {
            "text/plain": [
              "[<matplotlib.lines.Line2D at 0x7f04a0687880>]"
            ]
          },
          "metadata": {},
          "execution_count": 13
        },
        {
          "output_type": "display_data",
          "data": {
            "text/plain": [
              "<Figure size 432x288 with 1 Axes>"
            ],
            "image/png": "[encoded data removed]"
          },
          "metadata": {
            "needs_background": "light"
          }
        }
      ]
    },
    {
      "cell_type": "markdown",
      "source": [
        "#### markeredgewidth\n",
        "マーカーの枠の太さを指定します。"
      ],
      "metadata": {
        "id": "Yt5qTU7iOxZf"
      }
    },
    {
      "cell_type": "code",
      "source": [
        "plt.plot(x,z , \n",
        "         marker = \"o\" , \n",
        "         markerfacecolor = \"yellow\" ,\n",
        "         markeredgecolor = \"red\" ,\n",
        "         markeredgewidth = 3)"
      ],
      "metadata": {
        "id": "szIeompRO_de",
        "colab": {
          "base_uri": "https://localhost:8080/",
          "height": 281
        },
        "outputId": "98cd4ca2-912f-41bc-8dde-d5bb28af33f9"
      },
      "execution_count": 14,
      "outputs": [
        {
          "output_type": "execute_result",
          "data": {
            "text/plain": [
              "[<matplotlib.lines.Line2D at 0x7f04a0664ac0>]"
            ]
          },
          "metadata": {},
          "execution_count": 14
        },
        {
          "output_type": "display_data",
          "data": {
            "text/plain": [
              "<Figure size 432x288 with 1 Axes>"
            ],
            "image/png": "[encoded data removed]"
          },
          "metadata": {
            "needs_background": "light"
          }
        }
      ]
    },
    {
      "cell_type": "markdown",
      "source": [
        "### alpha\n",
        "plotの透明度を0から1の間で指定します。0に近いほど透明度が上がります。  "
      ],
      "metadata": {
        "id": "GX8yMpfbP23d"
      }
    },
    {
      "cell_type": "code",
      "source": [
        "plt.plot(x,z , \n",
        "         alpha = 0.3)"
      ],
      "metadata": {
        "id": "924feHoFQCe8",
        "colab": {
          "base_uri": "https://localhost:8080/",
          "height": 281
        },
        "outputId": "98a8898d-7ffc-4502-8c01-32982bc70509"
      },
      "execution_count": 15,
      "outputs": [
        {
          "output_type": "execute_result",
          "data": {
            "text/plain": [
              "[<matplotlib.lines.Line2D at 0x7f04a05c6b50>]"
            ]
          },
          "metadata": {},
          "execution_count": 15
        },
        {
          "output_type": "display_data",
          "data": {
            "text/plain": [
              "<Figure size 432x288 with 1 Axes>"
            ],
            "image/png": "[encoded data removed]"
          },
          "metadata": {
            "needs_background": "light"
          }
        }
      ]
    },
    {
      "cell_type": "markdown",
      "source": [
        "## 付属情報を付ける\n",
        "plotする際に様々な付属情報を付けたり消したりすることができます。"
      ],
      "metadata": {
        "id": "ZL_VeHfVQpzr"
      }
    },
    {
      "cell_type": "markdown",
      "source": [
        "### 軸とグラフへのラベル付け\n",
        "\n",
        "\n"
      ],
      "metadata": {
        "id": "qhNXBRHqTFYw"
      }
    },
    {
      "cell_type": "markdown",
      "source": [
        "*   **`plt.xlabel()`** : x軸にラベルを付ける\n",
        "*   **`plt.ylabel()`** : y軸にラベルを付ける\n",
        "*   **`plt.title()`** : 図にラベルを付ける  \n",
        "※[こちら](https://www.yutaka-note.com/entry/2020/01/08/080413)のページに書式設定方法が詳しく書いてあります。\n",
        "*   **`plt.plot(label = \"ラベル\")`** : プロットにラベルを付ける\n",
        "*   **`plt.legend()`** : 凡例を付ける  \n",
        "※[こちら](https://www.yutaka-note.com/entry/matplotlib_legend)のページに詳しい解説があります。"
      ],
      "metadata": {
        "id": "gv3pVxrzNv-B"
      }
    },
    {
      "cell_type": "code",
      "source": [
        "plt.plot(x,z, label=\"sigmoid\")\n",
        "plt.xlabel(\"x\")\n",
        "plt.ylabel(\"y\")\n",
        "plt.title(\"sigmoid(x)\")\n",
        "plt.legend(loc=\"best\")  # locの値を変更すると、凡例の位置を移動できる"
      ],
      "metadata": {
        "id": "gCqngYRhUo_c",
        "colab": {
          "base_uri": "https://localhost:8080/",
          "height": 309
        },
        "outputId": "360984cf-9799-4b7b-8f31-3b3baf690a3a"
      },
      "execution_count": 16,
      "outputs": [
        {
          "output_type": "execute_result",
          "data": {
            "text/plain": [
              "<matplotlib.legend.Legend at 0x7f04a05c6f10>"
            ]
          },
          "metadata": {},
          "execution_count": 16
        },
        {
          "output_type": "display_data",
          "data": {
            "text/plain": [
              "<Figure size 432x288 with 1 Axes>"
            ],
            "image/png": "[encoded data removed]"
          },
          "metadata": {
            "needs_background": "light"
          }
        }
      ]
    },
    {
      "cell_type": "markdown",
      "source": [
        "`plt.legend()`の中では、**`loc`**というパラメータを使って凡例の位置を決めることができます。  \n",
        "以下の表を参考にしてください。基本的には**`best`**を使います。\n",
        "\n",
        "![location.png](https://imgur.com/7W0yhMV.png)"
      ],
      "metadata": {
        "id": "2Y8KzPB3YczO"
      }
    },
    {
      "cell_type": "markdown",
      "source": [
        "### メモリの最大最小と表示値\n",
        "\n"
      ],
      "metadata": {
        "id": "H4v9V8rkVBys"
      }
    },
    {
      "cell_type": "markdown",
      "source": [
        "*   **`plt.xlim(最小値,最大値)`** : x軸の最大値・最小値を指定する\n",
        "*   **`plt.ylim(最小値,最大値)`** : y軸の最大値・最小値を指定する\n",
        "*   **`plt.xticks()`** : x軸に任意のticksを付ける\n",
        "*   **`plt.yticks()`** : y軸に任意のticksを付ける\n",
        "*   **`plt.axis(\"off\")`** : 軸を消す\n",
        "\n",
        "※ticks：目盛り"
      ],
      "metadata": {
        "id": "Hm9_28fvN0WH"
      }
    },
    {
      "cell_type": "code",
      "source": [
        "plt.plot(x,z , label=\"sigmoid\")\n",
        "plt.xlabel(\"x\")\n",
        "plt.ylabel(\"y\")\n",
        "plt.title(\"sigmoid(x)\")\n",
        "plt.legend(loc=\"best\")  # locの値を変更すると、凡例の位置を移動できる\n",
        "plt.xlim(-10,10)\n",
        "plt.ylim(0,1)\n",
        "plt.xticks([-5,0,5] , rotation=20)  # rotationの値を変更すると、メモリの角度を変更することができる\n",
        "plt.yticks([0,0.5,1] , rotation=20)"
      ],
      "metadata": {
        "id": "1B1mAckhVdvL",
        "colab": {
          "base_uri": "https://localhost:8080/",
          "height": 365
        },
        "outputId": "cb02b903-5527-4534-8314-2d7df793bf59"
      },
      "execution_count": 17,
      "outputs": [
        {
          "output_type": "execute_result",
          "data": {
            "text/plain": [
              "([<matplotlib.axis.YTick at 0x7f04a062e910>,\n",
              "  <matplotlib.axis.YTick at 0x7f04a062e820>,\n",
              "  <matplotlib.axis.YTick at 0x7f04a05879d0>],\n",
              " <a list of 3 Text major ticklabel objects>)"
            ]
          },
          "metadata": {},
          "execution_count": 17
        },
        {
          "output_type": "display_data",
          "data": {
            "text/plain": [
              "<Figure size 432x288 with 1 Axes>"
            ],
            "image/png": "[encoded data removed]"
          },
          "metadata": {
            "needs_background": "light"
          }
        }
      ]
    },
    {
      "cell_type": "markdown",
      "source": [
        "`plt.xticks()`,`plt.yticks()`の中では、**`rotation`**というパラメータを使って  \n",
        "  目盛りの角度を指定することができます。\n",
        "     \n",
        "目盛りが長い文字列であるときなどに、被らないように表示できるため使えます。"
      ],
      "metadata": {
        "id": "tKhhnVgEY3CF"
      }
    },
    {
      "cell_type": "markdown",
      "source": [
        "#### ticksの使い方\n",
        "`ticks()`には、主に4つの使い方があります。  \n",
        "ここでは`xticks()`について触れますが、`yticks()`でも同じです。  \n",
        "\n",
        "\n",
        "\n",
        "\n",
        "\n"
      ],
      "metadata": {
        "id": "9NaQLpGDQfSv"
      }
    },
    {
      "cell_type": "markdown",
      "source": [
        "##### xticks( [メモリ値のリスト] )\n",
        "表示したいメモリ値をリストで与えて指定することができます。  \n",
        "値のリストは等間隔で指定する必要はありません。"
      ],
      "metadata": {
        "id": "rAhexvR_RcEN"
      }
    },
    {
      "cell_type": "code",
      "source": [
        "plt.plot(x,z)\n",
        "plt.xticks([-10,-2.5,0,2.5,10])"
      ],
      "metadata": {
        "id": "It-g0AHKX5ih",
        "colab": {
          "base_uri": "https://localhost:8080/",
          "height": 368
        },
        "outputId": "41c9a138-0698-4694-8c1b-732563a089bc"
      },
      "execution_count": 18,
      "outputs": [
        {
          "output_type": "execute_result",
          "data": {
            "text/plain": [
              "([<matplotlib.axis.XTick at 0x7f04a0538820>,\n",
              "  <matplotlib.axis.XTick at 0x7f04a05387f0>,\n",
              "  <matplotlib.axis.XTick at 0x7f04a062e700>,\n",
              "  <matplotlib.axis.XTick at 0x7f04a04de580>,\n",
              "  <matplotlib.axis.XTick at 0x7f04a04dea90>],\n",
              " <a list of 5 Text major ticklabel objects>)"
            ]
          },
          "metadata": {},
          "execution_count": 18
        },
        {
          "output_type": "display_data",
          "data": {
            "text/plain": [
              "<Figure size 432x288 with 1 Axes>"
            ],
            "image/png": "[encoded data removed]"
          },
          "metadata": {
            "needs_background": "light"
          }
        }
      ]
    },
    {
      "cell_type": "markdown",
      "source": [
        "##### xticks(ndarray)\n",
        "`np.arange()`で生成したndarrayを与えることもできます。"
      ],
      "metadata": {
        "id": "fTgsT8oVYLUD"
      }
    },
    {
      "cell_type": "code",
      "source": [
        "plt.plot(x,z)\n",
        "plt.xticks(np.arange(-10,11,2.5))"
      ],
      "metadata": {
        "id": "mkFHWrk-Yazw",
        "colab": {
          "base_uri": "https://localhost:8080/",
          "height": 438
        },
        "outputId": "344efeef-46fc-4d6b-dc07-8a5b1e23f059"
      },
      "execution_count": 19,
      "outputs": [
        {
          "output_type": "execute_result",
          "data": {
            "text/plain": [
              "([<matplotlib.axis.XTick at 0x7f04a04f4910>,\n",
              "  <matplotlib.axis.XTick at 0x7f04a04f4760>,\n",
              "  <matplotlib.axis.XTick at 0x7f04a04fc6a0>,\n",
              "  <matplotlib.axis.XTick at 0x7f04a04a7b50>,\n",
              "  <matplotlib.axis.XTick at 0x7f04a04b10a0>,\n",
              "  <matplotlib.axis.XTick at 0x7f04a04b15b0>,\n",
              "  <matplotlib.axis.XTick at 0x7f04a04b1ac0>,\n",
              "  <matplotlib.axis.XTick at 0x7f04a04a78b0>,\n",
              "  <matplotlib.axis.XTick at 0x7f04a04b11f0>],\n",
              " <a list of 9 Text major ticklabel objects>)"
            ]
          },
          "metadata": {},
          "execution_count": 19
        },
        {
          "output_type": "display_data",
          "data": {
            "text/plain": [
              "<Figure size 432x288 with 1 Axes>"
            ],
            "image/png": "[encoded data removed]"
          },
          "metadata": {
            "needs_background": "light"
          }
        }
      ]
    },
    {
      "cell_type": "markdown",
      "source": [
        "##### xticks([メモリ位置],[表示値])\n",
        "目盛り値に文字列を指定することもできます。"
      ],
      "metadata": {
        "id": "yuw9eh8iYy9P"
      }
    },
    {
      "cell_type": "code",
      "source": [
        "plt.plot(x,z)\n",
        "plt.xticks([-10,0,10] , [\"minus ten\" , \"zero\" , \"ten\"])"
      ],
      "metadata": {
        "id": "RkBtoTQvZQj_",
        "colab": {
          "base_uri": "https://localhost:8080/",
          "height": 333
        },
        "outputId": "387176a0-6d17-48ea-87b6-7a449fab0894"
      },
      "execution_count": 20,
      "outputs": [
        {
          "output_type": "execute_result",
          "data": {
            "text/plain": [
              "([<matplotlib.axis.XTick at 0x7f04a0446b50>,\n",
              "  <matplotlib.axis.XTick at 0x7f04a0446c40>,\n",
              "  <matplotlib.axis.XTick at 0x7f04a04500d0>],\n",
              " [Text(0, 0, 'minus ten'), Text(0, 0, 'zero'), Text(0, 0, 'ten')])"
            ]
          },
          "metadata": {},
          "execution_count": 20
        },
        {
          "output_type": "display_data",
          "data": {
            "text/plain": [
              "<Figure size 432x288 with 1 Axes>"
            ],
            "image/png": "[encoded data removed]"
          },
          "metadata": {
            "needs_background": "light"
          }
        }
      ]
    },
    {
      "cell_type": "markdown",
      "source": [
        "##### xticks([])\n",
        "空のリストを渡すと、軸目盛を非表示にすることができます。"
      ],
      "metadata": {
        "id": "fjSxppyaZpHu"
      }
    },
    {
      "cell_type": "code",
      "source": [
        "plt.plot(x,z)\n",
        "plt.xticks([])\n",
        "plt.yticks([])"
      ],
      "metadata": {
        "id": "vzVuBadnZ08K",
        "colab": {
          "base_uri": "https://localhost:8080/",
          "height": 269
        },
        "outputId": "1faab1bc-ec4b-432a-e10d-be32e0741c2d"
      },
      "execution_count": 21,
      "outputs": [
        {
          "output_type": "execute_result",
          "data": {
            "text/plain": [
              "([], <a list of 0 Text major ticklabel objects>)"
            ]
          },
          "metadata": {},
          "execution_count": 21
        },
        {
          "output_type": "display_data",
          "data": {
            "text/plain": [
              "<Figure size 432x288 with 1 Axes>"
            ],
            "image/png": "[encoded data removed]"
          },
          "metadata": {}
        }
      ]
    },
    {
      "cell_type": "markdown",
      "source": [
        "[こちら](https://www.yutaka-note.com/entry/matplotlib_axis)のページでは軸周りについて詳細な解説があります。"
      ],
      "metadata": {
        "id": "iHKel4hhbVyc"
      }
    },
    {
      "cell_type": "markdown",
      "source": [
        "### 複数のplot\n",
        "複数plotするには、単にもう1つ**`plt.plot()`**を実行するだけです。"
      ],
      "metadata": {
        "id": "jABWrUn7acv0"
      }
    },
    {
      "cell_type": "code",
      "source": [
        "x = np.linspace(-10 , 10 , 20)\n",
        "y = np.linspace(0,1,20)\n",
        "z = 1 / (1 + np.exp(-x))\n",
        "\n",
        "plt.plot(x,y , label=\"normal\")\n",
        "plt.plot(x,z , label=\"sigmoid\")\n",
        "plt.axis(\"off\")    #軸を消す\n",
        "plt.legend()"
      ],
      "metadata": {
        "id": "E1Iu7AlCXr-n",
        "colab": {
          "base_uri": "https://localhost:8080/",
          "height": 265
        },
        "outputId": "58e565a5-556a-4df6-e502-c28d1a201cb1"
      },
      "execution_count": 22,
      "outputs": [
        {
          "output_type": "execute_result",
          "data": {
            "text/plain": [
              "<matplotlib.legend.Legend at 0x7f04a0a06580>"
            ]
          },
          "metadata": {},
          "execution_count": 22
        },
        {
          "output_type": "display_data",
          "data": {
            "text/plain": [
              "<Figure size 432x288 with 1 Axes>"
            ],
            "image/png": "[encoded data removed]"
          },
          "metadata": {
            "needs_background": "light"
          }
        }
      ]
    },
    {
      "cell_type": "markdown",
      "source": [
        "## 複数のグラフを並べる\n"
      ],
      "metadata": {
        "id": "d6GSiS_IbcPz"
      }
    },
    {
      "cell_type": "markdown",
      "source": [
        "複数のグラフを並べて表示することができます。    \n",
        "ここでは「オブジェクト指向」というPythonの考え方が登場します。"
      ],
      "metadata": {
        "id": "IEehwCreOCSP"
      }
    },
    {
      "cell_type": "markdown",
      "source": [
        "### plt.subplot()\n"
      ],
      "metadata": {
        "id": "cLQ0L8QZeN4J"
      }
    },
    {
      "cell_type": "markdown",
      "source": [
        "以下の2次関数と3次関数のグラフを並べて表示しましょう。"
      ],
      "metadata": {
        "id": "SYcXOM45fiSe"
      }
    },
    {
      "cell_type": "code",
      "source": [
        "x = np.linspace(-10,10,100)\n",
        "plt.plot(x,x**2)  # y=x^2のグラフ"
      ],
      "metadata": {
        "id": "E2DjpoUseiS4",
        "colab": {
          "base_uri": "https://localhost:8080/",
          "height": 281
        },
        "outputId": "3bc98153-1126-4a1e-b218-690b25ff83d7"
      },
      "execution_count": 23,
      "outputs": [
        {
          "output_type": "execute_result",
          "data": {
            "text/plain": [
              "[<matplotlib.lines.Line2D at 0x7f04a06b7ee0>]"
            ]
          },
          "metadata": {},
          "execution_count": 23
        },
        {
          "output_type": "display_data",
          "data": {
            "text/plain": [
              "<Figure size 432x288 with 1 Axes>"
            ],
            "image/png": "[encoded data removed]"
          },
          "metadata": {
            "needs_background": "light"
          }
        }
      ]
    },
    {
      "cell_type": "code",
      "source": [
        "x = np.linspace(-10,10,100)\n",
        "plt.plot(x,x**3)  # y=x^3のグラフ"
      ],
      "metadata": {
        "id": "-t_DdAVAfFhe",
        "colab": {
          "base_uri": "https://localhost:8080/",
          "height": 281
        },
        "outputId": "5edc18ac-2ada-488f-dfb7-c2fe000dd5b3"
      },
      "execution_count": 24,
      "outputs": [
        {
          "output_type": "execute_result",
          "data": {
            "text/plain": [
              "[<matplotlib.lines.Line2D at 0x7f04a0427f70>]"
            ]
          },
          "metadata": {},
          "execution_count": 24
        },
        {
          "output_type": "display_data",
          "data": {
            "text/plain": [
              "<Figure size 432x288 with 1 Axes>"
            ],
            "image/png": "[encoded data removed]"
          },
          "metadata": {
            "needs_background": "light"
          }
        }
      ]
    },
    {
      "cell_type": "markdown",
      "source": [
        "`plt.plot()`の前で**`plt.subplot(row,column,index)`**を実行すると、  \n",
        "row × column の箱が確保され、index番目にplotされます。"
      ],
      "metadata": {
        "id": "6mqLgR8Hfp91"
      }
    },
    {
      "cell_type": "code",
      "source": [
        "x = np.linspace(-10,10,100)\n",
        "plt.subplot(1,2,1)  # 1番目に2次関数のグラフ\n",
        "plt.plot(x,x**2)    \n",
        "\n",
        "plt.subplot(1,2,2)  # 2番目に3次関数のグラフ\n",
        "plt.plot(x,x**3)"
      ],
      "metadata": {
        "id": "NLGf21UpgB7j",
        "colab": {
          "base_uri": "https://localhost:8080/",
          "height": 281
        },
        "outputId": "2173a41d-00dd-4e71-d64e-e630a4d10233"
      },
      "execution_count": 25,
      "outputs": [
        {
          "output_type": "execute_result",
          "data": {
            "text/plain": [
              "[<matplotlib.lines.Line2D at 0x7f04a02fb820>]"
            ]
          },
          "metadata": {},
          "execution_count": 25
        },
        {
          "output_type": "display_data",
          "data": {
            "text/plain": [
              "<Figure size 432x288 with 2 Axes>"
            ],
            "image/png": "[encoded data removed]"
          },
          "metadata": {
            "needs_background": "light"
          }
        }
      ]
    },
    {
      "cell_type": "markdown",
      "source": [
        "**`plt.subplots_adjust()`**とすると、グラフ間に余白を持たせることができます。  \n",
        "左右の余白を引数**`wspace`**、上下の余白を**`hspace`**で指定します。"
      ],
      "metadata": {
        "id": "ZWOtHgSfhHOr"
      }
    },
    {
      "cell_type": "code",
      "source": [
        "x = np.linspace(-10,10,100)\n",
        "plt.subplot(1,2,1)  # 1番目に2次関数のグラフ\n",
        "plt.plot(x,x**2)    \n",
        "\n",
        "plt.subplot(1,2,2)  # 2番目に3次関数のグラフ\n",
        "plt.plot(x,x**3)\n",
        "\n",
        "plt.subplots_adjust(wspace=0.4, hspace=0.6)"
      ],
      "metadata": {
        "id": "lKik8wcwhd3S",
        "colab": {
          "base_uri": "https://localhost:8080/",
          "height": 264
        },
        "outputId": "ff0b45c0-1cb6-4cbb-ea50-d63424e86f47"
      },
      "execution_count": 26,
      "outputs": [
        {
          "output_type": "display_data",
          "data": {
            "text/plain": [
              "<Figure size 432x288 with 2 Axes>"
            ],
            "image/png": "[encoded data removed]"
          },
          "metadata": {
            "needs_background": "light"
          }
        }
      ]
    },
    {
      "cell_type": "markdown",
      "source": [
        "### plt.figure()\n",
        "ここでは**オブジェクト指向**という考え方が登場します。"
      ],
      "metadata": {
        "id": "QpqOG8oekUJ5"
      }
    },
    {
      "cell_type": "code",
      "source": [
        "# plt.figureクラスでfigというインスタンスを作る\n",
        "fig = plt.figure()"
      ],
      "metadata": {
        "id": "y0_nsCjL4QaC",
        "colab": {
          "base_uri": "https://localhost:8080/",
          "height": 34
        },
        "outputId": "dd137403-0da2-400e-f1db-3bb25d0574bb"
      },
      "execution_count": 27,
      "outputs": [
        {
          "output_type": "display_data",
          "data": {
            "text/plain": [
              "<Figure size 432x288 with 0 Axes>"
            ]
          },
          "metadata": {}
        }
      ]
    },
    {
      "cell_type": "markdown",
      "source": [
        "`add_subplot()`というメソッドを利用してplotを追加し、  \n",
        "`axes`（座標軸）オブジェクトを複数作っていきます。  \n",
        "\n",
        "その`axes`オブジェクトに対して`plot()`関数を呼び出します。"
      ],
      "metadata": {
        "id": "Q4sKOBoHklkG"
      }
    },
    {
      "cell_type": "code",
      "source": [
        "fig = plt.figure()\n",
        "ax1 = fig.add_subplot(1,2,1)\n",
        "ax2 = fig.add_subplot(1,2,2)\n",
        "\n",
        "x = np.linspace(-10,10,100)\n",
        "ax1.plot(x,x**2)\n",
        "ax2.plot(x,x**3)\n",
        "\n",
        "plt.subplots_adjust(wspace=0.4, hspace=0.6)"
      ],
      "metadata": {
        "id": "8LmKXhXM_qMf",
        "colab": {
          "base_uri": "https://localhost:8080/",
          "height": 264
        },
        "outputId": "b90a6828-8f4c-41dc-9ff2-fa0301407365"
      },
      "execution_count": 28,
      "outputs": [
        {
          "output_type": "display_data",
          "data": {
            "text/plain": [
              "<Figure size 432x288 with 2 Axes>"
            ],
            "image/png": "[encoded data removed]"
          },
          "metadata": {
            "needs_background": "light"
          }
        }
      ]
    },
    {
      "cell_type": "markdown",
      "source": [
        "[こちら](https://www.yutaka-note.com/entry/matplotlib_figure)のサイトを見ていただくとイメージが湧くと思います。"
      ],
      "metadata": {
        "id": "wXN4NsinAw77"
      }
    },
    {
      "cell_type": "markdown",
      "source": [
        "### plt.subplots()\n",
        "インスタンス`fig`と`axes`を同時に作ることができます。  \n",
        "先ほどの方法よりもこちらの方が便利です。"
      ],
      "metadata": {
        "id": "WrPLUR2LBmAa"
      }
    },
    {
      "cell_type": "code",
      "source": [
        "fig , axes = plt.subplots(nrows=1 , ncols=2)  # 1行2列のplots\n",
        "plt.subplots_adjust(wspace=0.4, hspace=0.6)"
      ],
      "metadata": {
        "id": "Y9R8mUT0Cqc_",
        "colab": {
          "base_uri": "https://localhost:8080/",
          "height": 268
        },
        "outputId": "757a5e64-f0d6-428f-a5a6-869a74f85b0f"
      },
      "execution_count": 29,
      "outputs": [
        {
          "output_type": "display_data",
          "data": {
            "text/plain": [
              "<Figure size 432x288 with 2 Axes>"
            ],
            "image/png": "[encoded data removed]"
          },
          "metadata": {
            "needs_background": "light"
          }
        }
      ]
    },
    {
      "cell_type": "markdown",
      "source": [
        "`axes`はndarrayで返ってきているので、インデックスを指定してplotしてみましょう。"
      ],
      "metadata": {
        "id": "luH5dQx6DSKL"
      }
    },
    {
      "cell_type": "code",
      "source": [
        "fig , axes = plt.subplots(nrows=1 , ncols=2)\n",
        "x = np.linspace(-10,10,100)\n",
        "axes[0].plot(x,x**2)\n",
        "axes[1].plot(x,x**3)\n",
        "\n",
        "plt.subplots_adjust(wspace=0.4, hspace=0.6)"
      ],
      "metadata": {
        "id": "sznmPq5vDcNr",
        "colab": {
          "base_uri": "https://localhost:8080/",
          "height": 264
        },
        "outputId": "511cbe89-9fd8-4780-d227-a080b4eaac14"
      },
      "execution_count": 30,
      "outputs": [
        {
          "output_type": "display_data",
          "data": {
            "text/plain": [
              "<Figure size 432x288 with 2 Axes>"
            ],
            "image/png": "[encoded data removed]"
          },
          "metadata": {
            "needs_background": "light"
          }
        }
      ]
    },
    {
      "cell_type": "markdown",
      "source": [
        "複数行を指定した場合は、インデックスを指定する際に注意が必要です。"
      ],
      "metadata": {
        "id": "tBEpH7gjEJqp"
      }
    },
    {
      "cell_type": "code",
      "source": [
        "fig , axes = plt.subplots(nrows=2 , ncols=2)\n",
        "x = np.linspace(-10,10,100)\n",
        "axes[0,0].plot(x,x)\n",
        "axes[0,1].plot(x,x**2)\n",
        "axes[1,0].plot(x,x**3)\n",
        "axes[1,1].plot(x,x**4)\n",
        "\n",
        "plt.subplots_adjust(wspace=0.4, hspace=0.6)"
      ],
      "metadata": {
        "id": "BYpVCo45En0W",
        "colab": {
          "base_uri": "https://localhost:8080/",
          "height": 264
        },
        "outputId": "ef47e288-aa90-4db4-d24d-c62487f2951f"
      },
      "execution_count": 31,
      "outputs": [
        {
          "output_type": "display_data",
          "data": {
            "text/plain": [
              "<Figure size 432x288 with 4 Axes>"
            ],
            "image/png": "[encoded data removed]"
          },
          "metadata": {
            "needs_background": "light"
          }
        }
      ]
    },
    {
      "cell_type": "markdown",
      "source": [
        "`tight_layput()`というメソッドを使えば、レイアウトがスッキリします。"
      ],
      "metadata": {
        "id": "GcCPuUPkFHkw"
      }
    },
    {
      "cell_type": "code",
      "source": [
        "fig , axes = plt.subplots(nrows=2 , ncols=2)\n",
        "x = np.linspace(-10,10,100)\n",
        "axes[0,0].plot(x,x)\n",
        "axes[0,1].plot(x,x**2)\n",
        "axes[1,0].plot(x,x**3)\n",
        "axes[1,1].plot(x,x**4)\n",
        "fig.tight_layout()"
      ],
      "metadata": {
        "id": "dOUKoL4WFSZm",
        "colab": {
          "base_uri": "https://localhost:8080/",
          "height": 297
        },
        "outputId": "007097a0-1557-4d02-955e-90344b26e9a9"
      },
      "execution_count": 32,
      "outputs": [
        {
          "output_type": "display_data",
          "data": {
            "text/plain": [
              "<Figure size 432x288 with 4 Axes>"
            ],
            "image/png": "[encoded data removed]"
          },
          "metadata": {
            "needs_background": "light"
          }
        }
      ]
    },
    {
      "cell_type": "markdown",
      "source": [
        "1つのプロットの際は、引数に何も指定しないことでplotできます。"
      ],
      "metadata": {
        "id": "QsJgNsSeFbfe"
      }
    },
    {
      "cell_type": "code",
      "source": [
        "x = np.linspace(-10 , 10 , 100)\n",
        "z = 1 / (1 + np.exp(-x))\n",
        "\n",
        "fig , axes = plt.subplots()\n",
        "axes.plot(x,z)"
      ],
      "metadata": {
        "id": "upHywSnvFvX2",
        "colab": {
          "base_uri": "https://localhost:8080/",
          "height": 281
        },
        "outputId": "5fb632b4-199a-412a-8bc4-284d01f244bc"
      },
      "execution_count": 33,
      "outputs": [
        {
          "output_type": "execute_result",
          "data": {
            "text/plain": [
              "[<matplotlib.lines.Line2D at 0x7f04a0646490>]"
            ]
          },
          "metadata": {},
          "execution_count": 33
        },
        {
          "output_type": "display_data",
          "data": {
            "text/plain": [
              "<Figure size 432x288 with 1 Axes>"
            ],
            "image/png": "[encoded data removed]"
          },
          "metadata": {
            "needs_background": "light"
          }
        }
      ]
    },
    {
      "cell_type": "markdown",
      "source": [
        "#### オブジェクト指向で付属情報を付ける\n",
        "オブジェクト指向では基本**`ax.set_xx()`**という形で、同様に付属情報を付けることができます。  \n",
        "ただし、`legend()`と`axis('off')`はそのままです。"
      ],
      "metadata": {
        "id": "8k3KPkGCGa6j"
      }
    },
    {
      "cell_type": "code",
      "source": [
        "x = np.linspace(-10 , 10 , 100)\n",
        "z = 1 / (1 + np.exp(-x))\n",
        "\n",
        "fig , axes = plt.subplots(1,2)\n",
        "plt.suptitle(\"Sigmoid\")  # 全体のタイトル\n",
        "\n",
        "axes[0].plot(x,z)\n",
        "axes[0].axis(\"off\")  # そのままなので注意\n",
        "\n",
        "axes[1].plot(x,z , label=\"sigmoid\")\n",
        "axes[1].set_xlabel(\"x\")\n",
        "axes[1].set_ylabel(\"y\")\n",
        "axes[1].set_title(\"sigmoid(x)\")\n",
        "axes[1].legend(loc=\"best\")  # そのままなので注意\n",
        "axes[1].set_xlim(-10,10)\n",
        "axes[1].set_ylim(0,1)\n",
        "axes[1].set_xticks([-5,0,5])\n",
        "axes[1].set_yticks([0,0.5,1])"
      ],
      "metadata": {
        "id": "9kdnuPVlHQkH",
        "colab": {
          "base_uri": "https://localhost:8080/",
          "height": 358
        },
        "outputId": "53d51b3f-4dc1-4be4-b231-76e67e4e9771"
      },
      "execution_count": 34,
      "outputs": [
        {
          "output_type": "execute_result",
          "data": {
            "text/plain": [
              "[<matplotlib.axis.YTick at 0x7f04a002c250>,\n",
              " <matplotlib.axis.YTick at 0x7f04a002cbb0>,\n",
              " <matplotlib.axis.YTick at 0x7f049ffbb5e0>]"
            ]
          },
          "metadata": {},
          "execution_count": 34
        },
        {
          "output_type": "display_data",
          "data": {
            "text/plain": [
              "<Figure size 432x288 with 2 Axes>"
            ],
            "image/png": "[encoded data removed]"
          },
          "metadata": {
            "needs_background": "light"
          }
        }
      ]
    },
    {
      "cell_type": "markdown",
      "source": [
        "以下のようにすると2つのグラフで共通の軸名を指定できます。"
      ],
      "metadata": {
        "id": "AiQGGg3hkD6D"
      }
    },
    {
      "cell_type": "code",
      "source": [
        "x = np.linspace(-10 , 10 , 100)\n",
        "z = 1 / (1 + np.exp(-x))\n",
        "\n",
        "fig , axes = plt.subplots(1,2)\n",
        "fig.text(0.5, 0, 'x common label', ha='center', va='center', fontsize=12)\n",
        "fig.text(0, 0.5, 'y comonn label', ha='center', va='center', \n",
        "         rotation='vertical', fontsize=12)\n",
        "\n",
        "plt.suptitle(\"Sigmoid\")  # 全体のタイトル\n",
        "\n",
        "axes[0].plot(x,z)\n",
        "axes[0].axis(\"off\")  # そのままなので注意\n",
        "\n",
        "axes[1].plot(x,z , label=\"sigmoid\")\n",
        "axes[1].set_xlabel(\"x\")\n",
        "axes[1].set_ylabel(\"y\")\n",
        "axes[1].set_title(\"sigmoid(x)\")\n",
        "axes[1].legend(loc=\"best\")  # そのままなので注意\n",
        "axes[1].set_xlim(-10,10)\n",
        "axes[1].set_ylim(0,1)\n",
        "axes[1].set_xticks([-5,0,5])\n",
        "axes[1].set_yticks([0,0.5,1])"
      ],
      "metadata": {
        "colab": {
          "base_uri": "https://localhost:8080/",
          "height": 371
        },
        "id": "v35-zFmKikL6",
        "outputId": "65b63228-ee99-4a61-a8ef-ef93efda3efa"
      },
      "execution_count": 35,
      "outputs": [
        {
          "output_type": "execute_result",
          "data": {
            "text/plain": [
              "[<matplotlib.axis.YTick at 0x7f04a00ec6a0>,\n",
              " <matplotlib.axis.YTick at 0x7f04a008f0d0>,\n",
              " <matplotlib.axis.YTick at 0x7f04a0093430>]"
            ]
          },
          "metadata": {},
          "execution_count": 35
        },
        {
          "output_type": "display_data",
          "data": {
            "text/plain": [
              "<Figure size 432x288 with 2 Axes>"
            ],
            "image/png": "[encoded data removed]"
          },
          "metadata": {
            "needs_background": "light"
          }
        }
      ]
    },
    {
      "cell_type": "markdown",
      "source": [
        "[こちら](https://www.yutaka-note.com/entry/matplotlib_figure)のサイトで細かいレイアウトの調節方法の紹介がありますので、興味のある方は是非。"
      ],
      "metadata": {
        "id": "G5dWTlj1I2U1"
      }
    },
    {
      "cell_type": "markdown",
      "source": [
        "## 散布図\n",
        "これまで書いてきた数式のグラフよりも、これから説明するグラフの方がplotする機会が多いです。"
      ],
      "metadata": {
        "id": "ynW0uoJd3UDr"
      }
    },
    {
      "cell_type": "markdown",
      "source": [
        "その中でも1番使う頻度が高いのが**散布図**です。  \n",
        "データを点でプロットしたもので、データの全体的なばらつきや傾向を見ることができます。"
      ],
      "metadata": {
        "id": "s9FuoXrIsT8t"
      }
    },
    {
      "cell_type": "code",
      "source": [
        "df = sns.load_dataset('titanic')\n",
        "df.head(3)"
      ],
      "metadata": {
        "id": "Sjj8oqafvBFm",
        "colab": {
          "base_uri": "https://localhost:8080/",
          "height": 207
        },
        "outputId": "5751751a-7359-4cdd-c62b-d80964f68f71"
      },
      "execution_count": 36,
      "outputs": [
        {
          "output_type": "execute_result",
          "data": {
            "text/plain": [
              "   survived  pclass     sex   age  sibsp  parch     fare embarked  class  \\\n",
              "0         0       3    male  22.0      1      0   7.2500        S  Third   \n",
              "1         1       1  female  38.0      1      0  71.2833        C  First   \n",
              "2         1       3  female  26.0      0      0   7.9250        S  Third   \n",
              "\n",
              "     who  adult_male deck  embark_town alive  alone  \n",
              "0    man        True  NaN  Southampton    no  False  \n",
              "1  woman       False    C    Cherbourg   yes  False  \n",
              "2  woman       False  NaN  Southampton   yes   True  "
            ],
            "text/html": [
              "\n",
              "  <div id=\"df-fb15b979-bce4-4dfa-805b-57d000938b7d\">\n",
              "    <div class=\"colab-df-container\">\n",
              "      <div>\n",
              "<style scoped>\n",
              "    .dataframe tbody tr th:only-of-type {\n",
              "        vertical-align: middle;\n",
              "    }\n",
              "\n",
              "    .dataframe tbody tr th {\n",
              "        vertical-align: top;\n",
              "    }\n",
              "\n",
              "    .dataframe thead th {\n",
              "        text-align: right;\n",
              "    }\n",
              "</style>\n",
              "<table border=\"1\" class=\"dataframe\">\n",
              "  <thead>\n",
              "    <tr style=\"text-align: right;\">\n",
              "      <th></th>\n",
              "      <th>survived</th>\n",
              "      <th>pclass</th>\n",
              "      <th>sex</th>\n",
              "      <th>age</th>\n",
              "      <th>sibsp</th>\n",
              "      <th>parch</th>\n",
              "      <th>fare</th>\n",
              "      <th>embarked</th>\n",
              "      <th>class</th>\n",
              "      <th>who</th>\n",
              "      <th>adult_male</th>\n",
              "      <th>deck</th>\n",
              "      <th>embark_town</th>\n",
              "      <th>alive</th>\n",
              "      <th>alone</th>\n",
              "    </tr>\n",
              "  </thead>\n",
              "  <tbody>\n",
              "    <tr>\n",
              "      <th>0</th>\n",
              "      <td>0</td>\n",
              "      <td>3</td>\n",
              "      <td>male</td>\n",
              "      <td>22.0</td>\n",
              "      <td>1</td>\n",
              "      <td>0</td>\n",
              "      <td>7.2500</td>\n",
              "      <td>S</td>\n",
              "      <td>Third</td>\n",
              "      <td>man</td>\n",
              "      <td>True</td>\n",
              "      <td>NaN</td>\n",
              "      <td>Southampton</td>\n",
              "      <td>no</td>\n",
              "      <td>False</td>\n",
              "    </tr>\n",
              "    <tr>\n",
              "      <th>1</th>\n",
              "      <td>1</td>\n",
              "      <td>1</td>\n",
              "      <td>female</td>\n",
              "      <td>38.0</td>\n",
              "      <td>1</td>\n",
              "      <td>0</td>\n",
              "      <td>71.2833</td>\n",
              "      <td>C</td>\n",
              "      <td>First</td>\n",
              "      <td>woman</td>\n",
              "      <td>False</td>\n",
              "      <td>C</td>\n",
              "      <td>Cherbourg</td>\n",
              "      <td>yes</td>\n",
              "      <td>False</td>\n",
              "    </tr>\n",
              "    <tr>\n",
              "      <th>2</th>\n",
              "      <td>1</td>\n",
              "      <td>3</td>\n",
              "      <td>female</td>\n",
              "      <td>26.0</td>\n",
              "      <td>0</td>\n",
              "      <td>0</td>\n",
              "      <td>7.9250</td>\n",
              "      <td>S</td>\n",
              "      <td>Third</td>\n",
              "      <td>woman</td>\n",
              "      <td>False</td>\n",
              "      <td>NaN</td>\n",
              "      <td>Southampton</td>\n",
              "      <td>yes</td>\n",
              "      <td>True</td>\n",
              "    </tr>\n",
              "  </tbody>\n",
              "</table>\n",
              "</div>\n",
              "      <button class=\"colab-df-convert\" onclick=\"convertToInteractive('df-fb15b979-bce4-4dfa-805b-57d000938b7d')\"\n",
              "              title=\"Convert this dataframe to an interactive table.\"\n",
              "              style=\"display:none;\">\n",
              "        \n",
              "  <svg xmlns=\"http://www.w3.org/2000/svg\" height=\"24px\"viewBox=\"0 0 24 24\"\n",
              "       width=\"24px\">\n",
              "    <path d=\"M0 0h24v24H0V0z\" fill=\"none\"/>\n",
              "    <path d=\"M18.56 5.44l.94 2.06.94-2.06 2.06-.94-2.06-.94-.94-2.06-.94 2.06-2.06.94zm-11 1L8.5 8.5l.94-2.06 2.06-.94-2.06-.94L8.5 2.5l-.94 2.06-2.06.94zm10 10l.94 2.06.94-2.06 2.06-.94-2.06-.94-.94-2.06-.94 2.06-2.06.94z\"/><path d=\"M17.41 7.96l-1.37-1.37c-.4-.4-.92-.59-1.43-.59-.52 0-1.04.2-1.43.59L10.3 9.45l-7.72 7.72c-.78.78-.78 2.05 0 2.83L4 21.41c.39.39.9.59 1.41.59.51 0 1.02-.2 1.41-.59l7.78-7.78 2.81-2.81c.8-.78.8-2.07 0-2.86zM5.41 20L4 18.59l7.72-7.72 1.47 1.35L5.41 20z\"/>\n",
              "  </svg>\n",
              "      </button>\n",
              "      \n",
              "  <style>\n",
              "    .colab-df-container {\n",
              "      display:flex;\n",
              "      flex-wrap:wrap;\n",
              "      gap: 12px;\n",
              "    }\n",
              "\n",
              "    .colab-df-convert {\n",
              "      background-color: #E8F0FE;\n",
              "      border: none;\n",
              "      border-radius: 50%;\n",
              "      cursor: pointer;\n",
              "      display: none;\n",
              "      fill: #1967D2;\n",
              "      height: 32px;\n",
              "      padding: 0 0 0 0;\n",
              "      width: 32px;\n",
              "    }\n",
              "\n",
              "    .colab-df-convert:hover {\n",
              "      background-color: #E2EBFA;\n",
              "      box-shadow: 0px 1px 2px rgba(60, 64, 67, 0.3), 0px 1px 3px 1px rgba(60, 64, 67, 0.15);\n",
              "      fill: #174EA6;\n",
              "    }\n",
              "\n",
              "    [theme=dark] .colab-df-convert {\n",
              "      background-color: #3B4455;\n",
              "      fill: #D2E3FC;\n",
              "    }\n",
              "\n",
              "    [theme=dark] .colab-df-convert:hover {\n",
              "      background-color: #434B5C;\n",
              "      box-shadow: 0px 1px 3px 1px rgba(0, 0, 0, 0.15);\n",
              "      filter: drop-shadow(0px 1px 2px rgba(0, 0, 0, 0.3));\n",
              "      fill: #FFFFFF;\n",
              "    }\n",
              "  </style>\n",
              "\n",
              "      <script>\n",
              "        const buttonEl =\n",
              "          document.querySelector('#df-fb15b979-bce4-4dfa-805b-57d000938b7d button.colab-df-convert');\n",
              "        buttonEl.style.display =\n",
              "          google.colab.kernel.accessAllowed ? 'block' : 'none';\n",
              "\n",
              "        async function convertToInteractive(key) {\n",
              "          const element = document.querySelector('#df-fb15b979-bce4-4dfa-805b-57d000938b7d');\n",
              "          const dataTable =\n",
              "            await google.colab.kernel.invokeFunction('convertToInteractive',\n",
              "                                                     [key], {});\n",
              "          if (!dataTable) return;\n",
              "\n",
              "          const docLinkHtml = 'Like what you see? Visit the ' +\n",
              "            '<a target=\"_blank\" href=https://colab.research.google.com/notebooks/data_table.ipynb>data table notebook</a>'\n",
              "            + ' to learn more about interactive tables.';\n",
              "          element.innerHTML = '';\n",
              "          dataTable['output_type'] = 'display_data';\n",
              "          await google.colab.output.renderOutput(dataTable, element);\n",
              "          const docLink = document.createElement('div');\n",
              "          docLink.innerHTML = docLinkHtml;\n",
              "          element.appendChild(docLink);\n",
              "        }\n",
              "      </script>\n",
              "    </div>\n",
              "  </div>\n",
              "  "
            ]
          },
          "metadata": {},
          "execution_count": 36
        }
      ]
    },
    {
      "cell_type": "markdown",
      "source": [
        "### plt.scatter()\n",
        "散布図を作るには**`plt.scatter()`**関数を使います。  \n",
        "今回は、`age`（年齢）カラムと`fare`（料金）カラムを指定します。"
      ],
      "metadata": {
        "id": "Gn87z_OEw2QR"
      }
    },
    {
      "cell_type": "code",
      "source": [
        "# x軸がageカラム、y軸がfareカラム\n",
        "plt.scatter(df[\"age\"] , df[\"fare\"])    "
      ],
      "metadata": {
        "id": "aXhVLKY4xarG",
        "colab": {
          "base_uri": "https://localhost:8080/",
          "height": 281
        },
        "outputId": "8ffc5f03-46ce-47be-f602-e20a0608a862"
      },
      "execution_count": 37,
      "outputs": [
        {
          "output_type": "execute_result",
          "data": {
            "text/plain": [
              "<matplotlib.collections.PathCollection at 0x7f04a0238760>"
            ]
          },
          "metadata": {},
          "execution_count": 37
        },
        {
          "output_type": "display_data",
          "data": {
            "text/plain": [
              "<Figure size 432x288 with 1 Axes>"
            ],
            "image/png": "[encoded data removed]"
          },
          "metadata": {
            "needs_background": "light"
          }
        }
      ]
    },
    {
      "cell_type": "markdown",
      "source": [
        "プロットが重なるとデータの解釈が難しくなるので、  \n",
        "`alpha`を指定して透明度を上げ、データの重なり具合を明らかにします。"
      ],
      "metadata": {
        "id": "b9V5NeVtxnK1"
      }
    },
    {
      "cell_type": "code",
      "source": [
        "plt.scatter(df[\"age\"] , df[\"fare\"] ,alpha=0.2)"
      ],
      "metadata": {
        "id": "h-ABSiqPxz5p",
        "colab": {
          "base_uri": "https://localhost:8080/",
          "height": 281
        },
        "outputId": "bd7ff1ac-5f07-44d6-f8ce-4fe81a04bcec"
      },
      "execution_count": 38,
      "outputs": [
        {
          "output_type": "execute_result",
          "data": {
            "text/plain": [
              "<matplotlib.collections.PathCollection at 0x7f04a007c220>"
            ]
          },
          "metadata": {},
          "execution_count": 38
        },
        {
          "output_type": "display_data",
          "data": {
            "text/plain": [
              "<Figure size 432x288 with 1 Axes>"
            ],
            "image/png": "[encoded data removed]"
          },
          "metadata": {
            "needs_background": "light"
          }
        }
      ]
    },
    {
      "cell_type": "markdown",
      "source": [
        "### バブルチャート\n"
      ],
      "metadata": {
        "id": "dnVgLkv0x7a5"
      }
    },
    {
      "cell_type": "markdown",
      "source": [
        "バブルチャートは、各プロットの特徴量を視覚的に表現するグラフの1つです。  \n",
        "\n",
        "特徴量に応じてプロットのサイズや色を変化させることで、  \n",
        "**データの意味を直観的に読み取りやすくする**ことができます。"
      ],
      "metadata": {
        "id": "1bPYRmxUOesX"
      }
    },
    {
      "cell_type": "markdown",
      "source": [
        "今回は`deck`（デッキ）カラムでグループ化した後に  \n",
        "`age`と`fare`の平均値をとります。  \n",
        "\n",
        "その後`survived`カラムの値によってマーカーの大きさを変化させます。"
      ],
      "metadata": {
        "id": "3sE2y8SpnjD1"
      }
    },
    {
      "cell_type": "code",
      "source": [
        "df.groupby(\"deck\").mean()"
      ],
      "metadata": {
        "colab": {
          "base_uri": "https://localhost:8080/",
          "height": 364
        },
        "id": "hFb6x1vynarY",
        "outputId": "0eac5a19-e162-4d9f-e04b-744efbc17a14"
      },
      "execution_count": 39,
      "outputs": [
        {
          "output_type": "execute_result",
          "data": {
            "text/plain": [
              "      survived    pclass        age     sibsp     parch        fare  \\\n",
              "deck                                                                  \n",
              "A     0.466667  1.000000  44.833333  0.133333  0.133333   39.623887   \n",
              "B     0.744681  1.000000  34.955556  0.361702  0.574468  113.505764   \n",
              "C     0.593220  1.000000  36.086667  0.644068  0.474576  100.151341   \n",
              "D     0.757576  1.121212  39.032258  0.424242  0.303030   57.244576   \n",
              "E     0.750000  1.312500  38.116667  0.312500  0.312500   46.026694   \n",
              "F     0.615385  2.384615  19.954545  0.538462  0.538462   18.696792   \n",
              "G     0.500000  3.000000  14.750000  0.500000  1.250000   13.581250   \n",
              "\n",
              "      adult_male     alone  \n",
              "deck                        \n",
              "A       0.866667  0.800000  \n",
              "B       0.404255  0.468085  \n",
              "C       0.525424  0.372881  \n",
              "D       0.454545  0.393939  \n",
              "E       0.500000  0.531250  \n",
              "F       0.384615  0.538462  \n",
              "G       0.000000  0.000000  "
            ],
            "text/html": [
              "\n",
              "  <div id=\"df-14d65b4e-f494-4bc6-a0f0-a00c7c7609f8\">\n",
              "    <div class=\"colab-df-container\">\n",
              "      <div>\n",
              "<style scoped>\n",
              "    .dataframe tbody tr th:only-of-type {\n",
              "        vertical-align: middle;\n",
              "    }\n",
              "\n",
              "    .dataframe tbody tr th {\n",
              "        vertical-align: top;\n",
              "    }\n",
              "\n",
              "    .dataframe thead th {\n",
              "        text-align: right;\n",
              "    }\n",
              "</style>\n",
              "<table border=\"1\" class=\"dataframe\">\n",
              "  <thead>\n",
              "    <tr style=\"text-align: right;\">\n",
              "      <th></th>\n",
              "      <th>survived</th>\n",
              "      <th>pclass</th>\n",
              "      <th>age</th>\n",
              "      <th>sibsp</th>\n",
              "      <th>parch</th>\n",
              "      <th>fare</th>\n",
              "      <th>adult_male</th>\n",
              "      <th>alone</th>\n",
              "    </tr>\n",
              "    <tr>\n",
              "      <th>deck</th>\n",
              "      <th></th>\n",
              "      <th></th>\n",
              "      <th></th>\n",
              "      <th></th>\n",
              "      <th></th>\n",
              "      <th></th>\n",
              "      <th></th>\n",
              "      <th></th>\n",
              "    </tr>\n",
              "  </thead>\n",
              "  <tbody>\n",
              "    <tr>\n",
              "      <th>A</th>\n",
              "      <td>0.466667</td>\n",
              "      <td>1.000000</td>\n",
              "      <td>44.833333</td>\n",
              "      <td>0.133333</td>\n",
              "      <td>0.133333</td>\n",
              "      <td>39.623887</td>\n",
              "      <td>0.866667</td>\n",
              "      <td>0.800000</td>\n",
              "    </tr>\n",
              "    <tr>\n",
              "      <th>B</th>\n",
              "      <td>0.744681</td>\n",
              "      <td>1.000000</td>\n",
              "      <td>34.955556</td>\n",
              "      <td>0.361702</td>\n",
              "      <td>0.574468</td>\n",
              "      <td>113.505764</td>\n",
              "      <td>0.404255</td>\n",
              "      <td>0.468085</td>\n",
              "    </tr>\n",
              "    <tr>\n",
              "      <th>C</th>\n",
              "      <td>0.593220</td>\n",
              "      <td>1.000000</td>\n",
              "      <td>36.086667</td>\n",
              "      <td>0.644068</td>\n",
              "      <td>0.474576</td>\n",
              "      <td>100.151341</td>\n",
              "      <td>0.525424</td>\n",
              "      <td>0.372881</td>\n",
              "    </tr>\n",
              "    <tr>\n",
              "      <th>D</th>\n",
              "      <td>0.757576</td>\n",
              "      <td>1.121212</td>\n",
              "      <td>39.032258</td>\n",
              "      <td>0.424242</td>\n",
              "      <td>0.303030</td>\n",
              "      <td>57.244576</td>\n",
              "      <td>0.454545</td>\n",
              "      <td>0.393939</td>\n",
              "    </tr>\n",
              "    <tr>\n",
              "      <th>E</th>\n",
              "      <td>0.750000</td>\n",
              "      <td>1.312500</td>\n",
              "      <td>38.116667</td>\n",
              "      <td>0.312500</td>\n",
              "      <td>0.312500</td>\n",
              "      <td>46.026694</td>\n",
              "      <td>0.500000</td>\n",
              "      <td>0.531250</td>\n",
              "    </tr>\n",
              "    <tr>\n",
              "      <th>F</th>\n",
              "      <td>0.615385</td>\n",
              "      <td>2.384615</td>\n",
              "      <td>19.954545</td>\n",
              "      <td>0.538462</td>\n",
              "      <td>0.538462</td>\n",
              "      <td>18.696792</td>\n",
              "      <td>0.384615</td>\n",
              "      <td>0.538462</td>\n",
              "    </tr>\n",
              "    <tr>\n",
              "      <th>G</th>\n",
              "      <td>0.500000</td>\n",
              "      <td>3.000000</td>\n",
              "      <td>14.750000</td>\n",
              "      <td>0.500000</td>\n",
              "      <td>1.250000</td>\n",
              "      <td>13.581250</td>\n",
              "      <td>0.000000</td>\n",
              "      <td>0.000000</td>\n",
              "    </tr>\n",
              "  </tbody>\n",
              "</table>\n",
              "</div>\n",
              "      <button class=\"colab-df-convert\" onclick=\"convertToInteractive('df-14d65b4e-f494-4bc6-a0f0-a00c7c7609f8')\"\n",
              "              title=\"Convert this dataframe to an interactive table.\"\n",
              "              style=\"display:none;\">\n",
              "        \n",
              "  <svg xmlns=\"http://www.w3.org/2000/svg\" height=\"24px\"viewBox=\"0 0 24 24\"\n",
              "       width=\"24px\">\n",
              "    <path d=\"M0 0h24v24H0V0z\" fill=\"none\"/>\n",
              "    <path d=\"M18.56 5.44l.94 2.06.94-2.06 2.06-.94-2.06-.94-.94-2.06-.94 2.06-2.06.94zm-11 1L8.5 8.5l.94-2.06 2.06-.94-2.06-.94L8.5 2.5l-.94 2.06-2.06.94zm10 10l.94 2.06.94-2.06 2.06-.94-2.06-.94-.94-2.06-.94 2.06-2.06.94z\"/><path d=\"M17.41 7.96l-1.37-1.37c-.4-.4-.92-.59-1.43-.59-.52 0-1.04.2-1.43.59L10.3 9.45l-7.72 7.72c-.78.78-.78 2.05 0 2.83L4 21.41c.39.39.9.59 1.41.59.51 0 1.02-.2 1.41-.59l7.78-7.78 2.81-2.81c.8-.78.8-2.07 0-2.86zM5.41 20L4 18.59l7.72-7.72 1.47 1.35L5.41 20z\"/>\n",
              "  </svg>\n",
              "      </button>\n",
              "      \n",
              "  <style>\n",
              "    .colab-df-container {\n",
              "      display:flex;\n",
              "      flex-wrap:wrap;\n",
              "      gap: 12px;\n",
              "    }\n",
              "\n",
              "    .colab-df-convert {\n",
              "      background-color: #E8F0FE;\n",
              "      border: none;\n",
              "      border-radius: 50%;\n",
              "      cursor: pointer;\n",
              "      display: none;\n",
              "      fill: #1967D2;\n",
              "      height: 32px;\n",
              "      padding: 0 0 0 0;\n",
              "      width: 32px;\n",
              "    }\n",
              "\n",
              "    .colab-df-convert:hover {\n",
              "      background-color: #E2EBFA;\n",
              "      box-shadow: 0px 1px 2px rgba(60, 64, 67, 0.3), 0px 1px 3px 1px rgba(60, 64, 67, 0.15);\n",
              "      fill: #174EA6;\n",
              "    }\n",
              "\n",
              "    [theme=dark] .colab-df-convert {\n",
              "      background-color: #3B4455;\n",
              "      fill: #D2E3FC;\n",
              "    }\n",
              "\n",
              "    [theme=dark] .colab-df-convert:hover {\n",
              "      background-color: #434B5C;\n",
              "      box-shadow: 0px 1px 3px 1px rgba(0, 0, 0, 0.15);\n",
              "      filter: drop-shadow(0px 1px 2px rgba(0, 0, 0, 0.3));\n",
              "      fill: #FFFFFF;\n",
              "    }\n",
              "  </style>\n",
              "\n",
              "      <script>\n",
              "        const buttonEl =\n",
              "          document.querySelector('#df-14d65b4e-f494-4bc6-a0f0-a00c7c7609f8 button.colab-df-convert');\n",
              "        buttonEl.style.display =\n",
              "          google.colab.kernel.accessAllowed ? 'block' : 'none';\n",
              "\n",
              "        async function convertToInteractive(key) {\n",
              "          const element = document.querySelector('#df-14d65b4e-f494-4bc6-a0f0-a00c7c7609f8');\n",
              "          const dataTable =\n",
              "            await google.colab.kernel.invokeFunction('convertToInteractive',\n",
              "                                                     [key], {});\n",
              "          if (!dataTable) return;\n",
              "\n",
              "          const docLinkHtml = 'Like what you see? Visit the ' +\n",
              "            '<a target=\"_blank\" href=https://colab.research.google.com/notebooks/data_table.ipynb>data table notebook</a>'\n",
              "            + ' to learn more about interactive tables.';\n",
              "          element.innerHTML = '';\n",
              "          dataTable['output_type'] = 'display_data';\n",
              "          await google.colab.output.renderOutput(dataTable, element);\n",
              "          const docLink = document.createElement('div');\n",
              "          docLink.innerHTML = docLinkHtml;\n",
              "          element.appendChild(docLink);\n",
              "        }\n",
              "      </script>\n",
              "    </div>\n",
              "  </div>\n",
              "  "
            ]
          },
          "metadata": {},
          "execution_count": 39
        }
      ]
    },
    {
      "cell_type": "markdown",
      "source": [
        "`groupby`をして平均値を取るために必要なのは`age`と`fare`、  \n",
        "そしてマーカーの大きさを表す`survived`の3つです。\n",
        "\n",
        "`survived`をそのまま使うと値が小さいため、  \n",
        "値を1000倍した`survived_thousand`というカラムを追加します。\n"
      ],
      "metadata": {
        "id": "vLi5z_Kt1c2b"
      }
    },
    {
      "cell_type": "code",
      "source": [
        "df[\"survived_thousand\"] =df[\"survived\"]*1000"
      ],
      "metadata": {
        "id": "FCrGwXryHYii"
      },
      "execution_count": 40,
      "outputs": []
    },
    {
      "cell_type": "code",
      "source": [
        "df[\"age\"] = df[\"age\"].fillna(df[\"age\"].mean())  # 欠損値は平均値で置き換え\n",
        "survived_group_df = df.groupby(\"deck\").mean()[[\"age\",\"fare\",\"survived_thousand\"]]\n",
        "\n",
        "plt.xlabel(\"age\")\n",
        "plt.ylabel(\"fare\")\n",
        "plt.xlim(10,45)\n",
        "plt.ylim(0,130)\n",
        "\n",
        "plt.scatter(\"age\" , \"fare\" , data=survived_group_df)"
      ],
      "metadata": {
        "colab": {
          "base_uri": "https://localhost:8080/",
          "height": 294
        },
        "id": "w9ramgA7tv8u",
        "outputId": "df25453a-15c0-4c68-cf1e-3e82e9334205"
      },
      "execution_count": 41,
      "outputs": [
        {
          "output_type": "execute_result",
          "data": {
            "text/plain": [
              "<matplotlib.collections.PathCollection at 0x7f04a0051c10>"
            ]
          },
          "metadata": {},
          "execution_count": 41
        },
        {
          "output_type": "display_data",
          "data": {
            "text/plain": [
              "<Figure size 432x288 with 1 Axes>"
            ],
            "image/png": "[encoded data removed]"
          },
          "metadata": {
            "needs_background": "light"
          }
        }
      ]
    },
    {
      "cell_type": "markdown",
      "source": [
        "この状態だと、各グループの平均値がplotされています。\n",
        "\n",
        "ここからまず、マーカーの大きさを`survived_hundred`の値に応じて変化させます。  \n",
        "引数**`s`**を指定します。"
      ],
      "metadata": {
        "id": "JRNiiSWV52D3"
      }
    },
    {
      "cell_type": "code",
      "source": [
        "plt.xlabel(\"age\")\n",
        "plt.ylabel(\"fare\")\n",
        "plt.xlim(10,45)\n",
        "plt.ylim(0,130)\n",
        "\n",
        "plt.scatter(\"age\" , \"fare\" , s=\"survived_thousand\", data=survived_group_df)"
      ],
      "metadata": {
        "colab": {
          "base_uri": "https://localhost:8080/",
          "height": 294
        },
        "id": "PgPXj-i7uPW7",
        "outputId": "c62b1455-efa3-4598-f234-cf80accd9238"
      },
      "execution_count": 42,
      "outputs": [
        {
          "output_type": "execute_result",
          "data": {
            "text/plain": [
              "<matplotlib.collections.PathCollection at 0x7f049ff96e50>"
            ]
          },
          "metadata": {},
          "execution_count": 42
        },
        {
          "output_type": "display_data",
          "data": {
            "text/plain": [
              "<Figure size 432x288 with 1 Axes>"
            ],
            "image/png": "[encoded data removed]"
          },
          "metadata": {
            "needs_background": "light"
          }
        }
      ]
    },
    {
      "cell_type": "markdown",
      "source": [
        "引数**`c`**を指定することで、マーカーの色を割り振ることができます。  \n",
        "\n",
        "matplotlibには、数字を指定することで、数字ごとに色を変えるという機能があります。  \n",
        "これを使っていきましょう。"
      ],
      "metadata": {
        "id": "1D62bLnd6oCV"
      }
    },
    {
      "cell_type": "code",
      "source": [
        "c = np.arange(len(survived_group_df))\n",
        "\n",
        "plt.xlabel(\"age\")\n",
        "plt.ylabel(\"fare\")\n",
        "plt.xlim(10,45)\n",
        "plt.ylim(0,130)\n",
        "\n",
        "plt.scatter(\"age\" , \"fare\" , s=\"survived_thousand\", c=c , data=survived_group_df)"
      ],
      "metadata": {
        "colab": {
          "base_uri": "https://localhost:8080/",
          "height": 294
        },
        "id": "U5bgIraeuYTL",
        "outputId": "84687e59-647d-486e-d3d8-b2500330bc12"
      },
      "execution_count": 43,
      "outputs": [
        {
          "output_type": "execute_result",
          "data": {
            "text/plain": [
              "<matplotlib.collections.PathCollection at 0x7f049dcf37f0>"
            ]
          },
          "metadata": {},
          "execution_count": 43
        },
        {
          "output_type": "display_data",
          "data": {
            "text/plain": [
              "<Figure size 432x288 with 1 Axes>"
            ],
            "image/png": "[encoded data removed]"
          },
          "metadata": {
            "needs_background": "light"
          }
        }
      ]
    },
    {
      "cell_type": "markdown",
      "source": [
        "このままだと各マーカーがどのグループを表しているか分からないので、テキストを挿入します。\n",
        "\n",
        "テキストをplotするには**`plt.annotate()`**という関数を使います。  \n",
        "挿入するテキストの指定後、タプルで挿入する座標を指定します。\n"
      ],
      "metadata": {
        "id": "KiitnU_rNNlM"
      }
    },
    {
      "cell_type": "code",
      "source": [
        "c = np.arange(len(survived_group_df))\n",
        "\n",
        "plt.xlabel(\"age\")\n",
        "plt.ylabel(\"fare\")\n",
        "plt.xlim(10,45)\n",
        "plt.ylim(0,130)\n",
        "\n",
        "plt.scatter(\"age\" , \"fare\" , s=\"survived_thousand\", c=c , data=survived_group_df)\n",
        "plt.annotate(\"hello\" , (40,100))  # 図の右上に「hello」というテキストをplot"
      ],
      "metadata": {
        "id": "hhKbJuCYOHDh",
        "colab": {
          "base_uri": "https://localhost:8080/",
          "height": 294
        },
        "outputId": "9826bb52-bd9a-4bb1-e55d-2d88451ee23b"
      },
      "execution_count": 44,
      "outputs": [
        {
          "output_type": "execute_result",
          "data": {
            "text/plain": [
              "Text(40, 100, 'hello')"
            ]
          },
          "metadata": {},
          "execution_count": 44
        },
        {
          "output_type": "display_data",
          "data": {
            "text/plain": [
              "<Figure size 432x288 with 1 Axes>"
            ],
            "image/png": "[encoded data removed]"
          },
          "metadata": {
            "needs_background": "light"
          }
        }
      ]
    },
    {
      "cell_type": "code",
      "source": [
        "survived_group_df = df.groupby(\"deck\").mean()[[\"age\",\"fare\",\"survived_thousand\"]]\n",
        "c = np.arange(len(survived_group_df))\n",
        "\n",
        "plt.xlabel(\"age\")\n",
        "plt.ylabel(\"fare\")\n",
        "plt.xlim(10,45)\n",
        "plt.ylim(0,130)\n",
        "\n",
        "plt.scatter(\"age\" , \"fare\" , s=\"survived_thousand\", c=c , data=survived_group_df)\n",
        "\n",
        "for idx, row in survived_group_df.iterrows():\n",
        "    plt.annotate(idx, (row['age']-3, row['fare']-3) ,size = 12)\n",
        "plt.xlabel('age')\n",
        "plt.ylabel('fare')"
      ],
      "metadata": {
        "id": "hnGd4cOgZxtv",
        "colab": {
          "base_uri": "https://localhost:8080/",
          "height": 294
        },
        "outputId": "12cc4b01-cab8-4d77-c9c0-0863f32303a6"
      },
      "execution_count": 45,
      "outputs": [
        {
          "output_type": "execute_result",
          "data": {
            "text/plain": [
              "Text(0, 0.5, 'fare')"
            ]
          },
          "metadata": {},
          "execution_count": 45
        },
        {
          "output_type": "display_data",
          "data": {
            "text/plain": [
              "<Figure size 432x288 with 1 Axes>"
            ],
            "image/png": "[encoded data removed]"
          },
          "metadata": {
            "needs_background": "light"
          }
        }
      ]
    },
    {
      "cell_type": "markdown",
      "source": [
        "今回はマーカーの大きさがほとんど変わらなかったですが、  \n",
        "この大きさが変わるとより分かりやすくなるはずです。"
      ],
      "metadata": {
        "id": "WEyXBYOC1eUu"
      }
    },
    {
      "cell_type": "markdown",
      "source": [
        "## ヒストグラム\n",
        "連続データをいくつかのグループに分け、  \n",
        "そのグループにデータがどれだけあるかを棒状で表したグラフを**ヒストグラム**といいます。\n",
        "\n",
        "縦軸は**度数**（データの個数）、横軸は**階級**（データの区間）です。  \n",
        "階級は特に**bin**とも呼ばれます。"
      ],
      "metadata": {
        "id": "hsASGRMMQnES"
      }
    },
    {
      "cell_type": "code",
      "source": [
        "df = sns.load_dataset('titanic')\n",
        "df.head(3)"
      ],
      "metadata": {
        "id": "rxeeNu30JFBC",
        "colab": {
          "base_uri": "https://localhost:8080/",
          "height": 207
        },
        "outputId": "3402b0b3-a3fe-4741-ec8f-b8187cae6b80"
      },
      "execution_count": 46,
      "outputs": [
        {
          "output_type": "execute_result",
          "data": {
            "text/plain": [
              "   survived  pclass     sex   age  sibsp  parch     fare embarked  class  \\\n",
              "0         0       3    male  22.0      1      0   7.2500        S  Third   \n",
              "1         1       1  female  38.0      1      0  71.2833        C  First   \n",
              "2         1       3  female  26.0      0      0   7.9250        S  Third   \n",
              "\n",
              "     who  adult_male deck  embark_town alive  alone  \n",
              "0    man        True  NaN  Southampton    no  False  \n",
              "1  woman       False    C    Cherbourg   yes  False  \n",
              "2  woman       False  NaN  Southampton   yes   True  "
            ],
            "text/html": [
              "\n",
              "  <div id=\"df-85c1066d-7988-422c-acbb-949e3428744e\">\n",
              "    <div class=\"colab-df-container\">\n",
              "      <div>\n",
              "<style scoped>\n",
              "    .dataframe tbody tr th:only-of-type {\n",
              "        vertical-align: middle;\n",
              "    }\n",
              "\n",
              "    .dataframe tbody tr th {\n",
              "        vertical-align: top;\n",
              "    }\n",
              "\n",
              "    .dataframe thead th {\n",
              "        text-align: right;\n",
              "    }\n",
              "</style>\n",
              "<table border=\"1\" class=\"dataframe\">\n",
              "  <thead>\n",
              "    <tr style=\"text-align: right;\">\n",
              "      <th></th>\n",
              "      <th>survived</th>\n",
              "      <th>pclass</th>\n",
              "      <th>sex</th>\n",
              "      <th>age</th>\n",
              "      <th>sibsp</th>\n",
              "      <th>parch</th>\n",
              "      <th>fare</th>\n",
              "      <th>embarked</th>\n",
              "      <th>class</th>\n",
              "      <th>who</th>\n",
              "      <th>adult_male</th>\n",
              "      <th>deck</th>\n",
              "      <th>embark_town</th>\n",
              "      <th>alive</th>\n",
              "      <th>alone</th>\n",
              "    </tr>\n",
              "  </thead>\n",
              "  <tbody>\n",
              "    <tr>\n",
              "      <th>0</th>\n",
              "      <td>0</td>\n",
              "      <td>3</td>\n",
              "      <td>male</td>\n",
              "      <td>22.0</td>\n",
              "      <td>1</td>\n",
              "      <td>0</td>\n",
              "      <td>7.2500</td>\n",
              "      <td>S</td>\n",
              "      <td>Third</td>\n",
              "      <td>man</td>\n",
              "      <td>True</td>\n",
              "      <td>NaN</td>\n",
              "      <td>Southampton</td>\n",
              "      <td>no</td>\n",
              "      <td>False</td>\n",
              "    </tr>\n",
              "    <tr>\n",
              "      <th>1</th>\n",
              "      <td>1</td>\n",
              "      <td>1</td>\n",
              "      <td>female</td>\n",
              "      <td>38.0</td>\n",
              "      <td>1</td>\n",
              "      <td>0</td>\n",
              "      <td>71.2833</td>\n",
              "      <td>C</td>\n",
              "      <td>First</td>\n",
              "      <td>woman</td>\n",
              "      <td>False</td>\n",
              "      <td>C</td>\n",
              "      <td>Cherbourg</td>\n",
              "      <td>yes</td>\n",
              "      <td>False</td>\n",
              "    </tr>\n",
              "    <tr>\n",
              "      <th>2</th>\n",
              "      <td>1</td>\n",
              "      <td>3</td>\n",
              "      <td>female</td>\n",
              "      <td>26.0</td>\n",
              "      <td>0</td>\n",
              "      <td>0</td>\n",
              "      <td>7.9250</td>\n",
              "      <td>S</td>\n",
              "      <td>Third</td>\n",
              "      <td>woman</td>\n",
              "      <td>False</td>\n",
              "      <td>NaN</td>\n",
              "      <td>Southampton</td>\n",
              "      <td>yes</td>\n",
              "      <td>True</td>\n",
              "    </tr>\n",
              "  </tbody>\n",
              "</table>\n",
              "</div>\n",
              "      <button class=\"colab-df-convert\" onclick=\"convertToInteractive('df-85c1066d-7988-422c-acbb-949e3428744e')\"\n",
              "              title=\"Convert this dataframe to an interactive table.\"\n",
              "              style=\"display:none;\">\n",
              "        \n",
              "  <svg xmlns=\"http://www.w3.org/2000/svg\" height=\"24px\"viewBox=\"0 0 24 24\"\n",
              "       width=\"24px\">\n",
              "    <path d=\"M0 0h24v24H0V0z\" fill=\"none\"/>\n",
              "    <path d=\"M18.56 5.44l.94 2.06.94-2.06 2.06-.94-2.06-.94-.94-2.06-.94 2.06-2.06.94zm-11 1L8.5 8.5l.94-2.06 2.06-.94-2.06-.94L8.5 2.5l-.94 2.06-2.06.94zm10 10l.94 2.06.94-2.06 2.06-.94-2.06-.94-.94-2.06-.94 2.06-2.06.94z\"/><path d=\"M17.41 7.96l-1.37-1.37c-.4-.4-.92-.59-1.43-.59-.52 0-1.04.2-1.43.59L10.3 9.45l-7.72 7.72c-.78.78-.78 2.05 0 2.83L4 21.41c.39.39.9.59 1.41.59.51 0 1.02-.2 1.41-.59l7.78-7.78 2.81-2.81c.8-.78.8-2.07 0-2.86zM5.41 20L4 18.59l7.72-7.72 1.47 1.35L5.41 20z\"/>\n",
              "  </svg>\n",
              "      </button>\n",
              "      \n",
              "  <style>\n",
              "    .colab-df-container {\n",
              "      display:flex;\n",
              "      flex-wrap:wrap;\n",
              "      gap: 12px;\n",
              "    }\n",
              "\n",
              "    .colab-df-convert {\n",
              "      background-color: #E8F0FE;\n",
              "      border: none;\n",
              "      border-radius: 50%;\n",
              "      cursor: pointer;\n",
              "      display: none;\n",
              "      fill: #1967D2;\n",
              "      height: 32px;\n",
              "      padding: 0 0 0 0;\n",
              "      width: 32px;\n",
              "    }\n",
              "\n",
              "    .colab-df-convert:hover {\n",
              "      background-color: #E2EBFA;\n",
              "      box-shadow: 0px 1px 2px rgba(60, 64, 67, 0.3), 0px 1px 3px 1px rgba(60, 64, 67, 0.15);\n",
              "      fill: #174EA6;\n",
              "    }\n",
              "\n",
              "    [theme=dark] .colab-df-convert {\n",
              "      background-color: #3B4455;\n",
              "      fill: #D2E3FC;\n",
              "    }\n",
              "\n",
              "    [theme=dark] .colab-df-convert:hover {\n",
              "      background-color: #434B5C;\n",
              "      box-shadow: 0px 1px 3px 1px rgba(0, 0, 0, 0.15);\n",
              "      filter: drop-shadow(0px 1px 2px rgba(0, 0, 0, 0.3));\n",
              "      fill: #FFFFFF;\n",
              "    }\n",
              "  </style>\n",
              "\n",
              "      <script>\n",
              "        const buttonEl =\n",
              "          document.querySelector('#df-85c1066d-7988-422c-acbb-949e3428744e button.colab-df-convert');\n",
              "        buttonEl.style.display =\n",
              "          google.colab.kernel.accessAllowed ? 'block' : 'none';\n",
              "\n",
              "        async function convertToInteractive(key) {\n",
              "          const element = document.querySelector('#df-85c1066d-7988-422c-acbb-949e3428744e');\n",
              "          const dataTable =\n",
              "            await google.colab.kernel.invokeFunction('convertToInteractive',\n",
              "                                                     [key], {});\n",
              "          if (!dataTable) return;\n",
              "\n",
              "          const docLinkHtml = 'Like what you see? Visit the ' +\n",
              "            '<a target=\"_blank\" href=https://colab.research.google.com/notebooks/data_table.ipynb>data table notebook</a>'\n",
              "            + ' to learn more about interactive tables.';\n",
              "          element.innerHTML = '';\n",
              "          dataTable['output_type'] = 'display_data';\n",
              "          await google.colab.output.renderOutput(dataTable, element);\n",
              "          const docLink = document.createElement('div');\n",
              "          docLink.innerHTML = docLinkHtml;\n",
              "          element.appendChild(docLink);\n",
              "        }\n",
              "      </script>\n",
              "    </div>\n",
              "  </div>\n",
              "  "
            ]
          },
          "metadata": {},
          "execution_count": 46
        }
      ]
    },
    {
      "cell_type": "markdown",
      "source": [
        "### plt.hist()\n",
        "ヒストグラムを作るには**`plt.hist()`**関数を使います。  \n",
        "今回は、`age`カラムのデータをヒストグラム化します。"
      ],
      "metadata": {
        "id": "FYG8LSEGJNhU"
      }
    },
    {
      "cell_type": "code",
      "source": [
        "plt.hist(df[\"age\"] )\n",
        "plt.show()  # 書くことで戻り値を省略可能"
      ],
      "metadata": {
        "id": "-r4wi_lHJ9nQ",
        "colab": {
          "base_uri": "https://localhost:8080/",
          "height": 264
        },
        "outputId": "1435413b-cbb9-4fd8-f7da-d75903055ee1"
      },
      "execution_count": 47,
      "outputs": [
        {
          "output_type": "display_data",
          "data": {
            "text/plain": [
              "<Figure size 432x288 with 1 Axes>"
            ],
            "image/png": "[encoded data removed]"
          },
          "metadata": {
            "needs_background": "light"
          }
        }
      ]
    },
    {
      "cell_type": "markdown",
      "source": [
        "引数**`bins`**を指定すると、区間の個数を指定することができます。  \n",
        "デフォルトは10個です。"
      ],
      "metadata": {
        "id": "ZalMuxguL5O8"
      }
    },
    {
      "cell_type": "code",
      "source": [
        "plt.hist(df[\"age\"], bins=8)\n",
        "plt.show() "
      ],
      "metadata": {
        "id": "3_jcMGn_MEfj",
        "colab": {
          "base_uri": "https://localhost:8080/",
          "height": 264
        },
        "outputId": "08b3772c-398c-4b53-fd96-fc7a95575642"
      },
      "execution_count": 48,
      "outputs": [
        {
          "output_type": "display_data",
          "data": {
            "text/plain": [
              "<Figure size 432x288 with 1 Axes>"
            ],
            "image/png": "[encoded data removed]"
          },
          "metadata": {
            "needs_background": "light"
          }
        }
      ]
    },
    {
      "cell_type": "markdown",
      "source": [
        "引数**`range`**を指定すると、ヒストグラムに使用するデータの範囲を指定することができます。   \n",
        "range(最小値,最大値)の形になります。\n",
        "\n",
        "デフォルトではデータの最小値・最大値が使用されています。\n"
      ],
      "metadata": {
        "id": "czFuWBtwMYCT"
      }
    },
    {
      "cell_type": "code",
      "source": [
        "plt.hist(df[\"age\"] ,bins=8,range=(10,50))\n",
        "plt.show() "
      ],
      "metadata": {
        "id": "OsNlRiHROBZZ",
        "colab": {
          "base_uri": "https://localhost:8080/",
          "height": 264
        },
        "outputId": "f2cbcc73-528b-4e0e-e57e-b81375fa879c"
      },
      "execution_count": 49,
      "outputs": [
        {
          "output_type": "display_data",
          "data": {
            "text/plain": [
              "<Figure size 432x288 with 1 Axes>"
            ],
            "image/png": "[encoded data removed]"
          },
          "metadata": {
            "needs_background": "light"
          }
        }
      ]
    },
    {
      "cell_type": "markdown",
      "source": [
        "ヒストグラムについてさらに学びたい方は、[こちら](https://www.yutaka-note.com/entry/matplotlib_hist#%E6%A8%AA%E8%BB%B8%E3%82%92%E5%AF%BE%E6%95%B0%E3%81%AB%E8%A8%AD%E5%AE%9Abins--nplogspace:~:text=%E7%9B%AE%E6%AC%A1%E3%81%B8%E6%88%BB%E3%82%8B-,%E6%A8%AA%E8%BB%B8%E3%82%92%E5%AF%BE%E6%95%B0%E3%81%AB%E8%A8%AD%E5%AE%9A%EF%BC%9Abins%20%3D%20np.logspace(),-%E6%A8%AA%E8%BB%B8%E3%82%92)が参考になると思います。  \n",
        "特に**横軸を対数に設定する方法**については、今後使う場面があるかもしれません。"
      ],
      "metadata": {
        "id": "_fmmpBrSRebx"
      }
    },
    {
      "cell_type": "markdown",
      "source": [
        "## 棒グラフ\n",
        "連続データを対象にしているヒストグラムとは対照的に、  \n",
        "カテゴリー別のデータを比較し、棒の高さでデータの大小を表したグラフを  \n",
        "**棒グラフ**といいます。\n"
      ],
      "metadata": {
        "id": "A9Mrgh3xSBWX"
      }
    },
    {
      "cell_type": "code",
      "source": [
        "df = sns.load_dataset('titanic')\n",
        "df.head(3)"
      ],
      "metadata": {
        "colab": {
          "base_uri": "https://localhost:8080/",
          "height": 207
        },
        "id": "wRMpUbxuUApH",
        "outputId": "f8ed5458-6462-491d-f0fb-700107f75fd8"
      },
      "execution_count": 50,
      "outputs": [
        {
          "output_type": "execute_result",
          "data": {
            "text/plain": [
              "   survived  pclass     sex   age  sibsp  parch     fare embarked  class  \\\n",
              "0         0       3    male  22.0      1      0   7.2500        S  Third   \n",
              "1         1       1  female  38.0      1      0  71.2833        C  First   \n",
              "2         1       3  female  26.0      0      0   7.9250        S  Third   \n",
              "\n",
              "     who  adult_male deck  embark_town alive  alone  \n",
              "0    man        True  NaN  Southampton    no  False  \n",
              "1  woman       False    C    Cherbourg   yes  False  \n",
              "2  woman       False  NaN  Southampton   yes   True  "
            ],
            "text/html": [
              "\n",
              "  <div id=\"df-4144012b-446b-44ab-aa06-03d2b775031d\">\n",
              "    <div class=\"colab-df-container\">\n",
              "      <div>\n",
              "<style scoped>\n",
              "    .dataframe tbody tr th:only-of-type {\n",
              "        vertical-align: middle;\n",
              "    }\n",
              "\n",
              "    .dataframe tbody tr th {\n",
              "        vertical-align: top;\n",
              "    }\n",
              "\n",
              "    .dataframe thead th {\n",
              "        text-align: right;\n",
              "    }\n",
              "</style>\n",
              "<table border=\"1\" class=\"dataframe\">\n",
              "  <thead>\n",
              "    <tr style=\"text-align: right;\">\n",
              "      <th></th>\n",
              "      <th>survived</th>\n",
              "      <th>pclass</th>\n",
              "      <th>sex</th>\n",
              "      <th>age</th>\n",
              "      <th>sibsp</th>\n",
              "      <th>parch</th>\n",
              "      <th>fare</th>\n",
              "      <th>embarked</th>\n",
              "      <th>class</th>\n",
              "      <th>who</th>\n",
              "      <th>adult_male</th>\n",
              "      <th>deck</th>\n",
              "      <th>embark_town</th>\n",
              "      <th>alive</th>\n",
              "      <th>alone</th>\n",
              "    </tr>\n",
              "  </thead>\n",
              "  <tbody>\n",
              "    <tr>\n",
              "      <th>0</th>\n",
              "      <td>0</td>\n",
              "      <td>3</td>\n",
              "      <td>male</td>\n",
              "      <td>22.0</td>\n",
              "      <td>1</td>\n",
              "      <td>0</td>\n",
              "      <td>7.2500</td>\n",
              "      <td>S</td>\n",
              "      <td>Third</td>\n",
              "      <td>man</td>\n",
              "      <td>True</td>\n",
              "      <td>NaN</td>\n",
              "      <td>Southampton</td>\n",
              "      <td>no</td>\n",
              "      <td>False</td>\n",
              "    </tr>\n",
              "    <tr>\n",
              "      <th>1</th>\n",
              "      <td>1</td>\n",
              "      <td>1</td>\n",
              "      <td>female</td>\n",
              "      <td>38.0</td>\n",
              "      <td>1</td>\n",
              "      <td>0</td>\n",
              "      <td>71.2833</td>\n",
              "      <td>C</td>\n",
              "      <td>First</td>\n",
              "      <td>woman</td>\n",
              "      <td>False</td>\n",
              "      <td>C</td>\n",
              "      <td>Cherbourg</td>\n",
              "      <td>yes</td>\n",
              "      <td>False</td>\n",
              "    </tr>\n",
              "    <tr>\n",
              "      <th>2</th>\n",
              "      <td>1</td>\n",
              "      <td>3</td>\n",
              "      <td>female</td>\n",
              "      <td>26.0</td>\n",
              "      <td>0</td>\n",
              "      <td>0</td>\n",
              "      <td>7.9250</td>\n",
              "      <td>S</td>\n",
              "      <td>Third</td>\n",
              "      <td>woman</td>\n",
              "      <td>False</td>\n",
              "      <td>NaN</td>\n",
              "      <td>Southampton</td>\n",
              "      <td>yes</td>\n",
              "      <td>True</td>\n",
              "    </tr>\n",
              "  </tbody>\n",
              "</table>\n",
              "</div>\n",
              "      <button class=\"colab-df-convert\" onclick=\"convertToInteractive('df-4144012b-446b-44ab-aa06-03d2b775031d')\"\n",
              "              title=\"Convert this dataframe to an interactive table.\"\n",
              "              style=\"display:none;\">\n",
              "        \n",
              "  <svg xmlns=\"http://www.w3.org/2000/svg\" height=\"24px\"viewBox=\"0 0 24 24\"\n",
              "       width=\"24px\">\n",
              "    <path d=\"M0 0h24v24H0V0z\" fill=\"none\"/>\n",
              "    <path d=\"M18.56 5.44l.94 2.06.94-2.06 2.06-.94-2.06-.94-.94-2.06-.94 2.06-2.06.94zm-11 1L8.5 8.5l.94-2.06 2.06-.94-2.06-.94L8.5 2.5l-.94 2.06-2.06.94zm10 10l.94 2.06.94-2.06 2.06-.94-2.06-.94-.94-2.06-.94 2.06-2.06.94z\"/><path d=\"M17.41 7.96l-1.37-1.37c-.4-.4-.92-.59-1.43-.59-.52 0-1.04.2-1.43.59L10.3 9.45l-7.72 7.72c-.78.78-.78 2.05 0 2.83L4 21.41c.39.39.9.59 1.41.59.51 0 1.02-.2 1.41-.59l7.78-7.78 2.81-2.81c.8-.78.8-2.07 0-2.86zM5.41 20L4 18.59l7.72-7.72 1.47 1.35L5.41 20z\"/>\n",
              "  </svg>\n",
              "      </button>\n",
              "      \n",
              "  <style>\n",
              "    .colab-df-container {\n",
              "      display:flex;\n",
              "      flex-wrap:wrap;\n",
              "      gap: 12px;\n",
              "    }\n",
              "\n",
              "    .colab-df-convert {\n",
              "      background-color: #E8F0FE;\n",
              "      border: none;\n",
              "      border-radius: 50%;\n",
              "      cursor: pointer;\n",
              "      display: none;\n",
              "      fill: #1967D2;\n",
              "      height: 32px;\n",
              "      padding: 0 0 0 0;\n",
              "      width: 32px;\n",
              "    }\n",
              "\n",
              "    .colab-df-convert:hover {\n",
              "      background-color: #E2EBFA;\n",
              "      box-shadow: 0px 1px 2px rgba(60, 64, 67, 0.3), 0px 1px 3px 1px rgba(60, 64, 67, 0.15);\n",
              "      fill: #174EA6;\n",
              "    }\n",
              "\n",
              "    [theme=dark] .colab-df-convert {\n",
              "      background-color: #3B4455;\n",
              "      fill: #D2E3FC;\n",
              "    }\n",
              "\n",
              "    [theme=dark] .colab-df-convert:hover {\n",
              "      background-color: #434B5C;\n",
              "      box-shadow: 0px 1px 3px 1px rgba(0, 0, 0, 0.15);\n",
              "      filter: drop-shadow(0px 1px 2px rgba(0, 0, 0, 0.3));\n",
              "      fill: #FFFFFF;\n",
              "    }\n",
              "  </style>\n",
              "\n",
              "      <script>\n",
              "        const buttonEl =\n",
              "          document.querySelector('#df-4144012b-446b-44ab-aa06-03d2b775031d button.colab-df-convert');\n",
              "        buttonEl.style.display =\n",
              "          google.colab.kernel.accessAllowed ? 'block' : 'none';\n",
              "\n",
              "        async function convertToInteractive(key) {\n",
              "          const element = document.querySelector('#df-4144012b-446b-44ab-aa06-03d2b775031d');\n",
              "          const dataTable =\n",
              "            await google.colab.kernel.invokeFunction('convertToInteractive',\n",
              "                                                     [key], {});\n",
              "          if (!dataTable) return;\n",
              "\n",
              "          const docLinkHtml = 'Like what you see? Visit the ' +\n",
              "            '<a target=\"_blank\" href=https://colab.research.google.com/notebooks/data_table.ipynb>data table notebook</a>'\n",
              "            + ' to learn more about interactive tables.';\n",
              "          element.innerHTML = '';\n",
              "          dataTable['output_type'] = 'display_data';\n",
              "          await google.colab.output.renderOutput(dataTable, element);\n",
              "          const docLink = document.createElement('div');\n",
              "          docLink.innerHTML = docLinkHtml;\n",
              "          element.appendChild(docLink);\n",
              "        }\n",
              "      </script>\n",
              "    </div>\n",
              "  </div>\n",
              "  "
            ]
          },
          "metadata": {},
          "execution_count": 50
        }
      ]
    },
    {
      "cell_type": "markdown",
      "source": [
        "`pclass`（客室等級）カラムに対しての、  \n",
        "男性・女性・子供の数を見てみましょう。"
      ],
      "metadata": {
        "id": "mxZLSPUckG2d"
      }
    },
    {
      "cell_type": "code",
      "source": [
        "chi = lambda passenger :  \"child\" if passenger[0] < 16 else passenger[1]\n",
        "\n",
        "df[\"age\"] = df[\"age\"].fillna(df[\"age\"].mean())\n",
        "df[\"person\"] = df[[\"age\",\"sex\"]].apply(chi , axis=1)\n",
        "df[[\"age\",\"sex\",\"person\"]][7:10]"
      ],
      "metadata": {
        "colab": {
          "base_uri": "https://localhost:8080/",
          "height": 143
        },
        "id": "mv9ImHBviocV",
        "outputId": "7ef75848-6223-4204-bbab-a3032a470b3e"
      },
      "execution_count": 51,
      "outputs": [
        {
          "output_type": "execute_result",
          "data": {
            "text/plain": [
              "    age     sex  person\n",
              "7   2.0    male   child\n",
              "8  27.0  female  female\n",
              "9  14.0  female   child"
            ],
            "text/html": [
              "\n",
              "  <div id=\"df-09337a4d-6dda-466f-be94-47bb51a20e2e\">\n",
              "    <div class=\"colab-df-container\">\n",
              "      <div>\n",
              "<style scoped>\n",
              "    .dataframe tbody tr th:only-of-type {\n",
              "        vertical-align: middle;\n",
              "    }\n",
              "\n",
              "    .dataframe tbody tr th {\n",
              "        vertical-align: top;\n",
              "    }\n",
              "\n",
              "    .dataframe thead th {\n",
              "        text-align: right;\n",
              "    }\n",
              "</style>\n",
              "<table border=\"1\" class=\"dataframe\">\n",
              "  <thead>\n",
              "    <tr style=\"text-align: right;\">\n",
              "      <th></th>\n",
              "      <th>age</th>\n",
              "      <th>sex</th>\n",
              "      <th>person</th>\n",
              "    </tr>\n",
              "  </thead>\n",
              "  <tbody>\n",
              "    <tr>\n",
              "      <th>7</th>\n",
              "      <td>2.0</td>\n",
              "      <td>male</td>\n",
              "      <td>child</td>\n",
              "    </tr>\n",
              "    <tr>\n",
              "      <th>8</th>\n",
              "      <td>27.0</td>\n",
              "      <td>female</td>\n",
              "      <td>female</td>\n",
              "    </tr>\n",
              "    <tr>\n",
              "      <th>9</th>\n",
              "      <td>14.0</td>\n",
              "      <td>female</td>\n",
              "      <td>child</td>\n",
              "    </tr>\n",
              "  </tbody>\n",
              "</table>\n",
              "</div>\n",
              "      <button class=\"colab-df-convert\" onclick=\"convertToInteractive('df-09337a4d-6dda-466f-be94-47bb51a20e2e')\"\n",
              "              title=\"Convert this dataframe to an interactive table.\"\n",
              "              style=\"display:none;\">\n",
              "        \n",
              "  <svg xmlns=\"http://www.w3.org/2000/svg\" height=\"24px\"viewBox=\"0 0 24 24\"\n",
              "       width=\"24px\">\n",
              "    <path d=\"M0 0h24v24H0V0z\" fill=\"none\"/>\n",
              "    <path d=\"M18.56 5.44l.94 2.06.94-2.06 2.06-.94-2.06-.94-.94-2.06-.94 2.06-2.06.94zm-11 1L8.5 8.5l.94-2.06 2.06-.94-2.06-.94L8.5 2.5l-.94 2.06-2.06.94zm10 10l.94 2.06.94-2.06 2.06-.94-2.06-.94-.94-2.06-.94 2.06-2.06.94z\"/><path d=\"M17.41 7.96l-1.37-1.37c-.4-.4-.92-.59-1.43-.59-.52 0-1.04.2-1.43.59L10.3 9.45l-7.72 7.72c-.78.78-.78 2.05 0 2.83L4 21.41c.39.39.9.59 1.41.59.51 0 1.02-.2 1.41-.59l7.78-7.78 2.81-2.81c.8-.78.8-2.07 0-2.86zM5.41 20L4 18.59l7.72-7.72 1.47 1.35L5.41 20z\"/>\n",
              "  </svg>\n",
              "      </button>\n",
              "      \n",
              "  <style>\n",
              "    .colab-df-container {\n",
              "      display:flex;\n",
              "      flex-wrap:wrap;\n",
              "      gap: 12px;\n",
              "    }\n",
              "\n",
              "    .colab-df-convert {\n",
              "      background-color: #E8F0FE;\n",
              "      border: none;\n",
              "      border-radius: 50%;\n",
              "      cursor: pointer;\n",
              "      display: none;\n",
              "      fill: #1967D2;\n",
              "      height: 32px;\n",
              "      padding: 0 0 0 0;\n",
              "      width: 32px;\n",
              "    }\n",
              "\n",
              "    .colab-df-convert:hover {\n",
              "      background-color: #E2EBFA;\n",
              "      box-shadow: 0px 1px 2px rgba(60, 64, 67, 0.3), 0px 1px 3px 1px rgba(60, 64, 67, 0.15);\n",
              "      fill: #174EA6;\n",
              "    }\n",
              "\n",
              "    [theme=dark] .colab-df-convert {\n",
              "      background-color: #3B4455;\n",
              "      fill: #D2E3FC;\n",
              "    }\n",
              "\n",
              "    [theme=dark] .colab-df-convert:hover {\n",
              "      background-color: #434B5C;\n",
              "      box-shadow: 0px 1px 3px 1px rgba(0, 0, 0, 0.15);\n",
              "      filter: drop-shadow(0px 1px 2px rgba(0, 0, 0, 0.3));\n",
              "      fill: #FFFFFF;\n",
              "    }\n",
              "  </style>\n",
              "\n",
              "      <script>\n",
              "        const buttonEl =\n",
              "          document.querySelector('#df-09337a4d-6dda-466f-be94-47bb51a20e2e button.colab-df-convert');\n",
              "        buttonEl.style.display =\n",
              "          google.colab.kernel.accessAllowed ? 'block' : 'none';\n",
              "\n",
              "        async function convertToInteractive(key) {\n",
              "          const element = document.querySelector('#df-09337a4d-6dda-466f-be94-47bb51a20e2e');\n",
              "          const dataTable =\n",
              "            await google.colab.kernel.invokeFunction('convertToInteractive',\n",
              "                                                     [key], {});\n",
              "          if (!dataTable) return;\n",
              "\n",
              "          const docLinkHtml = 'Like what you see? Visit the ' +\n",
              "            '<a target=\"_blank\" href=https://colab.research.google.com/notebooks/data_table.ipynb>data table notebook</a>'\n",
              "            + ' to learn more about interactive tables.';\n",
              "          element.innerHTML = '';\n",
              "          dataTable['output_type'] = 'display_data';\n",
              "          await google.colab.output.renderOutput(dataTable, element);\n",
              "          const docLink = document.createElement('div');\n",
              "          docLink.innerHTML = docLinkHtml;\n",
              "          element.appendChild(docLink);\n",
              "        }\n",
              "      </script>\n",
              "    </div>\n",
              "  </div>\n",
              "  "
            ]
          },
          "metadata": {},
          "execution_count": 51
        }
      ]
    },
    {
      "cell_type": "code",
      "source": [
        "# クロス集計表の作成\n",
        "cross_df = pd.crosstab(df[\"pclass\"],df[\"person\"])\n",
        "cross_df"
      ],
      "metadata": {
        "colab": {
          "base_uri": "https://localhost:8080/",
          "height": 175
        },
        "id": "4fAZsYVLeYPv",
        "outputId": "9d13b983-08be-4263-8c2e-7a77823fd61d"
      },
      "execution_count": 52,
      "outputs": [
        {
          "output_type": "execute_result",
          "data": {
            "text/plain": [
              "person  child  female  male\n",
              "pclass                     \n",
              "1           6      91   119\n",
              "2          19      66    99\n",
              "3          58     114   319"
            ],
            "text/html": [
              "\n",
              "  <div id=\"df-ffe4ab6e-f3d6-4403-8553-a9fa9af0813c\">\n",
              "    <div class=\"colab-df-container\">\n",
              "      <div>\n",
              "<style scoped>\n",
              "    .dataframe tbody tr th:only-of-type {\n",
              "        vertical-align: middle;\n",
              "    }\n",
              "\n",
              "    .dataframe tbody tr th {\n",
              "        vertical-align: top;\n",
              "    }\n",
              "\n",
              "    .dataframe thead th {\n",
              "        text-align: right;\n",
              "    }\n",
              "</style>\n",
              "<table border=\"1\" class=\"dataframe\">\n",
              "  <thead>\n",
              "    <tr style=\"text-align: right;\">\n",
              "      <th>person</th>\n",
              "      <th>child</th>\n",
              "      <th>female</th>\n",
              "      <th>male</th>\n",
              "    </tr>\n",
              "    <tr>\n",
              "      <th>pclass</th>\n",
              "      <th></th>\n",
              "      <th></th>\n",
              "      <th></th>\n",
              "    </tr>\n",
              "  </thead>\n",
              "  <tbody>\n",
              "    <tr>\n",
              "      <th>1</th>\n",
              "      <td>6</td>\n",
              "      <td>91</td>\n",
              "      <td>119</td>\n",
              "    </tr>\n",
              "    <tr>\n",
              "      <th>2</th>\n",
              "      <td>19</td>\n",
              "      <td>66</td>\n",
              "      <td>99</td>\n",
              "    </tr>\n",
              "    <tr>\n",
              "      <th>3</th>\n",
              "      <td>58</td>\n",
              "      <td>114</td>\n",
              "      <td>319</td>\n",
              "    </tr>\n",
              "  </tbody>\n",
              "</table>\n",
              "</div>\n",
              "      <button class=\"colab-df-convert\" onclick=\"convertToInteractive('df-ffe4ab6e-f3d6-4403-8553-a9fa9af0813c')\"\n",
              "              title=\"Convert this dataframe to an interactive table.\"\n",
              "              style=\"display:none;\">\n",
              "        \n",
              "  <svg xmlns=\"http://www.w3.org/2000/svg\" height=\"24px\"viewBox=\"0 0 24 24\"\n",
              "       width=\"24px\">\n",
              "    <path d=\"M0 0h24v24H0V0z\" fill=\"none\"/>\n",
              "    <path d=\"M18.56 5.44l.94 2.06.94-2.06 2.06-.94-2.06-.94-.94-2.06-.94 2.06-2.06.94zm-11 1L8.5 8.5l.94-2.06 2.06-.94-2.06-.94L8.5 2.5l-.94 2.06-2.06.94zm10 10l.94 2.06.94-2.06 2.06-.94-2.06-.94-.94-2.06-.94 2.06-2.06.94z\"/><path d=\"M17.41 7.96l-1.37-1.37c-.4-.4-.92-.59-1.43-.59-.52 0-1.04.2-1.43.59L10.3 9.45l-7.72 7.72c-.78.78-.78 2.05 0 2.83L4 21.41c.39.39.9.59 1.41.59.51 0 1.02-.2 1.41-.59l7.78-7.78 2.81-2.81c.8-.78.8-2.07 0-2.86zM5.41 20L4 18.59l7.72-7.72 1.47 1.35L5.41 20z\"/>\n",
              "  </svg>\n",
              "      </button>\n",
              "      \n",
              "  <style>\n",
              "    .colab-df-container {\n",
              "      display:flex;\n",
              "      flex-wrap:wrap;\n",
              "      gap: 12px;\n",
              "    }\n",
              "\n",
              "    .colab-df-convert {\n",
              "      background-color: #E8F0FE;\n",
              "      border: none;\n",
              "      border-radius: 50%;\n",
              "      cursor: pointer;\n",
              "      display: none;\n",
              "      fill: #1967D2;\n",
              "      height: 32px;\n",
              "      padding: 0 0 0 0;\n",
              "      width: 32px;\n",
              "    }\n",
              "\n",
              "    .colab-df-convert:hover {\n",
              "      background-color: #E2EBFA;\n",
              "      box-shadow: 0px 1px 2px rgba(60, 64, 67, 0.3), 0px 1px 3px 1px rgba(60, 64, 67, 0.15);\n",
              "      fill: #174EA6;\n",
              "    }\n",
              "\n",
              "    [theme=dark] .colab-df-convert {\n",
              "      background-color: #3B4455;\n",
              "      fill: #D2E3FC;\n",
              "    }\n",
              "\n",
              "    [theme=dark] .colab-df-convert:hover {\n",
              "      background-color: #434B5C;\n",
              "      box-shadow: 0px 1px 3px 1px rgba(0, 0, 0, 0.15);\n",
              "      filter: drop-shadow(0px 1px 2px rgba(0, 0, 0, 0.3));\n",
              "      fill: #FFFFFF;\n",
              "    }\n",
              "  </style>\n",
              "\n",
              "      <script>\n",
              "        const buttonEl =\n",
              "          document.querySelector('#df-ffe4ab6e-f3d6-4403-8553-a9fa9af0813c button.colab-df-convert');\n",
              "        buttonEl.style.display =\n",
              "          google.colab.kernel.accessAllowed ? 'block' : 'none';\n",
              "\n",
              "        async function convertToInteractive(key) {\n",
              "          const element = document.querySelector('#df-ffe4ab6e-f3d6-4403-8553-a9fa9af0813c');\n",
              "          const dataTable =\n",
              "            await google.colab.kernel.invokeFunction('convertToInteractive',\n",
              "                                                     [key], {});\n",
              "          if (!dataTable) return;\n",
              "\n",
              "          const docLinkHtml = 'Like what you see? Visit the ' +\n",
              "            '<a target=\"_blank\" href=https://colab.research.google.com/notebooks/data_table.ipynb>data table notebook</a>'\n",
              "            + ' to learn more about interactive tables.';\n",
              "          element.innerHTML = '';\n",
              "          dataTable['output_type'] = 'display_data';\n",
              "          await google.colab.output.renderOutput(dataTable, element);\n",
              "          const docLink = document.createElement('div');\n",
              "          docLink.innerHTML = docLinkHtml;\n",
              "          element.appendChild(docLink);\n",
              "        }\n",
              "      </script>\n",
              "    </div>\n",
              "  </div>\n",
              "  "
            ]
          },
          "metadata": {},
          "execution_count": 52
        }
      ]
    },
    {
      "cell_type": "markdown",
      "source": [
        "棒グラフを作るには**`plt.bar()`**関数を使います。  "
      ],
      "metadata": {
        "id": "tU3mHpK4UUBb"
      }
    },
    {
      "cell_type": "code",
      "source": [
        "# 客室等級に対しての男性の数\n",
        "plt.bar(cross_df.index , cross_df[\"male\"])\n",
        "plt.xticks([1,2,3])\n",
        "plt.show()"
      ],
      "metadata": {
        "id": "pLmDXp4AWKNX",
        "colab": {
          "base_uri": "https://localhost:8080/",
          "height": 264
        },
        "outputId": "7c9b11df-92a1-46a3-93e0-3093fbb84711"
      },
      "execution_count": 53,
      "outputs": [
        {
          "output_type": "display_data",
          "data": {
            "text/plain": [
              "<Figure size 432x288 with 1 Axes>"
            ],
            "image/png": "[encoded data removed]"
          },
          "metadata": {
            "needs_background": "light"
          }
        }
      ]
    },
    {
      "cell_type": "markdown",
      "source": [
        "複数描画してみましょう。"
      ],
      "metadata": {
        "id": "FxdTuL1ElVcx"
      }
    },
    {
      "cell_type": "code",
      "source": [
        "plt.bar(cross_df.index-0.3 , cross_df[\"male\"], width=0.3, label='男性')\n",
        "plt.bar(cross_df.index , cross_df[\"female\"], width=0.3, label='女性')\n",
        "plt.bar(cross_df.index+0.3 , cross_df[\"child\"], width=0.3, label='子供')\n",
        "plt.xticks([1,2,3])\n",
        "plt.legend(loc=\"best\")\n",
        "plt.show()"
      ],
      "metadata": {
        "colab": {
          "base_uri": "https://localhost:8080/",
          "height": 264
        },
        "id": "BNlGEWl_lgLl",
        "outputId": "a5bf97aa-e985-4e1d-f937-8d06430a1dcc"
      },
      "execution_count": 54,
      "outputs": [
        {
          "output_type": "display_data",
          "data": {
            "text/plain": [
              "<Figure size 432x288 with 1 Axes>"
            ],
            "image/png": "[encoded data removed]"
          },
          "metadata": {
            "needs_background": "light"
          }
        }
      ]
    },
    {
      "cell_type": "markdown",
      "source": [
        "次はグラフを積み立てていきます。"
      ],
      "metadata": {
        "id": "mrcyQwjhnoAv"
      }
    },
    {
      "cell_type": "code",
      "source": [
        "bottom = np.zeros_like(cross_df.index)\n",
        "for name in cross_df.columns:\n",
        "  plt.bar(cross_df.index , cross_df[name], label=name , bottom=bottom)\n",
        "  bottom += cross_df[name]\n",
        "\n",
        "plt.xticks([1,2,3])\n",
        "plt.legend(loc=\"best\")\n",
        "plt.show()"
      ],
      "metadata": {
        "colab": {
          "base_uri": "https://localhost:8080/",
          "height": 264
        },
        "id": "YEA7hW20nEWG",
        "outputId": "99e1e4d6-b76d-4aa2-b696-784552294772"
      },
      "execution_count": 55,
      "outputs": [
        {
          "output_type": "display_data",
          "data": {
            "text/plain": [
              "<Figure size 432x288 with 1 Axes>"
            ],
            "image/png": "[encoded data removed]"
          },
          "metadata": {
            "needs_background": "light"
          }
        }
      ]
    },
    {
      "cell_type": "markdown",
      "source": [
        "割合を分かりやすくしたいので、100%積み上げ縦棒グラフに変更します。"
      ],
      "metadata": {
        "id": "ckbwn_CtotQM"
      }
    },
    {
      "cell_type": "code",
      "source": [
        "cross2_df = pd.crosstab(df[\"pclass\"],df[\"person\"], normalize='index')\n",
        "cross2_df"
      ],
      "metadata": {
        "colab": {
          "base_uri": "https://localhost:8080/",
          "height": 175
        },
        "id": "8b7Uj3Syp0QE",
        "outputId": "25c8b3aa-405a-48f0-e00c-4ee046fe695e"
      },
      "execution_count": 56,
      "outputs": [
        {
          "output_type": "execute_result",
          "data": {
            "text/plain": [
              "person     child    female      male\n",
              "pclass                              \n",
              "1       0.027778  0.421296  0.550926\n",
              "2       0.103261  0.358696  0.538043\n",
              "3       0.118126  0.232179  0.649695"
            ],
            "text/html": [
              "\n",
              "  <div id=\"df-7a3f7ee5-d202-4914-8804-a6c2fe3b1566\">\n",
              "    <div class=\"colab-df-container\">\n",
              "      <div>\n",
              "<style scoped>\n",
              "    .dataframe tbody tr th:only-of-type {\n",
              "        vertical-align: middle;\n",
              "    }\n",
              "\n",
              "    .dataframe tbody tr th {\n",
              "        vertical-align: top;\n",
              "    }\n",
              "\n",
              "    .dataframe thead th {\n",
              "        text-align: right;\n",
              "    }\n",
              "</style>\n",
              "<table border=\"1\" class=\"dataframe\">\n",
              "  <thead>\n",
              "    <tr style=\"text-align: right;\">\n",
              "      <th>person</th>\n",
              "      <th>child</th>\n",
              "      <th>female</th>\n",
              "      <th>male</th>\n",
              "    </tr>\n",
              "    <tr>\n",
              "      <th>pclass</th>\n",
              "      <th></th>\n",
              "      <th></th>\n",
              "      <th></th>\n",
              "    </tr>\n",
              "  </thead>\n",
              "  <tbody>\n",
              "    <tr>\n",
              "      <th>1</th>\n",
              "      <td>0.027778</td>\n",
              "      <td>0.421296</td>\n",
              "      <td>0.550926</td>\n",
              "    </tr>\n",
              "    <tr>\n",
              "      <th>2</th>\n",
              "      <td>0.103261</td>\n",
              "      <td>0.358696</td>\n",
              "      <td>0.538043</td>\n",
              "    </tr>\n",
              "    <tr>\n",
              "      <th>3</th>\n",
              "      <td>0.118126</td>\n",
              "      <td>0.232179</td>\n",
              "      <td>0.649695</td>\n",
              "    </tr>\n",
              "  </tbody>\n",
              "</table>\n",
              "</div>\n",
              "      <button class=\"colab-df-convert\" onclick=\"convertToInteractive('df-7a3f7ee5-d202-4914-8804-a6c2fe3b1566')\"\n",
              "              title=\"Convert this dataframe to an interactive table.\"\n",
              "              style=\"display:none;\">\n",
              "        \n",
              "  <svg xmlns=\"http://www.w3.org/2000/svg\" height=\"24px\"viewBox=\"0 0 24 24\"\n",
              "       width=\"24px\">\n",
              "    <path d=\"M0 0h24v24H0V0z\" fill=\"none\"/>\n",
              "    <path d=\"M18.56 5.44l.94 2.06.94-2.06 2.06-.94-2.06-.94-.94-2.06-.94 2.06-2.06.94zm-11 1L8.5 8.5l.94-2.06 2.06-.94-2.06-.94L8.5 2.5l-.94 2.06-2.06.94zm10 10l.94 2.06.94-2.06 2.06-.94-2.06-.94-.94-2.06-.94 2.06-2.06.94z\"/><path d=\"M17.41 7.96l-1.37-1.37c-.4-.4-.92-.59-1.43-.59-.52 0-1.04.2-1.43.59L10.3 9.45l-7.72 7.72c-.78.78-.78 2.05 0 2.83L4 21.41c.39.39.9.59 1.41.59.51 0 1.02-.2 1.41-.59l7.78-7.78 2.81-2.81c.8-.78.8-2.07 0-2.86zM5.41 20L4 18.59l7.72-7.72 1.47 1.35L5.41 20z\"/>\n",
              "  </svg>\n",
              "      </button>\n",
              "      \n",
              "  <style>\n",
              "    .colab-df-container {\n",
              "      display:flex;\n",
              "      flex-wrap:wrap;\n",
              "      gap: 12px;\n",
              "    }\n",
              "\n",
              "    .colab-df-convert {\n",
              "      background-color: #E8F0FE;\n",
              "      border: none;\n",
              "      border-radius: 50%;\n",
              "      cursor: pointer;\n",
              "      display: none;\n",
              "      fill: #1967D2;\n",
              "      height: 32px;\n",
              "      padding: 0 0 0 0;\n",
              "      width: 32px;\n",
              "    }\n",
              "\n",
              "    .colab-df-convert:hover {\n",
              "      background-color: #E2EBFA;\n",
              "      box-shadow: 0px 1px 2px rgba(60, 64, 67, 0.3), 0px 1px 3px 1px rgba(60, 64, 67, 0.15);\n",
              "      fill: #174EA6;\n",
              "    }\n",
              "\n",
              "    [theme=dark] .colab-df-convert {\n",
              "      background-color: #3B4455;\n",
              "      fill: #D2E3FC;\n",
              "    }\n",
              "\n",
              "    [theme=dark] .colab-df-convert:hover {\n",
              "      background-color: #434B5C;\n",
              "      box-shadow: 0px 1px 3px 1px rgba(0, 0, 0, 0.15);\n",
              "      filter: drop-shadow(0px 1px 2px rgba(0, 0, 0, 0.3));\n",
              "      fill: #FFFFFF;\n",
              "    }\n",
              "  </style>\n",
              "\n",
              "      <script>\n",
              "        const buttonEl =\n",
              "          document.querySelector('#df-7a3f7ee5-d202-4914-8804-a6c2fe3b1566 button.colab-df-convert');\n",
              "        buttonEl.style.display =\n",
              "          google.colab.kernel.accessAllowed ? 'block' : 'none';\n",
              "\n",
              "        async function convertToInteractive(key) {\n",
              "          const element = document.querySelector('#df-7a3f7ee5-d202-4914-8804-a6c2fe3b1566');\n",
              "          const dataTable =\n",
              "            await google.colab.kernel.invokeFunction('convertToInteractive',\n",
              "                                                     [key], {});\n",
              "          if (!dataTable) return;\n",
              "\n",
              "          const docLinkHtml = 'Like what you see? Visit the ' +\n",
              "            '<a target=\"_blank\" href=https://colab.research.google.com/notebooks/data_table.ipynb>data table notebook</a>'\n",
              "            + ' to learn more about interactive tables.';\n",
              "          element.innerHTML = '';\n",
              "          dataTable['output_type'] = 'display_data';\n",
              "          await google.colab.output.renderOutput(dataTable, element);\n",
              "          const docLink = document.createElement('div');\n",
              "          docLink.innerHTML = docLinkHtml;\n",
              "          element.appendChild(docLink);\n",
              "        }\n",
              "      </script>\n",
              "    </div>\n",
              "  </div>\n",
              "  "
            ]
          },
          "metadata": {},
          "execution_count": 56
        }
      ]
    },
    {
      "cell_type": "code",
      "source": [
        "cross2_df.plot.bar(stacked=True)"
      ],
      "metadata": {
        "colab": {
          "base_uri": "https://localhost:8080/",
          "height": 292
        },
        "id": "B1-SfTZ88VbN",
        "outputId": "34d75d6a-f3dd-48ad-9b3b-56f5f5b36026"
      },
      "execution_count": 57,
      "outputs": [
        {
          "output_type": "execute_result",
          "data": {
            "text/plain": [
              "<matplotlib.axes._subplots.AxesSubplot at 0x7f049d9214f0>"
            ]
          },
          "metadata": {},
          "execution_count": 57
        },
        {
          "output_type": "display_data",
          "data": {
            "text/plain": [
              "<Figure size 432x288 with 1 Axes>"
            ],
            "image/png": "[encoded data removed]"
          },
          "metadata": {
            "needs_background": "light"
          }
        }
      ]
    },
    {
      "cell_type": "markdown",
      "source": [
        "棒グラフについてさらに学びたい方は、[こちら](https://www.yutaka-note.com/entry/matplotlib_bar#DataFrame%E3%81%AE%E7%A9%8D%E3%81%BF%E4%B8%8A%E3%81%92%E3%83%86%E3%83%B3%E3%83%97%E3%83%AC%E3%83%BC%E3%83%88:~:text=%E7%9B%AE%E6%AC%A1%E3%81%B8%E6%88%BB%E3%82%8B-,%E7%A9%8D%E3%81%BF%E4%B8%8A%E3%81%92%E6%A3%92%E3%82%B0%E3%83%A9%E3%83%95%E3%81%AE%E4%BD%9C%E6%88%90%E6%96%B9%E6%B3%95,-%E7%A9%8D%E3%81%BF%E4%B8%8A%E3%81%92%E6%A3%92%E3%82%B0%E3%83%A9%E3%83%95%E3%82%92)が参考になると思います。   \n",
        "特に積み上げ棒グラフは結構使うと思います。 "
      ],
      "metadata": {
        "id": "XVWcgR9aWxAm"
      }
    },
    {
      "cell_type": "markdown",
      "source": [
        "## 箱ひげ図\n",
        "**箱ひげ図**(**box plot**)とは、データの分布を「箱」と「ひげ」で表したグラフです。  \n",
        "データの集まり方を一目で捉えることができます。\n",
        "\n",
        "箱ひげ図についてよく分からない方は、[こちら](https://bellcurve.jp/statistics/course/5220.html)\n",
        "のサイトを見ていただければと思います。"
      ],
      "metadata": {
        "id": "bFFka42la3Q_"
      }
    },
    {
      "cell_type": "code",
      "source": [
        "df = sns.load_dataset('titanic')\n",
        "df.head(3)"
      ],
      "metadata": {
        "id": "aij0msP3eDwZ",
        "colab": {
          "base_uri": "https://localhost:8080/",
          "height": 207
        },
        "outputId": "42c2acce-6b43-4441-8bcf-ec712bb6a271"
      },
      "execution_count": 58,
      "outputs": [
        {
          "output_type": "execute_result",
          "data": {
            "text/plain": [
              "   survived  pclass     sex   age  sibsp  parch     fare embarked  class  \\\n",
              "0         0       3    male  22.0      1      0   7.2500        S  Third   \n",
              "1         1       1  female  38.0      1      0  71.2833        C  First   \n",
              "2         1       3  female  26.0      0      0   7.9250        S  Third   \n",
              "\n",
              "     who  adult_male deck  embark_town alive  alone  \n",
              "0    man        True  NaN  Southampton    no  False  \n",
              "1  woman       False    C    Cherbourg   yes  False  \n",
              "2  woman       False  NaN  Southampton   yes   True  "
            ],
            "text/html": [
              "\n",
              "  <div id=\"df-28fecf55-a6bd-46ba-87b3-369e84611376\">\n",
              "    <div class=\"colab-df-container\">\n",
              "      <div>\n",
              "<style scoped>\n",
              "    .dataframe tbody tr th:only-of-type {\n",
              "        vertical-align: middle;\n",
              "    }\n",
              "\n",
              "    .dataframe tbody tr th {\n",
              "        vertical-align: top;\n",
              "    }\n",
              "\n",
              "    .dataframe thead th {\n",
              "        text-align: right;\n",
              "    }\n",
              "</style>\n",
              "<table border=\"1\" class=\"dataframe\">\n",
              "  <thead>\n",
              "    <tr style=\"text-align: right;\">\n",
              "      <th></th>\n",
              "      <th>survived</th>\n",
              "      <th>pclass</th>\n",
              "      <th>sex</th>\n",
              "      <th>age</th>\n",
              "      <th>sibsp</th>\n",
              "      <th>parch</th>\n",
              "      <th>fare</th>\n",
              "      <th>embarked</th>\n",
              "      <th>class</th>\n",
              "      <th>who</th>\n",
              "      <th>adult_male</th>\n",
              "      <th>deck</th>\n",
              "      <th>embark_town</th>\n",
              "      <th>alive</th>\n",
              "      <th>alone</th>\n",
              "    </tr>\n",
              "  </thead>\n",
              "  <tbody>\n",
              "    <tr>\n",
              "      <th>0</th>\n",
              "      <td>0</td>\n",
              "      <td>3</td>\n",
              "      <td>male</td>\n",
              "      <td>22.0</td>\n",
              "      <td>1</td>\n",
              "      <td>0</td>\n",
              "      <td>7.2500</td>\n",
              "      <td>S</td>\n",
              "      <td>Third</td>\n",
              "      <td>man</td>\n",
              "      <td>True</td>\n",
              "      <td>NaN</td>\n",
              "      <td>Southampton</td>\n",
              "      <td>no</td>\n",
              "      <td>False</td>\n",
              "    </tr>\n",
              "    <tr>\n",
              "      <th>1</th>\n",
              "      <td>1</td>\n",
              "      <td>1</td>\n",
              "      <td>female</td>\n",
              "      <td>38.0</td>\n",
              "      <td>1</td>\n",
              "      <td>0</td>\n",
              "      <td>71.2833</td>\n",
              "      <td>C</td>\n",
              "      <td>First</td>\n",
              "      <td>woman</td>\n",
              "      <td>False</td>\n",
              "      <td>C</td>\n",
              "      <td>Cherbourg</td>\n",
              "      <td>yes</td>\n",
              "      <td>False</td>\n",
              "    </tr>\n",
              "    <tr>\n",
              "      <th>2</th>\n",
              "      <td>1</td>\n",
              "      <td>3</td>\n",
              "      <td>female</td>\n",
              "      <td>26.0</td>\n",
              "      <td>0</td>\n",
              "      <td>0</td>\n",
              "      <td>7.9250</td>\n",
              "      <td>S</td>\n",
              "      <td>Third</td>\n",
              "      <td>woman</td>\n",
              "      <td>False</td>\n",
              "      <td>NaN</td>\n",
              "      <td>Southampton</td>\n",
              "      <td>yes</td>\n",
              "      <td>True</td>\n",
              "    </tr>\n",
              "  </tbody>\n",
              "</table>\n",
              "</div>\n",
              "      <button class=\"colab-df-convert\" onclick=\"convertToInteractive('df-28fecf55-a6bd-46ba-87b3-369e84611376')\"\n",
              "              title=\"Convert this dataframe to an interactive table.\"\n",
              "              style=\"display:none;\">\n",
              "        \n",
              "  <svg xmlns=\"http://www.w3.org/2000/svg\" height=\"24px\"viewBox=\"0 0 24 24\"\n",
              "       width=\"24px\">\n",
              "    <path d=\"M0 0h24v24H0V0z\" fill=\"none\"/>\n",
              "    <path d=\"M18.56 5.44l.94 2.06.94-2.06 2.06-.94-2.06-.94-.94-2.06-.94 2.06-2.06.94zm-11 1L8.5 8.5l.94-2.06 2.06-.94-2.06-.94L8.5 2.5l-.94 2.06-2.06.94zm10 10l.94 2.06.94-2.06 2.06-.94-2.06-.94-.94-2.06-.94 2.06-2.06.94z\"/><path d=\"M17.41 7.96l-1.37-1.37c-.4-.4-.92-.59-1.43-.59-.52 0-1.04.2-1.43.59L10.3 9.45l-7.72 7.72c-.78.78-.78 2.05 0 2.83L4 21.41c.39.39.9.59 1.41.59.51 0 1.02-.2 1.41-.59l7.78-7.78 2.81-2.81c.8-.78.8-2.07 0-2.86zM5.41 20L4 18.59l7.72-7.72 1.47 1.35L5.41 20z\"/>\n",
              "  </svg>\n",
              "      </button>\n",
              "      \n",
              "  <style>\n",
              "    .colab-df-container {\n",
              "      display:flex;\n",
              "      flex-wrap:wrap;\n",
              "      gap: 12px;\n",
              "    }\n",
              "\n",
              "    .colab-df-convert {\n",
              "      background-color: #E8F0FE;\n",
              "      border: none;\n",
              "      border-radius: 50%;\n",
              "      cursor: pointer;\n",
              "      display: none;\n",
              "      fill: #1967D2;\n",
              "      height: 32px;\n",
              "      padding: 0 0 0 0;\n",
              "      width: 32px;\n",
              "    }\n",
              "\n",
              "    .colab-df-convert:hover {\n",
              "      background-color: #E2EBFA;\n",
              "      box-shadow: 0px 1px 2px rgba(60, 64, 67, 0.3), 0px 1px 3px 1px rgba(60, 64, 67, 0.15);\n",
              "      fill: #174EA6;\n",
              "    }\n",
              "\n",
              "    [theme=dark] .colab-df-convert {\n",
              "      background-color: #3B4455;\n",
              "      fill: #D2E3FC;\n",
              "    }\n",
              "\n",
              "    [theme=dark] .colab-df-convert:hover {\n",
              "      background-color: #434B5C;\n",
              "      box-shadow: 0px 1px 3px 1px rgba(0, 0, 0, 0.15);\n",
              "      filter: drop-shadow(0px 1px 2px rgba(0, 0, 0, 0.3));\n",
              "      fill: #FFFFFF;\n",
              "    }\n",
              "  </style>\n",
              "\n",
              "      <script>\n",
              "        const buttonEl =\n",
              "          document.querySelector('#df-28fecf55-a6bd-46ba-87b3-369e84611376 button.colab-df-convert');\n",
              "        buttonEl.style.display =\n",
              "          google.colab.kernel.accessAllowed ? 'block' : 'none';\n",
              "\n",
              "        async function convertToInteractive(key) {\n",
              "          const element = document.querySelector('#df-28fecf55-a6bd-46ba-87b3-369e84611376');\n",
              "          const dataTable =\n",
              "            await google.colab.kernel.invokeFunction('convertToInteractive',\n",
              "                                                     [key], {});\n",
              "          if (!dataTable) return;\n",
              "\n",
              "          const docLinkHtml = 'Like what you see? Visit the ' +\n",
              "            '<a target=\"_blank\" href=https://colab.research.google.com/notebooks/data_table.ipynb>data table notebook</a>'\n",
              "            + ' to learn more about interactive tables.';\n",
              "          element.innerHTML = '';\n",
              "          dataTable['output_type'] = 'display_data';\n",
              "          await google.colab.output.renderOutput(dataTable, element);\n",
              "          const docLink = document.createElement('div');\n",
              "          docLink.innerHTML = docLinkHtml;\n",
              "          element.appendChild(docLink);\n",
              "        }\n",
              "      </script>\n",
              "    </div>\n",
              "  </div>\n",
              "  "
            ]
          },
          "metadata": {},
          "execution_count": 58
        }
      ]
    },
    {
      "cell_type": "markdown",
      "source": [
        "箱ひげ図を作るには**`plt.boxplot()`**関数を使います。  \n",
        "\n",
        "\n",
        "今回は、`pclass`（客室等級）カラムに対しての年齢層の分布を見てみましょう。"
      ],
      "metadata": {
        "id": "73qhv5e_e-sv"
      }
    },
    {
      "cell_type": "code",
      "source": [
        "df[\"age\"] = df[\"age\"].fillna(df[\"age\"].mean())\n",
        "\n",
        "data = []\n",
        "for i in df[\"pclass\"].unique():\n",
        "  data.append(df[df[\"pclass\"]==i][\"age\"])\n",
        "\n",
        "plt.boxplot(tuple(data), whis=\"range\")  # 引数を指定して外れ値計算をしないよう指定\n",
        "plt.show()"
      ],
      "metadata": {
        "colab": {
          "base_uri": "https://localhost:8080/",
          "height": 353
        },
        "id": "Zx2oPrBq5I5s",
        "outputId": "81079ae4-34ae-49a6-b321-7248cb63b0a2"
      },
      "execution_count": 59,
      "outputs": [
        {
          "output_type": "stream",
          "name": "stderr",
          "text": [
            "/usr/local/lib/python3.8/dist-packages/matplotlib/cbook/__init__.py:1376: VisibleDeprecationWarning: Creating an ndarray from ragged nested sequences (which is a list-or-tuple of lists-or-tuples-or ndarrays with different lengths or shapes) is deprecated. If you meant to do this, you must specify 'dtype=object' when creating the ndarray.\n",
            "  X = np.atleast_1d(X.T if isinstance(X, np.ndarray) else np.asarray(X))\n",
            "<ipython-input-59-c1f62f582b88>:7: MatplotlibDeprecationWarning: Setting whis to 'range' is deprecated since 3.2 and support for it will be removed two minor releases later; set it to [0, 100] to achieve the same effect.\n",
            "  plt.boxplot(tuple(data), whis=\"range\")  # 引数を指定して外れ値計算をしないよう指定\n"
          ]
        },
        {
          "output_type": "display_data",
          "data": {
            "text/plain": [
              "<Figure size 432x288 with 1 Axes>"
            ],
            "image/png": "[encoded data removed]"
          },
          "metadata": {
            "needs_background": "light"
          }
        }
      ]
    },
    {
      "cell_type": "markdown",
      "source": [
        "## plotの保存\n",
        "ここまでで学習してきたplotは、他の人と共有するときなどは基本的にファイルに保存します。"
      ],
      "metadata": {
        "id": "IfQmmh9Wgo7E"
      }
    },
    {
      "cell_type": "markdown",
      "source": [
        "### グラフの大きさの調整\n",
        "シグモイド関数をplotして、サイズを調整してみましょう。"
      ],
      "metadata": {
        "id": "wEFNAmn_iXDP"
      }
    },
    {
      "cell_type": "code",
      "source": [
        "# シグモイド関数のplot\n",
        "\n",
        "x = np.linspace(-10 , 10 , 100)\n",
        "z = 1 / (1 + np.exp(-x))\n",
        "plt.plot(x,z)"
      ],
      "metadata": {
        "id": "eHYoHtGuieGp",
        "colab": {
          "base_uri": "https://localhost:8080/",
          "height": 281
        },
        "outputId": "37e00e05-62dc-427e-cf80-d0331c110348"
      },
      "execution_count": 60,
      "outputs": [
        {
          "output_type": "execute_result",
          "data": {
            "text/plain": [
              "[<matplotlib.lines.Line2D at 0x7f04a02c1a60>]"
            ]
          },
          "metadata": {},
          "execution_count": 60
        },
        {
          "output_type": "display_data",
          "data": {
            "text/plain": [
              "<Figure size 432x288 with 1 Axes>"
            ],
            "image/png": "[encoded data removed]"
          },
          "metadata": {
            "needs_background": "light"
          }
        }
      ]
    },
    {
      "cell_type": "markdown",
      "source": [
        "**`plt.figure()`**という関数の中で、引数**`figsize`**に（横幅 , 高さ）をインチ数で指定します。"
      ],
      "metadata": {
        "id": "Lu_-NiJDjB09"
      }
    },
    {
      "cell_type": "code",
      "source": [
        "plt.figure(figsize=(1,1))\n",
        "plt.plot(x,z)"
      ],
      "metadata": {
        "id": "9mwZb00Ei3nu",
        "colab": {
          "base_uri": "https://localhost:8080/",
          "height": 119
        },
        "outputId": "5dbc783d-c205-4575-b5e9-c1365d9cd453"
      },
      "execution_count": 61,
      "outputs": [
        {
          "output_type": "execute_result",
          "data": {
            "text/plain": [
              "[<matplotlib.lines.Line2D at 0x7f049d88ce20>]"
            ]
          },
          "metadata": {},
          "execution_count": 61
        },
        {
          "output_type": "display_data",
          "data": {
            "text/plain": [
              "<Figure size 72x72 with 1 Axes>"
            ],
            "image/png": "[encoded data removed]"
          },
          "metadata": {
            "needs_background": "light"
          }
        }
      ]
    },
    {
      "cell_type": "markdown",
      "source": [
        "オブジェクト指向を使ってサイズを調整することもできます。"
      ],
      "metadata": {
        "id": "5jfP5YWnkIED"
      }
    },
    {
      "cell_type": "code",
      "source": [
        "fig , axes = plt.subplots(figsize=(1,1))\n",
        "axes.plot(x,z)"
      ],
      "metadata": {
        "id": "TDYAn--4kNjs",
        "colab": {
          "base_uri": "https://localhost:8080/",
          "height": 119
        },
        "outputId": "6fc8dbb2-41e2-448e-92e2-dc5b2b82ba9a"
      },
      "execution_count": 62,
      "outputs": [
        {
          "output_type": "execute_result",
          "data": {
            "text/plain": [
              "[<matplotlib.lines.Line2D at 0x7f049d97a5e0>]"
            ]
          },
          "metadata": {},
          "execution_count": 62
        },
        {
          "output_type": "display_data",
          "data": {
            "text/plain": [
              "<Figure size 72x72 with 1 Axes>"
            ],
            "image/png": "[encoded data removed]"
          },
          "metadata": {
            "needs_background": "light"
          }
        }
      ]
    },
    {
      "cell_type": "markdown",
      "source": [
        "### pngで保存する\n",
        "一番使う手法です。  \n",
        "\n",
        "`figure`オブジェクトの**`savefig()`**関数を呼び出し、  \n",
        "引数にファイル名を指定することで保存できます。"
      ],
      "metadata": {
        "id": "vt70IqcRkfn7"
      }
    },
    {
      "cell_type": "code",
      "source": [
        "fig , axes = plt.subplots()\n",
        "axes.plot(x,z)\n",
        "axes.set_xlabel(\"x\")\n",
        "axes.set_ylabel(\"y\")\n",
        "axes.set_title(\"sigmoid(x)\")\n",
        "\n",
        "fig.savefig(\"sigmoid_sample.png\")"
      ],
      "metadata": {
        "id": "Vu99CXallvAg",
        "colab": {
          "base_uri": "https://localhost:8080/",
          "height": 292
        },
        "outputId": "7f99ff10-08fa-4f6d-ed1a-a3e3a0ee18ea"
      },
      "execution_count": 63,
      "outputs": [
        {
          "output_type": "display_data",
          "data": {
            "text/plain": [
              "<Figure size 432x288 with 1 Axes>"
            ],
            "image/png": "[encoded data removed]"
          },
          "metadata": {
            "needs_background": "light"
          }
        }
      ]
    },
    {
      "cell_type": "markdown",
      "source": [
        "pngで保存するときは通常、グラフのタイトルや軸のラベルをつけて保存します。  \n",
        "保存されたかどうか、「ファイル」から確認してみてください。"
      ],
      "metadata": {
        "id": "Bl1-b5nemiUX"
      }
    },
    {
      "cell_type": "markdown",
      "source": [
        "### pdfで保存する\n",
        "まとめて1つのファイルとして保存したいときはpdfで保存しましょう。\n",
        "\n",
        "新しいモジュールを使用します。"
      ],
      "metadata": {
        "id": "my0JnRzZnjKc"
      }
    },
    {
      "cell_type": "code",
      "source": [
        "from matplotlib.backends.backend_pdf import PdfPages"
      ],
      "metadata": {
        "id": "b2fmy0YHpXLg"
      },
      "execution_count": 64,
      "outputs": []
    },
    {
      "cell_type": "markdown",
      "source": [
        "これでPdfPagesクラスを使えるようになります。   \n",
        "**`PdfPages()`**にpdfのファイル名を入れて、`pdf`というインスタンスを作成します。"
      ],
      "metadata": {
        "id": "44TBrkAEpjpx"
      }
    },
    {
      "cell_type": "code",
      "source": [
        "pdf = PdfPages(\"sigmoid_sample.pdf\")"
      ],
      "metadata": {
        "id": "A7uuYKnipveb"
      },
      "execution_count": 65,
      "outputs": []
    },
    {
      "cell_type": "markdown",
      "source": [
        "このインスタンスを使って、保存していきます。  \n",
        "**`pdf.savefig()`**に、`figure`オブジェクトを入れるだけです。"
      ],
      "metadata": {
        "id": "q6XjU8rEqYYH"
      }
    },
    {
      "cell_type": "code",
      "source": [
        "fig , axes = plt.subplots()\n",
        "axes.plot(x,z)\n",
        "axes.set_xlabel(\"x\")\n",
        "axes.set_ylabel(\"y\")\n",
        "axes.set_title(\"sigmoid(x)\")\n",
        "\n",
        "pdf.savefig(fig)\n",
        "\n",
        "pdf.close()  # pdfの更新を防ぐために実行"
      ],
      "metadata": {
        "id": "3bWG1ISeqnYW",
        "colab": {
          "base_uri": "https://localhost:8080/",
          "height": 292
        },
        "outputId": "b2baa364-9b8f-4a8e-947d-c6b0c678a3fc"
      },
      "execution_count": 66,
      "outputs": [
        {
          "output_type": "display_data",
          "data": {
            "text/plain": [
              "<Figure size 432x288 with 1 Axes>"
            ],
            "image/png": "[encoded data removed]"
          },
          "metadata": {
            "needs_background": "light"
          }
        }
      ]
    },
    {
      "cell_type": "markdown",
      "source": [
        "pdfで保存することの最大の利点は、**大量のグラフを1つのファイルで保存できる**ことです。  \n",
        "for文でfigureをループさせます。"
      ],
      "metadata": {
        "id": "YOy_xNuksQ7-"
      }
    },
    {
      "cell_type": "code",
      "source": [
        "pdf = PdfPages(\"sigmoid_sample.pdf\")\n",
        "\n",
        "for i in range(5):\n",
        "  fig , axes = plt.subplots()\n",
        "  axes.plot(x,x**i)\n",
        "  axes.set_xlabel(\"x\")\n",
        "  axes.set_ylabel(\"y\")\n",
        "  axes.set_title(\"y=x^{}\".format(i))\n",
        "\n",
        "  pdf.savefig(fig)  # forループの中で保存\n",
        "\n",
        "pdf.close()  # ループ後に閉じる"
      ],
      "metadata": {
        "id": "3MTYIg6dsvLK",
        "colab": {
          "base_uri": "https://localhost:8080/",
          "height": 1000
        },
        "outputId": "897aa089-d63c-4807-db7d-7b8f50af2ea7"
      },
      "execution_count": 67,
      "outputs": [
        {
          "output_type": "display_data",
          "data": {
            "text/plain": [
              "<Figure size 432x288 with 1 Axes>"
            ],
            "image/png": "[encoded data removed]"
          },
          "metadata": {
            "needs_background": "light"
          }
        },
        {
          "output_type": "display_data",
          "data": {
            "text/plain": [
              "<Figure size 432x288 with 1 Axes>"
            ],
            "image/png": "[encoded data removed]"
          },
          "metadata": {
            "needs_background": "light"
          }
        },
        {
          "output_type": "display_data",
          "data": {
            "text/plain": [
              "<Figure size 432x288 with 1 Axes>"
            ],
            "image/png": "[encoded data removed]"
          },
          "metadata": {
            "needs_background": "light"
          }
        },
        {
          "output_type": "display_data",
          "data": {
            "text/plain": [
              "<Figure size 432x288 with 1 Axes>"
            ],
            "image/png": "[encoded data removed]"
          },
          "metadata": {
            "needs_background": "light"
          }
        },
        {
          "output_type": "display_data",
          "data": {
            "text/plain": [
              "<Figure size 432x288 with 1 Axes>"
            ],
            "image/png": "[encoded data removed]"
          },
          "metadata": {
            "needs_background": "light"
          }
        }
      ]
    },
    {
      "cell_type": "markdown",
      "source": [
        "1ページに1グラフがplotされていることが確認できたでしょうか。  \n",
        "また、「ctrl+F」を利用することもできます。"
      ],
      "metadata": {
        "id": "9AJm8ssauLPZ"
      }
    }
  ]
}