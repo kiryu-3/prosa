{
  "nbformat": 4,
  "nbformat_minor": 0,
  "metadata": {
    "colab": {
      "private_outputs": true,
      "provenance": [],
      "toc_visible": true,
      "include_colab_link": true
    },
    "kernelspec": {
      "name": "python3",
      "display_name": "Python 3"
    },
    "language_info": {
      "name": "python"
    }
  },
  "cells": [
    {
      "cell_type": "markdown",
      "metadata": {
        "id": "view-in-github",
        "colab_type": "text"
      },
      "source": [
        "<a href=\"https://colab.research.google.com/github/kiryu-3/Prmn2023_DS/blob/main/Python/Python_DS/DS_Matplotlib.ipynb\" target=\"_parent\"><img src=\"https://colab.research.google.com/assets/colab-badge.svg\" alt=\"Open In Colab\"/></a>"
      ]
    },
    {
      "cell_type": "markdown",
      "source": [
        "# matplotlib"
      ],
      "metadata": {
        "id": "-mwb_ZyD2wNv"
      }
    },
    {
      "cell_type": "markdown",
      "source": [
        "## matplotlibとは\n",
        "Pythonでデータの可視化をしていく場合に使うライブラリが**matplotlib**です。  \n",
        "Pythonでグラフを描画（**plotする**という）することができます。\n",
        "\n",
        "![matplotlib.png](data:image/png;base64,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)\n",
        "\n",
        "電子光工学科の3年時の授業で学ぶ**MATLAB**という数値解析ソフトウェアに仕様が似ているようです。\n",
        "\n",
        "GoogleColabやJupyter Labといった環境下では、最初から入っているため改めて入れる必要はありません。  \n",
        "自分で入れる場合は`conda install matplotlib`や`pip install matplotlib`という記述をします。"
      ],
      "metadata": {
        "id": "7GFd1LF83drs"
      }
    },
    {
      "cell_type": "markdown",
      "source": [
        "matplotlibをimportする際、`plt`とするのが一般的です。"
      ],
      "metadata": {
        "id": "ony8PPd445t7"
      }
    },
    {
      "cell_type": "code",
      "execution_count": null,
      "metadata": {
        "id": "ZSqf9i-51DGf"
      },
      "outputs": [],
      "source": [
        "import matplotlib.pyplot as plt    #「pyplot」というモジュールをimportすることが多い\n",
        "import numpy as np    #同時にnumpyをimport\n",
        "import pandas as pd    #同時にpandasもimport"
      ]
    },
    {
      "cell_type": "markdown",
      "source": [
        "### plt.plot()\n",
        "**`plt.plot()`**関数に、横軸→縦軸 の順で渡すとplotすることができます。"
      ],
      "metadata": {
        "id": "EMplvLoz7FV_"
      }
    },
    {
      "cell_type": "code",
      "source": [
        "x = [0,1,2,3,4,5]\n",
        "y = [10,11,12,13,14,15]\n",
        "plt.plot(x,y)    #「y=x+10」のグラフを記述"
      ],
      "metadata": {
        "id": "8g7CEckm8teL"
      },
      "execution_count": null,
      "outputs": []
    },
    {
      "cell_type": "markdown",
      "source": [
        "yの部分を数式を使って記述しましょう。"
      ],
      "metadata": {
        "id": "Katl-KBi9IcN"
      }
    },
    {
      "cell_type": "code",
      "source": [
        "x = [0,1,2,3,4,5]\n",
        "y = np.array(x) + 10    #numpyにしてからでないと演算できない\n",
        "plt.plot(x,y)    #「y=x+10」のグラフを記述"
      ],
      "metadata": {
        "id": "KtYYCbCT9w-h"
      },
      "execution_count": null,
      "outputs": []
    },
    {
      "cell_type": "markdown",
      "source": [
        "ここでは、データサイエンスの分野でよく登場する\n",
        "**シグモイド関数**についてplotしてみましょう。\n",
        "\n",
        "![シグモイド関数.jpg](data:image/jpeg;base64,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)\n",
        "\n"
      ],
      "metadata": {
        "id": "PsqgP4HY-pHB"
      }
    },
    {
      "cell_type": "markdown",
      "source": [
        "シグモイド関数の意味は、ある入力に対する出力を0～1の範囲に抑えることにあります。"
      ],
      "metadata": {
        "id": "BYr9HRFtAHUv"
      }
    },
    {
      "cell_type": "code",
      "source": [
        "# シグモイド関数のplot\n",
        "\n",
        "x = np.linspace(-10 , 10 , 100)    #引数numの値が大きいほうが滑らかになる\n",
        "z = 1 / (1 + np.exp(-x))\n",
        "plt.plot(x,z)"
      ],
      "metadata": {
        "id": "TqPoNM_gBn8U"
      },
      "execution_count": null,
      "outputs": []
    },
    {
      "cell_type": "markdown",
      "source": [
        "このような数式のグラフを表示する際は、**`linspace`**を横軸に使うことが多いようです。"
      ],
      "metadata": {
        "id": "Lju8i9zSCbGS"
      }
    },
    {
      "cell_type": "markdown",
      "source": [
        "次はDataFrameを使ってplotしてみましょう。"
      ],
      "metadata": {
        "id": "-b89HUPhC6IC"
      }
    },
    {
      "cell_type": "code",
      "source": [
        "#カラムxの値を横軸、カラムyの値を縦軸にしたグラフのplot\n",
        "\n",
        "df = pd.DataFrame({\"x\" : [1,2,3,4,5,],\n",
        "                   \"y\" : [1,32,243,1024,3125]})\n",
        "\n",
        "plt.plot(\"x\",\"y\" ,data=df)    #引数dataにDataFrameを渡してあげる"
      ],
      "metadata": {
        "id": "OdzeNPbXDnj7"
      },
      "execution_count": null,
      "outputs": []
    },
    {
      "cell_type": "markdown",
      "source": [
        "## 装飾\n",
        "引数を与えることで、様々なパターンでplotすることができます。"
      ],
      "metadata": {
        "id": "ENlB-mTVFy6l"
      }
    },
    {
      "cell_type": "code",
      "source": [
        "# シグモイド関数のplot\n",
        "\n",
        "x = np.linspace(-10 , 10 , 100)    #引数numの値が大きいほうが滑らかになる\n",
        "z = 1 / (1 + np.exp(-x))\n",
        "plt.plot(x,z)"
      ],
      "metadata": {
        "id": "f9G0aLewJ0MZ"
      },
      "execution_count": null,
      "outputs": []
    },
    {
      "cell_type": "markdown",
      "source": [
        "### color\n",
        "グラフの線の色を変更することができます。  \n",
        "※[こちら](https://www.yutaka-note.com/entry/matplotlib_color)のページにより詳しい解説が書いてあります。"
      ],
      "metadata": {
        "id": "Dd4sUDK_GbVl"
      }
    },
    {
      "cell_type": "code",
      "source": [
        "plt.plot(x,z , color = \"blue\")"
      ],
      "metadata": {
        "id": "mYjUyWKvKUF9"
      },
      "execution_count": null,
      "outputs": []
    },
    {
      "cell_type": "markdown",
      "source": [
        "### lw\n",
        "「line width」の略です。線の太さを変更します。"
      ],
      "metadata": {
        "id": "TGXyTb4zLI9G"
      }
    },
    {
      "cell_type": "code",
      "source": [
        "plt.plot(x,z , lw = 5)"
      ],
      "metadata": {
        "id": "G8HyhxS_LWtD"
      },
      "execution_count": null,
      "outputs": []
    },
    {
      "cell_type": "markdown",
      "source": [
        "### ls\n",
        "「line style」の略です。線の種類を変更します。  \n",
        "`例：'-','--'`"
      ],
      "metadata": {
        "id": "-CgBCKeVLrAD"
      }
    },
    {
      "cell_type": "code",
      "source": [
        "plt.plot(x,z , ls = \"--\")"
      ],
      "metadata": {
        "id": "r2u0WYrML8Jy"
      },
      "execution_count": null,
      "outputs": []
    },
    {
      "cell_type": "markdown",
      "source": [
        "### marker\n",
        "マーカーの種類を指定します。  \n",
        "`例：'o','x'`\n"
      ],
      "metadata": {
        "id": "EjXp3sGmMZBN"
      }
    },
    {
      "cell_type": "code",
      "source": [
        "plt.plot(x,z , marker = \"o\")"
      ],
      "metadata": {
        "id": "dYSnM6jYM0sT"
      },
      "execution_count": null,
      "outputs": []
    },
    {
      "cell_type": "markdown",
      "source": [
        "#### markersize\n",
        "マーカーの大きさを指定します。"
      ],
      "metadata": {
        "id": "vLY3eRgtNlov"
      }
    },
    {
      "cell_type": "code",
      "source": [
        "plt.plot(x,z , \n",
        "         marker = \"o\" , \n",
        "         markersize = 5)"
      ],
      "metadata": {
        "id": "QFtHs7OKNr-o"
      },
      "execution_count": null,
      "outputs": []
    },
    {
      "cell_type": "markdown",
      "source": [
        "#### markerfacecolor\n",
        "マーカーの色を指定することができます。"
      ],
      "metadata": {
        "id": "uVXmdgRHOBLP"
      }
    },
    {
      "cell_type": "code",
      "source": [
        "plt.plot(x,z , \n",
        "         marker = \"o\" , \n",
        "         markerfacecolor = \"yellow\")"
      ],
      "metadata": {
        "id": "Lu2ZXBioOIJQ"
      },
      "execution_count": null,
      "outputs": []
    },
    {
      "cell_type": "markdown",
      "source": [
        "#### markeredgecolor\n",
        "マーカーの枠の色を指定します。"
      ],
      "metadata": {
        "id": "gAUtdrtYOgDG"
      }
    },
    {
      "cell_type": "code",
      "source": [
        "plt.plot(x,z , \n",
        "         marker = \"o\" , \n",
        "         markerfacecolor = \"yellow\" , \n",
        "         markeredgecolor = \"red\")"
      ],
      "metadata": {
        "id": "9QR0FIQFOo93"
      },
      "execution_count": null,
      "outputs": []
    },
    {
      "cell_type": "markdown",
      "source": [
        "#### markeredgewidth\n",
        "マーカーの枠の太さを指定します。"
      ],
      "metadata": {
        "id": "Yt5qTU7iOxZf"
      }
    },
    {
      "cell_type": "code",
      "source": [
        "plt.plot(x,z , \n",
        "         marker = \"o\" , \n",
        "         markerfacecolor = \"yellow\" ,\n",
        "         markeredgecolor = \"red\" ,\n",
        "         markeredgewidth = 3)"
      ],
      "metadata": {
        "id": "szIeompRO_de"
      },
      "execution_count": null,
      "outputs": []
    },
    {
      "cell_type": "markdown",
      "source": [
        "### alpha\n",
        "plotの透明度を0から1の間で指定します。0に近いほど透明度が上がります。  "
      ],
      "metadata": {
        "id": "GX8yMpfbP23d"
      }
    },
    {
      "cell_type": "code",
      "source": [
        "plt.plot(x,z , \n",
        "         alpha = 0.3)"
      ],
      "metadata": {
        "id": "924feHoFQCe8"
      },
      "execution_count": null,
      "outputs": []
    },
    {
      "cell_type": "markdown",
      "source": [
        "## 付属情報を付ける\n",
        "plotする際に様々な付属情報を付けたり消したりすることができます。"
      ],
      "metadata": {
        "id": "ZL_VeHfVQpzr"
      }
    },
    {
      "cell_type": "markdown",
      "source": [
        "### 軸とグラフへのラベル付け\n",
        "\n",
        "*   **`plt.xlabel()`** : x軸にラベルを付ける\n",
        "*   **`plt.ylabel()`** : y軸にラベルを付ける\n",
        "*   **`plt.title()`** : 図にラベルを付ける  \n",
        "※[こちら](https://www.yutaka-note.com/entry/2020/01/08/080413)のページに書式設定方法が詳しく書いてあります。\n",
        "*   **`plt.plot(label = \"ラベル\")`** : プロットにラベルを付ける\n",
        "*   **`plt.legend()`** : 凡例を付ける  \n",
        "※[こちら](https://www.yutaka-note.com/entry/matplotlib_legend)のページに詳しい解説があります。\n"
      ],
      "metadata": {
        "id": "qhNXBRHqTFYw"
      }
    },
    {
      "cell_type": "code",
      "source": [
        "plt.plot(x,z, label=\"sigmoid\")\n",
        "plt.xlabel(\"x\")\n",
        "plt.ylabel(\"y\")\n",
        "plt.title(\"sigmoid(x)\")\n",
        "plt.legend(loc=\"best\")    #locの値を変更すると、凡例の位置を移動できる"
      ],
      "metadata": {
        "id": "gCqngYRhUo_c"
      },
      "execution_count": null,
      "outputs": []
    },
    {
      "cell_type": "markdown",
      "source": [
        "`plt.legend()`の中では、**`loc`**というパラメータを使って凡例の位置を決めることができます。  \n",
        "以下の表を参考にしてください。基本的には**`best`**を使います。\n",
        "\n",
        "![location.png](data:image/png;base64,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)"
      ],
      "metadata": {
        "id": "2Y8KzPB3YczO"
      }
    },
    {
      "cell_type": "markdown",
      "source": [
        "### メモリの最大最小と表示値\n",
        "\n",
        "*   **`plt.xlim(最小値,最大値)`** : x軸の最大値・最小値を指定する\n",
        "*   **`plt.ylim(最小値,最大値)`** : y軸の最大値・最小値を指定する\n",
        "*   **`plt.xticks()`** : x軸に任意のticksを付ける\n",
        "*   **`plt.yticks()`** : y軸に任意のticksを付ける\n",
        "*   **`plt.axis(\"off\")`** : 軸を消す\n",
        "\n",
        "※ticks：目盛り"
      ],
      "metadata": {
        "id": "H4v9V8rkVBys"
      }
    },
    {
      "cell_type": "code",
      "source": [
        "plt.plot(x,z , label=\"sigmoid\")\n",
        "plt.xlabel(\"x\")\n",
        "plt.ylabel(\"y\")\n",
        "plt.title(\"sigmoid(x)\")\n",
        "plt.legend(loc=\"best\")    #locの値を変更すると、凡例の位置を移動できる\n",
        "plt.xlim(-10,10)\n",
        "plt.ylim(0,1)\n",
        "plt.xticks([-5,0,5] , rotation=20)    #rotationの値を変更すると、メモリの角度を変更することができる\n",
        "plt.yticks([0,0.5,1] , rotation=20)"
      ],
      "metadata": {
        "id": "1B1mAckhVdvL"
      },
      "execution_count": null,
      "outputs": []
    },
    {
      "cell_type": "markdown",
      "source": [
        "`plt.xticks()`,`plt.yticks()`の中では、**`rotation`**というパラメータを使って  目盛りの角度を指定することができます。   \n",
        "目盛りが長い文字列であるときなどに、被らないように表示できるため使えます。"
      ],
      "metadata": {
        "id": "tKhhnVgEY3CF"
      }
    },
    {
      "cell_type": "markdown",
      "source": [
        "#### ticksの使い方\n",
        "`ticks()`には、主に4つの使い方があります。  \n",
        "ここでは`xticks()`について触れますが、`yticks()`でも同じです。  \n",
        "\n",
        "\n",
        "\n",
        "\n",
        "\n"
      ],
      "metadata": {
        "id": "9NaQLpGDQfSv"
      }
    },
    {
      "cell_type": "markdown",
      "source": [
        "##### ①xticks( [メモリ値のリスト] )\n",
        "表示したいメモリ値をリストで与えて指定することができます。  \n",
        "値のリストは等間隔で指定する必要はありません。"
      ],
      "metadata": {
        "id": "rAhexvR_RcEN"
      }
    },
    {
      "cell_type": "code",
      "source": [
        "plt.plot(x,z)\n",
        "plt.xticks([-10,-2.5,0,2.5,10])"
      ],
      "metadata": {
        "id": "It-g0AHKX5ih"
      },
      "execution_count": null,
      "outputs": []
    },
    {
      "cell_type": "markdown",
      "source": [
        "##### ②xticks(ndarray)\n",
        "`np.arange()`で生成したndarrayを与えることもできます。"
      ],
      "metadata": {
        "id": "fTgsT8oVYLUD"
      }
    },
    {
      "cell_type": "code",
      "source": [
        "plt.plot(x,z)\n",
        "plt.xticks(np.arange(-10,11,2.5))"
      ],
      "metadata": {
        "id": "mkFHWrk-Yazw"
      },
      "execution_count": null,
      "outputs": []
    },
    {
      "cell_type": "markdown",
      "source": [
        "##### ③xticks([メモリ位置],[表示値])\n",
        "目盛り値に文字列を指定することもできます。"
      ],
      "metadata": {
        "id": "yuw9eh8iYy9P"
      }
    },
    {
      "cell_type": "code",
      "source": [
        "plt.plot(x,z)\n",
        "plt.xticks([-10,0,10] , [\"minus ten\" , \"zero\" , \"ten\"])"
      ],
      "metadata": {
        "id": "RkBtoTQvZQj_"
      },
      "execution_count": null,
      "outputs": []
    },
    {
      "cell_type": "markdown",
      "source": [
        "##### ④xticks([])\n",
        "空のリストを渡すと、軸目盛を非表示にすることができます。"
      ],
      "metadata": {
        "id": "fjSxppyaZpHu"
      }
    },
    {
      "cell_type": "code",
      "source": [
        "plt.plot(x,z)\n",
        "plt.xticks([])\n",
        "plt.yticks([])"
      ],
      "metadata": {
        "id": "vzVuBadnZ08K"
      },
      "execution_count": null,
      "outputs": []
    },
    {
      "cell_type": "markdown",
      "source": [
        "特に重要であると思ったのでここでまとめていますが、  \n",
        "その際に参考にした[こちら](https://www.yutaka-note.com/entry/matplotlib_axis)のページでは軸周りについて詳細な解説があります。"
      ],
      "metadata": {
        "id": "iHKel4hhbVyc"
      }
    },
    {
      "cell_type": "markdown",
      "source": [
        "### 複数のplot\n",
        "複数plotするには、単にもう1つ**`plt.plot()`**を実行するだけです。"
      ],
      "metadata": {
        "id": "jABWrUn7acv0"
      }
    },
    {
      "cell_type": "code",
      "source": [
        "x = np.linspace(-10 , 10 , 20)\n",
        "y = np.linspace(0,1,20)\n",
        "z = 1 / (1 + np.exp(-x))\n",
        "\n",
        "plt.plot(x,y , label=\"normal\")\n",
        "plt.plot(x,z , label=\"sigmoid\")\n",
        "plt.axis(\"off\")    #軸を消す\n",
        "plt.legend()"
      ],
      "metadata": {
        "id": "E1Iu7AlCXr-n"
      },
      "execution_count": null,
      "outputs": []
    },
    {
      "cell_type": "markdown",
      "source": [
        "## 複数のグラフを並べる\n",
        "複数のグラフを並べて表示することができます。  \n",
        "ここでは「オブジェクト指向」というPythonの考え方が登場しますが、あまり意識しなくても問題ないです。"
      ],
      "metadata": {
        "id": "d6GSiS_IbcPz"
      }
    },
    {
      "cell_type": "markdown",
      "source": [
        "### plt.subplot()\n"
      ],
      "metadata": {
        "id": "cLQ0L8QZeN4J"
      }
    },
    {
      "cell_type": "markdown",
      "source": [
        "以下の2次関数と3次関数のグラフを並べて表示しましょう。"
      ],
      "metadata": {
        "id": "SYcXOM45fiSe"
      }
    },
    {
      "cell_type": "code",
      "source": [
        "x = np.linspace(-10,10,100)\n",
        "plt.plot(x,x**2)    #y=x^2のグラフ"
      ],
      "metadata": {
        "id": "E2DjpoUseiS4"
      },
      "execution_count": null,
      "outputs": []
    },
    {
      "cell_type": "code",
      "source": [
        "x = np.linspace(-10,10,100)\n",
        "plt.plot(x,x**3)    #y=x^3のグラフ"
      ],
      "metadata": {
        "id": "-t_DdAVAfFhe"
      },
      "execution_count": null,
      "outputs": []
    },
    {
      "cell_type": "markdown",
      "source": [
        "`plt.plot()`の前で**`plt.subplot(row,column,index)`**を実行すると、  \n",
        "row × column の箱が確保され、index番目にplotされます。"
      ],
      "metadata": {
        "id": "6mqLgR8Hfp91"
      }
    },
    {
      "cell_type": "code",
      "source": [
        "x = np.linspace(-10,10,100)\n",
        "plt.subplot(1,2,1)    #1番目に2次関数のグラフ\n",
        "plt.plot(x,x**2)    \n",
        "\n",
        "plt.subplot(1,2,2)    #2番目に3次関数のグラフ\n",
        "plt.plot(x,x**3)"
      ],
      "metadata": {
        "id": "NLGf21UpgB7j"
      },
      "execution_count": null,
      "outputs": []
    },
    {
      "cell_type": "markdown",
      "source": [
        "**`plt.subplots_adjust()`**とすると、グラフ間に余白を持たせることができます。  \n",
        "左右の余白を引数**`wspace`**、上下の余白を**`hspace`**で指定します。"
      ],
      "metadata": {
        "id": "ZWOtHgSfhHOr"
      }
    },
    {
      "cell_type": "code",
      "source": [
        "x = np.linspace(-10,10,100)\n",
        "plt.subplot(1,2,1)    #1番目に2次関数のグラフ\n",
        "plt.plot(x,x**2)    \n",
        "\n",
        "plt.subplot(1,2,2)      #2番目に3次関数のグラフ\n",
        "plt.plot(x,x**3)\n",
        "\n",
        "plt.subplots_adjust(wspace=0.4, hspace=0.6)"
      ],
      "metadata": {
        "id": "lKik8wcwhd3S"
      },
      "execution_count": null,
      "outputs": []
    },
    {
      "cell_type": "markdown",
      "source": [
        "### plt.figure()\n",
        "ここでは**オブジェクト指向**という考え方が登場するので、  \n",
        "よく分からない方は[こちら](https://drive.google.com/file/d/11ZKg0z4b9jVH4-hNp-4Rf-G7PDe9cNao/view?usp=sharing)のノートブックで学習してください。"
      ],
      "metadata": {
        "id": "QpqOG8oekUJ5"
      }
    },
    {
      "cell_type": "code",
      "source": [
        "# plt.figureクラスでfigというインスタンスを作る\n",
        "fig = plt.figure()"
      ],
      "metadata": {
        "id": "y0_nsCjL4QaC"
      },
      "execution_count": null,
      "outputs": []
    },
    {
      "cell_type": "markdown",
      "source": [
        "`add_subplot()`というメソッドを利用してplotを追加し、`axes`（座標軸）オブジェクトを複数作っていきます。  \n",
        "その`axes`オブジェクトに対して`plot()`関数を呼び出します。"
      ],
      "metadata": {
        "id": "Q4sKOBoHklkG"
      }
    },
    {
      "cell_type": "code",
      "source": [
        "fig = plt.figure()\n",
        "ax1 = fig.add_subplot(1,2,1)\n",
        "ax2 = fig.add_subplot(1,2,2)\n",
        "\n",
        "x = np.linspace(-10,10,100)\n",
        "ax1.plot(x,x**2)\n",
        "ax2.plot(x,x**3)"
      ],
      "metadata": {
        "id": "8LmKXhXM_qMf"
      },
      "execution_count": null,
      "outputs": []
    },
    {
      "cell_type": "markdown",
      "source": [
        "[こちら](https://www.yutaka-note.com/entry/matplotlib_figure)のサイトを見ていただくとイメージが湧くと思います。"
      ],
      "metadata": {
        "id": "wXN4NsinAw77"
      }
    },
    {
      "cell_type": "markdown",
      "source": [
        "### plt.subplots()\n",
        "インスタンス`fig`と`axes`を同時に作ることができます。  \n",
        "先ほどの方法よりもこちらの方が便利です。"
      ],
      "metadata": {
        "id": "WrPLUR2LBmAa"
      }
    },
    {
      "cell_type": "code",
      "source": [
        "fig , axes = plt.subplots(nrows=1 , ncols=2)    #1行2列のplots"
      ],
      "metadata": {
        "id": "Y9R8mUT0Cqc_"
      },
      "execution_count": null,
      "outputs": []
    },
    {
      "cell_type": "markdown",
      "source": [
        "`axes`はndarrayで返ってきているので、インデックスを指定してplotしてみましょう。"
      ],
      "metadata": {
        "id": "luH5dQx6DSKL"
      }
    },
    {
      "cell_type": "code",
      "source": [
        "fig , axes = plt.subplots(nrows=1 , ncols=2)\n",
        "x = np.linspace(-10,10,100)\n",
        "axes[0].plot(x,x**2)\n",
        "axes[1].plot(x,x**3)"
      ],
      "metadata": {
        "id": "sznmPq5vDcNr"
      },
      "execution_count": null,
      "outputs": []
    },
    {
      "cell_type": "markdown",
      "source": [
        "複数行を指定した場合は、インデックスを指定する際に注意が必要です。"
      ],
      "metadata": {
        "id": "tBEpH7gjEJqp"
      }
    },
    {
      "cell_type": "code",
      "source": [
        "fig , axes = plt.subplots(nrows=2 , ncols=2)\n",
        "x = np.linspace(-10,10,100)\n",
        "axes[0,0].plot(x,x)\n",
        "axes[0,1].plot(x,x**2)\n",
        "axes[1,0].plot(x,x**3)\n",
        "axes[1,1].plot(x,x**4)"
      ],
      "metadata": {
        "id": "BYpVCo45En0W"
      },
      "execution_count": null,
      "outputs": []
    },
    {
      "cell_type": "markdown",
      "source": [
        "`tight_layput()`というメソッドを使えば、レイアウトがスッキリします。"
      ],
      "metadata": {
        "id": "GcCPuUPkFHkw"
      }
    },
    {
      "cell_type": "code",
      "source": [
        "fig , axes = plt.subplots(nrows=2 , ncols=2)\n",
        "x = np.linspace(-10,10,100)\n",
        "axes[0,0].plot(x,x)\n",
        "axes[0,1].plot(x,x**2)\n",
        "axes[1,0].plot(x,x**3)\n",
        "axes[1,1].plot(x,x**4)\n",
        "fig.tight_layout()"
      ],
      "metadata": {
        "id": "dOUKoL4WFSZm"
      },
      "execution_count": null,
      "outputs": []
    },
    {
      "cell_type": "markdown",
      "source": [
        "1つのプロットの際は、引数に何も指定しないことでplotできます。"
      ],
      "metadata": {
        "id": "QsJgNsSeFbfe"
      }
    },
    {
      "cell_type": "code",
      "source": [
        "x = np.linspace(-10 , 10 , 100)\n",
        "z = 1 / (1 + np.exp(-x))\n",
        "\n",
        "fig , axes = plt.subplots()\n",
        "axes.plot(x,z)"
      ],
      "metadata": {
        "id": "upHywSnvFvX2"
      },
      "execution_count": null,
      "outputs": []
    },
    {
      "cell_type": "markdown",
      "source": [
        "#### オブジェクト指向で付属情報を付ける\n",
        "オブジェクト指向では基本**`ax.set_xx()`**という形で、同様に付属情報を付けることができます。  \n",
        "ただし、`legend()`と`axis('off')`はそのままです。"
      ],
      "metadata": {
        "id": "8k3KPkGCGa6j"
      }
    },
    {
      "cell_type": "code",
      "source": [
        "x = np.linspace(-10 , 10 , 100)\n",
        "z = 1 / (1 + np.exp(-x))\n",
        "\n",
        "fig , axes = plt.subplots(1,2)\n",
        "axes[0].plot(x,z)\n",
        "axes[0].axis(\"off\")    #そのままなので注意\n",
        "\n",
        "axes[1].plot(x,z , label=\"sigmoid\")\n",
        "axes[1].set_xlabel(\"x\")\n",
        "axes[1].set_ylabel(\"y\")\n",
        "axes[1].set_title(\"sigmoid(x)\")\n",
        "axes[1].legend(loc=\"best\")    #そのままなので注意\n",
        "axes[1].set_xlim(-10,10)\n",
        "axes[1].set_ylim(0,1)\n",
        "axes[1].set_xticks([-5,0,5])\n",
        "axes[1].set_yticks([0,0.5,1])"
      ],
      "metadata": {
        "id": "9kdnuPVlHQkH"
      },
      "execution_count": null,
      "outputs": []
    },
    {
      "cell_type": "markdown",
      "source": [
        "[こちら](https://www.yutaka-note.com/entry/matplotlib_figure)のサイトで細かいレイアウトの調節方法の紹介がありますので、興味のある方は是非。"
      ],
      "metadata": {
        "id": "G5dWTlj1I2U1"
      }
    },
    {
      "cell_type": "markdown",
      "source": [
        "## 散布図\n",
        "これまで書いてきた数式のグラフよりも、これから説明するグラフの方がplotする機会が多いです。"
      ],
      "metadata": {
        "id": "ynW0uoJd3UDr"
      }
    },
    {
      "cell_type": "markdown",
      "source": [
        "その中でも1番使う頻度が高いのが**散布図**です。  \n",
        "データを点でプロットしたもので、データの全体的なばらつきや傾向を見ることができます。"
      ],
      "metadata": {
        "id": "s9FuoXrIsT8t"
      }
    },
    {
      "cell_type": "code",
      "source": [
        "df = pd.read_csv(\"tmdb_5000_movies.csv\")"
      ],
      "metadata": {
        "id": "Sjj8oqafvBFm"
      },
      "execution_count": null,
      "outputs": []
    },
    {
      "cell_type": "markdown",
      "source": [
        "### plt.scatter()\n",
        "散布図を作るには**`plt.scatter()`**関数を使います。  \n",
        "今回は、`revenue`（興行収入）カラムと`budget`（予算）カラムを指定します。"
      ],
      "metadata": {
        "id": "Gn87z_OEw2QR"
      }
    },
    {
      "cell_type": "code",
      "source": [
        "#x軸がrevenueカラム、y軸がbudgetカラム\n",
        "plt.scatter(df[\"revenue\"] , df[\"budget\"])    "
      ],
      "metadata": {
        "id": "aXhVLKY4xarG"
      },
      "execution_count": null,
      "outputs": []
    },
    {
      "cell_type": "markdown",
      "source": [
        "プロットが重なるとデータの解釈が難しくなるので、  \n",
        "`alpha`を指定して透明度を上げ、データの重なり具合を明らかにします。"
      ],
      "metadata": {
        "id": "b9V5NeVtxnK1"
      }
    },
    {
      "cell_type": "code",
      "source": [
        "plt.scatter(df[\"revenue\"] , df[\"budget\"] ,alpha=0.2)"
      ],
      "metadata": {
        "id": "h-ABSiqPxz5p"
      },
      "execution_count": null,
      "outputs": []
    },
    {
      "cell_type": "markdown",
      "source": [
        "### バブルチャート\n",
        "バブルチャートは、各プロットの特徴量を視覚的に表現するグラフの1つです。  \n",
        "特徴量に応じてプロットのサイズや色を変化させることで、**データの意味を直観的に読み取りやすくする**ことができます。"
      ],
      "metadata": {
        "id": "dnVgLkv0x7a5"
      }
    },
    {
      "cell_type": "markdown",
      "source": [
        "今回は映画の各言語でグループ化した後に`revenue`と`budget`の平均値を取ります。  \n",
        "その後、`popularity`カラムの値によってマーカーの大きさを変化させます。\n",
        "\n",
        "まずはそれぞれの値が0のものを除外しましょう。"
      ],
      "metadata": {
        "id": "MKuJ1C5DzbXo"
      }
    },
    {
      "cell_type": "code",
      "source": [
        "df = df[(df[\"revenue\"] != 0) & (df[\"budget\"] != 0)]\n",
        "df.groupby(\"original_language\").mean()"
      ],
      "metadata": {
        "id": "cpM1SrwszX8J"
      },
      "execution_count": null,
      "outputs": []
    },
    {
      "cell_type": "markdown",
      "source": [
        "`groupby`をして平均値を取るために必要なのは`revenue`と`budget`、そしてマーカーの大きさを表す`popularity`の3つです。\n",
        "\n",
        "`popularity`をそのまま使うと値が小さいため、値を10倍した`popular_ten`という新しいカラムを追加します。"
      ],
      "metadata": {
        "id": "vLi5z_Kt1c2b"
      }
    },
    {
      "cell_type": "code",
      "source": [
        "df[\"popular_ten\"] =df[\"popularity\"]*10"
      ],
      "metadata": {
        "id": "FCrGwXryHYii"
      },
      "execution_count": null,
      "outputs": []
    },
    {
      "cell_type": "code",
      "source": [
        "language_group_df = df.groupby('original_language').mean()[[\"revenue\", \"budget\", \"popular_ten\"]]\n",
        "plt.scatter(\"revenue\" , \"budget\" , data=language_group_df)"
      ],
      "metadata": {
        "id": "b88xD4ph2d6g"
      },
      "execution_count": null,
      "outputs": []
    },
    {
      "cell_type": "markdown",
      "source": [
        "この状態だと、各グループの平均値がplotされています。\n",
        "\n",
        "ここからまず、マーカーの大きさを`popular_ten`の値に応じて変化させます。  \n",
        "引数**`s`**を指定します。"
      ],
      "metadata": {
        "id": "JRNiiSWV52D3"
      }
    },
    {
      "cell_type": "code",
      "source": [
        "plt.scatter(\"revenue\" , \"budget\" , s=\"popular_ten\" , data=language_group_df)"
      ],
      "metadata": {
        "id": "G0lDJqnN6M8f"
      },
      "execution_count": null,
      "outputs": []
    },
    {
      "cell_type": "markdown",
      "source": [
        "引数**`c`**を指定することで、マーカーの色を割り振ることができます。  \n",
        "\n",
        "matplotlibには、数字を指定することで、数字ごとに色を変えるという機能があります。  \n",
        "これを使っていきましょう。"
      ],
      "metadata": {
        "id": "1D62bLnd6oCV"
      }
    },
    {
      "cell_type": "code",
      "source": [
        "c = np.arange(len(language_group_df))\n",
        "plt.scatter(\"revenue\" , \"budget\" , s=\"popular_ten\" ,c=c ,  data=language_group_df)"
      ],
      "metadata": {
        "id": "Ar83s68WLo64"
      },
      "execution_count": null,
      "outputs": []
    },
    {
      "cell_type": "markdown",
      "source": [
        "このままだと各マーカーがどのグループを表しているか分からないので、テキストを挿入します。\n",
        "\n",
        "テキストをplotするには**`plt.annotate()`**という関数を使います。\n",
        "挿入するテキストの指定後、タプルで挿入する座標を指定します。\n"
      ],
      "metadata": {
        "id": "KiitnU_rNNlM"
      }
    },
    {
      "cell_type": "code",
      "source": [
        "c = np.arange(len(language_group_df))\n",
        "plt.scatter(\"revenue\" , \"budget\" , s=\"popular_ten\" ,c=c ,  data=language_group_df)\n",
        "plt.annotate(\"hello\" , (1e8,3e7))    #図の右上に「hello」というテキストをplot"
      ],
      "metadata": {
        "id": "hhKbJuCYOHDh"
      },
      "execution_count": null,
      "outputs": []
    },
    {
      "cell_type": "markdown",
      "source": [
        "今回は、映画の言語をテキストとして代入する必要があります。\n",
        "\n",
        "![dataframe.png](data:image/png;base64,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)\n",
        "\n",
        "上のDataFrameのインデックスが挿入するテキスト、  `budget`と`revenue`の値が挿入する座標を表します。  \n",
        "このDataFrameをfor文で回すことで必要な値を取得しましょう。"
      ],
      "metadata": {
        "id": "xplQ37ivOcB_"
      }
    },
    {
      "cell_type": "code",
      "source": [
        "df = df[(df['revenue'] != 0) & (df['budget'] != 0)]\n",
        "df[\"popular_ten\"] =df[\"popularity\"]*10\n",
        "language_group_df = df.groupby('original_language').mean()[['revenue', 'budget', 'popular_ten']]\n",
        "c = np.arange(len(language_group_df))\n",
        "plt.scatter('revenue', 'budget',c=c, s='popular_ten' ,data=language_group_df)\n",
        "for idx, row in language_group_df.iterrows():\n",
        "    plt.annotate(idx, (row['revenue'], row['budget']))\n",
        "plt.xlabel('revenue')\n",
        "plt.ylabel('budget')"
      ],
      "metadata": {
        "id": "hnGd4cOgZxtv"
      },
      "execution_count": null,
      "outputs": []
    },
    {
      "cell_type": "markdown",
      "source": [
        "## ヒストグラム\n",
        "連続データをいくつかのグループに分け、そのグループにデータがどれだけあるかを棒状で表したグラフを**ヒストグラム**といいます。\n",
        "\n",
        "縦軸は**度数**（データの個数）、横軸は**階級**（データの区間）です。階級は特に**bin**とも呼ばれます。"
      ],
      "metadata": {
        "id": "hsASGRMMQnES"
      }
    },
    {
      "cell_type": "code",
      "source": [
        "df = pd.read_csv(\"tmdb_5000_movies.csv\")"
      ],
      "metadata": {
        "id": "rxeeNu30JFBC"
      },
      "execution_count": null,
      "outputs": []
    },
    {
      "cell_type": "markdown",
      "source": [
        "### plt.hist()\n",
        "ヒストグラムを作るには**`plt.hist()`**関数を使います。  \n",
        "今回は、`vote_average`カラムのデータを作成します。"
      ],
      "metadata": {
        "id": "FYG8LSEGJNhU"
      }
    },
    {
      "cell_type": "code",
      "source": [
        "plt.hist(df[\"vote_average\"] )\n",
        "plt.show()    #書くことで戻り値を省略可能"
      ],
      "metadata": {
        "id": "-r4wi_lHJ9nQ"
      },
      "execution_count": null,
      "outputs": []
    },
    {
      "cell_type": "markdown",
      "source": [
        "引数**`bins`**を指定すると、区間の個数を指定することができます。デフォルトは10個です。"
      ],
      "metadata": {
        "id": "ZalMuxguL5O8"
      }
    },
    {
      "cell_type": "code",
      "source": [
        "plt.hist(df[\"vote_average\"] ,bins=50)\n",
        "plt.show() "
      ],
      "metadata": {
        "id": "3_jcMGn_MEfj"
      },
      "execution_count": null,
      "outputs": []
    },
    {
      "cell_type": "markdown",
      "source": [
        "引数**`range`**を指定すると、ヒストグラムに使用するデータの範囲を指定することができます。   \n",
        "range(最小値,最大値)の形になります。デフォルトではデータの最小値・最大値が使用されています。\n"
      ],
      "metadata": {
        "id": "czFuWBtwMYCT"
      }
    },
    {
      "cell_type": "code",
      "source": [
        "plt.hist(df[\"vote_average\"] ,bins=50,range=(0,10))\n",
        "plt.show() "
      ],
      "metadata": {
        "id": "OsNlRiHROBZZ"
      },
      "execution_count": null,
      "outputs": []
    },
    {
      "cell_type": "markdown",
      "source": [
        "ヒストグラムについてさらに学びたい方は、[こちら](https://www.yutaka-note.com/entry/matplotlib_hist#%E6%A8%AA%E8%BB%B8%E3%82%92%E5%AF%BE%E6%95%B0%E3%81%AB%E8%A8%AD%E5%AE%9Abins--nplogspace:~:text=%E7%9B%AE%E6%AC%A1%E3%81%B8%E6%88%BB%E3%82%8B-,%E6%A8%AA%E8%BB%B8%E3%82%92%E5%AF%BE%E6%95%B0%E3%81%AB%E8%A8%AD%E5%AE%9A%EF%BC%9Abins%20%3D%20np.logspace(),-%E6%A8%AA%E8%BB%B8%E3%82%92)が参考になると思います。  \n",
        "特に**横軸を対数に設定する方法**については、今後使う場面があるかもしれません。"
      ],
      "metadata": {
        "id": "_fmmpBrSRebx"
      }
    },
    {
      "cell_type": "markdown",
      "source": [
        "## 棒グラフ\n",
        "連続データを対象にしているヒストグラムとは対照的に、  \n",
        "カテゴリー別のデータを比較し、棒の高さでデータの大小を表したグラフを**棒グラフ**といいます。\n"
      ],
      "metadata": {
        "id": "A9Mrgh3xSBWX"
      }
    },
    {
      "cell_type": "markdown",
      "source": [
        "棒グラフを作るには**`plt.bar()`**関数を使います。  \n",
        "以下のようなDataFrameを作成してみましょう。"
      ],
      "metadata": {
        "id": "tU3mHpK4UUBb"
      }
    },
    {
      "cell_type": "code",
      "source": [
        "df = pd.DataFrame({\"category\":[1,2,3,4,5],\n",
        "                  \"value\":[10,20,30,40,50]})\n",
        "df"
      ],
      "metadata": {
        "id": "LRAq8yQVR3jB"
      },
      "execution_count": null,
      "outputs": []
    },
    {
      "cell_type": "code",
      "source": [
        "plt.bar(df[\"category\"],df[\"value\"])"
      ],
      "metadata": {
        "id": "pLmDXp4AWKNX"
      },
      "execution_count": null,
      "outputs": []
    },
    {
      "cell_type": "markdown",
      "source": [
        "棒グラフについてさらに学びたい方は、[こちら](https://www.yutaka-note.com/entry/matplotlib_bar#DataFrame%E3%81%AE%E7%A9%8D%E3%81%BF%E4%B8%8A%E3%81%92%E3%83%86%E3%83%B3%E3%83%97%E3%83%AC%E3%83%BC%E3%83%88:~:text=%E7%9B%AE%E6%AC%A1%E3%81%B8%E6%88%BB%E3%82%8B-,%E7%A9%8D%E3%81%BF%E4%B8%8A%E3%81%92%E6%A3%92%E3%82%B0%E3%83%A9%E3%83%95%E3%81%AE%E4%BD%9C%E6%88%90%E6%96%B9%E6%B3%95,-%E7%A9%8D%E3%81%BF%E4%B8%8A%E3%81%92%E6%A3%92%E3%82%B0%E3%83%A9%E3%83%95%E3%82%92)が参考になると思います。   \n",
        "特に積み上げ棒グラフは結構使うと思います。 "
      ],
      "metadata": {
        "id": "XVWcgR9aWxAm"
      }
    },
    {
      "cell_type": "markdown",
      "source": [
        "またの[こちら](https://biotech-lab.org/articles/10875#100:~:text=plt.show()-,100%25%E7%A9%8D%E3%81%BF%E4%B8%8A%E3%81%92%E6%A3%92%E3%82%B0%E3%83%A9%E3%83%95%E3%82%92%E6%8F%8F%E7%94%BB%E3%81%99%E3%82%8B,-%E3%83%87%E3%83%BC%E3%82%BF%E3%82%BB%E3%83%83%E3%83%88%E3%81%AE%E5%90%88%E8%A8%88)のサイトでは100%積み上げ棒グラフの書き方について言及があります。  \n",
        "こちらを使うこともあるので興味のある方は参照してください。"
      ],
      "metadata": {
        "id": "_c1U9tMj5-oj"
      }
    },
    {
      "cell_type": "markdown",
      "source": [
        "## 箱ひげ図\n",
        "**箱ひげ図**(**box plot**)とは、データの分布を「箱」と「ひげ」で表したグラフです。  \n",
        "データの集まり方を一目で捉えることができます。\n",
        "\n",
        "箱ひげ図についてよく分からない方は、[こちら](https://bellcurve.jp/statistics/course/5220.html)\n",
        "のサイトを見ていただければと思います。"
      ],
      "metadata": {
        "id": "bFFka42la3Q_"
      }
    },
    {
      "cell_type": "code",
      "source": [
        "df = pd.read_csv(\"tmdb_5000_movies.csv\")"
      ],
      "metadata": {
        "id": "aij0msP3eDwZ"
      },
      "execution_count": null,
      "outputs": []
    },
    {
      "cell_type": "markdown",
      "source": [
        "箱ひげ図を作るには**`plt.boxplot()`**関数を使います。  \n",
        "今回は、`vote_average`（平均評価）カラムのデータを作成します。"
      ],
      "metadata": {
        "id": "73qhv5e_e-sv"
      }
    },
    {
      "cell_type": "code",
      "source": [
        "plt.boxplot(df[\"vote_average\"])\n",
        "plt.show()"
      ],
      "metadata": {
        "id": "J_BbIRDhfmR9"
      },
      "execution_count": null,
      "outputs": []
    },
    {
      "cell_type": "markdown",
      "source": [
        "## plotの保存\n",
        "ここまでで学習してきたplotは、他の人と共有するときなどは基本的にファイルに保存します。"
      ],
      "metadata": {
        "id": "IfQmmh9Wgo7E"
      }
    },
    {
      "cell_type": "markdown",
      "source": [
        "### グラフの大きさの調整\n",
        "シグモイド関数をplotして、サイズを調整してみましょう。"
      ],
      "metadata": {
        "id": "wEFNAmn_iXDP"
      }
    },
    {
      "cell_type": "code",
      "source": [
        "# シグモイド関数のplot\n",
        "\n",
        "x = np.linspace(-10 , 10 , 100)\n",
        "z = 1 / (1 + np.exp(-x))\n",
        "plt.plot(x,z)"
      ],
      "metadata": {
        "id": "eHYoHtGuieGp"
      },
      "execution_count": null,
      "outputs": []
    },
    {
      "cell_type": "markdown",
      "source": [
        "**`plt.figure()`**という関数の中で、引数**`figsize`**に（横幅 , 高さ）をインチ数で指定します。"
      ],
      "metadata": {
        "id": "Lu_-NiJDjB09"
      }
    },
    {
      "cell_type": "code",
      "source": [
        "plt.figure(figsize=(1,1))\n",
        "plt.plot(x,z)"
      ],
      "metadata": {
        "id": "9mwZb00Ei3nu"
      },
      "execution_count": null,
      "outputs": []
    },
    {
      "cell_type": "markdown",
      "source": [
        "オブジェクト指向を使ってサイズを調整することもできます。"
      ],
      "metadata": {
        "id": "5jfP5YWnkIED"
      }
    },
    {
      "cell_type": "code",
      "source": [
        "fig , axes = plt.subplots(figsize=(1,1))\n",
        "axes.plot(x,z)"
      ],
      "metadata": {
        "id": "TDYAn--4kNjs"
      },
      "execution_count": null,
      "outputs": []
    },
    {
      "cell_type": "markdown",
      "source": [
        "### pngで保存する\n",
        "一番使う手法です。  \n",
        "`figure`オブジェクトの**`savefig()`**関数を呼び出し、引数にファイル名を指定することで保存できます。"
      ],
      "metadata": {
        "id": "vt70IqcRkfn7"
      }
    },
    {
      "cell_type": "code",
      "source": [
        "fig , axes = plt.subplots()\n",
        "axes.plot(x,z)\n",
        "axes.set_xlabel(\"x\")\n",
        "axes.set_ylabel(\"y\")\n",
        "axes.set_title(\"sigmoid(x)\")\n",
        "\n",
        "fig.savefig(\"sigmoid_sample.png\")"
      ],
      "metadata": {
        "id": "Vu99CXallvAg"
      },
      "execution_count": null,
      "outputs": []
    },
    {
      "cell_type": "markdown",
      "source": [
        "pngで保存するときは通常、グラフのタイトルや軸のラベルをつけて保存します。\n",
        "保存されたかどうか、「ファイル」から確認してみてください。"
      ],
      "metadata": {
        "id": "Bl1-b5nemiUX"
      }
    },
    {
      "cell_type": "markdown",
      "source": [
        "### pdfで保存する\n",
        "まとめて1つのファイルとして保存したいときはpdfで保存しましょう。\n",
        "\n",
        "新しいモジュールを使用します。"
      ],
      "metadata": {
        "id": "my0JnRzZnjKc"
      }
    },
    {
      "cell_type": "code",
      "source": [
        "from matplotlib.backends.backend_pdf import PdfPages"
      ],
      "metadata": {
        "id": "b2fmy0YHpXLg"
      },
      "execution_count": null,
      "outputs": []
    },
    {
      "cell_type": "markdown",
      "source": [
        "これでPdfPagesクラスを使えるようになります。   \n",
        "**`PdfPages()`**にpdfのファイル名を入れて、`pdf`というインスタンスを作成します。"
      ],
      "metadata": {
        "id": "44TBrkAEpjpx"
      }
    },
    {
      "cell_type": "code",
      "source": [
        "pdf = PdfPages(\"sigmoid_sample.pdf\")"
      ],
      "metadata": {
        "id": "A7uuYKnipveb"
      },
      "execution_count": null,
      "outputs": []
    },
    {
      "cell_type": "markdown",
      "source": [
        "このインスタンスを使って、保存していきます。  \n",
        "**`pdf.savefig()`**に、`figure`オブジェクトを入れるだけです。"
      ],
      "metadata": {
        "id": "q6XjU8rEqYYH"
      }
    },
    {
      "cell_type": "code",
      "source": [
        "fig , axes = plt.subplots()\n",
        "axes.plot(x,z)\n",
        "axes.set_xlabel(\"x\")\n",
        "axes.set_ylabel(\"y\")\n",
        "axes.set_title(\"sigmoid(x)\")\n",
        "\n",
        "pdf.savefig(fig)\n",
        "\n",
        "pdf.close()   #pdfの更新を防ぐために実行"
      ],
      "metadata": {
        "id": "3bWG1ISeqnYW"
      },
      "execution_count": null,
      "outputs": []
    },
    {
      "cell_type": "markdown",
      "source": [
        "pdfで保存することの最大の利点は、**大量のグラフを1つのファイルで保存できる**ことです。  \n",
        "for文でfigureをループさせます。"
      ],
      "metadata": {
        "id": "YOy_xNuksQ7-"
      }
    },
    {
      "cell_type": "code",
      "source": [
        "pdf = PdfPages(\"sigmoid_sample.pdf\")\n",
        "\n",
        "for i in range(5):\n",
        "  fig , axes = plt.subplots()\n",
        "  axes.plot(x,x**i)\n",
        "  axes.set_xlabel(\"x\")\n",
        "  axes.set_ylabel(\"y\")\n",
        "  axes.set_title(\"y=x^{}\".format(i))\n",
        "\n",
        "  pdf.savefig(fig)    #forループの中で保存\n",
        "\n",
        "pdf.close()   #ループ後に閉じる"
      ],
      "metadata": {
        "id": "3MTYIg6dsvLK"
      },
      "execution_count": null,
      "outputs": []
    },
    {
      "cell_type": "markdown",
      "source": [
        "1ページに1グラフがplotされていることが確認できたでしょうか。  \n",
        "また、「ctrl+F」を利用することもできます。"
      ],
      "metadata": {
        "id": "9AJm8ssauLPZ"
      }
    }
  ]
}