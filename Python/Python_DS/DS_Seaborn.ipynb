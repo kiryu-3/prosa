{
  "nbformat": 4,
  "nbformat_minor": 0,
  "metadata": {
    "colab": {
      "private_outputs": true,
      "provenance": [],
      "toc_visible": true,
      "include_colab_link": true
    },
    "kernelspec": {
      "name": "python3",
      "display_name": "Python 3"
    },
    "language_info": {
      "name": "python"
    }
  },
  "cells": [
    {
      "cell_type": "markdown",
      "metadata": {
        "id": "view-in-github",
        "colab_type": "text"
      },
      "source": [
        "<a href=\"https://colab.research.google.com/github/kiryu-3/Prmn2023_DS/blob/main/Python/Python_DS/DS_Seaborn.ipynb\" target=\"_parent\"><img src=\"https://colab.research.google.com/assets/colab-badge.svg\" alt=\"Open In Colab\"/></a>"
      ]
    },
    {
      "cell_type": "markdown",
      "source": [
        "# Seaborn"
      ],
      "metadata": {
        "id": "voSVA2v9oS2y"
      }
    },
    {
      "cell_type": "markdown",
      "source": [
        "## Seabornとは\n",
        "**Seaborn**もmatplotlibと同じように、データの可視化をするライブラリです。  \n",
        "中でmatplotlibを使っていますが、よりきれいに表示することができます。より実践的です。\n",
        "\n",
        "![ダウンロード.png](data:image/png;base64,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)\n",
        "\n",
        "これまでに比べると量が少ないと思います。"
      ],
      "metadata": {
        "id": "x1fgNCYmp-Ne"
      }
    },
    {
      "cell_type": "markdown",
      "source": [
        "GoogleColabやJupyter Labといった環境下では、最初から入っているため改めて入れる必要はありません。  \n",
        "自分で入れる場合は`conda install seaborn`や`pip install seaborn`という記述をします。"
      ],
      "metadata": {
        "id": "wWyWVObCrqRL"
      }
    },
    {
      "cell_type": "markdown",
      "source": [
        "Seabornをimportする際、`sns`とするのが一般的です。"
      ],
      "metadata": {
        "id": "qTuCqYwOswRw"
      }
    },
    {
      "cell_type": "code",
      "execution_count": null,
      "metadata": {
        "id": "S0kCrMUujE2O"
      },
      "outputs": [],
      "source": [
        "import seaborn as sns\n",
        "\n",
        "import numpy as np\n",
        "import pandas as pd\n",
        "import matplotlib.pyplot as plt"
      ]
    },
    {
      "cell_type": "markdown",
      "source": [
        "## ヒストグラム\n",
        "matplotlibでも学習したヒストグラムです。最頻出です。\n"
      ],
      "metadata": {
        "id": "pngRtZ32un7Y"
      }
    },
    {
      "cell_type": "code",
      "source": [
        "df = pd.read_csv(\"tmdb_5000_movies.csv\")"
      ],
      "metadata": {
        "id": "OiCRGU2-u409"
      },
      "execution_count": null,
      "outputs": []
    },
    {
      "cell_type": "markdown",
      "source": [
        "### sns.histplot()\n",
        "ヒストグラムを作るには**`sns.histplot()`**関数を使います。  \n",
        "今回も前回と同様、`popularity`カラムのデータを作成します。"
      ],
      "metadata": {
        "id": "gCeUAZyDyb5-"
      }
    },
    {
      "cell_type": "code",
      "source": [
        "sns.histplot(df[\"popularity\"])"
      ],
      "metadata": {
        "id": "SEhv435PzAlA"
      },
      "execution_count": null,
      "outputs": []
    },
    {
      "cell_type": "markdown",
      "source": [
        "何か線が引いてありますが、これは**確率密度変数**（[こちら](https://bellcurve.jp/statistics/glossary/811.html)など参照、今は気にしなくていいです）を推定したものです。  \n"
      ],
      "metadata": {
        "id": "2CD9X0ma0ZIt"
      }
    },
    {
      "cell_type": "markdown",
      "source": [
        "matplotlibの時と同様、引数**bins**を指定することができます。"
      ],
      "metadata": {
        "id": "Ihggy90m3AMH"
      }
    },
    {
      "cell_type": "code",
      "source": [
        "sns.histplot(df[\"vote_average\"] , bins=50)"
      ],
      "metadata": {
        "id": "W3rBHHP59qzO"
      },
      "execution_count": null,
      "outputs": []
    },
    {
      "cell_type": "markdown",
      "source": [
        "[こちら](https://bit.ly/3SbLELA)にもう少し詳しい解説がありますので、興味のある方は是非。"
      ],
      "metadata": {
        "id": "fE9tXusS-PJt"
      }
    },
    {
      "cell_type": "markdown",
      "source": [
        "### sns.displot()\n",
        "2変量のヒストグラムを取得したい場合は、**`sns.displot()`**関数を使います。  \n",
        "今回は`revenue`カラムと`budget`カラムのデータを作成します。"
      ],
      "metadata": {
        "id": "WgSXUXzfAdEw"
      }
    },
    {
      "cell_type": "code",
      "source": [
        "df = pd.read_csv(\"tmdb_5000_movies.csv\")\n",
        "df = df[(df[\"original_language\"]== \"fr\")]    #データ数を考慮し、フランス映画に限定します"
      ],
      "metadata": {
        "id": "BVfMjesGIxYD"
      },
      "execution_count": null,
      "outputs": []
    },
    {
      "cell_type": "code",
      "source": [
        "df = df[(df[\"revenue\"] != 0) & (df[\"budget\"] != 0)]    #0のカラムは削除\n",
        "sns.displot(df,x=\"revenue\" , y=\"budget\",alpha=1)"
      ],
      "metadata": {
        "id": "OV0X1VWm_QQS"
      },
      "execution_count": null,
      "outputs": []
    },
    {
      "cell_type": "markdown",
      "source": [
        "フランス映画は、低予算・低収入のものを除けば、どちらかというと儲かっている映画の方が大きいことが分かります。  \n",
        "データ量を見ることができるのが大きな特徴です。"
      ],
      "metadata": {
        "id": "VqzkabaCLEdW"
      }
    },
    {
      "cell_type": "markdown",
      "source": [
        "### sns.jointplot()\n",
        "2変数の分布を見ることができます。  \n",
        "散布図とヒストグラムの両方を可視化できるのが特徴です。"
      ],
      "metadata": {
        "id": "3Kcm1XcxWt_M"
      }
    },
    {
      "cell_type": "code",
      "source": [
        "df = pd.read_csv(\"tmdb_5000_movies.csv\")\n",
        "df = df[(df[\"revenue\"] != 0) & (df[\"budget\"] != 0)] \n",
        "sns.jointplot(x=\"revenue\" , y=\"budget\" , data=df , alpha=0.2)"
      ],
      "metadata": {
        "id": "Jf87AYF1Ltsw"
      },
      "execution_count": null,
      "outputs": []
    },
    {
      "cell_type": "markdown",
      "source": [
        "基本的に興行収入が高い映画は、比較的予算が高い映画であると分かります。  \n",
        "データの偏りが分かりやすくなったと思います。"
      ],
      "metadata": {
        "id": "lcPRGakJao2V"
      }
    },
    {
      "cell_type": "markdown",
      "source": [
        "引数**`kind`**で**`reg`**と指定すると、2変数の大まかな関係を線で引くことができます。"
      ],
      "metadata": {
        "id": "y_ZjvKrScEQE"
      }
    },
    {
      "cell_type": "code",
      "source": [
        "df = pd.read_csv(\"tmdb_5000_movies.csv\")\n",
        "df = df[(df[\"revenue\"] != 0) & (df[\"budget\"] != 0)] \n",
        "sns.jointplot(x=\"revenue\" , y=\"budget\" , data=df , kind=\"reg\" , joint_kws={\"scatter_kws\":dict(alpha=0.2)})    #透明度の設定は少し複雑"
      ],
      "metadata": {
        "id": "JPS4Nam7bMIb"
      },
      "execution_count": null,
      "outputs": []
    },
    {
      "cell_type": "markdown",
      "source": [
        "興行収入が高い映画は、予算が高い映画であるものが多いという関係が明らかになりました。"
      ],
      "metadata": {
        "id": "7J_vKYS5cNCx"
      }
    },
    {
      "cell_type": "markdown",
      "source": [
        "引数`kind`を**`hex`**と指定すると、散布図を六角形のヒートマップ形式で表示します。"
      ],
      "metadata": {
        "id": "EzWHi9_OcU9Y"
      }
    },
    {
      "cell_type": "code",
      "source": [
        "df = pd.read_csv(\"tmdb_5000_movies.csv\")\n",
        "df = df[(df[\"revenue\"] != 0) & (df[\"budget\"] != 0)] \n",
        "sns.jointplot(x=\"revenue\" , y=\"budget\" , data=df , kind=\"hex\") "
      ],
      "metadata": {
        "id": "xQAaYTQCdt8m"
      },
      "execution_count": null,
      "outputs": []
    },
    {
      "cell_type": "markdown",
      "source": [
        "データの重なり具合がより分かりやすくなったと思います。"
      ],
      "metadata": {
        "id": "8BjNlM8seAlF"
      }
    },
    {
      "cell_type": "markdown",
      "source": [
        "### sns.pairplot()\n",
        "Seabornの中で再頻出の関数です。  \n",
        "DataFrame内にある全ての数値項目のペアのplotを表示できます。\n"
      ],
      "metadata": {
        "id": "6h77z13oklax"
      }
    },
    {
      "cell_type": "code",
      "source": [
        "df = pd.read_csv(\"tmdb_5000_movies.csv\")\n",
        "sns.pairplot(df)"
      ],
      "metadata": {
        "id": "UTlMFnVek47A"
      },
      "execution_count": null,
      "outputs": []
    },
    {
      "cell_type": "markdown",
      "source": [
        "同じカラムが交差するところは、そのカラムのヒストグラムが表示されます。"
      ],
      "metadata": {
        "id": "shJLvX5llJpo"
      }
    },
    {
      "cell_type": "markdown",
      "source": [
        "不要なカラムは除くこともあります。必要なカラムのみ指定しましょう。"
      ],
      "metadata": {
        "id": "oQ5NGloYl1xO"
      }
    },
    {
      "cell_type": "code",
      "source": [
        "df = pd.read_csv(\"tmdb_5000_movies.csv\")\n",
        "# 100未満は信頼性が低いとする\n",
        "df = df[df['vote_count'] > 100]\n",
        "sns.pairplot(df[[\"revenue\" , \"budget\" , \"vote_count\" , \"vote_average\"]])"
      ],
      "metadata": {
        "id": "8SE3TxkskxXK"
      },
      "execution_count": null,
      "outputs": []
    },
    {
      "cell_type": "markdown",
      "source": [
        "`pairplot`では引数**`hue`**を使ってデータの色分けをすることが多いです。  \n",
        "カテゴリごとにマーカーの色を変えることができます。"
      ],
      "metadata": {
        "id": "EnnKtCO8m5Wd"
      }
    },
    {
      "cell_type": "code",
      "source": [
        "#平均評価の中央値を求める\n",
        "vote_average_median = df['vote_average'].median()    #処理が重いので別変数にする\n",
        "\n",
        "#平均評価が中央値以下であればlow、中央値以上であればhigh\n",
        "df[\"evaluation\"] = df[\"vote_average\"].apply(lambda x: \"high\" if x> vote_average_median else \"low\")\n",
        "sns.pairplot(df[[\"revenue\" , \"budget\" , \"vote_count\" , \"vote_average\",\"evaluation\"]],\n",
        "             hue=\"evaluation\",\n",
        "             plot_kws={'alpha':0.5},    #透明度の設定は少し複雑\n",
        "             #diag_kind='hist'    #ヒストグラムのグラフの種類を変更できる\n",
        "             )"
      ],
      "metadata": {
        "id": "nCgWUv-9m_7c"
      },
      "execution_count": null,
      "outputs": []
    },
    {
      "cell_type": "markdown",
      "source": [
        "## Categorical Plot\n",
        "カテゴリーの値が入ったカラムに対してのplotを**Categorical Plot**といいます。  \n",
        "いくつか用意されています。"
      ],
      "metadata": {
        "id": "yBo0YoYTsqGC"
      }
    },
    {
      "cell_type": "markdown",
      "source": [
        "### sns.barplot()\n",
        "カテゴリーごとに分けて、指定したカラムの平均値を比較する棒グラフを作ることができます。"
      ],
      "metadata": {
        "id": "zbeHu7BVtPIx"
      }
    },
    {
      "cell_type": "code",
      "source": [
        "# 上で作ったevaluationカラムを使います\n",
        "\n",
        "#evaluationのカテゴリ別に、興行収入の平均値を算出\n",
        "sns.barplot(x=\"evaluation\" , y=\"revenue\" , data=df)"
      ],
      "metadata": {
        "id": "8_WOXBAnuD3p"
      },
      "execution_count": null,
      "outputs": []
    },
    {
      "cell_type": "markdown",
      "source": [
        "引かれている黒い線はError Barと呼ばれ、不確かさを表します。  \n",
        "今はそんなにこだわる必要はなさそうです。"
      ],
      "metadata": {
        "id": "GaX4TYQtvTFG"
      }
    },
    {
      "cell_type": "markdown",
      "source": [
        "平均値以外の値を比較したい場合は、引数**`estimator`**を使います。  \n",
        "Numpyの関数で指定します。"
      ],
      "metadata": {
        "id": "GT6BYYblvpzk"
      }
    },
    {
      "cell_type": "code",
      "source": [
        "#evaluationのカテゴリ別に、興行収入の中央値を算出\n",
        "sns.barplot(x=\"evaluation\" , y=\"revenue\" , data=df , estimator=np.median)"
      ],
      "metadata": {
        "id": "Kh4D-RK8vz81"
      },
      "execution_count": null,
      "outputs": []
    },
    {
      "cell_type": "markdown",
      "source": [
        "### sns.countplot()\n",
        "データの数を単純にカテゴリ別に比べます。"
      ],
      "metadata": {
        "id": "d7vFEy22w9JC"
      }
    },
    {
      "cell_type": "markdown",
      "source": [
        "**`year`**というカラムを作って、西暦別にデータの数をカウントしましょう。"
      ],
      "metadata": {
        "id": "4229VJixiouv"
      }
    },
    {
      "cell_type": "code",
      "source": [
        "df = pd.read_csv(\"tmdb_5000_movies.csv\")\n",
        "df = df[df['vote_count'] > 100]\n",
        "\n",
        "vote_average_median = df['vote_average'].median() \n",
        "df[\"evaluation\"] = df[\"vote_average\"].apply(lambda x: \"high\" if x> vote_average_median else \"low\")"
      ],
      "metadata": {
        "id": "CjAl_h9D4xEF"
      },
      "execution_count": null,
      "outputs": []
    },
    {
      "cell_type": "code",
      "source": [
        "#release_dateカラムの先頭から4文字を取り出す\n",
        "df[\"year\"] = df[\"release_date\"].apply(lambda x: x[:4])\n",
        "sns.countplot(x=\"year\" , data=df.sort_values(\"year\"))    #sortして年を奇麗に並べる"
      ],
      "metadata": {
        "id": "8RGGNVvYsqW8"
      },
      "execution_count": null,
      "outputs": []
    },
    {
      "cell_type": "markdown",
      "source": [
        "x軸の値の量が多いために重なっており、かなり見にくいグラフになっています。\n",
        "\n"
      ],
      "metadata": {
        "id": "b3Uwtq259m2F"
      }
    },
    {
      "cell_type": "markdown",
      "source": [
        "`countplot()`を含むSeabornのplotは、戻り値が`axes`のオブジェクトであるために、  \n",
        "matplotlibの`axes`に対して行っていた操作が可能になります。"
      ],
      "metadata": {
        "id": "EbCBA2PQ_Z7Y"
      }
    },
    {
      "cell_type": "code",
      "source": [
        "ax = sns.countplot(x='year', data=df, hue='evaluation')\n",
        "ax.tick_params(rotation=90 , labelsize=6)"
      ],
      "metadata": {
        "id": "xPvxVgyTuGcA"
      },
      "execution_count": null,
      "outputs": []
    },
    {
      "cell_type": "markdown",
      "source": [
        "引数**`hue`**を指定すると、西暦別のカウントに加えて、`evaluation`別に色分けされてカウントが表示されます。  \n",
        "また、今回初登場の**`tick_params`**については[こちら](https://bit.ly/3qLFRkf)を参考にしてください。"
      ],
      "metadata": {
        "id": "2tte198mAK4n"
      }
    },
    {
      "cell_type": "markdown",
      "source": [
        "これでもまだカテゴリ量が多いためにグラフの見にくさは改善されていません。  \n",
        "そのため、10年ごとに西暦を区切った新しいカテゴリを作りましょう。"
      ],
      "metadata": {
        "id": "sI1otU9kAWtH"
      }
    },
    {
      "cell_type": "code",
      "source": [
        "#release_dateカラムの先頭から3文字を取り出す 例：2013 -> 2010s\n",
        "df['decade'] = df['release_date'].apply(lambda x: x[:3] + '0s')\n",
        "\n",
        "sns.countplot(x='decade', data=df.sort_values('decade'), hue='evaluation')"
      ],
      "metadata": {
        "id": "84h8lgkiuKyw"
      },
      "execution_count": null,
      "outputs": []
    },
    {
      "cell_type": "markdown",
      "source": [
        "直接pltで付加情報を付け加えることが可能です。（ビックリです！）"
      ],
      "metadata": {
        "id": "QtvAvXigB627"
      }
    },
    {
      "cell_type": "code",
      "source": [
        "#release_dateカラムの先頭から3文字を取り出す 例：2013 -> 2010s\n",
        "df['decade'] = df['release_date'].apply(lambda x: x[:3] + '0s')\n",
        "\n",
        "sns.countplot(x='decade', data=df.sort_values('decade'), hue='evaluation')\n",
        "\n",
        "plt.xlabel(\"x\")\n",
        "plt.ylabel(\"y\")\n",
        "plt.xticks(rotation=45)"
      ],
      "metadata": {
        "id": "Vf1nWtuACFud"
      },
      "execution_count": null,
      "outputs": []
    },
    {
      "cell_type": "markdown",
      "source": [
        "### sns.boxplot()\n",
        "matplotlibでも学習した箱ひげ図と同じですが、  \n",
        "Seabornの方が使い勝手の良さと綺麗さからよく好まれるようです。"
      ],
      "metadata": {
        "id": "SFEuLkLXCfIL"
      }
    },
    {
      "cell_type": "code",
      "source": [
        "sns.boxplot(x=\"decade\" , y=\"vote_average\" ,data=df.sort_values(\"decade\"))"
      ],
      "metadata": {
        "id": "MiY49OCRCznq"
      },
      "execution_count": null,
      "outputs": []
    },
    {
      "cell_type": "markdown",
      "source": [
        "年代が進むにつれて平均評価が落ちていくことが分かります。  \n",
        "\n",
        "これは、昔の映画で今もデータが残っている映画は名作が多いことが理由として考えられます。"
      ],
      "metadata": {
        "id": "kg_WWuHTDo9A"
      }
    },
    {
      "cell_type": "markdown",
      "source": [
        "### sns.violinplot()\n",
        "データの分布に応じて箱の形を変えることができます。  \n",
        "\n",
        "平均にデータが集まることが多いために、バイオリンのような形になるため`violinplot`と呼びます。"
      ],
      "metadata": {
        "id": "oX0chjcmEIrv"
      }
    },
    {
      "cell_type": "code",
      "source": [
        "sns.violinplot(x=\"decade\",y=\"vote_average\" , data=df.sort_values(\"decade\"))"
      ],
      "metadata": {
        "id": "bjA3_WgKFELG"
      },
      "execution_count": null,
      "outputs": []
    },
    {
      "cell_type": "markdown",
      "source": [
        "統計量の比較だけを把握したい場合は`boxplot`を、  \n",
        "全体の分布の様子を把握したい場合は`violinplot`を使うようにしましょう。"
      ],
      "metadata": {
        "id": "OfWxVP2RGVOE"
      }
    },
    {
      "cell_type": "markdown",
      "source": [
        "引数`split`をTrueに、引数`inner`を`quart`にすることで、見やすいグラフが完成します。"
      ],
      "metadata": {
        "id": "bJlKPKIKG7pS"
      }
    },
    {
      "cell_type": "code",
      "source": [
        "sns.violinplot(x=\"decade\",y=\"vote_average\" , data=df.sort_values(\"decade\") , split=True , inner=\"quart\")"
      ],
      "metadata": {
        "id": "cG4D-n7_HMb7"
      },
      "execution_count": null,
      "outputs": []
    },
    {
      "cell_type": "markdown",
      "source": [
        "### sns.swarmplot()\n",
        "violinplotでは表示しているのは密度であるため、実際の映画の数を比較することができません。  \n",
        "\n",
        "そこで使うのが**swarmplot**です。実際の分布をみることができます。"
      ],
      "metadata": {
        "id": "P9pylmZ4Hgzz"
      }
    },
    {
      "cell_type": "code",
      "source": [
        "sns.swarmplot(x=\"decade\",y=\"vote_average\" , data=df.sort_values(\"decade\") )"
      ],
      "metadata": {
        "id": "3dUJTgcYIA7i"
      },
      "execution_count": null,
      "outputs": []
    },
    {
      "cell_type": "markdown",
      "source": [
        "1920s～1950sのデータ数の少なさが一目で分かるようになりました。"
      ],
      "metadata": {
        "id": "OUVRbsdbIVPA"
      }
    },
    {
      "cell_type": "markdown",
      "source": [
        "1980s以降はデータ数が多くなっています。  \n",
        "このようなときはプロットの全体のサイズを変える必要があります。"
      ],
      "metadata": {
        "id": "OPJGg5DJIp_H"
      }
    },
    {
      "cell_type": "code",
      "source": [
        "fig , ax = plt.subplots(figsize=(20,5))    #swarmplot以外でも調節可能\n",
        "ax.tick_params(labelsize=30)\n",
        "sns.swarmplot(x=\"decade\",y=\"vote_average\" , data=df.sort_values(\"decade\") )"
      ],
      "metadata": {
        "id": "pNN9lEecI2qO"
      },
      "execution_count": null,
      "outputs": []
    },
    {
      "cell_type": "markdown",
      "source": [
        "マーカーのサイズを変えることもあります。"
      ],
      "metadata": {
        "id": "iA-x_bH8ru54"
      }
    },
    {
      "cell_type": "code",
      "source": [
        "fig , ax = plt.subplots(figsize=(20,5))    #swarmplot以外でも調節可能\n",
        "ax.tick_params(labelsize=30)\n",
        "sns.swarmplot(x=\"decade\",y=\"vote_average\" , data=df.sort_values(\"decade\"),size=2 )"
      ],
      "metadata": {
        "id": "KwzuW5xar3-S"
      },
      "execution_count": null,
      "outputs": []
    },
    {
      "cell_type": "markdown",
      "source": [
        "swarmplotでは統計量は出てきません。  \n",
        "boxplotやviolinplotと、特性を考えながら合わせて使うようにしましょう。"
      ],
      "metadata": {
        "id": "_N7Dke_srfk3"
      }
    },
    {
      "cell_type": "markdown",
      "source": [
        "## ヒートマップ\n",
        "表の各値の大きさに応じて色付けした図を**ヒートマップ**といいます。  \n",
        "一目で値の大きさが分かります。また、データの傾向を見ることができます。"
      ],
      "metadata": {
        "id": "yuOGX4_8zcWw"
      }
    },
    {
      "cell_type": "markdown",
      "source": [
        "ヒートマップは、**データサイエンスでは大変よく使われる図**です。  \n",
        "　・相関表：各カラム間の相関を示すもの（[こちら](https://bit.ly/3BRAh6c)で**相関係数**について学ぶことができます。     \n",
        "　・混同行列：分類器の分類を表にしたもの（今は気にしなくてOK）\n",
        "\n"
      ],
      "metadata": {
        "id": "6iR6fhJ_1KtV"
      }
    },
    {
      "cell_type": "markdown",
      "source": [
        "今回は実際に相関表を作り、ヒートマップを見ていきましょう。"
      ],
      "metadata": {
        "id": "PsPZkFY53Vqa"
      }
    },
    {
      "cell_type": "code",
      "source": [
        "df = pd.read_csv(\"tmdb_5000_movies.csv\")\n",
        "df.corr()    #相関表の作成"
      ],
      "metadata": {
        "id": "ww9oBvfl3D1k"
      },
      "execution_count": null,
      "outputs": []
    },
    {
      "cell_type": "markdown",
      "source": [
        "続いて値が0のものを除いて相関表を作ります。"
      ],
      "metadata": {
        "id": "AUti3C_k4RKQ"
      }
    },
    {
      "cell_type": "code",
      "source": [
        "df != 0"
      ],
      "metadata": {
        "id": "cT97DavJ4Xa3"
      },
      "execution_count": null,
      "outputs": []
    },
    {
      "cell_type": "markdown",
      "source": [
        "汚いデータをなるべく排除した状態で相関係数を求めたいため、全てのカラムが0ではない行だけ残すようにしましょう。\n",
        "\n",
        "そのため、上の表の内、1つでもFalseがあったらその行を除きましょう。"
      ],
      "metadata": {
        "id": "ON85qTHb7BIr"
      }
    },
    {
      "cell_type": "code",
      "source": [
        "(df != 0).all(axis=1)    #axis=1を指定することで行単位で判断する"
      ],
      "metadata": {
        "id": "EBaLWbZh8OR5"
      },
      "execution_count": null,
      "outputs": []
    },
    {
      "cell_type": "code",
      "source": [
        "df.loc[(df != 0).all(axis=1)]    #ただのdfでも同じ結果になる\n",
        "df.corr()"
      ],
      "metadata": {
        "id": "oMGgpFzb8613"
      },
      "execution_count": null,
      "outputs": []
    },
    {
      "cell_type": "markdown",
      "source": [
        "あとは**`sns.heatmap()`**の中にこの相関表を入れるだけです。"
      ],
      "metadata": {
        "id": "-rfcGTdZ8nt4"
      }
    },
    {
      "cell_type": "code",
      "source": [
        "sns.heatmap(df.corr())"
      ],
      "metadata": {
        "id": "epWic7_h9hSe"
      },
      "execution_count": null,
      "outputs": []
    },
    {
      "cell_type": "markdown",
      "source": [
        "引数**`annot`**をTrueに指定すると、各マスに数値を入れてくれます。原則つけるようにしましょう。  \n",
        "\n",
        "また、引数**`cmap`**にカラーマップを指定すると色のグラデ―ジョンを指定できます。  `coolwarm`や`hot`、`plasma`などが有名です。"
      ],
      "metadata": {
        "id": "oe7v_z8r_j1r"
      }
    },
    {
      "cell_type": "code",
      "source": [
        "sns.heatmap(df.corr(),cmap='coolwarm', annot=True)"
      ],
      "metadata": {
        "id": "SU9pQvs1_-9y"
      },
      "execution_count": null,
      "outputs": []
    },
    {
      "cell_type": "markdown",
      "source": [
        "## Seabornの装飾と付属情報\n",
        "matplotlibでも同じような話がありましたが、Seabornはそもそもデフォルトできれいなグラフが描けるので、  \n",
        "仕様頻度はそこまで高くないかもしれません。\n"
      ],
      "metadata": {
        "id": "-6S5e45XRT3q"
      }
    },
    {
      "cell_type": "markdown",
      "source": [
        "### sns.set()\n",
        "**`sns.set()`**のパラメータを加えることで、グラフを装飾できます。"
      ],
      "metadata": {
        "id": "2xx82keuR6jh"
      }
    },
    {
      "cell_type": "markdown",
      "source": [
        "#### context\n",
        "引数`context`は**`paper`**、**`notebook`**、**`talk`**、**`poster`**の4つの値を取ります。"
      ],
      "metadata": {
        "id": "DvqpYupuR4uB"
      }
    },
    {
      "cell_type": "code",
      "source": [
        "df = pd.read_csv(\"tmdb_5000_movies.csv\")\n",
        "sns.set(context=\"notebook\")\n",
        "#sns.set_context(\"notebook\")  でも同意\n",
        "sns.histplot(df[\"vote_average\"])"
      ],
      "metadata": {
        "id": "cw3-IFG2SrBW"
      },
      "execution_count": null,
      "outputs": []
    },
    {
      "cell_type": "markdown",
      "source": [
        "プレゼンなどを想定し、文字を大きくしたい場合は`poster`を使うことが多いです。  \n",
        "そうでない場合はデフォルトである`notebook`で問題ないようです。"
      ],
      "metadata": {
        "id": "ItKzWDX6Td79"
      }
    },
    {
      "cell_type": "code",
      "source": [
        "sns.set(context=\"poster\")\n",
        "#sns.set_context(\"poster\")  でも同意\n",
        "sns.histplot(df[\"vote_average\"])"
      ],
      "metadata": {
        "id": "tGMMBznNTrwm"
      },
      "execution_count": null,
      "outputs": []
    },
    {
      "cell_type": "markdown",
      "source": [
        "#### style\n",
        "引数`style`は**`darkgrid`**、**`whitegrid`**、**`dark`**、**`white`**、**`ticks`**の5つの値を取ります。"
      ],
      "metadata": {
        "id": "f5irpV8ZT0R9"
      }
    },
    {
      "cell_type": "code",
      "source": [
        "sns.set(context=\"notebook\" , style=\"darkgrid\")\n",
        "sns.histplot(df[\"vote_average\"])"
      ],
      "metadata": {
        "id": "yS1lPexPUeR7"
      },
      "execution_count": null,
      "outputs": []
    },
    {
      "cell_type": "markdown",
      "source": [
        "デフォルトは`darkgrid`ですが、好みのものを使うようにしましょう。"
      ],
      "metadata": {
        "id": "KX6PrMReU1T9"
      }
    },
    {
      "cell_type": "markdown",
      "source": [
        "`ticks`を指定した場合はplotに軸と枠ができますが、  \n",
        "**`sns.despine()`**を使うと軸を消すことができます。"
      ],
      "metadata": {
        "id": "8ATXdbEKU-Kb"
      }
    },
    {
      "cell_type": "code",
      "source": [
        "sns.set(context=\"notebook\" , style=\"ticks\")\n",
        "sns.histplot(df[\"vote_average\"])\n",
        "sns.despine()"
      ],
      "metadata": {
        "id": "UZ2E_NUkVX_T"
      },
      "execution_count": null,
      "outputs": []
    },
    {
      "cell_type": "markdown",
      "source": [
        "引数には**`top`**、**`right`**、**`left`**、**`bottom`**をbool型の値で指定できます。  \n",
        "指定するとそれぞれを表示を切り替えることができます。デフォルトは`top`、`right`がTrueになっています。"
      ],
      "metadata": {
        "id": "ZjiHrHg5ViA6"
      }
    },
    {
      "cell_type": "markdown",
      "source": [
        "#### palette\n",
        "色のパレットを指定することができます。  \n",
        "先ほど引数`cmap`に指定していたものになります。"
      ],
      "metadata": {
        "id": "X_k2ymL3V-4y"
      }
    },
    {
      "cell_type": "markdown",
      "source": [
        "ここでは、横軸を`decade`カラム（年代）、縦軸を`popularity`カラム（人気）にして、年代ごとに人気のviolinplotをしましょう。  \n",
        "続いて、引数`hue`に`evaluation`カラムを指定して、各年代に2つのviolinplotをしましょう。"
      ],
      "metadata": {
        "id": "hZALwOGDaAw5"
      }
    },
    {
      "cell_type": "code",
      "source": [
        "# 公式ページ：https://bit.ly/3UgIqIB\n",
        "\n",
        "sns.set(context=\"notebook\" , style=\"ticks\" , palette=\"dark\")\n",
        "\n",
        "df = df.dropna(subset=[\"release_date\"])\n",
        "df['decade'] = df['release_date'].apply(lambda x: x[:3] + '0s')\n",
        "\n",
        "vote_average_median = df['vote_average'].median() \n",
        "df[\"evaluation\"] = df[\"vote_average\"].apply(lambda x: \"high\" if x> vote_average_median else \"low\")\n",
        "\n",
        "sns.violinplot(x=\"decade\" , y=\"popularity\" , data=df.sort_values(\"decade\") , hue=\"evaluation\")"
      ],
      "metadata": {
        "id": "9jFiMEF6WXQH"
      },
      "execution_count": null,
      "outputs": []
    },
    {
      "cell_type": "markdown",
      "source": [
        "`sns.set()`内で指定した`palette`は、**hueの色にしか適用されません**。少し見にくいと思います。  \n",
        "\n",
        "violinplot自体の色を変えたいときは、violinplot内で引数`palette`を指定しましょう。"
      ],
      "metadata": {
        "id": "ez8DglyGckU8"
      }
    },
    {
      "cell_type": "code",
      "source": [
        "# 公式ページ：https://bit.ly/3UgIqIB\n",
        "\n",
        "sns.set(context=\"notebook\" , style=\"ticks\" , palette=\"bright\")\n",
        "\n",
        "df = df.dropna(subset=[\"release_date\"])\n",
        "df['decade'] = df['release_date'].apply(lambda x: x[:3] + '0s')\n",
        "\n",
        "vote_average_median = df['vote_average'].median() \n",
        "df[\"evaluation\"] = df[\"vote_average\"].apply(lambda x: \"high\" if x> vote_average_median else \"low\")\n",
        "\n",
        "plt.figure(figsize=(10, 5))    #横に長くしたかったのでサイズ調整           \n",
        "sns.violinplot(x=\"decade\" , y=\"popularity\" , \n",
        "               data=df.sort_values(\"decade\") , \n",
        "               hue=\"evaluation\" , \n",
        "               palette=\"bright\"    #興味があれば\"hsv\"、\"twilight\"などに変更してみて下さい\n",
        "               )"
      ],
      "metadata": {
        "id": "wgUE7zUWdCsM"
      },
      "execution_count": null,
      "outputs": []
    },
    {
      "cell_type": "markdown",
      "source": [
        "### 付属情報\n",
        "**Seabornは中でmatplotlibを含んでいる**ので、同じようにタイトルや軸の名前を指定することができます。  \n",
        "\n",
        "同じようにして、**`plt.savefig()`**で保存も可能です。"
      ],
      "metadata": {
        "id": "fFiVjjVodn8b"
      }
    },
    {
      "cell_type": "code",
      "source": [
        "sns.set(context=\"poster\")\n",
        "sns.histplot(df[\"vote_average\"])\n",
        "plt.title(\"Distribution of scores\")\n",
        "plt.xlabel(\"Evaluation Scores\")\n",
        "plt.savefig(\"Evaluation_sample.png\")    #オブジェクト指向の方法でももちろん可能"
      ],
      "metadata": {
        "id": "TwjcJeZpgTWt"
      },
      "execution_count": null,
      "outputs": []
    }
  ]
}