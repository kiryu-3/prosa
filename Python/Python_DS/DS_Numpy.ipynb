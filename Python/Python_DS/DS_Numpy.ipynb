{
  "nbformat": 4,
  "nbformat_minor": 0,
  "metadata": {
    "colab": {
      "provenance": [],
      "toc_visible": true,
      "include_colab_link": true
    },
    "kernelspec": {
      "name": "python3",
      "display_name": "Python 3"
    },
    "language_info": {
      "name": "python"
    },
    "gpuClass": "standard"
  },
  "cells": [
    {
      "cell_type": "markdown",
      "metadata": {
        "id": "view-in-github",
        "colab_type": "text"
      },
      "source": [
        "<a href=\"https://colab.research.google.com/github/kiryu-3/prosa/blob/main/Python/Python_DS/DS_Numpy.ipynb\" target=\"_parent\"><img src=\"https://colab.research.google.com/assets/colab-badge.svg\" alt=\"Open In Colab\"/></a>"
      ]
    },
    {
      "cell_type": "markdown",
      "source": [
        "# Numpy"
      ],
      "metadata": {
        "id": "9T1PQ5SmnjQW"
      }
    },
    {
      "cell_type": "markdown",
      "source": [
        "## Numpyとは"
      ],
      "metadata": {
        "id": "_fa2YVaaPk4S"
      }
    },
    {
      "cell_type": "markdown",
      "source": [
        "\n",
        "Numerical Python、略して**Numpy**は、 科学や数学のための数値計算ライブラリです。  \n",
        "Pythonを使ってAIやデータサイエンスを学習する際には、不可欠なものになります。\n",
        "\n",
        "![リンクテキスト](https://imgur.com/ayhB11O.png)\n",
        "\n",
        "特に様々な数を**行列**の形にして計算することが多くなります。\n",
        "\n",
        "GoogleColabやJupyter Labといった環境下では、最初から入っているため改めて入れる必要はありません。  \n",
        "自分で入れる場合は`conda install numpy`や`pip install numpy`という記述をします。"
      ],
      "metadata": {
        "id": "H9cZO-kCnnLb"
      }
    },
    {
      "cell_type": "markdown",
      "source": [
        "  \n",
        "  Numpyのような特殊なライブラリを扱う際には、**`import`**をすることで  \n",
        "  「Numpyを使うという宣言」をする必要があります。"
      ],
      "metadata": {
        "id": "jHJpXnKrpy_4"
      }
    },
    {
      "cell_type": "code",
      "execution_count": 215,
      "metadata": {
        "id": "wuSyQSOhmYuD"
      },
      "outputs": [],
      "source": [
        "import numpy as np"
      ]
    },
    {
      "cell_type": "markdown",
      "source": [
        "`import`の先に、`import`したいライブラリの名前を書きます。  \n",
        "この後に`as`を使うと、`np`という文字を使ってnumpyを扱うことができます。  \n",
        "このような記述をするのが一般的です。"
      ],
      "metadata": {
        "id": "dXgf0-SQq1h-"
      }
    },
    {
      "cell_type": "markdown",
      "source": [
        "## NumPy Arrays\n",
        "Numpyの行列のことを**Numpy Arrays**（**ndarray**ともいう）といいます。\n",
        "\n",
        "`np.array()`という記述の中に、リストを入れることでndarrayを作ることができます。"
      ],
      "metadata": {
        "id": "G0LcP1JFq-mV"
      }
    },
    {
      "cell_type": "code",
      "source": [
        "np.array([1,2,3])"
      ],
      "metadata": {
        "id": "2wE_U4qAvqQ-",
        "colab": {
          "base_uri": "https://localhost:8080/"
        },
        "outputId": "49ff92aa-e3c1-48a4-f218-ae30f2121734"
      },
      "execution_count": 2,
      "outputs": [
        {
          "output_type": "execute_result",
          "data": {
            "text/plain": [
              "array([1, 2, 3])"
            ]
          },
          "metadata": {},
          "execution_count": 2
        }
      ]
    },
    {
      "cell_type": "markdown",
      "source": [
        "先ほどのは1次元でしたが、リストを入れ子にすることで多次元のndarrayを作ることもできます。"
      ],
      "metadata": {
        "id": "cj-mgFckvvtO"
      }
    },
    {
      "cell_type": "code",
      "source": [
        "np.array([[1,2,3],[4,5,6],[7,8,9]])"
      ],
      "metadata": {
        "id": "zZKhJ_7mwYzA",
        "colab": {
          "base_uri": "https://localhost:8080/"
        },
        "outputId": "5a92bb28-0c9f-4c1d-9390-823a7a0a89fa"
      },
      "execution_count": 3,
      "outputs": [
        {
          "output_type": "execute_result",
          "data": {
            "text/plain": [
              "array([[1, 2, 3],\n",
              "       [4, 5, 6],\n",
              "       [7, 8, 9]])"
            ]
          },
          "metadata": {},
          "execution_count": 3
        }
      ]
    },
    {
      "cell_type": "markdown",
      "source": [
        "リストと同様に、インデックスを指定することで各要素を呼び出すことができます。"
      ],
      "metadata": {
        "id": "cHFYCUzgwvXM"
      }
    },
    {
      "cell_type": "code",
      "source": [
        "list_example = [[1,2,3],[4,5,6]]\n",
        "ndarray_example = np.array(list_example)\n",
        "\n",
        "# listの場合\n",
        "print(list_example[1])\n",
        "print(list_example[1][2])\n",
        "\n",
        "# ndarrayの場合\n",
        "print(ndarray_example[1])    \n",
        "print(ndarray_example[1,2])  # 2次元以上だと呼び出す形が少しだけ違う"
      ],
      "metadata": {
        "id": "sBfo4FEHw6HU",
        "colab": {
          "base_uri": "https://localhost:8080/"
        },
        "outputId": "14522eb9-5777-4c4b-814d-2e6078671179"
      },
      "execution_count": 4,
      "outputs": [
        {
          "output_type": "stream",
          "name": "stdout",
          "text": [
            "[4, 5, 6]\n",
            "6\n",
            "[4 5 6]\n",
            "6\n"
          ]
        }
      ]
    },
    {
      "cell_type": "markdown",
      "source": [
        "ndarray内の要素のデータ型を確認してみましょう。"
      ],
      "metadata": {
        "id": "K2VMfmdVyw2x"
      }
    },
    {
      "cell_type": "code",
      "source": [
        "type(list_example[1][2])"
      ],
      "metadata": {
        "id": "XSc6JPlpzKTK",
        "colab": {
          "base_uri": "https://localhost:8080/"
        },
        "outputId": "eb3d5cf4-818a-4aee-9647-ca15aa111d29"
      },
      "execution_count": 5,
      "outputs": [
        {
          "output_type": "execute_result",
          "data": {
            "text/plain": [
              "int"
            ]
          },
          "metadata": {},
          "execution_count": 5
        }
      ]
    },
    {
      "cell_type": "code",
      "source": [
        "type(ndarray_example[1,2])"
      ],
      "metadata": {
        "id": "C-Xf2wRZza64",
        "colab": {
          "base_uri": "https://localhost:8080/"
        },
        "outputId": "d104fb10-5d62-4907-a8c5-55b9931c0af8"
      },
      "execution_count": 6,
      "outputs": [
        {
          "output_type": "execute_result",
          "data": {
            "text/plain": [
              "numpy.int64"
            ]
          },
          "metadata": {},
          "execution_count": 6
        }
      ]
    },
    {
      "cell_type": "markdown",
      "source": [
        "ndarrayの1つ1つの要素は、**Numpyのデータ型**です。  \n",
        "上の例では、1つ1つの要素はint型ではなく、numpy用のint型であることが分かると思います。"
      ],
      "metadata": {
        "id": "9ws35K9azPQ3"
      }
    },
    {
      "cell_type": "markdown",
      "source": [
        "ndarrayを作るときに**`dtype`**という引数を指定すると、ndarrayのデータ型を指定することができます。"
      ],
      "metadata": {
        "id": "mmKbImu70sa2"
      }
    },
    {
      "cell_type": "code",
      "source": [
        "# 一般的な画像データを扱うときに用いる。使用頻度高\n",
        "ndarray = np.array([1,2,3] , dtype=np.uint8)  # 0～255までの値\n",
        "ndarray"
      ],
      "metadata": {
        "id": "HdLZ9kc608F2",
        "colab": {
          "base_uri": "https://localhost:8080/"
        },
        "outputId": "5676cde1-5c38-4a6a-efc1-d756f16c67e5"
      },
      "execution_count": 7,
      "outputs": [
        {
          "output_type": "execute_result",
          "data": {
            "text/plain": [
              "array([1, 2, 3], dtype=uint8)"
            ]
          },
          "metadata": {},
          "execution_count": 7
        }
      ]
    },
    {
      "cell_type": "code",
      "source": [
        "# 細かい計算をする際、64bitだとデータが重くなるので、データを保存する際に用いる。\n",
        "ndarray = np.array([1,2,3] , dtype=np.float32)    \n",
        "ndarray"
      ],
      "metadata": {
        "id": "ZbBD0dqq2c57",
        "colab": {
          "base_uri": "https://localhost:8080/"
        },
        "outputId": "7363c782-28c1-4810-fe74-691a5e428545"
      },
      "execution_count": 8,
      "outputs": [
        {
          "output_type": "execute_result",
          "data": {
            "text/plain": [
              "array([1., 2., 3.], dtype=float32)"
            ]
          },
          "metadata": {},
          "execution_count": 8
        }
      ]
    },
    {
      "cell_type": "code",
      "source": [
        "# 実際に細かい計算をする際に用いる。\n",
        "ndarray = np.array([1,2,3] , dtype=np.float64)    \n",
        "ndarray"
      ],
      "metadata": {
        "id": "hokj9krV23jq",
        "colab": {
          "base_uri": "https://localhost:8080/"
        },
        "outputId": "42091153-f0ed-45a6-e70d-bb18fb97eaad"
      },
      "execution_count": 9,
      "outputs": [
        {
          "output_type": "execute_result",
          "data": {
            "text/plain": [
              "array([1., 2., 3.])"
            ]
          },
          "metadata": {},
          "execution_count": 9
        }
      ]
    },
    {
      "cell_type": "markdown",
      "source": [
        "`astype()`で、元のndarrayのdtypeを変更することができます。"
      ],
      "metadata": {
        "id": "q0vdGxh_2cDr"
      }
    },
    {
      "cell_type": "code",
      "source": [
        "ndarray.astype(np.int8)"
      ],
      "metadata": {
        "id": "NhT67_o0p68k",
        "colab": {
          "base_uri": "https://localhost:8080/"
        },
        "outputId": "0e994278-1159-47c1-f1d9-45a88472c7b9"
      },
      "execution_count": 10,
      "outputs": [
        {
          "output_type": "execute_result",
          "data": {
            "text/plain": [
              "array([1, 2, 3], dtype=int8)"
            ]
          },
          "metadata": {},
          "execution_count": 10
        }
      ]
    },
    {
      "cell_type": "markdown",
      "source": [
        "ここまで学習した内容は、[こちら](https://bit.ly/3dmC0Hi)に図を用いた分かりやすい解説がありますので興味のある方は是非。"
      ],
      "metadata": {
        "id": "BmtjDoay0Ugf"
      }
    },
    {
      "cell_type": "markdown",
      "source": [
        "## 基本演算"
      ],
      "metadata": {
        "id": "ApxSQVEFVczW"
      }
    },
    {
      "cell_type": "code",
      "source": [
        "array1 = np.array([1,2,3,4])\n",
        "array2 = np.array([5,6,7,8])\n",
        "\n",
        "print(array1)\n",
        "print(array2)"
      ],
      "metadata": {
        "id": "w8nAJJh4t2Rt",
        "colab": {
          "base_uri": "https://localhost:8080/"
        },
        "outputId": "4926ac6f-59e0-4598-f427-b43eed72df45"
      },
      "execution_count": 203,
      "outputs": [
        {
          "output_type": "stream",
          "name": "stdout",
          "text": [
            "[1 2 3 4]\n",
            "[5 6 7 8]\n"
          ]
        }
      ]
    },
    {
      "cell_type": "markdown",
      "source": [
        "ndarrayの演算は各要素ごとに行われます。"
      ],
      "metadata": {
        "id": "nCmyCpaRwdh1"
      }
    },
    {
      "cell_type": "code",
      "source": [
        "# 和\n",
        "array1 + array2"
      ],
      "metadata": {
        "id": "84bnxFJpwtft",
        "colab": {
          "base_uri": "https://localhost:8080/"
        },
        "outputId": "535cd307-5f5e-40ce-f371-66b71bf9cab9"
      },
      "execution_count": 204,
      "outputs": [
        {
          "output_type": "execute_result",
          "data": {
            "text/plain": [
              "array([ 6,  8, 10, 12])"
            ]
          },
          "metadata": {},
          "execution_count": 204
        }
      ]
    },
    {
      "cell_type": "code",
      "source": [
        "# 和\n",
        "array1 + 2"
      ],
      "metadata": {
        "id": "LSHq29ePy3UB",
        "colab": {
          "base_uri": "https://localhost:8080/"
        },
        "outputId": "6b5b574b-bb87-43c3-e8da-e41aecf5093e"
      },
      "execution_count": 205,
      "outputs": [
        {
          "output_type": "execute_result",
          "data": {
            "text/plain": [
              "array([3, 4, 5, 6])"
            ]
          },
          "metadata": {},
          "execution_count": 205
        }
      ]
    },
    {
      "cell_type": "markdown",
      "source": [
        "リストで同様のことを行おうとすると、ただリストが結合されるだけで要素ごとの足し算は行われません。"
      ],
      "metadata": {
        "id": "rA1qwecYwn13"
      }
    },
    {
      "cell_type": "code",
      "source": [
        "a = [1,2,3,4]\n",
        "b = [5,6,7,8]\n",
        "a + b"
      ],
      "metadata": {
        "id": "OBdvTeW6xuPj",
        "colab": {
          "base_uri": "https://localhost:8080/"
        },
        "outputId": "2f364a27-65c8-466c-f3ab-67dfce8e267c"
      },
      "execution_count": 209,
      "outputs": [
        {
          "output_type": "execute_result",
          "data": {
            "text/plain": [
              "[1, 2, 3, 4, 5, 6, 7, 8]"
            ]
          },
          "metadata": {},
          "execution_count": 209
        }
      ]
    },
    {
      "cell_type": "markdown",
      "source": [
        "リストであってもfor文を使うと要素ごとの足し算はできますが、少し複雑になってしまいます。"
      ],
      "metadata": {
        "id": "8r2cuUBvx8Ez"
      }
    },
    {
      "cell_type": "code",
      "source": [
        "a = [1,2,3,4]\n",
        "c = []\n",
        "for n in a:\n",
        "  c.append(n+2)\n",
        "print(c)"
      ],
      "metadata": {
        "id": "MCqe0U9Wy7fJ",
        "colab": {
          "base_uri": "https://localhost:8080/"
        },
        "outputId": "b5d1d1cd-81b8-4bf7-aad6-685cc54e2a8e"
      },
      "execution_count": 210,
      "outputs": [
        {
          "output_type": "stream",
          "name": "stdout",
          "text": [
            "[3, 4, 5, 6]\n"
          ]
        }
      ]
    },
    {
      "cell_type": "code",
      "source": [
        "# 差\n",
        "array1 - array2"
      ],
      "metadata": {
        "colab": {
          "base_uri": "https://localhost:8080/"
        },
        "id": "2a10imoQWMbj",
        "outputId": "b5781bed-7b38-4372-b79b-5548abc7d279"
      },
      "execution_count": 206,
      "outputs": [
        {
          "output_type": "execute_result",
          "data": {
            "text/plain": [
              "array([-4, -4, -4, -4])"
            ]
          },
          "metadata": {},
          "execution_count": 206
        }
      ]
    },
    {
      "cell_type": "code",
      "source": [
        "# 積\n",
        "array1 * array2"
      ],
      "metadata": {
        "colab": {
          "base_uri": "https://localhost:8080/"
        },
        "id": "DCkW8YvgWX1c",
        "outputId": "64096ada-d48c-48ae-81a2-611467c31618"
      },
      "execution_count": 207,
      "outputs": [
        {
          "output_type": "execute_result",
          "data": {
            "text/plain": [
              "array([ 5, 12, 21, 32])"
            ]
          },
          "metadata": {},
          "execution_count": 207
        }
      ]
    },
    {
      "cell_type": "code",
      "source": [
        "# 商\n",
        "array1 / array2"
      ],
      "metadata": {
        "colab": {
          "base_uri": "https://localhost:8080/"
        },
        "id": "dnwb11YIW4hi",
        "outputId": "f02dc40d-3bad-4024-b3c8-ea256acb5597"
      },
      "execution_count": 208,
      "outputs": [
        {
          "output_type": "execute_result",
          "data": {
            "text/plain": [
              "array([0.2       , 0.33333333, 0.42857143, 0.5       ])"
            ]
          },
          "metadata": {},
          "execution_count": 208
        }
      ]
    },
    {
      "cell_type": "code",
      "source": [
        "array3 = np.array([[1, 2, 3],\n",
        "                   [4, 5, 6]]) \n",
        "\n",
        "array4 = np.array([[3, 2],\n",
        "                   [3, 2],\n",
        "                   [3, 2]]) \n",
        "# 行列の積\n",
        "np.dot(array3, array4)"
      ],
      "metadata": {
        "colab": {
          "base_uri": "https://localhost:8080/"
        },
        "id": "R-sdo6xxYIxq",
        "outputId": "f25cfad4-6a32-4f40-f019-3de8e941d0a7"
      },
      "execution_count": 211,
      "outputs": [
        {
          "output_type": "execute_result",
          "data": {
            "text/plain": [
              "array([[18, 12],\n",
              "       [45, 30]])"
            ]
          },
          "metadata": {},
          "execution_count": 211
        }
      ]
    },
    {
      "cell_type": "markdown",
      "source": [
        "## Broadcast\n"
      ],
      "metadata": {
        "id": "wMvHefh9q347"
      }
    },
    {
      "cell_type": "markdown",
      "source": [
        "ndarrayの要素数が異なる場合でも、演算が可能な場合があります。"
      ],
      "metadata": {
        "id": "vI-TaqV4yZ2M"
      }
    },
    {
      "cell_type": "code",
      "source": [
        "array1 = np.array([[1,2,3],[4,5,6]])\n",
        "array2 = np.array([1,2,3])\n",
        "array1 + array2"
      ],
      "metadata": {
        "id": "PVA0GMJgzpVB",
        "colab": {
          "base_uri": "https://localhost:8080/"
        },
        "outputId": "21b50a44-3ea3-4714-8b40-51566df914ee"
      },
      "execution_count": 16,
      "outputs": [
        {
          "output_type": "execute_result",
          "data": {
            "text/plain": [
              "array([[2, 4, 6],\n",
              "       [5, 7, 9]])"
            ]
          },
          "metadata": {},
          "execution_count": 16
        }
      ]
    },
    {
      "cell_type": "markdown",
      "source": [
        "実際には以下のような計算が行われています。"
      ],
      "metadata": {
        "id": "7ZFeV19Pz-TP"
      }
    },
    {
      "cell_type": "code",
      "source": [
        "array1 = np.array([[1,2,3],[4,5,6]])\n",
        "array3 = np.array([[1,2,3],[1,2,3]])\n",
        "array1 + array3"
      ],
      "metadata": {
        "id": "ptYSwxpH0BPB",
        "colab": {
          "base_uri": "https://localhost:8080/"
        },
        "outputId": "9f1fcb0d-9f3c-4c17-a291-ee71b9ae0d16"
      },
      "execution_count": 17,
      "outputs": [
        {
          "output_type": "execute_result",
          "data": {
            "text/plain": [
              "array([[2, 4, 6],\n",
              "       [5, 7, 9]])"
            ]
          },
          "metadata": {},
          "execution_count": 17
        }
      ]
    },
    {
      "cell_type": "markdown",
      "source": [
        "要素数が一致しなくても、行や列が足りなかったりしても自動で補完して演算が行われます。  \n",
        "このNumpyの機能を**Broadcast**といいます。"
      ],
      "metadata": {
        "id": "6VmBWXzR0SRn"
      }
    },
    {
      "cell_type": "markdown",
      "source": [
        "以下のコードの例でも、Broadcastが働いています。\n",
        "\n"
      ],
      "metadata": {
        "id": "Qz4uVRuO0tjn"
      }
    },
    {
      "cell_type": "code",
      "source": [
        "array1 = np.array([[1,2,3],[4,5,6]])\n",
        "array1 + 2\n",
        "# array2をnp.array([[2,2,2],[2,2,2]])としたときの、array1+array2の計算と同じ意味"
      ],
      "metadata": {
        "id": "_Df-Dvv40xVw",
        "colab": {
          "base_uri": "https://localhost:8080/"
        },
        "outputId": "bbdd3ec1-edab-4e1c-9684-40f115ea41df"
      },
      "execution_count": 18,
      "outputs": [
        {
          "output_type": "execute_result",
          "data": {
            "text/plain": [
              "array([[3, 4, 5],\n",
              "       [6, 7, 8]])"
            ]
          },
          "metadata": {},
          "execution_count": 18
        }
      ]
    },
    {
      "cell_type": "markdown",
      "source": [
        "要素が中途半端だった場合はBroadcastは働きません。"
      ],
      "metadata": {
        "id": "orKWhtTa1Hce"
      }
    },
    {
      "cell_type": "code",
      "source": [
        "array1 = np.array([[1,2,3],[4,5,6]])\n",
        "array2 = np.array([1,2,3,4])\n",
        "array1 + array2"
      ],
      "metadata": {
        "id": "B3opS8Li1N4e",
        "colab": {
          "base_uri": "https://localhost:8080/",
          "height": 205
        },
        "outputId": "813d8a4b-77b0-4246-cd95-9f10ebbac3a3"
      },
      "execution_count": 19,
      "outputs": [
        {
          "output_type": "error",
          "ename": "ValueError",
          "evalue": "ignored",
          "traceback": [
            "\u001b[0;31m---------------------------------------------------------------------------\u001b[0m",
            "\u001b[0;31mValueError\u001b[0m                                Traceback (most recent call last)",
            "\u001b[0;32m<ipython-input-19-d9c7745d4506>\u001b[0m in \u001b[0;36m<module>\u001b[0;34m\u001b[0m\n\u001b[1;32m      1\u001b[0m \u001b[0marray1\u001b[0m \u001b[0;34m=\u001b[0m \u001b[0mnp\u001b[0m\u001b[0;34m.\u001b[0m\u001b[0marray\u001b[0m\u001b[0;34m(\u001b[0m\u001b[0;34m[\u001b[0m\u001b[0;34m[\u001b[0m\u001b[0;36m1\u001b[0m\u001b[0;34m,\u001b[0m\u001b[0;36m2\u001b[0m\u001b[0;34m,\u001b[0m\u001b[0;36m3\u001b[0m\u001b[0;34m]\u001b[0m\u001b[0;34m,\u001b[0m\u001b[0;34m[\u001b[0m\u001b[0;36m4\u001b[0m\u001b[0;34m,\u001b[0m\u001b[0;36m5\u001b[0m\u001b[0;34m,\u001b[0m\u001b[0;36m6\u001b[0m\u001b[0;34m]\u001b[0m\u001b[0;34m]\u001b[0m\u001b[0;34m)\u001b[0m\u001b[0;34m\u001b[0m\u001b[0;34m\u001b[0m\u001b[0m\n\u001b[1;32m      2\u001b[0m \u001b[0marray2\u001b[0m \u001b[0;34m=\u001b[0m \u001b[0mnp\u001b[0m\u001b[0;34m.\u001b[0m\u001b[0marray\u001b[0m\u001b[0;34m(\u001b[0m\u001b[0;34m[\u001b[0m\u001b[0;36m1\u001b[0m\u001b[0;34m,\u001b[0m\u001b[0;36m2\u001b[0m\u001b[0;34m,\u001b[0m\u001b[0;36m3\u001b[0m\u001b[0;34m,\u001b[0m\u001b[0;36m4\u001b[0m\u001b[0;34m]\u001b[0m\u001b[0;34m)\u001b[0m\u001b[0;34m\u001b[0m\u001b[0;34m\u001b[0m\u001b[0m\n\u001b[0;32m----> 3\u001b[0;31m \u001b[0marray1\u001b[0m \u001b[0;34m+\u001b[0m \u001b[0marray2\u001b[0m\u001b[0;34m\u001b[0m\u001b[0;34m\u001b[0m\u001b[0m\n\u001b[0m",
            "\u001b[0;31mValueError\u001b[0m: operands could not be broadcast together with shapes (2,3) (4,) "
          ]
        }
      ]
    },
    {
      "cell_type": "markdown",
      "source": [
        "## shape\n",
        "ndarrayのサイズを確認するには**`.shape`**と記述します。"
      ],
      "metadata": {
        "id": "tLtodPSI7nNW"
      }
    },
    {
      "cell_type": "code",
      "source": [
        "ndarray = np.array([[1,2,3],[4,5,6]])\n",
        "ndarray.shape"
      ],
      "metadata": {
        "id": "86DKFjOd8fy6",
        "colab": {
          "base_uri": "https://localhost:8080/"
        },
        "outputId": "281d856f-a6ee-4038-ddb2-37077e447c45"
      },
      "execution_count": 20,
      "outputs": [
        {
          "output_type": "execute_result",
          "data": {
            "text/plain": [
              "(2, 3)"
            ]
          },
          "metadata": {},
          "execution_count": 20
        }
      ]
    },
    {
      "cell_type": "markdown",
      "source": [
        "タプルの形で（**行,列**）の順にサイズが返されます。\n",
        "\n",
        "ndarrayを作ったら、基本的にはまずshapeを確認して、  \n",
        "ndarrayの形が自分の予想通りであるか見るのがおススメです。"
      ],
      "metadata": {
        "id": "d5fqzgEs8koK"
      }
    },
    {
      "cell_type": "markdown",
      "source": [
        "**`.reshape`**を使うことで、shapeを変更することができます。  \n",
        "(`reshape`については[こちら](https://bit.ly/3QWHhD0)が参考になると思います)"
      ],
      "metadata": {
        "id": "ehcra9Aq9GIh"
      }
    },
    {
      "cell_type": "code",
      "source": [
        "ndarray.reshape(3,2)"
      ],
      "metadata": {
        "id": "wsYL0Ztb9cy4",
        "colab": {
          "base_uri": "https://localhost:8080/"
        },
        "outputId": "64c24034-6f73-4021-847a-5302b462105f"
      },
      "execution_count": 21,
      "outputs": [
        {
          "output_type": "execute_result",
          "data": {
            "text/plain": [
              "array([[1, 2],\n",
              "       [3, 4],\n",
              "       [5, 6]])"
            ]
          },
          "metadata": {},
          "execution_count": 21
        }
      ]
    },
    {
      "cell_type": "markdown",
      "source": [
        "要素の数は元のndarrayのサイズに合わないとエラーが発生します。"
      ],
      "metadata": {
        "id": "bs8uHQFd9dEo"
      }
    },
    {
      "cell_type": "code",
      "source": [
        "ndarray.reshape(3,1)  # 3×2=6のndarrayに対して3×1=3はダメ"
      ],
      "metadata": {
        "id": "ZJ2Vvn0cTT--",
        "colab": {
          "base_uri": "https://localhost:8080/",
          "height": 170
        },
        "outputId": "29cecee9-39a7-44af-b7ba-167c39067c77"
      },
      "execution_count": 22,
      "outputs": [
        {
          "output_type": "error",
          "ename": "ValueError",
          "evalue": "ignored",
          "traceback": [
            "\u001b[0;31m---------------------------------------------------------------------------\u001b[0m",
            "\u001b[0;31mValueError\u001b[0m                                Traceback (most recent call last)",
            "\u001b[0;32m<ipython-input-22-d24b49339e91>\u001b[0m in \u001b[0;36m<module>\u001b[0;34m\u001b[0m\n\u001b[0;32m----> 1\u001b[0;31m \u001b[0mndarray\u001b[0m\u001b[0;34m.\u001b[0m\u001b[0mreshape\u001b[0m\u001b[0;34m(\u001b[0m\u001b[0;36m3\u001b[0m\u001b[0;34m,\u001b[0m\u001b[0;36m1\u001b[0m\u001b[0;34m)\u001b[0m    \u001b[0;31m#3×2=6のndarrayに対して3×1=3はダメ\u001b[0m\u001b[0;34m\u001b[0m\u001b[0;34m\u001b[0m\u001b[0m\n\u001b[0m",
            "\u001b[0;31mValueError\u001b[0m: cannot reshape array of size 6 into shape (3,1)"
          ]
        }
      ]
    },
    {
      "cell_type": "markdown",
      "source": [
        "**ベクトルを複数の行・列にまとめたものが行列です**。  \n"
      ],
      "metadata": {
        "id": "Rzlj1PYqTpGw"
      }
    },
    {
      "cell_type": "code",
      "source": [
        "# ベクトル\n",
        "ndarray1 = np.array([1,2,3]) \n",
        "ndarray1.shape"
      ],
      "metadata": {
        "id": "aIspVjPIUgBW",
        "colab": {
          "base_uri": "https://localhost:8080/"
        },
        "outputId": "df1afca9-69b5-4d8a-d641-f06f7c0115aa"
      },
      "execution_count": 100,
      "outputs": [
        {
          "output_type": "execute_result",
          "data": {
            "text/plain": [
              "(3,)"
            ]
          },
          "metadata": {},
          "execution_count": 100
        }
      ]
    },
    {
      "cell_type": "code",
      "source": [
        "# 1行3列の行列\n",
        "# リストがもう1個別のリストに入って格納されている\n",
        "ndarray2 = np.array([[1,2,3]])\n",
        "ndarray2.shape  "
      ],
      "metadata": {
        "id": "DlWgykwjU-ab",
        "colab": {
          "base_uri": "https://localhost:8080/"
        },
        "outputId": "8a88220b-3ce2-4317-e9b1-19c0c5beb4c8"
      },
      "execution_count": 101,
      "outputs": [
        {
          "output_type": "execute_result",
          "data": {
            "text/plain": [
              "(1, 3)"
            ]
          },
          "metadata": {},
          "execution_count": 101
        }
      ]
    },
    {
      "cell_type": "markdown",
      "source": [
        "次元の数のことを**ランク**と呼びます。  \n",
        "\n",
        "今回は`ndarray1`はランク$1$、`ndarray2`はランク$2$ではあるが1行であるケースとなります。  \n",
        "見た目は全く同じですが、ランクが異なるので、shapeしたときの結果が微妙に変化します。"
      ],
      "metadata": {
        "id": "246NYO_nWKOo"
      }
    },
    {
      "cell_type": "markdown",
      "source": [
        "### ランクの増減\n",
        "先ほどの`ndarray1`も`ndarray2`も同じ意味ですが、  \n",
        "$(1,3)$のndarrayであれば$(3,)$にランクを削減することが多いです。\n",
        "\n",
        "このように、ランクを増加させたり削減させたりする関数について以下に述べていきます。"
      ],
      "metadata": {
        "id": "ox1weMQ-Y_Od"
      }
    },
    {
      "cell_type": "markdown",
      "source": [
        "#### np.expand_dims(ndarray,axis)\n",
        "ランクを1つ追加することができます。  \n",
        "`axis=0`と指定した場合は1つ目の次元を、`axis=-1`と指定したときは最後の次元を追加します。"
      ],
      "metadata": {
        "id": "oJA83CSWcGy_"
      }
    },
    {
      "cell_type": "code",
      "source": [
        "ndarray = np.array([1,2,3])\n",
        "ndarray"
      ],
      "metadata": {
        "id": "OCkImKRWefb8",
        "colab": {
          "base_uri": "https://localhost:8080/"
        },
        "outputId": "ef5082b6-7973-450b-e6cc-00a27e092c17"
      },
      "execution_count": 102,
      "outputs": [
        {
          "output_type": "execute_result",
          "data": {
            "text/plain": [
              "array([1, 2, 3])"
            ]
          },
          "metadata": {},
          "execution_count": 102
        }
      ]
    },
    {
      "cell_type": "code",
      "source": [
        "ndarray.shape  # ベクトル"
      ],
      "metadata": {
        "id": "hhRT9lrde8wi",
        "colab": {
          "base_uri": "https://localhost:8080/"
        },
        "outputId": "277a8e00-4f1b-40fb-9e2e-013f5152bb83"
      },
      "execution_count": 103,
      "outputs": [
        {
          "output_type": "execute_result",
          "data": {
            "text/plain": [
              "(3,)"
            ]
          },
          "metadata": {},
          "execution_count": 103
        }
      ]
    },
    {
      "cell_type": "code",
      "source": [
        "expand_ndarray1 = np.expand_dims(ndarray,axis=0)\n",
        "expand_ndarray1"
      ],
      "metadata": {
        "id": "oJNiBwJadZtg",
        "colab": {
          "base_uri": "https://localhost:8080/"
        },
        "outputId": "6dd63c1d-fd1e-46d0-a0f4-36d872888704"
      },
      "execution_count": 104,
      "outputs": [
        {
          "output_type": "execute_result",
          "data": {
            "text/plain": [
              "array([[1, 2, 3]])"
            ]
          },
          "metadata": {},
          "execution_count": 104
        }
      ]
    },
    {
      "cell_type": "code",
      "source": [
        "expand_ndarray1.shape  # 1行3列の行列"
      ],
      "metadata": {
        "id": "JzAicDkPfC-S",
        "colab": {
          "base_uri": "https://localhost:8080/"
        },
        "outputId": "312004d5-ebcb-4bd7-ffb4-757ab478cd42"
      },
      "execution_count": 105,
      "outputs": [
        {
          "output_type": "execute_result",
          "data": {
            "text/plain": [
              "(1, 3)"
            ]
          },
          "metadata": {},
          "execution_count": 105
        }
      ]
    },
    {
      "cell_type": "code",
      "source": [
        "expand_ndarray2 = np.expand_dims(ndarray,axis=-1)\n",
        "expand_ndarray2"
      ],
      "metadata": {
        "id": "-WKElaJGeZ3D",
        "colab": {
          "base_uri": "https://localhost:8080/"
        },
        "outputId": "b1b3ca23-9ee5-497d-dcf7-be7859ec6b31"
      },
      "execution_count": 106,
      "outputs": [
        {
          "output_type": "execute_result",
          "data": {
            "text/plain": [
              "array([[1],\n",
              "       [2],\n",
              "       [3]])"
            ]
          },
          "metadata": {},
          "execution_count": 106
        }
      ]
    },
    {
      "cell_type": "code",
      "source": [
        "expand_ndarray2.shape  # 3行1列の行列"
      ],
      "metadata": {
        "id": "vDZpfJAvfQZB",
        "colab": {
          "base_uri": "https://localhost:8080/"
        },
        "outputId": "a48f52bd-c4c6-4cfa-b2a1-f2ef113393aa"
      },
      "execution_count": 107,
      "outputs": [
        {
          "output_type": "execute_result",
          "data": {
            "text/plain": [
              "(3, 1)"
            ]
          },
          "metadata": {},
          "execution_count": 107
        }
      ]
    },
    {
      "cell_type": "markdown",
      "source": [
        "#### np.squeeze(ndarray)\n",
        "1の次元を無くすことができます。\n",
        "例えば$(3,3,1)$のshapeを$(3,3)$のshapeにします。"
      ],
      "metadata": {
        "id": "gf0OgQKMfXaK"
      }
    },
    {
      "cell_type": "code",
      "source": [
        "squeeze_ndarray = np.squeeze(expand_ndarray1)  # 元は1行3列の行列\n",
        "squeeze_ndarray  # 1の次元がなくなり、ベクトルの形に戻る\n",
        "print(expand_ndarray1.shape)\n",
        "print(squeeze_ndarray.shape)"
      ],
      "metadata": {
        "id": "mg3J3G-Q485X",
        "colab": {
          "base_uri": "https://localhost:8080/"
        },
        "outputId": "ec0f8931-2c11-4373-c960-4de27eb78f38"
      },
      "execution_count": 108,
      "outputs": [
        {
          "output_type": "stream",
          "name": "stdout",
          "text": [
            "(1, 3)\n",
            "(3,)\n"
          ]
        }
      ]
    },
    {
      "cell_type": "code",
      "source": [
        "squeeze_ndarray = np.squeeze(expand_ndarray2)  # 元は3行1列の行列\n",
        "squeeze_ndarray  # 1の次元がなくなり、ベクトルの形に戻る\n",
        "print(expand_ndarray2.shape)\n",
        "print(squeeze_ndarray.shape)"
      ],
      "metadata": {
        "id": "Y5-yPYP0gFlh",
        "colab": {
          "base_uri": "https://localhost:8080/"
        },
        "outputId": "77e3f007-642b-419a-e912-2172fefac916"
      },
      "execution_count": 109,
      "outputs": [
        {
          "output_type": "stream",
          "name": "stdout",
          "text": [
            "(3, 1)\n",
            "(3,)\n"
          ]
        }
      ]
    },
    {
      "cell_type": "markdown",
      "source": [
        "#### .flatten()\n",
        "ndarrayを一発で1次元にする（ベクトルにする）こともできます。  \n",
        "行列構造を持つ必要がなくなった場合などに使います。"
      ],
      "metadata": {
        "id": "Sre04kXlgi6X"
      }
    },
    {
      "cell_type": "code",
      "source": [
        "ndarray = np.array([[1,2,3],[4,5,6],[7,8,9]])\n",
        "ndarray.shape"
      ],
      "metadata": {
        "id": "oiUWFNTdguO3",
        "colab": {
          "base_uri": "https://localhost:8080/"
        },
        "outputId": "e1fdf49e-9d65-427e-cf0d-80b3f089b67f"
      },
      "execution_count": 110,
      "outputs": [
        {
          "output_type": "execute_result",
          "data": {
            "text/plain": [
              "(3, 3)"
            ]
          },
          "metadata": {},
          "execution_count": 110
        }
      ]
    },
    {
      "cell_type": "code",
      "source": [
        "ndarray.flatten()"
      ],
      "metadata": {
        "id": "F6VCM8EYhwjW",
        "colab": {
          "base_uri": "https://localhost:8080/"
        },
        "outputId": "84832d4d-ef73-43c4-ec1e-8f9ae35e50f6"
      },
      "execution_count": 111,
      "outputs": [
        {
          "output_type": "execute_result",
          "data": {
            "text/plain": [
              "array([1, 2, 3, 4, 5, 6, 7, 8, 9])"
            ]
          },
          "metadata": {},
          "execution_count": 111
        }
      ]
    },
    {
      "cell_type": "markdown",
      "source": [
        "## スライス\n",
        "リストの時と同様、**[ N : M ]**としたとき、インデックスが「**N以上M未満**」の要素を得ることができます。\n",
        "\n",
        "Nを省略した場合：最初の要素以上  \n",
        "Mを省略した場合：最後の要素未満"
      ],
      "metadata": {
        "id": "J6Kaf6SjiB3u"
      }
    },
    {
      "cell_type": "code",
      "source": [
        "ndarray = np.array([1,2,3,4])\n",
        "ndarray"
      ],
      "metadata": {
        "id": "TKh_5Aolk9A5",
        "colab": {
          "base_uri": "https://localhost:8080/"
        },
        "outputId": "a8b143a7-e0ca-4ade-9b93-731b5b475db2"
      },
      "execution_count": 112,
      "outputs": [
        {
          "output_type": "execute_result",
          "data": {
            "text/plain": [
              "array([1, 2, 3, 4])"
            ]
          },
          "metadata": {},
          "execution_count": 112
        }
      ]
    },
    {
      "cell_type": "code",
      "source": [
        "ndarray[1:3]  # インデックス1以上3未満"
      ],
      "metadata": {
        "id": "171CbjVblD9Q",
        "colab": {
          "base_uri": "https://localhost:8080/"
        },
        "outputId": "f05f03b7-222f-4cd0-d58c-5eeff961fb9e"
      },
      "execution_count": 113,
      "outputs": [
        {
          "output_type": "execute_result",
          "data": {
            "text/plain": [
              "array([2, 3])"
            ]
          },
          "metadata": {},
          "execution_count": 113
        }
      ]
    },
    {
      "cell_type": "code",
      "source": [
        "ndarray[:3]  # インデックス3未満"
      ],
      "metadata": {
        "id": "178WqvDplLjM",
        "colab": {
          "base_uri": "https://localhost:8080/"
        },
        "outputId": "f400a46f-5f70-4021-cc8b-b9a47ec5087a"
      },
      "execution_count": 114,
      "outputs": [
        {
          "output_type": "execute_result",
          "data": {
            "text/plain": [
              "array([1, 2, 3])"
            ]
          },
          "metadata": {},
          "execution_count": 114
        }
      ]
    },
    {
      "cell_type": "code",
      "source": [
        "ndarray[1:]  # インデックス1以上"
      ],
      "metadata": {
        "id": "tVY7fN5pl7iX",
        "colab": {
          "base_uri": "https://localhost:8080/"
        },
        "outputId": "d467c8d4-9851-494a-e8dd-3c1a2e1eda86"
      },
      "execution_count": 115,
      "outputs": [
        {
          "output_type": "execute_result",
          "data": {
            "text/plain": [
              "array([2, 3, 4])"
            ]
          },
          "metadata": {},
          "execution_count": 115
        }
      ]
    },
    {
      "cell_type": "markdown",
      "source": [
        "インデックスがマイナスの場合は少し複雑です。\n",
        "マイナスの値を入れた場合、後ろから値を得ます。"
      ],
      "metadata": {
        "id": "DYUotVNhmBs4"
      }
    },
    {
      "cell_type": "code",
      "source": [
        "ndarray[-2]"
      ],
      "metadata": {
        "id": "TyB_oHN_mSlW",
        "colab": {
          "base_uri": "https://localhost:8080/"
        },
        "outputId": "21d1ae1e-2bb7-448f-8e01-d2f8ccf7e47f"
      },
      "execution_count": 116,
      "outputs": [
        {
          "output_type": "execute_result",
          "data": {
            "text/plain": [
              "3"
            ]
          },
          "metadata": {},
          "execution_count": 116
        }
      ]
    },
    {
      "cell_type": "code",
      "source": [
        "ndarray[-2:]  # インデックス-2以上"
      ],
      "metadata": {
        "id": "larjOdqbmkPm",
        "colab": {
          "base_uri": "https://localhost:8080/"
        },
        "outputId": "32d8874e-0127-4233-e668-b12f4b0ad677"
      },
      "execution_count": 117,
      "outputs": [
        {
          "output_type": "execute_result",
          "data": {
            "text/plain": [
              "array([3, 4])"
            ]
          },
          "metadata": {},
          "execution_count": 117
        }
      ]
    },
    {
      "cell_type": "code",
      "source": [
        "ndarray[:-2]  # インデックス-2未満"
      ],
      "metadata": {
        "id": "oalc8jWZmpI_",
        "colab": {
          "base_uri": "https://localhost:8080/"
        },
        "outputId": "57bec425-5cda-44db-9e55-989e8dbece7e"
      },
      "execution_count": 118,
      "outputs": [
        {
          "output_type": "execute_result",
          "data": {
            "text/plain": [
              "array([1, 2])"
            ]
          },
          "metadata": {},
          "execution_count": 118
        }
      ]
    },
    {
      "cell_type": "markdown",
      "source": [
        "コロンだけだった場合、全部の値を得ることができます。"
      ],
      "metadata": {
        "id": "iareqlpcmyo2"
      }
    },
    {
      "cell_type": "code",
      "source": [
        "ndarray[:]"
      ],
      "metadata": {
        "id": "zwoindCtm8dW",
        "colab": {
          "base_uri": "https://localhost:8080/"
        },
        "outputId": "d40ed133-3be4-4317-d0f8-1ed8071bb48a"
      },
      "execution_count": 119,
      "outputs": [
        {
          "output_type": "execute_result",
          "data": {
            "text/plain": [
              "array([1, 2, 3, 4])"
            ]
          },
          "metadata": {},
          "execution_count": 119
        }
      ]
    },
    {
      "cell_type": "markdown",
      "source": [
        "1次元の場合はリストと同じなので特に難しくないと思いますが、多次元であるとややこしくなります。"
      ],
      "metadata": {
        "id": "3rQetv31nJIW"
      }
    },
    {
      "cell_type": "code",
      "source": [
        "ndarray = np.array([[1,2,3],[4,5,6],[7,8,9],[10,11,12]])\n",
        "ndarray"
      ],
      "metadata": {
        "id": "ZdfRmIF4neC9",
        "colab": {
          "base_uri": "https://localhost:8080/"
        },
        "outputId": "4cf733bb-080d-4e9d-ad33-03927ad21726"
      },
      "execution_count": 120,
      "outputs": [
        {
          "output_type": "execute_result",
          "data": {
            "text/plain": [
              "array([[ 1,  2,  3],\n",
              "       [ 4,  5,  6],\n",
              "       [ 7,  8,  9],\n",
              "       [10, 11, 12]])"
            ]
          },
          "metadata": {},
          "execution_count": 120
        }
      ]
    },
    {
      "cell_type": "code",
      "source": [
        "ndarray[:3]"
      ],
      "metadata": {
        "id": "IBK73ZJYnsQ0",
        "colab": {
          "base_uri": "https://localhost:8080/"
        },
        "outputId": "8cec3c44-f6ed-4969-e307-171464dd381c"
      },
      "execution_count": 121,
      "outputs": [
        {
          "output_type": "execute_result",
          "data": {
            "text/plain": [
              "array([[1, 2, 3],\n",
              "       [4, 5, 6],\n",
              "       [7, 8, 9]])"
            ]
          },
          "metadata": {},
          "execution_count": 121
        }
      ]
    },
    {
      "cell_type": "markdown",
      "source": [
        "スライスの順番もインデックスと同様、最初が行になります。\n",
        "カンマで区切ります。"
      ],
      "metadata": {
        "id": "XCjt3i1En__u"
      }
    },
    {
      "cell_type": "code",
      "source": [
        "ndarray[:3,1:]"
      ],
      "metadata": {
        "id": "u2xfZvsKn_s9",
        "colab": {
          "base_uri": "https://localhost:8080/"
        },
        "outputId": "34939586-b0e7-4a92-e06b-98aa312c6171"
      },
      "execution_count": 122,
      "outputs": [
        {
          "output_type": "execute_result",
          "data": {
            "text/plain": [
              "array([[2, 3],\n",
              "       [5, 6],\n",
              "       [8, 9]])"
            ]
          },
          "metadata": {},
          "execution_count": 122
        }
      ]
    },
    {
      "cell_type": "code",
      "source": [
        "ndarray[:,1:]  # よく使う書き方"
      ],
      "metadata": {
        "id": "mBhP2Vzeo9GD",
        "colab": {
          "base_uri": "https://localhost:8080/"
        },
        "outputId": "5e852c47-bd4d-4a29-f004-1b3825eb486b"
      },
      "execution_count": 123,
      "outputs": [
        {
          "output_type": "execute_result",
          "data": {
            "text/plain": [
              "array([[ 2,  3],\n",
              "       [ 5,  6],\n",
              "       [ 8,  9],\n",
              "       [11, 12]])"
            ]
          },
          "metadata": {},
          "execution_count": 123
        }
      ]
    },
    {
      "cell_type": "markdown",
      "source": [
        "## Numpyの行列生成\n",
        "Numpyには様々なndarrayを作る関数が用意されています。以下に紹介します。"
      ],
      "metadata": {
        "id": "8WlEBEcPp3wJ"
      }
    },
    {
      "cell_type": "markdown",
      "source": [
        "### np.arange([start,]stop[,step])\n",
        "**start以上stop未満の値をstepずつ増加させた値のarray**です。  \n",
        "※[ ]は省略可能を意味します。\n",
        "\n",
        "startとstepは省略可能で、それぞれ0と1がデフォルトで入ります。"
      ],
      "metadata": {
        "id": "JptBT6TZqmkv"
      }
    },
    {
      "cell_type": "code",
      "source": [
        "np.arange(10)"
      ],
      "metadata": {
        "id": "qvrQwMNtrwoP",
        "colab": {
          "base_uri": "https://localhost:8080/"
        },
        "outputId": "825d2148-9b56-4a37-a05c-cb9d22e6938d"
      },
      "execution_count": 124,
      "outputs": [
        {
          "output_type": "execute_result",
          "data": {
            "text/plain": [
              "array([0, 1, 2, 3, 4, 5, 6, 7, 8, 9])"
            ]
          },
          "metadata": {},
          "execution_count": 124
        }
      ]
    },
    {
      "cell_type": "code",
      "source": [
        "np.arange(10,1,-1)"
      ],
      "metadata": {
        "id": "X9eazjUFr7sH",
        "colab": {
          "base_uri": "https://localhost:8080/"
        },
        "outputId": "a0b528dc-ccd7-4de7-837a-697b66e4e4ab"
      },
      "execution_count": 125,
      "outputs": [
        {
          "output_type": "execute_result",
          "data": {
            "text/plain": [
              "array([10,  9,  8,  7,  6,  5,  4,  3,  2])"
            ]
          },
          "metadata": {},
          "execution_count": 125
        }
      ]
    },
    {
      "cell_type": "markdown",
      "source": [
        "パラメーターを機械的に作ってリストを作成したい場合など、様々な場面でよく使われます。  \n",
        "[こちら](https://bit.ly/3qP27cQ)に図による紹介があるので良ければ参考にしてください。"
      ],
      "metadata": {
        "id": "KKatfc73sHwA"
      }
    },
    {
      "cell_type": "markdown",
      "source": [
        "### np.linspace(start,stop,num)\n",
        "**start以上stop未満の数をnum個で区切った値のarray**です。  \n",
        "stopを含むので注意が必要です。\n",
        "\n"
      ],
      "metadata": {
        "id": "ngByIIZasuT0"
      }
    },
    {
      "cell_type": "code",
      "source": [
        "np.linspace(0,10,5)"
      ],
      "metadata": {
        "id": "ReWQRBgdvGK4",
        "colab": {
          "base_uri": "https://localhost:8080/"
        },
        "outputId": "44563aca-5722-4f2f-a40e-5424ed031855"
      },
      "execution_count": 126,
      "outputs": [
        {
          "output_type": "execute_result",
          "data": {
            "text/plain": [
              "array([ 0. ,  2.5,  5. ,  7.5, 10. ])"
            ]
          },
          "metadata": {},
          "execution_count": 126
        }
      ]
    },
    {
      "cell_type": "markdown",
      "source": [
        "`endpoint=False`という引数で、stopの数字以下ではなく**未満**で結果を出力することができます。"
      ],
      "metadata": {
        "id": "02eVdWN70Jr4"
      }
    },
    {
      "cell_type": "code",
      "source": [
        "np.linspace(0,10,5,endpoint=False)"
      ],
      "metadata": {
        "id": "c49TPbkP0aPA",
        "colab": {
          "base_uri": "https://localhost:8080/"
        },
        "outputId": "c6bf8103-5fe6-42f2-adf5-67e1ebd551c9"
      },
      "execution_count": 127,
      "outputs": [
        {
          "output_type": "execute_result",
          "data": {
            "text/plain": [
              "array([0., 2., 4., 6., 8.])"
            ]
          },
          "metadata": {},
          "execution_count": 127
        }
      ]
    },
    {
      "cell_type": "markdown",
      "source": [
        "ステップが分かっていないが、取り出したい数が分かっている場合に、よく使われます。  \n",
        "[こちら](https://bit.ly/3Uq8lxc)に図による紹介があるので良ければ参考にしてください。"
      ],
      "metadata": {
        "id": "yvMFRPPZt9MK"
      }
    },
    {
      "cell_type": "markdown",
      "source": [
        "### np.logspace(start,stop,num=50)\n",
        "$10^{start}$ 以上 $10^{stop}$以下の数をnum個で区切った値のarrayです。\n",
        "同じくstopを含みます。"
      ],
      "metadata": {
        "id": "BilWNHQMvbHp"
      }
    },
    {
      "cell_type": "code",
      "source": [
        "np.logspace(0,3,10)\n",
        "# 10の(0/3)乗、10の(1/3)乗、10の(2/3)乗、…、10(9/3乗)"
      ],
      "metadata": {
        "id": "n-MfSJlD10mY",
        "colab": {
          "base_uri": "https://localhost:8080/"
        },
        "outputId": "44dd637a-f5ff-42cd-b3bb-9844a29fe6df"
      },
      "execution_count": 128,
      "outputs": [
        {
          "output_type": "execute_result",
          "data": {
            "text/plain": [
              "array([   1.        ,    2.15443469,    4.64158883,   10.        ,\n",
              "         21.5443469 ,   46.41588834,  100.        ,  215.443469  ,\n",
              "        464.15888336, 1000.        ])"
            ]
          },
          "metadata": {},
          "execution_count": 128
        }
      ]
    },
    {
      "cell_type": "code",
      "source": [
        "np.linspace(0,3,10)  # ここで出た数をlogspaceの指数としている"
      ],
      "metadata": {
        "id": "8LnWsfCc2hoc",
        "colab": {
          "base_uri": "https://localhost:8080/"
        },
        "outputId": "0a89b677-8aef-40e0-c8ff-d50f79b76bd2"
      },
      "execution_count": 129,
      "outputs": [
        {
          "output_type": "execute_result",
          "data": {
            "text/plain": [
              "array([0.        , 0.33333333, 0.66666667, 1.        , 1.33333333,\n",
              "       1.66666667, 2.        , 2.33333333, 2.66666667, 3.        ])"
            ]
          },
          "metadata": {},
          "execution_count": 129
        }
      ]
    },
    {
      "cell_type": "markdown",
      "source": [
        "同じく`endpoint=False`という引数で、stopの数字以下ではなく**未満**で結果を出力することができます。"
      ],
      "metadata": {
        "id": "sCNmpSXb3E0f"
      }
    },
    {
      "cell_type": "code",
      "source": [
        "np.logspace(0,3,10,endpoint=False)"
      ],
      "metadata": {
        "id": "G2Z5gRlA3FUr",
        "colab": {
          "base_uri": "https://localhost:8080/"
        },
        "outputId": "b26ad40f-54ca-4dd5-dcb7-1ab9693d6bae"
      },
      "execution_count": 130,
      "outputs": [
        {
          "output_type": "execute_result",
          "data": {
            "text/plain": [
              "array([  1.        ,   1.99526231,   3.98107171,   7.94328235,\n",
              "        15.84893192,  31.6227766 ,  63.09573445, 125.89254118,\n",
              "       251.18864315, 501.18723363])"
            ]
          },
          "metadata": {},
          "execution_count": 130
        }
      ]
    },
    {
      "cell_type": "code",
      "source": [
        "np.linspace(0,3,10,endpoint=False)  # ここで出た数をlogspaceの指数としている"
      ],
      "metadata": {
        "id": "JFygpjTX3Nir",
        "colab": {
          "base_uri": "https://localhost:8080/"
        },
        "outputId": "e7f86e26-e778-4b8d-d1fb-69b7fa5ccd15"
      },
      "execution_count": 131,
      "outputs": [
        {
          "output_type": "execute_result",
          "data": {
            "text/plain": [
              "array([0. , 0.3, 0.6, 0.9, 1.2, 1.5, 1.8, 2.1, 2.4, 2.7])"
            ]
          },
          "metadata": {},
          "execution_count": 131
        }
      ]
    },
    {
      "cell_type": "markdown",
      "source": [
        "### np.zeros(shape)\n",
        "要素が全て0のndarray（**零行列**）を作成することができます。"
      ],
      "metadata": {
        "id": "OtbNUxg4zmzl"
      }
    },
    {
      "cell_type": "code",
      "source": [
        "shape = (4,5)  # numpyのshapeはタプルで操作\n",
        "np.zeros(shape)"
      ],
      "metadata": {
        "id": "EeduKIrEz0GF",
        "colab": {
          "base_uri": "https://localhost:8080/"
        },
        "outputId": "457873b4-7ec0-48e2-e701-a6925e15e503"
      },
      "execution_count": 132,
      "outputs": [
        {
          "output_type": "execute_result",
          "data": {
            "text/plain": [
              "array([[0., 0., 0., 0., 0.],\n",
              "       [0., 0., 0., 0., 0.],\n",
              "       [0., 0., 0., 0., 0.],\n",
              "       [0., 0., 0., 0., 0.]])"
            ]
          },
          "metadata": {},
          "execution_count": 132
        }
      ]
    },
    {
      "cell_type": "markdown",
      "source": [
        "タプルではなく整数値を入れると、その数だけの1列の零行列が作成されます。"
      ],
      "metadata": {
        "id": "FInGMpAh0Wnc"
      }
    },
    {
      "cell_type": "code",
      "source": [
        "np.zeros(5)"
      ],
      "metadata": {
        "id": "GpXyUCc10lOt",
        "colab": {
          "base_uri": "https://localhost:8080/"
        },
        "outputId": "1d4cd2fa-375b-44ea-f1a2-b2c4369af613"
      },
      "execution_count": 133,
      "outputs": [
        {
          "output_type": "execute_result",
          "data": {
            "text/plain": [
              "array([0., 0., 0., 0., 0.])"
            ]
          },
          "metadata": {},
          "execution_count": 133
        }
      ]
    },
    {
      "cell_type": "markdown",
      "source": [
        "最初の処理でいったんndarrayを作っておきたい時などによく使われます。"
      ],
      "metadata": {
        "id": "XOtp4u7B0txU"
      }
    },
    {
      "cell_type": "markdown",
      "source": [
        "### np.ones(shape)\n",
        "要素が全て1のndarrayを作成することができます。"
      ],
      "metadata": {
        "id": "2vS_ocmj02pL"
      }
    },
    {
      "cell_type": "code",
      "source": [
        "shape = (4,5)\n",
        "np.ones(shape)"
      ],
      "metadata": {
        "id": "bDkPe1dQ0_3U",
        "colab": {
          "base_uri": "https://localhost:8080/"
        },
        "outputId": "b62fdd75-a6f1-4243-fa31-b3359a3d2512"
      },
      "execution_count": 134,
      "outputs": [
        {
          "output_type": "execute_result",
          "data": {
            "text/plain": [
              "array([[1., 1., 1., 1., 1.],\n",
              "       [1., 1., 1., 1., 1.],\n",
              "       [1., 1., 1., 1., 1.],\n",
              "       [1., 1., 1., 1., 1.]])"
            ]
          },
          "metadata": {},
          "execution_count": 134
        }
      ]
    },
    {
      "cell_type": "code",
      "source": [
        "np.ones(5)"
      ],
      "metadata": {
        "id": "zz_YY5-v1GjM",
        "colab": {
          "base_uri": "https://localhost:8080/"
        },
        "outputId": "45fed51a-28ea-48c0-98dc-c8dd7d71b7ab"
      },
      "execution_count": 135,
      "outputs": [
        {
          "output_type": "execute_result",
          "data": {
            "text/plain": [
              "array([1., 1., 1., 1., 1.])"
            ]
          },
          "metadata": {},
          "execution_count": 135
        }
      ]
    },
    {
      "cell_type": "markdown",
      "source": [
        "デフォルトの値を設定したいときは**`ones`**、したくないときは**`zeros`**というように使い分けるようです。  \n",
        "[こちら](https://bit.ly/3QQssBW)ではさらに詳しい解説がありますので、良ければ参考にしてください。"
      ],
      "metadata": {
        "id": "0l-JHsEg1I5U"
      }
    },
    {
      "cell_type": "markdown",
      "source": [
        "### np.eye(N)\n",
        "N×Nの単位行列を作ります。  \n",
        "※単位行列：体格成分が全て1となる正方行列"
      ],
      "metadata": {
        "id": "jlpOIWAC1c-J"
      }
    },
    {
      "cell_type": "code",
      "source": [
        "np.eye(5)"
      ],
      "metadata": {
        "id": "1vNH9Tsn1r50",
        "colab": {
          "base_uri": "https://localhost:8080/"
        },
        "outputId": "79030ae3-974d-454e-f25c-09ce0a31642e"
      },
      "execution_count": 136,
      "outputs": [
        {
          "output_type": "execute_result",
          "data": {
            "text/plain": [
              "array([[1., 0., 0., 0., 0.],\n",
              "       [0., 1., 0., 0., 0.],\n",
              "       [0., 0., 1., 0., 0.],\n",
              "       [0., 0., 0., 1., 0.],\n",
              "       [0., 0., 0., 0., 1.]])"
            ]
          },
          "metadata": {},
          "execution_count": 136
        }
      ]
    },
    {
      "cell_type": "markdown",
      "source": [
        "行列指定をすることで、正方行列以外も作成することができます。"
      ],
      "metadata": {
        "id": "CSTeIuSL1_Ah"
      }
    },
    {
      "cell_type": "code",
      "source": [
        "np.eye(4,5)"
      ],
      "metadata": {
        "id": "686cfzAn2DQ0",
        "colab": {
          "base_uri": "https://localhost:8080/"
        },
        "outputId": "dd5d27ca-2693-4fb4-e360-9b87f2e47b60"
      },
      "execution_count": 137,
      "outputs": [
        {
          "output_type": "execute_result",
          "data": {
            "text/plain": [
              "array([[1., 0., 0., 0., 0.],\n",
              "       [0., 1., 0., 0., 0.],\n",
              "       [0., 0., 1., 0., 0.],\n",
              "       [0., 0., 0., 1., 0.]])"
            ]
          },
          "metadata": {},
          "execution_count": 137
        }
      ]
    },
    {
      "cell_type": "markdown",
      "source": [
        "### np.random.rand()\n",
        "引数を何も指定しない場合は、0～1の中で単純な乱数が生成されます。"
      ],
      "metadata": {
        "id": "m_HbJdMS2G0i"
      }
    },
    {
      "cell_type": "code",
      "source": [
        "np.random.rand()"
      ],
      "metadata": {
        "id": "moDA_exv2wdK",
        "colab": {
          "base_uri": "https://localhost:8080/"
        },
        "outputId": "9fa1d872-16d1-4d7c-ea6d-cf95b2ebaf96"
      },
      "execution_count": 138,
      "outputs": [
        {
          "output_type": "execute_result",
          "data": {
            "text/plain": [
              "0.14038693859523377"
            ]
          },
          "metadata": {},
          "execution_count": 138
        }
      ]
    },
    {
      "cell_type": "markdown",
      "source": [
        "引数を入れるとndarrayを返します。"
      ],
      "metadata": {
        "id": "9-rT4tDi21LZ"
      }
    },
    {
      "cell_type": "code",
      "source": [
        "np.random.rand(4,5)"
      ],
      "metadata": {
        "id": "W6Q_PEy723ow",
        "colab": {
          "base_uri": "https://localhost:8080/"
        },
        "outputId": "d3118811-9ae7-4d63-f80c-8acbcb8c7e8f"
      },
      "execution_count": 139,
      "outputs": [
        {
          "output_type": "execute_result",
          "data": {
            "text/plain": [
              "array([[0.19810149, 0.80074457, 0.96826158, 0.31342418, 0.69232262],\n",
              "       [0.87638915, 0.89460666, 0.08504421, 0.03905478, 0.16983042],\n",
              "       [0.8781425 , 0.09834683, 0.42110763, 0.95788953, 0.53316528],\n",
              "       [0.69187711, 0.31551563, 0.68650093, 0.83462567, 0.01828828]])"
            ]
          },
          "metadata": {},
          "execution_count": 139
        }
      ]
    },
    {
      "cell_type": "markdown",
      "source": [
        "**`seed`**を指定することで、同じ`seed`が指定してあれば毎回同じ乱数を生成することができます。  \n",
        "乱数生成には基本的に`seed`を作るようにしましょう。他の人と同じ結果を共有することができます。"
      ],
      "metadata": {
        "id": "q59stA_03GNH"
      }
    },
    {
      "cell_type": "code",
      "source": [
        "np.random.seed(1)\n",
        "np.random.rand()"
      ],
      "metadata": {
        "id": "qBBBgHUJ4AR_",
        "colab": {
          "base_uri": "https://localhost:8080/"
        },
        "outputId": "1286c2d2-96fe-4d81-f238-6302ac5250ef"
      },
      "execution_count": 140,
      "outputs": [
        {
          "output_type": "execute_result",
          "data": {
            "text/plain": [
              "0.417022004702574"
            ]
          },
          "metadata": {},
          "execution_count": 140
        }
      ]
    },
    {
      "cell_type": "markdown",
      "source": [
        "### np.random.randn()\n",
        "**標準正規分布**（平均0、分散1）からランダムの値を返します。  \n",
        "（標準正規分布については[こちら](https://www.dropbox.com/s/nq8idw52bkhafyr/Stats_3.pdf?dl=0)などを参照してください）"
      ],
      "metadata": {
        "id": "-Vyi803T4aPO"
      }
    },
    {
      "cell_type": "code",
      "source": [
        "np.random.randn()"
      ],
      "metadata": {
        "id": "MkLfHIS85J2m",
        "colab": {
          "base_uri": "https://localhost:8080/"
        },
        "outputId": "689e6ec9-89ba-4819-cec8-222ed7498137"
      },
      "execution_count": 141,
      "outputs": [
        {
          "output_type": "execute_result",
          "data": {
            "text/plain": [
              "-0.8021728386486427"
            ]
          },
          "metadata": {},
          "execution_count": 141
        }
      ]
    },
    {
      "cell_type": "code",
      "source": [
        "np.random.randn(3,2)  # 0付近の値が出てくる確率が高い"
      ],
      "metadata": {
        "id": "EsC8JO9T5U0s",
        "colab": {
          "base_uri": "https://localhost:8080/"
        },
        "outputId": "0e1b7c63-e939-4c1f-d32c-8744dc42973a"
      },
      "execution_count": 142,
      "outputs": [
        {
          "output_type": "execute_result",
          "data": {
            "text/plain": [
              "array([[-0.44887781, -1.10593508],\n",
              "       [-1.65451545, -2.3634686 ],\n",
              "       [ 1.13534535, -1.01701414]])"
            ]
          },
          "metadata": {},
          "execution_count": 142
        }
      ]
    },
    {
      "cell_type": "markdown",
      "source": [
        "### np.random.randint(low [,high] [,size])\n",
        "`low`以上`high`未満のランダムな整数で、`size`のndarrayを生成します。"
      ],
      "metadata": {
        "id": "yAPeNvf05dje"
      }
    },
    {
      "cell_type": "code",
      "source": [
        "np.random.randint(0,10,(4,5))"
      ],
      "metadata": {
        "id": "zfDDLSsr6Rja",
        "colab": {
          "base_uri": "https://localhost:8080/"
        },
        "outputId": "6c84927c-0f3c-41b1-8ee4-5c8899add8c3"
      },
      "execution_count": 143,
      "outputs": [
        {
          "output_type": "execute_result",
          "data": {
            "text/plain": [
              "array([[2, 4, 7, 7, 9],\n",
              "       [1, 7, 0, 6, 9],\n",
              "       [9, 7, 6, 9, 1],\n",
              "       [0, 1, 8, 8, 3]])"
            ]
          },
          "metadata": {},
          "execution_count": 143
        }
      ]
    },
    {
      "cell_type": "markdown",
      "source": [
        "`low`だけ指定した場合は、0以上`low`未満の値が生成されます。"
      ],
      "metadata": {
        "id": "6Q5bXD0V6p5s"
      }
    },
    {
      "cell_type": "code",
      "source": [
        "np.random.randint(10)"
      ],
      "metadata": {
        "id": "8rofkqMW6yOD",
        "colab": {
          "base_uri": "https://localhost:8080/"
        },
        "outputId": "c5b728c6-4985-48f9-c9eb-a66f5dec0b0c"
      },
      "execution_count": 144,
      "outputs": [
        {
          "output_type": "execute_result",
          "data": {
            "text/plain": [
              "9"
            ]
          },
          "metadata": {},
          "execution_count": 144
        }
      ]
    },
    {
      "cell_type": "markdown",
      "source": [
        "### np.random.choice()\n",
        "指定したndarray(リスト)から、ランダムな値を取得します。"
      ],
      "metadata": {
        "id": "mqAfr6Mf7HUD"
      }
    },
    {
      "cell_type": "code",
      "source": [
        "a = [0,1,2,3]\n",
        "np.random.choice(a)  # 0～3の整数の中からランダムに値を取得"
      ],
      "metadata": {
        "id": "H9UsMpEU7PpS",
        "colab": {
          "base_uri": "https://localhost:8080/"
        },
        "outputId": "f240bbae-a404-453c-aba9-57d119cbeb2f"
      },
      "execution_count": 145,
      "outputs": [
        {
          "output_type": "execute_result",
          "data": {
            "text/plain": [
              "0"
            ]
          },
          "metadata": {},
          "execution_count": 145
        }
      ]
    },
    {
      "cell_type": "markdown",
      "source": [
        "[こちら](https://bit.ly/3BTGPkD)ではさらに詳しい解説がありますので、良ければ参考にしてください。"
      ],
      "metadata": {
        "id": "WOZjLFxQCY1N"
      }
    },
    {
      "cell_type": "markdown",
      "source": [
        "## 統計量\n",
        "データの特徴を要約した値を**統計量**といいます。  \n",
        "標準正規分布から乱数をつくり、そのndarrayに対して統計量を求めていきます。"
      ],
      "metadata": {
        "id": "bF_rsMELZ9oo"
      }
    },
    {
      "cell_type": "code",
      "source": [
        "np.random.seed(1)\n",
        "ndarray = np.random.randn(4,4)\n",
        "ndarray"
      ],
      "metadata": {
        "id": "p178PnWDamHl",
        "colab": {
          "base_uri": "https://localhost:8080/"
        },
        "outputId": "d9966155-82d7-4796-960b-eebac05c6161"
      },
      "execution_count": 146,
      "outputs": [
        {
          "output_type": "execute_result",
          "data": {
            "text/plain": [
              "array([[ 1.62434536, -0.61175641, -0.52817175, -1.07296862],\n",
              "       [ 0.86540763, -2.3015387 ,  1.74481176, -0.7612069 ],\n",
              "       [ 0.3190391 , -0.24937038,  1.46210794, -2.06014071],\n",
              "       [-0.3224172 , -0.38405435,  1.13376944, -1.09989127]])"
            ]
          },
          "metadata": {},
          "execution_count": 146
        }
      ]
    },
    {
      "cell_type": "markdown",
      "source": [
        "### .max()と.argmax()\n",
        "`.max()`で最大値を取得することができます。"
      ],
      "metadata": {
        "id": "rDxOJxWVacZH"
      }
    },
    {
      "cell_type": "code",
      "source": [
        "ndarray.max()"
      ],
      "metadata": {
        "id": "OJt7TVZhbG6H",
        "colab": {
          "base_uri": "https://localhost:8080/"
        },
        "outputId": "a040e46a-6084-4b1a-9450-bc8f232ed385"
      },
      "execution_count": 147,
      "outputs": [
        {
          "output_type": "execute_result",
          "data": {
            "text/plain": [
              "1.74481176421648"
            ]
          },
          "metadata": {},
          "execution_count": 147
        }
      ]
    },
    {
      "cell_type": "markdown",
      "source": [
        "`argmax()`で最大値のインデックスを取得することができます。"
      ],
      "metadata": {
        "id": "p9GcQfWPbWW4"
      }
    },
    {
      "cell_type": "code",
      "source": [
        "ndarray.argmax()"
      ],
      "metadata": {
        "id": "xHAmixrqbgyN",
        "colab": {
          "base_uri": "https://localhost:8080/"
        },
        "outputId": "0adf7f38-d6a0-480e-e3bf-da383ff1043d"
      },
      "execution_count": 148,
      "outputs": [
        {
          "output_type": "execute_result",
          "data": {
            "text/plain": [
              "6"
            ]
          },
          "metadata": {},
          "execution_count": 148
        }
      ]
    },
    {
      "cell_type": "markdown",
      "source": [
        "インデックスを用いて値を取得する場合は、**`.flatten()`**を用いる必要があります。"
      ],
      "metadata": {
        "id": "7vSm9CAibofF"
      }
    },
    {
      "cell_type": "code",
      "source": [
        "ndarray.flatten()[ndarray.argmax()]"
      ],
      "metadata": {
        "id": "Ipittqi7bygt",
        "colab": {
          "base_uri": "https://localhost:8080/"
        },
        "outputId": "872123d5-abde-4639-a9b8-d525acdc5e6d"
      },
      "execution_count": 149,
      "outputs": [
        {
          "output_type": "execute_result",
          "data": {
            "text/plain": [
              "1.74481176421648"
            ]
          },
          "metadata": {},
          "execution_count": 149
        }
      ]
    },
    {
      "cell_type": "markdown",
      "source": [
        "### .min()と.argmin()\n",
        "最大値と同様、`.min()`で最小値を、`argmin()`で最小値のインデックスを取得することができます。"
      ],
      "metadata": {
        "id": "S6qiW2v4b6it"
      }
    },
    {
      "cell_type": "code",
      "source": [
        "ndarray.min()"
      ],
      "metadata": {
        "id": "4SqKb4_wcOVL",
        "colab": {
          "base_uri": "https://localhost:8080/"
        },
        "outputId": "032e5776-18a3-4ce5-fe8d-29957baf3a9a"
      },
      "execution_count": 150,
      "outputs": [
        {
          "output_type": "execute_result",
          "data": {
            "text/plain": [
              "-2.3015386968802827"
            ]
          },
          "metadata": {},
          "execution_count": 150
        }
      ]
    },
    {
      "cell_type": "code",
      "source": [
        "ndarray.argmin()"
      ],
      "metadata": {
        "id": "D73y24UUcQjj",
        "colab": {
          "base_uri": "https://localhost:8080/"
        },
        "outputId": "88c7199e-c19c-43bd-98f2-2cd0a840e7a4"
      },
      "execution_count": 151,
      "outputs": [
        {
          "output_type": "execute_result",
          "data": {
            "text/plain": [
              "5"
            ]
          },
          "metadata": {},
          "execution_count": 151
        }
      ]
    },
    {
      "cell_type": "code",
      "source": [
        "ndarray.flatten()[ndarray.argmin()]"
      ],
      "metadata": {
        "id": "GSNEHS_Dczer",
        "colab": {
          "base_uri": "https://localhost:8080/"
        },
        "outputId": "6a5d5768-d7ed-4996-a7f1-47a0e8d5fc30"
      },
      "execution_count": 152,
      "outputs": [
        {
          "output_type": "execute_result",
          "data": {
            "text/plain": [
              "-2.3015386968802827"
            ]
          },
          "metadata": {},
          "execution_count": 152
        }
      ]
    },
    {
      "cell_type": "markdown",
      "source": [
        "### .mean()\n",
        "平均値を取得することができます。"
      ],
      "metadata": {
        "id": "JjzFCJRQeKBB"
      }
    },
    {
      "cell_type": "code",
      "source": [
        "ndarray.mean()"
      ],
      "metadata": {
        "id": "h5Vs5uzceRLZ",
        "colab": {
          "base_uri": "https://localhost:8080/"
        },
        "outputId": "f3b3909a-5107-4157-8fca-b5b54c432648"
      },
      "execution_count": 153,
      "outputs": [
        {
          "output_type": "execute_result",
          "data": {
            "text/plain": [
              "-0.1401271915108872"
            ]
          },
          "metadata": {},
          "execution_count": 153
        }
      ]
    },
    {
      "cell_type": "markdown",
      "source": [
        "### np.median(ndarray)\n",
        "中央値を取得することができます。  \n",
        "`max`や`mean`らと少し形が異なることに注意しましょう。"
      ],
      "metadata": {
        "id": "Y3qwlTseeUWb"
      }
    },
    {
      "cell_type": "code",
      "source": [
        "np.median(ndarray)"
      ],
      "metadata": {
        "id": "6pbPJjE4eo84",
        "colab": {
          "base_uri": "https://localhost:8080/"
        },
        "outputId": "93e466e9-a3ce-4a28-b4f8-2cd9fd6dd62a"
      },
      "execution_count": 154,
      "outputs": [
        {
          "output_type": "execute_result",
          "data": {
            "text/plain": [
              "-0.35323577934096156"
            ]
          },
          "metadata": {},
          "execution_count": 154
        }
      ]
    },
    {
      "cell_type": "markdown",
      "source": [
        "中央値には計算に時間がかかるが、外れ値に強いという特徴があります。  \n",
        "\n",
        "実際に時間を計測してみましょう。"
      ],
      "metadata": {
        "id": "w0FHAy5JFVqC"
      }
    },
    {
      "cell_type": "code",
      "source": [
        "import time  # モジュールのimport\n",
        "big = np.random.randint(10,100,(1000,10000))\n",
        "before = time.time()  # 現時間の時間を出力\n",
        "\n",
        "np.median(big)\n",
        "after_median = time.time()\n",
        "print(\"中央値を求めるのにかかった時間は{}秒です\" .format(after_median - before))\n",
        "\n",
        "np.mean(big)\n",
        "after_mean = time.time()\n",
        "print(\"平均値を求めるのにかかった時間は{}秒です\".format(after_mean - after_median))"
      ],
      "metadata": {
        "id": "bndXDZKrFoOC",
        "colab": {
          "base_uri": "https://localhost:8080/"
        },
        "outputId": "898b0e65-d519-4b53-cb67-bc71cadc4a87"
      },
      "execution_count": 155,
      "outputs": [
        {
          "output_type": "stream",
          "name": "stdout",
          "text": [
            "中央値を求めるのにかかった時間は0.25182557106018066秒です\n",
            "平均値を求めるのにかかった時間は0.019021272659301758秒です\n"
          ]
        }
      ]
    },
    {
      "cell_type": "markdown",
      "source": [
        "### .std()\n",
        "標準偏差を取得することができます。  \n",
        "※標準偏差：データの分散を示す指標"
      ],
      "metadata": {
        "id": "2IxBfrJkf8CP"
      }
    },
    {
      "cell_type": "code",
      "source": [
        "ndarray.std()"
      ],
      "metadata": {
        "id": "W7S50Sy7hdGs",
        "colab": {
          "base_uri": "https://localhost:8080/"
        },
        "outputId": "1e0f8780-82af-4c83-abb0-a689f5da6443"
      },
      "execution_count": 156,
      "outputs": [
        {
          "output_type": "execute_result",
          "data": {
            "text/plain": [
              "1.2013318383804203"
            ]
          },
          "metadata": {},
          "execution_count": 156
        }
      ]
    },
    {
      "cell_type": "markdown",
      "source": [
        "### 行・列ごとの統計量\n",
        "特定の行、列での統計量を求めたい場合は、**引数axis**を指定します。  \n",
        "\n",
        "axis=0:各列の統計量  \n",
        "axis=1:各行の統計量"
      ],
      "metadata": {
        "id": "R3nnYAl2iWQb"
      }
    },
    {
      "cell_type": "code",
      "source": [
        "print(f\"axis=0:{ndarray.max(axis=0)}\")\n",
        "print(f\"axis=1:{ndarray.max(axis=1)}\")"
      ],
      "metadata": {
        "id": "AgGEPFgZiwgR",
        "colab": {
          "base_uri": "https://localhost:8080/"
        },
        "outputId": "6f61d491-3aef-4491-87f2-2f98b9c2d40c"
      },
      "execution_count": 157,
      "outputs": [
        {
          "output_type": "stream",
          "name": "stdout",
          "text": [
            "axis=0:[ 1.62434536 -0.24937038  1.74481176 -0.7612069 ]\n",
            "axis=1:[1.62434536 1.74481176 1.46210794 1.13376944]\n"
          ]
        }
      ]
    },
    {
      "cell_type": "markdown",
      "source": [
        "## 数学で使う便利な関数\n",
        "Numpyに組み込まれている以下の関数をよく使います。"
      ],
      "metadata": {
        "id": "KlTGSPFKjyMA"
      }
    },
    {
      "cell_type": "markdown",
      "source": [
        "### np.sqrt()\n",
        "平方根を求めることができます。"
      ],
      "metadata": {
        "id": "T35rgCq5lLrd"
      }
    },
    {
      "cell_type": "code",
      "source": [
        "x = np.linspace(1,5,5)  # array([1., 2., 3., 4., 5.])\n",
        "np.sqrt(x)"
      ],
      "metadata": {
        "id": "-iSm_O99kVzS",
        "colab": {
          "base_uri": "https://localhost:8080/"
        },
        "outputId": "7f9e9c94-ce2d-426f-a989-e8406d554e3d"
      },
      "execution_count": 158,
      "outputs": [
        {
          "output_type": "execute_result",
          "data": {
            "text/plain": [
              "array([1.        , 1.41421356, 1.73205081, 2.        , 2.23606798])"
            ]
          },
          "metadata": {},
          "execution_count": 158
        }
      ]
    },
    {
      "cell_type": "markdown",
      "source": [
        "### np.log()\n",
        "底がネイピア数eであるlogを求めることができます。  \n",
        "`np.log10()`や`np.log2()`のようにすると、10や2を底にすることができます。"
      ],
      "metadata": {
        "id": "Msb7jbOBpliL"
      }
    },
    {
      "cell_type": "code",
      "source": [
        "print(f\"底e : {np.log(x)}\")\n",
        "print(f\"底10 : {np.log10(x)}\")\n",
        "print(f\"底2 : {np.log2(x)}\")"
      ],
      "metadata": {
        "id": "R_lklVATr_Q6",
        "colab": {
          "base_uri": "https://localhost:8080/"
        },
        "outputId": "b78d479f-bf1f-4fc0-8f24-bf7e8cd7a5dc"
      },
      "execution_count": 159,
      "outputs": [
        {
          "output_type": "stream",
          "name": "stdout",
          "text": [
            "底e : [0.         0.69314718 1.09861229 1.38629436 1.60943791]\n",
            "底10 : [0.         0.30103    0.47712125 0.60205999 0.69897   ]\n",
            "底2 : [0.         1.         1.5849625  2.         2.32192809]\n"
          ]
        }
      ]
    },
    {
      "cell_type": "markdown",
      "source": [
        "### np.exp()\n",
        "底がeである指数関数を求めることができます。"
      ],
      "metadata": {
        "id": "ms55-hdPtbhY"
      }
    },
    {
      "cell_type": "code",
      "source": [
        "np.exp(x)"
      ],
      "metadata": {
        "id": "rcAIjPKQuZNB",
        "colab": {
          "base_uri": "https://localhost:8080/"
        },
        "outputId": "4f2c9049-a026-4669-e9a6-22fe4b0fd83e"
      },
      "execution_count": 160,
      "outputs": [
        {
          "output_type": "execute_result",
          "data": {
            "text/plain": [
              "array([  2.71828183,   7.3890561 ,  20.08553692,  54.59815003,\n",
              "       148.4131591 ])"
            ]
          },
          "metadata": {},
          "execution_count": 160
        }
      ]
    },
    {
      "cell_type": "markdown",
      "source": [
        "### np.e\n",
        "ネイピア数を求めることができます。"
      ],
      "metadata": {
        "id": "Itf48yOkuphm"
      }
    },
    {
      "cell_type": "code",
      "source": [
        "print(np.e)\n",
        "print(np.log(np.e))"
      ],
      "metadata": {
        "id": "kUDVheFGuzQX",
        "colab": {
          "base_uri": "https://localhost:8080/"
        },
        "outputId": "b32c3861-48cd-45c7-cf34-f54d6da9d34a"
      },
      "execution_count": 161,
      "outputs": [
        {
          "output_type": "stream",
          "name": "stdout",
          "text": [
            "2.718281828459045\n",
            "1.0\n"
          ]
        }
      ]
    },
    {
      "cell_type": "markdown",
      "source": [
        "### np.sum()\n",
        "合計を求めることができます。"
      ],
      "metadata": {
        "id": "yMRZ_7yMvh7V"
      }
    },
    {
      "cell_type": "code",
      "source": [
        "array = np.arange(1,7)  # array([1., 2., 3., 4., 5., 6.])\n",
        "np.sum(array)"
      ],
      "metadata": {
        "id": "rP_3zJkuvpKk",
        "colab": {
          "base_uri": "https://localhost:8080/"
        },
        "outputId": "43439499-e1e2-419e-bb1b-1c4fe33828a7"
      },
      "execution_count": 162,
      "outputs": [
        {
          "output_type": "execute_result",
          "data": {
            "text/plain": [
              "21"
            ]
          },
          "metadata": {},
          "execution_count": 162
        }
      ]
    },
    {
      "cell_type": "markdown",
      "source": [
        "ここでも**引数axis**を指定することで、行毎・列毎に計算することができます。"
      ],
      "metadata": {
        "id": "Q9oYDEzhwzh0"
      }
    },
    {
      "cell_type": "code",
      "source": [
        "ndarray = array.reshape(2,3)\n",
        "\"\"\"\n",
        "array([[1, 2, 3],\n",
        "       [4, 5, 6]])\n",
        "\"\"\"\n",
        "print(np.sum(ndarray,axis=0))\n",
        "print(np.sum(ndarray,axis=1))"
      ],
      "metadata": {
        "id": "KElONC2sw_Nf",
        "colab": {
          "base_uri": "https://localhost:8080/"
        },
        "outputId": "a158de1d-a487-4e74-fd3f-1794a7d29d56"
      },
      "execution_count": 163,
      "outputs": [
        {
          "output_type": "stream",
          "name": "stdout",
          "text": [
            "[5 7 9]\n",
            "[ 6 15]\n"
          ]
        }
      ]
    },
    {
      "cell_type": "markdown",
      "source": [
        "### np.abs()\n",
        "絶対値を求めることができます。"
      ],
      "metadata": {
        "id": "qVbL-4owxn4b"
      }
    },
    {
      "cell_type": "code",
      "source": [
        "array = np.arange(-1,-6,-1)  # array([-1, -2, -3, -4, -5])\n",
        "np.abs(array)"
      ],
      "metadata": {
        "id": "zJ0cDPADx5EB",
        "colab": {
          "base_uri": "https://localhost:8080/"
        },
        "outputId": "67b2c100-2f73-4bcb-f1ee-31bd1cebd611"
      },
      "execution_count": 164,
      "outputs": [
        {
          "output_type": "execute_result",
          "data": {
            "text/plain": [
              "array([1, 2, 3, 4, 5])"
            ]
          },
          "metadata": {},
          "execution_count": 164
        }
      ]
    },
    {
      "cell_type": "markdown",
      "source": [
        "## NaN\n",
        "0で割った時や、logの真数に0以下の数を入れた場合は、**NaN**という値が返されます。  \n",
        "NaN:Not a Number"
      ],
      "metadata": {
        "id": "ctlElqF11_ZS"
      }
    },
    {
      "cell_type": "code",
      "source": [
        "np.log(-10)"
      ],
      "metadata": {
        "id": "Diuo6u0o3FCL",
        "colab": {
          "base_uri": "https://localhost:8080/"
        },
        "outputId": "2464491d-be84-4786-dacf-cf6e25c9cd54"
      },
      "execution_count": 165,
      "outputs": [
        {
          "output_type": "stream",
          "name": "stderr",
          "text": [
            "<ipython-input-165-0d1208038d97>:1: RuntimeWarning: invalid value encountered in log\n",
            "  np.log(-10)\n"
          ]
        },
        {
          "output_type": "execute_result",
          "data": {
            "text/plain": [
              "nan"
            ]
          },
          "metadata": {},
          "execution_count": 165
        }
      ]
    },
    {
      "cell_type": "markdown",
      "source": [
        "**`np.nan`**とすることで、明示的にNaNを発生させることができます。"
      ],
      "metadata": {
        "id": "QT_L4Cld4PUo"
      }
    },
    {
      "cell_type": "code",
      "source": [
        "np.nan"
      ],
      "metadata": {
        "id": "iaOkMAnp4U0f",
        "colab": {
          "base_uri": "https://localhost:8080/"
        },
        "outputId": "763e6c42-cc3f-4e83-b6e6-e119e831b617"
      },
      "execution_count": 166,
      "outputs": [
        {
          "output_type": "execute_result",
          "data": {
            "text/plain": [
              "nan"
            ]
          },
          "metadata": {},
          "execution_count": 166
        }
      ]
    },
    {
      "cell_type": "markdown",
      "source": [
        "NaNはfloat型であるので、**float関連のエラーが出てきたらNaNを疑うようにしましょう**。  \n",
        "\n",
        "![floatnan.png](data:image/png;base64,iVBORw0KGgoAAAANSUhEUgAAAU0AAAAhCAIAAADS024GAAAAAXNSR0IArs4c6QAAAARnQU1BAACxjwv8YQUAAAAJcEhZcwAADsMAAA7DAcdvqGQAAAOWSURBVHhe7ZOBbuNACET7K/e999E94iEcZgFvbKettvMUWTNjwPZGfHwSQlaHe07I+nDPCVkf7jkh68M9J2R9uOeErA/3nJD14Z4Tsj6/fc//bKj5cr736eT3kOz5348P/9P0Gu+YeQvpplWhqteperfnnBnbdJ0bCF7qvfKgeW5/yvtee3Ly9bITn1Cu3L3b+KN2OxBOrTrEE4dr3PufCbcPBC/1XnnQPLc/5X2vPTn5etmJT1hzz+UgJs9iLKsaJwem3D7zyss0vGnsFW5/pW//xskXaMpOfMLsnntrGkKuY3EIQ4GBPC0ew5AIsGMuB3HiLAQ0Ao2epAlQv6GRC9Wfeh+g/fuZuPoQpAlQv6HRfiZQf8RYiXZBfQEKxkokgvrpgUBL9+2qnIZ41O3HIhHUb2g0hLimuQG7Vf3PYQX1TzTdV+LqQ5AmQP3Abj086UYB037BRiGESvyQgDER0jJVgw6V16kOK+Temk5DIfS+RPUgryFAY9OWSh8SiufnyF0rGIVQ6Ya0pQq9DkLoQ0G0t0YIfZm/5TVI74rwGgI0NtwyyiUZ9wdJWDNVTh+GnjQfw3SmUI29QnVSrx7uYcEk6ZxmeGPTdk+VpzQP6vGVptNQmByblqVzDkMjDYXJ3NtKj9jdpqWx4ZZR7km1bIcrJ8L/LIQIpPkY+qTSd1Gd1OThijY0qmfOkM5pho/WYyFEoMpTxuLHAzbUF/gC02koHE4zpBKoL+Y0BUD9/q5nMq9Gpe0SGpZACF4Lo/Vouqfck5kNFGvJKDxpKEwW+6TSnuaDD6kaQ+6t6TQUQu9LvPQgobcgDYUqT2mK+zn+ruk0FPpRKf3Mw+FppWcyF2uJv+U1SO82Lb1NyfdEmNlAWLn6PNU+9KT5GKYzhWqsfPnMx6dUjSH31nQaCqH3JaoHeQ0BGpu2VPqQUDw/J62s2vtRRj9TRKWDEPpQ8NoTcli5prnHJ6YfbU5DgMaGW0a+J0K/bKBaM8nxU++SMVflqMLQK6SVF6lOaswlAeo3NNpCXIGFJ0CvoP45OYQgTYD6DY2KYjUtVa+gvsAXBA3UP0nDEZQJ6jcssdysJQCJoH5DoyFUtWeyTHhMrB8UrhCeNAHqB2b3pNo9VeQH0P/T5Iv5Uf8FF5WQ9eGeE7I+3HNC1od7Tsj6cM8JWR/uOSHrwz0nZH2454SsD/eckPXhnhOyPtxzQtaHe07I+nDPCVmdz89/6IGB1HudEGUAAAAASUVORK5CYII=)"
      ],
      "metadata": {
        "id": "fCBOrcbJ4lAl"
      }
    },
    {
      "cell_type": "code",
      "source": [
        "type(np.nan)"
      ],
      "metadata": {
        "id": "4mSfcqyl4zrO",
        "colab": {
          "base_uri": "https://localhost:8080/"
        },
        "outputId": "33ea2802-3de8-42b6-91be-bcf5623c2269"
      },
      "execution_count": 167,
      "outputs": [
        {
          "output_type": "execute_result",
          "data": {
            "text/plain": [
              "float"
            ]
          },
          "metadata": {},
          "execution_count": 167
        }
      ]
    },
    {
      "cell_type": "markdown",
      "source": [
        "**PythonのNoneとは別物**であり、また比較演算子を使ってNaNであるかのチェックをすることができません。"
      ],
      "metadata": {
        "id": "8h4WuzLA46x-"
      }
    },
    {
      "cell_type": "code",
      "source": [
        "print(np.log(-100) == np.nan)  # Trueが望ましいが、Falseが出力される\n",
        "print(np.log(-100) is np.nan)  # Trueが望ましいが、Falseが出力される"
      ],
      "metadata": {
        "id": "P8YcumJp5OxH",
        "colab": {
          "base_uri": "https://localhost:8080/"
        },
        "outputId": "73b76113-8067-4642-8595-208b1d17b463"
      },
      "execution_count": 168,
      "outputs": [
        {
          "output_type": "stream",
          "name": "stdout",
          "text": [
            "False\n",
            "False\n"
          ]
        },
        {
          "output_type": "stream",
          "name": "stderr",
          "text": [
            "<ipython-input-168-9ef8a5ba34ec>:1: RuntimeWarning: invalid value encountered in log\n",
            "  print(np.log(-100) == np.nan)    #Trueが望ましいが、Falseが出力される\n",
            "<ipython-input-168-9ef8a5ba34ec>:2: RuntimeWarning: invalid value encountered in log\n",
            "  print(np.log(-100) is np.nan)    #Trueが望ましいが、Falseが出力される\n"
          ]
        }
      ]
    },
    {
      "cell_type": "markdown",
      "source": [
        "**`np.isnan()`**という関数を利用することで、NaNをチェックすることができます。"
      ],
      "metadata": {
        "id": "jjAJqGTK57ZE"
      }
    },
    {
      "cell_type": "code",
      "source": [
        "np.isnan(np.log(-100))"
      ],
      "metadata": {
        "id": "uL5TcLgj6Gi7",
        "colab": {
          "base_uri": "https://localhost:8080/"
        },
        "outputId": "d6947fe2-b7d8-4ccd-8c64-b38e6bfc3953"
      },
      "execution_count": 169,
      "outputs": [
        {
          "output_type": "stream",
          "name": "stderr",
          "text": [
            "<ipython-input-169-997525166556>:1: RuntimeWarning: invalid value encountered in log\n",
            "  np.isnan(np.log(-100))\n"
          ]
        },
        {
          "output_type": "execute_result",
          "data": {
            "text/plain": [
              "True"
            ]
          },
          "metadata": {},
          "execution_count": 169
        }
      ]
    },
    {
      "cell_type": "markdown",
      "source": [
        "## Ndarrayの条件フィルター\n",
        "ndarrayの要素を変更する関数について以下に述べます。"
      ],
      "metadata": {
        "id": "O15RRoW-7OH0"
      }
    },
    {
      "cell_type": "markdown",
      "source": [
        "### np.clip(a , a_min , a_max)\n",
        "最小値と最大値を設定します。  \n",
        "それらの範囲以外の数字は最小値、もしくは最大値を適用します。"
      ],
      "metadata": {
        "id": "EGetSzX29BHh"
      }
    },
    {
      "cell_type": "code",
      "source": [
        "array = np.arange(1,11)  # array([ 1,  2,  3,  4,  5,  6,  7,  8,  9, 10])\n",
        "np.clip(array,3,7)  # 3以下の自然数は3、7以上の自然数は7"
      ],
      "metadata": {
        "id": "_9x9h-PZ9qGS",
        "colab": {
          "base_uri": "https://localhost:8080/"
        },
        "outputId": "9ecab1d7-2817-4240-bdd3-738bc6a712a8"
      },
      "execution_count": 170,
      "outputs": [
        {
          "output_type": "execute_result",
          "data": {
            "text/plain": [
              "array([3, 3, 3, 4, 5, 6, 7, 7, 7, 7])"
            ]
          },
          "metadata": {},
          "execution_count": 170
        }
      ]
    },
    {
      "cell_type": "markdown",
      "source": [
        "### np.where(condition , a , b)\n",
        "condition(条件)がTrueの要素はaに、Falseの要素はbに置き換わります。"
      ],
      "metadata": {
        "id": "wVJGogNg-P9P"
      }
    },
    {
      "cell_type": "code",
      "source": [
        "array = np.linspace(1,10,10)  # array([ 1.,  2.,  3.,  4.,  5.,  6.,  7.,  8.,  9., 10.])\n",
        "np.where(array > 3 , 1 , 0)"
      ],
      "metadata": {
        "id": "NLLn8oELAWFT",
        "colab": {
          "base_uri": "https://localhost:8080/"
        },
        "outputId": "b26cfcb0-302e-4abb-f867-b5edc4976741"
      },
      "execution_count": 171,
      "outputs": [
        {
          "output_type": "execute_result",
          "data": {
            "text/plain": [
              "array([0, 0, 0, 1, 1, 1, 1, 1, 1, 1])"
            ]
          },
          "metadata": {},
          "execution_count": 171
        }
      ]
    },
    {
      "cell_type": "markdown",
      "source": [
        "conditionのみ指定すると、その条件に一致するインデックスを取得することができます。  \n",
        "※あまり使いません"
      ],
      "metadata": {
        "id": "OPuacecPCeJ4"
      }
    },
    {
      "cell_type": "code",
      "source": [
        "np.where(array > 3)"
      ],
      "metadata": {
        "id": "g1xK0BSUEQb2",
        "colab": {
          "base_uri": "https://localhost:8080/"
        },
        "outputId": "7e2c5b4f-378e-416d-c9b4-d6c0265f7a39"
      },
      "execution_count": 172,
      "outputs": [
        {
          "output_type": "execute_result",
          "data": {
            "text/plain": [
              "(array([3, 4, 5, 6, 7, 8, 9]),)"
            ]
          },
          "metadata": {},
          "execution_count": 172
        }
      ]
    },
    {
      "cell_type": "markdown",
      "source": [
        "ndarrayにフィルターをかけるときは、`where`より\n",
        "**`ndarray[condition]`**という形の方が一般的です。"
      ],
      "metadata": {
        "id": "cTUzrOVlEwQ8"
      }
    },
    {
      "cell_type": "code",
      "source": [
        "array[array > 3]"
      ],
      "metadata": {
        "id": "5Xi8-fUvGX3Y",
        "colab": {
          "base_uri": "https://localhost:8080/"
        },
        "outputId": "8996e113-ab96-48de-9620-5144dcf97b17"
      },
      "execution_count": 173,
      "outputs": [
        {
          "output_type": "execute_result",
          "data": {
            "text/plain": [
              "array([ 4.,  5.,  6.,  7.,  8.,  9., 10.])"
            ]
          },
          "metadata": {},
          "execution_count": 173
        }
      ]
    },
    {
      "cell_type": "markdown",
      "source": [
        "多次元だった場合は、フラットな状態で返ってきます。"
      ],
      "metadata": {
        "id": "vtpUs9ZVJwlM"
      }
    },
    {
      "cell_type": "code",
      "source": [
        "array = np.linspace(1,10,10)\n",
        "ndarray = array.reshape(2,5)\n",
        "\"\"\"\n",
        "array([[ 1.,  2.,  3.,  4.,  5.],\n",
        "       [ 6.,  7.,  8.,  9., 10.]])\n",
        "\"\"\"\n",
        "ndarray[ndarray > 3]"
      ],
      "metadata": {
        "id": "iseKowKCJ6ks",
        "colab": {
          "base_uri": "https://localhost:8080/"
        },
        "outputId": "18745f77-eee6-447a-be3c-39ecb29510e6"
      },
      "execution_count": 174,
      "outputs": [
        {
          "output_type": "execute_result",
          "data": {
            "text/plain": [
              "array([ 4.,  5.,  6.,  7.,  8.,  9., 10.])"
            ]
          },
          "metadata": {},
          "execution_count": 174
        }
      ]
    },
    {
      "cell_type": "markdown",
      "source": [
        "**`(condition).all()`**とすると、ndarrayのすべての要素がconditionを満たすかどうかを判定することができます。"
      ],
      "metadata": {
        "id": "WOfMlNs_K2mC"
      }
    },
    {
      "cell_type": "code",
      "source": [
        "array1 = np.linspace(1,10,10)\n",
        "array2 = np.linspace(4,10,10)\n",
        "\n",
        "print((array1 > 3).all())  # 3以下の数字もあるのでFalse\n",
        "print((array2 > 3).all())  # 3以下の数字はないのでTrue"
      ],
      "metadata": {
        "id": "GKGk5hajLIVp",
        "colab": {
          "base_uri": "https://localhost:8080/"
        },
        "outputId": "9d393b67-5dcf-4b3a-8b07-b6d71a08c53c"
      },
      "execution_count": 175,
      "outputs": [
        {
          "output_type": "stream",
          "name": "stdout",
          "text": [
            "False\n",
            "True\n"
          ]
        }
      ]
    },
    {
      "cell_type": "markdown",
      "source": [
        "**`(condition).any`**とすると、ndarrayの要素のどれか1つがconditionを満たすかどうかを判定することができます。"
      ],
      "metadata": {
        "id": "r-ZooMZ6LjdJ"
      }
    },
    {
      "cell_type": "code",
      "source": [
        "array1 = np.linspace(1,10,10)\n",
        "array2 = np.linspace(4,10,10)\n",
        "\n",
        "print((array1 > 3).any())  # 3以上の数字はあるのでTrue\n",
        "print((array2 > 3).any())  # 3以上の数字しかないのでTrue"
      ],
      "metadata": {
        "id": "f1eJCqf_KL7r",
        "colab": {
          "base_uri": "https://localhost:8080/"
        },
        "outputId": "ffad16a3-cb45-4f75-87c8-f1fc8dee040d"
      },
      "execution_count": 176,
      "outputs": [
        {
          "output_type": "stream",
          "name": "stdout",
          "text": [
            "True\n",
            "True\n"
          ]
        }
      ]
    },
    {
      "cell_type": "markdown",
      "source": [
        "`.all()`と`.any()`は**axis**を引数に持つことが可能であるため、  \n",
        "行列それぞれ毎に評価を行うことができます。"
      ],
      "metadata": {
        "id": "pc9OS9jLMcZR"
      }
    },
    {
      "cell_type": "code",
      "source": [
        "array = np.linspace(1,10,10)\n",
        "ndarray = array.reshape(2,5)\n",
        "\n",
        "print((ndarray > 3).all(axis=1))  # 行毎に評価\n",
        "print((ndarray > 3).any(axis=1))  # 行毎に評価"
      ],
      "metadata": {
        "id": "lllyZqG8MtoH",
        "colab": {
          "base_uri": "https://localhost:8080/"
        },
        "outputId": "809c4d8c-c4c6-4d47-85b7-79129dc2df89"
      },
      "execution_count": 177,
      "outputs": [
        {
          "output_type": "stream",
          "name": "stdout",
          "text": [
            "[False  True]\n",
            "[ True  True]\n"
          ]
        }
      ]
    },
    {
      "cell_type": "markdown",
      "source": [
        "### np.unique()\n",
        "重複の要素を除いた結果を出力します。"
      ],
      "metadata": {
        "id": "0gSTdK3aNLCt"
      }
    },
    {
      "cell_type": "code",
      "source": [
        "array = np.array([0,1,1,2,2,2,3,3,3,3])\n",
        "np.unique(array)"
      ],
      "metadata": {
        "id": "6KFes569NKhO",
        "colab": {
          "base_uri": "https://localhost:8080/"
        },
        "outputId": "16bc296b-536a-468c-e4e2-583b5c599fc7"
      },
      "execution_count": 178,
      "outputs": [
        {
          "output_type": "execute_result",
          "data": {
            "text/plain": [
              "array([0, 1, 2, 3])"
            ]
          },
          "metadata": {},
          "execution_count": 178
        }
      ]
    },
    {
      "cell_type": "markdown",
      "source": [
        "引数として**`return_counts=True`**とすると、各要素のカウントを返します。"
      ],
      "metadata": {
        "id": "rTde9ISGNtmu"
      }
    },
    {
      "cell_type": "code",
      "source": [
        "np.unique(array,return_counts=True)"
      ],
      "metadata": {
        "id": "BcNZYK5CN59F",
        "colab": {
          "base_uri": "https://localhost:8080/"
        },
        "outputId": "17e96b5a-0982-4023-eb49-cf83717c633d"
      },
      "execution_count": 179,
      "outputs": [
        {
          "output_type": "execute_result",
          "data": {
            "text/plain": [
              "(array([0, 1, 2, 3]), array([1, 2, 3, 4]))"
            ]
          },
          "metadata": {},
          "execution_count": 179
        }
      ]
    },
    {
      "cell_type": "markdown",
      "source": [
        "### np.bincount()\n",
        "0,1,2,3…の各カウント数を返します。"
      ],
      "metadata": {
        "id": "R7gCrMAWNrKG"
      }
    },
    {
      "cell_type": "code",
      "source": [
        "array = np.array([1,1,1,2,2,2,3,3,3,3])\n",
        "np.bincount(array)"
      ],
      "metadata": {
        "id": "gR2UWLokOX6l",
        "colab": {
          "base_uri": "https://localhost:8080/"
        },
        "outputId": "6a9c3cd0-e810-4a6f-b2e0-d98930bba03d"
      },
      "execution_count": 180,
      "outputs": [
        {
          "output_type": "execute_result",
          "data": {
            "text/plain": [
              "array([0, 3, 3, 4])"
            ]
          },
          "metadata": {},
          "execution_count": 180
        }
      ]
    },
    {
      "cell_type": "markdown",
      "source": [
        "**ndarray内にはない要素の数についても得ることができます**。"
      ],
      "metadata": {
        "id": "LH8u84QzOuSt"
      }
    },
    {
      "cell_type": "markdown",
      "source": [
        "## 結合と転置\n",
        "2つのndarrayをくっつけたり、重ねたりすることが以下に紹介する関数で可能となります。"
      ],
      "metadata": {
        "id": "yyLuizjTO138"
      }
    },
    {
      "cell_type": "code",
      "source": [
        "ndarray_even = np.arange(0,18,2).reshape(3,3)\n",
        "\"\"\"\n",
        "array([[ 0,  2,  4],\n",
        "       [ 6,  8, 10],\n",
        "       [12, 14, 16]])\n",
        "\"\"\"\n",
        "ndarray_odd = np.arange(1,18,2).reshape(3,3)\n",
        "\"\"\"\n",
        "array([[ 1,  3,  5],\n",
        "       [ 7,  9, 11],\n",
        "       [13, 15, 17]])\n",
        "\"\"\""
      ],
      "metadata": {
        "id": "6KRD5WF2O0n7",
        "colab": {
          "base_uri": "https://localhost:8080/",
          "height": 35
        },
        "outputId": "3b9feae5-19d0-4757-d38a-e02f7cada4b2"
      },
      "execution_count": 181,
      "outputs": [
        {
          "output_type": "execute_result",
          "data": {
            "text/plain": [
              "'\\narray([[ 1,  3,  5],\\n       [ 7,  9, 11],\\n       [13, 15, 17]])\\n'"
            ],
            "application/vnd.google.colaboratory.intrinsic+json": {
              "type": "string"
            }
          },
          "metadata": {},
          "execution_count": 181
        }
      ]
    },
    {
      "cell_type": "markdown",
      "source": [
        "### np.concatenate()\n",
        "arrayを結合することができます。"
      ],
      "metadata": {
        "id": "HR4pSoO-PHW1"
      }
    },
    {
      "cell_type": "code",
      "source": [
        "np.concatenate([ndarray_even,ndarray_odd])"
      ],
      "metadata": {
        "id": "qyrgD1aNP85t",
        "colab": {
          "base_uri": "https://localhost:8080/"
        },
        "outputId": "09dd8a3f-eab5-4d04-f771-7344979de743"
      },
      "execution_count": 182,
      "outputs": [
        {
          "output_type": "execute_result",
          "data": {
            "text/plain": [
              "array([[ 0,  2,  4],\n",
              "       [ 6,  8, 10],\n",
              "       [12, 14, 16],\n",
              "       [ 1,  3,  5],\n",
              "       [ 7,  9, 11],\n",
              "       [13, 15, 17]])"
            ]
          },
          "metadata": {},
          "execution_count": 182
        }
      ]
    },
    {
      "cell_type": "markdown",
      "source": [
        "`concatenate`は**axis**を指定することによって特定の軸で連結することが可能です。  \n",
        "デフォルトでは縦(0)ですが、`axis=1`とすると横に結合します。"
      ],
      "metadata": {
        "id": "l5o_yBawQJ1B"
      }
    },
    {
      "cell_type": "code",
      "source": [
        "np.concatenate([ndarray_even,ndarray_odd] , axis=1)"
      ],
      "metadata": {
        "id": "QFZIqm2UQc85",
        "colab": {
          "base_uri": "https://localhost:8080/"
        },
        "outputId": "8659a1d2-0b06-472f-f287-cf6e2fb77eef"
      },
      "execution_count": 183,
      "outputs": [
        {
          "output_type": "execute_result",
          "data": {
            "text/plain": [
              "array([[ 0,  2,  4,  1,  3,  5],\n",
              "       [ 6,  8, 10,  7,  9, 11],\n",
              "       [12, 14, 16, 13, 15, 17]])"
            ]
          },
          "metadata": {},
          "execution_count": 183
        }
      ]
    },
    {
      "cell_type": "markdown",
      "source": [
        "使用頻度としては、次に紹介する関数の方がより使います。"
      ],
      "metadata": {
        "id": "yabwnYjVQooR"
      }
    },
    {
      "cell_type": "markdown",
      "source": [
        "### np.stack()\n",
        "新たなaxis（次元）を作成し、データを連結します。  \n",
        "配列を連結する`concatenate`とは異なり、配列を重ねるイメージです。"
      ],
      "metadata": {
        "id": "n3TyNlXmQIoE"
      }
    },
    {
      "cell_type": "code",
      "source": [
        "array1 = np.arange(0,6).reshape(2,3)\n",
        "array2 = np.arange(6,12).reshape(2,3)"
      ],
      "metadata": {
        "id": "34J19zEDjpla"
      },
      "execution_count": 184,
      "outputs": []
    },
    {
      "cell_type": "code",
      "source": [
        "np.stack([array1,array2])  # デフォルトはaxis=0、奥行き方向"
      ],
      "metadata": {
        "id": "JYbHPQmTQvpx",
        "colab": {
          "base_uri": "https://localhost:8080/"
        },
        "outputId": "28cf4733-a89d-474c-ac7c-127c0e4ae978"
      },
      "execution_count": 185,
      "outputs": [
        {
          "output_type": "execute_result",
          "data": {
            "text/plain": [
              "array([[[ 0,  1,  2],\n",
              "        [ 3,  4,  5]],\n",
              "\n",
              "       [[ 6,  7,  8],\n",
              "        [ 9, 10, 11]]])"
            ]
          },
          "metadata": {},
          "execution_count": 185
        }
      ]
    },
    {
      "cell_type": "code",
      "source": [
        "np.stack([array1,array2],axis=1)  # 縦方向"
      ],
      "metadata": {
        "id": "vqTgJhItRNQk",
        "colab": {
          "base_uri": "https://localhost:8080/"
        },
        "outputId": "b579f0b5-32b6-4c25-cbdf-6161218960e1"
      },
      "execution_count": 186,
      "outputs": [
        {
          "output_type": "execute_result",
          "data": {
            "text/plain": [
              "array([[[ 0,  1,  2],\n",
              "        [ 6,  7,  8]],\n",
              "\n",
              "       [[ 3,  4,  5],\n",
              "        [ 9, 10, 11]]])"
            ]
          },
          "metadata": {},
          "execution_count": 186
        }
      ]
    },
    {
      "cell_type": "code",
      "source": [
        "np.stack([array1,array2],axis=2)  # 横方向"
      ],
      "metadata": {
        "id": "9OGEd3jyRakQ",
        "colab": {
          "base_uri": "https://localhost:8080/"
        },
        "outputId": "fa8eca50-c4ab-4a1c-8d30-6e5655cdb1b2"
      },
      "execution_count": 187,
      "outputs": [
        {
          "output_type": "execute_result",
          "data": {
            "text/plain": [
              "array([[[ 0,  6],\n",
              "        [ 1,  7],\n",
              "        [ 2,  8]],\n",
              "\n",
              "       [[ 3,  9],\n",
              "        [ 4, 10],\n",
              "        [ 5, 11]]])"
            ]
          },
          "metadata": {},
          "execution_count": 187
        }
      ]
    },
    {
      "cell_type": "markdown",
      "source": [
        "イメージがよく湧かない方は、以下の画像などを参考にしてみて下さい。"
      ],
      "metadata": {
        "id": "0CCJGMCxe2hq"
      }
    },
    {
      "cell_type": "markdown",
      "source": [
        "![リンクテキスト](https://imgur.com/ve8OpwX.png)"
      ],
      "metadata": {
        "id": "fDx6RORMjqac"
      }
    },
    {
      "cell_type": "markdown",
      "source": [
        "**`axis=-1`**と指定する場合（一番最後の次元を追加）が非常に多いです。"
      ],
      "metadata": {
        "id": "y40rRf_ni0xk"
      }
    },
    {
      "cell_type": "code",
      "source": [
        "np.stack([array1,array2],axis=-1)  # 今回の場合はaxis=2と同じ意味"
      ],
      "metadata": {
        "id": "NXkVrc5EjIvd",
        "colab": {
          "base_uri": "https://localhost:8080/"
        },
        "outputId": "3502d47d-67d0-478b-a1c8-5f69d53f9a2a"
      },
      "execution_count": 188,
      "outputs": [
        {
          "output_type": "execute_result",
          "data": {
            "text/plain": [
              "array([[[ 0,  6],\n",
              "        [ 1,  7],\n",
              "        [ 2,  8]],\n",
              "\n",
              "       [[ 3,  9],\n",
              "        [ 4, 10],\n",
              "        [ 5, 11]]])"
            ]
          },
          "metadata": {},
          "execution_count": 188
        }
      ]
    },
    {
      "cell_type": "markdown",
      "source": [
        "### np.transpose or .T\n",
        "行と列を全て入れ替えることができます。"
      ],
      "metadata": {
        "id": "PRVUYopQQhB8"
      }
    },
    {
      "cell_type": "code",
      "source": [
        "np.random.seed(1)\n",
        "ndarray = np.random.randn(3,4)\n",
        "ndarray"
      ],
      "metadata": {
        "id": "QsE5wNdyJ37v",
        "colab": {
          "base_uri": "https://localhost:8080/"
        },
        "outputId": "feda2d96-d769-4b26-fffe-e27bd9f86d15"
      },
      "execution_count": 189,
      "outputs": [
        {
          "output_type": "execute_result",
          "data": {
            "text/plain": [
              "array([[ 1.62434536, -0.61175641, -0.52817175, -1.07296862],\n",
              "       [ 0.86540763, -2.3015387 ,  1.74481176, -0.7612069 ],\n",
              "       [ 0.3190391 , -0.24937038,  1.46210794, -2.06014071]])"
            ]
          },
          "metadata": {},
          "execution_count": 189
        }
      ]
    },
    {
      "cell_type": "code",
      "source": [
        "np.transpose(ndarray)"
      ],
      "metadata": {
        "id": "78ddgLhKK8dV",
        "colab": {
          "base_uri": "https://localhost:8080/"
        },
        "outputId": "63dcb7cc-97d9-4ba6-ad26-8f93c86823e3"
      },
      "execution_count": 190,
      "outputs": [
        {
          "output_type": "execute_result",
          "data": {
            "text/plain": [
              "array([[ 1.62434536,  0.86540763,  0.3190391 ],\n",
              "       [-0.61175641, -2.3015387 , -0.24937038],\n",
              "       [-0.52817175,  1.74481176,  1.46210794],\n",
              "       [-1.07296862, -0.7612069 , -2.06014071]])"
            ]
          },
          "metadata": {},
          "execution_count": 190
        }
      ]
    },
    {
      "cell_type": "code",
      "source": [
        "ndarray.T"
      ],
      "metadata": {
        "id": "rC1Hvm25OpyE",
        "colab": {
          "base_uri": "https://localhost:8080/"
        },
        "outputId": "2f7aa04b-5671-49d0-ce42-6954204af1ce"
      },
      "execution_count": 191,
      "outputs": [
        {
          "output_type": "execute_result",
          "data": {
            "text/plain": [
              "array([[ 1.62434536,  0.86540763,  0.3190391 ],\n",
              "       [-0.61175641, -2.3015387 , -0.24937038],\n",
              "       [-0.52817175,  1.74481176,  1.46210794],\n",
              "       [-1.07296862, -0.7612069 , -2.06014071]])"
            ]
          },
          "metadata": {},
          "execution_count": 191
        }
      ]
    },
    {
      "cell_type": "markdown",
      "source": [
        "## ndarrayの保存とロード\n",
        "作ったndarrayを保存したり読み込んだりすることは、特に画像データを加工する際などによく行われます。\n",
        "結構簡単です。"
      ],
      "metadata": {
        "id": "XPk8mC0tQQm6"
      }
    },
    {
      "cell_type": "code",
      "source": [
        "np.random.seed(1)\n",
        "ndarray = np.random.randn(3,4)\n",
        "ndarray"
      ],
      "metadata": {
        "id": "qIV0GrDEWCyx",
        "colab": {
          "base_uri": "https://localhost:8080/"
        },
        "outputId": "b2b5178f-b5a5-4364-83e0-da754a1fc360"
      },
      "execution_count": 192,
      "outputs": [
        {
          "output_type": "execute_result",
          "data": {
            "text/plain": [
              "array([[ 1.62434536, -0.61175641, -0.52817175, -1.07296862],\n",
              "       [ 0.86540763, -2.3015387 ,  1.74481176, -0.7612069 ],\n",
              "       [ 0.3190391 , -0.24937038,  1.46210794, -2.06014071]])"
            ]
          },
          "metadata": {},
          "execution_count": 192
        }
      ]
    },
    {
      "cell_type": "markdown",
      "source": [
        "### np.save('ファイルパス',ndarray)\n",
        "第一引数にファイル名（パス）、第二引数でndarrayを指定します。"
      ],
      "metadata": {
        "id": "6PqA2XIcWyRo"
      }
    },
    {
      "cell_type": "code",
      "source": [
        "np.save('sample1',ndarray)"
      ],
      "metadata": {
        "id": "ZYkQNXLjXX_O"
      },
      "execution_count": 193,
      "outputs": []
    },
    {
      "cell_type": "markdown",
      "source": [
        "ページの左に表示されるファイル構造に注目してください。  \n",
        "**`npy`**ファイルが作成されました。"
      ],
      "metadata": {
        "id": "0r9j0IYrYCIV"
      }
    },
    {
      "cell_type": "markdown",
      "source": [
        "### np.load('ファイルパス')\n",
        "保存したndarrayを読み込むことができます。  \n",
        "拡張子**`.npy`**を付ける必要があります。"
      ],
      "metadata": {
        "id": "5G_Sp5MQXoHn"
      }
    },
    {
      "cell_type": "code",
      "source": [
        "np.load('sample1.npy')"
      ],
      "metadata": {
        "id": "VNEsRYZyX429",
        "colab": {
          "base_uri": "https://localhost:8080/"
        },
        "outputId": "ca1e54c2-7179-45a9-9803-d28b00bd716d"
      },
      "execution_count": 194,
      "outputs": [
        {
          "output_type": "execute_result",
          "data": {
            "text/plain": [
              "array([[ 1.62434536, -0.61175641, -0.52817175, -1.07296862],\n",
              "       [ 0.86540763, -2.3015387 ,  1.74481176, -0.7612069 ],\n",
              "       [ 0.3190391 , -0.24937038,  1.46210794, -2.06014071]])"
            ]
          },
          "metadata": {},
          "execution_count": 194
        }
      ]
    }
  ]
}