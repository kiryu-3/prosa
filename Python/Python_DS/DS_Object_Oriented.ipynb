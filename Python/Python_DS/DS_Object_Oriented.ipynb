{
  "nbformat": 4,
  "nbformat_minor": 0,
  "metadata": {
    "colab": {
      "private_outputs": true,
      "provenance": [],
      "toc_visible": true,
      "include_colab_link": true
    },
    "kernelspec": {
      "name": "python3",
      "display_name": "Python 3"
    },
    "language_info": {
      "name": "python"
    }
  },
  "cells": [
    {
      "cell_type": "markdown",
      "metadata": {
        "id": "view-in-github",
        "colab_type": "text"
      },
      "source": [
        "<a href=\"https://colab.research.google.com/github/kiryu-3/Prmn2023_DS/blob/main/Python/Python_DS/DS_Object_Oriented.ipynb\" target=\"_parent\"><img src=\"https://colab.research.google.com/assets/colab-badge.svg\" alt=\"Open In Colab\"/></a>"
      ]
    },
    {
      "cell_type": "markdown",
      "source": [
        "# オブジェクト型指向\n",
        "オブジェクト型指向について速習します。"
      ],
      "metadata": {
        "id": "r4mct6PnUjHs"
      }
    },
    {
      "cell_type": "markdown",
      "source": [
        "## ライブラリとパッケージ\n",
        "複数のモジュール（※後述）をひとまとまりにしたものを**パッケージ**、  \n",
        "そのパッケージをさらに複数まとめて集めたものを**ライブラリ**といいます。\n",
        "\n",
        "ライブラリには**標準ライブラリ**と**外部ライブラリ**がありますが、詳細はここでは省略します。  \n",
        "matplotlibやPandasなどは外部ライブラリです。\n"
      ],
      "metadata": {
        "id": "7EF7hQncUrf0"
      }
    },
    {
      "cell_type": "markdown",
      "source": [
        "## モジュール\n",
        "ある機能をひとまとめにした1つの.pyファイルのことを**モジュール**といいます。  \n",
        "クラスや関数などが書かれています。\n",
        "\n",
        "**多くの外部ライブラリはパッケージで提供されている**ので、matplotlibを取り込む際はパッケージ名とモジュール名を指定します。\n",
        "\n",
        "![test_2022-09-17-12-22-24.png](data:image/png;base64,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)"
      ],
      "metadata": {
        "id": "3QBmwzGcb1J3"
      }
    },
    {
      "cell_type": "code",
      "source": [
        "#パッケージmatplotlibのpyplotモジュールをpltとしてimport\n",
        "import matplotlib.pyplot as plt"
      ],
      "metadata": {
        "id": "u2A0Vs_3ePYH"
      },
      "execution_count": null,
      "outputs": []
    },
    {
      "cell_type": "markdown",
      "source": [
        "## 関数\n",
        "`plt.plot()`や`plt.subplot()`という記述では、直接pyplotモジュールの関数を呼び出しています。\n",
        "\n",
        "![pp_06_14.png](data:image/png;base64,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)"
      ],
      "metadata": {
        "id": "DHkJkN6EeNCY"
      }
    },
    {
      "cell_type": "code",
      "execution_count": null,
      "metadata": {
        "id": "LXI-_D65Uf6l"
      },
      "outputs": [],
      "source": [
        "x = [0,1,2,3,4,5]\n",
        "y = x\n",
        "plt.plot(x,y)    #「y=x」のグラフを記述"
      ]
    },
    {
      "cell_type": "markdown",
      "source": [
        "## クラス\n",
        "Pythonのオブジェクトは、型ごとに従えるべき関数が決まっています。  \n",
        "このオブジェクトの設計図のようなものを**クラス**と呼びます。"
      ],
      "metadata": {
        "id": "XyXXkrFliN31"
      }
    },
    {
      "cell_type": "markdown",
      "source": [
        "クラス内で定義された関数を**メソッド**と呼びます。  \n",
        "\n",
        "メソッドを使うには、**インスタンス化**を行う必要があります。  \n",
        "インスタンス化を行うことで、クラスを実体化することができます。   \n",
        "\n",
        "![pp_06_2.png](data:image/png;base64,iVBORw0KGgoAAAANSUhEUgAAAOsAAAA2CAIAAACpyPlzAAAAAXNSR0IArs4c6QAAAARnQU1BAACxjwv8YQUAAAAJcEhZcwAADsMAAA7DAcdvqGQAAAuQSURBVHhe7Z1fbFPXHcdv8lKeMh5aTVo3DLMTL6X8uZ6UMm3UQjEphapMEXLuU2srZp2SikjdMoXFkdpiRrY8sLARUWorVrUO1wqoSCUSqSNmNgmaB98EDWVJ7MJ96MPEy8gL9In9fuccO76+59rXfxNv5yOj2Ode27977/f8zu/3u+eYlmfPnkkCQdOiU/DTp09jsdjS4qKqqsnbt1mrQLAFcL/6amdn5779+xVF2b59O2vNV/Ddu3d/+c4v9jidL3c497zUefCVV2i7QLAV+PtXX61mvv7nyso/Fhb+eOHCkSNHaDtT8Pnz52Of/mXqd+c67D+kGwSCrcm/Hz0aOP3bnxw8+MGHH8LLVvgH3hfkm/jsMyFfwdbnuy+8cDX88fLSUuzKFXjZ8uTJk/379l29fHnH91+kezQfWtTTfVZyyb0T8QEbaxP8b/N4fd3Tp/zt9u3WS5cueX7206rlmxzyej3BZEZjrxtJ5tbsgiQtpNjLzQT6ksPr8UbnJGku2N7maPdEN+OM/B/wnbY2v9f7+/Hx1kVVfdn5I9ZcIdqUNzCdUhdiF2+yFiQT9bY5vENRi7KGD8FLbv4YA1nw0G7OquSJOtJd8Jb2tmCSbEIaYA/pSyp0JztrENSRPS91qqrauri4CM9YWyWA9/WMEP/nj+QN4lr0nRAIS50OBWQQltc7lNQybFtFuOx8WSTD9Nu5dDl2smeNsIf1Jf+gj2eqNhfEL2WvBFWzt7NzaWmpdenePXjG2sokk4RBE7wvPvdHEpNu0kqx+RLpNTUy6nfJ+DKlTvd7ZK+ZHwVsA/G19bThMT/aRTZ3HT3Ek0VyqD+Gf5Ww/o1hP9m8QQPsYX1JOZZ/Higa9vMTMfzSoY1RQVAVEEj85/FjrEVUgpacCnrl/rMwYkqSPD6/Nunm5FB2t28yHl9PJ2aCShfsNnGmh21BrPikuY/pVyi/8XE+fy4YmMa/8vhJvWq0B/fxj9x7SPeuetqjTV2kfcmjV/ZD+Ni2btrPZX9Q388FVVO+gol24ZKMxGj0CfItWQGw9fjOJNL63bToH0r6pOTYCaKKrmAgX2oUiGvpVn/k6MqwLo+kuZ0kOR18w+pgTy6YWX1A/jAWQgFwvfCkSxmdmY9P8vqhoBosKxiEGx3zQAazod1q0KaGiTNzjZ4y80mQ19MIwTX6keHCg3xljGtBTIljX86SPBIDXA8EBlryAtkE7tCoexOqtCcbzHBxKTPza4mQr0eotw5YU3ByDIUbihHHJnXhJUmsRxTyqhLmgjT5g3Gcm/RghxnqZiGKMTHKJMdy8k34bD2huDofpgHuQip2AoZs3MsQWphTpT3ZYIYDWLgePyO0Wz+sKdjt8btQuOORhJpeS+AlqfiaYEqeHYsn+OEHyiWnCRjZC8NTu/vMjCJD7gjyZS02Nwa48+FxF20w//BCamBPz0noP6NqFV1aUDEWowjQBwp3wG3juyiLQChCUnJ4St0nbc4H/Ksn50QjoAx4guFpwa0B8LvG3DFz6yILRnmBB4da2YP9x8R554EFaVLFY68FtaD8TK5CtDkIoyEUIQozkQu6Q7mfxCoYqMQH3KCMBHWrCyEP5mr4lAetjdDwF95bWk91tseMlHpfl+kJqqWuCtYymjaXjA55vW0OzwkaRkMoAmmNQS7o6mAflraH1Y3Y0TYQT0DMAM8wV/NG9aLRMvTzs/kley/dWEgD7ClGJk06mKCmtMC/9fQafVEekN5hAm5STSOzbUjqk8UFOdAEt2w8F2ynkSjqaTAAsQp5oYNEq0RPef5y440AuMmJgGmA3gB76AmBgJiMADrb8jALVwQV0OZor5uCcV6BZ0SSuzqcvQ7Paz530WE9OeS4KEUmThWNszPRsQtSQFdSRRtW/MHBU4fc9hKqqL89egVDnxkaPktvWOboUkY/CpWOmAUWqU7BAsFmAwpuWCYnENQFoWBBcyMULGhuhIIFNYQsC8hbVdAAGqlgSPA3a9XNJpzZxkDWMhWZ5dxQMtHhkZTF6SgohrZsNZ0chXeqImk0rBZBi1nZSlOupSO8HrI4/4bsry9O6ciVsYyQYvDuyFrRubkNtKdmgA4C90sUmEvZCehMrfS4WHXVAGd/zqnG8vlq2WescdU0Ut5XZtKFd8tY2V+xrhsuxS9k0Uui/+qG2FMzmLVc6tJ/zI+LyLfwZg06jtle4+0C3FkyiKGSk9aYahoICE60PD7PudnbE1pbTyfGVwNgSsXLbzLRi9MmizgANrTN6xcL4YPNcMinAfbUDDLd3h/JPyL2mKnPJDnT4yLyBUv04sMp1xJnuh8uZuEtWXCfCsoLoXC5EVG9FQwdC/wfeF/ufTsKWZEWUab7K4uEcD47dxEHQhZ4mkybfLiSylsKukE97akZZE69EubFRVp6VZI6dtXcAXOPCyfc9a/4FbngdOGU644wx6Fqt66lCld/Uey+Qb8Uu1Gm46ijgsnq9gD0WmPwwMF9Zt2ochiGSk2dwdnlZnMp6VwIhXceAVxLxz+VSD3sqRk44MK3qNxQByUi+Q9nN4GD3PiFANNHyQGHf1zJMXn2qJqOT4bialAa6WYixgVgENTyzMMFYK6jr/FPz06nS7r/oDy3UR8Fk7Mmh6TxYDXjWXblTxFwJDVZWAE2dMMoloCIFuJFY6qLazZNTyWX6uwpADqDQUbZR/HaApEvROomYS5ZI5i3Xhq7YmGYoX8Y1nUbMTsu+PCsGXYfFXH7UJDI2sy8tGo+PtgcHdJC+iF7ZY3aKhhDXrwG/Ssk7owP7GIbKoDEr0Vn+oIIMHvgRQi4CW0g3lezn4SowMl+D4U50eQNCCL5P+zApyp7jJDV/wYx0UeRIQvlK0Hsa5polh/DJBPTkuw0BlM5LB8XiBhC8GnJY9a7SmJ3yNLqA+sTVoFaKRjOLOiD1MvwGhSJeq1BVsL5I0WvJfmtNJxpbqwxoz5yNthw2hpzRYlx6ayMpuKYaLqo00iV9tQM92S6WE2QrNgrL4mc+zImFRuLrB8XTdklKYZ5cMGj4rS4JLVSMJ5ZlEilnS8fkhxgbmt6qXAIJpUXXBs3KoU8lu9WYJamBmUJonPLptbFHnxL4WXOPiq8Q4HRJ1YnLGQdOfA3BszHIuvHhXuSEi+Vge7BqfmYUTTG4FPHTK4isB9jAI0/ocKaCiEB7u5c7Qbc7fxoF/R7ayKGmJh8vsXLXDd7KowiTAH5klGimIc2gP4VMl3+W6weFwkdh6VeaylP0TgBqyi86lAxtpCC0dWxOMQ0CMGcjAS4upOOagj74eQWLxQQt0durFgKcupuT60gx1Wimxkh/tWsoGH1uDBlH5YmcOx10JZS2A8d7UrN3uTGI6SKsnuXhWuTx+YrmAgFR0855JwBD2Q2uFP9STBOcfUEYUzYnzrLXbjGvoJ4lJIergH21IrccWHJxVq3BEhlJvsu49GVdVzcmmNxbId6Xeq1WxwJF1ZRrFHnu8rQRzn3DymkKoRPSheM4VIRPZUcXlmqvuE50IC8lT/FaIg9tYIel8VaO8D2J5jfM6/muKBjmN7ixl8GK7goNbur3GLbsePGJ5808Q+4C7YGqGDw3Jy+AYGyZ2UwX+7YUv3MnqfffrvD9eOW42++2ff6kTcOH2bNAkEjICNedmwk/tvKT0jquLe8PDgabDl37twjTXv/179izQJBkxD565WVb75pVRTlxvw8OGTWLBA0CVeuf/62z9e6c+fOkdOn33v/A9YsEDQD5/7059ePvXHgwAH2PyL+/Phx+4vfG3n33W3PPUf3EAi2LOcvX04t/ysWj2/bto3Vgz+/fv35H+zw9CmfXr0GATJtFAi2FKuZr2e++MLT1/ekpZXKF1vBB+dYXl5++6239u3dS/YXCLYWzo6OPq/3zp07TK+Ejf8ZXCBoRrbazB6BoDyEggXNjVCwoLkRChY0N0LBguZGKFjQzEjSfwEB/w42Zl87SQAAAABJRU5ErkJggg==)   \n",
        "\n",
        "![pp_06_4.png](data:image/png;base64,iVBORw0KGgoAAAANSUhEUgAAAP8AAAA2CAIAAACHjdjhAAAAAXNSR0IArs4c6QAAAARnQU1BAACxjwv8YQUAAAAJcEhZcwAADsMAAA7DAcdvqGQAAA8ySURBVHhe7Z1faBtHGsA3fqnpg/tULi93SpAdE0KcSNc6uXIgghW3cV6C6yoLB62FFVJsiI8Dt04scweWr6aGNinYNImM9HTVCVMotKF1ZXKCgnPOYcWlucS2dImeSuhDU8NxzVPv+76ZlXZXs6tdSXZae36osXa1u5qd/f7OzKfu+emnnxSJZFdilv7PP//81q1b/7h5c3V19fEPP/C9EskvluZnnjl27NjvXnrpyJEjZ86caW5u5h/opf/+/fv9b7zR8uyzL3Qc/v2xYx0HDz7X0sI+kkh+ufz45MntO3du5+58s76+8fDBh1evHT9+nH3EpT+RSFx+7733//LnF48eZR9IJDuP9cJ/Bi9dPNP76sVLl2ATpR+s/tnXXsv8PQU+gh0kkexgXo2c+9Pbb7/yyitNsAEBD1h9KfpPk+x4S2tbS+v4At+WbCGz7/z1jxcuPH78uCmVSv167966Ah56csFQaLbIdyDF7Gw0FEzqd+nJDsPDDoWGs3y7ZhaiIDQ6uSlmh0Pwvgj76794BcVCsVjIZheyyeHoeDDUZn2DRrRWzZZ6iYl7KFmgLTPFZBBvytSlop0S9/zq+ed7T526fPly0z9v3Xrh8GG+uyYKD9bg3+WV9lYP24EsXI+MpnLLsRHxoyo+uAv/ruTYViPx7GtXUu8mFW+rLzEjkq1icSGJgks6gy/Q2+Fk1nAklzPtFRof5scHfV1B30Ckb2AykUotryjLsbhmrVExFrLZ2SQcHAqaZFRrVeuB3Oj1xiulxC0vHj1ya2mpaWlp6UVfPZlu8YsbJMR+r5e2Gd2xeBj/Wjzsh4Vl/ONr30ebBkg6a48BPINDqpJ/qPQPhZVCwah7BbhyV7AvhoJbYnkll4hFfK3giIxH+8dyi2Od+M7bfoDt8dEm4AurY/Nz8dziRDf3P6gYfQOR0VgqsZJbphtHjSomQRlaog9fplZ5z411rj8Q23vJNnL44ME7q6tNq6ur8I7vq0YhGQpGkwt6ISne/JgkqbPnhF76FSVwIerDv6lIZQTC3IWilN1FAWKJEItVPF5lbVlJ9UXLp5F4hWYdGs3ARCYW8CqBK+mJbr07irb5QO6hqX51fk4lOVbn8xu5xXjYD+9ziYGgVSTTelLt9CvhoXRmTsVtf8+F2In8TOT8yDi0CvwM6EOnH1RCUw/QHGwDchdcXGrmi33UKk9/Jt1v7CjHcJNh8LGS2oDg59GjR00/PnniNN/Njp+P5ZZTk31dbcEoDxUWrk8yK957wvxMvGh9kcoIpJA3uwvvPpASfqT3RA/KUCpTCiry6/RX4ChKpPooRJk12W8N0Nu+FL7pjGYyoBVg8mk/4PWAnmTmSap1kYwBaCe4i8SXOv0jtYedrQG40/RmPp1JT7evg9UHnYrnSiLuOdFLqjXaJfJmK5M+FlwNUOPYXcCri/WqZGvBMR+ngE3lZlJZTlGokEy+y56aOjQoMEia+V+Z/MBgtrOfMUHUuwsmJexIT/9bKIsQKJMoc/fiwOatpEYHguAlUDkNWpD9IIb6hqLfr7tKWf08WqimfamJQBA/LSukUrh5gwQ9CIrEKCRHRqGdOqtPeFpZ1ASSDYmvWDclTwc30g+gmdzI8bABwmVu+KfOBfBvBWj+IR6Yy1zQf57NJPCPyV1QvA6Oguxr90l8v3zjJjoN5vF1ciYAZE4Xw6ByooPSgjT+jepbmugvfEn6d2C/Tkz3tTPFhpxBQOC0CiGTojxgm4V8Hv7V3XgxCY4R90xbBzYrqb4uLbsITGzmN8ovFlBRJKbbnxbZFAsgU7d2fRIhLqWf8IITyGemSFYYaw+tOh20JX0lAKF8ieLsDEmev+dl06Pl9nUGR0vgPahNz/7S8eGTYgXTQzHMxuZifEpFn4NB2gjGG1zWy/rDQykn10QoPoHAaRnEN0aXAieTAlmHeKathfITzRUIfSDSGY1Tj+Xuov7QgK/92GXFDICWLInBBkCrZsheSJxRi/QD3MtzKF/UMgF7FqJBOlFoI8m+qj2t9B7Vpj/gzcbpePW0M0FFPIHBWDo3Nwb6MzWNIT6js1XLG3goJRxx0h3mAj7wZXPuof2BwTSYjLL/aShaA8xjDxI7apD+4kI05KMwWvGr8/pMoEpciydqqee00EZ2xzYysf7yQA14c0oHO6MRu7BHhDfQD/rDvoXGZMohDc/UTXaaq5kuHgOTz7JPCqsMIYp+T6ysl4f2V96VlrIjnkFKuGvDu7+dv6uksvESB7iUfpyzDPah0yfRxyFFNmDCstvUZ8KYGXyF/kQ1frW6/aNRfyZ8atyQqrqHy00Kc9ZCdpw00JCrFLJczQzxWEnEHY9RGgaFGDX4riqs5c0mJjvMGm8dd0mEOJZ+FN9QS1ckgc8S4pN4rmzGPN0QaURVyG6vmJ6xNrHqK50YzYCxtBEm0JNZnO2iOSnYpiEU9lHtBCIUc+N4oo87E3Q+ODvLmjfA0nfQZxJ0T3/GjdCXUnYlFQmWp42LOLlm57sobWBDnEx8SyOe5T06WF4EZ42Up1xQb1sjLKefr7+jdhl74D8wb2zDEohASiPQfnVqKDIYqG5kCkktQGKAr4Ao3O684myIZQUMX3huGjJmvmXBQhTzUVSSKsJauji7rGL8LtDnsasxuyvwL2KIvs5wgB7BwZD1MpGtijqf1wVLkApXagVQvW8lZsDEOLP9NACPU6SLmc30hBPRB9ikFZwVjsZzi2BKqz4ez8s9NGmqjk3NZTbzOFjEP2kAEHOzSJ1dVvsurXmQb9hbepY8EL7wkOBgSFpYqs236d7xRizV0jcF3cKCq8oXHwM1EpjYxERL/xU4oIx+WIq+e5zZfolkx+HY9kskOxEp/ZLdi5R+ye5FSv82UJwN8QUREo2fRZ9snfTjUhanhX8N5uclbbQqxHIh4E4AlyTp1ixhZRwr47QsLnXTJ6wIli+S55UeDRKrLZJ+uPNIwj+mm9N1K5F0fGnqp/JlVREL0DKeaivYtqs92XGa9NBNbNkfXzMogsYSAi6FNrjtBGfg+DiWcQ4OqYLJb8BFn0ALIwk1Xho17o5tzKs439eQ3tsS6aelbNq8KQeH2+eVCN6ko+4uDc9XvnAhvvVyruLsCE7MJQaMPcte5a/elvbQ5BROb+uPx2pJ24XQNYHrWI3FpVQyYSiRE1LTqr4qdJ9UcXV6IBhmK3b1uOoTXCdinsPGSoyVyfONCCsaLv1oTvpSvikqeDUBiruZz0yto8zV/IMLheRMQrdS3wR3qYJZJMOSbMbWtocec3huw7hICZVTsVjkVwdYMFShgZ7B6bHOSvkr83BtRbgyD5oJfsMUYOCTddpLgQmy1oErphIFd32Ci9tFi0SwasqqCs8VjZV+CNHI6tuVZZARnVMTA7VFb1ilZbnkk0pMLBaQ4pMW2bktaU8hGWoZWAurPtNl0SseqGvRHl65MkLA8h2RBmIQYv0rEvjLGvpl3jr5FpwIHSheE07wMMYm03PdJxjBiletUtFs6rNaDVaJhkk/3huuXTGuS7ECK5sqNATsTbVoeCFqSid0sMVIVgtC6UlbLgBubHsgrr3Rk8unr+DiP2W0iz9s6KK+9boX7Z0YmlKoGrgc0ljZSKT7HJh/wQ8LAFgQY6gxwrV6pSJsOlHnN7ADbYpLub+9qoxgMFmZmLrvk4rm6cFCvLsPTN/hmkZIP+Zbbb6YMhUVLU1xCo/X7cDFyRYRM7ShC7wnLiAVDgvgmn7LrhRSR3u430e8/exhtw1H6fFbrvlxitcTQGcFgXJKC9goOLYsmqE1WqLsEwtizMESROqlImwy/x/f5P2IsmhfXEpQgT+owdCayRW47xP86QND6akerJa2qEF1QT3STyMGoOgDa6T36cH9/IMaoHjdlCgbAUuM2ZIoqsGPsA1k9YvecxDJtPPxBG68MSwWLk2zoq72GIGHPQ/ypwStl7u5h9Zg56IQReBa6PCcnb/F9KbSuKLOVDpDDKlLqoLJKw+vUVWcFoIiEPFjTtV7IygcVKi/T3DRYd2/jFSb9LOy1OCowuo/bKJ8Z9AQmO0jzA6DafdDriP6yR0UhVIbPF54g5EM9j4PEiAk848ZKuvtqbM9BtgwAC79R200vmpOtRne/mmWyrtPWrAgRqi6uDK3FPBgN1InkHtxX6BDOZUgqtnCPnFFbdLPNNtV/YcllAzhOIC5MqYEWNnWyF38HZ40eHwlJjYnIrD3wUCWy1Yc0Mj24JGY0pEqml6CMSiXgAzxi+MQOPg6p90CJ1qnTwZTwrDLK1zToD6xjYuc0rCstybQBmDCsGgtahTQHyqNkcGzYSGvsycNOQBd30EijjSwPXiplhGlt55UyA4SffC9ZFkxtplT0ZRWS9P5ifZBnREck1EsVMUd7vrENrbBaun6ZyqemvTTGBGLnSwDJ8xfKaA3yCIap3i46pNGGwPu1X74tUwj24PDACPKNPpG+n2K2iBZEU7Wkvn8uMdYNwNRCuih+YfDjGDD2D06NAcY4uKYjGNVscR9n2AMtnLjC2FER9P54pkKN2y39JOQYXjni7XjLzdZdSuTXQX8o1AWIfTCCT+fSAH4V5CF5mGrNVvSHgyXHamceyjj6iq8lTdNGBGoh0KvxRRJG59wIsp0v5AvQYDn6Piq1NAnOFddHnTSQ7+e1IAfCmhobRfo94BiMd4Pj00rvnYgkSSLVe0TXlPRB+jYgJSDGl9gW9pD7kJc7EvYZRdmtIilejP0sLPgLuOi7FMEyD3WcPumFh0LK3Y76JXT4130iViisJ8x76ovGANzICsbtxZ80uAxxOMewbUh59K/c3DTJ6S9kCLrDsbTGxGMofQf6eiYmYx1OP4Rc4lkeyEvrflz8htu/JIFPz558hv/b/e88frrxw8d+sOrvXy3RLILuH3nzqV3p5uO+nzfrN3n+ySS3cHX/77n8/maVFX96va/Hn33Hd8tkex0IOz56JNPzr/5ZtPevXtHL1689M4U/0Qi2em8f+36qdOnjx49yv9f7W+eP//f779/5+Locy0t7AiJZEfy/rVrK/fup9Lp5uZmPtv14dWrXadOBc+qc3/7CBICtlMi2TF8fe/e/KefBs+e/d+eJib6uBdsf4lvv/0WnMCxTv7/HZRIdgxHOjrOhkJLS0tc1gke+Ugku5Cnu8ZTInmaSOmX7F6k9Et2L1L6JbsXKf2S3Yqi/B/7AqYVByL0HQAAAABJRU5ErkJggg==)\n",
        "\n",
        "このように、クラスを基に作られたオブジェクトのことを、**インスタンス**といいます。"
      ],
      "metadata": {
        "id": "pMEzjW4ejOGL"
      }
    },
    {
      "cell_type": "code",
      "source": [
        "import numpy as np\n",
        "\n",
        "#np.array()クラスでndarrayというインスタンスを作る\n",
        "ndarray = np.array([0,1,2,3,4])\n",
        "\n",
        "#ndarrayの平均値をmeanメソッドを呼び出すことで求める\n",
        "average = ndarray.mean()\n",
        "average "
      ],
      "metadata": {
        "id": "o74kpqyUkzpV"
      },
      "execution_count": null,
      "outputs": []
    },
    {
      "cell_type": "markdown",
      "source": [
        "クラスについては説明をここで留めます。  \n",
        "この考え方を基に、`plt.figure()`について理解していきましょう。"
      ],
      "metadata": {
        "id": "Wzz1k1ZFjr-i"
      }
    }
  ]
}