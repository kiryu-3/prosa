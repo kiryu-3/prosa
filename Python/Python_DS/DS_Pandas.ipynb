{
  "nbformat": 4,
  "nbformat_minor": 0,
  "metadata": {
    "colab": {
      "private_outputs": true,
      "provenance": [],
      "toc_visible": true,
      "include_colab_link": true
    },
    "kernelspec": {
      "name": "python3",
      "display_name": "Python 3"
    },
    "language_info": {
      "name": "python"
    }
  },
  "cells": [
    {
      "cell_type": "markdown",
      "metadata": {
        "id": "view-in-github",
        "colab_type": "text"
      },
      "source": [
        "<a href=\"https://colab.research.google.com/github/kiryu-3/Prmn2023_DS/blob/main/Python/Python_DS/DS_Pandas.ipynb\" target=\"_parent\"><img src=\"https://colab.research.google.com/assets/colab-badge.svg\" alt=\"Open In Colab\"/></a>"
      ]
    },
    {
      "cell_type": "markdown",
      "source": [
        "# Pandas\n",
        "\n"
      ],
      "metadata": {
        "id": "kX0J06FekXT8"
      }
    },
    {
      "cell_type": "markdown",
      "source": [
        "## Pandasとは\n",
        "**Pandas**とは、データの操作・解析を目的として作られたライブラリです。  \n",
        "Numpyを中で使っており、またNumpyと並んで最重要なものになります。\n",
        "\n",
        "![pandas.jpeg](data:image/jpeg;base64,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)\n",
        "\n",
        "データサイエンスの分野では、多くの場合データを表形式で扱います。  \n",
        "特に表形式でのデータ処理が得意なPandasは、データサイエンスには欠かせないものです。\n",
        "\n",
        "GoogleColabやJupyter Labといった環境下では、最初から入っているため改めて入れる必要はありません。  \n",
        "自分で入れる場合は`conda install pandas`や`pip install pandas`という記述をします。\n"
      ],
      "metadata": {
        "id": "Lb3JYTiNbBY7"
      }
    },
    {
      "cell_type": "markdown",
      "source": [
        "pandasをimportする際、`pd`とするのが一般的です。"
      ],
      "metadata": {
        "id": "_3ORsytN0k4Y"
      }
    },
    {
      "cell_type": "code",
      "execution_count": null,
      "metadata": {
        "id": "3UPafp75LRGL"
      },
      "outputs": [],
      "source": [
        "import pandas as pd"
      ]
    },
    {
      "cell_type": "markdown",
      "source": [
        "Numpyも同時に使うことが多いので、importしてしまいましょう。"
      ],
      "metadata": {
        "id": "H7HD8FAy2x7s"
      }
    },
    {
      "cell_type": "code",
      "source": [
        "import numpy as np"
      ],
      "metadata": {
        "id": "Cx-MUAg928sD"
      },
      "execution_count": null,
      "outputs": []
    },
    {
      "cell_type": "markdown",
      "source": [
        "## Series\n",
        "**Series**とは、表形式のデータの各行やカラムを切り取ったデータを表すデータ形式です。  \n",
        "\n",
        "|Name|Sex|Age|\n",
        "|---|---|---|\n",
        "|Taro|male|21|\n",
        "|Hanako|female|20|\n",
        "|Mike|male|19|\n",
        "\n",
        "上の表を例とすると、表の一番上に並んでいるものを**ヘッダー**、ヘッダーを構成している1つ1つの要素を**カラム**といいます。  \n",
        "また、表の1行1行を**レコード**といいます。\n",
        "\n",
        "この表から各行（レコード）・各列を切り取ったものがSeriesです。  \n",
        "ますはSeriesのオブジェクトを作ってみましょう。**`pd.Series()`**とすると作ることができます。\n"
      ],
      "metadata": {
        "id": "6rG_3m7TkMII"
      }
    },
    {
      "cell_type": "code",
      "source": [
        "# dictionraryからSeriesを作る\n",
        "\n",
        "data = {\n",
        "    \"Name\" : \"Taro\",\n",
        "    \"Sex\" : \"male\",\n",
        "    \"Age\" : \"21\"\n",
        "}\n",
        "\n",
        "pd.Series(data)"
      ],
      "metadata": {
        "id": "sRsjXN5caeUu"
      },
      "execution_count": null,
      "outputs": []
    },
    {
      "cell_type": "markdown",
      "source": [
        "左に見える\"Name\",\"Sex\",\"Age\"は、Seriesのインデックスです。  \n",
        "表を横に切った場合にはカラムになります。"
      ],
      "metadata": {
        "id": "Gg0cGPGIdVZq"
      }
    },
    {
      "cell_type": "code",
      "source": [
        "#ndarrayからSeriesを作る\n",
        "\n",
        "array = np.array([21,20,19])\n",
        "pd.Series(array)"
      ],
      "metadata": {
        "id": "8YkwP04OcLrT"
      },
      "execution_count": null,
      "outputs": []
    },
    {
      "cell_type": "markdown",
      "source": [
        "ndarrayからSeriesを作った場合には、Seriesのインデックスは連番の数値になります。\n",
        "表を縦に切った場合と同じです。"
      ],
      "metadata": {
        "id": "YbBozb25edAA"
      }
    },
    {
      "cell_type": "markdown",
      "source": [
        "引数**index**をつけることで、インデックスにラベルを指定することができます。"
      ],
      "metadata": {
        "id": "NyBia2K9fu3U"
      }
    },
    {
      "cell_type": "code",
      "source": [
        "array = np.array([21,20,19])\n",
        "pd.Series(array,index=[\"Taro\",\"Hanako\",\"Mike\"])"
      ],
      "metadata": {
        "id": "GHS7p1UcgoJ_"
      },
      "execution_count": null,
      "outputs": []
    },
    {
      "cell_type": "markdown",
      "source": [
        "特定のラベルを指定して値を取り出すことができます。"
      ],
      "metadata": {
        "id": "oCNaW6xEhOXp"
      }
    },
    {
      "cell_type": "code",
      "source": [
        "age = pd.Series(array,index=[\"Taro\",\"Hanako\",\"Mike\"])\n",
        "age[\"Taro\"]"
      ],
      "metadata": {
        "id": "pqewSkRzhUDJ"
      },
      "execution_count": null,
      "outputs": []
    },
    {
      "cell_type": "markdown",
      "source": [
        "**`.values`**とすることで、値をnumpyとして扱うことが可能になります。"
      ],
      "metadata": {
        "id": "IsCnuQGmh-ah"
      }
    },
    {
      "cell_type": "code",
      "source": [
        "age.values"
      ],
      "metadata": {
        "id": "TTataACBiEcR"
      },
      "execution_count": null,
      "outputs": []
    },
    {
      "cell_type": "markdown",
      "source": [
        "また、numpyと同じように統計量を計算することもできます。"
      ],
      "metadata": {
        "id": "hfXGGOX2iJu4"
      }
    },
    {
      "cell_type": "code",
      "source": [
        "age.sum()"
      ],
      "metadata": {
        "id": "x4mZmQ0piQQ1"
      },
      "execution_count": null,
      "outputs": []
    },
    {
      "cell_type": "markdown",
      "source": [
        "## DataFrame\n",
        "Seriesが集まったデータ構造が**DataFrame**です。  \n",
        "データサイエンスのほとんどの作業において使われます。最重要です。\n"
      ],
      "metadata": {
        "id": "uvVmc0F7e0Dg"
      }
    },
    {
      "cell_type": "markdown",
      "source": [
        "### pd.DataFrame()\n",
        "**`pd.DataFrame()`**とするとDataframeのオブジェクトを作ることができます。\n",
        "\n",
        "まずはndarrayからDaraFrameを作成してみましょう。  \n",
        "（[こちら](https://bit.ly/3UjaaMJ)ではさらに詳しい解説がありますので、良ければ参考にしてください。）"
      ],
      "metadata": {
        "id": "COnNQftff68c"
      }
    },
    {
      "cell_type": "code",
      "source": [
        "# ndarrayからDataFrameを作る\n",
        "\n",
        "ndarray = np.arange(1,11).reshape(2,5)\n",
        "pd.DataFrame(ndarray)"
      ],
      "metadata": {
        "id": "2iXgjVpUgfnD"
      },
      "execution_count": null,
      "outputs": []
    },
    {
      "cell_type": "markdown",
      "source": [
        "この場合は、カラムが列の番号、インデックスが行の番号になっています。  \n",
        "\n",
        "この状態だと不便であるので、引数**`columns`**と**`index`**を指定することがあります。  \n",
        "`index`は指定しないことが多いですが、`columns`は何らかの文字列を指定することが多いです。"
      ],
      "metadata": {
        "id": "jiLWT3-ilF-V"
      }
    },
    {
      "cell_type": "code",
      "source": [
        "pd.DataFrame(ndarray , index={\"index1\",\"index2\"} , columns={'columns1','columns2','columns3','columns4','columns5'})"
      ],
      "metadata": {
        "id": "gxTSU6INngYI"
      },
      "execution_count": null,
      "outputs": []
    },
    {
      "cell_type": "markdown",
      "source": [
        "dictionaryから作ることもできます。  \n",
        "（[こちら](https://bit.ly/3dw8Rte)ではさらに詳しい解説がありますので、良ければ参考にしてください。）   \n",
        "\n",
        "dictionaryのリストをいれると，それがそのままDataFrameになります。  \n",
        "それぞれのdictionaryが同じキーを持つ必要があります。"
      ],
      "metadata": {
        "id": "FjR-lPwFp817"
      }
    },
    {
      "cell_type": "code",
      "source": [
        "# dictionraryからDataFrameを作る\n",
        "\n",
        "data1 = {\n",
        "    \"Name\" : \"Taro\",\n",
        "    \"Sex\" : \"male\",\n",
        "    \"Age\" : \"21\"\n",
        "}\n",
        "\n",
        "data2 = {\n",
        "    \"Name\" : \"Hanako\",\n",
        "    \"Sex\" : \"female\",\n",
        "    \"Age\" : \"20\"\n",
        "}\n",
        "\n",
        "data3 = {\n",
        "    \"Name\" : \"Mike\",\n",
        "    \"Sex\" : \"male\",\n",
        "    \"Age\" : \"19\"\n",
        "}\n",
        "\n",
        "pd.DataFrame([data1,data2,data3])"
      ],
      "metadata": {
        "id": "IBt-txeUojXm"
      },
      "execution_count": null,
      "outputs": []
    },
    {
      "cell_type": "markdown",
      "source": [
        "同じキーを毎回書くことは、データ数が増えた場合を考えるととても面倒です。  \n",
        "\n",
        "dictionaryの各Valueをリストにしてしまうことが一般的です。\n"
      ],
      "metadata": {
        "id": "uIQNKeGipmjl"
      }
    },
    {
      "cell_type": "code",
      "source": [
        "data = {\n",
        "    \"name\":[\"Taro\",\"Hanako\",\"Mike\"],\n",
        "    \"sex\":[\"male\",\"female\",\"male\"],\n",
        "    \"Age\":[\"21\",\"20\",\"19\"]\n",
        "}\n",
        "\n",
        "pd.DataFrame(data)"
      ],
      "metadata": {
        "id": "JrSHztBvrRDM"
      },
      "execution_count": null,
      "outputs": []
    },
    {
      "cell_type": "markdown",
      "source": [
        "DataFrameを変数に入れる際は、**`df`**という変数に入れることが一般的です。  \n",
        "メモリを節約するために、`df`という変数名を使う場面が多いです。"
      ],
      "metadata": {
        "id": "VULIfOdlsGCR"
      }
    },
    {
      "cell_type": "markdown",
      "source": [
        "### pd.read_csv()\n",
        "最も多いのがCSVファイルからDataFrameを読み込む方法です。  \n",
        "指定のCSVファイルをColabにアップロードして、**`pd.read_csv()`**を用いて読み込んでみましょう。"
      ],
      "metadata": {
        "id": "uHI8OSKB0kin"
      }
    },
    {
      "cell_type": "code",
      "source": [
        "df = pd.read_csv(\"tmdb_5000_movies.csv\")\n",
        "df.head(1)"
      ],
      "metadata": {
        "id": "I80zMNtG5_gT"
      },
      "execution_count": null,
      "outputs": []
    },
    {
      "cell_type": "markdown",
      "source": [
        "（[こちら](https://bit.ly/3RZlICW)ではさらに詳しい解説がありますので、良ければ参考にしてください。）"
      ],
      "metadata": {
        "id": "O5X78nquv9a2"
      }
    },
    {
      "cell_type": "markdown",
      "source": [
        "## DataFrameの基本操作\n",
        "csvファイルから読み込んだ`df`を使って、基本操作について学んでいきましょう。"
      ],
      "metadata": {
        "id": "p5ctARb96uCA"
      }
    },
    {
      "cell_type": "markdown",
      "source": [
        "### len()\n",
        "まずは`df`の行数を確認してみましょう。"
      ],
      "metadata": {
        "id": "X9Zz2QuF7Ji5"
      }
    },
    {
      "cell_type": "code",
      "source": [
        "len(df)"
      ],
      "metadata": {
        "id": "xHj6ievt707W"
      },
      "execution_count": null,
      "outputs": []
    },
    {
      "cell_type": "markdown",
      "source": [
        "### pd.set_option(\"display.max_columns\",None)\n",
        "カラムは数が多い場合は省略されてしまうことがあります。  \n",
        "columnsを省略したくない場合は **`pd.set_option(\"display.max_columns\",None)`**を使いましょう。  \n",
        "\n",
        "※ちなみに行を省略したくない場合は **`pd.set_option(\"display.max_rows\",None)`**を使いますが、  \n",
        "結構時間がかかりあまり使う場面はありません。"
      ],
      "metadata": {
        "id": "4Zj08ciS8CJn"
      }
    },
    {
      "cell_type": "code",
      "source": [
        "pd.set_option(\"display.max_columns\",None)    # 今回は元々省略されていない"
      ],
      "metadata": {
        "id": "ra1oXEeP_0Ah"
      },
      "execution_count": null,
      "outputs": []
    },
    {
      "cell_type": "markdown",
      "source": [
        "### .head()\n",
        "**`.head()`**と記述し、最初の5レコードだけ表示することが多いです。  \n",
        "カッコの中に数字を入れると、その行数表示されます。\n"
      ],
      "metadata": {
        "id": "S2miDJJTAYtp"
      }
    },
    {
      "cell_type": "code",
      "source": [
        "df.head()"
      ],
      "metadata": {
        "id": "mxV0VLaFA11-"
      },
      "execution_count": null,
      "outputs": []
    },
    {
      "cell_type": "markdown",
      "source": [
        "[こちら](https://bit.ly/3f4vHs2)ではさらに詳しい解説がありますので、良ければ参考にしてください。"
      ],
      "metadata": {
        "id": "hXZeQnFXyAaY"
      }
    },
    {
      "cell_type": "markdown",
      "source": [
        "### .describe()\n",
        "**`.describe()`**と記述すると、columnsの統計量がすぐに出力されます（数値項目のみ）。  \n",
        "\n",
        "それぞれのデータの意味を掴みやすくなります。\n"
      ],
      "metadata": {
        "id": "35WITfr3A7ke"
      }
    },
    {
      "cell_type": "code",
      "source": [
        "df.describe()"
      ],
      "metadata": {
        "id": "RlCYWzZ-B4X8"
      },
      "execution_count": null,
      "outputs": []
    },
    {
      "cell_type": "markdown",
      "source": [
        "ちなみにこの`.describe()`の戻り値もDataFrameなので、\n",
        "これ自体をDataFrameとして扱うことが可能です。"
      ],
      "metadata": {
        "id": "pb5sMu7OCcGL"
      }
    },
    {
      "cell_type": "code",
      "source": [
        "type(df.describe())"
      ],
      "metadata": {
        "id": "l0SuS4l-ClRM"
      },
      "execution_count": null,
      "outputs": []
    },
    {
      "cell_type": "markdown",
      "source": [
        "### .columns\n",
        "DataFrameが持つ全てのカラムのリストを取得することができます。  \n",
        "カラムが多いときに活躍します。"
      ],
      "metadata": {
        "id": "tqoJmCCiCo30"
      }
    },
    {
      "cell_type": "code",
      "source": [
        "df.columns"
      ],
      "metadata": {
        "id": "M0JbpVUbC4a8"
      },
      "execution_count": null,
      "outputs": []
    },
    {
      "cell_type": "markdown",
      "source": [
        "### 列の取得\n",
        "**`df[\"カラム名\"]`**とすることで、特定のカラムのSeriesを取得することができます。"
      ],
      "metadata": {
        "id": "DzXkY_nJC7vT"
      }
    },
    {
      "cell_type": "code",
      "source": [
        "df[\"popularity\"]"
      ],
      "metadata": {
        "id": "MQCBKBECDkgD"
      },
      "execution_count": null,
      "outputs": []
    },
    {
      "cell_type": "markdown",
      "source": [
        "カラムのリストをブラケット[ ]に入れることで、複数のカラムを抽出できます。  \n",
        "戻り値はDataFrameになります。"
      ],
      "metadata": {
        "id": "r0jt1o6zDx8x"
      }
    },
    {
      "cell_type": "code",
      "source": [
        "df[[\"popularity\",\"original_title\",\"budget\"]]"
      ],
      "metadata": {
        "id": "f2FI_yipESnq"
      },
      "execution_count": null,
      "outputs": []
    },
    {
      "cell_type": "markdown",
      "source": [
        "### 行の取得\n",
        "**`df.iloc[index]`**とすることで、特定の行のSeriesを取得することができます。"
      ],
      "metadata": {
        "id": "wGfZBAtgE3c4"
      }
    },
    {
      "cell_type": "code",
      "source": [
        "df.iloc[10]"
      ],
      "metadata": {
        "id": "nSmlTY5DFvdu"
      },
      "execution_count": null,
      "outputs": []
    },
    {
      "cell_type": "markdown",
      "source": [
        "Numpyと同様、スライスを使うことで複数行取得することができます。"
      ],
      "metadata": {
        "id": "0fHzf1iWxFS7"
      }
    },
    {
      "cell_type": "code",
      "source": [
        "df.iloc[10:13]"
      ],
      "metadata": {
        "id": "IoapUE-gyVdB"
      },
      "execution_count": null,
      "outputs": []
    },
    {
      "cell_type": "code",
      "source": [
        "df.iloc[10:13][\"original_language\"]"
      ],
      "metadata": {
        "id": "6RZA3fDi010h"
      },
      "execution_count": null,
      "outputs": []
    },
    {
      "cell_type": "markdown",
      "source": [
        "今回のデータはcolumnsが文字列、indexが数値でした（この場合がほとんどです）。\n",
        "\n",
        "次に行と列が逆である場合を考えてみましょう。\n"
      ],
      "metadata": {
        "id": "Q8nmwp8Iqpre"
      }
    },
    {
      "cell_type": "code",
      "source": [
        "ndarray = np.arange(1,26).reshape(5,5)\n",
        "index = ['a','b','c','d','e']\n",
        "columns = [0,1,2,3,4]\n",
        "df = pd.DataFrame(ndarray,index=index,columns=columns)\n",
        "df"
      ],
      "metadata": {
        "id": "6I_cBz9E2KMZ"
      },
      "execution_count": null,
      "outputs": []
    },
    {
      "cell_type": "markdown",
      "source": [
        "indexが文字列である場合に行を取得する際は、**`df.loc[文字列]`**と記述します。"
      ],
      "metadata": {
        "id": "r13Tp1212wh3"
      }
    },
    {
      "cell_type": "code",
      "source": [
        "print(df[1])    # 列を取得\n",
        "print(df.loc[\"c\"])    # 行を取得"
      ],
      "metadata": {
        "id": "t25ck6vX2tXn"
      },
      "execution_count": null,
      "outputs": []
    },
    {
      "cell_type": "markdown",
      "source": [
        "[こちら](https://bit.ly/3DC3ymw)ではさらに詳しい解説がありますので、良ければ参考にしてください。"
      ],
      "metadata": {
        "id": "oIBcDS4pzw_8"
      }
    },
    {
      "cell_type": "markdown",
      "source": [
        "### columnsの更新・追加\n",
        "同じインデックスを持った別の値のSeriesを代入することで、columnsの更新・追加が可能になります。"
      ],
      "metadata": {
        "id": "F_LWHmrH4Olu"
      }
    },
    {
      "cell_type": "code",
      "source": [
        "s = pd.Series([10,60,110,160,210],index=['a','b','c','d','e'])\n",
        "df[0]"
      ],
      "metadata": {
        "id": "3t3Ui4pD5B_c"
      },
      "execution_count": null,
      "outputs": []
    },
    {
      "cell_type": "code",
      "source": [
        "# columnsの更新\n",
        "df[0] = s\n",
        "df"
      ],
      "metadata": {
        "id": "8CZTHb206CKC"
      },
      "execution_count": null,
      "outputs": []
    },
    {
      "cell_type": "code",
      "source": [
        "# columnsの追加\n",
        "df[5] = s\n",
        "df"
      ],
      "metadata": {
        "id": "mB3IybZs6MSa"
      },
      "execution_count": null,
      "outputs": []
    },
    {
      "cell_type": "markdown",
      "source": [
        "### .drop()\n",
        "指定したカラムや行を削除することができます。"
      ],
      "metadata": {
        "id": "-BJ7SmD26W09"
      }
    },
    {
      "cell_type": "code",
      "source": [
        "df = pd.read_csv(\"tmdb_5000_movies.csv\")"
      ],
      "metadata": {
        "id": "Src-iC0W6rui"
      },
      "execution_count": null,
      "outputs": []
    },
    {
      "cell_type": "markdown",
      "source": [
        "引数axisで行を落とすか列を落とすか指定します。\n",
        "\n",
        "`axis=0` : 行（デフォルト）  \n",
        "`axis=1` : 列"
      ],
      "metadata": {
        "id": "0734LrFy7IvS"
      }
    },
    {
      "cell_type": "code",
      "source": [
        "df.drop(0).head(1)    # 0行目を落とす"
      ],
      "metadata": {
        "id": "hNUGXK7s7FZ0"
      },
      "execution_count": null,
      "outputs": []
    },
    {
      "cell_type": "code",
      "source": [
        "df.drop(\"homepage\" , axis=1).head(1)    # homepageカラムを落とす"
      ],
      "metadata": {
        "id": "Io56JzAU7kFw"
      },
      "execution_count": null,
      "outputs": []
    },
    {
      "cell_type": "markdown",
      "source": [
        "DataFrameの関数の多くは、**元のDataFrameが変更されていないことが多い**です。"
      ],
      "metadata": {
        "id": "Co-NnIpR8DOH"
      }
    },
    {
      "cell_type": "code",
      "source": [
        "df.head(1)    # 0行目やhomepageカラムが落ちていない"
      ],
      "metadata": {
        "id": "Zn1evhW78W9H"
      },
      "execution_count": null,
      "outputs": []
    },
    {
      "cell_type": "markdown",
      "source": [
        "元のdfを上書きしたい場合は、「**再度同じオブジェクトに代入**」することが多いです。  \n",
        "以下のような理由があります。\n",
        "\n",
        "・ぱっと見で分かる  \n",
        "・データサイエンスではよく使う  \n",
        "・同じメモリを使いまわすのが定石"
      ],
      "metadata": {
        "id": "2uF95ilx8dR2"
      }
    },
    {
      "cell_type": "code",
      "source": [
        "df = df.drop(0)\n",
        "df.head(1)"
      ],
      "metadata": {
        "id": "2w9XY5-88-CW"
      },
      "execution_count": null,
      "outputs": []
    },
    {
      "cell_type": "markdown",
      "source": [
        "## DataFrameのフィルタ\n",
        "DataFrameに対して、何か条件に合うレコードだけを抽出した  \n",
        "新しいDataFrameを取得する際にフィルタ操作を行います。"
      ],
      "metadata": {
        "id": "_lnXWxWq4CtJ"
      }
    },
    {
      "cell_type": "code",
      "source": [
        "data = {\n",
        "    \"name\":[\"Taro\",\"Hanako\",\"Mike\"],\n",
        "    \"sex\":[\"male\",\"female\",\"male\"],\n",
        "    \"Age\":[21,20,19]\n",
        "}\n",
        "\n",
        "df = pd.DataFrame(data)\n",
        "df"
      ],
      "metadata": {
        "id": "CoHnPa5z5a74"
      },
      "execution_count": null,
      "outputs": []
    },
    {
      "cell_type": "markdown",
      "source": [
        "### 特定の条件でフィルタ\n",
        "まずはdfにbool型のリストを入れてみましょう。\n"
      ],
      "metadata": {
        "id": "wCaOJxsl6KWA"
      }
    },
    {
      "cell_type": "code",
      "source": [
        "df[[False,True,True]]"
      ],
      "metadata": {
        "id": "3SsYmG__6k4l"
      },
      "execution_count": null,
      "outputs": []
    },
    {
      "cell_type": "markdown",
      "source": [
        "Seriesを入れることもできます。"
      ],
      "metadata": {
        "id": "Ki1RJnKp68R0"
      }
    },
    {
      "cell_type": "code",
      "source": [
        "filter_series = pd.Series([False,True,True])\n",
        "df[filter_series] "
      ],
      "metadata": {
        "id": "qJ9DbuHs7A1-"
      },
      "execution_count": null,
      "outputs": []
    },
    {
      "cell_type": "markdown",
      "source": [
        "インデックスは新しく振られるのではなく、  \n",
        "元のdfのインデックスがそのまま引き継がれます。"
      ],
      "metadata": {
        "id": "SA2yHqwv7kY-"
      }
    },
    {
      "cell_type": "markdown",
      "source": [
        "実際にはTrueやFalseのSeriesを比較演算子を使って自分で作ります。  \n",
        "**`df[filterの条件]`**とすると、ある条件に該当したレコードだけが返ってきます。"
      ],
      "metadata": {
        "id": "T92cVpPr8Cv0"
      }
    },
    {
      "cell_type": "code",
      "source": [
        "df[df[\"Age\"] >= 20]"
      ],
      "metadata": {
        "id": "NF1X6f5l9Qcj"
      },
      "execution_count": null,
      "outputs": []
    },
    {
      "cell_type": "markdown",
      "source": [
        "これまで使ってきた映画のレビューのDataFrameを使ってフィルタしていきましょう。"
      ],
      "metadata": {
        "id": "MQt-VBe1-QR2"
      }
    },
    {
      "cell_type": "code",
      "source": [
        "df = pd.read_csv(\"tmdb_5000_movies.csv\")"
      ],
      "metadata": {
        "id": "WKN5PBYU-nJG"
      },
      "execution_count": null,
      "outputs": []
    },
    {
      "cell_type": "markdown",
      "source": [
        "日本の映画だけフィルタして取り出してみましょう。  \n",
        "カラム`original_language`の値が`ja`であるという条件となります。"
      ],
      "metadata": {
        "id": "zCh62MJo_MSw"
      }
    },
    {
      "cell_type": "code",
      "source": [
        "df[df[\"original_language\"] == \"ja\"].head(1)"
      ],
      "metadata": {
        "id": "iKlU_jt7_e0d"
      },
      "execution_count": null,
      "outputs": []
    },
    {
      "cell_type": "markdown",
      "source": [
        "全体の映画と日本の映画の統計量の違いについてみることができるようになります。"
      ],
      "metadata": {
        "id": "Vm4JIl-6DcEo"
      }
    },
    {
      "cell_type": "code",
      "source": [
        "df[df[\"original_language\"] == \"ja\"].describe()"
      ],
      "metadata": {
        "id": "USlCeTyCD15A"
      },
      "execution_count": null,
      "outputs": []
    },
    {
      "cell_type": "code",
      "source": [
        "df.describe()"
      ],
      "metadata": {
        "id": "wT0ODceUFJhk"
      },
      "execution_count": null,
      "outputs": []
    },
    {
      "cell_type": "markdown",
      "source": [
        "全体の映画の平均予算が日本の映画の平均予算の約2倍であること、  \n",
        "全体の映画の平均放映時間が日本の映画の平均放映時間より20分ほど短いこと、などが分かります。"
      ],
      "metadata": {
        "id": "_-UevDeBFV9r"
      }
    },
    {
      "cell_type": "markdown",
      "source": [
        "複数条件でフィルタをすることも可能です。  \n",
        "各条件を**()**で囲んで、**「&」**(andと同意)や**「|」**(orと同意)でつなぎます。"
      ],
      "metadata": {
        "id": "CMa25OAYFyys"
      }
    },
    {
      "cell_type": "code",
      "source": [
        "df[(df[\"original_language\"] == \"ja\") & (df[\"popularity\"] > 40)]"
      ],
      "metadata": {
        "id": "Vho4tYUBGYOq"
      },
      "execution_count": null,
      "outputs": []
    },
    {
      "cell_type": "markdown",
      "source": [
        "日本の映画の人気トップ3が何か明らかになりました。"
      ],
      "metadata": {
        "id": "5AT5joGmHsn5"
      }
    },
    {
      "cell_type": "markdown",
      "source": [
        "**「~」**を使うと、NOT演算をすることができます。\n",
        "\n",
        "今回は、予算もしくは売り上げがゼロのレコードについて取得してみます。  \n",
        "（これらは信頼性が低いレコードであると言えます）"
      ],
      "metadata": {
        "id": "kkFinNQGIO29"
      }
    },
    {
      "cell_type": "code",
      "source": [
        "df[(df[\"budget\"] == 0) | (df[\"revenue\"] == 0)].head(1)"
      ],
      "metadata": {
        "id": "pio0dGFnH2j3"
      },
      "execution_count": null,
      "outputs": []
    },
    {
      "cell_type": "markdown",
      "source": [
        "このDataFrameの条件の前に**「~」**をつけると、信頼性のあるレコードのみ取得することができます。  \n"
      ],
      "metadata": {
        "id": "yahMh2JNLHEX"
      }
    },
    {
      "cell_type": "code",
      "source": [
        "# 予算も売り上げもゼロではない\n",
        "\n",
        "df[~(df[\"budget\"] == 0) | (df[\"revenue\"] == 0)].head(1)"
      ],
      "metadata": {
        "id": "QB4NyiThLhi1"
      },
      "execution_count": null,
      "outputs": []
    },
    {
      "cell_type": "markdown",
      "source": [
        "これは特に「**値がbool型のcolumnsでフィルタするとき**」によく使います。  \n",
        "以下のDataFrameで考えてみましょう。"
      ],
      "metadata": {
        "id": "QiXeAskDI9RE"
      }
    },
    {
      "cell_type": "code",
      "source": [
        "data = {\n",
        "    \"name\":[\"Taro\",\"Hanako\",\"Mike\"],\n",
        "    \"sex\":[\"male\",\"female\",\"male\"],\n",
        "    \"Age\":[\"21\",\"20\",\"19\"],\n",
        "    \"Survived\":[False,True,True]\n",
        "}\n",
        "\n",
        "df = pd.DataFrame(data)\n",
        "df"
      ],
      "metadata": {
        "id": "jeeBA8koJTVc"
      },
      "execution_count": null,
      "outputs": []
    },
    {
      "cell_type": "markdown",
      "source": [
        "まずは生存者だけフィルタしてみましょう。"
      ],
      "metadata": {
        "id": "EwBZt70FK3xO"
      }
    },
    {
      "cell_type": "code",
      "source": [
        "df[df[\"Survived\"] == True]"
      ],
      "metadata": {
        "id": "j9eByduJLjXA"
      },
      "execution_count": null,
      "outputs": []
    },
    {
      "cell_type": "markdown",
      "source": [
        "Survivedカラム自体がすでにbool型なので、**==は不要です**。"
      ],
      "metadata": {
        "id": "L0yJv0V_MVoE"
      }
    },
    {
      "cell_type": "code",
      "source": [
        "df[df[\"Survived\"]]"
      ],
      "metadata": {
        "id": "mTnn-hK6MwlM"
      },
      "execution_count": null,
      "outputs": []
    },
    {
      "cell_type": "markdown",
      "source": [
        "逆にFalseに絞りたい場合は、`df[df[\"Survived\"==False]`とすることもなく、  \n",
        "以下のようにすることができます。"
      ],
      "metadata": {
        "id": "mK_txExqNljr"
      }
    },
    {
      "cell_type": "code",
      "source": [
        "df[~df[\"Survived\"]]"
      ],
      "metadata": {
        "id": "joFyRrYPNyZK"
      },
      "execution_count": null,
      "outputs": []
    },
    {
      "cell_type": "markdown",
      "source": [
        "### index操作\n",
        "日本の映画だけフィルターしたDataFrameを基に説明します。"
      ],
      "metadata": {
        "id": "lWoK9BtnN8lC"
      }
    },
    {
      "cell_type": "code",
      "source": [
        "df = pd.read_csv(\"tmdb_5000_movies.csv\")\n",
        "df = df[df[\"original_language\"] == \"ja\"]"
      ],
      "metadata": {
        "id": "9jxwyzjrOhTR"
      },
      "execution_count": null,
      "outputs": []
    },
    {
      "cell_type": "markdown",
      "source": [
        "**`.reset_index()`**とすることで、再度インデックスを割り振ることができます。"
      ],
      "metadata": {
        "id": "A_RV1wF6PMuo"
      }
    },
    {
      "cell_type": "code",
      "source": [
        "df.reset_index().head(1)"
      ],
      "metadata": {
        "id": "Hp8_QBESPdge"
      },
      "execution_count": null,
      "outputs": []
    },
    {
      "cell_type": "markdown",
      "source": [
        "元のインデックスは新しいcolumnsで追加されていきます。  \n",
        "元のインデックスは使わないケースが多いです。**drop引数**をTrueにすると元のインデックスは消えます。"
      ],
      "metadata": {
        "id": "3BD0ah4LP9CY"
      }
    },
    {
      "cell_type": "code",
      "source": [
        "df.reset_index(drop=True)"
      ],
      "metadata": {
        "id": "KVXrAGo8QcmF"
      },
      "execution_count": null,
      "outputs": []
    },
    {
      "cell_type": "markdown",
      "source": [
        "**`.set_index()`**とすると、指定したcolumnsの値をインデックスにすることができます。"
      ],
      "metadata": {
        "id": "yjtxpYpDQmgk"
      }
    },
    {
      "cell_type": "code",
      "source": [
        "df = df.reset_index(drop=True)\n",
        "df"
      ],
      "metadata": {
        "id": "Pf1W9HdCRsrj"
      },
      "execution_count": null,
      "outputs": []
    },
    {
      "cell_type": "markdown",
      "source": [
        "`id`カラムをインデックスとしてみましょう。"
      ],
      "metadata": {
        "id": "DjGpAYXuR1Jj"
      }
    },
    {
      "cell_type": "code",
      "source": [
        "df = df.set_index(\"id\")\n",
        "df"
      ],
      "metadata": {
        "id": "bRo8XMHGR7Dj"
      },
      "execution_count": null,
      "outputs": []
    },
    {
      "cell_type": "markdown",
      "source": [
        "カラムをインデックスにした場合は、**`.loc[]`**を使ってレコードを取得します。"
      ],
      "metadata": {
        "id": "WKtbPn6FSdu6"
      }
    },
    {
      "cell_type": "code",
      "source": [
        "df.loc[129]"
      ],
      "metadata": {
        "id": "eZmDBvjfSolc"
      },
      "execution_count": null,
      "outputs": []
    },
    {
      "cell_type": "markdown",
      "source": [
        "インデックスはあまり意味を持たせず、数値の連番のままであることが多いです。"
      ],
      "metadata": {
        "id": "ID7T8Gf9TAZB"
      }
    },
    {
      "cell_type": "markdown",
      "source": [
        "インデックスの操作は[こちら](https://bit.ly/3UoOZbV)にも詳しい解説があります。"
      ],
      "metadata": {
        "id": "6rcPXy1-39QN"
      }
    },
    {
      "cell_type": "markdown",
      "source": [
        "## DataFrameのNaNの扱い\n",
        "DataFrameのNaN（欠損値）についてみていきましょう。  \n",
        "実データには必ずといっていいほどNaNが存在しますので、適切な処理が必要です。\n",
        "\n",
        "[こちら](https://bit.ly/3f3wGsC)にはNaNの処理全般について紹介があるので、良ければ参考にしてください。"
      ],
      "metadata": {
        "id": "Y2t42Eh5d2S6"
      }
    },
    {
      "cell_type": "markdown",
      "source": [
        "また、**「floatのエラーが出た時は欠損値が入っている可能性が高い」**ということを念頭に置いてください。  \n",
        "**とても重要です**。\n",
        "\n",
        "![floatnan.png](data:image/png;base64,iVBORw0KGgoAAAANSUhEUgAAAU0AAAAhCAIAAADS024GAAAAAXNSR0IArs4c6QAAAARnQU1BAACxjwv8YQUAAAAJcEhZcwAADsMAAA7DAcdvqGQAAAOWSURBVHhe7ZOBbuNACET7K/e999E94iEcZgFvbKettvMUWTNjwPZGfHwSQlaHe07I+nDPCVkf7jkh68M9J2R9uOeErA/3nJD14Z4Tsj6/fc//bKj5cr736eT3kOz5348P/9P0Gu+YeQvpplWhqteperfnnBnbdJ0bCF7qvfKgeW5/yvtee3Ly9bITn1Cu3L3b+KN2OxBOrTrEE4dr3PufCbcPBC/1XnnQPLc/5X2vPTn5etmJT1hzz+UgJs9iLKsaJwem3D7zyss0vGnsFW5/pW//xskXaMpOfMLsnntrGkKuY3EIQ4GBPC0ew5AIsGMuB3HiLAQ0Ao2epAlQv6GRC9Wfeh+g/fuZuPoQpAlQv6HRfiZQf8RYiXZBfQEKxkokgvrpgUBL9+2qnIZ41O3HIhHUb2g0hLimuQG7Vf3PYQX1TzTdV+LqQ5AmQP3Abj086UYB037BRiGESvyQgDER0jJVgw6V16kOK+Temk5DIfS+RPUgryFAY9OWSh8SiufnyF0rGIVQ6Ya0pQq9DkLoQ0G0t0YIfZm/5TVI74rwGgI0NtwyyiUZ9wdJWDNVTh+GnjQfw3SmUI29QnVSrx7uYcEk6ZxmeGPTdk+VpzQP6vGVptNQmByblqVzDkMjDYXJ3NtKj9jdpqWx4ZZR7km1bIcrJ8L/LIQIpPkY+qTSd1Gd1OThijY0qmfOkM5pho/WYyFEoMpTxuLHAzbUF/gC02koHE4zpBKoL+Y0BUD9/q5nMq9Gpe0SGpZACF4Lo/Vouqfck5kNFGvJKDxpKEwW+6TSnuaDD6kaQ+6t6TQUQu9LvPQgobcgDYUqT2mK+zn+ruk0FPpRKf3Mw+FppWcyF2uJv+U1SO82Lb1NyfdEmNlAWLn6PNU+9KT5GKYzhWqsfPnMx6dUjSH31nQaCqH3JaoHeQ0BGpu2VPqQUDw/J62s2vtRRj9TRKWDEPpQ8NoTcli5prnHJ6YfbU5DgMaGW0a+J0K/bKBaM8nxU++SMVflqMLQK6SVF6lOaswlAeo3NNpCXIGFJ0CvoP45OYQgTYD6DY2KYjUtVa+gvsAXBA3UP0nDEZQJ6jcssdysJQCJoH5DoyFUtWeyTHhMrB8UrhCeNAHqB2b3pNo9VeQH0P/T5Iv5Uf8FF5WQ9eGeE7I+3HNC1od7Tsj6cM8JWR/uOSHrwz0nZH2454SsD/eckPXhnhOyPtxzQtaHe07I+nDPCVmdz89/6IGB1HudEGUAAAAASUVORK5CYII=)"
      ],
      "metadata": {
        "id": "-al-g_uIX_Gd"
      }
    },
    {
      "cell_type": "code",
      "source": [
        "df = pd.read_csv(\"tmdb_5000_movies.csv\")\n",
        "df.iloc[-1][\"homepage\"]    # DataFrameの最終行"
      ],
      "metadata": {
        "id": "o6peKPKSsAdr"
      },
      "execution_count": null,
      "outputs": []
    },
    {
      "cell_type": "markdown",
      "source": [
        "### .dropna()\n",
        "NaNがある行を全てdropします。"
      ],
      "metadata": {
        "id": "wxhk-3DQre1E"
      }
    },
    {
      "cell_type": "code",
      "source": [
        "df.dropna().head(1)"
      ],
      "metadata": {
        "id": "8AEu7F2Vsxsy"
      },
      "execution_count": null,
      "outputs": []
    },
    {
      "cell_type": "markdown",
      "source": [
        "半分以上のレコードがdropされたことが確認できました。"
      ],
      "metadata": {
        "id": "g1FuuxmRs3wZ"
      }
    },
    {
      "cell_type": "markdown",
      "source": [
        "今回はカラム`homepage`がNaNである場合が多いです。 \n",
        "\n",
        "次は何かカラムを指定してdropしてみましょう。  \n",
        "※**`np.isnan()`を使えるのは数値項目のみ**"
      ],
      "metadata": {
        "id": "xsuhgf7YtJYz"
      }
    },
    {
      "cell_type": "code",
      "source": [
        "df[np.isnan(df[\"runtime\"])]"
      ],
      "metadata": {
        "id": "ak-81J9ytvTZ"
      },
      "execution_count": null,
      "outputs": []
    },
    {
      "cell_type": "markdown",
      "source": [
        "**引数subset**を指定すると、特定のカラムにNaNがあるレコードだけdropすることができます。"
      ],
      "metadata": {
        "id": "IHiESJNgu8Q-"
      }
    },
    {
      "cell_type": "code",
      "source": [
        "len(df.dropna(subset=[\"runtime\"]))    #2件drop"
      ],
      "metadata": {
        "id": "PLFpSPBtvkzx"
      },
      "execution_count": null,
      "outputs": []
    },
    {
      "cell_type": "markdown",
      "source": [
        "[こちら](https://bit.ly/3f4lTi3)では`.dropna`についてさらに詳しい紹介がされていますので、興味のある方は是非。"
      ],
      "metadata": {
        "id": "SPcXiN3faPtO"
      }
    },
    {
      "cell_type": "markdown",
      "source": [
        "### .fillna()\n",
        "NaNに特定のValueを代入します。\n",
        "\n"
      ],
      "metadata": {
        "id": "889GSkAaweV8"
      }
    },
    {
      "cell_type": "code",
      "source": [
        "df.fillna(\"ERROR!\").head(1)"
      ],
      "metadata": {
        "id": "3pbfKHmIx4EJ"
      },
      "execution_count": null,
      "outputs": []
    },
    {
      "cell_type": "markdown",
      "source": [
        "全ての欠損値に文字列`ERROR!`が入ったことが確認できました（最終行など）。"
      ],
      "metadata": {
        "id": "BvOedOx0xVCa"
      }
    },
    {
      "cell_type": "markdown",
      "source": [
        "しかし実際は、NaNに一律の値を入れることはほとんどなく、何か代表値を入れることが多いです。\n",
        "\n",
        "今回はカラム`runtime`が欠損値であったレコードに対し、何か欠損値を入れてみましょう。  \n",
        "ここでは**平均値**を代入します。"
      ],
      "metadata": {
        "id": "vdqJ3jsW23Vq"
      }
    },
    {
      "cell_type": "code",
      "source": [
        "df[\"runtime\"].mean()"
      ],
      "metadata": {
        "id": "8JWLDiGp4GS_"
      },
      "execution_count": null,
      "outputs": []
    },
    {
      "cell_type": "code",
      "source": [
        "df[\"runtime\"].fillna(df[\"runtime\"].mean())    # runtimeカラムのNaNにだけ代入"
      ],
      "metadata": {
        "id": "Fy_PIxFw3EIy"
      },
      "execution_count": null,
      "outputs": []
    },
    {
      "cell_type": "code",
      "source": [
        "print(df.iloc[2656][\"runtime\"])\n",
        "df[\"runtime\"] = df[\"runtime\"].fillna(df[\"runtime\"].mean())     # 元のruntimeカラムの値が上書きされる\n",
        "print(df.iloc[2656][\"runtime\"])"
      ],
      "metadata": {
        "id": "IuEmFF0d3iuH"
      },
      "execution_count": null,
      "outputs": []
    },
    {
      "cell_type": "markdown",
      "source": [
        "### pd.isna()\n",
        "DataFrameの中の値のNaN判定には**`pd.isna()`**を使うことが一般的です。"
      ],
      "metadata": {
        "id": "nK00Ifas4YOf"
      }
    },
    {
      "cell_type": "code",
      "source": [
        "df[\"homepage\"].isna()"
      ],
      "metadata": {
        "id": "eL5DYc9l4mMg"
      },
      "execution_count": null,
      "outputs": []
    },
    {
      "cell_type": "code",
      "source": [
        "df[df[\"homepage\"].isna()].head(1)   # df[np.isnan(df[\"homepage\"])]　と同じ"
      ],
      "metadata": {
        "id": "J-RwC3V34ri2"
      },
      "execution_count": null,
      "outputs": []
    },
    {
      "cell_type": "markdown",
      "source": [
        "NaN判定の結果を別カラムで持ちたい時などに使われます。"
      ],
      "metadata": {
        "id": "Dvz_Lrkw5Fgd"
      }
    },
    {
      "cell_type": "code",
      "source": [
        "df[\"homepage_nan\"] = df[\"homepage\"].isna()    # カラムの追加\n",
        "df.head(1)"
      ],
      "metadata": {
        "id": "cLtwaXI95f_f"
      },
      "execution_count": null,
      "outputs": []
    },
    {
      "cell_type": "markdown",
      "source": [
        "これをNaNのフィルタに使うこともできます。"
      ],
      "metadata": {
        "id": "Kx2lb4Vi5e9N"
      }
    },
    {
      "cell_type": "code",
      "source": [
        "df[df[\"homepage_nan\"]]"
      ],
      "metadata": {
        "id": "jATjf1o455IF"
      },
      "execution_count": null,
      "outputs": []
    },
    {
      "cell_type": "markdown",
      "source": [
        "## groupby\n",
        "groupbyは、何かのカラムに対して、グループ別に統計量を見たいときによく使います。"
      ],
      "metadata": {
        "id": "wlN8a-JubYiz"
      }
    },
    {
      "cell_type": "code",
      "source": [
        "df = pd.read_csv(\"tmdb_5000_movies.csv\")"
      ],
      "metadata": {
        "id": "7pjcyZMebX4Z"
      },
      "execution_count": null,
      "outputs": []
    },
    {
      "cell_type": "markdown",
      "source": [
        "カラム`language`に対してgroupbyしてみましょう。  \n",
        "groupbyした後の処理をgroupbyの後の関数で指定します。"
      ],
      "metadata": {
        "id": "d9CiZ76JcPoZ"
      }
    },
    {
      "cell_type": "code",
      "source": [
        "# カラムごとにグループ分けして、そのグループの各カラムの平均値を取得\n",
        "df.groupby(\"original_language\").mean()"
      ],
      "metadata": {
        "id": "j0NODE8ScpOQ"
      },
      "execution_count": null,
      "outputs": []
    },
    {
      "cell_type": "code",
      "source": [
        "# 日本語の映画のカラムのみ取得\n",
        "df.groupby(\"original_language\").mean().loc[\"ja\"]"
      ],
      "metadata": {
        "id": "8O80oo48eh2t"
      },
      "execution_count": null,
      "outputs": []
    },
    {
      "cell_type": "markdown",
      "source": [
        "欠損値が存在する場合など、どこかの値に0が入っていた場合は、  \n",
        "それに引っ張られて平均値が下がってしまいます。\n",
        "\n",
        "そのため、フィルタをかけて0のものを除いて平均を取得します。"
      ],
      "metadata": {
        "id": "PQKshIUQesXL"
      }
    },
    {
      "cell_type": "code",
      "source": [
        "df[df[\"budget\"] != 0].groupby(\"original_language\").mean()    #budgetが0の映画を除いて計算"
      ],
      "metadata": {
        "id": "h4S1MmsAgX3B"
      },
      "execution_count": null,
      "outputs": []
    },
    {
      "cell_type": "markdown",
      "source": [
        "**`.count()`**を使うと、数をカウントしてくれます。"
      ],
      "metadata": {
        "id": "xoRtAq5FiCD2"
      }
    },
    {
      "cell_type": "code",
      "source": [
        "# budgetが0の映画の数を言語ごとにカウント\n",
        "df[df[\"budget\"] == 0].groupby(\"original_language\").count() [\"budget\"]"
      ],
      "metadata": {
        "id": "dFEzXXm1iXmp"
      },
      "execution_count": null,
      "outputs": []
    },
    {
      "cell_type": "markdown",
      "source": [
        "**`.groupby[].describe()`**とすると、グループ別の各カラムの統計量を一気に取得できます。"
      ],
      "metadata": {
        "id": "t663XsMci1aH"
      }
    },
    {
      "cell_type": "code",
      "source": [
        "# popularカラムに関して、groupby後の統計量を取得\n",
        "df.groupby(\"original_language\").describe()[\"popularity\"]"
      ],
      "metadata": {
        "id": "b1HMvRCZjFwl"
      },
      "execution_count": null,
      "outputs": []
    },
    {
      "cell_type": "markdown",
      "source": [
        "**max**と**min**を使用する際は、カラムを指定する必要があります。"
      ],
      "metadata": {
        "id": "WJaMCkWCkQMG"
      }
    },
    {
      "cell_type": "code",
      "source": [
        "# popularカラムに関して、groupby後の人気度の最大値を取得\n",
        "df.groupby(\"original_language\")[\"popularity\"].max()"
      ],
      "metadata": {
        "id": "Lf-XNwd2k-e0"
      },
      "execution_count": null,
      "outputs": []
    },
    {
      "cell_type": "markdown",
      "source": [
        "`max`のところを**`idxmax()`**とすると、各カラムの最大値のレコードのインデックスを取得できます。"
      ],
      "metadata": {
        "id": "gNmuShv_lVQq"
      }
    },
    {
      "cell_type": "code",
      "source": [
        "df.groupby(\"original_language\")[\"popularity\"].idxmax()"
      ],
      "metadata": {
        "id": "lQEyr7YPl2J5"
      },
      "execution_count": null,
      "outputs": []
    },
    {
      "cell_type": "markdown",
      "source": [
        "このインデックスのSeriesを使って、レコードを表示してみましょう。  \n",
        "非常に便利です。"
      ],
      "metadata": {
        "id": "op1qxqEamEjo"
      }
    },
    {
      "cell_type": "code",
      "source": [
        "# 言語ごとに、映画の人気が最大なもののレコードを取得（日本映画は千と千尋の神隠し）\n",
        "df.iloc[df.groupby(\"original_language\")[\"popularity\"].idxmax()].head(1)"
      ],
      "metadata": {
        "id": "4quHokC2mWXY"
      },
      "execution_count": null,
      "outputs": []
    },
    {
      "cell_type": "markdown",
      "source": [
        "groupbyについては[こちら](https://www.yutaka-note.com/entry/pandas_groupby)にも詳しい解説があります。"
      ],
      "metadata": {
        "id": "3G-nGDnLj8E5"
      }
    },
    {
      "cell_type": "markdown",
      "source": [
        "## 表結合\n",
        "複数の表形式のDataFrameを結合させます。\n",
        "\n",
        "ここでは、以下の2つのDataFrameについて扱います。  \n",
        "どちらも同じ値を持つ`key`というカラムを持っています。\n"
      ],
      "metadata": {
        "id": "DRIWuq58nQ--"
      }
    },
    {
      "cell_type": "code",
      "source": [
        "data1 = {\n",
        "    \"key\":[\"b2220050\",\"b2220150\",\"b2220250\"],\n",
        "    \"name\":[\"Taro\",\"Hanako\",\"Mike\"],\n",
        "    \"sex\":[\"male\",\"female\",\"male\"]\n",
        "}\n",
        "\n",
        "df1 = pd.DataFrame(data1)\n",
        "df1"
      ],
      "metadata": {
        "id": "ZIanFM2wo0jE"
      },
      "execution_count": null,
      "outputs": []
    },
    {
      "cell_type": "code",
      "source": [
        "data2 = {\n",
        "    \"key\":[\"b2220050\",\"b2220150\",\"b2220250\"],\n",
        "    \"Age\":[\"21\",\"20\",\"19\"],\n",
        "    \"Department\":[\"Ouka\",\"Densi\",\"Jouhou\"]\n",
        "}\n",
        "\n",
        "df2 = pd.DataFrame(data2)\n",
        "df2"
      ],
      "metadata": {
        "id": "4TeBLIyap4yS"
      },
      "execution_count": null,
      "outputs": []
    },
    {
      "cell_type": "markdown",
      "source": [
        "### pd.concat()\n",
        "**`pd.concat([df1,df2,…],axis=0)`**は、DataFrameを縦に結合します。"
      ],
      "metadata": {
        "id": "xUY-gS3hq4ib"
      }
    },
    {
      "cell_type": "code",
      "source": [
        "pd.concat([df1,df2])"
      ],
      "metadata": {
        "id": "NMvtPqbrsNIx"
      },
      "execution_count": null,
      "outputs": []
    },
    {
      "cell_type": "markdown",
      "source": [
        "**`axis=1`**とすると、横に結合します。  \n",
        "縦に繋げることの方が圧倒的に多いようです。"
      ],
      "metadata": {
        "id": "kNxwquKmsjGX"
      }
    },
    {
      "cell_type": "code",
      "source": [
        "pd.concat([df1,df2],axis=1)"
      ],
      "metadata": {
        "id": "N1hw_Tiotfal"
      },
      "execution_count": null,
      "outputs": []
    },
    {
      "cell_type": "markdown",
      "source": [
        "### .merge()\n",
        "何かのcolumnsを**キー**にして結合する場合に使用します。"
      ],
      "metadata": {
        "id": "rnYsFU_Stknu"
      }
    },
    {
      "cell_type": "code",
      "source": [
        "df1.merge(df2)"
      ],
      "metadata": {
        "id": "ugM4ZPbAuNIT"
      },
      "execution_count": null,
      "outputs": []
    },
    {
      "cell_type": "markdown",
      "source": [
        "`.merge()`が持つ引数について理解しましょう。"
      ],
      "metadata": {
        "id": "tcdxfKiwuWYM"
      }
    },
    {
      "cell_type": "markdown",
      "source": [
        "#### how\n",
        "どのようにして2つのDataFrameをmergeするかを指定します。\n",
        "\n",
        "結果を分かりやすくするために、df2を少し変更します。\n"
      ],
      "metadata": {
        "id": "NwLKZIwiuvoj"
      }
    },
    {
      "cell_type": "code",
      "source": [
        "data2 = {\n",
        "    \"key\":[\"b2220050\",\"b2220150\",\"b2220350\"],    # 最後のレコードのみキーがdf1と異なる\n",
        "    \"Age\":[\"21\",\"20\",\"19\"],\n",
        "    \"Department\":[\"Ouka\",\"Densi\",\"Jouhou\"]\n",
        "}\n",
        "\n",
        "df2 = pd.DataFrame(data2)\n",
        "df2"
      ],
      "metadata": {
        "id": "AbNm7VnRyhMz"
      },
      "execution_count": null,
      "outputs": []
    },
    {
      "cell_type": "markdown",
      "source": [
        "デフォルトは**`inner`**です。2つのDataFrameでレコードが見つかった分だけを残してmergeします。\n",
        "\n",
        "ここで**引数on**を指定します。結合するときにどのカラムをキーにするかを指定します。  \n",
        "どのカラムで結合するかを明らかにするために、基本は指定します。"
      ],
      "metadata": {
        "id": "QDF1Gjfeygj0"
      }
    },
    {
      "cell_type": "code",
      "source": [
        "df1.merge(df2,how=\"inner\" , on=\"key\")"
      ],
      "metadata": {
        "id": "Uyxdn2dKv52S"
      },
      "execution_count": null,
      "outputs": []
    },
    {
      "cell_type": "markdown",
      "source": [
        "**`outer`**は、2つのレコードの値は失われず、紐づけできなかったレコードにはNaNが入ります。"
      ],
      "metadata": {
        "id": "4QtAeal70GwI"
      }
    },
    {
      "cell_type": "code",
      "source": [
        "df1.merge(df2,how=\"outer\" , on=\"key\")"
      ],
      "metadata": {
        "id": "cocMEFNJ1dN2"
      },
      "execution_count": null,
      "outputs": []
    },
    {
      "cell_type": "markdown",
      "source": [
        "**`left`**と**`right`**は、どちらかのDataFrameをベースにして、紐づいたレコードだけmergeします。"
      ],
      "metadata": {
        "id": "fAg6jjliwAmg"
      }
    },
    {
      "cell_type": "code",
      "source": [
        "df1.merge(df2,how=\"left\" , on=\"key\")"
      ],
      "metadata": {
        "id": "-B_d3cy91qYY"
      },
      "execution_count": null,
      "outputs": []
    },
    {
      "cell_type": "markdown",
      "source": [
        "実際はベースのDataFrameに追加のDataFrameをmergeする場面がほとんどです。\n",
        "\n",
        "2つのDataFrameの紐づけが完璧な場合は`inner`、  \n",
        "追加のDataFrameがレコード不足である場合は`left`、と使い分けることが多いです。"
      ],
      "metadata": {
        "id": "bWaVoIWh1we2"
      }
    },
    {
      "cell_type": "markdown",
      "source": [
        "#### on\n",
        "先ほども少し登場した**引数`on`**ついて触れる前に、DataFrameについて変更を加えます。  \n",
        "カラム`key`の下にカラム`class`を加えましょう。"
      ],
      "metadata": {
        "id": "oHolLEYi2nk-"
      }
    },
    {
      "cell_type": "code",
      "source": [
        "data1 = {\n",
        "    \"key\":[\"b2220050\",\"b2220150\",\"b2220250\"],\n",
        "    \"class\":[\"1A\",\"2A\",\"3A\"],\n",
        "    \"name\":[\"Taro\",\"Hanako\",\"Mike\"],\n",
        "    \"sex\":[\"male\",\"female\",\"male\"]\n",
        "}\n",
        "\n",
        "df1 = pd.DataFrame(data1)\n",
        "df1"
      ],
      "metadata": {
        "id": "PrUrM6843YFz"
      },
      "execution_count": null,
      "outputs": []
    },
    {
      "cell_type": "code",
      "source": [
        "data2 = {\n",
        "    \"key\":[\"b2220050\",\"b2220150\",\"b2220350\"],\n",
        "    \"class\":[\"1A\",\"2A\",\"3A\"],\n",
        "    \"Age\":[\"21\",\"20\",\"19\"],\n",
        "    \"Department\":[\"Ouka\",\"Densi\",\"Jouhou\"]\n",
        "}\n",
        "\n",
        "df2 = pd.DataFrame(data2)\n",
        "df2"
      ],
      "metadata": {
        "id": "a6jXqDRD2TMt"
      },
      "execution_count": null,
      "outputs": []
    },
    {
      "cell_type": "markdown",
      "source": [
        "`class`カラムで結合すれば、全てのレコードを問題なく紐づけられます。"
      ],
      "metadata": {
        "id": "CHg-62mB41j7"
      }
    },
    {
      "cell_type": "code",
      "source": [
        "df1.merge(df2,how=\"inner\" , on=\"class\")"
      ],
      "metadata": {
        "id": "aE_G736T6rB4"
      },
      "execution_count": null,
      "outputs": []
    },
    {
      "cell_type": "markdown",
      "source": [
        "ここでDataFrameの名前が被ってしまったので、_xや_yという**suffix**がつきます。  \n",
        "\n",
        "これを変更したい場合は、**引数`suffixes`**にタプルで入れてあげます。"
      ],
      "metadata": {
        "id": "1jGzKSfh7Fx-"
      }
    },
    {
      "cell_type": "code",
      "source": [
        "df1.merge(df2,how=\"inner\" , on=\"class\",suffixes=(\"_old\",\"_new\"))"
      ],
      "metadata": {
        "id": "Is5sC--g8B31"
      },
      "execution_count": null,
      "outputs": []
    },
    {
      "cell_type": "markdown",
      "source": [
        "####  left_on, right_on\n",
        "キーにしたいカラム名が2つのDataFrame間で異なるときに使用します。\n",
        "\n",
        "DataFrameをまた少し変更します。\n",
        "\n"
      ],
      "metadata": {
        "id": "q9BiWHAE8uZN"
      }
    },
    {
      "cell_type": "code",
      "source": [
        "data1 = {\n",
        "    \"key1\":[\"b2220050\",\"b2220150\",\"b2220250\"],\n",
        "    \"name\":[\"Taro\",\"Hanako\",\"Mike\"],\n",
        "    \"sex\":[\"male\",\"female\",\"male\"]\n",
        "}\n",
        "\n",
        "df1 = pd.DataFrame(data1)\n",
        "df1"
      ],
      "metadata": {
        "id": "G_uV2qqm8vOL"
      },
      "execution_count": null,
      "outputs": []
    },
    {
      "cell_type": "code",
      "source": [
        "data2 = {\n",
        "    \"key2\":[\"b2220050\",\"b2220150\",\"b2220350\"],    # 最後のレコードのみキーがdf1と異なる\n",
        "    \"Age\":[\"21\",\"20\",\"19\"],\n",
        "    \"Department\":[\"Ouka\",\"Densi\",\"Jouhou\"]\n",
        "}\n",
        "\n",
        "df2 = pd.DataFrame(data2)\n",
        "df2"
      ],
      "metadata": {
        "id": "yodQQBW68zPU"
      },
      "execution_count": null,
      "outputs": []
    },
    {
      "cell_type": "markdown",
      "source": [
        "ここで`key1`,`key2`をキーにしたいですが、それぞれカラム名が異なります。  \n",
        "この場合は**引数`on`**が指定できないので、**`left_on`**及び**`right_on`**を指定します。"
      ],
      "metadata": {
        "id": "elm8a_QD_X_v"
      }
    },
    {
      "cell_type": "code",
      "source": [
        "df1.merge(df2, left_on=\"key1\", right_on=\"key2\")"
      ],
      "metadata": {
        "id": "6ZYVEt6h_z4u"
      },
      "execution_count": null,
      "outputs": []
    },
    {
      "cell_type": "markdown",
      "source": [
        "カラムはできるだけ同じ名前にして管理するのが無難です。"
      ],
      "metadata": {
        "id": "ZrH-sEJ0Adf9"
      }
    },
    {
      "cell_type": "markdown",
      "source": [
        "## DataFrameとSeriesの便利な関数\n",
        "重要な関数について、何となく頭の片隅に置いて入るくらいに理解していきましょう。"
      ],
      "metadata": {
        "id": "y4XPBBouEn-e"
      }
    },
    {
      "cell_type": "code",
      "source": [
        "df = pd.read_csv(\"tmdb_5000_movies.csv\")"
      ],
      "metadata": {
        "id": "ngv2L0PzF1CX"
      },
      "execution_count": null,
      "outputs": []
    },
    {
      "cell_type": "markdown",
      "source": [
        "### .unique()と.nunique()\n",
        "Seriesの関数です。  \n",
        "**`.unique()`**でユニークな値のみを、**`.nunique()`**でユニークな値の数を取得します。  \n",
        "※ユニークな値：重複がない値\n"
      ],
      "metadata": {
        "id": "IaIA8ct5F23H"
      }
    },
    {
      "cell_type": "code",
      "source": [
        "df[\"original_language\"].unique()"
      ],
      "metadata": {
        "id": "5h51LP7eG1P6"
      },
      "execution_count": null,
      "outputs": []
    },
    {
      "cell_type": "code",
      "source": [
        "df[\"original_language\"].nunique()"
      ],
      "metadata": {
        "id": "XI-xGpykHsS5"
      },
      "execution_count": null,
      "outputs": []
    },
    {
      "cell_type": "markdown",
      "source": [
        "指定したカラムがどんな値をもっているか把握することができます。"
      ],
      "metadata": {
        "id": "Ku5eBvANHdAa"
      }
    },
    {
      "cell_type": "markdown",
      "source": [
        "実際にカラム`id`がユニークになっているかを確認することができます。 "
      ],
      "metadata": {
        "id": "09XqqF89ImEh"
      }
    },
    {
      "cell_type": "code",
      "source": [
        "df[\"id\"].nunique()"
      ],
      "metadata": {
        "id": "eEvgEJhcI63H"
      },
      "execution_count": null,
      "outputs": []
    },
    {
      "cell_type": "code",
      "source": [
        "len(df)"
      ],
      "metadata": {
        "id": "Kd7MSkVwJAzH"
      },
      "execution_count": null,
      "outputs": []
    },
    {
      "cell_type": "markdown",
      "source": [
        "それぞれのレコードに必ず違うIDが降られていることが確認できました。"
      ],
      "metadata": {
        "id": "XO5YOaW7JFyn"
      }
    },
    {
      "cell_type": "markdown",
      "source": [
        "### value.counts()\n",
        "Seriesの関数です。  \n",
        "それぞれの値にいくつのレコードがあるかを取得します。"
      ],
      "metadata": {
        "id": "HJiNA2sCJmVZ"
      }
    },
    {
      "cell_type": "code",
      "source": [
        "df[\"original_language\"].value_counts()"
      ],
      "metadata": {
        "id": "afQAlOgOJkq2"
      },
      "execution_count": null,
      "outputs": []
    },
    {
      "cell_type": "markdown",
      "source": [
        "英語の映画が圧倒的に多いことが分かります。"
      ],
      "metadata": {
        "id": "okchI93PLDQc"
      }
    },
    {
      "cell_type": "markdown",
      "source": [
        "### .sort_values()\n",
        "指定したカラムでソートします。デフォルトは昇順です。"
      ],
      "metadata": {
        "id": "KCTq3OgjLtS7"
      }
    },
    {
      "cell_type": "code",
      "source": [
        "df.sort_values(\"budget\").head(1)    # 予算順に並び替え"
      ],
      "metadata": {
        "id": "D7fARS4wMXx0"
      },
      "execution_count": null,
      "outputs": []
    },
    {
      "cell_type": "markdown",
      "source": [
        "『パイレーツ・オブ・カリビアン』が予算が高いことが分かります。"
      ],
      "metadata": {
        "id": "ndesiTDrNjsz"
      }
    },
    {
      "cell_type": "markdown",
      "source": [
        "引数で**`ascending=False`**と指定すると、降順に並び替えすることができます。"
      ],
      "metadata": {
        "id": "E5M-MGafNsnh"
      }
    },
    {
      "cell_type": "code",
      "source": [
        "df.sort_values(\"budget\",ascending=False).head(1)"
      ],
      "metadata": {
        "id": "_mlEKvkLN27P"
      },
      "execution_count": null,
      "outputs": []
    },
    {
      "cell_type": "markdown",
      "source": [
        "ソートについては[こちら](https://www.yutaka-note.com/entry/pandas_sort)にも詳しい解説がありますので、興味のある方は是非。"
      ],
      "metadata": {
        "id": "lvZ3bFzrk2nq"
      }
    },
    {
      "cell_type": "markdown",
      "source": [
        "### .apply()\n",
        "**`.apply()`**を使うと、DataFrameの全てのレコードに処理をして、その結果を別のカラムに格納することができます。\n",
        "\n",
        "基本的にDataFrameの操作は`.apply()`で処理していくイメージです。"
      ],
      "metadata": {
        "id": "NxNwU_qUPBil"
      }
    },
    {
      "cell_type": "code",
      "source": [
        "df = pd.read_csv(\"tmdb_5000_movies.csv\")"
      ],
      "metadata": {
        "id": "6bSMZYEJ3Z5B"
      },
      "execution_count": null,
      "outputs": []
    },
    {
      "cell_type": "markdown",
      "source": [
        "このDataFrameにはカラム`revenue`（興行収入）とカラム`budget`（予算）が存在します。  \n",
        "この差額がこの映画の利益であるといえます。\n",
        "\n",
        "利益のSeriesを作り、1つのカラムとしたいと思います。\n"
      ],
      "metadata": {
        "id": "LI5yOWQ50RDn"
      }
    },
    {
      "cell_type": "code",
      "source": [
        "# カラムbudgetの値が0のものはNaNに置き換える(def関数)\n",
        "\n",
        "def return_nan(budget):\n",
        "\n",
        "  if budget == 0:\n",
        "    return np.nan    # 引数が0であった場合はNaNを返す\n",
        "\n",
        "  else:\n",
        "    return budget   # 引数が0ではない場合はそのまま\n",
        "\n",
        "print(return_nan(10))\n",
        "print(return_nan(0))"
      ],
      "metadata": {
        "id": "U35M8B_UP-fJ"
      },
      "execution_count": null,
      "outputs": []
    },
    {
      "cell_type": "markdown",
      "source": [
        "この関数を`.apply()`を使って全ての行に適用させていきます。"
      ],
      "metadata": {
        "id": "wG6krAkC2j1L"
      }
    },
    {
      "cell_type": "code",
      "source": [
        "df[\"budget\"].apply(return_nan)"
      ],
      "metadata": {
        "id": "iqRFwBRs28ez"
      },
      "execution_count": null,
      "outputs": []
    },
    {
      "cell_type": "markdown",
      "source": [
        "applyしたSeriesを元のSeriesに代入すれば値を更新することができます。"
      ],
      "metadata": {
        "id": "GHdARAD73hOJ"
      }
    },
    {
      "cell_type": "code",
      "source": [
        "df[\"budget\"] = df[\"budget\"].apply(return_nan)"
      ],
      "metadata": {
        "id": "gR7I3Glj3o1E"
      },
      "execution_count": null,
      "outputs": []
    },
    {
      "cell_type": "markdown",
      "source": [
        "lambda関数くらいでしか使いませんが、if文は**三項演算子**という書き方を使うと1行で記述できます。\n",
        "\n",
        "![test_2022-09-13-22-09-57.png](data:image/png;base64,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)\n",
        "\n",
        "![test_2022-09-13-22-10-13.png](data:image/png;base64,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)\n",
        "\n",
        "さきほどの関数のif文の箇所を1行で記述しましょう。"
      ],
      "metadata": {
        "id": "7i60SNkZ-bb9"
      }
    },
    {
      "cell_type": "code",
      "source": [
        "# カラムbudgetの値が0のものはNaNに置き換える(if文1行バージョン)\n",
        "\n",
        "def return_nan(budget):\n",
        "  return np.nan if budget == 0 else budget\n",
        "\n",
        "print(return_nan(10))\n",
        "print(return_nan(0))"
      ],
      "metadata": {
        "id": "XRl1502l-2AV"
      },
      "execution_count": null,
      "outputs": []
    },
    {
      "cell_type": "markdown",
      "source": [
        "`.apply()`の中に入れる関数は、**lambda関数**を使うことが多いです。  \n",
        "\n",
        "\n",
        "![pp_05_2022-08-30-17-12-43.png](data:image/png;base64,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)\n",
        "\n",
        "**def、関数名、return、改行、カッコ**の5つを取ればlambda関数の完成です。"
      ],
      "metadata": {
        "id": "1usCN8gm38Sy"
      }
    },
    {
      "cell_type": "code",
      "source": [
        "# カラムbudgetの値が0のものはNaNに置き換える(lambda関数バージョン)\n",
        "\n",
        "lambda budget : np.nan if budget == 0 else budget\n",
        "\n",
        "print(return_nan(10))\n",
        "print(return_nan(0))"
      ],
      "metadata": {
        "id": "SpwZrJCcBCJh"
      },
      "execution_count": null,
      "outputs": []
    },
    {
      "cell_type": "code",
      "source": [
        "df[\"budget\"] = df[\"budget\"].apply(lambda budget : np.nan if budget == 0 else budget)"
      ],
      "metadata": {
        "id": "MMtUffscApvi"
      },
      "execution_count": null,
      "outputs": []
    },
    {
      "cell_type": "markdown",
      "source": [
        "簡単な関数であれば、applyの際にlambda関数を直接書くことが一般的です。\n",
        "\n",
        "同じapplyをカラム`revenue`にも適用させましょう。"
      ],
      "metadata": {
        "id": "R9TNqhgi4Wm_"
      }
    },
    {
      "cell_type": "code",
      "source": [
        "df[\"revenue\"] = df[\"revenue\"].apply(lambda revenue : np.nan if revenue == 0 else revenue)"
      ],
      "metadata": {
        "id": "rbdw4EEgB6Ng"
      },
      "execution_count": null,
      "outputs": []
    },
    {
      "cell_type": "markdown",
      "source": [
        "いよいよ利益のSeriesを作っていきます。  \n",
        "まずはカラム`budget`と`revenue`にNaNが入っているものをドロップしましょう。"
      ],
      "metadata": {
        "id": "FXCploxDCqqR"
      }
    },
    {
      "cell_type": "code",
      "source": [
        "# カラムbudgetとrevenueにNaNが入っているレコードのみドロップ\n",
        "\n",
        "df = df.dropna(subset=[\"budget\",\"revenue\"])\n",
        "len(df)"
      ],
      "metadata": {
        "id": "a2ExciE8C59I"
      },
      "execution_count": null,
      "outputs": []
    },
    {
      "cell_type": "markdown",
      "source": [
        "1000件近くレコードがドロップされたことが確認できました。\n",
        "\n",
        "それでは`profit`というSeriesを作ってみましょう。"
      ],
      "metadata": {
        "id": "y6qoQeMTD4BK"
      }
    },
    {
      "cell_type": "code",
      "source": [
        "df[\"profit\"] = df[\"revenue\"] - df[\"budget\"]\n",
        "df[\"profit\"].head(1) "
      ],
      "metadata": {
        "id": "_gKrU3N_E0vD"
      },
      "execution_count": null,
      "outputs": []
    },
    {
      "cell_type": "markdown",
      "source": [
        "`profit`というカラムが生成されました。\n",
        "\n",
        "このカラムの値（映画の利益）が最大になるのはどの映画になるでしょうか。"
      ],
      "metadata": {
        "id": "2khoqnDSFn-i"
      }
    },
    {
      "cell_type": "code",
      "source": [
        "df[df[\"profit\"] == df[\"profit\"].max()]"
      ],
      "metadata": {
        "id": "gxPwpWUwGI4p"
      },
      "execution_count": null,
      "outputs": []
    },
    {
      "cell_type": "markdown",
      "source": [
        "『アバター』という映画になります。"
      ],
      "metadata": {
        "id": "EnmLLz1gGZWA"
      }
    },
    {
      "cell_type": "markdown",
      "source": [
        "### .iterrows()\n",
        "DataFrameの行(row)をfor文で回します。戻り値は**(idx,row)**です。"
      ],
      "metadata": {
        "id": "LBCYk3_vGfIo"
      }
    },
    {
      "cell_type": "code",
      "source": [
        "df = pd.read_csv(\"tmdb_5000_movies.csv\")"
      ],
      "metadata": {
        "id": "-WzIE5DuI6HE"
      },
      "execution_count": null,
      "outputs": []
    },
    {
      "cell_type": "markdown",
      "source": [
        "レコードの`vote_average`（平均評価）の値が10点満点であったときは、タイトル名を表示するプログラムを書きます。  \n",
        "中々慣れないですが、結構使う場面は多いようです。"
      ],
      "metadata": {
        "id": "WXGUFgXCJGz_"
      }
    },
    {
      "cell_type": "code",
      "source": [
        "for idx,row in df.iterrows():    # rowには各行のSeriesが入る\n",
        "  if row[\"vote_average\"] == 10:    \n",
        "    print(row[\"title\"])"
      ],
      "metadata": {
        "id": "TZp8WQphIr0c"
      },
      "execution_count": null,
      "outputs": []
    },
    {
      "cell_type": "markdown",
      "source": [
        "各レコードの処理をした結果を別のカラムに保存するときは**`.apply()`**を、  \n",
        "各行自体に何か処理だけをしたいときなどは**.iterrows()**を使うことが多いようです。"
      ],
      "metadata": {
        "id": "1nhC1Kx4KvxB"
      }
    },
    {
      "cell_type": "markdown",
      "source": [
        "今回は変数`idx`は使用していません。  \n",
        "このように変数をfor文内で利用しない場合は**`_`**とします。"
      ],
      "metadata": {
        "id": "MYW3lDOtLcS5"
      }
    },
    {
      "cell_type": "code",
      "source": [
        "for _,row in df.iterrows():    # rowには各行のSeriesが入る\n",
        "  if row[\"vote_average\"] == 10:    \n",
        "    print(row[\"title\"])"
      ],
      "metadata": {
        "id": "oEN5-zAkLpsS"
      },
      "execution_count": null,
      "outputs": []
    },
    {
      "cell_type": "markdown",
      "source": [
        "## DataFrameをCSVで保存する\n",
        "DataFrameでデータ処理のデータは、**CSV形式**で取り扱うことが多いです（ソフトに依存しないため）。  \n",
        "\n",
        "例えば先ほどカラム`profit`を追加しましたが、このような変更を加えたDataFrameは違うデータとして扱いたいものです。  \n",
        "このデータを誰かに渡したり、自分でロードしたりする処理をする際に、セーブする作業が必須になってきます。  \n",
        "そのためCSV形式での保存はよく行われます。"
      ],
      "metadata": {
        "id": "zubxQn-rMbA3"
      }
    },
    {
      "cell_type": "code",
      "source": [
        "df = pd.read_csv(\"tmdb_5000_movies.csv\")"
      ],
      "metadata": {
        "id": "8uwpg2guPy-S"
      },
      "execution_count": null,
      "outputs": []
    },
    {
      "cell_type": "markdown",
      "source": [
        "先ほどカラム`profit`を追加したDataFrameを作成しました。  \n",
        "これを別のデータとして保存しましょう。"
      ],
      "metadata": {
        "id": "M2BXAEcrP2hx"
      }
    },
    {
      "cell_type": "code",
      "source": [
        "#1. budgetやrevenueがゼロであるレコードをドロップする\n",
        "# わざわざ0をNaNに変換してドロップしなくても、通常のフィルタ操作で可能\n",
        "df = df[~((df[\"budget\"] == 0) | (df[\"revenue\"] == 0))]\n",
        "\n",
        "#2. カラムprofitを作る\n",
        "df[\"profit\"] = df[\"revenue\"] - df[\"budget\"]\n",
        "\n",
        "#3. profitでsortする\n",
        "df = df.sort_values(\"profit\" , ascending=False)"
      ],
      "metadata": {
        "id": "00oHJqjBN1tV"
      },
      "execution_count": null,
      "outputs": []
    },
    {
      "cell_type": "markdown",
      "source": [
        "では**`.to_csv()`**を使ってこのDataFrameを保存します。  \n",
        "ファイル名を引数に渡します。"
      ],
      "metadata": {
        "id": "y2Bud7GoOkgb"
      }
    },
    {
      "cell_type": "code",
      "source": [
        "df.to_csv(\"tmdb_5000_movies_profit_sorted.csv\")"
      ],
      "metadata": {
        "id": "gIOuU-2VR8xG"
      },
      "execution_count": null,
      "outputs": []
    },
    {
      "cell_type": "markdown",
      "source": [
        "ではこのファイルを読み込んでみましょう。"
      ],
      "metadata": {
        "id": "IlgonNMsSXXv"
      }
    },
    {
      "cell_type": "code",
      "source": [
        "df = pd.read_csv(\"tmdb_5000_movies_profit_sorted.csv\")\n",
        "df.head(1)"
      ],
      "metadata": {
        "id": "tHKvhsdtSaUU"
      },
      "execution_count": null,
      "outputs": []
    },
    {
      "cell_type": "markdown",
      "source": [
        "一番左に、`unnamed`という余計なカラムが追加されています。  \n",
        "これは、保存したときのDataFrameのインデックスです。\n",
        "\n",
        "ほとんどのケースでこのカラムは使う場面はありません。  \n",
        "そのため、`.to_csv()`の際に**`index=False`**と引数を設定することが多いです。"
      ],
      "metadata": {
        "id": "PoET8B5tS2OU"
      }
    },
    {
      "cell_type": "code",
      "source": [
        "df.to_csv(\"tmdb_5000_movies_profit_sorted.csv\" , index=False)\n",
        "df = pd.read_csv(\"tmdb_5000_movies_profit_sorted.csv\")\n",
        "df.head(1)"
      ],
      "metadata": {
        "id": "3ISldjA7TWX2"
      },
      "execution_count": null,
      "outputs": []
    }
  ]
}