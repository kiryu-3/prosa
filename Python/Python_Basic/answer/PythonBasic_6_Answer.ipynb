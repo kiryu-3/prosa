{
  "nbformat": 4,
  "nbformat_minor": 0,
  "metadata": {
    "colab": {
      "provenance": [],
      "authorship_tag": "ABX9TyPvg3z5VeMhluiGSu8tYcIE",
      "include_colab_link": true
    },
    "kernelspec": {
      "name": "python3",
      "display_name": "Python 3"
    },
    "language_info": {
      "name": "python"
    }
  },
  "cells": [
    {
      "cell_type": "markdown",
      "metadata": {
        "id": "view-in-github",
        "colab_type": "text"
      },
      "source": [
        "<a href=\"https://colab.research.google.com/github/kiryu-3/Prmn2023_DS/blob/main/Python/Python_Basic/answer/PythonBasic_6_Answer.ipynb\" target=\"_parent\"><img src=\"https://colab.research.google.com/assets/colab-badge.svg\" alt=\"Open In Colab\"/></a>"
      ]
    },
    {
      "cell_type": "markdown",
      "source": [
        "# 第6章 課題 解答例"
      ],
      "metadata": {
        "id": "JR-0wWX5GOz4"
      }
    },
    {
      "cell_type": "markdown",
      "source": [
        "## 課題1"
      ],
      "metadata": {
        "id": "a-2Yu9QBGREf"
      }
    },
    {
      "cell_type": "markdown",
      "source": [
        "前回まで作ってきた**ヒットアンドブロー**を、関数を使って自由に分けてください\n",
        "\n"
      ],
      "metadata": {
        "id": "AghhfYxOT9p2"
      }
    },
    {
      "cell_type": "markdown",
      "source": [
        "＜例＞ \n",
        "「入力値判定・ヒット＆ブローのカウント・出力」という3つの処理を関数に分ける"
      ],
      "metadata": {
        "id": "KhnBKlgKvoY-"
      }
    },
    {
      "cell_type": "code",
      "source": [
        "# 解答例\n",
        "import random\n",
        "\n",
        "# 入力値判定\n",
        "def input_check(input_num):\n",
        "  if (not input_num.isdigit()) or len(input_num)!=4 :  # 整数値以外の入力 または 4桁ではない整数の入力\n",
        "    input_num = input(\"【エラー】4桁の整数を入力してください\\n\")\n",
        "    return [],input_num,False  # エラーの場合は無限ループの最初から\n",
        "  else :\n",
        "    \n",
        "      # 入力された整数（文字列型）を整数に変換し、一つずつリストに格納\n",
        "      for i in range(4):\n",
        "        input_list.append(int(input_num[i]))\n",
        "      \n",
        "      # 入力値が重複しているかをset関数にかけたリストの大きさで確認\n",
        "      if len(set(input_list)) != 4:\n",
        "        input_num = input(\"【エラー】重複のない4桁の整数を入力してください\\n\")\n",
        "        return input_list,input_num,False  # 重複が確認されたら無限ループの最初から\n",
        "  return input_list,input_num,True\n",
        "\n",
        "# ヒット＆ブローのカウント\n",
        "def hit_blow(input_list):\n",
        "  count[\"answer\"] += 1  # 何回目の解答かをカウント\n",
        "  count[\"hit\"] = 0  # リセットが必要\n",
        "  count[\"blow\"] = 0  # リセットが必要\n",
        "\n",
        "  for i in range(4):\n",
        "    for j in range(4):\n",
        "      if i == j and answer_list[i] == input_list[j]:    # ヒットの場合\n",
        "         count[\"hit\"] += 1\n",
        "      elif i != j and answer_list[i] == input_list[j]:  # ブローの場合\n",
        "         count[\"blow\"] += 1 \n",
        "\n",
        "# 出力\n",
        "def output(input_num):\n",
        "  print(\"【{}回目の解答】\".format(count[\"answer\"]))\n",
        "  print(\"{}は【{}H、{}B】です\".format(input_num , count[\"hit\"] , count[\"blow\"]))\n",
        "  if count[\"hit\"] == 4:  # ヒットの数を調べる\n",
        "    print(\"正解です！正解するまで{}回かかりました\".format(count[\"answer\"]))\n",
        "    return input_num,True\n",
        "  else:\n",
        "    print(\"不正解です\\n\")\n",
        "    input_num = input(\"4桁の整数を入力してください\\n\")\n",
        "    return input_num,False\n",
        "\n",
        "\"\"\"\n",
        "メイン部分\n",
        "\"\"\"\n",
        "\n",
        "answer_list = random.sample(range(0,10),k=4)  # 重複のない4つの整数値が入ったリスト\n",
        "# カウントする変数を一つにまとめたディクショナリ\n",
        "count = {\"answer\" : 0 ,\n",
        "         \"hit\" : 0 ,\n",
        "         \"blow\": 0 ,\n",
        "         }\n",
        "\n",
        "input_num = input(\"数当てゲームを開始します\\n4桁の整数を入力してください\\n\")\n",
        "\n",
        "while True :\n",
        "  input_list = []  # USERの入力値を管理するリスト\n",
        "  input_list , input_num , flag = input_check(input_num)\n",
        "\n",
        "  if not flag:\n",
        "    continue\n",
        "\n",
        "  hit_blow(input_list)\n",
        "\n",
        "  input_num , flag = output(input_num)\n",
        "\n",
        "  if flag:\n",
        "    break  # 正解だった場合は無限ループから抜ける\n",
        "  else:\n",
        "    continue  # 不正解だった場合は無限ループの最初から"
      ],
      "metadata": {
        "id": "l5XXX8mgPvqY"
      },
      "execution_count": null,
      "outputs": []
    },
    {
      "cell_type": "markdown",
      "source": [
        "## 課題2"
      ],
      "metadata": {
        "id": "HZlVs9Vivt7d"
      }
    },
    {
      "cell_type": "markdown",
      "source": [
        "成績評価を0~5の6段階でつけたいものとします。  \n",
        "\n",
        "|成績|点数|\n",
        "|:---| :--- |\n",
        "|$A$|5|\n",
        "|$B^{+}$|4|\n",
        "|$B$|3|\n",
        "|$B^{-}$|2|\n",
        "|$C^{+}$|1|\n",
        "|$C$|0|\n"
      ],
      "metadata": {
        "id": "bIsZE1q0vwyd"
      }
    },
    {
      "cell_type": "markdown",
      "source": [
        "上表のように成績を変換する関数を作成してください  "
      ],
      "metadata": {
        "id": "g8y7FrrIM0XM"
      }
    },
    {
      "cell_type": "markdown",
      "source": [
        "この科目は、「5×全15回=最大点75点」に、  \n",
        "「全14回×50点=最大点700点を25点に圧縮したもの」の和によって成績判定（100点満点中何点か）を行います。"
      ],
      "metadata": {
        "id": "sGR63Lq9M3QE"
      }
    },
    {
      "cell_type": "markdown",
      "source": [
        "適切に関数を使い、以下のデータの成績評価を行えるようにしてください\n",
        "\n",
        "\n"
      ],
      "metadata": {
        "id": "i9d5cECuwYJU"
      }
    },
    {
      "cell_type": "markdown",
      "source": [
        "＜例＞`合計点は90点です`"
      ],
      "metadata": {
        "id": "wYC9c6ogFHSs"
      }
    },
    {
      "cell_type": "code",
      "source": [
        "seiseki_data = {\"課題\" : [\"B+\",\"A\",\"B+\",\"A\",\"A\",\"A\",\"A\",\"A\",\"B+\",\"A\",\n",
        "                       \"A\",\"B+\",\"A\",\"B+\",\"A\"] ,\n",
        "             \"小テスト\" : [50,50,50,15,40,50,50,50,50,\n",
        "                           15,45,40,50,50]\n",
        "             }"
      ],
      "metadata": {
        "id": "5rhhPCjGxPxP"
      },
      "execution_count": null,
      "outputs": []
    },
    {
      "cell_type": "code",
      "source": [
        "# 解答例\n",
        "def henkan():\n",
        "  henkan_data = []\n",
        "  for kadai in seiseki_data[\"課題\"] :\n",
        "    kadai = kadai.replace(\"A\",\"5\").replace(\"B-\",\"2\").replace(\"B+\", \"4\").replace(\"B\",\"3\").replace(\"C+\",\"1\").replace(\"C\",\"0\")\n",
        "    henkan_data.append(int(kadai))\n",
        "\n",
        "  return henkan_data\n",
        "\n",
        "def assyuku():\n",
        "  return sum(seiseki_data[\"小テスト\"])*25/700\n",
        "\n",
        "henkan_data = henkan()\n",
        "assyuku_point = assyuku()\n",
        "print(f\"合計点は{sum(henkan_data) + assyuku_point}点です\")  # ギリギリ秀デスネ"
      ],
      "metadata": {
        "id": "tAb1PsfrQFI0",
        "colab": {
          "base_uri": "https://localhost:8080/"
        },
        "outputId": "b24600c0-5280-452f-d6a5-2169e2827f08"
      },
      "execution_count": null,
      "outputs": [
        {
          "output_type": "stream",
          "name": "stdout",
          "text": [
            "合計点は91.60714285714286点です\n"
          ]
        }
      ]
    },
    {
      "cell_type": "markdown",
      "source": [
        "## 課題3"
      ],
      "metadata": {
        "id": "b9E8y6dGMRgE"
      }
    },
    {
      "cell_type": "markdown",
      "source": [
        "GPAを計算したいものとします。  \n",
        "成績に付与されるGPは以下の通りです。\n",
        "\n",
        "|成績|GP|\n",
        "|:---| :--- |\n",
        "|秀|4|\n",
        "|優|3|\n",
        "|良|2|\n",
        "|可|1|\n",
        "|不可|0|"
      ],
      "metadata": {
        "id": "wimEVJZUMWoL"
      }
    },
    {
      "cell_type": "markdown",
      "source": [
        "上表のように成績を変換する関数を作成してください "
      ],
      "metadata": {
        "id": "vLfMefKLNZsq"
      }
    },
    {
      "cell_type": "markdown",
      "source": [
        "GPAの計算式は以下の通りです。  \n",
        "$$\n",
        "GPA = \\frac{(GP×そのGPの単位数) の合計}{履修単位数} \n",
        "$$"
      ],
      "metadata": {
        "id": "pJ-Cltm9NbZ6"
      }
    },
    {
      "cell_type": "markdown",
      "source": [
        "以下のタプルは一単位の科目を集めたものです。  \n",
        "そのほかの科目は全て二単位です。"
      ],
      "metadata": {
        "id": "vColSqfIN8PI"
      }
    },
    {
      "cell_type": "code",
      "source": [
        "one_unit_class = (\"キャリア形成Ａ１（Ａ）\",\"千歳学(Ａ)\",\"言語リテラシー１(Ａ)\",\n",
        "                  \"理工学基礎実験１（Ａ）\",\"スポーツ総合１(Ａ)\",\"健康科学(Ａ・Ｂ)\")"
      ],
      "metadata": {
        "id": "xL2nPwOVGs4u"
      },
      "execution_count": null,
      "outputs": []
    },
    {
      "cell_type": "markdown",
      "source": [
        "適切に関数を使い、以下のデータのGPAを算出してください"
      ],
      "metadata": {
        "id": "k_jm9pzkOFAw"
      }
    },
    {
      "cell_type": "markdown",
      "source": [
        "＜例＞ `GPAは3.50です`"
      ],
      "metadata": {
        "id": "OubWUNRdKZba"
      }
    },
    {
      "cell_type": "code",
      "source": [
        "seiseki2_data = {\"授業\":[\"物理学入門(Ａ・Ｂ)\",\"化学入門(Ａ・Ｂ)\",\"エレクトロニクス入門(Ａ・Ｂ)\",\n",
        "                      \"情報学基礎演習(Ａ)\",\"キャリア形成Ａ１（Ａ）\",\"千歳学(Ａ)\",\n",
        "                      \"言語リテラシー１(Ａ)\",\"微分積分学Ⅰ（Ａ）\",\"理工学基礎実験１（Ａ）\",\n",
        "                      \"理系のための基礎英語Ⅰ(Ａ)\",\"日本国憲法(遠隔)\",\"スポーツ総合１(Ａ)\",\n",
        "                      \"健康科学(Ａ・Ｂ)\"],\n",
        "              \n",
        "              \"成績\":[\"良\",\"秀\",\"秀\",\"秀\",\"秀\",\"秀\",\"秀\",\"優\",\"優\",\"秀\",\"秀\",\"優\",\"優\"]\n",
        "              }"
      ],
      "metadata": {
        "id": "hzQ83qvxHubl"
      },
      "execution_count": null,
      "outputs": []
    },
    {
      "cell_type": "code",
      "source": [
        "# 解答例\n",
        "def henkan():\n",
        "  henkan_data = []\n",
        "  for seiseki in seiseki2_data[\"成績\"]:\n",
        "    seiseki = seiseki.replace(\"秀\",\"4\").replace(\"優\",\"3\").replace(\"良\",\"2\").replace(\"可\",\"1\").replace(\"不可\",\"0\")\n",
        "    henkan_data.append(int(seiseki))\n",
        "\n",
        "  return henkan_data\n",
        "\n",
        "def goukei():\n",
        "  sum = 0\n",
        "  tani = 0\n",
        "  for i,kamoku in  enumerate(seiseki2_data[\"授業\"]):\n",
        "    if not kamoku in one_unit_class:\n",
        "      sum += 2*henkan_data[i]\n",
        "      tani += 2\n",
        "    else:\n",
        "      sum += henkan_data[i]\n",
        "      tani += 1\n",
        "  return sum,tani\n",
        "\n",
        "henkan_data = henkan()\n",
        "goukei_point,goukei_tani = goukei()\n",
        "print(f\"GPAは{goukei_point/goukei_tani}です\")"
      ],
      "metadata": {
        "id": "t7dD8PXhQKsm",
        "colab": {
          "base_uri": "https://localhost:8080/"
        },
        "outputId": "559cd5dd-8eec-4d92-ddc2-03215248b4c5"
      },
      "execution_count": null,
      "outputs": [
        {
          "output_type": "stream",
          "name": "stdout",
          "text": [
            "GPAは3.55です\n"
          ]
        }
      ]
    }
  ]
}