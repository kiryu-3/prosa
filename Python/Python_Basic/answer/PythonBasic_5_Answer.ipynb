{
  "nbformat": 4,
  "nbformat_minor": 0,
  "metadata": {
    "colab": {
      "provenance": []
    },
    "kernelspec": {
      "name": "python3",
      "display_name": "Python 3"
    },
    "language_info": {
      "name": "python"
    }
  },
  "cells": [
    {
      "cell_type": "markdown",
      "source": [
        "<a href=\"https://colab.research.google.com/github/kiryu-3/Prmn2023_DS/blob/main/Python/Python_Basic/answer/PythonBasic_6_Answer.ipynb\" target=\"_parent\"><img src=\"https://colab.research.google.com/assets/colab-badge.svg\" alt=\"Open In Colab\"/></a>"
      ],
      "metadata": {
        "id": "TA5kKi-LY1xg"
      }
    },
    {
      "cell_type": "markdown",
      "source": [
        "# 第5章 課題 解答例"
      ],
      "metadata": {
        "id": "r-kcfL2yEU8b"
      }
    },
    {
      "cell_type": "markdown",
      "source": [
        "## 課題1"
      ],
      "metadata": {
        "id": "-qZw_n3X8xrW"
      }
    },
    {
      "cell_type": "markdown",
      "source": [
        "共通のキーを持つ辞書を要素とするリストから、特定のキーの値のリストを取得してみます。"
      ],
      "metadata": {
        "id": "vxwATeobQf_U"
      }
    },
    {
      "cell_type": "markdown",
      "source": [
        "以下のリストから、都道府県コード・都道府県・県庁所在地それぞれのリストを作成してください\n",
        "\n",
        "キーが存在しないところがある点に注意してください"
      ],
      "metadata": {
        "id": "tGPa1uU6Qs2c"
      }
    },
    {
      "cell_type": "code",
      "source": [
        "todohuken_data = [{\"コード\": 24, \"都道府県\": \"三重\", \"県庁所在地\": \"津\"},\n",
        "                  {\"コード\": 25, \"都道府県\": \"滋賀\", \"県庁所在地\": \"大津\"},\n",
        "                  {\"コード\": 31, \"都道府県\": \"鳥取\"},\n",
        "                  {\"コード\": 32, \"都道府県\": \"島根\", \"県庁所在地\": \"松江\"},\n",
        "                  {\"コード\": 37, \"都道府県\": \"香川\", \"県庁所在地\": \"高松\"},\n",
        "                  {\"コード\": 38, \"都道府県\": \"愛媛\", \"県庁所在地\": \"松山\"},]"
      ],
      "metadata": {
        "id": "8ZdyRWbERGAY"
      },
      "execution_count": null,
      "outputs": []
    },
    {
      "cell_type": "markdown",
      "source": [
        "＜出力結果例＞  \n",
        "`[24, 25, 31, 32, 37, 38]`  \n",
        "`['三重', '滋賀', '鳥取', '島根', '香川', '愛媛']`  \n",
        "`['津', '大津', None, '松江', '高松', '松山']`"
      ],
      "metadata": {
        "id": "dQ2n3OMSUXh2"
      }
    },
    {
      "cell_type": "code",
      "source": [
        "# 解答例\n",
        "code_list = [dic.get(\"コード\") for dic in todohuken_data]\n",
        "print(code_list)\n",
        "\n",
        "todohuken_list = [dic.get(\"都道府県\") for dic in todohuken_data]\n",
        "print(todohuken_list)\n",
        "\n",
        "kentyosyozaiti_list = [dic.get(\"県庁所在地\") for dic in todohuken_data]\n",
        "print(kentyosyozaiti_list)"
      ],
      "metadata": {
        "colab": {
          "base_uri": "https://localhost:8080/"
        },
        "id": "rgPlOseCTC_h",
        "outputId": "4092e766-8c9c-4f51-9b50-ba5bf05bb4a8"
      },
      "execution_count": null,
      "outputs": [
        {
          "output_type": "stream",
          "name": "stdout",
          "text": [
            "[24, 25, 31, 32, 37, 38]\n",
            "['三重', '滋賀', '鳥取', '島根', '香川', '愛媛']\n",
            "['津', '大津', None, '松江', '高松', '松山']\n"
          ]
        }
      ]
    },
    {
      "cell_type": "markdown",
      "source": [
        "参考リンクは[こちら](https://note.nkmk.me/python-dict-list-values/)"
      ],
      "metadata": {
        "id": "Aw7qBpClZXz9"
      }
    },
    {
      "cell_type": "markdown",
      "source": [
        "## 課題2"
      ],
      "metadata": {
        "id": "nHdknj-6H2B7"
      }
    },
    {
      "cell_type": "markdown",
      "source": [
        "第4章課題2では以下のタプルと二次元リストを扱いました。"
      ],
      "metadata": {
        "id": "LdrQeQbUH2B8"
      }
    },
    {
      "cell_type": "code",
      "source": [
        "junishi = (\"申\",\"酉\",\"戌\",\"亥\",\"子\",\"丑\",\"寅\",\"卯\",\"辰\",\"巳\",\"午\",\"未\")"
      ],
      "metadata": {
        "id": "DoSdJJ94D8ER"
      },
      "execution_count": null,
      "outputs": []
    },
    {
      "cell_type": "code",
      "source": [
        "# [星座名 , 星座始まり月 , 星座始まり日] というseizaリスト\n",
        "seiza = [    \n",
        "        [\"山羊座\", 12, 22] , [\"水瓶座\", 1, 20] , [\"魚座\", 2, 19] ,   \n",
        "        [\"牡羊座\", 3, 21] , [\"牡牛座\", 4, 20] , [\"双子座\", 5, 21] ,   \n",
        "        [\"双子座\", 5, 21] , [\"蟹座\", 6, 22] , [\"獅子座\", 7, 23] ,     \n",
        "        [\"獅子座\", 7, 23] , [\"乙女座\", 8, 23] , [\"天秤座\", 9, 23] , \n",
        "        [\"天秤座\", 9, 23] , [\"蠍座\", 10, 24] , [\"射手座\", 11, 23] ,          \n",
        "]"
      ],
      "metadata": {
        "id": "hbUQN8xyD9-A"
      },
      "execution_count": null,
      "outputs": []
    },
    {
      "cell_type": "markdown",
      "source": [
        "これらからデータを抽出し、以下の例のようにして  \n",
        "新たなディクショナリ( junishi_dic , seiza_dic )に格納してください\n",
        "\n"
      ],
      "metadata": {
        "id": "lo_3g1CVH2B-"
      }
    },
    {
      "cell_type": "code",
      "source": [
        "\"\"\"\n",
        "十二支のディクショナリを作る例\n",
        "キーが \"12で割ったときの余り\" 、値が \"干支\" のディクショナリ\n",
        "\"\"\"\n",
        "example_dic = {0 : \"A\", 1 : \"B\", 2 : \"C\"}"
      ],
      "metadata": {
        "id": "0vyU1qOcF-bu"
      },
      "execution_count": null,
      "outputs": []
    },
    {
      "cell_type": "code",
      "source": [
        "\"\"\"\n",
        "星座のディクショナリを作る例\n",
        "星座と日付のリストを値とするディクショナリ\n",
        "\"\"\"\n",
        "example2_dic = {\"星座\"：[\"A\", \"B\", \"C\"],\n",
        "                \"月\"：[12, 1, 2],\n",
        "                \"日\"：[22, 20, 19]\n",
        "                }"
      ],
      "metadata": {
        "id": "ex0jMge_GxOF"
      },
      "execution_count": null,
      "outputs": []
    },
    {
      "cell_type": "markdown",
      "source": [
        "そのディクショナリをもとに、任意の誕生日を指定して、干支と星座を出力できるようにしてください"
      ],
      "metadata": {
        "id": "mEKZ2w1wHZK5"
      }
    },
    {
      "cell_type": "code",
      "source": [
        "# 十二支のディクショナリ解答\n",
        "junishi_dic = { 0 : \"申\" , 1 : \"酉\" , 2 : \"戌\", 3 : \"亥\",\n",
        "                4 : \"子\" , 5 : \"丑\" , 6 : \"寅\", 7 : \"卯\",\n",
        "                8 : \"辰\" , 9 : \"巳\" , 10 : \"午\", 11 : \"未\",\n",
        "              }"
      ],
      "metadata": {
        "id": "OBycW1T4K-7t"
      },
      "execution_count": null,
      "outputs": []
    },
    {
      "cell_type": "code",
      "source": [
        "# 星座のディクショナリ解答\n",
        "seiza_dic = {\"星座\" : [\"山羊座\",\"水瓶座\",\"魚座\",\"牡羊座\",\"牡牛座\",\"双子座\",\n",
        "                       \"蟹座\",\"獅子座\",\"乙女座\",\"天秤座\",\"蠍座\",\"射手座\"],\n",
        "             \"月\":[12 , 1 , 2 , 3 , 4 , 5 , 6 , 7 , 8 , 9 , 10 , 11],\n",
        "             \"日\":[22 , 20 , 19 , 21 , 20 , 21 , 22 , 23 , 23 , 23 , 24 , 23]\n",
        "             } "
      ],
      "metadata": {
        "id": "pyRmJQODLHQF"
      },
      "execution_count": null,
      "outputs": []
    },
    {
      "cell_type": "code",
      "source": [
        "# junishi_dic の作成\n",
        "junishi_dic = {}\n",
        "for index,value in enumerate(junishi):\n",
        "  junishi_dic[index] = value\n",
        "\n",
        "print(junishi_dic)"
      ],
      "metadata": {
        "colab": {
          "base_uri": "https://localhost:8080/"
        },
        "id": "3-0FPFVCILw6",
        "outputId": "821f9069-1434-4180-9900-046cc5958952"
      },
      "execution_count": null,
      "outputs": [
        {
          "output_type": "stream",
          "name": "stdout",
          "text": [
            "{0: '申', 1: '酉', 2: '戌', 3: '亥', 4: '子', 5: '丑', 6: '寅', 7: '卯', 8: '辰', 9: '巳', 10: '午', 11: '未'}\n"
          ]
        }
      ]
    },
    {
      "cell_type": "code",
      "source": [
        "# seiza_dic の作成\n",
        "seiza_dic = {\"星座\" : [seiza[i][0] for i in range(len(seiza))],\n",
        "             \"月\" : [seiza[i][1] for i in range(len(seiza))],\n",
        "             \"日\" : [seiza[i][2] for i in range(len(seiza))],\n",
        "             }\n",
        "\n",
        "print(seiza_dic)"
      ],
      "metadata": {
        "colab": {
          "base_uri": "https://localhost:8080/"
        },
        "id": "pIzzr7ZzKKSu",
        "outputId": "9f03ee1f-c13e-4470-f248-78bfc385e3b7"
      },
      "execution_count": null,
      "outputs": [
        {
          "output_type": "stream",
          "name": "stdout",
          "text": [
            "{'星座': ['山羊座', '水瓶座', '魚座', '牡羊座', '牡牛座', '双子座', '双子座', '蟹座', '獅子座', '獅子座', '乙女座', '天秤座', '天秤座', '蠍座', '射手座'], '月': [12, 1, 2, 3, 4, 5, 5, 6, 7, 7, 8, 9, 9, 10, 11], '日': [22, 20, 19, 21, 20, 21, 21, 22, 23, 23, 23, 23, 23, 24, 23]}\n"
          ]
        }
      ]
    },
    {
      "cell_type": "markdown",
      "source": [
        "＜hint＞ 西暦を12で割った余りによって、干支を割り出すことができます。  \n",
        "　　　　 上に示している`junishi`リストの要素番号が余りに対応しています。"
      ],
      "metadata": {
        "id": "x43YkR1qZ3qM"
      }
    },
    {
      "cell_type": "markdown",
      "source": [
        "＜例＞ 1998年4月1日生まれの場合  \n",
        "`1998年は寅年です`     \n",
        "`Chitoseさんの星座は牡羊座です`"
      ],
      "metadata": {
        "id": "qcF8555IH2CB"
      }
    },
    {
      "cell_type": "markdown",
      "source": [
        "＜hint＞ ヒントではないですが、星座は以下の表のようにして分けられています。  \n",
        "\n",
        "|星座|日時|\n",
        "|:---| :--- |\n",
        "|山羊座|12/22~1/19|\n",
        "|水瓶座|1/20~2/18|\n",
        "|魚座|2/19~3/20|\n",
        "|牡羊座|3/21~4/19|\n",
        "|牡牛座|4/20~5/20|\n",
        "|双子座|5/21~6/21|\n",
        "|蟹座|6/22~7/22|\n",
        "|獅子座|7/23~8/22|\n",
        "|乙女座|8/23~9/22|\n",
        "|天秤座|9/23~10/23|\n",
        "|蠍座|10/24~11/22|\n",
        "|牡羊座|11/23~12/21|"
      ],
      "metadata": {
        "id": "XCNt0suxH2CB"
      }
    },
    {
      "cell_type": "code",
      "source": [
        "# 解答例\n",
        "birth_year = 1998\n",
        "birth_month = 4\n",
        "birth_day = 1\n",
        "\n",
        "print(f\"{birth_year}年は{junishi[birth_year%12]}年です\")\n",
        "\n",
        "for i in range(len(seiza_dic[\"星座\"])):\n",
        "  if seiza_dic[\"月\"][i] == birth_month:  # 星座始まり月と一致したら…\n",
        "    if birth_day >= seiza_dic[\"日\"][i]:  # 誕生日が星座始まり日より後の場合\n",
        "      print(\"Chitoseさんの星座は{}です\".format(seiza_dic[\"星座\"][i]))\n",
        "      break\n",
        "    else:                                # 誕生日が星座始まり日より前の場合\n",
        "      print(\"Chitoseさんの星座は{}です\".format(seiza_dic[\"星座\"][i-1]))\n",
        "      break"
      ],
      "metadata": {
        "colab": {
          "base_uri": "https://localhost:8080/"
        },
        "id": "83zDT4LK_FrC",
        "outputId": "2585d900-f673-4063-f90e-55ce3151b375"
      },
      "execution_count": null,
      "outputs": [
        {
          "output_type": "stream",
          "name": "stdout",
          "text": [
            "1998年は寅年です\n",
            "Chitoseさんの星座は牡羊座です\n"
          ]
        }
      ]
    },
    {
      "cell_type": "markdown",
      "source": [
        "## 課題3"
      ],
      "metadata": {
        "id": "KZKacX4bAmFS"
      }
    },
    {
      "cell_type": "markdown",
      "source": [
        "前回の課題3で作った**ヒットアンドブロー**に少し変更を加えます。"
      ],
      "metadata": {
        "id": "ayOcPJpbAnbK"
      }
    },
    {
      "cell_type": "markdown",
      "source": [
        "* 以下のディクショナリをプログラムに組み込む  \n",
        "* 入力された整数値の重複判定を**`set`関数**を使って行う"
      ],
      "metadata": {
        "id": "X43-MijrBCUU"
      }
    },
    {
      "cell_type": "code",
      "source": [
        "# 解答例\n",
        "import random\n",
        "\n",
        "answer_list = random.sample(range(0,10),k=4)  # 重複のない4つの整数値が入ったリスト\n",
        "# カウントする変数を一つにまとめたディクショナリ\n",
        "count = {\"answer\" : 0 ,\n",
        "         \"hit\" : 0 ,\n",
        "         \"blow\": 0 ,\n",
        "         }\n",
        "\n",
        "input_num = input(\"数当てゲームを開始します\\n4桁の整数を入力してください\\n\")\n",
        "\n",
        "while True :\n",
        "  input_list = []  # USERの入力値を管理するリスト\n",
        "\n",
        "  if (not input_num.isdigit()) or len(input_num)!=4 :  # 整数値以外の入力 または 4桁ではない整数の入力\n",
        "    input_num = input(\"【エラー】4桁の整数を入力してください\\n\")\n",
        "    continue  # エラーの場合は無限ループの最初から\n",
        "  else :\n",
        "    \n",
        "      # 入力された整数（文字列型）を整数に変換し、一つずつリストに格納\n",
        "      for i in range(4):\n",
        "        input_list.append(int(input_num[i]))\n",
        "      \n",
        "      # 入力値が重複しているかをset関数にかけたリストの大きさで確認\n",
        "      if len(set(input_list)) != 4:\n",
        "        input_num = input(\"【エラー】重複のない4桁の整数を入力してください\\n\")\n",
        "        continue  # 重複が確認されたら無限ループの最初から\n",
        "\n",
        "      count[\"answer\"] += 1  # 何回目の解答かをカウント\n",
        "      for i in range(4):\n",
        "        for j in range(4):\n",
        "          if i == j and answer_list[i] == input_list[j]:    # ヒットの場合\n",
        "            count[\"hit\"] += 1\n",
        "          elif i != j and answer_list[i] == input_list[j]:  # ブローの場合\n",
        "            count[\"blow\"] += 1 \n",
        "\n",
        "      print(\"【{}回目の解答】\".format(count[\"answer\"]))\n",
        "      print(\"{}は【{}H、{}B】です\".format(input_num , count[\"hit\"] , count[\"blow\"]))\n",
        "      if count[\"hit\"] == 4:  # ヒットの数を調べる\n",
        "        print(\"正解です！正解するまで{}回かかりました\".format(count[\"answer\"]))\n",
        "        break  # 正解だった場合は無限ループから抜ける\n",
        "      else:\n",
        "        print(\"不正解です\\n\")\n",
        "        input_num = input(\"4桁の整数を入力してください\\n\")\n",
        "        continue  # 不正解だった場合は無限ループの最初から"
      ],
      "metadata": {
        "id": "769H4AfACWV4"
      },
      "execution_count": null,
      "outputs": []
    }
  ]
}