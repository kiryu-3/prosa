{
  "nbformat": 4,
  "nbformat_minor": 0,
  "metadata": {
    "colab": {
      "provenance": [],
      "authorship_tag": "ABX9TyPPGE7SsLHfTO4Olym9KYru",
      "include_colab_link": true
    },
    "kernelspec": {
      "name": "python3",
      "display_name": "Python 3"
    },
    "language_info": {
      "name": "python"
    }
  },
  "cells": [
    {
      "cell_type": "markdown",
      "metadata": {
        "id": "view-in-github",
        "colab_type": "text"
      },
      "source": [
        "<a href=\"https://colab.research.google.com/github/kiryu-3/Prmn2023_DS/blob/main/Python/Python_Basic/answer/PythonBasic_5_Answer.ipynb\" target=\"_parent\"><img src=\"https://colab.research.google.com/assets/colab-badge.svg\" alt=\"Open In Colab\"/></a>"
      ]
    },
    {
      "cell_type": "markdown",
      "source": [
        "# 第5章 課題 解答例"
      ],
      "metadata": {
        "id": "r-kcfL2yEU8b"
      }
    },
    {
      "cell_type": "markdown",
      "source": [
        "## 課題1"
      ],
      "metadata": {
        "id": "aCHnVQYGI93R"
      }
    },
    {
      "cell_type": "markdown",
      "source": [
        "任意の誕生日を指定して、干支を出力できるようにしてください"
      ],
      "metadata": {
        "id": "D096JHGuI7Hd"
      }
    },
    {
      "cell_type": "markdown",
      "source": [
        "以下のディクショナリをプログラムに必ず組み込んでください\n",
        "\n"
      ],
      "metadata": {
        "id": "X1STtVMTJB9T"
      }
    },
    {
      "cell_type": "code",
      "source": [
        "# キーが\"12で割ったときの余り\"、値が\"干支\"のディクショナリ\n",
        "junishi = { 0 : \"申\" , 1 : \"酉\" , 2 : \"戌\", 3 : \"亥\",\n",
        "            4 : \"子\" , 5 : \"丑\" , 6 : \"寅\", 7 : \"卯\",\n",
        "            8 : \"辰\" , 9 : \"巳\" , 10 : \"午\", 11 : \"未\",\n",
        "           }"
      ],
      "metadata": {
        "id": "rJTo3W0xhOnu"
      },
      "execution_count": null,
      "outputs": []
    },
    {
      "cell_type": "markdown",
      "source": [
        "＜例＞ 1998年4月1日生まれの場合  \n",
        "`1998年は24歳です`"
      ],
      "metadata": {
        "id": "LZkrNgzoObXH"
      }
    },
    {
      "cell_type": "markdown",
      "source": [
        "＜hint＞ 西暦を12で割った余りによって、干支を割り出すことができます。  \n",
        "上に示している`junishi`リストの要素番号が余りに対応しています。"
      ],
      "metadata": {
        "id": "AEN-B791Mxis"
      }
    },
    {
      "cell_type": "code",
      "source": [
        "# 解答例\n",
        "birth_year = 1998\n",
        "birth_month = 12\n",
        "birth_day = 1\n",
        "\n",
        "print(f\"{birth_year}年は{junishi[birth_year%12]}年です\")"
      ],
      "metadata": {
        "colab": {
          "base_uri": "https://localhost:8080/"
        },
        "id": "AlMB6Ilnlqbk",
        "outputId": "5bb09908-ab8e-424d-8bd7-aeb0f20c5013"
      },
      "execution_count": null,
      "outputs": [
        {
          "output_type": "stream",
          "name": "stdout",
          "text": [
            "1998年は寅年です\n"
          ]
        }
      ]
    },
    {
      "cell_type": "markdown",
      "source": [
        "## 課題2"
      ],
      "metadata": {
        "id": "tqmWMxCbPG14"
      }
    },
    {
      "cell_type": "markdown",
      "source": [
        "任意の誕生日を指定して、星座を出力できるようにしてください"
      ],
      "metadata": {
        "id": "N4XZ06UqPG15"
      }
    },
    {
      "cell_type": "markdown",
      "source": [
        "以下のディクショナリをプログラムに必ず組み込んでください\n",
        "\n"
      ],
      "metadata": {
        "id": "S5H4q-6mPG16"
      }
    },
    {
      "cell_type": "code",
      "source": [
        "# 星座と日付のリストを値とするディクショナリ\n",
        "seiza_dic = {\"星座\" : [\"山羊座\",\"水瓶座\",\"魚座\",\"牡羊座\",\"牡牛座\",\"双子座\",\n",
        "                       \"蟹座\",\"獅子座\",\"乙女座\",\"天秤座\",\"蠍座\",\"射手座\"],\n",
        "             \"月\":[12 , 1 , 2 , 3 , 4 , 5 , 6 , 7 , 8 , 9 , 10 , 11],\n",
        "             \"日\":[22 , 20 , 19 , 21 , 20 , 21 , 22 , 23 , 23 , 23 , 24 , 23]\n",
        "             } "
      ],
      "metadata": {
        "id": "vJrRHhUo-f5q"
      },
      "execution_count": null,
      "outputs": []
    },
    {
      "cell_type": "markdown",
      "source": [
        "＜例＞ 1998年4月1日生まれの場合  \n",
        "`1998年は24歳です`"
      ],
      "metadata": {
        "id": "CuiEHN91PG16"
      }
    },
    {
      "cell_type": "markdown",
      "source": [
        "＜hint＞ ヒントではないですが、星座は以下の表のようにして分けられています。  \n",
        "\n",
        "|星座|日時|\n",
        "|:---| :--- |\n",
        "|山羊座|12/22~1/19|\n",
        "|水瓶座|1/20~2/18|\n",
        "|魚座|2/19~3/20|\n",
        "|牡羊座|3/21~4/19|\n",
        "|牡牛座|4/20~5/20|\n",
        "|双子座|5/21~6/21|\n",
        "|蟹座|6/22~7/22|\n",
        "|獅子座|7/23~8/22|\n",
        "|乙女座|8/23~9/22|\n",
        "|天秤座|9/23~10/23|\n",
        "|蠍座|10/24~11/22|\n",
        "|牡羊座|11/23~12/21|"
      ],
      "metadata": {
        "id": "glPkkMdYPG17"
      }
    },
    {
      "cell_type": "code",
      "source": [
        "# 解答例\n",
        "birth_year = 1998\n",
        "birth_month = 4\n",
        "birth_day = 1\n",
        "\n",
        "for i in range(len(seiza_dic[\"星座\"])):\n",
        "  if seiza_dic[\"月\"][i] == birth_month:  # 星座始まり月と一致したら…\n",
        "    if birth_day >= seiza_dic[\"日\"][i]:  # 誕生日が星座始まり日より後の場合\n",
        "      print(\"Chitoseさんの星座は{}です\".format(seiza_dic[\"星座\"][i]))\n",
        "      break\n",
        "    else:                                # 誕生日が星座始まり日より前の場合\n",
        "      print(\"Chitoseさんの星座は{}です\".format(seiza_dic[\"星座\"][i-1]))\n",
        "      break"
      ],
      "metadata": {
        "colab": {
          "base_uri": "https://localhost:8080/"
        },
        "id": "83zDT4LK_FrC",
        "outputId": "512042c7-2a1d-4687-83c8-12a10ed319fa"
      },
      "execution_count": null,
      "outputs": [
        {
          "output_type": "stream",
          "name": "stdout",
          "text": [
            "Chitoseさんの星座は牡羊座です\n"
          ]
        }
      ]
    },
    {
      "cell_type": "markdown",
      "source": [
        "## 課題3"
      ],
      "metadata": {
        "id": "KZKacX4bAmFS"
      }
    },
    {
      "cell_type": "markdown",
      "source": [
        "前回の課題3で作った**ヒットアンドブロー**に少し変更を加えます。"
      ],
      "metadata": {
        "id": "ayOcPJpbAnbK"
      }
    },
    {
      "cell_type": "markdown",
      "source": [
        "* 以下のディクショナリをプログラムに組み込む  \n",
        "* 入力された整数値の重複判定を**`set`関数**を使って行う"
      ],
      "metadata": {
        "id": "X43-MijrBCUU"
      }
    },
    {
      "cell_type": "code",
      "source": [
        "# 解答例\n",
        "import random\n",
        "\n",
        "answer_list = random.sample(range(0,10),k=4)  # 重複のない4つの整数値が入ったリスト\n",
        "# カウントする変数を一つにまとめたディクショナリ\n",
        "count = {\"answer\" : 0 ,\n",
        "         \"hit\" : 0 ,\n",
        "         \"blow\": 0 ,\n",
        "         }\n",
        "\n",
        "input_num = input(\"数当てゲームを開始します\\n4桁の整数を入力してください\\n\")\n",
        "\n",
        "while True :\n",
        "  input_list = []  # USERの入力値を管理するリスト\n",
        "\n",
        "  if (not input_num.isdigit()) or len(input_num)!=4 :  # 整数値以外の入力 または 4桁ではない整数の入力\n",
        "    input_num = input(\"【エラー】4桁の整数を入力してください\\n\")\n",
        "    continue  # エラーの場合は無限ループの最初から\n",
        "  else :\n",
        "    \n",
        "      # 入力された整数（文字列型）を整数に変換し、一つずつリストに格納\n",
        "      for i in range(4):\n",
        "        input_list.append(int(input_num[i]))\n",
        "      \n",
        "      # 入力値が重複しているかをset関数にかけたリストの大きさで確認\n",
        "      if len(set(input_list)) != 4:\n",
        "        input_num = input(\"【エラー】重複のない4桁の整数を入力してください\\n\")\n",
        "        continue  # 重複が確認されたら無限ループの最初から\n",
        "\n",
        "      count[\"answer\"] += 1  # 何回目の解答かをカウント\n",
        "      for i in range(4):\n",
        "        for j in range(4):\n",
        "          if i == j and answer_list[i] == input_list[j]:    # ヒットの場合\n",
        "            count[\"hit\"] += 1\n",
        "          elif i != j and answer_list[i] == input_list[j]:  # ブローの場合\n",
        "            count[\"blow\"] += 1 \n",
        "\n",
        "      print(\"【{}回目の解答】\".format(count[\"answer\"]))\n",
        "      print(\"{}は【{}H、{}B】です\".format(input_num , count[\"hit\"] , count[\"blow\"]))\n",
        "      if count[\"hit\"] == 4:  # ヒットの数を調べる\n",
        "        print(\"正解です！正解するまで{}回かかりました\".format(count[\"answer\"]))\n",
        "        break  # 正解だった場合は無限ループから抜ける\n",
        "      else:\n",
        "        print(\"不正解です\\n\")\n",
        "        input_num = input(\"4桁の整数を入力してください\\n\")\n",
        "        continue  # 不正解だった場合は無限ループの最初から"
      ],
      "metadata": {
        "id": "769H4AfACWV4"
      },
      "execution_count": null,
      "outputs": []
    }
  ]
}