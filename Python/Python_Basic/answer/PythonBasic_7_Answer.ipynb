{
  "nbformat": 4,
  "nbformat_minor": 0,
  "metadata": {
    "colab": {
      "provenance": [],
      "authorship_tag": "ABX9TyMUhAJnpS7j9m2g5VtOCAfI",
      "include_colab_link": true
    },
    "kernelspec": {
      "name": "python3",
      "display_name": "Python 3"
    },
    "language_info": {
      "name": "python"
    }
  },
  "cells": [
    {
      "cell_type": "markdown",
      "metadata": {
        "id": "view-in-github",
        "colab_type": "text"
      },
      "source": [
        "<a href=\"https://colab.research.google.com/github/kiryu-3/Prmn2023_DS/blob/main/Python/Python_Basic/answer/PythonBasic_7_Answer.ipynb\" target=\"_parent\"><img src=\"https://colab.research.google.com/assets/colab-badge.svg\" alt=\"Open In Colab\"/></a>"
      ]
    },
    {
      "cell_type": "markdown",
      "source": [
        "# 第7章 課題 解答例"
      ],
      "metadata": {
        "id": "JR-0wWX5GOz4"
      }
    },
    {
      "cell_type": "markdown",
      "source": [
        "## 課題1"
      ],
      "metadata": {
        "id": "a-2Yu9QBGREf"
      }
    },
    {
      "cell_type": "markdown",
      "source": [
        "`seiseki_test①.txt`をアップロードしてください。  \n",
        "\n",
        "とある受験生の共通テストの成績が書かれています。  \n",
        "このファイルを読み込み、以下のように出力してください"
      ],
      "metadata": {
        "id": "JoPzNvz7DizP"
      }
    },
    {
      "cell_type": "markdown",
      "source": [
        "![gg4XWVa.png](https://i.imgur.com/gg4XWVa.png)"
      ],
      "metadata": {
        "id": "Ij8BLlcYD39-"
      }
    },
    {
      "cell_type": "code",
      "execution_count": null,
      "metadata": {
        "colab": {
          "base_uri": "https://localhost:8080/"
        },
        "id": "t8ykmqLal2HM",
        "outputId": "3354497a-e9a3-494f-d940-b872f105197a"
      },
      "outputs": [
        {
          "output_type": "stream",
          "name": "stdout",
          "text": [
            "倫政の点数は64点です\n",
            "国語の点数は132点です\n",
            "英語Rの点数は76点です\n",
            "英語Lの点数は41点です\n",
            "数学ⅠAの点数は65点です\n",
            "数学ⅡBの点数は77点です\n",
            "物理の点数は64点です\n",
            "化学の点数は49点です\n",
            "\n",
            "共通テストの成績は6.311割でした\n"
          ]
        }
      ],
      "source": [
        "# 解答例\n",
        "with open(\"seiseki_test①.txt\",mode=\"r+\") as f:\n",
        "  lines = f.read().splitlines()\n",
        "\n",
        "goukei = 0\n",
        "for i in range(1,len(lines)):\n",
        "  subject = lines[i].split(\"\\t\")[0]\n",
        "  score =  lines[i].split(\"\\t\")[1]\n",
        "  print(\"{}の点数は{}点です\".format(subject,score))\n",
        "\n",
        "  goukei += int(score)\n",
        "\n",
        "print(f\"\\n共通テストの成績は{round(goukei/900*10,3)}割でした\")  # 四捨五入"
      ]
    },
    {
      "cell_type": "markdown",
      "source": [
        "## 課題2"
      ],
      "metadata": {
        "id": "dSQu_cY6EpMk"
      }
    },
    {
      "cell_type": "markdown",
      "source": [
        "`seiseki_test②.txt`をアップロードしてください。 \n",
        "\n",
        "第6章課題2のように、成績評価をつけたいものとします。  \n",
        "ファイルを読み込んで成績評価を行ってください。"
      ],
      "metadata": {
        "id": "b-ekHtnVEwsO"
      }
    },
    {
      "cell_type": "code",
      "source": [
        "# 解答例\n",
        "def text_read():\n",
        "  with open(\"seiseki_test②.txt\",mode=\"r+\") as f:\n",
        "    lines = f.read().splitlines()\n",
        "\n",
        "\n",
        "  for i in range(2,len(lines)):\n",
        "    kadai = lines[i].split(\"\\t\")[1]\n",
        "    if lines[i].split(\"\\t\")[2] != \"\" :\n",
        "      test = lines[i].split(\"\\t\")[2]\n",
        "    else:\n",
        "      test = \"0\"\n",
        "    seiseki_data[\"課題\"].append(kadai)\n",
        "    seiseki_data[\"小テスト\"].append(int(test))\n",
        "\n",
        "def henkan():\n",
        "  henkan_data = []\n",
        "  for kadai in seiseki_data[\"課題\"] :\n",
        "    kadai = kadai.replace(\"A\",\"5\").replace(\"B-\",\"2\").replace(\"B+\", \"4\").replace(\"B\",\"3\").replace(\"C+\",\"1\").replace(\"C\",\"0\")\n",
        "    henkan_data.append(int(kadai))\n",
        "\n",
        "  return henkan_data\n",
        "\n",
        "def assyuku():\n",
        "  return sum(seiseki_data[\"小テスト\"])*25/700\n",
        "\n",
        "\n",
        "seiseki_data = {\"課題\":[],\"小テスト\":[]}\n",
        "\n",
        "text_read()\n",
        "henkan_data = henkan()\n",
        "assyuku_point = assyuku()\n",
        "print(f\"合計点は{round(sum(henkan_data) + assyuku_point,2)}点です\")  # ギリギリ秀デスネ"
      ],
      "metadata": {
        "colab": {
          "base_uri": "https://localhost:8080/"
        },
        "id": "yrDadDB9s-wc",
        "outputId": "fbd8d00c-d18e-4c3b-b56c-9facbd85969c"
      },
      "execution_count": null,
      "outputs": [
        {
          "output_type": "stream",
          "name": "stdout",
          "text": [
            "合計点は91.61点です\n"
          ]
        }
      ]
    },
    {
      "cell_type": "markdown",
      "source": [
        "## 課題3"
      ],
      "metadata": {
        "id": "ImanFioRIU6F"
      }
    },
    {
      "cell_type": "markdown",
      "source": [
        "`seiseki_test③.txt`をアップロードしてください。 \n",
        "\n",
        "第6章課題3のように、GPAを計算したいものとします。  \n",
        "ファイルを読み込んでGPA計算を行ってください。"
      ],
      "metadata": {
        "id": "9Q_HBLgfIXVf"
      }
    },
    {
      "cell_type": "code",
      "source": [
        "# 解答例\n",
        "def text_read():\n",
        "  with open(\"seiseki_test③.txt\",mode=\"r+\") as f:\n",
        "    lines = f.read().splitlines() \n",
        "\n",
        "  for i in range(1,len(lines)):\n",
        "    kamoku = lines[i].split(\"\\t\")[3]\n",
        "    score = lines[i].split(\"\\t\")[4]\n",
        "\n",
        "    seiseki2_data[\"授業\"].append(kamoku)\n",
        "    seiseki2_data[\"成績\"].append(score)\n",
        "\n",
        "    if lines[i].split(\"\\t\")[5] == \"1\":\n",
        "      one_unit_class.append(kamoku)\n",
        "\n",
        "\n",
        "def henkan():\n",
        "  henkan_data = []\n",
        "  for seiseki in seiseki2_data[\"成績\"]:\n",
        "    seiseki = seiseki.replace(\"秀\",\"4\").replace(\"優\",\"3\").replace(\"良\",\"2\").replace(\"可\",\"1\").replace(\"不可\",\"0\")\n",
        "    henkan_data.append(int(seiseki))\n",
        "\n",
        "  return henkan_data\n",
        "\n",
        "def goukei():\n",
        "  sum = 0\n",
        "  tani = 0\n",
        "  for i,kamoku in  enumerate(seiseki2_data[\"授業\"]):\n",
        "    if not kamoku in one_unit_class:\n",
        "      sum += 2*henkan_data[i]\n",
        "      tani += 2\n",
        "    else:\n",
        "      sum += henkan_data[i]\n",
        "      tani += 1\n",
        "  return sum,tani\n",
        "\n",
        "seiseki2_data = {\"授業\":[],\"成績\":[]}\n",
        "\n",
        "one_unit_class = []\n",
        "\n",
        "text_read()\n",
        "henkan_data = henkan()\n",
        "goukei_point,goukei_tani = goukei()\n",
        "print(f\"GPAは{round(goukei_point/goukei_tani,3)}です\")  # 四捨五入"
      ],
      "metadata": {
        "colab": {
          "base_uri": "https://localhost:8080/"
        },
        "id": "iQLbRm4N5Ku7",
        "outputId": "8fe066a6-32d4-46f3-d7a4-05dfd5c786f9"
      },
      "execution_count": null,
      "outputs": [
        {
          "output_type": "stream",
          "name": "stdout",
          "text": [
            "GPAは3.262です\n"
          ]
        }
      ]
    }
  ]
}