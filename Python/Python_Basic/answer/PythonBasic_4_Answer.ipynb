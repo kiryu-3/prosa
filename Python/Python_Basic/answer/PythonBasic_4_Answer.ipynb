{
  "nbformat": 4,
  "nbformat_minor": 0,
  "metadata": {
    "colab": {
      "provenance": []
    },
    "kernelspec": {
      "name": "python3",
      "display_name": "Python 3"
    },
    "language_info": {
      "name": "python"
    }
  },
  "cells": [
    {
      "cell_type": "markdown",
      "source": [
        "<a href=\"https://colab.research.google.com/github/kiryu-3/Prmn2023_DS/blob/main/Python/Python_Basic/answer/PythonBasic_4_Answer.ipynb\" target=\"_parent\"><img src=\"https://colab.research.google.com/assets/colab-badge.svg\" alt=\"Open In Colab\"/></a>"
      ],
      "metadata": {
        "id": "TA5kKi-LY1xg"
      }
    },
    {
      "cell_type": "markdown",
      "source": [
        "# 第4章 課題 解答例"
      ],
      "metadata": {
        "id": "r-kcfL2yEU8b"
      }
    },
    {
      "cell_type": "markdown",
      "source": [
        "## 課題1"
      ],
      "metadata": {
        "id": "-qZw_n3X8xrW"
      }
    },
    {
      "cell_type": "markdown",
      "source": [
        "リストの中身を指定した数で分割してみます。"
      ],
      "metadata": {
        "id": "vxwATeobQf_U"
      }
    },
    {
      "cell_type": "markdown",
      "source": [
        "以下のリストには都道府県47つが格納されています。  \n",
        "これをランダムに1つのリストのサイズを4として分割してください"
      ],
      "metadata": {
        "id": "tGPa1uU6Qs2c"
      }
    },
    {
      "cell_type": "markdown",
      "source": [
        "＜出力結果例＞  \n",
        "`[['宮崎県', '茨城県', '栃木県', '千葉県'], … , ['岩手県', '滋賀県', '宮城県']]`"
      ],
      "metadata": {
        "id": "7OduazcbYJGJ"
      }
    },
    {
      "cell_type": "code",
      "source": [
        "todohuken_list = [\n",
        "    '北海道', '青森県', '岩手県', '宮城県', '秋田県', '山形県', '福島県', '茨城県', '栃木県', '群馬県', \n",
        "    '埼玉県', '千葉県', '東京都', '神奈川県', '新潟県', '富山県', '石川県', '福井県', '山梨県', '長野県', \n",
        "    '岐阜県', '静岡県', '愛知県', '三重県', '滋賀県', '京都府', '大阪府', '兵庫県', '奈良県', '和歌山県', \n",
        "    '鳥取県', '島根県', '岡山県', '広島県', '山口県', '徳島県', '香川県', '愛媛県', '高知県',  '福岡県', \n",
        "    '佐賀県', '長崎県', '熊本県', '大分県', '宮崎県', '鹿児島県', '沖縄県',\n",
        "]"
      ],
      "metadata": {
        "id": "8ZdyRWbERGAY"
      },
      "execution_count": null,
      "outputs": []
    },
    {
      "cell_type": "code",
      "source": [
        "# 解答例\n",
        "import random\n",
        "random.shuffle(todohuken_list)\n",
        "\n",
        "chunked_list = list()\n",
        "chunk_size = 4\n",
        "\n",
        "for i in range(0, len(todohuken_list), chunk_size):\n",
        "    chunked_list.append(todohuken_list[i:i+chunk_size])\n",
        "\n",
        "print(chunked_list)"
      ],
      "metadata": {
        "colab": {
          "base_uri": "https://localhost:8080/"
        },
        "id": "rgPlOseCTC_h",
        "outputId": "37419eee-b127-4ac4-81f4-39bb3ea1bdae"
      },
      "execution_count": null,
      "outputs": [
        {
          "output_type": "stream",
          "name": "stdout",
          "text": [
            "[['宮崎県', '茨城県', '栃木県', '千葉県'], ['島根県', '和歌山県', '神奈川県', '沖縄県'], ['鳥取県', '秋田県', '岡山県', '長崎県'], ['愛媛県', '大分県', '熊本県', '富山県'], ['長野県', '石川県', '福島県', '高知県'], ['東京都', '山梨県', '埼玉県', '山口県'], ['愛知県', '群馬県', '京都府', '広島県'], ['福岡県', '徳島県', '山形県', '岐阜県'], ['大阪府', '新潟県', '青森県', '福井県'], ['鹿児島県', '兵庫県', '三重県', '佐賀県'], ['香川県', '奈良県', '静岡県', '北海道'], ['岩手県', '滋賀県', '宮城県']]\n"
          ]
        }
      ]
    },
    {
      "cell_type": "markdown",
      "source": [
        "参考リンクは[こちら](https://programmer-life.work/python/slice-list)"
      ],
      "metadata": {
        "id": "MccV_IYbZFYG"
      }
    },
    {
      "cell_type": "markdown",
      "source": [
        "## 課題2"
      ],
      "metadata": {
        "id": "tqmWMxCbPG14"
      }
    },
    {
      "cell_type": "markdown",
      "source": [
        "任意の誕生日を指定して、干支と星座を出力できるようにしてください"
      ],
      "metadata": {
        "id": "N4XZ06UqPG15"
      }
    },
    {
      "cell_type": "markdown",
      "source": [
        "以下のタプルと二次元リストをプログラムに必ず組み込んでください\n",
        "\n"
      ],
      "metadata": {
        "id": "g1VBOxolPlZQ"
      }
    },
    {
      "cell_type": "code",
      "source": [
        "junishi = (\"申\",\"酉\",\"戌\",\"亥\",\"子\",\"丑\",\"寅\",\"卯\",\"辰\",\"巳\",\"午\",\"未\")"
      ],
      "metadata": {
        "id": "9ML2MPiHPnnu"
      },
      "execution_count": null,
      "outputs": []
    },
    {
      "cell_type": "code",
      "source": [
        "# [星座名 , 星座始まり月 , 星座始まり日] というseizaリスト\n",
        "seiza = [    \n",
        "        [\"山羊座\", 12, 22] , [\"水瓶座\", 1, 20] , [\"魚座\", 2, 19] ,   \n",
        "        [\"牡羊座\", 3, 21] , [\"牡牛座\", 4, 20] , [\"双子座\", 5, 21] ,   \n",
        "        [\"双子座\", 5, 21] , [\"蟹座\", 6, 22] , [\"獅子座\", 7, 23] ,     \n",
        "        [\"獅子座\", 7, 23] , [\"乙女座\", 8, 23] , [\"天秤座\", 9, 23] , \n",
        "        [\"天秤座\", 9, 23] , [\"蠍座\", 10, 24] , [\"射手座\", 11, 23] ,          \n",
        "]"
      ],
      "metadata": {
        "id": "htmi0KS8QqPA"
      },
      "execution_count": null,
      "outputs": []
    },
    {
      "cell_type": "markdown",
      "source": [
        "＜例＞ 1998年4月1日生まれの場合  \n",
        "`1998年は寅年です`     \n",
        "`Chitoseさんの星座は牡羊座です`"
      ],
      "metadata": {
        "id": "CuiEHN91PG16"
      }
    },
    {
      "cell_type": "markdown",
      "source": [
        "＜hint＞ 西暦を12で割った余りによって、干支を割り出すことができます。  \n",
        "　　　　 上に示している`junishi`リストの要素番号が余りに対応しています。"
      ],
      "metadata": {
        "id": "HK6q98Q3Z0XP"
      }
    },
    {
      "cell_type": "markdown",
      "source": [
        "＜hint＞ ヒントではないですが、星座は以下の表のようにして分けられています。  \n",
        "\n",
        "|星座|日時|\n",
        "|:---| :--- |\n",
        "|山羊座|12/22~1/19|\n",
        "|水瓶座|1/20~2/18|\n",
        "|魚座|2/19~3/20|\n",
        "|牡羊座|3/21~4/19|\n",
        "|牡牛座|4/20~5/20|\n",
        "|双子座|5/21~6/21|\n",
        "|蟹座|6/22~7/22|\n",
        "|獅子座|7/23~8/22|\n",
        "|乙女座|8/23~9/22|\n",
        "|天秤座|9/23~10/23|\n",
        "|蠍座|10/24~11/22|\n",
        "|牡羊座|11/23~12/21|"
      ],
      "metadata": {
        "id": "glPkkMdYPG17"
      }
    },
    {
      "cell_type": "code",
      "source": [
        "# 解答例\n",
        "birth_year = 1998\n",
        "birth_month = 4\n",
        "birth_day = 1\n",
        "\n",
        "print(f\"{birth_year}年は{junishi[birth_year%12]}年です\")\n",
        "\n",
        "for i in range(len(seiza)):\n",
        "  if seiza[i][1] == birth_month:  # 星座始まり月と一致したら…\n",
        "    if birth_day >= seiza[i][2]:  # 誕生日が星座始まり日より後の場合\n",
        "      print(f\"Chitoseさんの星座は{seiza[i][0]}です\")\n",
        "      break\n",
        "    else:                         # 誕生日が星座始まり日より前の場合\n",
        "      print(f\"Chitoseさんの星座は{seiza[i-1][0]}です\")\n",
        "      break"
      ],
      "metadata": {
        "colab": {
          "base_uri": "https://localhost:8080/"
        },
        "id": "TlPcKsecTrbI",
        "outputId": "58d4ced5-185c-4760-81b0-47a5e1013a0a"
      },
      "execution_count": null,
      "outputs": [
        {
          "output_type": "stream",
          "name": "stdout",
          "text": [
            "1998年は寅年です\n",
            "Chitoseさんの星座は牡羊座です\n"
          ]
        }
      ]
    },
    {
      "cell_type": "markdown",
      "source": [
        "## 課題3"
      ],
      "metadata": {
        "id": "8yVz1RdGVw22"
      }
    },
    {
      "cell_type": "markdown",
      "source": [
        "これまで学んだ知識を使って、**ヒットアンドブロー**というゲームを作成してみましょう。  \n",
        "\n",
        "ルールはここでは以下の通りとします。  \n",
        "（参考：[AIZU ONLINE JUDGE](https://judge.u-aizu.ac.jp/onlinejudge/description.jsp?id=0226&lang=ja)）"
      ],
      "metadata": {
        "id": "2-wWATkmWHkE"
      }
    },
    {
      "cell_type": "markdown",
      "source": [
        "* 出題者(CPU)と回答者(USER)に分かれて行う。\n",
        "* 出題者は、**重複した数を含まない 4 桁の数字**(正解)を決める。\n",
        "* 回答者は、その 4 桁の数字(回答)を言い当てる。\n",
        "* 回答に対して、出題者は**ヒット**と**ブロー**の数でヒントを与える。正解までこれを繰り返す。\n"
      ],
      "metadata": {
        "id": "DXoRjyvZWAby"
      }
    },
    {
      "cell_type": "markdown",
      "source": [
        "**ヒット**：数と桁位置の両方が同じであること  \n",
        "**ブロー**：数だけが同じで桁位置が異なること"
      ],
      "metadata": {
        "id": "qfF0a3tiW-NY"
      }
    },
    {
      "cell_type": "markdown",
      "source": [
        "＜例＞ 解が `1234` で、回答が `1354` なら、出題者は「2 ヒット、1 ブロー」というヒントを与える。"
      ],
      "metadata": {
        "id": "ZSmJcfavXB-h"
      }
    },
    {
      "cell_type": "markdown",
      "source": [
        "＜hint＞以下の三点のエラー処理を行わないと、エラーが出る可能性があります。  \n",
        "\n",
        "* USERが整数以外の値を入力した場合\n",
        "* USERが4桁以外の整数以外を入力した場合\n",
        "* USERが重複した4桁の整数を入力した場合"
      ],
      "metadata": {
        "id": "y6H_0ZU5cmzF"
      }
    },
    {
      "cell_type": "markdown",
      "source": [
        "＜出力結果例＞  \n",
        "`数当てゲームを開始します`  \n",
        "`4桁の整数を入力してください`  \n",
        "`chitose`  \n",
        "`【エラー】4桁の整数を入力してください`  \n",
        "`12345`  \n",
        "`【エラー】4桁の整数を入力してください`  \n",
        "`1233`  \n",
        "`【エラー】重複のない4桁の整数を入力してください`  \n",
        "`1234`  \n",
        "`【1回目の解答】`  \n",
        "`1234は【1H、2B】です`  \n",
        "`不正解です`  \n",
        "\n",
        "`4桁の整数を入力してください`  \n",
        "`4732`  \n",
        "`【2回目の解答】`    \n",
        "`4732は【4H、0B】です`    \n",
        "`正解です！正解するまで2回かかりました`  "
      ],
      "metadata": {
        "id": "Fy6J0JJpqkK5"
      }
    },
    {
      "cell_type": "code",
      "source": [
        "# 解答例\n",
        "import random\n",
        "\n",
        "answer_list = random.sample(range(0,10),k=4)  # 重複のない4つの整数値が入ったリスト\n",
        "answer_count = 0    # 何回目かを表す変数\n",
        "\n",
        "input_num = input(\"数当てゲームを開始します\\n4桁の整数を入力してください\\n\")\n",
        "\n",
        "while True :\n",
        "  input_list = []  # USERの入力値を管理するリスト\n",
        "  hit_count = 0   # \"ヒット\"の数を数える\n",
        "  blow_count = 0  # #ブロー\"の数を数える\n",
        "\n",
        "  if (not input_num.isdigit()) or len(input_num)!=4 :  # 整数値以外の入力 または 4桁ではない整数の入力\n",
        "    input_num = input(\"【エラー】4桁の整数を入力してください\\n\")\n",
        "    continue  # エラーの場合は無限ループの最初から\n",
        "  else :\n",
        "      juhuku_flag = False  # 入力された整数値の桁が重複していた場合はTrue \n",
        "\n",
        "      # 入力された整数（文字列型）を整数に変換し、重複がなかった場合はリストに格納\n",
        "      for i in range(4):\n",
        "        if int(input_num[i]) in input_list :  # 入力値が重複してしまったらflagをTrueに\n",
        "          juhuku_flag = True\n",
        "          break\n",
        "        input_list.append(int(input_num[i]))\n",
        "\n",
        "      if juhuku_flag :\n",
        "        input_num = input(\"【エラー】重複のない4桁の整数を入力してください\\n\")\n",
        "        continue  # 重複が確認されたら無限ループの最初から\n",
        "\n",
        "      answer_count += 1  # 何回目の解答かをカウント\n",
        "      for i in range(4):\n",
        "        for j in range(4):\n",
        "          if i == j and answer_list[i] == input_list[j]:    # ヒットの場合\n",
        "            hit_count += 1\n",
        "          elif i != j and answer_list[i] == input_list[j]:  # ブローの場合\n",
        "            blow_count += 1 \n",
        "\n",
        "      print(f\"【{answer_count}回目の解答】\")\n",
        "      print(f\"{input_num}は【{hit_count}H、{blow_count}B】です\")\n",
        "      print(answer_list)\n",
        "      if hit_count == 4:  # ヒットの数を調べる\n",
        "        print(\"正解です！正解するまで{}回かかりました\".format(answer_count))\n",
        "        break  # 正解だった場合は無限ループから抜ける\n",
        "      else:\n",
        "        print(\"不正解です\\n\")\n",
        "        input_num = input(\"4桁の整数を入力してください\\n\")\n",
        "        continue  # 不正解だった場合は無限ループの最初から"
      ],
      "metadata": {
        "id": "mWIS2B2gdacc",
        "colab": {
          "base_uri": "https://localhost:8080/"
        },
        "outputId": "d16ccf0c-7627-4726-b009-ea8ce6a451c6"
      },
      "execution_count": 2,
      "outputs": [
        {
          "output_type": "stream",
          "name": "stdout",
          "text": [
            "数当てゲームを開始します\n",
            "4桁の整数を入力してください\n",
            "chitose\n",
            "【エラー】4桁の整数を入力してください\n",
            "12345\n",
            "【エラー】4桁の整数を入力してください\n",
            "1233\n",
            "【エラー】重複のない4桁の整数を入力してください\n",
            "1234\n",
            "【1回目の解答】\n",
            "1234は【1H、2B】です\n",
            "[4, 7, 3, 2]\n",
            "不正解です\n",
            "\n",
            "4桁の整数を入力してください\n",
            "4732\n",
            "【2回目の解答】\n",
            "4732は【4H、0B】です\n",
            "[4, 7, 3, 2]\n",
            "正解です！正解するまで2回かかりました\n"
          ]
        }
      ]
    }
  ]
}
