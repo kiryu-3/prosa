{
  "nbformat": 4,
  "nbformat_minor": 0,
  "metadata": {
    "colab": {
      "provenance": []
    },
    "kernelspec": {
      "name": "python3",
      "display_name": "Python 3"
    },
    "language_info": {
      "name": "python"
    }
  },
  "cells": [
    {
      "cell_type": "markdown",
      "source": [
        "<a href=\"https://colab.research.google.com/github/kiryu-3/Prmn2023_DS/blob/main/Python/Python_Basic/text/PythonBasic_9.ipynb\" target=\"_parent\"><img src=\"https://colab.research.google.com/assets/colab-badge.svg\" alt=\"Open In Colab\"/></a>"
      ],
      "metadata": {
        "id": "5wFfa5yJuSOe"
      }
    },
    {
      "cell_type": "markdown",
      "source": [
        "# オブジェクト指向2"
      ],
      "metadata": {
        "id": "j8N_kf74eH1y"
      }
    },
    {
      "cell_type": "markdown",
      "source": [
        "機能や状態を1つにまとめて**クラス**とし、  \n",
        "プログラムの内部構造をモノの集まりとしてとらえる考え方を**オブジェクト指向**といいます。"
      ],
      "metadata": {
        "id": "0bNRWsgX_ri8"
      }
    },
    {
      "cell_type": "markdown",
      "source": [
        "## 継承"
      ],
      "metadata": {
        "id": "5AXwUmTYzFoh"
      }
    },
    {
      "cell_type": "markdown",
      "source": [
        "「作成したクラスの機能を、別のクラスでも使いたい」といったときに、クラスの**継承**を使います。  \n",
        "他で作成したクラスのメソッドや値を受け継ぎつつ、メソッド等の編集・追加が行えるようになります。  "
      ],
      "metadata": {
        "id": "k2eXKLkTzzdn"
      }
    },
    {
      "cell_type": "markdown",
      "source": [
        "![リンクテキスト](https://imgur.com/i7DeqEb.png)"
      ],
      "metadata": {
        "id": "VpwsOQ6jz0G3"
      }
    },
    {
      "cell_type": "markdown",
      "source": [
        "継承されるクラスを**スーパークラス**（**親クラス**、**基底クラス**）、  \n",
        "継承するクラスを**サブクラス**（**子クラス**、**派生クラス**）といいます。\n",
        "\n",
        "スーパークラスの機能を引き継ぎ、サブクラスとして拡張することができます。"
      ],
      "metadata": {
        "id": "9lnY9VW70B2f"
      }
    },
    {
      "cell_type": "code",
      "source": [
        "class Animal():\n",
        "  def __init__(self, name):\n",
        "    self.name = name\n",
        "    print(\"動物です\")"
      ],
      "metadata": {
        "id": "8aIiIb__0s5m"
      },
      "execution_count": null,
      "outputs": []
    },
    {
      "cell_type": "markdown",
      "source": [
        "今回は上で定義した **`Animal`クラス** を親クラスとします。  \n",
        "\n",
        "`Animal`クラスを継承し、`Dog`クラスと`Cat`クラスを作成しましょう。"
      ],
      "metadata": {
        "id": "CSK84W8l0ra1"
      }
    },
    {
      "cell_type": "code",
      "source": [
        "class Dog(Animal):\n",
        "  pass\n",
        "\n",
        "class Cat(Animal):\n",
        "  pass"
      ],
      "metadata": {
        "id": "1gLiNaGf1Jyc"
      },
      "execution_count": null,
      "outputs": []
    },
    {
      "cell_type": "markdown",
      "source": [
        "では空クラス`Dog`クラスと`Cat`クラスを呼び出してみましょう。"
      ],
      "metadata": {
        "id": "hA74VrOs1Sws"
      }
    },
    {
      "cell_type": "code",
      "source": [
        "taro = Dog(\"Taro\")  # コンストラクタが実行された\n",
        "jiro = Cat(\"Jiro\")  # コンストラクタが実行された\n",
        "\n",
        "print(taro.name)  # 属性の呼び出し \n",
        "print(jiro.name)  # 属性の呼び出し "
      ],
      "metadata": {
        "colab": {
          "base_uri": "https://localhost:8080/"
        },
        "id": "ksQb0VbI1Tz8",
        "outputId": "92f82ee7-b126-4fd9-de95-c4f29463e557"
      },
      "execution_count": null,
      "outputs": [
        {
          "output_type": "stream",
          "name": "stdout",
          "text": [
            "動物です\n",
            "動物です\n",
            "Taro\n",
            "Jiro\n"
          ]
        }
      ]
    },
    {
      "cell_type": "markdown",
      "source": [
        "### super()関数"
      ],
      "metadata": {
        "id": "24P3YMoI5a4W"
      }
    },
    {
      "cell_type": "markdown",
      "source": [
        "今度はサブクラス内でもコンストラクタを定義してみましょう。"
      ],
      "metadata": {
        "id": "BJoHbPCs5gJ1"
      }
    },
    {
      "cell_type": "code",
      "source": [
        "class Animal():\n",
        "  def __init__(self, name):\n",
        "    self.name = name\n",
        "    print(\"動物です\")"
      ],
      "metadata": {
        "id": "C1E9yXSP5nLc"
      },
      "execution_count": null,
      "outputs": []
    },
    {
      "cell_type": "code",
      "source": [
        "class Dog(Animal):\n",
        "  def __init__(self, name):\n",
        "    self.name = name\n",
        "    print(\"犬です\")\n",
        "\n",
        "class Cat(Animal):\n",
        "  def __init__(self, name):\n",
        "    self.name = name\n",
        "    print(\"猫です\")"
      ],
      "metadata": {
        "id": "YW7UhASe5q6E"
      },
      "execution_count": null,
      "outputs": []
    },
    {
      "cell_type": "code",
      "source": [
        "taro = Dog(\"Taro\")  # サブクラスのコンストラクタが実行された\n",
        "jiro = Cat(\"Jiro\")  # サブクラスのコンストラクタが実行された\n",
        "\n",
        "print(taro.name)  # 属性の呼び出し \n",
        "print(jiro.name)  # 属性の呼び出し "
      ],
      "metadata": {
        "colab": {
          "base_uri": "https://localhost:8080/"
        },
        "id": "IQuF9iBv5xis",
        "outputId": "66600067-65aa-441d-99c8-0562f5e206d3"
      },
      "execution_count": null,
      "outputs": [
        {
          "output_type": "stream",
          "name": "stdout",
          "text": [
            "犬です\n",
            "猫です\n",
            "Taro\n",
            "Jiro\n"
          ]
        }
      ]
    },
    {
      "cell_type": "markdown",
      "source": [
        "今回はサブクラスのコンストラクタが優先されたため、  \n",
        "スーパークラスのコンストラクタは実行されませんでした。"
      ],
      "metadata": {
        "id": "_L1YMUfU53WE"
      }
    },
    {
      "cell_type": "markdown",
      "source": [
        "この問題は、**super()関数**を使うことで解消できます。\n",
        "\n",
        "![リンクテキスト](https://imgur.com/o8NC1en.png)"
      ],
      "metadata": {
        "id": "v2C8StXl5-_s"
      }
    },
    {
      "cell_type": "markdown",
      "source": [
        "では実際に組み込んでみましょう。"
      ],
      "metadata": {
        "id": "ydqZH1it61_C"
      }
    },
    {
      "cell_type": "code",
      "source": [
        "class Dog(Animal):\n",
        "  def __init__(self, name):\n",
        "    super().__init__(name=name)  # super()関数\n",
        "    print(\"犬です\")\n",
        "\n",
        "class Cat(Animal):\n",
        "  def __init__(self, name):\n",
        "    super().__init__(name=name)  # super()関数\n",
        "    print(\"猫です\")"
      ],
      "metadata": {
        "id": "VgV6h0A-64dK"
      },
      "execution_count": null,
      "outputs": []
    },
    {
      "cell_type": "code",
      "source": [
        "taro = Dog(\"Taro\")  # 両方のコンストラクタが実行された\n",
        "jiro = Cat(\"Jiro\")  # 両方のコンストラクタが実行された\n",
        "\n",
        "print(taro.name)  # 属性の呼び出し \n",
        "print(jiro.name)  # 属性の呼び出し "
      ],
      "metadata": {
        "colab": {
          "base_uri": "https://localhost:8080/"
        },
        "id": "2cCzmhib7D_i",
        "outputId": "2cbe5672-f9b9-4ead-aa49-1ecf479b229f"
      },
      "execution_count": null,
      "outputs": [
        {
          "output_type": "stream",
          "name": "stdout",
          "text": [
            "動物です\n",
            "犬です\n",
            "動物です\n",
            "猫です\n",
            "Taro\n",
            "Jiro\n"
          ]
        }
      ]
    },
    {
      "cell_type": "markdown",
      "source": [
        "スーパークラスとサブクラス、どちらのコンストラクタも呼び出すことができました。\n",
        "\n",
        "サブクラスでは、スーパークラスで定義したメソッドの後に  \n",
        "何か追加した処理を書くことができると分かります。"
      ],
      "metadata": {
        "id": "oi3mvDuE7Lay"
      }
    },
    {
      "cell_type": "markdown",
      "source": [
        "### オーバーライド"
      ],
      "metadata": {
        "id": "X8mYXCz2K_cn"
      }
    },
    {
      "cell_type": "markdown",
      "source": [
        "スーパークラスのメソッドを、サブクラス用に書き換える/追加することができます。  \n",
        "これを**オーバーライド**といいます。 \n",
        "\n",
        "同名のメソッドを定義することで実現できます。"
      ],
      "metadata": {
        "id": "PD-Z7-5lJbT5"
      }
    },
    {
      "cell_type": "markdown",
      "source": [
        "先ほどの例も実はオーバーライドです。  \n",
        "\n",
        "コンストラクタは`Animal`クラスでも`Dog`クラスでも名前は同じです。  \n",
        "サブクラス内で新しくコンストラクタを定義することで、スーパークラスのメソッドを書き換えていたといえます。"
      ],
      "metadata": {
        "id": "_TwyuvcULBEO"
      }
    },
    {
      "cell_type": "markdown",
      "source": [
        "オーバーライドのメリットは以下の通りです。  \n",
        "\n",
        "* 変更したいメソッドを記述し直すだけで済む  （属性や他のメソッドを書き直す必要がない）  \n",
        "* 複数のメソッド名を定義する必要がなくなる  \n",
        "\n",
        "大規模な開発になったときに、オーバーライドの恩恵が大きくなってきます。  "
      ],
      "metadata": {
        "id": "OZm6pKeyL0ml"
      }
    }
  ]
}