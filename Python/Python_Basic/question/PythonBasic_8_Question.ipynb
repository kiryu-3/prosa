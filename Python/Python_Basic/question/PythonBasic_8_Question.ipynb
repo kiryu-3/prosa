{
  "nbformat": 4,
  "nbformat_minor": 0,
  "metadata": {
    "colab": {
      "provenance": []
    },
    "kernelspec": {
      "name": "python3",
      "display_name": "Python 3"
    },
    "language_info": {
      "name": "python"
    }
  },
  "cells": [
    {
      "cell_type": "markdown",
      "source": [
        "<a href=\"https://colab.research.google.com/github/kiryu-3/Prmn2023_DS/blob/main/Python/Python_Basic/answer/PythonBasic_6_Answer.ipynb\" target=\"_parent\"><img src=\"https://colab.research.google.com/assets/colab-badge.svg\" alt=\"Open In Colab\"/></a>"
      ],
      "metadata": {
        "id": "IoLAPliGuLZM"
      }
    },
    {
      "cell_type": "markdown",
      "source": [
        "# オブジェクト指向1 課題"
      ],
      "metadata": {
        "id": "ZFQrSJHsZEns"
      }
    },
    {
      "cell_type": "markdown",
      "source": [
        "## 課題1"
      ],
      "metadata": {
        "id": "1DGEULJlZLkL"
      }
    },
    {
      "cell_type": "markdown",
      "source": [
        "以下の要件を満たすクラスを作成してください"
      ],
      "metadata": {
        "id": "he1ry54qZP56"
      }
    },
    {
      "cell_type": "markdown",
      "source": [
        "**指示**\n",
        "* moveメソッド内で「歩いたよ」と出力するInsectクラスを作る  \n",
        "* moveメソッド内で「飛んだよ」と出力するButterflyクラスを作る   \n",
        "* moveメソッド内で「跳んだよ」と出力するLocustクラスを作る \n",
        "* moveメソッド内で「綺麗に飛んだよ」と出力するSwallowtailButterflyクラスを作る  \n",
        "\n",
        "4つのクラスのインスタンスをリストInsectListに格納してください。  \n",
        "その後、格納した4つのインスタンスからmoveメソッドを呼び出してください。\n",
        "\n"
      ],
      "metadata": {
        "id": "PkJ0b9znZUMi"
      }
    },
    {
      "cell_type": "code",
      "source": [
        "# 入力用\n"
      ],
      "metadata": {
        "id": "p1fSdDIhrYbf"
      },
      "execution_count": null,
      "outputs": []
    },
    {
      "cell_type": "markdown",
      "source": [
        "## 課題2\n",
        "\n"
      ],
      "metadata": {
        "id": "sxV6gRm8djFh"
      }
    },
    {
      "cell_type": "markdown",
      "source": [
        "以下の要件を満たすクラスを作成してください"
      ],
      "metadata": {
        "id": "AXc3PV3ddkyJ"
      }
    },
    {
      "cell_type": "markdown",
      "source": [
        "\n",
        "**指示**\n",
        " * クラス名は Car、属性として変数fuelを持つ\n",
        " * 引数なしコンストラクタでfuelを0で初期化する\n",
        " * メソッドとして戻り値、引数無しのrun() を持つ\n",
        " * run()メソッドではfuelを1消費して、走ったことが分かる文言を表示させる\n",
        "     \t  (例:  \"燃料を1消費して走りました。\")  \n",
        " * fuelが0以下の時走れなかったことが分かる文言を表示させる\n",
        "        \n",
        "Carに給油をするGasStationクラスを作成してください  \n",
        "* クラス名はGasStation、コンストラクタ無し\n",
        "* refuel()メソッドを持つ\n",
        "* refuel()ではCarのfuelを20増やす\n",
        "* refuel()では給油したことが分かる文言を表示する\n",
        "\n",
        "CarとGasStationをインスタンス化し、GasStationで給油をする前と後でCarのrun()を呼び出してください"
      ],
      "metadata": {
        "id": "kvvx9u5Kdh8i"
      }
    },
    {
      "cell_type": "markdown",
      "source": [
        "＜実行結果例＞\n",
        "\n",
        "```\n",
        "燃料が足りないため走れませんでした。\n",
        "給油したことによりfuelが20増えました。\n",
        "燃料を1消費して走りました。\n",
        "```"
      ],
      "metadata": {
        "id": "RNXwj-VBeFPQ"
      }
    },
    {
      "cell_type": "code",
      "source": [
        "# 入力用\n"
      ],
      "metadata": {
        "id": "jpQTz1Kxra7P"
      },
      "execution_count": null,
      "outputs": []
    },
    {
      "cell_type": "markdown",
      "source": [
        "## 課題3"
      ],
      "metadata": {
        "id": "GCHVpQ4aV_UR"
      }
    },
    {
      "cell_type": "markdown",
      "source": [
        "以下の要件を満たすクラスを作成してください"
      ],
      "metadata": {
        "id": "ECrnt9e5WJSc"
      }
    },
    {
      "cell_type": "markdown",
      "source": [
        "**指示**\n",
        "\n",
        "口座情報を管理するAccountクラスを作成してください\n",
        " * name（名前）, number（口座番号）, balance（残高）を属性にもつ\n",
        " * コンストラクタでは、balanceを0で初期化する\n",
        "\n",
        "銀行でのお金のやり取りを行うATMクラスを作成してください\n",
        " * ATMのコンストラクタでAccountのインスタンスを管理するaccountsを初期化する\n",
        " * register_account()メソッドではアカウントを登録する  \n",
        " この中でAccountクラスをnameとnubmerを引数としてインスタンス化する\n",
        " * exists_account()メソッドは引数のnameとnumberから  \n",
        "   accountsに存在するかどうかをbooleanで返す\n",
        " * deposit()メソッドでは引数のmoneyを使って入金を行う\n",
        " * withdraw()メソッドでは引数のmoneyを使って引出を行う  \n",
        " 残高が足りないときには行えないようにする\n",
        "        \n",
        "それぞれ何か行うたびに、何をしたか分かるように標準出力で表示するようにしてください"
      ],
      "metadata": {
        "id": "SA6Tbw_lXehC"
      }
    },
    {
      "cell_type": "markdown",
      "source": [
        "＜実行結果例＞\n",
        "\n",
        "```\n",
        "名前:千歳太郎 口座番号:12345 は存在しません。\n",
        "千歳太郎 さんのアカウントを口座番号:12345 で登録しました。\n",
        "名前:千歳太郎 口座番号:12345 は存在します。\n",
        "口座番号:12345 に1000 円入金しました。\n",
        "口座番号:12345 から2000 円引き出せませんでした。残高:1000 円です。\n",
        "口座番号:12345 から500 円引き出しました。残高:500 円です。\n",
        "```"
      ],
      "metadata": {
        "id": "0zUHE9eHe5-Z"
      }
    },
    {
      "cell_type": "code",
      "source": [
        "# 入力用\n"
      ],
      "metadata": {
        "id": "ckaSfHW4rbt-"
      },
      "execution_count": null,
      "outputs": []
    }
  ]
}