{
  "nbformat": 4,
  "nbformat_minor": 0,
  "metadata": {
    "colab": {
      "provenance": []
    },
    "kernelspec": {
      "name": "python3",
      "display_name": "Python 3"
    },
    "language_info": {
      "name": "python"
    }
  },
  "cells": [
    {
      "cell_type": "markdown",
      "source": [
        "<a href=\"https://colab.research.google.com/github/kiryu-3/Prmn2023_DS/blob/main/Python/Python_Basic/question/PythonBasic_5_Question.ipynb\" target=\"_parent\"><img src=\"https://colab.research.google.com/assets/colab-badge.svg\" alt=\"Open In Colab\"/></a>"
      ],
      "metadata": {
        "id": "TA5kKi-LY1xg"
      }
    },
    {
      "cell_type": "markdown",
      "source": [
        "# 第5章 課題"
      ],
      "metadata": {
        "id": "r-kcfL2yEU8b"
      }
    },
    {
      "cell_type": "markdown",
      "source": [
        "## 課題1"
      ],
      "metadata": {
        "id": "-qZw_n3X8xrW"
      }
    },
    {
      "cell_type": "markdown",
      "source": [
        "共通のキーを持つ辞書を要素とするリストから、特定のキーの値のリストを取得してみます。"
      ],
      "metadata": {
        "id": "vxwATeobQf_U"
      }
    },
    {
      "cell_type": "markdown",
      "source": [
        "以下のリストから、都道府県コード・都道府県・県庁所在地それぞれのリストを作成してください\n",
        "\n",
        "キーが存在しないところがある点に注意してください"
      ],
      "metadata": {
        "id": "tGPa1uU6Qs2c"
      }
    },
    {
      "cell_type": "code",
      "source": [
        "todohuken_data = [{\"コード\": 24, \"都道府県\": \"三重\", \"県庁所在地\": \"津\"},\n",
        "                  {\"コード\": 25, \"都道府県\": \"滋賀\", \"県庁所在地\": \"大津\"},\n",
        "                  {\"コード\": 31, \"都道府県\": \"鳥取\"},\n",
        "                  {\"コード\": 32, \"都道府県\": \"島根\", \"県庁所在地\": \"松江\"},\n",
        "                  {\"コード\": 37, \"都道府県\": \"香川\", \"県庁所在地\": \"高松\"},\n",
        "                  {\"コード\": 38, \"都道府県\": \"愛媛\", \"県庁所在地\": \"松山\"},]"
      ],
      "metadata": {
        "id": "8ZdyRWbERGAY"
      },
      "execution_count": null,
      "outputs": []
    },
    {
      "cell_type": "markdown",
      "source": [
        "＜出力結果例＞  \n",
        "`[24, 25, 31, 32, 37, 38]`  \n",
        "`['三重', '滋賀', '鳥取', '島根', '香川', '愛媛']`  \n",
        "`['津', '大津', None, '松江', '高松', '松山']`"
      ],
      "metadata": {
        "id": "dQ2n3OMSUXh2"
      }
    },
    {
      "cell_type": "code",
      "source": [
        "# 入力用\n"
      ],
      "metadata": {
        "id": "duwCERgQUify"
      },
      "execution_count": null,
      "outputs": []
    },
    {
      "cell_type": "markdown",
      "source": [
        "## 課題2"
      ],
      "metadata": {
        "id": "tqmWMxCbPG14"
      }
    },
    {
      "cell_type": "markdown",
      "source": [
        "第4章課題2では以下のタプルと二次元リストを扱いました。"
      ],
      "metadata": {
        "id": "N4XZ06UqPG15"
      }
    },
    {
      "cell_type": "code",
      "source": [
        "junishi = (\"申\",\"酉\",\"戌\",\"亥\",\"子\",\"丑\",\"寅\",\"卯\",\"辰\",\"巳\",\"午\",\"未\")"
      ],
      "metadata": {
        "id": "DoSdJJ94D8ER"
      },
      "execution_count": null,
      "outputs": []
    },
    {
      "cell_type": "code",
      "source": [
        "# [星座名 , 星座始まり月 , 星座始まり日] というseizaリスト\n",
        "seiza = [    \n",
        "        [\"山羊座\", 12, 22] , [\"水瓶座\", 1, 20] , [\"魚座\", 2, 19] ,   \n",
        "        [\"牡羊座\", 3, 21] , [\"牡牛座\", 4, 20] , [\"双子座\", 5, 21] ,   \n",
        "        [\"双子座\", 5, 21] , [\"蟹座\", 6, 22] , [\"獅子座\", 7, 23] ,     \n",
        "        [\"獅子座\", 7, 23] , [\"乙女座\", 8, 23] , [\"天秤座\", 9, 23] , \n",
        "        [\"天秤座\", 9, 23] , [\"蠍座\", 10, 24] , [\"射手座\", 11, 23] ,          \n",
        "]"
      ],
      "metadata": {
        "id": "hbUQN8xyD9-A"
      },
      "execution_count": null,
      "outputs": []
    },
    {
      "cell_type": "markdown",
      "source": [
        "これらからデータを抽出し  \n",
        "以下の例のようにして新たなディクショナリに格納してください\n",
        "\n"
      ],
      "metadata": {
        "id": "S5H4q-6mPG16"
      }
    },
    {
      "cell_type": "code",
      "source": [
        "\"\"\"\n",
        "十二支のディクショナリを作る例\n",
        "キーが \"12で割ったときの余り\" 、値が \"干支\" のディクショナリ\n",
        "\"\"\"\n",
        "example_dic = {0 : \"A\", 1 : \"B\", 2 : \"C\"}"
      ],
      "metadata": {
        "id": "0vyU1qOcF-bu"
      },
      "execution_count": null,
      "outputs": []
    },
    {
      "cell_type": "code",
      "source": [
        "\"\"\"\n",
        "星座のディクショナリを作る例\n",
        "星座と日付のリストを値とするディクショナリ\n",
        "\"\"\"\n",
        "example2_dic = {\"星座\"：[\"A\", \"B\", \"C\"],\n",
        "                \"月\"：[12, 1, 2],\n",
        "                \"日\"：[22, 20, 19]\n",
        "                }"
      ],
      "metadata": {
        "id": "ex0jMge_GxOF"
      },
      "execution_count": null,
      "outputs": []
    },
    {
      "cell_type": "markdown",
      "source": [
        "そのディクショナリをもとに、任意の誕生日を指定して、干支と星座を出力できるようにしてください"
      ],
      "metadata": {
        "id": "mEKZ2w1wHZK5"
      }
    },
    {
      "cell_type": "markdown",
      "source": [
        "＜例＞ 1998年4月1日生まれの場合  \n",
        "`1998年は寅年です`     \n",
        "`Chitoseさんの星座は牡羊座です`"
      ],
      "metadata": {
        "id": "CuiEHN91PG16"
      }
    },
    {
      "cell_type": "markdown",
      "source": [
        "＜hint＞ 西暦を12で割った余りによって、干支を割り出すことができます。  \n",
        "　　　　 上に示している`junishi`リストの要素番号が余りに対応しています。"
      ],
      "metadata": {
        "id": "cq8TCUuFZ1e8"
      }
    },
    {
      "cell_type": "markdown",
      "source": [
        "＜hint＞ ヒントではないですが、星座は以下の表のようにして分けられています。  \n",
        "\n",
        "|星座|日時|\n",
        "|:---| :--- |\n",
        "|山羊座|12/22~1/19|\n",
        "|水瓶座|1/20~2/18|\n",
        "|魚座|2/19~3/20|\n",
        "|牡羊座|3/21~4/19|\n",
        "|牡牛座|4/20~5/20|\n",
        "|双子座|5/21~6/21|\n",
        "|蟹座|6/22~7/22|\n",
        "|獅子座|7/23~8/22|\n",
        "|乙女座|8/23~9/22|\n",
        "|天秤座|9/23~10/23|\n",
        "|蠍座|10/24~11/22|\n",
        "|牡羊座|11/23~12/21|"
      ],
      "metadata": {
        "id": "glPkkMdYPG17"
      }
    },
    {
      "cell_type": "markdown",
      "source": [
        "＜hint＞ enumerate関数とリストの内包表記を使うときれいに書けるかもです"
      ],
      "metadata": {
        "id": "wdLvw95Ub2-3"
      }
    },
    {
      "cell_type": "code",
      "source": [
        "# 入力用\n"
      ],
      "metadata": {
        "id": "WOS_236wl5W0"
      },
      "execution_count": null,
      "outputs": []
    },
    {
      "cell_type": "markdown",
      "source": [
        "## 課題3"
      ],
      "metadata": {
        "id": "KZKacX4bAmFS"
      }
    },
    {
      "cell_type": "markdown",
      "source": [
        "前回の課題3で作った**ヒットアンドブロー**に少し変更を加えます。"
      ],
      "metadata": {
        "id": "ayOcPJpbAnbK"
      }
    },
    {
      "cell_type": "markdown",
      "source": [
        "* 以下のディクショナリをプログラムに組み込む  \n",
        "* 入力された整数値の重複判定を**`set`関数**を使って行う"
      ],
      "metadata": {
        "id": "X43-MijrBCUU"
      }
    },
    {
      "cell_type": "code",
      "source": [
        "# カウントする変数を一つにまとめたディクショナリ\n",
        "count = {\"answer\" : 0 ,  # プレイ回数をカウント \n",
        "         \"hit\" : 0 ,     # ヒット数をカウント\n",
        "         \"blow\": 0       # ブロー数をカウント\n",
        "         }\n",
        "print(\"{}\".format(count[\"answer\"]))"
      ],
      "metadata": {
        "colab": {
          "base_uri": "https://localhost:8080/"
        },
        "id": "WoZPyPQvBfs5",
        "outputId": "94a05096-a142-46f6-c045-87da0a437467"
      },
      "execution_count": null,
      "outputs": [
        {
          "output_type": "stream",
          "name": "stdout",
          "text": [
            "0\n"
          ]
        }
      ]
    },
    {
      "cell_type": "markdown",
      "source": [
        "＜出力結果例＞  \n",
        "`数当てゲームを開始します`  \n",
        "`4桁の整数を入力してください`  \n",
        "`chitose`  \n",
        "`【エラー】4桁の整数を入力してください`  \n",
        "`12345`  \n",
        "`【エラー】4桁の整数を入力してください`  \n",
        "`1233`  \n",
        "`【エラー】重複のない4桁の整数を入力してください`  \n",
        "`1234`  \n",
        "`【1回目の解答】`  \n",
        "`1234は【1H、2B】です`  \n",
        "`不正解です`  \n",
        "\n",
        "`4桁の整数を入力してください`  \n",
        "`4732`  \n",
        "`【2回目の解答】`    \n",
        "`4732は【4H、0B】です`    \n",
        "`正解です！正解するまで2回かかりました` "
      ],
      "metadata": {
        "id": "bLtS80UwriAd"
      }
    },
    {
      "cell_type": "code",
      "source": [
        "# 入力用\n"
      ],
      "metadata": {
        "id": "cCV0dMV4Kj0h"
      },
      "execution_count": null,
      "outputs": []
    }
  ]
}
