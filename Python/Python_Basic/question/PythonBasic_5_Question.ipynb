{
  "nbformat": 4,
  "nbformat_minor": 0,
  "metadata": {
    "colab": {
      "provenance": [],
      "authorship_tag": "ABX9TyO8o4wdeg+Z+tZSRyrUS9wV",
      "include_colab_link": true
    },
    "kernelspec": {
      "name": "python3",
      "display_name": "Python 3"
    },
    "language_info": {
      "name": "python"
    }
  },
  "cells": [
    {
      "cell_type": "markdown",
      "metadata": {
        "id": "view-in-github",
        "colab_type": "text"
      },
      "source": [
        "<a href=\"https://colab.research.google.com/github/kiryu-3/Prmn2023_DS/blob/main/Python/Python_Basic/question/PythonBasic_5_Question.ipynb\" target=\"_parent\"><img src=\"https://colab.research.google.com/assets/colab-badge.svg\" alt=\"Open In Colab\"/></a>"
      ]
    },
    {
      "cell_type": "markdown",
      "source": [
        "# 第5章 課題"
      ],
      "metadata": {
        "id": "r-kcfL2yEU8b"
      }
    },
    {
      "cell_type": "markdown",
      "source": [
        "## 課題1"
      ],
      "metadata": {
        "id": "aCHnVQYGI93R"
      }
    },
    {
      "cell_type": "markdown",
      "source": [
        "任意の誕生日を指定して、干支を出力できるようにしてください"
      ],
      "metadata": {
        "id": "D096JHGuI7Hd"
      }
    },
    {
      "cell_type": "markdown",
      "source": [
        "以下のディクショナリをプログラムに必ず組み込んでください\n",
        "\n"
      ],
      "metadata": {
        "id": "X1STtVMTJB9T"
      }
    },
    {
      "cell_type": "code",
      "source": [
        "# キーが\"12で割ったときの余り\"、値が\"干支\"のディクショナリ\n",
        "junishi = { 0 : \"申\" , 1 : \"酉\" , 2 : \"戌\", 3 : \"亥\",\n",
        "            4 : \"子\" , 5 : \"丑\" , 6 : \"寅\", 7 : \"卯\",\n",
        "            8 : \"辰\" , 9 : \"巳\" , 10 : \"午\", 11 : \"未\",\n",
        "           }"
      ],
      "metadata": {
        "id": "rJTo3W0xhOnu"
      },
      "execution_count": null,
      "outputs": []
    },
    {
      "cell_type": "markdown",
      "source": [
        "＜例＞ 1998年4月1日生まれの場合  \n",
        "`1998年は24歳です`"
      ],
      "metadata": {
        "id": "LZkrNgzoObXH"
      }
    },
    {
      "cell_type": "markdown",
      "source": [
        "＜hint＞ 西暦を12で割った余りによって、干支を割り出すことができます。  \n",
        "上に示している`junishi`リストの要素番号が余りに対応しています。"
      ],
      "metadata": {
        "id": "AEN-B791Mxis"
      }
    },
    {
      "cell_type": "code",
      "source": [
        "# 入力用\n"
      ],
      "metadata": {
        "id": "y0t2uGoDODix"
      },
      "execution_count": null,
      "outputs": []
    },
    {
      "cell_type": "markdown",
      "source": [
        "## 課題2"
      ],
      "metadata": {
        "id": "tqmWMxCbPG14"
      }
    },
    {
      "cell_type": "markdown",
      "source": [
        "任意の誕生日を指定して、星座を出力できるようにしてください"
      ],
      "metadata": {
        "id": "N4XZ06UqPG15"
      }
    },
    {
      "cell_type": "markdown",
      "source": [
        "以下のディクショナリをプログラムに必ず組み込んでください\n",
        "\n"
      ],
      "metadata": {
        "id": "S5H4q-6mPG16"
      }
    },
    {
      "cell_type": "code",
      "source": [
        "# 星座と日付のリストを値とするディクショナリ\n",
        "seiza_dic = {\"星座\" : [\"山羊座\",\"水瓶座\",\"魚座\",\"牡羊座\",\"牡牛座\",\"双子座\",\n",
        "                       \"蟹座\",\"獅子座\",\"乙女座\",\"天秤座\",\"蠍座\",\"射手座\"],\n",
        "             \"月\":[12 , 1 , 2 , 3 , 4 , 5 , 6 , 7 , 8 , 9 , 10 , 11],\n",
        "             \"日\":[22 , 20 , 19 , 21 , 20 , 21 , 22 , 23 , 23 , 23 , 24 , 23]\n",
        "             } "
      ],
      "metadata": {
        "id": "GAPt3chF7euQ"
      },
      "execution_count": null,
      "outputs": []
    },
    {
      "cell_type": "markdown",
      "source": [
        "＜例＞ 1998年4月1日生まれの場合  \n",
        "`1998年は24歳です`"
      ],
      "metadata": {
        "id": "CuiEHN91PG16"
      }
    },
    {
      "cell_type": "markdown",
      "source": [
        "＜hint＞ ヒントではないですが、星座は以下の表のようにして分けられています。  \n",
        "\n",
        "|星座|日時|\n",
        "|:---| :--- |\n",
        "|山羊座|12/22~1/19|\n",
        "|水瓶座|1/20~2/18|\n",
        "|魚座|2/19~3/20|\n",
        "|牡羊座|3/21~4/19|\n",
        "|牡牛座|4/20~5/20|\n",
        "|双子座|5/21~6/21|\n",
        "|蟹座|6/22~7/22|\n",
        "|獅子座|7/23~8/22|\n",
        "|乙女座|8/23~9/22|\n",
        "|天秤座|9/23~10/23|\n",
        "|蠍座|10/24~11/22|\n",
        "|牡羊座|11/23~12/21|"
      ],
      "metadata": {
        "id": "glPkkMdYPG17"
      }
    },
    {
      "cell_type": "code",
      "source": [
        "# 入力用\n"
      ],
      "metadata": {
        "id": "WOS_236wl5W0"
      },
      "execution_count": null,
      "outputs": []
    },
    {
      "cell_type": "markdown",
      "source": [
        "## 課題3"
      ],
      "metadata": {
        "id": "KZKacX4bAmFS"
      }
    },
    {
      "cell_type": "markdown",
      "source": [
        "前回の課題3で作った**ヒットアンドブロー**に少し変更を加えます。"
      ],
      "metadata": {
        "id": "ayOcPJpbAnbK"
      }
    },
    {
      "cell_type": "markdown",
      "source": [
        "* 以下のディクショナリをプログラムに組み込む  \n",
        "* 入力された整数値の重複判定を**`set`関数**を使って行う"
      ],
      "metadata": {
        "id": "X43-MijrBCUU"
      }
    },
    {
      "cell_type": "code",
      "source": [
        "# カウントする変数を一つにまとめたディクショナリ\n",
        "count = {\"answer\" : 0 ,  # プレイ回数をカウント 不要な人は追加しない \n",
        "         \"hit\" : 0 ,     # ヒット数をカウント\n",
        "         \"blow\": 0       # ブロー数をカウント\n",
        "         }\n",
        "print(\"{}\".format(count[\"answer\"]))"
      ],
      "metadata": {
        "colab": {
          "base_uri": "https://localhost:8080/"
        },
        "id": "WoZPyPQvBfs5",
        "outputId": "94a05096-a142-46f6-c045-87da0a437467"
      },
      "execution_count": null,
      "outputs": [
        {
          "output_type": "stream",
          "name": "stdout",
          "text": [
            "0\n"
          ]
        }
      ]
    },
    {
      "cell_type": "code",
      "source": [
        "# 入力用\n"
      ],
      "metadata": {
        "id": "cCV0dMV4Kj0h"
      },
      "execution_count": null,
      "outputs": []
    }
  ]
}