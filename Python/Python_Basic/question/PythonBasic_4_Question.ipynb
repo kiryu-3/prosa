{
  "nbformat": 4,
  "nbformat_minor": 0,
  "metadata": {
    "colab": {
      "provenance": []
    },
    "kernelspec": {
      "name": "python3",
      "display_name": "Python 3"
    },
    "language_info": {
      "name": "python"
    }
  },
  "cells": [
    {
      "cell_type": "markdown",
      "source": [
        "<a href=\"https://colab.research.google.com/github/kiryu-3/Prmn2023_DS/blob/main/Python/Python_Basic/question/PythonBasic_4_Question.ipynb\" target=\"_parent\"><img src=\"https://colab.research.google.com/assets/colab-badge.svg\" alt=\"Open In Colab\"/></a>"
      ],
      "metadata": {
        "id": "TA5kKi-LY1xg"
      }
    },
    {
      "cell_type": "markdown",
      "source": [
        "# 第4章 課題"
      ],
      "metadata": {
        "id": "r-kcfL2yEU8b"
      }
    },
    {
      "cell_type": "markdown",
      "source": [
        "## 課題1"
      ],
      "metadata": {
        "id": "-qZw_n3X8xrW"
      }
    },
    {
      "cell_type": "markdown",
      "source": [
        "リストの中身を指定した数で分割してみます。"
      ],
      "metadata": {
        "id": "vxwATeobQf_U"
      }
    },
    {
      "cell_type": "markdown",
      "source": [
        "以下のリストには都道府県47つが格納されています。  \n",
        "これをランダムに1つのリストのサイズを4として分割してください"
      ],
      "metadata": {
        "id": "tGPa1uU6Qs2c"
      }
    },
    {
      "cell_type": "markdown",
      "source": [
        "＜出力結果例＞  \n",
        "`[['宮崎県', '茨城県', '栃木県', '千葉県'], … , ['岩手県', '滋賀県', '宮城県']]`"
      ],
      "metadata": {
        "id": "PWLTwz0TXzm_"
      }
    },
    {
      "cell_type": "code",
      "source": [
        "todohuken_list = [\n",
        "    '北海道', '青森県', '岩手県', '宮城県', '秋田県', '山形県', '福島県', '茨城県', '栃木県', '群馬県', \n",
        "    '埼玉県', '千葉県', '東京都', '神奈川県', '新潟県', '富山県', '石川県', '福井県', '山梨県', '長野県', \n",
        "    '岐阜県', '静岡県', '愛知県', '三重県', '滋賀県', '京都府', '大阪府', '兵庫県', '奈良県', '和歌山県', \n",
        "    '鳥取県', '島根県', '岡山県', '広島県', '山口県', '徳島県', '香川県', '愛媛県', '高知県',  '福岡県', \n",
        "    '佐賀県', '長崎県', '熊本県', '大分県', '宮崎県', '鹿児島県', '沖縄県',\n",
        "]"
      ],
      "metadata": {
        "id": "8ZdyRWbERGAY"
      },
      "execution_count": null,
      "outputs": []
    },
    {
      "cell_type": "code",
      "source": [
        "# 入力用\n"
      ],
      "metadata": {
        "id": "rgPlOseCTC_h"
      },
      "execution_count": null,
      "outputs": []
    },
    {
      "cell_type": "markdown",
      "source": [
        "## 課題2"
      ],
      "metadata": {
        "id": "tqmWMxCbPG14"
      }
    },
    {
      "cell_type": "markdown",
      "source": [
        "任意の誕生日を指定して、干支と星座を出力できるようにしてください"
      ],
      "metadata": {
        "id": "N4XZ06UqPG15"
      }
    },
    {
      "cell_type": "markdown",
      "source": [
        "以下のタプルと二次元リストをプログラムに必ず組み込んでください\n",
        "\n"
      ],
      "metadata": {
        "id": "S5H4q-6mPG16"
      }
    },
    {
      "cell_type": "code",
      "source": [
        "junishi = (\"申\",\"酉\",\"戌\",\"亥\",\"子\",\"丑\",\"寅\",\"卯\",\"辰\",\"巳\",\"午\",\"未\")"
      ],
      "metadata": {
        "id": "oIuUMeQJ87M0"
      },
      "execution_count": null,
      "outputs": []
    },
    {
      "cell_type": "code",
      "source": [
        "# [星座名 , 星座始まり月 , 星座始まり日] というseizaリスト\n",
        "seiza = [    \n",
        "        [\"山羊座\", 12, 22] , [\"水瓶座\", 1, 20] , [\"魚座\", 2, 19] ,   \n",
        "        [\"牡羊座\", 3, 21] , [\"牡牛座\", 4, 20] , [\"双子座\", 5, 21] ,   \n",
        "        [\"双子座\", 5, 21] , [\"蟹座\", 6, 22] , [\"獅子座\", 7, 23] ,     \n",
        "        [\"獅子座\", 7, 23] , [\"乙女座\", 8, 23] , [\"天秤座\", 9, 23] , \n",
        "        [\"天秤座\", 9, 23] , [\"蠍座\", 10, 24] , [\"射手座\", 11, 23] ,          \n",
        "]"
      ],
      "metadata": {
        "id": "htmi0KS8QqPA"
      },
      "execution_count": null,
      "outputs": []
    },
    {
      "cell_type": "markdown",
      "source": [
        "＜例＞ 1998年4月1日生まれの場合  \n",
        "`1998年は寅年です`     \n",
        "`Chitoseさんの星座は牡羊座です`"
      ],
      "metadata": {
        "id": "CuiEHN91PG16"
      }
    },
    {
      "cell_type": "markdown",
      "source": [
        "＜hint＞ 西暦を12で割った余りによって、干支を割り出すことができます。  \n",
        "　　　　 上に示している`junishi`リストの要素番号が余りに対応しています。"
      ],
      "metadata": {
        "id": "LGlpyPHRZwsM"
      }
    },
    {
      "cell_type": "markdown",
      "source": [
        "＜hint＞ ヒントではないですが、星座は以下の表のようにして分けられています。  \n",
        "\n",
        "|星座|日時|\n",
        "|:---| :--- |\n",
        "|山羊座|12/22~1/19|\n",
        "|水瓶座|1/20~2/18|\n",
        "|魚座|2/19~3/20|\n",
        "|牡羊座|3/21~4/19|\n",
        "|牡牛座|4/20~5/20|\n",
        "|双子座|5/21~6/21|\n",
        "|蟹座|6/22~7/22|\n",
        "|獅子座|7/23~8/22|\n",
        "|乙女座|8/23~9/22|\n",
        "|天秤座|9/23~10/23|\n",
        "|蠍座|10/24~11/22|\n",
        "|牡羊座|11/23~12/21|"
      ],
      "metadata": {
        "id": "glPkkMdYPG17"
      }
    },
    {
      "cell_type": "code",
      "source": [
        "# 入力用\n"
      ],
      "metadata": {
        "id": "TlPcKsecTrbI"
      },
      "execution_count": null,
      "outputs": []
    },
    {
      "cell_type": "markdown",
      "source": [
        "## 課題3"
      ],
      "metadata": {
        "id": "8yVz1RdGVw22"
      }
    },
    {
      "cell_type": "markdown",
      "source": [
        "これまで学んだ知識を使って、**ヒットアンドブロー**というゲームを作成してみましょう。  \n",
        "\n",
        "ルールはここでは以下の通りとします。  \n",
        "（参考：[AIZU ONLINE JUDGE](https://judge.u-aizu.ac.jp/onlinejudge/description.jsp?id=0226&lang=ja)）"
      ],
      "metadata": {
        "id": "2-wWATkmWHkE"
      }
    },
    {
      "cell_type": "markdown",
      "source": [
        "* 出題者(CPU)と回答者(USER)に分かれて行う。\n",
        "* 出題者は、**重複した数を含まない 4 桁の数字**(正解)を決める。\n",
        "* 回答者は、その 4 桁の数字(回答)を言い当てる。\n",
        "* 回答に対して、出題者は**ヒット**と**ブロー**の数でヒントを与える。正解までこれを繰り返す。\n"
      ],
      "metadata": {
        "id": "DXoRjyvZWAby"
      }
    },
    {
      "cell_type": "markdown",
      "source": [
        "**ヒット**：数と桁位置の両方が同じであること  \n",
        "**ブロー**：数だけが同じで桁位置が異なること"
      ],
      "metadata": {
        "id": "qfF0a3tiW-NY"
      }
    },
    {
      "cell_type": "markdown",
      "source": [
        "＜例＞ 解が `1234` で、回答が `1354` なら、出題者は「2 ヒット、1 ブロー」というヒントを与える。"
      ],
      "metadata": {
        "id": "ZSmJcfavXB-h"
      }
    },
    {
      "cell_type": "markdown",
      "source": [
        "＜hint＞以下の三点のエラー処理を行わないと、エラーが出る可能性があります。  \n",
        "\n",
        "* USERが整数以外の値を入力した場合\n",
        "* USERが4桁以外の整数以外を入力した場合\n",
        "* USERが重複した4桁の整数を入力した場合"
      ],
      "metadata": {
        "id": "KD8mVUFicGSy"
      }
    },
    {
      "cell_type": "markdown",
      "source": [
        "＜出力結果例＞  \n",
        "`数当てゲームを開始します`  \n",
        "`4桁の整数を入力してください`  \n",
        "`chitose`  \n",
        "`【エラー】4桁の整数を入力してください`  \n",
        "`12345`  \n",
        "`【エラー】4桁の整数を入力してください`  \n",
        "`1233`  \n",
        "`【エラー】重複のない4桁の整数を入力してください`  \n",
        "`1234`  \n",
        "`【1回目の解答】`  \n",
        "`1234は【1H、2B】です`  \n",
        "`不正解です`  \n",
        "\n",
        "`4桁の整数を入力してください`  \n",
        "`4732`  \n",
        "`【2回目の解答】`    \n",
        "`4732は【4H、0B】です`    \n",
        "`正解です！正解するまで2回かかりました` "
      ],
      "metadata": {
        "id": "iXvpYfctrUAn"
      }
    },
    {
      "cell_type": "code",
      "source": [
        "# 入力用\n"
      ],
      "metadata": {
        "id": "7RZDmI2WfqwE"
      },
      "execution_count": null,
      "outputs": []
    },
    {
      "cell_type": "markdown",
      "source": [
        "### 課題3 補足"
      ],
      "metadata": {
        "id": "uw2pWahzXjzH"
      }
    },
    {
      "cell_type": "markdown",
      "source": [
        "#### isdigitメソッド"
      ],
      "metadata": {
        "id": "sNZn0p-hZdyU"
      }
    },
    {
      "cell_type": "markdown",
      "source": [
        "入力値が（型自体は文字列型になるのですが）整数かそれ以外の値かを見分けるためには、  \n",
        "**`isdigit`メソッド**を使います。"
      ],
      "metadata": {
        "id": "BxYV_4TkXmn3"
      }
    },
    {
      "cell_type": "code",
      "source": [
        "test = [str(1998) , str(4.1) , \"Chitose\"]  # 型は文字列だが元は[整数 , 浮動小数点数 , 文字列] \n",
        "\n",
        "print(f\"整数に適用すると {test[0].isdigit()} という結果が得られます\")\n",
        "print(f\"浮動小数点数に適用すると {test[1].isdigit()} という結果が得られます\")\n",
        "print(f\"文字列に適用すると {test[2].isdigit()} という結果が得られます\")"
      ],
      "metadata": {
        "id": "D8koA6mbX8kG",
        "outputId": "8a317a5d-d7a1-4f2b-b5a8-390d63168474",
        "colab": {
          "base_uri": "https://localhost:8080/"
        }
      },
      "execution_count": null,
      "outputs": [
        {
          "output_type": "stream",
          "name": "stdout",
          "text": [
            "整数に適用すると True という結果が得られます\n",
            "浮動小数点数に適用すると False という結果が得られます\n",
            "文字列に適用すると False という結果が得られます\n"
          ]
        }
      ]
    },
    {
      "cell_type": "markdown",
      "source": [
        "#### CPU用リストの作成方法"
      ],
      "metadata": {
        "id": "cClEOBM6ZjbW"
      }
    },
    {
      "cell_type": "markdown",
      "source": [
        "重複のない4つの整数値が入ったリストを作成する方法は色々あります。  \n",
        "**`random.sample()`**を使う例を以下では紹介します。"
      ],
      "metadata": {
        "id": "W-fRwI7LY9Ak"
      }
    },
    {
      "cell_type": "code",
      "source": [
        "import random\n",
        "\n",
        "answer_list = random.sample(range(0,10),k=4)\n",
        "print(answer_list)"
      ],
      "metadata": {
        "id": "98no918GZTSs",
        "outputId": "d097f5dd-e2ff-4e1b-e91e-007fbf06559e",
        "colab": {
          "base_uri": "https://localhost:8080/"
        }
      },
      "execution_count": null,
      "outputs": [
        {
          "output_type": "stream",
          "name": "stdout",
          "text": [
            "[4, 7, 1, 3]\n"
          ]
        }
      ]
    }
  ]
}
