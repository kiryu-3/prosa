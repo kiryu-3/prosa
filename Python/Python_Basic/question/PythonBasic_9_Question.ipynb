{
  "nbformat": 4,
  "nbformat_minor": 0,
  "metadata": {
    "colab": {
      "provenance": []
    },
    "kernelspec": {
      "name": "python3",
      "display_name": "Python 3"
    },
    "language_info": {
      "name": "python"
    }
  },
  "cells": [
    {
      "cell_type": "markdown",
      "source": [
        "<a href=\"https://colab.research.google.com/github/kiryu-3/Prmn2023_DS/blob/main/Python/Python_Basic/answer/PythonBasic_6_Answer.ipynb\" target=\"_parent\"><img src=\"https://colab.research.google.com/assets/colab-badge.svg\" alt=\"Open In Colab\"/></a>"
      ],
      "metadata": {
        "id": "i_oQ7a1-uMsS"
      }
    },
    {
      "cell_type": "markdown",
      "source": [
        "# オブジェクト指向2 課題"
      ],
      "metadata": {
        "id": "jQqGrJNkuFDD"
      }
    },
    {
      "cell_type": "markdown",
      "source": [
        "## 課題1"
      ],
      "metadata": {
        "id": "1DGEULJlZLkL"
      }
    },
    {
      "cell_type": "markdown",
      "source": [
        "以下の要件を満たすクラスを作成してください"
      ],
      "metadata": {
        "id": "he1ry54qZP56"
      }
    },
    {
      "cell_type": "markdown",
      "source": [
        "**指示**\n",
        "* moveメソッド内で「歩いたよ」と出力するInsectクラスを作る  \n",
        "* moveメソッド内で「飛んだよ」と出力するButterflyクラスを作る   \n",
        "このとき、ButterflyクラスはInsectクラスを継承する  \n",
        "* moveメソッド内で「跳んだよ」と出力するLocustクラスを作る   \n",
        "このとき、LocustクラスはInsectクラスを継承する  \n",
        "* moveメソッド内で「綺麗に飛んだよ」と出力するSwallowtailButterflyクラスを作る   \n",
        "このとき、SwallowtailButterflyクラスはButterflyクラスを継承する \n",
        "\n",
        "4つのクラスのインスタンスをリストInsectListに格納してください。  \n",
        "その後、格納した4つのインスタンスからmoveメソッドを呼び出してください。\n",
        "\n"
      ],
      "metadata": {
        "id": "PkJ0b9znZUMi"
      }
    },
    {
      "cell_type": "code",
      "source": [
        "# 入力用\n"
      ],
      "metadata": {
        "id": "p1fSdDIhrYbf"
      },
      "execution_count": null,
      "outputs": []
    },
    {
      "cell_type": "markdown",
      "source": [
        "## 課題2\n",
        "\n"
      ],
      "metadata": {
        "id": "sxV6gRm8djFh"
      }
    },
    {
      "cell_type": "markdown",
      "source": [
        "以下の要件を満たすクラスを作成してください"
      ],
      "metadata": {
        "id": "AXc3PV3ddkyJ"
      }
    },
    {
      "cell_type": "markdown",
      "source": [
        "\n",
        "**指示**\n",
        " * クラス名は Car、属性として変数fuelを持つ\n",
        " * 引数なしコンストラクタでfuelを0で初期化する\n",
        " * メソッドとして戻り値、引数無しのrun() を持つ\n",
        " * run()メソッドではfuelを1消費して、走ったことが分かる文言を表示させる\n",
        "     \t  (例:  \"燃料を1消費して走りました。\")  \n",
        " * fuelが0以下の時走れなかったことが分かる文言を表示させる\n",
        "        \n",
        "Carに給油をするGasStationクラスを作成してください  \n",
        "* クラス名はGasStation、コンストラクタ無し\n",
        "* refuel()メソッドを持つ\n",
        "* refuel()ではCarのfuelを20増やす\n",
        "* refuel()では給油したことが分かる文言を表示する\n",
        "\n"
      ],
      "metadata": {
        "id": "kvvx9u5Kdh8i"
      }
    },
    {
      "cell_type": "markdown",
      "source": [
        "今回はCarクラスを継承したBusクラスを作っていきましょう。"
      ],
      "metadata": {
        "id": "EN_PqJln9lFu"
      }
    },
    {
      "cell_type": "markdown",
      "source": [
        "**指示**\n",
        " * クラス名は Bus、Carクラスを継承する\n",
        " * Carクラスの属性に加えて、乗車定員を表す属性max_passengerと、  \n",
        " 現在の乗員数を表す属性passengerを定義する\n",
        " * load()メソッドで、指定した人数をバスに乗せたり降ろしたりできるようにする  \n",
        " （乗員数がマイナスにならないように注意する）\n",
        "  * 正の値を指定した場合はバスに乗せ、負の値を指定した場合はバスから降ろす  \n",
        " * 乗車定員をオーバーしたらその旨を出力する  \n",
        " だが、客をさらに乗せることは可能にする\n",
        "        "
      ],
      "metadata": {
        "id": "H7G5D42r9vE1"
      }
    },
    {
      "cell_type": "markdown",
      "source": [
        "＜実行結果例＞  \n",
        "```\n",
        "燃料が足りないため走れませんでした。\n",
        "給油したことにより、fuelが20増えました。\n",
        "燃料を1消費して走りました。\n",
        "20人の客を乗せました\n",
        "現在の乗客数は20人です\n",
        "20人すべての乗客を降ろしました\n",
        "現在の乗客数は0人です\n",
        "60人の客を乗せました\n",
        "現在の乗客数は60人です\n",
        "乗車定員は50人です。定員オーバーです\n",
        "燃料を1消費して走りました。\n",
        "```"
      ],
      "metadata": {
        "id": "p0JrYtsAIvzU"
      }
    },
    {
      "cell_type": "code",
      "source": [
        "# 入力用\n"
      ],
      "metadata": {
        "id": "PonrNBwVO69b"
      },
      "execution_count": null,
      "outputs": []
    },
    {
      "cell_type": "markdown",
      "source": [
        "## 課題3"
      ],
      "metadata": {
        "id": "8kY7RnsKL9wd"
      }
    },
    {
      "cell_type": "markdown",
      "source": [
        "以下の要件を満たすクラスを作成してください"
      ],
      "metadata": {
        "id": "ad8pyx_wL_zs"
      }
    },
    {
      "cell_type": "markdown",
      "source": [
        "**指示**\n",
        "\n",
        " Car クラスのrun()メソッドをBusクラス内でオーバーライドしてください\n",
        " * 乗客数が乗車定員を超えていたらバスが動けない旨を出力する\n",
        " * 何人降りれば動けるようになるか（乗車定員まで乗客を減らせるか）も同時に出力する\n"
      ],
      "metadata": {
        "id": "3aCcTxAaMFds"
      }
    },
    {
      "cell_type": "markdown",
      "source": [
        "＜実行結果例＞\n",
        "\n",
        "```\n",
        "燃料が足りないため走れませんでした。\n",
        "給油したことにより、fuelが20増えました。\n",
        "燃料を1消費して走りました。\n",
        "20人の客を乗せました\n",
        "現在の乗客数は20人です\n",
        "20人すべての乗客を降ろしました\n",
        "現在の乗客数は0人です\n",
        "60人の客を乗せました\n",
        "現在の乗客数は60人です\n",
        "乗車定員は50人です。定員オーバーです\n",
        "乗車定員なので走れません\n",
        "最低でも10人降りる必要があります\n",
        "30人の乗客を降ろしました\n",
        "現在の乗客数は30人です\n",
        "燃料を1消費して走りました。\n",
        "```"
      ],
      "metadata": {
        "id": "wY1QAZeKMrwx"
      }
    },
    {
      "cell_type": "code",
      "source": [
        "# 入力用\n"
      ],
      "metadata": {
        "id": "w0h5DhqvO8VH"
      },
      "execution_count": null,
      "outputs": []
    }
  ]
}