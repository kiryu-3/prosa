{
  "nbformat": 4,
  "nbformat_minor": 0,
  "metadata": {
    "colab": {
      "provenance": [],
      "toc_visible": true
    },
    "kernelspec": {
      "name": "python3",
      "display_name": "Python 3"
    },
    "language_info": {
      "name": "python"
    },
    "gpuClass": "standard"
  },
  "cells": [
    {
      "cell_type": "markdown",
      "source": [
        "# 第1章 記述統計入門"
      ],
      "metadata": {
        "id": "kVpIgX2wiR-v"
      }
    },
    {
      "cell_type": "code",
      "source": [
        "import numpy as np\n",
        "import pandas as pd\n",
        "import matplotlib.pyplot as plt\n",
        "!pip install japanize-matplotlib\n",
        "import japanize_matplotlib\n",
        "import seaborn as sns\n",
        "from scipy import stats"
      ],
      "metadata": {
        "id": "SlhrbaLhp-Yy"
      },
      "execution_count": null,
      "outputs": []
    },
    {
      "cell_type": "markdown",
      "source": [
        "## 記述統計\n",
        "「実際に観察した統計データに対して，そのデータ自体の範囲内での分析を行うこと」を  \n",
        "**記述統計**といいます。"
      ],
      "metadata": {
        "id": "9iCFOKrTif6W"
      }
    },
    {
      "cell_type": "markdown",
      "source": [
        "## 分布\n",
        "どの値にどれくらいデータが存在するかを表したものを**分布**といいます。  \n",
        "データの分布は図を使って表すことができます。"
      ],
      "metadata": {
        "id": "V2aZW1XTjMO1"
      }
    },
    {
      "cell_type": "markdown",
      "source": [
        "### ヒストグラム\n",
        "1つの連続変数の分布を表す際に使います。  \n",
        "横軸はデータの区間で区切られているため、各棒の区間には間隔がありません。\n",
        "\n",
        "**階級**(**bin**)を使ってその区間の**度数**(**frequency**)を表します。  \n",
        "\n",
        "※**階級**：度数を集計するための区間  \n",
        "※**度数**：各階級に含まれるデータ数"
      ],
      "metadata": {
        "id": "t5UW8ubTlkeZ"
      }
    },
    {
      "cell_type": "markdown",
      "source": [
        "[こちら](https://bit.ly/3fbMN88)の演習問題をヒストグラム化してみます。"
      ],
      "metadata": {
        "id": "w_GQVqx6o-Fs"
      }
    },
    {
      "cell_type": "code",
      "execution_count": null,
      "metadata": {
        "id": "h4X9d49CfovS"
      },
      "outputs": [],
      "source": [
        "# あるクラス50人の国語の点数\n",
        "# DataFrameの作成\n",
        "data = {\n",
        "    \"point\" : [64,73,63,68,44,59,61,42,57,70,\n",
        "               56,64,53,66,48,48,51,54,54,73,\n",
        "               51,44,83,74,47,57,41,45,60,72,\n",
        "               77,69,72,62,78,58,64,61,52,61,\n",
        "               45,66,58,60,54,71,57,52,54,73]\n",
        "}\n",
        "\n",
        "df = pd.DataFrame(data)"
      ]
    },
    {
      "cell_type": "code",
      "source": [
        "sns.histplot(df[\"point\"],bins=9, binrange=(40, 85))\n",
        "\n",
        "plt.xlabel(\"点数\" ,labelpad=16 , fontsize = 16 , x=0.5)\n",
        "plt.ylabel(\"人数\" ,fontsize=16 , rotation=\"horizontal\" , y=1)\n",
        "plt.title(\"図1 国語の点数のヒストグラム\" , x=0.5 , y=-0.35 , fontsize = 16)\n",
        "\n",
        "plt.show()"
      ],
      "metadata": {
        "id": "sr4pHvXZsVMt",
        "colab": {
          "base_uri": "https://localhost:8080/",
          "height": 337
        },
        "outputId": "7fe3c63e-a160-45b0-abb4-5468a409f117"
      },
      "execution_count": null,
      "outputs": [
        {
          "output_type": "display_data",
          "data": {
            "text/plain": [
              "<Figure size 432x288 with 1 Axes>"
            ],
            "image/png": "[encoded data removed]"
          },
          "metadata": {
            "needs_background": "light"
          }
        }
      ]
    },
    {
      "cell_type": "markdown",
      "source": [
        "### 棒グラフ\n",
        "1つのカテゴリ変数の分布を表す際に使います。  \n",
        "横軸はカテゴリ変数のとりうる値であるため、各棒の区間には間隔があります。\n",
        "\n",
        "棒を使ってその区間の度数(frequency)を表します。  "
      ],
      "metadata": {
        "id": "FyW1GFpgxLbt"
      }
    },
    {
      "cell_type": "markdown",
      "source": [
        "[こちら](https://bit.ly/3sEdZiK)の演習問題を棒グラフ化してみます。"
      ],
      "metadata": {
        "id": "w_5JlyVt_8TU"
      }
    },
    {
      "cell_type": "code",
      "source": [
        "# 1986年から2015年までのセ・リーグの優勝チームの一覧\n",
        "# DataFrameの作成\n",
        "data = {\n",
        "    \"year\" : np.arange(1986,2016),\n",
        "    \"WinTeam\" : [\"広島\",\"巨人\",\"中日\",\"巨人\",\"巨人\",\"広島\",\"ヤクルト\",\"ヤクルト\",\"巨人\",\"ヤクルト\",\n",
        "                 \"巨人\",\"ヤクルト\",\"横浜\",\"中日\",\"巨人\",\"ヤクルト\",\"巨人\",\"阪神\",\"中日\",\"阪神\",\n",
        "                 \"中日\",\"巨人\",\"巨人\",\"巨人\",\"中日\",\"中日\",\"巨人\",\"巨人\",\"巨人\",\"ヤクルト\"]\n",
        "}\n",
        "\n",
        "df = pd.DataFrame(data)\n",
        "df"
      ],
      "metadata": {
        "id": "cJeok8ntyJOT"
      },
      "execution_count": null,
      "outputs": []
    },
    {
      "cell_type": "code",
      "source": [
        "# 棒グラフ\n",
        "sns.catplot(x='WinTeam', data=df, kind='count')\n",
        "\n",
        "plt.xlabel(\"優勝チーム\" ,labelpad=16 , fontsize = 14 , x=0.5)\n",
        "plt.ylabel(\"チーム数\" ,fontsize=14 , rotation=\"horizontal\" , y=1.05)\n",
        "plt.title(\"図2 優勝チームの棒グラフ\" , x=0.5 , y=-0.35 , fontsize = 16)    # タイトル移動しないですね…\n",
        "\n",
        "plt.show()    # 巨人強い！"
      ],
      "metadata": {
        "id": "5_rHs3JZx5Kc",
        "colab": {
          "base_uri": "https://localhost:8080/",
          "height": 414
        },
        "outputId": "5afbc3c4-4a41-43e5-f756-4b807e8dfb17"
      },
      "execution_count": null,
      "outputs": [
        {
          "output_type": "display_data",
          "data": {
            "text/plain": [
              "<Figure size 360x360 with 1 Axes>"
            ],
            "image/png": "[encoded data removed]"
          },
          "metadata": {
            "needs_background": "light"
          }
        }
      ]
    },
    {
      "cell_type": "markdown",
      "source": [
        "## 代表値\n",
        "数値データを端的に表す値のことを**代表値**といいます。  \n",
        "主に**平均値**、**中央値**、**最頻値（モード）**といいます。"
      ],
      "metadata": {
        "id": "JNi8edp50ZWQ"
      }
    },
    {
      "cell_type": "markdown",
      "source": [
        "### 平均値(mean)\n",
        "データの合計をデータの数で割った値を**平均値**（厳密には、**算術平均値**）といいます。  \n",
        "最も基本的な代表値です。\n",
        "\n",
        "通常、標本平均を $\\bar{x}$ 、母平均を $μ$ で表します。\n"
      ],
      "metadata": {
        "id": "TigRu4Uy1Rim"
      }
    },
    {
      "cell_type": "markdown",
      "source": [
        "$$\n",
        "\\bar{x}=\\frac{x_1+x_2+…+x_n}{n}=\\frac{1}{n}\\sum_{i=1}^{n} x_i \n",
        "$$"
      ],
      "metadata": {
        "id": "-n0c9vGvmSht"
      }
    },
    {
      "cell_type": "markdown",
      "source": [
        "平均値には算術平均のほかにも様々な平均値があります。  \n",
        "関心のある方は[こちら](https://bit.ly/3sDH9yC)を参照してください。"
      ],
      "metadata": {
        "id": "ovRE_LPJ8YCr"
      }
    },
    {
      "cell_type": "markdown",
      "source": [
        "### 中央値(median)\n",
        "データを大きさ順に並べた際の真ん中の値を**中央値**といいます。  \n",
        "平均値に比べて**外れ値の影響を受けにくい**という点が大きな特徴です。\n",
        "\n",
        "以下の2点に注意しましょう。  \n",
        "1.   データの数が偶数の場合は、真ん中の2値の平均を取る\n",
        "2.   平均値の計算より時間がかかる(Python)\n",
        "\n",
        "\n"
      ],
      "metadata": {
        "id": "YN9eg5Z098YR"
      }
    },
    {
      "cell_type": "markdown",
      "source": [
        "### 最頻値(mode)\n",
        "データの中で最も多く観測される値を**最頻値**といいます。 \n",
        "\n",
        "極端に特定の値に集中している場合、代表値を最頻値とします。  \n",
        "最頻値は存在しないことや、複数存在することもあります。"
      ],
      "metadata": {
        "id": "XeRFTsyY_A_u"
      }
    },
    {
      "cell_type": "markdown",
      "source": [
        "### 演習\n",
        "[こちら](https://bit.ly/3Wh3pvy)の演習問題の代表値を求めてみましょう。"
      ],
      "metadata": {
        "id": "MEb303cDbxis"
      }
    },
    {
      "cell_type": "code",
      "source": [
        "# あるクラス50人の国語のテストの結果\n",
        "# DataFrameの作成\n",
        "data = {\n",
        "    \"point\" : [64,73,63,68,44,59,61,42,57,70,\n",
        "               56,64,53,66,48,48,51,54,54,73,\n",
        "               51,44,83,74,47,57,41,45,60,72,\n",
        "               77,69,72,62,78,58,64,61,52,61,\n",
        "               45,66,58,60,54,71,57,52,54,73]\n",
        "}\n",
        "\n",
        "df = pd.DataFrame(data)"
      ],
      "metadata": {
        "id": "UpcMtvdh7EyE"
      },
      "execution_count": null,
      "outputs": []
    },
    {
      "cell_type": "code",
      "source": [
        "# 平均値の導出\n",
        "print(np.mean(df[\"point\"]))\n",
        "print(df[\"point\"].mean())"
      ],
      "metadata": {
        "id": "nF4V2V8VAxfL",
        "colab": {
          "base_uri": "https://localhost:8080/"
        },
        "outputId": "23bfa1c9-0189-4c9c-cff2-3bb4fcfea162"
      },
      "execution_count": null,
      "outputs": [
        {
          "output_type": "stream",
          "name": "stdout",
          "text": [
            "59.72\n",
            "59.72\n"
          ]
        }
      ]
    },
    {
      "cell_type": "code",
      "source": [
        "# 中央値の導出\n",
        "print(np.median(df[\"point\"]))\n",
        "print(df[\"point\"].median())"
      ],
      "metadata": {
        "id": "ccwBeE-TA_O6",
        "colab": {
          "base_uri": "https://localhost:8080/"
        },
        "outputId": "f0984971-6cc0-4bd9-f17f-e16bc1695639"
      },
      "execution_count": null,
      "outputs": [
        {
          "output_type": "stream",
          "name": "stdout",
          "text": [
            "59.5\n",
            "59.5\n"
          ]
        }
      ]
    },
    {
      "cell_type": "code",
      "source": [
        "# 最頻値の導出\n",
        "mode, count = stats.mode(df[\"point\"])    # 最頻値 , カウント数\n",
        "print(mode)\n",
        "print(count)"
      ],
      "metadata": {
        "id": "m6Of2N7GBdOC",
        "colab": {
          "base_uri": "https://localhost:8080/"
        },
        "outputId": "52a93363-d25d-454b-9418-2450646b0efb"
      },
      "execution_count": null,
      "outputs": [
        {
          "output_type": "stream",
          "name": "stdout",
          "text": [
            "[54]\n",
            "[4]\n"
          ]
        }
      ]
    },
    {
      "cell_type": "markdown",
      "source": [
        "## 散布度\n",
        "各データの値に差が大きい場合は、全体の性質を説明するために「データの散らばり」を指票とする必要があります。\n",
        "\n",
        "この「データの散らばり具合」を**散布度**といいます。  \n"
      ],
      "metadata": {
        "id": "GfyZ5uBMbeiK"
      }
    },
    {
      "cell_type": "markdown",
      "source": [
        "以下に紹介する**分散**や**標準偏差**のほか、**範囲**や**四分位数**といったものもあります。  \n",
        "（四分位数は**箱ひげ図**によって図示します。[こちら](https://bit.ly/3DnXRah)を参考にしてください。）"
      ],
      "metadata": {
        "id": "2XUqKipVfn3E"
      }
    },
    {
      "cell_type": "markdown",
      "source": [
        "### 分散\n",
        "平均からの偏差の2乗の平均を**分散**といいます。  \n",
        "通常標本の分散は $s^2$、母集団の分散は$\\sigma^2$で表します。"
      ],
      "metadata": {
        "id": "mkMz39g9tB2i"
      }
    },
    {
      "cell_type": "markdown",
      "source": [
        "$$    \n",
        "s^2=\\frac{1}{n}\\Bigl(\\bigl(x_1-\\bar{x}\\bigr)^2+\\bigl(x_2-\\bar{x}\\bigr)^2+…+\\bigl(x_n-\\bar{x}\\bigr)^2\\Bigr)=\\frac{1}{n}\\sum_{i=1}^{n}\\bigl (x_i-\\bar{x}\\bigr)^2\n",
        "$$"
      ],
      "metadata": {
        "id": "593JTJyvp9ZN"
      }
    },
    {
      "cell_type": "markdown",
      "source": [
        "### 標準偏差\n",
        "尺度を合わせるために、分散の平方根を取ったものを**標準偏差**といいます。  \n",
        "通常標本の分散は$s$、母集団の標準偏差は$\\sigma$で表します。"
      ],
      "metadata": {
        "id": "4ZSa44wInSon"
      }
    },
    {
      "cell_type": "markdown",
      "source": [
        "$$\n",
        "s=\\sqrt{\\frac{1}{n}\\sum_{i=1}^{n}\\bigl (x_i-\\bar{x}\\bigr)^2}\n",
        "$$"
      ],
      "metadata": {
        "id": "-18tzbXvuZuw"
      }
    },
    {
      "cell_type": "markdown",
      "source": [
        "平均±標準偏差の間にどのくらいのデータが入っているのか、感覚値として覚えておくとイメージがつきやすいでしょう。\n",
        "\n"
      ],
      "metadata": {
        "id": "AiTRN4NjzyvM"
      }
    },
    {
      "cell_type": "markdown",
      "source": [
        "| |  |\n",
        "| ---- | --- | \n",
        "|  $\\mu$±$\\sigma$ | 約$\\frac{2}{3}$% | \n",
        "| $\\mu$±2$\\sigma$ | 約$95$% | \n",
        "| $\\mu$±3$\\sigma$ | 約$99$% | "
      ],
      "metadata": {
        "id": "R-XQL2NmvKYk"
      }
    },
    {
      "cell_type": "markdown",
      "source": [
        "### 演習\n",
        "[こちら](https://bit.ly/3gUB7Hh)の演習問題の分散と標準偏差を求めてみましょう。"
      ],
      "metadata": {
        "id": "P87fc3rNqduh"
      }
    },
    {
      "cell_type": "code",
      "source": [
        "# Seriesの作成\n",
        "pd = pd.Series([14,2,13,20,16])\n",
        "pd"
      ],
      "metadata": {
        "id": "2zIjVzlTqgT0",
        "colab": {
          "base_uri": "https://localhost:8080/"
        },
        "outputId": "bb794fd2-4150-4ed4-e95d-623831a31c1b"
      },
      "execution_count": null,
      "outputs": [
        {
          "output_type": "execute_result",
          "data": {
            "text/plain": [
              "0    14\n",
              "1     2\n",
              "2    13\n",
              "3    20\n",
              "4    16\n",
              "dtype: int64"
            ]
          },
          "metadata": {},
          "execution_count": 8
        }
      ]
    },
    {
      "cell_type": "code",
      "source": [
        "# 分散の導出\n",
        "np.var(pd)"
      ],
      "metadata": {
        "id": "Bf6qdYdNqzhw",
        "colab": {
          "base_uri": "https://localhost:8080/"
        },
        "outputId": "10195120-7e97-4ce7-d666-9e86a7f8c2ad"
      },
      "execution_count": null,
      "outputs": [
        {
          "output_type": "execute_result",
          "data": {
            "text/plain": [
              "36.0"
            ]
          },
          "metadata": {},
          "execution_count": 9
        }
      ]
    },
    {
      "cell_type": "code",
      "source": [
        "# 標準偏差の導出\n",
        "np.std(pd)"
      ],
      "metadata": {
        "id": "pWikmFsbq5XX",
        "colab": {
          "base_uri": "https://localhost:8080/"
        },
        "outputId": "603c0060-72aa-4e1b-a49d-d3ddd2e5fccd"
      },
      "execution_count": null,
      "outputs": [
        {
          "output_type": "execute_result",
          "data": {
            "text/plain": [
              "6.0"
            ]
          },
          "metadata": {},
          "execution_count": 10
        }
      ]
    },
    {
      "cell_type": "markdown",
      "source": [
        "データの変化による平均値・分散の変化については[こちら](https://bit.ly/3flfAHm)が大変分かりやすいと思います。"
      ],
      "metadata": {
        "id": "9tr90o-FsM-O"
      }
    },
    {
      "cell_type": "markdown",
      "source": [
        "第1章は終了です。お疲れさまでしたー"
      ],
      "metadata": {
        "id": "0gMq1XrFtTpb"
      }
    }
  ]
}
