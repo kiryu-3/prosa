{
  "nbformat": 4,
  "nbformat_minor": 0,
  "metadata": {
    "colab": {
      "provenance": [],
      "toc_visible": true,
      "authorship_tag": "ABX9TyPcuQEm3e3o42/rlqZ8/czp",
      "include_colab_link": true
    },
    "kernelspec": {
      "name": "python3",
      "display_name": "Python 3"
    },
    "language_info": {
      "name": "python"
    }
  },
  "cells": [
    {
      "cell_type": "markdown",
      "metadata": {
        "id": "view-in-github",
        "colab_type": "text"
      },
      "source": [
        "<a href=\"https://colab.research.google.com/github/kiryu-3/Prmn2023_DS/blob/main/Python/Python_Stats/Stats_14.ipynb\" target=\"_parent\"><img src=\"https://colab.research.google.com/assets/colab-badge.svg\" alt=\"Open In Colab\"/></a>"
      ]
    },
    {
      "cell_type": "markdown",
      "source": [
        "# 検定力"
      ],
      "metadata": {
        "id": "EnqNa2vUKNuy"
      }
    },
    {
      "cell_type": "code",
      "execution_count": null,
      "metadata": {
        "id": "Hf6ld2vaIreN"
      },
      "outputs": [],
      "source": [
        "import numpy as np\n",
        "import pandas as pd\n",
        "import matplotlib.pyplot as plt\n",
        "!pip install japanize-matplotlib\n",
        "import japanize_matplotlib\n",
        "import seaborn as sns\n",
        "from scipy import stats\n",
        "from scipy.stats import norm\n",
        "from scipy.stats import binom\n",
        "from scipy.stats import t\n",
        "from scipy.stats import f\n",
        "from decimal import Decimal, ROUND_HALF_UP, ROUND_HALF_EVEN\n",
        "from statsmodels.stats.proportion import proportions_ztest\n",
        "from statsmodels.api import qqplot\n",
        "from statsmodels.stats.power import TTestIndPower"
      ]
    },
    {
      "cell_type": "markdown",
      "source": [
        "## 第1種の誤りと第2種の誤り"
      ],
      "metadata": {
        "id": "ArvPBS8AK-8H"
      }
    },
    {
      "cell_type": "markdown",
      "source": [
        "仮説検定が誤るケースには、二通りあります。  \n",
        "これをそれぞれ**第1種の誤り**と**第2種の誤り**と呼びます。"
      ],
      "metadata": {
        "id": "SfedwIqBLAUH"
      }
    },
    {
      "cell_type": "markdown",
      "source": [
        "![リンクテキスト](https://imgur.com/etV1jI0.png)"
      ],
      "metadata": {
        "id": "-sbHFMWAQOme"
      }
    },
    {
      "cell_type": "markdown",
      "source": [
        "### 第1種の誤り"
      ],
      "metadata": {
        "id": "toDMHjt2LL3I"
      }
    },
    {
      "cell_type": "markdown",
      "source": [
        "帰無仮説が正しいのにも関わらず，検定の結果帰無仮説を棄却してしまう誤りを  \n",
        "**第1種の誤り**と呼びます。($\\alpha$で表します)\n",
        "\n",
        "第1種の誤りは**有意水準と等しくなります**。"
      ],
      "metadata": {
        "id": "06Mx3JvWLO6X"
      }
    },
    {
      "cell_type": "markdown",
      "source": [
        "### 第2種の誤り"
      ],
      "metadata": {
        "id": "5wPkVqgPQpu8"
      }
    },
    {
      "cell_type": "markdown",
      "source": [
        "帰無仮説が正しくないにも関わらず，検定の結果帰無仮説を採択してしまう誤りを  \n",
        "**第2種の誤り**と呼びます。（$\\beta$で表します）"
      ],
      "metadata": {
        "id": "PjtMik15Qr_c"
      }
    },
    {
      "cell_type": "markdown",
      "source": [
        "帰無仮説が正しい場合の検定統計量の分布を**帰無分布**、  \n",
        "対立仮説が正しい場合の検定統計量の分布を**対立分布**といいます。"
      ],
      "metadata": {
        "id": "m8A0sZvZaYod"
      }
    },
    {
      "cell_type": "markdown",
      "source": [
        "### $\\alpha$と$\\beta$のトレードオフ"
      ],
      "metadata": {
        "id": "8VdigoRiRfcD"
      }
    },
    {
      "cell_type": "markdown",
      "source": [
        "検定の際、この2つの誤りはなるべく下げたいものです。\n",
        "\n",
        "しかし$\\alpha$と$\\beta$は**トレードオフ**の関係にあり、同時に下げることはできません。  \n",
        "（視覚的に理解したい方は[こちら](https://bit.ly/3S1J6AM))\n"
      ],
      "metadata": {
        "id": "1dalk1LfR2sS"
      }
    },
    {
      "cell_type": "markdown",
      "source": [
        "## 検定力"
      ],
      "metadata": {
        "id": "LpAQHn8_XluB"
      }
    },
    {
      "cell_type": "markdown",
      "source": [
        "「どれだけ正しく帰無仮説を棄却し、対立仮説を成立できるか」  \n",
        "を表す指標のことを**検定力(power)** といいます。検出力ともいいます。"
      ],
      "metadata": {
        "id": "-G0PX_nPYmh2"
      }
    },
    {
      "cell_type": "markdown",
      "source": [
        "![リンクテキスト](https://imgur.com/c6Zx3gQ.png)"
      ],
      "metadata": {
        "id": "ksVPLqdWXoF_"
      }
    },
    {
      "cell_type": "markdown",
      "source": [
        "検定力は、対立仮説が正しい場合に帰無仮説を棄却する確率です。  \n",
        "よって、$1-\\beta$ になります。"
      ],
      "metadata": {
        "id": "4gRCuDlqZWs9"
      }
    },
    {
      "cell_type": "markdown",
      "source": [
        "検出力がバランスの良い値であると、より正しい仮説検定を行うことができます。\n",
        "\n",
        "検定力に影響を与える要素は3つ存在します。  \n",
        "* 有意水準\n",
        "* サンプルサイズ\n",
        "* 帰無分布と対立分布の差"
      ],
      "metadata": {
        "id": "JUf4Q3wiZzzU"
      }
    },
    {
      "cell_type": "markdown",
      "source": [
        "### 有意水準"
      ],
      "metadata": {
        "id": "R2wQnc6sasy6"
      }
    },
    {
      "cell_type": "markdown",
      "source": [
        "$\\alpha$の値を大きくすると、$\\beta$の値が小さくなるため、  \n",
        "検定力$1-\\beta$の値が大きくなります。\n",
        "\n",
        "しかし、有意水準は特段変更しないのが慣習になります。  \n",
        "5%か1%を使うようにしましょう。"
      ],
      "metadata": {
        "id": "6gLsSW-_avVR"
      }
    },
    {
      "cell_type": "markdown",
      "source": [
        "### サンプルサイズ"
      ],
      "metadata": {
        "id": "NWsKJdqFbNcZ"
      }
    },
    {
      "cell_type": "markdown",
      "source": [
        "サンプルサイズを大きくすると、標本統計量の分布のバラつきが小さくなるため、  \n",
        "検定力$1-\\beta$の値が大きくなります。\n",
        "\n",
        "（標本統計量のバラつきがなくなり、母集団の統計量の近くに集まるようになる）  \n",
        "（視覚的に確認したい方は[こちら](https://bit.ly/414MZJ6)）"
      ],
      "metadata": {
        "id": "bBgyjSrdbPsY"
      }
    },
    {
      "cell_type": "markdown",
      "source": [
        "しかしやみくもにサンプルサイズを上げて検定力を大きくすると、  \n",
        "微妙な差であっても「有意差あり」と判定されてしまいます。  \n",
        "\n",
        "そのため、サンプルサイズをとにかく大きくすればよいわけではありません。"
      ],
      "metadata": {
        "id": "tltZAuWrpSF3"
      }
    },
    {
      "cell_type": "markdown",
      "source": [
        "### 効果量"
      ],
      "metadata": {
        "id": "QIJbMgiRrYgq"
      }
    },
    {
      "cell_type": "markdown",
      "source": [
        "帰無分布と対立分布の差を表す量を**効果量**といいます。\n",
        "\n",
        "効果量が大きいと、検定力の値が大きくなります。  \n",
        "（視覚的に確認したい方は[こちら](https://bit.ly/3IapHZV)）"
      ],
      "metadata": {
        "id": "UpLvJJ_Trnnq"
      }
    },
    {
      "cell_type": "markdown",
      "source": [
        "## 検定力分析1"
      ],
      "metadata": {
        "id": "zVCGVEYUENYJ"
      }
    },
    {
      "cell_type": "markdown",
      "source": [
        "ここからの流れは[こちら](https://bellcurve.jp/statistics/course/12769.html)にもう少し詳しい説明があります。  \n",
        "\n"
      ],
      "metadata": {
        "id": "TX128zc3EPbt"
      }
    },
    {
      "cell_type": "markdown",
      "source": [
        "今回は、「対応なしの2群の平均差の検定」を例とし、検定力分析を行います。\n",
        "\n",
        "このとき、効果量は「2群の平均値差にどれくらいの差があるかを表す量」になります。\n",
        "\n"
      ],
      "metadata": {
        "id": "400ziR-4E3Nf"
      }
    },
    {
      "cell_type": "markdown",
      "source": [
        "$p$値だけでは、平均値の差がどれくらいあるかを判断することはできません。  \n",
        "（$p$値はサンプルサイズが大きくなると簡単に小さくなるため）\n",
        "\n",
        "「有意差があること」を表す$p$値とともに、  \n",
        "「どの程度の有意差があるのか」を表す効果量を合わせて報告することが大事になります。\n",
        "\n"
      ],
      "metadata": {
        "id": "MbzPdHUtMxzP"
      }
    },
    {
      "cell_type": "markdown",
      "source": [
        "効果量は、2つの母集団の平均の差を標準化して導出します。\n",
        "\n",
        "$$\n",
        "\\frac{\\mu_1-\\mu_2}{\\sigma}\n",
        "$$\n",
        "\n",
        "分母には、2つの母集団を合わせた標準偏差を指定しています。"
      ],
      "metadata": {
        "id": "pDhygS3QQGnk"
      }
    },
    {
      "cell_type": "markdown",
      "source": [
        "分子、分母ともに不定値なので、標本値を使用して近似します。\n",
        "\n",
        "$$\n",
        "\\frac{\\bar{x}_1-\\bar{x}_2}{\\hat{\\sigma}}\n",
        "$$\n",
        "\n",
        "分母には、2つの標本を合わせた標準偏差を指定しています。  \n",
        "（難しいですが、スチューデントの$t$検定と同じ要領です）\n",
        "\n",
        "$$\n",
        "\\hat{\\sigma} = \\sqrt{\\frac{(n_1-1)s^{'2}_1+(n_2-1)s^{'2}_2}{n_1+n_2-2}}\n",
        "$$"
      ],
      "metadata": {
        "id": "aw0toDalRCsE"
      }
    },
    {
      "cell_type": "markdown",
      "source": [
        "この効果量の指標のことを **Cohen's d**（コーエンのd）といいます。\n",
        "\n",
        "標準化していますが、$1$を超えることもあります。  \n",
        "また、実際には絶対値を取ることも多いです。"
      ],
      "metadata": {
        "id": "bARH84tlSXlf"
      }
    },
    {
      "cell_type": "markdown",
      "source": [
        "Cohen's d の目安は以下の表のようになります。\n",
        "\n",
        "|Cohen's d|大きさ|\n",
        "| :---: | :---: |\n",
        "|0.2|小|\n",
        "|0.5|中|\n",
        "|0.8|大|"
      ],
      "metadata": {
        "id": "en-_cxSUS3ke"
      }
    },
    {
      "cell_type": "markdown",
      "source": [
        "## 検定力分析2"
      ],
      "metadata": {
        "id": "oxuRsUG9ZECt"
      }
    },
    {
      "cell_type": "markdown",
      "source": [
        "手元に標本がない場合に、適切なサンプルサイズを求めたい場合もあります。  \n",
        "検定力分析によって導出することができます。\n",
        "\n",
        "**有意水準**・**効果量**・**検定力** の3つが分かっていれば、  \n",
        "サンプルサイズを求めることができます。"
      ],
      "metadata": {
        "id": "ud1LlV6ekxtG"
      }
    },
    {
      "cell_type": "markdown",
      "source": [
        "**有意水準**は普通$5$%を指定します。\n",
        "\n",
        "**効果量**は今までの経験則から仮定します。  \n",
        "＜例＞ 「男女間で平均睡眠時間に差はないだろう」から$0.2$にしよう\n",
        "\n",
        "**検定力**は多くの場合$0.8$を指定します。  \n",
        "これは、「80％の確率で、有意差があるときにそれを正しく検出できる」ことを意味します。"
      ],
      "metadata": {
        "id": "EmWOZhn_lG-m"
      }
    },
    {
      "cell_type": "markdown",
      "source": [
        "## Pythonによる検定力分析"
      ],
      "metadata": {
        "id": "dDonsL_pT9wn"
      }
    },
    {
      "cell_type": "markdown",
      "source": [
        "都道府県別の男性と女性の平均睡眠時間について、検定力分析を行います。\n",
        "\n",
        "`todohuken_kaidata.csv`をインポートしてください。"
      ],
      "metadata": {
        "id": "mrMAOzNOWc1w"
      }
    },
    {
      "cell_type": "code",
      "source": [
        "df = pd.read_csv(\"todohuken_kaidata.csv\")\n",
        "df.head(3)"
      ],
      "metadata": {
        "colab": {
          "base_uri": "https://localhost:8080/",
          "height": 430
        },
        "id": "z1FB9sXLUffA",
        "outputId": "afe67bbf-2a48-42bf-aa68-39abda9602c5"
      },
      "execution_count": 8,
      "outputs": [
        {
          "output_type": "execute_result",
          "data": {
            "text/plain": [
              "  都道府県     地方  15歳以上の平均睡眠時間（男）  15歳以上の平均睡眠時間（女）  運転免許保有者割合（%）  \\\n",
              "0  北海道  北海道地方              473              465          63.4   \n",
              "1  青森県   東北地方              486              470          66.4   \n",
              "2  岩手県   東北地方              477              469          67.6   \n",
              "\n",
              "   農業従事者（人口100人あたり）  平均通勤時間（片道）  自動車保有台数（人口100人あたり）  鉄道旅客輸送量(人口一人あたり)  \n",
              "0              1.79        20.2               68.67             65.90  \n",
              "1              4.95        20.2               77.65             13.10  \n",
              "2              5.50        20.0               80.55             20.86  "
            ],
            "text/html": [
              "\n",
              "  <div id=\"df-7d117602-0dba-4409-a94f-91ad802eb39f\">\n",
              "    <div class=\"colab-df-container\">\n",
              "      <div>\n",
              "<style scoped>\n",
              "    .dataframe tbody tr th:only-of-type {\n",
              "        vertical-align: middle;\n",
              "    }\n",
              "\n",
              "    .dataframe tbody tr th {\n",
              "        vertical-align: top;\n",
              "    }\n",
              "\n",
              "    .dataframe thead th {\n",
              "        text-align: right;\n",
              "    }\n",
              "</style>\n",
              "<table border=\"1\" class=\"dataframe\">\n",
              "  <thead>\n",
              "    <tr style=\"text-align: right;\">\n",
              "      <th></th>\n",
              "      <th>都道府県</th>\n",
              "      <th>地方</th>\n",
              "      <th>15歳以上の平均睡眠時間（男）</th>\n",
              "      <th>15歳以上の平均睡眠時間（女）</th>\n",
              "      <th>運転免許保有者割合（%）</th>\n",
              "      <th>農業従事者（人口100人あたり）</th>\n",
              "      <th>平均通勤時間（片道）</th>\n",
              "      <th>自動車保有台数（人口100人あたり）</th>\n",
              "      <th>鉄道旅客輸送量(人口一人あたり)</th>\n",
              "    </tr>\n",
              "  </thead>\n",
              "  <tbody>\n",
              "    <tr>\n",
              "      <th>0</th>\n",
              "      <td>北海道</td>\n",
              "      <td>北海道地方</td>\n",
              "      <td>473</td>\n",
              "      <td>465</td>\n",
              "      <td>63.4</td>\n",
              "      <td>1.79</td>\n",
              "      <td>20.2</td>\n",
              "      <td>68.67</td>\n",
              "      <td>65.90</td>\n",
              "    </tr>\n",
              "    <tr>\n",
              "      <th>1</th>\n",
              "      <td>青森県</td>\n",
              "      <td>東北地方</td>\n",
              "      <td>486</td>\n",
              "      <td>470</td>\n",
              "      <td>66.4</td>\n",
              "      <td>4.95</td>\n",
              "      <td>20.2</td>\n",
              "      <td>77.65</td>\n",
              "      <td>13.10</td>\n",
              "    </tr>\n",
              "    <tr>\n",
              "      <th>2</th>\n",
              "      <td>岩手県</td>\n",
              "      <td>東北地方</td>\n",
              "      <td>477</td>\n",
              "      <td>469</td>\n",
              "      <td>67.6</td>\n",
              "      <td>5.50</td>\n",
              "      <td>20.0</td>\n",
              "      <td>80.55</td>\n",
              "      <td>20.86</td>\n",
              "    </tr>\n",
              "  </tbody>\n",
              "</table>\n",
              "</div>\n",
              "      <button class=\"colab-df-convert\" onclick=\"convertToInteractive('df-7d117602-0dba-4409-a94f-91ad802eb39f')\"\n",
              "              title=\"Convert this dataframe to an interactive table.\"\n",
              "              style=\"display:none;\">\n",
              "        \n",
              "  <svg xmlns=\"http://www.w3.org/2000/svg\" height=\"24px\"viewBox=\"0 0 24 24\"\n",
              "       width=\"24px\">\n",
              "    <path d=\"M0 0h24v24H0V0z\" fill=\"none\"/>\n",
              "    <path d=\"M18.56 5.44l.94 2.06.94-2.06 2.06-.94-2.06-.94-.94-2.06-.94 2.06-2.06.94zm-11 1L8.5 8.5l.94-2.06 2.06-.94-2.06-.94L8.5 2.5l-.94 2.06-2.06.94zm10 10l.94 2.06.94-2.06 2.06-.94-2.06-.94-.94-2.06-.94 2.06-2.06.94z\"/><path d=\"M17.41 7.96l-1.37-1.37c-.4-.4-.92-.59-1.43-.59-.52 0-1.04.2-1.43.59L10.3 9.45l-7.72 7.72c-.78.78-.78 2.05 0 2.83L4 21.41c.39.39.9.59 1.41.59.51 0 1.02-.2 1.41-.59l7.78-7.78 2.81-2.81c.8-.78.8-2.07 0-2.86zM5.41 20L4 18.59l7.72-7.72 1.47 1.35L5.41 20z\"/>\n",
              "  </svg>\n",
              "      </button>\n",
              "      \n",
              "  <style>\n",
              "    .colab-df-container {\n",
              "      display:flex;\n",
              "      flex-wrap:wrap;\n",
              "      gap: 12px;\n",
              "    }\n",
              "\n",
              "    .colab-df-convert {\n",
              "      background-color: #E8F0FE;\n",
              "      border: none;\n",
              "      border-radius: 50%;\n",
              "      cursor: pointer;\n",
              "      display: none;\n",
              "      fill: #1967D2;\n",
              "      height: 32px;\n",
              "      padding: 0 0 0 0;\n",
              "      width: 32px;\n",
              "    }\n",
              "\n",
              "    .colab-df-convert:hover {\n",
              "      background-color: #E2EBFA;\n",
              "      box-shadow: 0px 1px 2px rgba(60, 64, 67, 0.3), 0px 1px 3px 1px rgba(60, 64, 67, 0.15);\n",
              "      fill: #174EA6;\n",
              "    }\n",
              "\n",
              "    [theme=dark] .colab-df-convert {\n",
              "      background-color: #3B4455;\n",
              "      fill: #D2E3FC;\n",
              "    }\n",
              "\n",
              "    [theme=dark] .colab-df-convert:hover {\n",
              "      background-color: #434B5C;\n",
              "      box-shadow: 0px 1px 3px 1px rgba(0, 0, 0, 0.15);\n",
              "      filter: drop-shadow(0px 1px 2px rgba(0, 0, 0, 0.3));\n",
              "      fill: #FFFFFF;\n",
              "    }\n",
              "  </style>\n",
              "\n",
              "      <script>\n",
              "        const buttonEl =\n",
              "          document.querySelector('#df-7d117602-0dba-4409-a94f-91ad802eb39f button.colab-df-convert');\n",
              "        buttonEl.style.display =\n",
              "          google.colab.kernel.accessAllowed ? 'block' : 'none';\n",
              "\n",
              "        async function convertToInteractive(key) {\n",
              "          const element = document.querySelector('#df-7d117602-0dba-4409-a94f-91ad802eb39f');\n",
              "          const dataTable =\n",
              "            await google.colab.kernel.invokeFunction('convertToInteractive',\n",
              "                                                     [key], {});\n",
              "          if (!dataTable) return;\n",
              "\n",
              "          const docLinkHtml = 'Like what you see? Visit the ' +\n",
              "            '<a target=\"_blank\" href=https://colab.research.google.com/notebooks/data_table.ipynb>data table notebook</a>'\n",
              "            + ' to learn more about interactive tables.';\n",
              "          element.innerHTML = '';\n",
              "          dataTable['output_type'] = 'display_data';\n",
              "          await google.colab.output.renderOutput(dataTable, element);\n",
              "          const docLink = document.createElement('div');\n",
              "          docLink.innerHTML = docLinkHtml;\n",
              "          element.appendChild(docLink);\n",
              "        }\n",
              "      </script>\n",
              "    </div>\n",
              "  </div>\n",
              "  "
            ]
          },
          "metadata": {},
          "execution_count": 8
        }
      ]
    },
    {
      "cell_type": "code",
      "source": [
        "male_sleep = df[\"15歳以上の平均睡眠時間（男）\"]\n",
        "female_sleep = df[\"15歳以上の平均睡眠時間（女）\"] "
      ],
      "metadata": {
        "id": "ZKE4gcqcU0I6"
      },
      "execution_count": 30,
      "outputs": []
    },
    {
      "cell_type": "code",
      "source": [
        "# Cohen's dを返す関数\n",
        "def cohen_d(x1,x2):\n",
        "  n1 = len(x1)\n",
        "  n2 = len(x2)\n",
        "  dof = n1 + n2 - 2\n",
        "  std = np.sqrt(((n1-1)*stats.tvar(x1) + (n2-1)*stats.tvar(x2))/dof)\n",
        "  return (np.mean(x1) - np.mean(x2)) / std"
      ],
      "metadata": {
        "id": "ntP-P02IU-S7"
      },
      "execution_count": 31,
      "outputs": []
    },
    {
      "cell_type": "code",
      "source": [
        "cohen_d(male_sleep,female_sleep)"
      ],
      "metadata": {
        "colab": {
          "base_uri": "https://localhost:8080/"
        },
        "id": "if5ZmayUVbej",
        "outputId": "21083cad-9894-40b7-91ae-77dd6ae327d7"
      },
      "execution_count": 32,
      "outputs": [
        {
          "output_type": "execute_result",
          "data": {
            "text/plain": [
              "1.719993575725184"
            ]
          },
          "metadata": {},
          "execution_count": 32
        }
      ]
    },
    {
      "cell_type": "markdown",
      "source": [
        "効果量はかなり大きい値となりました。  \n",
        "男女間の睡眠時間の差を明確に確認できます。"
      ],
      "metadata": {
        "id": "MTSv5KQ-YsO0"
      }
    },
    {
      "cell_type": "markdown",
      "source": [
        "効果量がかなり大きいため、検定力もかなり大きくなってしまっていると推測できます。"
      ],
      "metadata": {
        "id": "-_HrOPWPnB0L"
      }
    },
    {
      "cell_type": "code",
      "source": [
        "power = TTestIndPower()\n",
        "effect_size = cohen_d(male_sleep,female_sleep)\n",
        "n1 = len(male_sleep)\n",
        "n2 = len(female_sleep)\n",
        "\n",
        "stats_power = power.solve_power(effect_size=effect_size , nobs1=n1 , alpha=0.05 , power = None , ratio=n2/n1)\n",
        "stats_power"
      ],
      "metadata": {
        "colab": {
          "base_uri": "https://localhost:8080/"
        },
        "id": "0OTbdVu4byHe",
        "outputId": "96032b91-49f6-473a-c974-e11a2727bc69"
      },
      "execution_count": 34,
      "outputs": [
        {
          "output_type": "execute_result",
          "data": {
            "text/plain": [
              "1.0"
            ]
          },
          "metadata": {},
          "execution_count": 34
        }
      ]
    },
    {
      "cell_type": "markdown",
      "source": [
        "検定力が$1.0$になってしまいました。  \n",
        "このままでは、微妙な差であっても「有意差あり」と判定されてしまいます。"
      ],
      "metadata": {
        "id": "ax2xSFwxnUJ9"
      }
    },
    {
      "cell_type": "code",
      "source": [
        "tt , pp = stats.ttest_ind(male_sleep , female_sleep , equal_var=False)\n",
        "\n",
        "nk = float(Decimal(str(tt)).quantize(Decimal('0.001'),rounding=ROUND_HALF_UP))\n",
        "print(f\"検定統計量のt値:{nk}\")\n",
        "nkp = float(Decimal(str(pp*100)).quantize(Decimal('0.000000000001'),rounding=ROUND_HALF_UP))\n",
        "print(f\"p値：{nkp}%\")"
      ],
      "metadata": {
        "colab": {
          "base_uri": "https://localhost:8080/"
        },
        "id": "S4xgqAU4bj_o",
        "outputId": "8d018550-88d3-4a34-f2cc-d59cd21811ca"
      },
      "execution_count": 35,
      "outputs": [
        {
          "output_type": "stream",
          "name": "stdout",
          "text": [
            "検定統計量のt値:8.338\n",
            "p値：7.4e-11%\n"
          ]
        }
      ]
    },
    {
      "cell_type": "markdown",
      "source": [
        "適切なサンプルサイズを設定することで、検定力を$0.8$に近づけることができます。"
      ],
      "metadata": {
        "id": "f7wMgYwNkNhP"
      }
    },
    {
      "cell_type": "code",
      "source": [
        "power.solve_power(effect_size=effect_size , nobs1=None , alpha=0.05 , power = 0.8 , ratio=n2/n1)"
      ],
      "metadata": {
        "colab": {
          "base_uri": "https://localhost:8080/"
        },
        "id": "sVLf6yalcm6O",
        "outputId": "e05a7ba2-2107-4663-ccf9-595318112f14"
      },
      "execution_count": 37,
      "outputs": [
        {
          "output_type": "execute_result",
          "data": {
            "text/plain": [
              "6.424621062110947"
            ]
          },
          "metadata": {},
          "execution_count": 37
        }
      ]
    },
    {
      "cell_type": "markdown",
      "source": [
        "検定力を$0.8$、効果量を母集団の効果量で仮定したとき、  \n",
        "標本を$7$くらい取ってくるとよいことが分かりました。\n",
        "\n",
        "実際に標本を抽出して検定力分析を行います。"
      ],
      "metadata": {
        "id": "YHcjKg6ipldO"
      }
    },
    {
      "cell_type": "code",
      "source": [
        "new_df = df.sample(7,random_state=0)  # 乱数を固定\n",
        "new_df.head(3)"
      ],
      "metadata": {
        "colab": {
          "base_uri": "https://localhost:8080/",
          "height": 413
        },
        "id": "sYa6tD7bp7nB",
        "outputId": "45e439b2-5bc4-4505-8d8f-1c43687f4bba"
      },
      "execution_count": 39,
      "outputs": [
        {
          "output_type": "execute_result",
          "data": {
            "text/plain": [
              "   都道府県    地方  15歳以上の平均睡眠時間（男）  15歳以上の平均睡眠時間（女）  運転免許保有者割合（%）  \\\n",
              "28  奈良県  近畿地方              461              444          65.9   \n",
              "33  広島県  中国地方              466              452          66.0   \n",
              "30  鳥取県  中国地方              469              456          67.8   \n",
              "\n",
              "    農業従事者（人口100人あたり）  平均通勤時間（片道）  自動車保有台数（人口100人あたり）  鉄道旅客輸送量(人口一人あたり)  \n",
              "28              1.42        41.0               59.99            124.49  \n",
              "33              1.33        25.1               64.89             68.84  \n",
              "30              4.55        18.3               81.54             18.46  "
            ],
            "text/html": [
              "\n",
              "  <div id=\"df-fdf93a83-b9a3-4477-b4f0-c7621038b720\">\n",
              "    <div class=\"colab-df-container\">\n",
              "      <div>\n",
              "<style scoped>\n",
              "    .dataframe tbody tr th:only-of-type {\n",
              "        vertical-align: middle;\n",
              "    }\n",
              "\n",
              "    .dataframe tbody tr th {\n",
              "        vertical-align: top;\n",
              "    }\n",
              "\n",
              "    .dataframe thead th {\n",
              "        text-align: right;\n",
              "    }\n",
              "</style>\n",
              "<table border=\"1\" class=\"dataframe\">\n",
              "  <thead>\n",
              "    <tr style=\"text-align: right;\">\n",
              "      <th></th>\n",
              "      <th>都道府県</th>\n",
              "      <th>地方</th>\n",
              "      <th>15歳以上の平均睡眠時間（男）</th>\n",
              "      <th>15歳以上の平均睡眠時間（女）</th>\n",
              "      <th>運転免許保有者割合（%）</th>\n",
              "      <th>農業従事者（人口100人あたり）</th>\n",
              "      <th>平均通勤時間（片道）</th>\n",
              "      <th>自動車保有台数（人口100人あたり）</th>\n",
              "      <th>鉄道旅客輸送量(人口一人あたり)</th>\n",
              "    </tr>\n",
              "  </thead>\n",
              "  <tbody>\n",
              "    <tr>\n",
              "      <th>28</th>\n",
              "      <td>奈良県</td>\n",
              "      <td>近畿地方</td>\n",
              "      <td>461</td>\n",
              "      <td>444</td>\n",
              "      <td>65.9</td>\n",
              "      <td>1.42</td>\n",
              "      <td>41.0</td>\n",
              "      <td>59.99</td>\n",
              "      <td>124.49</td>\n",
              "    </tr>\n",
              "    <tr>\n",
              "      <th>33</th>\n",
              "      <td>広島県</td>\n",
              "      <td>中国地方</td>\n",
              "      <td>466</td>\n",
              "      <td>452</td>\n",
              "      <td>66.0</td>\n",
              "      <td>1.33</td>\n",
              "      <td>25.1</td>\n",
              "      <td>64.89</td>\n",
              "      <td>68.84</td>\n",
              "    </tr>\n",
              "    <tr>\n",
              "      <th>30</th>\n",
              "      <td>鳥取県</td>\n",
              "      <td>中国地方</td>\n",
              "      <td>469</td>\n",
              "      <td>456</td>\n",
              "      <td>67.8</td>\n",
              "      <td>4.55</td>\n",
              "      <td>18.3</td>\n",
              "      <td>81.54</td>\n",
              "      <td>18.46</td>\n",
              "    </tr>\n",
              "  </tbody>\n",
              "</table>\n",
              "</div>\n",
              "      <button class=\"colab-df-convert\" onclick=\"convertToInteractive('df-fdf93a83-b9a3-4477-b4f0-c7621038b720')\"\n",
              "              title=\"Convert this dataframe to an interactive table.\"\n",
              "              style=\"display:none;\">\n",
              "        \n",
              "  <svg xmlns=\"http://www.w3.org/2000/svg\" height=\"24px\"viewBox=\"0 0 24 24\"\n",
              "       width=\"24px\">\n",
              "    <path d=\"M0 0h24v24H0V0z\" fill=\"none\"/>\n",
              "    <path d=\"M18.56 5.44l.94 2.06.94-2.06 2.06-.94-2.06-.94-.94-2.06-.94 2.06-2.06.94zm-11 1L8.5 8.5l.94-2.06 2.06-.94-2.06-.94L8.5 2.5l-.94 2.06-2.06.94zm10 10l.94 2.06.94-2.06 2.06-.94-2.06-.94-.94-2.06-.94 2.06-2.06.94z\"/><path d=\"M17.41 7.96l-1.37-1.37c-.4-.4-.92-.59-1.43-.59-.52 0-1.04.2-1.43.59L10.3 9.45l-7.72 7.72c-.78.78-.78 2.05 0 2.83L4 21.41c.39.39.9.59 1.41.59.51 0 1.02-.2 1.41-.59l7.78-7.78 2.81-2.81c.8-.78.8-2.07 0-2.86zM5.41 20L4 18.59l7.72-7.72 1.47 1.35L5.41 20z\"/>\n",
              "  </svg>\n",
              "      </button>\n",
              "      \n",
              "  <style>\n",
              "    .colab-df-container {\n",
              "      display:flex;\n",
              "      flex-wrap:wrap;\n",
              "      gap: 12px;\n",
              "    }\n",
              "\n",
              "    .colab-df-convert {\n",
              "      background-color: #E8F0FE;\n",
              "      border: none;\n",
              "      border-radius: 50%;\n",
              "      cursor: pointer;\n",
              "      display: none;\n",
              "      fill: #1967D2;\n",
              "      height: 32px;\n",
              "      padding: 0 0 0 0;\n",
              "      width: 32px;\n",
              "    }\n",
              "\n",
              "    .colab-df-convert:hover {\n",
              "      background-color: #E2EBFA;\n",
              "      box-shadow: 0px 1px 2px rgba(60, 64, 67, 0.3), 0px 1px 3px 1px rgba(60, 64, 67, 0.15);\n",
              "      fill: #174EA6;\n",
              "    }\n",
              "\n",
              "    [theme=dark] .colab-df-convert {\n",
              "      background-color: #3B4455;\n",
              "      fill: #D2E3FC;\n",
              "    }\n",
              "\n",
              "    [theme=dark] .colab-df-convert:hover {\n",
              "      background-color: #434B5C;\n",
              "      box-shadow: 0px 1px 3px 1px rgba(0, 0, 0, 0.15);\n",
              "      filter: drop-shadow(0px 1px 2px rgba(0, 0, 0, 0.3));\n",
              "      fill: #FFFFFF;\n",
              "    }\n",
              "  </style>\n",
              "\n",
              "      <script>\n",
              "        const buttonEl =\n",
              "          document.querySelector('#df-fdf93a83-b9a3-4477-b4f0-c7621038b720 button.colab-df-convert');\n",
              "        buttonEl.style.display =\n",
              "          google.colab.kernel.accessAllowed ? 'block' : 'none';\n",
              "\n",
              "        async function convertToInteractive(key) {\n",
              "          const element = document.querySelector('#df-fdf93a83-b9a3-4477-b4f0-c7621038b720');\n",
              "          const dataTable =\n",
              "            await google.colab.kernel.invokeFunction('convertToInteractive',\n",
              "                                                     [key], {});\n",
              "          if (!dataTable) return;\n",
              "\n",
              "          const docLinkHtml = 'Like what you see? Visit the ' +\n",
              "            '<a target=\"_blank\" href=https://colab.research.google.com/notebooks/data_table.ipynb>data table notebook</a>'\n",
              "            + ' to learn more about interactive tables.';\n",
              "          element.innerHTML = '';\n",
              "          dataTable['output_type'] = 'display_data';\n",
              "          await google.colab.output.renderOutput(dataTable, element);\n",
              "          const docLink = document.createElement('div');\n",
              "          docLink.innerHTML = docLinkHtml;\n",
              "          element.appendChild(docLink);\n",
              "        }\n",
              "      </script>\n",
              "    </div>\n",
              "  </div>\n",
              "  "
            ]
          },
          "metadata": {},
          "execution_count": 39
        }
      ]
    },
    {
      "cell_type": "code",
      "source": [
        "new_male_sleep = new_df[\"15歳以上の平均睡眠時間（男）\"]\n",
        "new_female_sleep = new_df[\"15歳以上の平均睡眠時間（女）\"] "
      ],
      "metadata": {
        "id": "R4hij6O3qTLM"
      },
      "execution_count": 40,
      "outputs": []
    },
    {
      "cell_type": "code",
      "source": [
        "power = TTestIndPower()\n",
        "new_effect_size = cohen_d(new_male_sleep , new_female_sleep)\n",
        "n1 = len(new_male_sleep)\n",
        "n2 = len(new_female_sleep)\n",
        "\n",
        "stats_power = power.solve_power(effect_size=new_effect_size , nobs1=n1 , alpha=0.05 , power = None , ratio=n2/n1)\n",
        "stats_power"
      ],
      "metadata": {
        "colab": {
          "base_uri": "https://localhost:8080/"
        },
        "id": "ALPnrni8qey0",
        "outputId": "d1ba56e9-f0f0-409c-9666-9fe49418ecee"
      },
      "execution_count": 42,
      "outputs": [
        {
          "output_type": "execute_result",
          "data": {
            "text/plain": [
              "0.5246489089398916"
            ]
          },
          "metadata": {},
          "execution_count": 42
        }
      ]
    },
    {
      "cell_type": "markdown",
      "source": [
        "効果量の値が変わるので検定力を$0.8$に限りなく近づけることは難しいですが、  \n",
        "検定力を小さくすることができました。"
      ],
      "metadata": {
        "id": "WCuYVIEBqyUx"
      }
    },
    {
      "cell_type": "code",
      "source": [
        "tt , pp = stats.ttest_ind(new_male_sleep , new_female_sleep , equal_var=False)\n",
        "\n",
        "nk = float(Decimal(str(tt)).quantize(Decimal('0.001'),rounding=ROUND_HALF_UP))\n",
        "print(f\"検定統計量のt値:{nk}\")\n",
        "nkp = float(Decimal(str(pp*100)).quantize(Decimal('0.000000000001'),rounding=ROUND_HALF_UP))\n",
        "print(f\"p値：{nkp}%\")"
      ],
      "metadata": {
        "colab": {
          "base_uri": "https://localhost:8080/"
        },
        "id": "rB13WYy4qres",
        "outputId": "5988d348-98d0-4b8f-f478-4ca657823cce"
      },
      "execution_count": 43,
      "outputs": [
        {
          "output_type": "stream",
          "name": "stdout",
          "text": [
            "検定統計量のt値:2.199\n",
            "p値：4.842689151313%\n"
          ]
        }
      ]
    },
    {
      "cell_type": "markdown",
      "source": [
        "## Pythonによる描画"
      ],
      "metadata": {
        "id": "bi-_CI8AsQh5"
      }
    },
    {
      "cell_type": "markdown",
      "source": [
        "それぞれの効果量における、検定力の推移を描画することができます。  \n",
        "\n",
        "ここでは$x$軸にサンプルサイズ、  \n",
        "$y$軸に検定力を取ります。"
      ],
      "metadata": {
        "id": "f10b02K2sT_h"
      }
    },
    {
      "cell_type": "code",
      "source": [
        "fig = power.plot_power(dep_var=\"nobs\" , nobs=np.array(range(5,100)) ,\n",
        "                       effect_size=[0.2,0.5,0.8])"
      ],
      "metadata": {
        "colab": {
          "base_uri": "https://localhost:8080/",
          "height": 292
        },
        "id": "9DWiNdwermLd",
        "outputId": "2e34e810-92ff-45a7-878b-daa766053418"
      },
      "execution_count": 53,
      "outputs": [
        {
          "output_type": "display_data",
          "data": {
            "text/plain": [
              "<Figure size 432x288 with 1 Axes>"
            ],
            "image/png": "[encoded data removed]"
          },
          "metadata": {
            "needs_background": "light"
          }
        }
      ]
    },
    {
      "cell_type": "markdown",
      "source": [
        "効果量を仮定することさえできれば、  \n",
        "サンプルサイズの目安を定めることができます。"
      ],
      "metadata": {
        "id": "BA9MCDPuvkld"
      }
    }
  ]
}