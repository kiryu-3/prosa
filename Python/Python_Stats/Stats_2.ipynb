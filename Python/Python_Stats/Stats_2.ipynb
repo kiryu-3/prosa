{
  "nbformat": 4,
  "nbformat_minor": 0,
  "metadata": {
    "colab": {
      "provenance": [],
      "include_colab_link": true
    },
    "kernelspec": {
      "name": "python3",
      "display_name": "Python 3"
    },
    "language_info": {
      "name": "python"
    },
    "gpuClass": "standard"
  },
  "cells": [
    {
      "cell_type": "markdown",
      "metadata": {
        "id": "view-in-github",
        "colab_type": "text"
      },
      "source": [
        "<a href=\"https://colab.research.google.com/github/kiryu-3/prosa/blob/main/Python/Python_Stats/Stats_2.ipynb\" target=\"_parent\"><img src=\"https://colab.research.google.com/assets/colab-badge.svg\" alt=\"Open In Colab\"/></a>"
      ]
    },
    {
      "cell_type": "markdown",
      "source": [
        "# 第2章 確率と確率分布"
      ],
      "metadata": {
        "id": "RFVGe4OYsmyG"
      }
    },
    {
      "cell_type": "code",
      "execution_count": null,
      "metadata": {
        "id": "Ul0JlSJvsgaz"
      },
      "outputs": [],
      "source": [
        "import numpy as np\n",
        "import pandas as pd\n",
        "import matplotlib.pyplot as plt\n",
        "!pip install japanize-matplotlib\n",
        "import japanize_matplotlib\n",
        "import seaborn as sns\n",
        "from scipy import stats\n",
        "from scipy.stats import norm\n",
        "from scipy.stats import geom\n",
        "from scipy.stats import expon\n",
        "from scipy.stats import poisson\n",
        "import math"
      ]
    },
    {
      "cell_type": "markdown",
      "source": [
        "## 確率\n",
        "ある事象が起こる確かさの程度を**確率**といいます。  \n",
        "\"ある事象\"が起こる確率は **$P$**(\"ある事象\") と表します。\n",
        "\n",
        "※**試行**：その結果が予想通りになるかどうか実験や観察を行い試すこと  \n",
        "※**事象**：試行によって起こった結果  \n",
        " \n",
        "（確率の求め方についてはここでは詳しく触れませんので、[こちら](https://bit.ly/3DlMQpD)を参考にしてください）"
      ],
      "metadata": {
        "id": "DYrjLWuStt08"
      }
    },
    {
      "cell_type": "markdown",
      "source": [
        "### 確率変数\n",
        "値が確率的に変動する変数を**確率変数**といいます。通常**$X$**で表します。  \n",
        "それぞれの値に確率**$P(X)$**が対応しています。\n",
        "\n",
        "\n",
        "\n"
      ],
      "metadata": {
        "id": "ioNkvoLhzjcA"
      }
    },
    {
      "cell_type": "markdown",
      "source": [
        "例：サイコロを振って出た目   \n",
        "\n",
        "|  サイコロの目 $X$ | 1 | 2 | 3 | 4 | 5 | 6 | \n",
        "| ---- | --- | --- | --- | --- | --- | --- | \n",
        "| 確率 $P(X)$ | $\\frac{1}{6}$ | $\\frac{1}{6}$ |  $\\frac{1}{6}$ |  $\\frac{1}{6}$ |  $\\frac{1}{6}$ |  $\\frac{1}{6}$ | \n"
      ],
      "metadata": {
        "id": "enp4YiybYvg4"
      }
    },
    {
      "cell_type": "markdown",
      "source": [
        "例えば、「サイコロを投げて$3$の目が出る事象の確率は$1/6$である」ことは、  \n",
        "以下のように書くことができます。    \n",
        "\n",
        "$$\n",
        "    P(X=3) = \\frac{1}{6}　または　P(3) = \\frac{1}{6}\n",
        "$$"
      ],
      "metadata": {
        "id": "9LKQperZYEVo"
      }
    },
    {
      "cell_type": "markdown",
      "source": [
        "サイコロの目のように、離散的な（飛び飛びの）値をとる確率変数を**離散的確率変数**といいます。  \n",
        "一方、連続の値をとる確率変数を**連続型確率変数**といいます。"
      ],
      "metadata": {
        "id": "gOcDUhEaEkVF"
      }
    },
    {
      "cell_type": "markdown",
      "source": [
        "## 確率分布\n",
        "確率変数の値とそれに対応する確率を表した分布を**確率分布**といいます。  \n",
        "見たほうが早いと思うので、さっそくサイコロの例の確率分布を描画してみましょう。"
      ],
      "metadata": {
        "id": "JHx4-4kG9v13"
      }
    },
    {
      "cell_type": "code",
      "source": [
        "# 離散型確率分布\n",
        "x = np.arange(1, 7)  # 確率変数は1～6\n",
        "y = stats.randint(1, 7).pmf(x)  # yの値はすべて1/6\n",
        "plt.plot(x, y, 'o')\n",
        "plt.vlines(x, 0, y)"
      ],
      "metadata": {
        "id": "C-YurxmXBVjZ",
        "colab": {
          "base_uri": "https://localhost:8080/",
          "height": 285
        },
        "outputId": "c532a2cd-9f21-4e15-af4a-831e8494e6fe"
      },
      "execution_count": 2,
      "outputs": [
        {
          "output_type": "execute_result",
          "data": {
            "text/plain": [
              "<matplotlib.collections.LineCollection at 0x7f6bd5ad5ca0>"
            ]
          },
          "metadata": {},
          "execution_count": 2
        },
        {
          "output_type": "display_data",
          "data": {
            "text/plain": [
              "<Figure size 432x288 with 1 Axes>"
            ],
            "image/png": "[encoded data removed]"
          },
          "metadata": {
            "needs_background": "light"
          }
        }
      ]
    },
    {
      "cell_type": "markdown",
      "source": [
        "離散型確率分布の関数は**確率質量関数**(**PMF**)といいます。"
      ],
      "metadata": {
        "id": "fvvLE7NiBqmz"
      }
    },
    {
      "cell_type": "markdown",
      "source": [
        "連続型確率分布についても描画してみましょう。"
      ],
      "metadata": {
        "id": "Bugn2vkHFL6i"
      }
    },
    {
      "cell_type": "code",
      "source": [
        "# 連続型確率分布\n",
        "x = np.linspace(-3, 3, 100)\n",
        "y = stats.norm.pdf(x=x,loc=0, scale=1)  # 平均値0,標準偏差1の正規分布の描画\n",
        "plt.plot(x, y)\n",
        "\n",
        "plt.show()"
      ],
      "metadata": {
        "id": "RV20xGhrFUoN",
        "colab": {
          "base_uri": "https://localhost:8080/",
          "height": 264
        },
        "outputId": "3ea1ae29-f0ff-4035-882d-ee5fee3ac7ca"
      },
      "execution_count": 3,
      "outputs": [
        {
          "output_type": "display_data",
          "data": {
            "text/plain": [
              "<Figure size 432x288 with 1 Axes>"
            ],
            "image/png": "[encoded data removed]"
          },
          "metadata": {
            "needs_background": "light"
          }
        }
      ]
    },
    {
      "cell_type": "markdown",
      "source": [
        "連続型確率分布の関数は**確率密度関数**(**PDF**)といいます。  \n",
        "（今回は正規分布の描画ですが、第3章で説明があります）\n",
        "\n"
      ],
      "metadata": {
        "id": "9801wXbKw4KR"
      }
    },
    {
      "cell_type": "markdown",
      "source": [
        "この分布の高さを**確率密度**といいます（確率とはいいません）。  \n",
        "例えば、$x=0$ の時は確率密度がおよそ $0.4$ となります。\n",
        "\n",
        "確率変数が一定の幅を取る場合、**その面積が確率**となります。そして、**全面積は必ず$1$**となります。\n"
      ],
      "metadata": {
        "id": "gYfnYqsfy_Ym"
      }
    },
    {
      "cell_type": "markdown",
      "source": [
        "### 累積分布関数\n",
        "確率密度関数をある値まで確率を積み上げた値を返す関数を**累積分布関数**といいます。  \n",
        "これも見たほうが早いと思います。"
      ],
      "metadata": {
        "id": "YNTzHXy7CVwD"
      }
    },
    {
      "cell_type": "code",
      "source": [
        "# 連続型確率分布①\n",
        "x = np.linspace(-3, 3, 100)\n",
        "y = stats.norm.pdf(x=x,loc=0, scale=1)  # 平均値0,標準偏差1の正規分布の描画\n",
        "plt.plot(x, y)"
      ],
      "metadata": {
        "id": "jo4-0ia43cDY",
        "colab": {
          "base_uri": "https://localhost:8080/",
          "height": 281
        },
        "outputId": "f591509c-a8f9-476e-9d84-1364d96bfbec"
      },
      "execution_count": 4,
      "outputs": [
        {
          "output_type": "execute_result",
          "data": {
            "text/plain": [
              "[<matplotlib.lines.Line2D at 0x7f6bd559d880>]"
            ]
          },
          "metadata": {},
          "execution_count": 4
        },
        {
          "output_type": "display_data",
          "data": {
            "text/plain": [
              "<Figure size 432x288 with 1 Axes>"
            ],
            "image/png": "[encoded data removed]"
          },
          "metadata": {
            "needs_background": "light"
          }
        }
      ]
    },
    {
      "cell_type": "code",
      "source": [
        "# 連続型確率分布②\n",
        "x = np.linspace(-3, 3, 100)\n",
        "y = stats.norm.pdf(x=x,loc=0, scale=0.5)  # 平均値0,標準偏差0.5の正規分布の描画\n",
        "plt.plot(x, y)"
      ],
      "metadata": {
        "id": "wnJHK8JvDuqJ",
        "colab": {
          "base_uri": "https://localhost:8080/",
          "height": 281
        },
        "outputId": "4bfcfa75-ac37-4de2-cae2-291f1ab1bae0"
      },
      "execution_count": 5,
      "outputs": [
        {
          "output_type": "execute_result",
          "data": {
            "text/plain": [
              "[<matplotlib.lines.Line2D at 0x7f6bd550f0d0>]"
            ]
          },
          "metadata": {},
          "execution_count": 5
        },
        {
          "output_type": "display_data",
          "data": {
            "text/plain": [
              "<Figure size 432x288 with 1 Axes>"
            ],
            "image/png": "[encoded data removed]"
          },
          "metadata": {
            "needs_background": "light"
          }
        }
      ]
    },
    {
      "cell_type": "markdown",
      "source": [
        "上では2つの正規分布を描画しましたが、この2つの差はイマイチピンと来ないと思います。  \n",
        "累積分布関数を描画することで、複数の分布の際を視覚的に理解することができます。"
      ],
      "metadata": {
        "id": "RlPtMxEVEhHx"
      }
    },
    {
      "cell_type": "code",
      "source": [
        "# 累積分布関数\n",
        "x1 = np.linspace(-3, 3, 100)\n",
        "y1 = stats.norm.cdf(x=x,loc=0, scale=1)\n",
        "x2 = np.linspace(-3, 3, 100)\n",
        "y2 = stats.norm.cdf(x=x,loc=0, scale=0.5)\n",
        "\n",
        "plt.plot(x1, y1, label=\"y1\")\n",
        "plt.plot(x2, y2, label=\"y2\")\n",
        "plt.legend()\n",
        "\n",
        "plt.show()"
      ],
      "metadata": {
        "id": "yWKjiwGmE0kv",
        "colab": {
          "base_uri": "https://localhost:8080/",
          "height": 264
        },
        "outputId": "a3e4892e-46ac-464a-e84b-3364fb6b5dbf"
      },
      "execution_count": 6,
      "outputs": [
        {
          "output_type": "display_data",
          "data": {
            "text/plain": [
              "<Figure size 432x288 with 1 Axes>"
            ],
            "image/png": "[encoded data removed]"
          },
          "metadata": {
            "needs_background": "light"
          }
        }
      ]
    },
    {
      "cell_type": "markdown",
      "source": [
        "確率の上がり具合の差異などが分かりやすくなったと思います。\n",
        "\n",
        "細かい話は[こちら](https://bellcurve.jp/statistics/course/6708.html)などを参照してください。"
      ],
      "metadata": {
        "id": "oN4VQ0faHBAk"
      }
    },
    {
      "cell_type": "markdown",
      "source": [
        "### 二項分布\n"
      ],
      "metadata": {
        "id": "7wwHzVTiHNtT"
      }
    },
    {
      "cell_type": "markdown",
      "source": [
        "確率分布には様々なものが存在しますが、そのほとんどが  \n",
        "これから紹介する**二項分布**から派生したものです。 \n",
        " \n",
        "他の分布については次の章で述べるとして、ここでは二項分布について触れます。"
      ],
      "metadata": {
        "id": "iJ6noW9QX247"
      }
    },
    {
      "cell_type": "markdown",
      "source": [
        "「コインを投げた時の結果は表か裏か」など、何かを行ったときに起こる結果が2つしかない試行を  \n",
        "**ベルヌーイ試行**といいます。\n",
        "  \n",
        "そしてこの1回の事象が起こる確率を$p$とします。\n"
      ],
      "metadata": {
        "id": "fq2GNfphbpy7"
      }
    },
    {
      "cell_type": "markdown",
      "source": [
        "このベルヌーイ試行を$n$回行った後に、ある事象が起こる回数が従う確率分布を**二項分布**といいます。  \n",
        "起こる回数（$x$とします）が確率変数です。"
      ],
      "metadata": {
        "id": "2_LLY6qggDLa"
      }
    },
    {
      "cell_type": "markdown",
      "source": [
        "二項分布の確率質量変数は次のような式になります。\n",
        "\n",
        "$$\n",
        "f(x) ={}_n C_x×p^x×(1-p)^{n-x}\n",
        "$$\n",
        "\n",
        "組み合わせの式などを復習したい方は[こちら](https://bellcurve.jp/statistics/course/5762.html)などを参考にしてください。"
      ],
      "metadata": {
        "id": "qFWYX1uul2of"
      }
    },
    {
      "cell_type": "markdown",
      "source": [
        "例：サイコロを3回投げて4がx回出る確率  \n",
        "\n",
        "| 0回 | 1回 |\n",
        "| --- | --- |\n",
        "| $$f(0) = \\frac{125}{216}$$ | $$f(1) = \\frac{75}{216}$$ \n",
        "|$$\\biggl(={}_3 C_0×\\Bigl(\\frac{1}{6}\\Bigr)^{0}×\\Bigl(1-\\frac{1}{6}\\Bigr)^{3-0}\\biggr)$$ | $$\\biggl(={}_3 C_1×\\Bigl(\\frac{1}{6}\\Bigr)^{1}×\\Bigl(1-\\frac{1}{6}\\Bigr)^{3-1}\\biggr)$$ "
      ],
      "metadata": {
        "id": "srHp3_SUb1Td"
      }
    },
    {
      "cell_type": "markdown",
      "source": [
        "| 2回 | 3回 |\n",
        "| --- | --- |\n",
        "| $$f(2) = \\frac{15}{216}$$ |  $$f(3) = \\frac{1}{216}$$ |\n",
        "| $$\\biggl(={}_3 C_2×\\Bigl(\\frac{1}{6}\\Bigr)^{2}×\\Bigl(1-\\frac{1}{6}\\Bigr)^{3-2}\\biggr)$$ | $$\\biggl(={}_3 C_3×\\Bigl(\\frac{1}{6}\\Bigr)^{3}×\\Bigl(1-\\frac{1}{6}\\Bigr)^{3-3}\\biggr)$$ |"
      ],
      "metadata": {
        "id": "uQIHUZ0gIRmP"
      }
    },
    {
      "cell_type": "markdown",
      "source": [
        "二項分布をPythonで確かめてみましょう。\n",
        "\n",
        "\n"
      ],
      "metadata": {
        "id": "IGb5IKD7mIGO"
      }
    },
    {
      "cell_type": "code",
      "source": [
        "n = 3\n",
        "x = np.arange(n+1)\n",
        "y = stats.binom(n=n, p=1/6).pmf(x)  # n=x,p=1/6\n",
        "plt.plot(x, y, 'o')\n",
        "plt.vlines(x, 0, y)"
      ],
      "metadata": {
        "id": "dYkHFCv-k9Yt",
        "colab": {
          "base_uri": "https://localhost:8080/",
          "height": 282
        },
        "outputId": "014f2637-2519-433e-eea3-8c695d54fc6b"
      },
      "execution_count": 7,
      "outputs": [
        {
          "output_type": "execute_result",
          "data": {
            "text/plain": [
              "<matplotlib.collections.LineCollection at 0x7f6bd55bb850>"
            ]
          },
          "metadata": {},
          "execution_count": 7
        },
        {
          "output_type": "display_data",
          "data": {
            "text/plain": [
              "<Figure size 432x288 with 1 Axes>"
            ],
            "image/png": "[encoded data removed]"
          },
          "metadata": {
            "needs_background": "light"
          }
        }
      ]
    },
    {
      "cell_type": "markdown",
      "source": [
        "二項分布の期待値$E(X)$と分散$V(X)$は以下の通りです。    \n",
        " \n",
        "\n"
      ],
      "metadata": {
        "id": "PsxhCidCi3jl"
      }
    },
    {
      "cell_type": "markdown",
      "source": [
        "　　　　　　　　　　　　　　　　　　　　$E(X)=np$ \n",
        "   \n",
        "　　　　　　　　　　　　　　　　　　　　$V(X)=np(1-p)$ "
      ],
      "metadata": {
        "id": "CFWTVXQMj6ig"
      }
    },
    {
      "cell_type": "markdown",
      "source": [
        "[こちら](https://bit.ly/3E1XRhu)の演習問題の二項分布を描画してみましょう。"
      ],
      "metadata": {
        "id": "5-D8pSRCveYM"
      }
    },
    {
      "cell_type": "code",
      "source": [
        "# 打率が3割のバッターが、5打席中3打席以上でヒットを打つ確率\n",
        "\n",
        "n = 5\n",
        "x = np.arange(n+1)\n",
        "y = stats.binom(n=n, p=0.3).pmf(x)  # n=x,p=1/6\n",
        "plt.plot(x, y, 'o')\n",
        "plt.vlines(x, 0, y)"
      ],
      "metadata": {
        "id": "cO3cOlbawAeb",
        "colab": {
          "base_uri": "https://localhost:8080/",
          "height": 281
        },
        "outputId": "63fd4298-9c1b-49cd-bcd6-7a9fc5a0eb32"
      },
      "execution_count": 8,
      "outputs": [
        {
          "output_type": "execute_result",
          "data": {
            "text/plain": [
              "<matplotlib.collections.LineCollection at 0x7f6bd5446d00>"
            ]
          },
          "metadata": {},
          "execution_count": 8
        },
        {
          "output_type": "display_data",
          "data": {
            "text/plain": [
              "<Figure size 432x288 with 1 Axes>"
            ],
            "image/png": "[encoded data removed]"
          },
          "metadata": {
            "needs_background": "light"
          }
        }
      ]
    },
    {
      "cell_type": "code",
      "source": [
        "print(\"平均は{}\".format(5*0.3))\n",
        "print(\"標準偏差は{}\".format(np.sqrt(5*0.3*(1-0.3))))\n",
        "\n",
        "print(\"打率が3割のバッターは、平均5打席中1.5打席ヒットを打つ\")\n",
        "print(\"散らばりは1.02の程度になる\")"
      ],
      "metadata": {
        "id": "9h4XgW6DwTpE",
        "colab": {
          "base_uri": "https://localhost:8080/"
        },
        "outputId": "d85cfdeb-6950-4ebc-add8-be2c8a7b76bd"
      },
      "execution_count": 9,
      "outputs": [
        {
          "output_type": "stream",
          "name": "stdout",
          "text": [
            "平均は1.5\n",
            "標準偏差は1.0246950765959597\n",
            "打率が3割のバッターは、平均5打席中1.5打席ヒットを打つ\n",
            "散らばりは1.02の程度になる\n"
          ]
        }
      ]
    },
    {
      "cell_type": "markdown",
      "source": [
        "### ポワソン分布\n",
        "\n",
        "\n"
      ],
      "metadata": {
        "id": "55gxkzBj9W8J"
      }
    },
    {
      "cell_type": "markdown",
      "source": [
        "二項分布の発展形で、実際によく応用される確率分布を**ポワソン分布**といいます。  \n",
        "\n",
        "ポワソン分布は、二項分布の$np$を一定にして、$n$を**無限大**に大きく、$p$を限りなく小さくした極限です。  \n",
        "（これ以降、$np$を$λ$と表記します）"
      ],
      "metadata": {
        "id": "0y1eZmd5Xyfz"
      }
    },
    {
      "cell_type": "markdown",
      "source": [
        "ポワソン分布の数式は以下の通りです。\n",
        "\n",
        "$$\n",
        "P\\bigl(x\\bigr)=\\frac{λ^xe^{-λ}}{x!}\n",
        "$$\n",
        "\n",
        "このポワソン分布を使って、**「ある時間内に平均$λ$回起こる事象がその時間内に$x$回起こる確率」**を  \n",
        "求めることができます。（時間に限らないですが、よく使われます）"
      ],
      "metadata": {
        "id": "rdlk_Mgn-nwz"
      }
    },
    {
      "cell_type": "markdown",
      "source": [
        "ポワソン分布をPythonで確かめてみましょう。\n",
        "\n"
      ],
      "metadata": {
        "id": "oj3QMV2kAPEc"
      }
    },
    {
      "cell_type": "markdown",
      "source": [
        "例題：製品Aの製造時には平均して$200$個に$1$個の割合で不良品発生  \n",
        "　　　製造された製品Aを$10$個抜き取るとき、不良品が$1$個含まれる確率  \n",
        "（不良品が含まれる個数がポアソン分布に従うものとする）"
      ],
      "metadata": {
        "id": "cdy-0oALA9GS"
      }
    },
    {
      "cell_type": "code",
      "source": [
        "mu = 1/20  # 「10個に0.05個の割合で不良品発生」と単位を合わせる\n",
        "k = 1\n",
        "p1 = poisson.pmf(k=k, mu=mu)\n",
        "print(\"不良品が1個含まれる確率は{}%\".format(p1*100))"
      ],
      "metadata": {
        "id": "hiSeX6DXBB56",
        "colab": {
          "base_uri": "https://localhost:8080/"
        },
        "outputId": "7b8b77ff-d5d9-45c1-e939-80642edc3ca5"
      },
      "execution_count": 10,
      "outputs": [
        {
          "output_type": "stream",
          "name": "stdout",
          "text": [
            "不良品が1個含まれる確率は4.756147122503571%\n"
          ]
        }
      ]
    },
    {
      "cell_type": "markdown",
      "source": [
        "この値は大きいのでしょうか？分布を描画して確かめましょう。"
      ],
      "metadata": {
        "id": "wZYys3C3AYZT"
      }
    },
    {
      "cell_type": "code",
      "source": [
        "x = np.arange(11)\n",
        "mu = 1/20\n",
        "plt.plot(x,poisson.pmf(k=x,mu=mu),\"bo\")\n",
        "plt.vlines(x,0,poisson.pmf(k=x,mu=mu))"
      ],
      "metadata": {
        "id": "I-cET--5_vAB",
        "colab": {
          "base_uri": "https://localhost:8080/",
          "height": 281
        },
        "outputId": "ca04c7e9-9ab8-4ac7-b7a0-4e3ad3c9450f"
      },
      "execution_count": 11,
      "outputs": [
        {
          "output_type": "execute_result",
          "data": {
            "text/plain": [
              "<matplotlib.collections.LineCollection at 0x7f6bd542b580>"
            ]
          },
          "metadata": {},
          "execution_count": 11
        },
        {
          "output_type": "display_data",
          "data": {
            "text/plain": [
              "<Figure size 432x288 with 1 Axes>"
            ],
            "image/png": "[encoded data removed]"
          },
          "metadata": {
            "needs_background": "light"
          }
        }
      ]
    },
    {
      "cell_type": "markdown",
      "source": [
        "ちょっと分かりずらいですねー  \n",
        "以下の問題ではもう少し分かりやすくしようと思います。"
      ],
      "metadata": {
        "id": "3QcyH4-pCrav"
      }
    },
    {
      "cell_type": "markdown",
      "source": [
        "[こちら](https://bit.ly/3E32g3N)の演習問題のポワソン分布を描画してみましょう。"
      ],
      "metadata": {
        "id": "CUB5oBaxCxK3"
      }
    },
    {
      "cell_type": "code",
      "source": [
        "# 40個に1個の割合で当たりが入っているチョコレート\n",
        "# チョコレートを100個買ったときに、当たりが5つ含まれる確率"
      ],
      "metadata": {
        "id": "7wxXFN0yn78E"
      },
      "execution_count": 12,
      "outputs": []
    },
    {
      "cell_type": "code",
      "source": [
        "mu = 2.5  # 「100個に2.5個の割合で当たり」と単位を合わせる\n",
        "k = 5\n",
        "p1 = poisson.pmf(k=k, mu=mu)\n",
        "print(\"当たりが5つ含まれる確率は{}%\".format(p1*100))"
      ],
      "metadata": {
        "id": "Ph3L4VpVDA9W",
        "colab": {
          "base_uri": "https://localhost:8080/"
        },
        "outputId": "d8e374a8-3d8b-4877-d437-c15e6a95fa34"
      },
      "execution_count": 13,
      "outputs": [
        {
          "output_type": "stream",
          "name": "stdout",
          "text": [
            "当たりが5つ含まれる確率は6.680094289054267%\n"
          ]
        }
      ]
    },
    {
      "cell_type": "code",
      "source": [
        "x = np.arange(21)\n",
        "mu = 2.5\n",
        "plt.plot(x,poisson.pmf(k=x,mu=mu),\"bo\")\n",
        "plt.vlines(x,0,poisson.pmf(k=x,mu=mu))\n",
        "\n",
        "plt.show()"
      ],
      "metadata": {
        "id": "_O7PneEpDR9F",
        "colab": {
          "base_uri": "https://localhost:8080/",
          "height": 264
        },
        "outputId": "243c0590-039b-46d5-8322-e12db7563bd6"
      },
      "execution_count": 14,
      "outputs": [
        {
          "output_type": "display_data",
          "data": {
            "text/plain": [
              "<Figure size 432x288 with 1 Axes>"
            ],
            "image/png": "[encoded data removed]"
          },
          "metadata": {
            "needs_background": "light"
          }
        }
      ]
    },
    {
      "cell_type": "markdown",
      "source": [
        "当たりくじが2つ入っている確率が一番高いようです。"
      ],
      "metadata": {
        "id": "Wpd6jq3DDgc1"
      }
    },
    {
      "cell_type": "markdown",
      "source": [
        "ポワソン分布の期待値$E(X)$と分散$V(X)$は以下の通りです。    \n"
      ],
      "metadata": {
        "id": "GUxrK7d3bPdj"
      }
    },
    {
      "cell_type": "markdown",
      "source": [
        "　　　　　　　　　　　　　　　　　　　　$E(X)=λ$  \n",
        "　　　　　　　　　　　　　　　　　　　　$V(X)=λ$"
      ],
      "metadata": {
        "id": "JI04XMddj1oh"
      }
    },
    {
      "cell_type": "markdown",
      "source": [
        "### 幾何分布"
      ],
      "metadata": {
        "id": "gnyG9E9TWLob"
      }
    },
    {
      "cell_type": "markdown",
      "source": [
        "成功確率がである独立なベルヌーイ試行を繰り返す時、  \n",
        "初めて成功するまでの試行回数が従う確率分布を**幾何分布**といいます。"
      ],
      "metadata": {
        "id": "bY2gPp0zYKEI"
      }
    },
    {
      "cell_type": "markdown",
      "source": [
        "幾何分布の数式は以下の通りです。"
      ],
      "metadata": {
        "id": "hlJCqfHpY8er"
      }
    },
    {
      "cell_type": "markdown",
      "source": [
        "$$\n",
        "P\\bigl(X=k\\bigr)=(1-p)^{k-1}p　(k=1,2,3,…)\n",
        "$$"
      ],
      "metadata": {
        "id": "SVIcp8ArXICU"
      }
    },
    {
      "cell_type": "markdown",
      "source": [
        "例題：サイコロを投げて初めて1が出るまでの回数の確率"
      ],
      "metadata": {
        "id": "WEBitwFZZmzg"
      }
    },
    {
      "cell_type": "code",
      "source": [
        "x = np.arange(1, 11)\n",
        "y = geom.pmf(k=x, p=1/6)\n",
        "plt.plot(x, y, 'bo')\n",
        "plt.vlines(x, 0, y)\n",
        "plt.xlabel(\"サイコロを投げる回数\")\n",
        "plt.ylabel(\"確率\")"
      ],
      "metadata": {
        "id": "sLPD247pZhut",
        "colab": {
          "base_uri": "https://localhost:8080/",
          "height": 299
        },
        "outputId": "a28b4e2a-abd1-41f3-c2e8-fffcb7e9ed45"
      },
      "execution_count": 15,
      "outputs": [
        {
          "output_type": "execute_result",
          "data": {
            "text/plain": [
              "Text(0, 0.5, '確率')"
            ]
          },
          "metadata": {},
          "execution_count": 15
        },
        {
          "output_type": "display_data",
          "data": {
            "text/plain": [
              "<Figure size 432x288 with 1 Axes>"
            ],
            "image/png": "[encoded data removed]"
          },
          "metadata": {
            "needs_background": "light"
          }
        }
      ]
    },
    {
      "cell_type": "markdown",
      "source": [
        "幾何分布の期待値$E(X)$と分散$V(X)$は以下の通りです。\n",
        "\n"
      ],
      "metadata": {
        "id": "dNQBsu1McA8a"
      }
    },
    {
      "cell_type": "markdown",
      "source": [
        "　　　　　　　　　　　　　　　　　　　　$E(X)=\\frac{1}{p}$  \n",
        "\n",
        "　　　　　　　　　　　　　　　　　　　　$V(X)=\\frac{1-p}{p^2}$"
      ],
      "metadata": {
        "id": "8WwPZNv0jyko"
      }
    },
    {
      "cell_type": "markdown",
      "source": [
        "### 指数分布"
      ],
      "metadata": {
        "id": "zS4eHiEick-H"
      }
    },
    {
      "cell_type": "markdown",
      "source": [
        "ある時間(単位時間)内に平均$λ$回起こる事象が次に起こるまで(つまり発生間隔)が  \n",
        "$x$単位時間である確率の分布を**指数分布**といいます。"
      ],
      "metadata": {
        "id": "3-a18kfqcnN-"
      }
    },
    {
      "cell_type": "markdown",
      "source": [
        "指数分布の数式は以下の通りです。"
      ],
      "metadata": {
        "id": "EitSgZW041QH"
      }
    },
    {
      "cell_type": "markdown",
      "source": [
        "$$\n",
        "\\text{$f(x)=$}\n",
        "\\begin{cases}\n",
        "  \\text{$λe^{-λx}　x\\geq0$} \\\\\n",
        "  \\text{$0　x<0$}\n",
        "\\end{cases}\n",
        "$$"
      ],
      "metadata": {
        "id": "y6HaaZpDdYpV"
      }
    },
    {
      "cell_type": "markdown",
      "source": [
        "例題：1時間に平均10人が来るお店に、ある客が来てから次の客が来るまでの時間が5分以内である確率"
      ],
      "metadata": {
        "id": "v62bpgu9C4K7"
      }
    },
    {
      "cell_type": "code",
      "source": [
        "x = np.arange(-10, 60)\n",
        "y = expon.pdf(x=x, scale=6)  # 1分間の平均回数の逆数\n",
        "plt.plot(x, y)\n",
        "plt.xlabel(\"Time[min]\")\n",
        "plt.ylabel(\"probability density\")"
      ],
      "metadata": {
        "colab": {
          "base_uri": "https://localhost:8080/",
          "height": 298
        },
        "id": "67mW2SqDDf9K",
        "outputId": "c26ed76b-d88a-4d82-e66a-2293a2b4e889"
      },
      "execution_count": 16,
      "outputs": [
        {
          "output_type": "execute_result",
          "data": {
            "text/plain": [
              "Text(0, 0.5, 'probability density')"
            ]
          },
          "metadata": {},
          "execution_count": 16
        },
        {
          "output_type": "display_data",
          "data": {
            "text/plain": [
              "<Figure size 432x288 with 1 Axes>"
            ],
            "image/png": "[encoded data removed]"
          },
          "metadata": {
            "needs_background": "light"
          }
        }
      ]
    },
    {
      "cell_type": "markdown",
      "source": [
        "$x$までの累積分布関数$F(x)$は次のようになります。  \n",
        "\n",
        "$$\n",
        "F(x) = P(X \\geq x) = 1-e^{-λx}\n",
        "$$"
      ],
      "metadata": {
        "id": "Aof1zQ59hR8v"
      }
    },
    {
      "cell_type": "code",
      "source": [
        "expon.cdf(x=5, scale=6)  # 約57%"
      ],
      "metadata": {
        "colab": {
          "base_uri": "https://localhost:8080/"
        },
        "id": "gJjcrCg5XnPO",
        "outputId": "b565c956-9dcb-4eb6-83a0-f427a6fc02b2"
      },
      "execution_count": 17,
      "outputs": [
        {
          "output_type": "execute_result",
          "data": {
            "text/plain": [
              "0.5654017914929218"
            ]
          },
          "metadata": {},
          "execution_count": 17
        }
      ]
    },
    {
      "cell_type": "markdown",
      "source": [
        "幾何分布の期待値$E(X)$と分散$V(X)$は以下の通りです。 \n",
        "\n"
      ],
      "metadata": {
        "id": "bm5lrRDch7EN"
      }
    },
    {
      "cell_type": "markdown",
      "source": [
        "　　　　　　　　　　　　　　　　　　　　$E(X)=\\frac{1}{λ}$  \n",
        "\n",
        "　　　　　　　　　　　　　　　　　　　　$V(X)=\\frac{1}{λ^2}$"
      ],
      "metadata": {
        "id": "-xp9MscJjuQw"
      }
    },
    {
      "cell_type": "markdown",
      "source": [
        "## 補足\n",
        "最後に、有名Youtuberヨビノリ先生の動画で参考になりそうなものを紹介しておきます。\n",
        "\n",
        "①[ポアソン分布](https://bit.ly/3G2T0yd)  \n",
        "②[指数分布](https://bit.ly/3Thbain)  \n"
      ],
      "metadata": {
        "id": "KIbRxS1RQBJ6"
      }
    }
  ]
}