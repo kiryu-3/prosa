{
  "nbformat": 4,
  "nbformat_minor": 0,
  "metadata": {
    "colab": {
      "provenance": [],
      "collapsed_sections": [
        "waFW1NCKU2NF"
      ],
      "include_colab_link": true
    },
    "kernelspec": {
      "name": "python3",
      "display_name": "Python 3"
    },
    "language_info": {
      "name": "python"
    },
    "gpuClass": "standard"
  },
  "cells": [
    {
      "cell_type": "markdown",
      "metadata": {
        "id": "view-in-github",
        "colab_type": "text"
      },
      "source": [
        "<a href=\"https://colab.research.google.com/github/kiryu-3/prosa/blob/main/Python/Python_Stats/Stats_3.ipynb\" target=\"_parent\"><img src=\"https://colab.research.google.com/assets/colab-badge.svg\" alt=\"Open In Colab\"/></a>"
      ]
    },
    {
      "cell_type": "markdown",
      "source": [
        "# 第3章 正規分布と標準化"
      ],
      "metadata": {
        "id": "VfXEt3TyFVCU"
      }
    },
    {
      "cell_type": "code",
      "execution_count": null,
      "metadata": {
        "id": "ELiGFWf41ztk"
      },
      "outputs": [],
      "source": [
        "import numpy as np\n",
        "import pandas as pd\n",
        "import matplotlib.pyplot as plt\n",
        "!pip install japanize-matplotlib\n",
        "import japanize_matplotlib\n",
        "import seaborn as sns\n",
        "from scipy import stats\n",
        "from scipy.stats import norm"
      ]
    },
    {
      "cell_type": "markdown",
      "source": [
        "## 正規分布\n",
        "第2章で何度か登場した**正規分布**は、最もよく使われる分布です。  \n",
        "自然界の多くでよく見られます。（例：動物の身長や体重）\n",
        "\n"
      ],
      "metadata": {
        "id": "PiY84iJPHjCd"
      }
    },
    {
      "cell_type": "markdown",
      "source": [
        "平均$μ$と分散$σ^2$でその形状が決まります。  \n",
        "$$\n",
        "X:N(μ,σ^2)\n",
        "$$\n",
        "この表記は「変数$X$は、平均$μ$で分散が$σ^2$の正規分布をする」ことを表します。"
      ],
      "metadata": {
        "id": "o55JyNRcNAPy"
      }
    },
    {
      "cell_type": "markdown",
      "source": [
        "正規分布は次の図のように左右対称の形をしており、  \n",
        "横軸は**確率変数**を、縦軸はそのときの**確率密度**を表します。  \n",
        "（この形は釣鐘型であることから、**Bell shape**)とも呼ばれます）\n",
        "\n",
        "$μ$は中央にあります。  \n",
        "\n",
        "\n",
        "平均$μ$が大きければ右へ、小さければ左へ動き、  \n",
        "標準偏差$σ$が大きければ平たく広くなり、小さければ高く狭くなります。"
      ],
      "metadata": {
        "id": "Q8fpeX16NA4p"
      }
    },
    {
      "cell_type": "markdown",
      "source": [
        "正規分布の確率密度変数は次の式で表されます。  \n",
        "\n",
        "$$\n",
        "f(x) =\\frac{1}{\\sqrt{2\\pi}σ}e^{-\\frac{1}{2}(\\frac{x-μ}{σ})^2}\n",
        "$$\n",
        "\n",
        "実際はこの複雑な式を用いることはなく、**統計数値表**を用いて簡単に求めることが多いです。"
      ],
      "metadata": {
        "id": "o3LO0JGC51GE"
      }
    },
    {
      "cell_type": "markdown",
      "source": [
        "### 標準化\n",
        "平均0、分散1の正規分布を**標準正規分布**といいます。  \n",
        "ひとまず描画してみましょう。"
      ],
      "metadata": {
        "id": "V1iqJ3KX7S-o"
      }
    },
    {
      "cell_type": "code",
      "source": [
        "# 期待値・標準偏差を指定\n",
        "mu = 0\n",
        "sigma = 1\n",
        "\n",
        "# 等差数列を生成\n",
        "X = np.linspace(-4, 4, 100)\n",
        "\n",
        "# pdfで確率密度関数を生成\n",
        "norm_pdf = stats.norm.pdf(x=X, loc=mu, scale=sigma)  # 期待値=0, 標準偏差=1\n",
        "# 確率密度を取得\n",
        "norm_pdf_max = np.max(norm_pdf)  # 確率密度の最大値\n",
        "\n",
        "# グラフ描画\n",
        "plt.plot(X, norm_pdf, lw=5, color=\"tab:cyan\")\n",
        "\n",
        "# 垂直線\n",
        "plt.vlines(0, 0, norm_pdf_max+0.05, color=\"black\", lw=0.8)\n",
        "plt.hlines(0.2, -0.2, 0.2, color=\"black\", lw=1.2)  # 水平線\n",
        "plt.hlines(0.403, -0.2, 0.2, color=\"black\", lw=1.2)  # 水平線\n",
        "\n",
        "# 軸目盛\n",
        "#plt.xticks(color=\"None\")  # x軸目盛を消去\n",
        "plt.yticks(color=\"None\")  # y軸目盛を消去\n",
        "plt.ylim(0, norm_pdf_max + 0.02)  # y軸目盛範囲を指定\n",
        "\n",
        "# テキストを配置\n",
        "plt.text(-0.75, 0.2, '0.2', fontsize = 12) # 0.2\n",
        "plt.text(-0.75, 0.4, '0.4', fontsize = 12) # 0.4\n",
        "\n",
        "\n",
        "plt.xlabel(\"z\",labelpad=10,fontsize = 16)\n",
        "plt.ylabel(\"f\",fontsize = 16 , rotation=\"horizontal\")\n",
        "plt.title(\"標準正規分布\", x=0.5, y=-0.35, fontsize = 16)\n",
        "\n",
        "plt.show()"
      ],
      "metadata": {
        "id": "-VHEaaWqInC-",
        "colab": {
          "base_uri": "https://localhost:8080/",
          "height": 321
        },
        "outputId": "e451e893-9d5d-4a64-cecd-7a911c6eac3f"
      },
      "execution_count": 2,
      "outputs": [
        {
          "output_type": "display_data",
          "data": {
            "text/plain": [
              "<Figure size 432x288 with 1 Axes>"
            ],
            "image/png": "[encoded data removed]"
          },
          "metadata": {
            "needs_background": "light"
          }
        }
      ]
    },
    {
      "cell_type": "markdown",
      "source": [
        "0を中心に左右対称のグラフとなります。"
      ],
      "metadata": {
        "id": "hFN8xBT8bqcc"
      }
    },
    {
      "cell_type": "markdown",
      "source": [
        "このように、平均を0、分散を1にすることを**標準化**といいます。  \n",
        "次の式で表されます。$x$が変数です。\n",
        "\n",
        "$$\n",
        "z=\\frac{x-μ}{σ}\n",
        "$$\n",
        "\n",
        "この計算を通して得られた値を**$z$得点**といいます。"
      ],
      "metadata": {
        "id": "BvPFsyXZOott"
      }
    },
    {
      "cell_type": "markdown",
      "source": [
        "標準化をすることで、**「ある値が分布の中でどれくらいの位置にあるのか」**という尺度で  \n",
        "複数のデータ群を比較することができます。"
      ],
      "metadata": {
        "id": "KwfI32j6SPTz"
      }
    },
    {
      "cell_type": "markdown",
      "source": [
        "実際に手計算を行う際は、データを標準化した後に**標準正規分布表**を用いることで、確率を求めることができます。  \n",
        "下には**上側確率**（ある値より大きくなる確率）の表があります。\n"
      ],
      "metadata": {
        "id": "za3FEz4kTvwH"
      }
    },
    {
      "cell_type": "markdown",
      "source": [
        "### 標準正規分布表"
      ],
      "metadata": {
        "id": "waFW1NCKU2NF"
      }
    },
    {
      "cell_type": "markdown",
      "source": [
        "\n",
        "![toukei19.png](data:image/png;base64,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)"
      ],
      "metadata": {
        "id": "4NOxt5__Nz9M"
      }
    },
    {
      "cell_type": "markdown",
      "source": [
        "### 標準正規分布表の使い方"
      ],
      "metadata": {
        "id": "jvBVTBN94gpS"
      }
    },
    {
      "cell_type": "markdown",
      "source": [
        "＜例題＞  \n",
        "あるクラスのテスト結果は平均72.8点、標準偏差10点の正規分布に従っています。  \n",
        "この時、60点から80点の人は何%いるでしょうか。"
      ],
      "metadata": {
        "id": "98RqLjzU4kfr"
      }
    },
    {
      "cell_type": "markdown",
      "source": [
        "①「80点」を標準化$$\\frac{80-72.8}{10}=0.72$$ \n",
        "\n",
        "②**「小数点第1位以上」**と**「小数点第2位以下」**に分ける  \n",
        "→「0.72」を「0.7」と「0.02」に分ける  \n",
        "\n",
        "③標準正規分布表の内、「小数点第1位以上」は**左端**の行を、「小数点第2位以下」は**上端**の列を見る  \n",
        "→左端の「0.7」の行と「0.02」の列を見る \n",
        "\n",
        "④行と列が重なる部分は「0.23576」  \n",
        "→ $P(z≧0.72)=0.23576$  \n",
        "\n",
        "⑤80点以上の人は約23.6%いるということが分かる\n",
        "\n",
        "---------------------------------------------\n"
      ],
      "metadata": {
        "id": "Yo7oHS1D7ZMO"
      }
    },
    {
      "cell_type": "markdown",
      "source": [
        "①「60点」を標準化$$\\frac{60-72.8}{10}=-1.28$$ \n",
        "\n",
        "②標準正規分布表には負の値は存在しない。  \n",
        "　そのため、負の値を正の値として考える\n",
        "\n",
        "③**「小数点第1位以上」**と**「小数点第2位以下」**に分ける  \n",
        "→「1.28」を「1.2」と「0.08」に分ける  \n",
        "\n",
        "④標準正規分布表の内、「小数点第1位以上」は**左端**の行を、「小数点第2位以下」は**上端**の列を見る  \n",
        "→左端の「1.2」の行と「0.08」の列を見る \n",
        "\n",
        "⑤行と列が重なる部分は「0.10027」  \n",
        "→ $P(z≧1.28)=0.10027$  \n",
        "\n",
        "⑥標準正規分布は$Z=0$に対して左右対称である。  \n",
        "そのため、$P(z≧1.28)=P(z≦-1.28)$\n",
        "\n",
        "⑦$P(z≧-1.28)=1-P(z≦-1.28)=0.89973$  \n",
        "　60点以上の人は約90.0%いるということが分かる\n",
        "\n",
        "---------------------------------------------"
      ],
      "metadata": {
        "id": "m5vAqnNSDtDM"
      }
    },
    {
      "cell_type": "markdown",
      "source": [
        "$P(-1.28≦z≦0.72)=P(z≧-1.28)-P(z≧0.72)=0.66397$  \n",
        "60点以上80点以下の人は約66.4%いるということが分かる"
      ],
      "metadata": {
        "id": "rHKxS2aFO_gu"
      }
    },
    {
      "cell_type": "markdown",
      "source": [
        "### 演習\n"
      ],
      "metadata": {
        "id": "p1Dt4k8AN1nM"
      }
    },
    {
      "cell_type": "markdown",
      "source": [
        "#### Question1\n",
        "[こちら](https://bit.ly/3t0RrJb)の演習問題を解いてみましょう。"
      ],
      "metadata": {
        "id": "KAVi9qnbw-YK"
      }
    },
    {
      "cell_type": "markdown",
      "source": [
        "##### Question1-1"
      ],
      "metadata": {
        "id": "4hpFIsVWxU74"
      }
    },
    {
      "cell_type": "code",
      "source": [
        "norm.isf(q=0.1)  # 上側確率から横軸zの値を求める"
      ],
      "metadata": {
        "id": "-xD-_0x-VsBU",
        "colab": {
          "base_uri": "https://localhost:8080/"
        },
        "outputId": "482005bb-59cc-4007-db40-382133fe82a0"
      },
      "execution_count": 3,
      "outputs": [
        {
          "output_type": "execute_result",
          "data": {
            "text/plain": [
              "1.2815515655446004"
            ]
          },
          "metadata": {},
          "execution_count": 3
        }
      ]
    },
    {
      "cell_type": "markdown",
      "source": [
        "今回は$z$の値が1.28と1.29の中間になりました。  \n",
        "逆にこの値から確率を求めるときは、2つの確率の中間を取ることが多いです。"
      ],
      "metadata": {
        "id": "xbfAxEiEm5uC"
      }
    },
    {
      "cell_type": "code",
      "source": [
        "Px=(norm.sf(x=1.28)+norm.sf(x=1.29))/2  # z=1.28とz=1.29の上側確率の中間値を求める\n",
        "print(\"P(z≦{}) = {}\".format(norm.isf(q=0.1),Px))  # 手計算の時はこっち  \n",
        "print(\"P(z≦{}) = {}\".format(norm.isf(q=0.1),\n",
        "                             norm.sf(x=norm.isf(q=0.1))))  # 厳密解"
      ],
      "metadata": {
        "id": "oksYrEd9nMPB",
        "colab": {
          "base_uri": "https://localhost:8080/"
        },
        "outputId": "8732ba32-1ff3-4fd3-a177-cd93191ac0d6"
      },
      "execution_count": 4,
      "outputs": [
        {
          "output_type": "stream",
          "name": "stdout",
          "text": [
            "P(z≦1.2815515655446004) = 0.09939894850209496\n",
            "P(z≦1.2815515655446004) = 0.10000000000000009\n"
          ]
        }
      ]
    },
    {
      "cell_type": "markdown",
      "source": [
        "だいたい0.1になることが確認できるでしょう。  \n",
        "Pythonで$z$の値が中間値を取った場合はそのまま指定するだけでOKになりますが、一応補足でした。"
      ],
      "metadata": {
        "id": "rW7e0cOcntq7"
      }
    },
    {
      "cell_type": "markdown",
      "source": [
        "#### Question2\n",
        "続いて[こちら](https://bit.ly/3E4N3zp)の演習問題を解いてみましょう。"
      ],
      "metadata": {
        "id": "fsl0VjXRXYv4"
      }
    },
    {
      "cell_type": "markdown",
      "source": [
        "##### Question2-1\n"
      ],
      "metadata": {
        "id": "yu0TUYWHXlsI"
      }
    },
    {
      "cell_type": "code",
      "source": [
        "print(\"P(x≦172) = P(z≦0) = {}\".format(norm.sf(x=0)))  # 横軸から上側確率を求める"
      ],
      "metadata": {
        "id": "n54BADBBXjy4",
        "colab": {
          "base_uri": "https://localhost:8080/"
        },
        "outputId": "d5f6188c-58b0-4c7f-db63-25a268f09abd"
      },
      "execution_count": 5,
      "outputs": [
        {
          "output_type": "stream",
          "name": "stdout",
          "text": [
            "P(x≦172) = P(z≦0) = 0.5\n"
          ]
        }
      ]
    },
    {
      "cell_type": "markdown",
      "source": [
        "##### Question2-2"
      ],
      "metadata": {
        "id": "jY8StFImZSxW"
      }
    },
    {
      "cell_type": "code",
      "source": [
        "print(\"P(166.5≦x≦177.5) = P(-1≦z≦1)\\n = 2P(0≦z≦1)\\n = 2(P(z≧0) - P(z≧1))\\n = {}\".\n",
        "      format(2*(norm.sf(x=0)-norm.sf(x=1))))"
      ],
      "metadata": {
        "id": "Tc-zfCxEZT-I",
        "colab": {
          "base_uri": "https://localhost:8080/"
        },
        "outputId": "ebb40185-103b-42c0-8223-ca4dc5197f13"
      },
      "execution_count": 6,
      "outputs": [
        {
          "output_type": "stream",
          "name": "stdout",
          "text": [
            "P(166.5≦x≦177.5) = P(-1≦z≦1)\n",
            " = 2P(0≦z≦1)\n",
            " = 2(P(z≧0) - P(z≧1))\n",
            " = 0.6826894921370859\n"
          ]
        }
      ]
    },
    {
      "cell_type": "markdown",
      "source": [
        "##### Question2-3"
      ],
      "metadata": {
        "id": "AAjz-vZAaT_0"
      }
    },
    {
      "cell_type": "code",
      "source": [
        "Z = (180-172)/5.5    # 標準化\n",
        "print(\"P(x≧180) = P(z≧{}) = {}\".format(Z,norm.sf(x=Z)))\n",
        "print(\"180cm以上の高身長の男性は、全体の{}%しかいない\".format(100*norm.sf(x=Z)))"
      ],
      "metadata": {
        "id": "mKVk4ybjaU3j",
        "colab": {
          "base_uri": "https://localhost:8080/"
        },
        "outputId": "f6a91daf-c9f9-4f9a-8004-5de835c65a12"
      },
      "execution_count": 7,
      "outputs": [
        {
          "output_type": "stream",
          "name": "stdout",
          "text": [
            "P(x≧180) = P(z≧1.4545454545454546) = 0.07289757047598801\n",
            "180cm以上の高身長の男性は、全体の7.289757047598801%しかいない\n"
          ]
        }
      ]
    },
    {
      "cell_type": "markdown",
      "source": [
        "#### Question3\n",
        "続いて[こちら](https://bit.ly/3fw6FTC)の演習問題を解いてみましょう。"
      ],
      "metadata": {
        "id": "E0fLMvI5bRj5"
      }
    },
    {
      "cell_type": "markdown",
      "source": [
        "##### Question3-1"
      ],
      "metadata": {
        "id": "04Qau3-SbWYZ"
      }
    },
    {
      "cell_type": "code",
      "source": [
        "Z = (79-85)/4  # 標準化\n",
        "print(\"P(x≦79) = P(z≦{})\\n = P(z≧{})\\n = {}\".format(Z,-Z,norm.sf(x=-Z)))\n",
        "print(\"A君の下には{}%しかいない\".format(100*norm.sf(x=-Z)))"
      ],
      "metadata": {
        "id": "TQU_1DYwbXF5",
        "colab": {
          "base_uri": "https://localhost:8080/"
        },
        "outputId": "6f8fd92f-9c0a-4950-e5df-10e0ae6dcaa8"
      },
      "execution_count": 8,
      "outputs": [
        {
          "output_type": "stream",
          "name": "stdout",
          "text": [
            "P(x≦79) = P(z≦-1.5)\n",
            " = P(z≧1.5)\n",
            " = 0.06680720126885807\n",
            "A君の下には6.680720126885807%しかいない\n"
          ]
        }
      ]
    },
    {
      "cell_type": "markdown",
      "source": [
        "##### Question3-2"
      ],
      "metadata": {
        "id": "VDhLrAYJdXcM"
      }
    },
    {
      "cell_type": "code",
      "source": [
        "Z = norm.isf(q=1-0.95)  # 上位5%となるz軸の座標\n",
        "print(\"(82-x)/10 = {}\".format(Z))\n",
        "print(\"xを求めると、x={}点≒66点\".format(82-1.64*10))"
      ],
      "metadata": {
        "id": "02TZos0xdYI0",
        "colab": {
          "base_uri": "https://localhost:8080/"
        },
        "outputId": "4c48c5dc-01b5-4ede-c387-ec4ab727b4a2"
      },
      "execution_count": 9,
      "outputs": [
        {
          "output_type": "stream",
          "name": "stdout",
          "text": [
            "(82-x)/10 = 1.6448536269514722\n",
            "xを求めると、x=65.6点≒66点\n"
          ]
        }
      ]
    },
    {
      "cell_type": "markdown",
      "source": [
        "### 偏差値\n",
        "派生形として**偏差値**があります。  \n",
        "平均50、標準偏差10に標準化した値です。次の式で表されます。\n",
        "\n",
        "$$\n",
        "Y=10×\\frac{x-μ}{σ}+50\n",
        "$$"
      ],
      "metadata": {
        "id": "RYPIxk2he3kM"
      }
    },
    {
      "cell_type": "markdown",
      "source": [
        "先ほどの演習の最後の問題の、A君の英語と数学の偏差値を求めてみましょう。"
      ],
      "metadata": {
        "id": "96Z1oHs-fkGQ"
      }
    },
    {
      "cell_type": "code",
      "source": [
        "print(\"英語の偏差値 = 10×(79-85)/4+50 = 10×(-1.5)+50 = {}\".format(10*(-1.5)+50))\n",
        "print(\"数学の偏差値 = 10×(66-82)/10×50 = 10×(1.64)+50 = {}\".format(10*(1.64)+50))"
      ],
      "metadata": {
        "id": "_PYw7yxGfy4H",
        "colab": {
          "base_uri": "https://localhost:8080/"
        },
        "outputId": "8fbb7e50-e910-499d-8103-dd937ed9e7a3"
      },
      "execution_count": 10,
      "outputs": [
        {
          "output_type": "stream",
          "name": "stdout",
          "text": [
            "英語の偏差値 = 10×(79-85)/4+50 = 10×(-1.5)+50 = 35.0\n",
            "数学の偏差値 = 10×(66-82)/10×50 = 10×(1.64)+50 = 66.4\n"
          ]
        }
      ]
    },
    {
      "cell_type": "markdown",
      "source": [
        "第3章は終了です。お疲れさまでしたー"
      ],
      "metadata": {
        "id": "DY49zWzKtBJD"
      }
    },
    {
      "cell_type": "markdown",
      "source": [
        "## 補足1 Pythonと標準化\n",
        "Pythonによる標準化は統計の分野ではあまり出番がありませんが、現場では使う機会が多いようです。  \n",
        "\n",
        "[こちら](https://bit.ly/3zTlExy)のデータについて、標準化しようと思います。"
      ],
      "metadata": {
        "id": "5EFDj6rbfIx4"
      }
    },
    {
      "cell_type": "code",
      "source": [
        "# dictionaryからDataFrameを作る\n",
        "\n",
        "data = {\n",
        "    \"標本A\" : [165.6,151.1,149.7,148.4,159.0,163.6,162.9,150.8,148.4,153.7],\n",
        "    \"標本B\" : [157.0,151.1,153.2,154.4,161.9,153.6,163.8,159.5,149.3,152.7]\n",
        "}\n",
        "\n",
        "df = pd.DataFrame(data)\n",
        "df"
      ],
      "metadata": {
        "id": "6GROFov4gIw2",
        "colab": {
          "base_uri": "https://localhost:8080/",
          "height": 363
        },
        "outputId": "0efacce9-2227-4865-f9d0-98ad4f7df43a"
      },
      "execution_count": 11,
      "outputs": [
        {
          "output_type": "execute_result",
          "data": {
            "text/plain": [
              "     標本A    標本B\n",
              "0  165.6  157.0\n",
              "1  151.1  151.1\n",
              "2  149.7  153.2\n",
              "3  148.4  154.4\n",
              "4  159.0  161.9\n",
              "5  163.6  153.6\n",
              "6  162.9  163.8\n",
              "7  150.8  159.5\n",
              "8  148.4  149.3\n",
              "9  153.7  152.7"
            ],
            "text/html": [
              "\n",
              "  <div id=\"df-6924cecb-a56b-4b12-987e-704351101eb2\">\n",
              "    <div class=\"colab-df-container\">\n",
              "      <div>\n",
              "<style scoped>\n",
              "    .dataframe tbody tr th:only-of-type {\n",
              "        vertical-align: middle;\n",
              "    }\n",
              "\n",
              "    .dataframe tbody tr th {\n",
              "        vertical-align: top;\n",
              "    }\n",
              "\n",
              "    .dataframe thead th {\n",
              "        text-align: right;\n",
              "    }\n",
              "</style>\n",
              "<table border=\"1\" class=\"dataframe\">\n",
              "  <thead>\n",
              "    <tr style=\"text-align: right;\">\n",
              "      <th></th>\n",
              "      <th>標本A</th>\n",
              "      <th>標本B</th>\n",
              "    </tr>\n",
              "  </thead>\n",
              "  <tbody>\n",
              "    <tr>\n",
              "      <th>0</th>\n",
              "      <td>165.6</td>\n",
              "      <td>157.0</td>\n",
              "    </tr>\n",
              "    <tr>\n",
              "      <th>1</th>\n",
              "      <td>151.1</td>\n",
              "      <td>151.1</td>\n",
              "    </tr>\n",
              "    <tr>\n",
              "      <th>2</th>\n",
              "      <td>149.7</td>\n",
              "      <td>153.2</td>\n",
              "    </tr>\n",
              "    <tr>\n",
              "      <th>3</th>\n",
              "      <td>148.4</td>\n",
              "      <td>154.4</td>\n",
              "    </tr>\n",
              "    <tr>\n",
              "      <th>4</th>\n",
              "      <td>159.0</td>\n",
              "      <td>161.9</td>\n",
              "    </tr>\n",
              "    <tr>\n",
              "      <th>5</th>\n",
              "      <td>163.6</td>\n",
              "      <td>153.6</td>\n",
              "    </tr>\n",
              "    <tr>\n",
              "      <th>6</th>\n",
              "      <td>162.9</td>\n",
              "      <td>163.8</td>\n",
              "    </tr>\n",
              "    <tr>\n",
              "      <th>7</th>\n",
              "      <td>150.8</td>\n",
              "      <td>159.5</td>\n",
              "    </tr>\n",
              "    <tr>\n",
              "      <th>8</th>\n",
              "      <td>148.4</td>\n",
              "      <td>149.3</td>\n",
              "    </tr>\n",
              "    <tr>\n",
              "      <th>9</th>\n",
              "      <td>153.7</td>\n",
              "      <td>152.7</td>\n",
              "    </tr>\n",
              "  </tbody>\n",
              "</table>\n",
              "</div>\n",
              "      <button class=\"colab-df-convert\" onclick=\"convertToInteractive('df-6924cecb-a56b-4b12-987e-704351101eb2')\"\n",
              "              title=\"Convert this dataframe to an interactive table.\"\n",
              "              style=\"display:none;\">\n",
              "        \n",
              "  <svg xmlns=\"http://www.w3.org/2000/svg\" height=\"24px\"viewBox=\"0 0 24 24\"\n",
              "       width=\"24px\">\n",
              "    <path d=\"M0 0h24v24H0V0z\" fill=\"none\"/>\n",
              "    <path d=\"M18.56 5.44l.94 2.06.94-2.06 2.06-.94-2.06-.94-.94-2.06-.94 2.06-2.06.94zm-11 1L8.5 8.5l.94-2.06 2.06-.94-2.06-.94L8.5 2.5l-.94 2.06-2.06.94zm10 10l.94 2.06.94-2.06 2.06-.94-2.06-.94-.94-2.06-.94 2.06-2.06.94z\"/><path d=\"M17.41 7.96l-1.37-1.37c-.4-.4-.92-.59-1.43-.59-.52 0-1.04.2-1.43.59L10.3 9.45l-7.72 7.72c-.78.78-.78 2.05 0 2.83L4 21.41c.39.39.9.59 1.41.59.51 0 1.02-.2 1.41-.59l7.78-7.78 2.81-2.81c.8-.78.8-2.07 0-2.86zM5.41 20L4 18.59l7.72-7.72 1.47 1.35L5.41 20z\"/>\n",
              "  </svg>\n",
              "      </button>\n",
              "      \n",
              "  <style>\n",
              "    .colab-df-container {\n",
              "      display:flex;\n",
              "      flex-wrap:wrap;\n",
              "      gap: 12px;\n",
              "    }\n",
              "\n",
              "    .colab-df-convert {\n",
              "      background-color: #E8F0FE;\n",
              "      border: none;\n",
              "      border-radius: 50%;\n",
              "      cursor: pointer;\n",
              "      display: none;\n",
              "      fill: #1967D2;\n",
              "      height: 32px;\n",
              "      padding: 0 0 0 0;\n",
              "      width: 32px;\n",
              "    }\n",
              "\n",
              "    .colab-df-convert:hover {\n",
              "      background-color: #E2EBFA;\n",
              "      box-shadow: 0px 1px 2px rgba(60, 64, 67, 0.3), 0px 1px 3px 1px rgba(60, 64, 67, 0.15);\n",
              "      fill: #174EA6;\n",
              "    }\n",
              "\n",
              "    [theme=dark] .colab-df-convert {\n",
              "      background-color: #3B4455;\n",
              "      fill: #D2E3FC;\n",
              "    }\n",
              "\n",
              "    [theme=dark] .colab-df-convert:hover {\n",
              "      background-color: #434B5C;\n",
              "      box-shadow: 0px 1px 3px 1px rgba(0, 0, 0, 0.15);\n",
              "      filter: drop-shadow(0px 1px 2px rgba(0, 0, 0, 0.3));\n",
              "      fill: #FFFFFF;\n",
              "    }\n",
              "  </style>\n",
              "\n",
              "      <script>\n",
              "        const buttonEl =\n",
              "          document.querySelector('#df-6924cecb-a56b-4b12-987e-704351101eb2 button.colab-df-convert');\n",
              "        buttonEl.style.display =\n",
              "          google.colab.kernel.accessAllowed ? 'block' : 'none';\n",
              "\n",
              "        async function convertToInteractive(key) {\n",
              "          const element = document.querySelector('#df-6924cecb-a56b-4b12-987e-704351101eb2');\n",
              "          const dataTable =\n",
              "            await google.colab.kernel.invokeFunction('convertToInteractive',\n",
              "                                                     [key], {});\n",
              "          if (!dataTable) return;\n",
              "\n",
              "          const docLinkHtml = 'Like what you see? Visit the ' +\n",
              "            '<a target=\"_blank\" href=https://colab.research.google.com/notebooks/data_table.ipynb>data table notebook</a>'\n",
              "            + ' to learn more about interactive tables.';\n",
              "          element.innerHTML = '';\n",
              "          dataTable['output_type'] = 'display_data';\n",
              "          await google.colab.output.renderOutput(dataTable, element);\n",
              "          const docLink = document.createElement('div');\n",
              "          docLink.innerHTML = docLinkHtml;\n",
              "          element.appendChild(docLink);\n",
              "        }\n",
              "      </script>\n",
              "    </div>\n",
              "  </div>\n",
              "  "
            ]
          },
          "metadata": {},
          "execution_count": 11
        }
      ]
    },
    {
      "cell_type": "markdown",
      "source": [
        "DataFrameを作ったので標準化してみましょう。"
      ],
      "metadata": {
        "id": "m8FaY9DWhnmg"
      }
    },
    {
      "cell_type": "code",
      "source": [
        "from sklearn.preprocessing import StandardScaler  # 標準化する際に必要\n",
        "\n",
        "scaler = StandardScaler()    # インスタンス化\n",
        "# カラムを1つだけ指定する場合は少し複雑\n",
        "scaled = scaler.fit_transform(df['標本A'].values.reshape(-1, 1))  \n",
        "df['標本A'] = scaled\n",
        "df"
      ],
      "metadata": {
        "id": "wQg0s0o3h6ED",
        "colab": {
          "base_uri": "https://localhost:8080/",
          "height": 363
        },
        "outputId": "ba263d75-9139-44c5-d62a-7baba16fadef"
      },
      "execution_count": 12,
      "outputs": [
        {
          "output_type": "execute_result",
          "data": {
            "text/plain": [
              "        標本A    標本B\n",
              "0  1.598742  157.0\n",
              "1 -0.656293  151.1\n",
              "2 -0.874021  153.2\n",
              "3 -1.076196  154.4\n",
              "4  0.572312  161.9\n",
              "5  1.287703  153.6\n",
              "6  1.178839  163.8\n",
              "7 -0.702949  159.5\n",
              "8 -1.076196  149.3\n",
              "9 -0.251942  152.7"
            ],
            "text/html": [
              "\n",
              "  <div id=\"df-0188c4db-4084-469d-a49f-35420f8dd374\">\n",
              "    <div class=\"colab-df-container\">\n",
              "      <div>\n",
              "<style scoped>\n",
              "    .dataframe tbody tr th:only-of-type {\n",
              "        vertical-align: middle;\n",
              "    }\n",
              "\n",
              "    .dataframe tbody tr th {\n",
              "        vertical-align: top;\n",
              "    }\n",
              "\n",
              "    .dataframe thead th {\n",
              "        text-align: right;\n",
              "    }\n",
              "</style>\n",
              "<table border=\"1\" class=\"dataframe\">\n",
              "  <thead>\n",
              "    <tr style=\"text-align: right;\">\n",
              "      <th></th>\n",
              "      <th>標本A</th>\n",
              "      <th>標本B</th>\n",
              "    </tr>\n",
              "  </thead>\n",
              "  <tbody>\n",
              "    <tr>\n",
              "      <th>0</th>\n",
              "      <td>1.598742</td>\n",
              "      <td>157.0</td>\n",
              "    </tr>\n",
              "    <tr>\n",
              "      <th>1</th>\n",
              "      <td>-0.656293</td>\n",
              "      <td>151.1</td>\n",
              "    </tr>\n",
              "    <tr>\n",
              "      <th>2</th>\n",
              "      <td>-0.874021</td>\n",
              "      <td>153.2</td>\n",
              "    </tr>\n",
              "    <tr>\n",
              "      <th>3</th>\n",
              "      <td>-1.076196</td>\n",
              "      <td>154.4</td>\n",
              "    </tr>\n",
              "    <tr>\n",
              "      <th>4</th>\n",
              "      <td>0.572312</td>\n",
              "      <td>161.9</td>\n",
              "    </tr>\n",
              "    <tr>\n",
              "      <th>5</th>\n",
              "      <td>1.287703</td>\n",
              "      <td>153.6</td>\n",
              "    </tr>\n",
              "    <tr>\n",
              "      <th>6</th>\n",
              "      <td>1.178839</td>\n",
              "      <td>163.8</td>\n",
              "    </tr>\n",
              "    <tr>\n",
              "      <th>7</th>\n",
              "      <td>-0.702949</td>\n",
              "      <td>159.5</td>\n",
              "    </tr>\n",
              "    <tr>\n",
              "      <th>8</th>\n",
              "      <td>-1.076196</td>\n",
              "      <td>149.3</td>\n",
              "    </tr>\n",
              "    <tr>\n",
              "      <th>9</th>\n",
              "      <td>-0.251942</td>\n",
              "      <td>152.7</td>\n",
              "    </tr>\n",
              "  </tbody>\n",
              "</table>\n",
              "</div>\n",
              "      <button class=\"colab-df-convert\" onclick=\"convertToInteractive('df-0188c4db-4084-469d-a49f-35420f8dd374')\"\n",
              "              title=\"Convert this dataframe to an interactive table.\"\n",
              "              style=\"display:none;\">\n",
              "        \n",
              "  <svg xmlns=\"http://www.w3.org/2000/svg\" height=\"24px\"viewBox=\"0 0 24 24\"\n",
              "       width=\"24px\">\n",
              "    <path d=\"M0 0h24v24H0V0z\" fill=\"none\"/>\n",
              "    <path d=\"M18.56 5.44l.94 2.06.94-2.06 2.06-.94-2.06-.94-.94-2.06-.94 2.06-2.06.94zm-11 1L8.5 8.5l.94-2.06 2.06-.94-2.06-.94L8.5 2.5l-.94 2.06-2.06.94zm10 10l.94 2.06.94-2.06 2.06-.94-2.06-.94-.94-2.06-.94 2.06-2.06.94z\"/><path d=\"M17.41 7.96l-1.37-1.37c-.4-.4-.92-.59-1.43-.59-.52 0-1.04.2-1.43.59L10.3 9.45l-7.72 7.72c-.78.78-.78 2.05 0 2.83L4 21.41c.39.39.9.59 1.41.59.51 0 1.02-.2 1.41-.59l7.78-7.78 2.81-2.81c.8-.78.8-2.07 0-2.86zM5.41 20L4 18.59l7.72-7.72 1.47 1.35L5.41 20z\"/>\n",
              "  </svg>\n",
              "      </button>\n",
              "      \n",
              "  <style>\n",
              "    .colab-df-container {\n",
              "      display:flex;\n",
              "      flex-wrap:wrap;\n",
              "      gap: 12px;\n",
              "    }\n",
              "\n",
              "    .colab-df-convert {\n",
              "      background-color: #E8F0FE;\n",
              "      border: none;\n",
              "      border-radius: 50%;\n",
              "      cursor: pointer;\n",
              "      display: none;\n",
              "      fill: #1967D2;\n",
              "      height: 32px;\n",
              "      padding: 0 0 0 0;\n",
              "      width: 32px;\n",
              "    }\n",
              "\n",
              "    .colab-df-convert:hover {\n",
              "      background-color: #E2EBFA;\n",
              "      box-shadow: 0px 1px 2px rgba(60, 64, 67, 0.3), 0px 1px 3px 1px rgba(60, 64, 67, 0.15);\n",
              "      fill: #174EA6;\n",
              "    }\n",
              "\n",
              "    [theme=dark] .colab-df-convert {\n",
              "      background-color: #3B4455;\n",
              "      fill: #D2E3FC;\n",
              "    }\n",
              "\n",
              "    [theme=dark] .colab-df-convert:hover {\n",
              "      background-color: #434B5C;\n",
              "      box-shadow: 0px 1px 3px 1px rgba(0, 0, 0, 0.15);\n",
              "      filter: drop-shadow(0px 1px 2px rgba(0, 0, 0, 0.3));\n",
              "      fill: #FFFFFF;\n",
              "    }\n",
              "  </style>\n",
              "\n",
              "      <script>\n",
              "        const buttonEl =\n",
              "          document.querySelector('#df-0188c4db-4084-469d-a49f-35420f8dd374 button.colab-df-convert');\n",
              "        buttonEl.style.display =\n",
              "          google.colab.kernel.accessAllowed ? 'block' : 'none';\n",
              "\n",
              "        async function convertToInteractive(key) {\n",
              "          const element = document.querySelector('#df-0188c4db-4084-469d-a49f-35420f8dd374');\n",
              "          const dataTable =\n",
              "            await google.colab.kernel.invokeFunction('convertToInteractive',\n",
              "                                                     [key], {});\n",
              "          if (!dataTable) return;\n",
              "\n",
              "          const docLinkHtml = 'Like what you see? Visit the ' +\n",
              "            '<a target=\"_blank\" href=https://colab.research.google.com/notebooks/data_table.ipynb>data table notebook</a>'\n",
              "            + ' to learn more about interactive tables.';\n",
              "          element.innerHTML = '';\n",
              "          dataTable['output_type'] = 'display_data';\n",
              "          await google.colab.output.renderOutput(dataTable, element);\n",
              "          const docLink = document.createElement('div');\n",
              "          docLink.innerHTML = docLinkHtml;\n",
              "          element.appendChild(docLink);\n",
              "        }\n",
              "      </script>\n",
              "    </div>\n",
              "  </div>\n",
              "  "
            ]
          },
          "metadata": {},
          "execution_count": 12
        }
      ]
    },
    {
      "cell_type": "code",
      "source": [
        "df = pd.DataFrame(data)\n",
        "\n",
        "# カラムを2つ指定する場合は[]の数に注意\n",
        "scaled = scaler.fit_transform(df[[\"標本A\",\"標本B\"]])\n",
        "df[[\"標本A\",\"標本B\"]] = scaled\n",
        "df"
      ],
      "metadata": {
        "id": "9BXIYPGLi1Lh",
        "colab": {
          "base_uri": "https://localhost:8080/",
          "height": 363
        },
        "outputId": "e1f5ebaa-93da-492a-f148-e31fad7dcd9c"
      },
      "execution_count": 13,
      "outputs": [
        {
          "output_type": "execute_result",
          "data": {
            "text/plain": [
              "        標本A       標本B\n",
              "0  1.598742  0.299170\n",
              "1 -0.656293 -1.008314\n",
              "2 -0.874021 -0.542938\n",
              "3 -1.076196 -0.277009\n",
              "4  0.572312  1.385047\n",
              "5  1.287703 -0.454295\n",
              "6  1.178839  1.806101\n",
              "7 -0.702949  0.853189\n",
              "8 -1.076196 -1.407208\n",
              "9 -0.251942 -0.653742"
            ],
            "text/html": [
              "\n",
              "  <div id=\"df-8d465f8d-df4d-4bfa-b556-7427a13b89cc\">\n",
              "    <div class=\"colab-df-container\">\n",
              "      <div>\n",
              "<style scoped>\n",
              "    .dataframe tbody tr th:only-of-type {\n",
              "        vertical-align: middle;\n",
              "    }\n",
              "\n",
              "    .dataframe tbody tr th {\n",
              "        vertical-align: top;\n",
              "    }\n",
              "\n",
              "    .dataframe thead th {\n",
              "        text-align: right;\n",
              "    }\n",
              "</style>\n",
              "<table border=\"1\" class=\"dataframe\">\n",
              "  <thead>\n",
              "    <tr style=\"text-align: right;\">\n",
              "      <th></th>\n",
              "      <th>標本A</th>\n",
              "      <th>標本B</th>\n",
              "    </tr>\n",
              "  </thead>\n",
              "  <tbody>\n",
              "    <tr>\n",
              "      <th>0</th>\n",
              "      <td>1.598742</td>\n",
              "      <td>0.299170</td>\n",
              "    </tr>\n",
              "    <tr>\n",
              "      <th>1</th>\n",
              "      <td>-0.656293</td>\n",
              "      <td>-1.008314</td>\n",
              "    </tr>\n",
              "    <tr>\n",
              "      <th>2</th>\n",
              "      <td>-0.874021</td>\n",
              "      <td>-0.542938</td>\n",
              "    </tr>\n",
              "    <tr>\n",
              "      <th>3</th>\n",
              "      <td>-1.076196</td>\n",
              "      <td>-0.277009</td>\n",
              "    </tr>\n",
              "    <tr>\n",
              "      <th>4</th>\n",
              "      <td>0.572312</td>\n",
              "      <td>1.385047</td>\n",
              "    </tr>\n",
              "    <tr>\n",
              "      <th>5</th>\n",
              "      <td>1.287703</td>\n",
              "      <td>-0.454295</td>\n",
              "    </tr>\n",
              "    <tr>\n",
              "      <th>6</th>\n",
              "      <td>1.178839</td>\n",
              "      <td>1.806101</td>\n",
              "    </tr>\n",
              "    <tr>\n",
              "      <th>7</th>\n",
              "      <td>-0.702949</td>\n",
              "      <td>0.853189</td>\n",
              "    </tr>\n",
              "    <tr>\n",
              "      <th>8</th>\n",
              "      <td>-1.076196</td>\n",
              "      <td>-1.407208</td>\n",
              "    </tr>\n",
              "    <tr>\n",
              "      <th>9</th>\n",
              "      <td>-0.251942</td>\n",
              "      <td>-0.653742</td>\n",
              "    </tr>\n",
              "  </tbody>\n",
              "</table>\n",
              "</div>\n",
              "      <button class=\"colab-df-convert\" onclick=\"convertToInteractive('df-8d465f8d-df4d-4bfa-b556-7427a13b89cc')\"\n",
              "              title=\"Convert this dataframe to an interactive table.\"\n",
              "              style=\"display:none;\">\n",
              "        \n",
              "  <svg xmlns=\"http://www.w3.org/2000/svg\" height=\"24px\"viewBox=\"0 0 24 24\"\n",
              "       width=\"24px\">\n",
              "    <path d=\"M0 0h24v24H0V0z\" fill=\"none\"/>\n",
              "    <path d=\"M18.56 5.44l.94 2.06.94-2.06 2.06-.94-2.06-.94-.94-2.06-.94 2.06-2.06.94zm-11 1L8.5 8.5l.94-2.06 2.06-.94-2.06-.94L8.5 2.5l-.94 2.06-2.06.94zm10 10l.94 2.06.94-2.06 2.06-.94-2.06-.94-.94-2.06-.94 2.06-2.06.94z\"/><path d=\"M17.41 7.96l-1.37-1.37c-.4-.4-.92-.59-1.43-.59-.52 0-1.04.2-1.43.59L10.3 9.45l-7.72 7.72c-.78.78-.78 2.05 0 2.83L4 21.41c.39.39.9.59 1.41.59.51 0 1.02-.2 1.41-.59l7.78-7.78 2.81-2.81c.8-.78.8-2.07 0-2.86zM5.41 20L4 18.59l7.72-7.72 1.47 1.35L5.41 20z\"/>\n",
              "  </svg>\n",
              "      </button>\n",
              "      \n",
              "  <style>\n",
              "    .colab-df-container {\n",
              "      display:flex;\n",
              "      flex-wrap:wrap;\n",
              "      gap: 12px;\n",
              "    }\n",
              "\n",
              "    .colab-df-convert {\n",
              "      background-color: #E8F0FE;\n",
              "      border: none;\n",
              "      border-radius: 50%;\n",
              "      cursor: pointer;\n",
              "      display: none;\n",
              "      fill: #1967D2;\n",
              "      height: 32px;\n",
              "      padding: 0 0 0 0;\n",
              "      width: 32px;\n",
              "    }\n",
              "\n",
              "    .colab-df-convert:hover {\n",
              "      background-color: #E2EBFA;\n",
              "      box-shadow: 0px 1px 2px rgba(60, 64, 67, 0.3), 0px 1px 3px 1px rgba(60, 64, 67, 0.15);\n",
              "      fill: #174EA6;\n",
              "    }\n",
              "\n",
              "    [theme=dark] .colab-df-convert {\n",
              "      background-color: #3B4455;\n",
              "      fill: #D2E3FC;\n",
              "    }\n",
              "\n",
              "    [theme=dark] .colab-df-convert:hover {\n",
              "      background-color: #434B5C;\n",
              "      box-shadow: 0px 1px 3px 1px rgba(0, 0, 0, 0.15);\n",
              "      filter: drop-shadow(0px 1px 2px rgba(0, 0, 0, 0.3));\n",
              "      fill: #FFFFFF;\n",
              "    }\n",
              "  </style>\n",
              "\n",
              "      <script>\n",
              "        const buttonEl =\n",
              "          document.querySelector('#df-8d465f8d-df4d-4bfa-b556-7427a13b89cc button.colab-df-convert');\n",
              "        buttonEl.style.display =\n",
              "          google.colab.kernel.accessAllowed ? 'block' : 'none';\n",
              "\n",
              "        async function convertToInteractive(key) {\n",
              "          const element = document.querySelector('#df-8d465f8d-df4d-4bfa-b556-7427a13b89cc');\n",
              "          const dataTable =\n",
              "            await google.colab.kernel.invokeFunction('convertToInteractive',\n",
              "                                                     [key], {});\n",
              "          if (!dataTable) return;\n",
              "\n",
              "          const docLinkHtml = 'Like what you see? Visit the ' +\n",
              "            '<a target=\"_blank\" href=https://colab.research.google.com/notebooks/data_table.ipynb>data table notebook</a>'\n",
              "            + ' to learn more about interactive tables.';\n",
              "          element.innerHTML = '';\n",
              "          dataTable['output_type'] = 'display_data';\n",
              "          await google.colab.output.renderOutput(dataTable, element);\n",
              "          const docLink = document.createElement('div');\n",
              "          docLink.innerHTML = docLinkHtml;\n",
              "          element.appendChild(docLink);\n",
              "        }\n",
              "      </script>\n",
              "    </div>\n",
              "  </div>\n",
              "  "
            ]
          },
          "metadata": {},
          "execution_count": 13
        }
      ]
    },
    {
      "cell_type": "markdown",
      "source": [
        "## 補足2 Pythonと乱数と正規分布\n"
      ],
      "metadata": {
        "id": "-_8oxxTdP59L"
      }
    },
    {
      "cell_type": "markdown",
      "source": [
        "**`np.random.randn()`**とすると、標準正規分布からランダムな値を取得できます。"
      ],
      "metadata": {
        "id": "WBE5LLhOSiDa"
      }
    },
    {
      "cell_type": "code",
      "source": [
        "np.random.randn()    # 0に近づくにつれて取得する確率が高くなる"
      ],
      "metadata": {
        "id": "JtCPJjErTQJR",
        "colab": {
          "base_uri": "https://localhost:8080/"
        },
        "outputId": "4813108a-3bd8-4d63-9630-4e6baa6af555"
      },
      "execution_count": 14,
      "outputs": [
        {
          "output_type": "execute_result",
          "data": {
            "text/plain": [
              "1.0472704961717256"
            ]
          },
          "metadata": {},
          "execution_count": 14
        }
      ]
    },
    {
      "cell_type": "code",
      "source": [
        "np.random.randn(5,5)"
      ],
      "metadata": {
        "id": "FBXN-b0GTdL-",
        "colab": {
          "base_uri": "https://localhost:8080/"
        },
        "outputId": "6328c150-908f-484c-9464-fbbc3fff9908"
      },
      "execution_count": 15,
      "outputs": [
        {
          "output_type": "execute_result",
          "data": {
            "text/plain": [
              "array([[ 0.12917251,  0.29610638, -0.22968408, -0.39075212, -0.49261663],\n",
              "       [ 1.70154507,  0.66492582,  0.46568693, -0.44809275, -0.8806179 ],\n",
              "       [-0.4228124 ,  0.25841838, -1.30603634,  0.50760158, -0.64180367],\n",
              "       [-0.49622227,  0.74424134, -1.94686336,  0.80604027, -1.39163658],\n",
              "       [-0.82802689,  0.57393002, -0.6248574 , -1.37865759, -0.83654129]])"
            ]
          },
          "metadata": {},
          "execution_count": 15
        }
      ]
    },
    {
      "cell_type": "markdown",
      "source": [
        "**`np.random.normal(loc,scale)`**とすると、任意の正規分布からランダムな値を取得できます。  \n",
        "平均と標準偏差を指定します。"
      ],
      "metadata": {
        "id": "JxK1oJh5VPrC"
      }
    },
    {
      "cell_type": "code",
      "source": [
        "np.random.normal(50,10)  # 偏差値の正規分布からランダム値取得"
      ],
      "metadata": {
        "id": "RNCaGtwfVdOI",
        "colab": {
          "base_uri": "https://localhost:8080/"
        },
        "outputId": "a41d294f-254f-4738-9ddb-520cb2dcc061"
      },
      "execution_count": 16,
      "outputs": [
        {
          "output_type": "execute_result",
          "data": {
            "text/plain": [
              "59.064331472224666"
            ]
          },
          "metadata": {},
          "execution_count": 16
        }
      ]
    },
    {
      "cell_type": "code",
      "source": [
        "# 期待値・標準偏差を指定\n",
        "mu = 50\n",
        "sigma = 10\n",
        "\n",
        "# 等差数列を生成\n",
        "X = np.linspace(0, 80, 100)\n",
        "\n",
        "# pdfで確率密度関数を生成\n",
        "norm_pdf = stats.norm.pdf(x=X, loc=mu, scale=sigma)  # 期待値=0, 標準偏差=1\n",
        "# 確率密度を取得\n",
        "norm_pdf_max = np.max(norm_pdf)  # 確率密度の最大値\n",
        "\n",
        "# グラフ描画\n",
        "plt.plot(X, norm_pdf, lw=5, color=\"tab:cyan\")\n",
        "\n",
        "# 垂直線\n",
        "plt.vlines(50, 0, norm_pdf_max, color=\"black\", lw=0.8)\n",
        "plt.hlines(0.2, -0.2, 0.2, color=\"black\", lw=1.2)  # 水平線\n",
        "plt.hlines(0.403, -0.2, 0.2, color=\"black\", lw=1.2)  # 水平線\n",
        "\n",
        "# 軸目盛\n",
        "# plt.xticks(color=\"None\")  # x軸目盛を消去\n",
        "# plt.yticks(color=\"None\")  # y軸目盛を消去\n",
        "plt.ylim(0, norm_pdf_max + 0.002)  # y軸目盛範囲を指定\n",
        "\n",
        "# テキストを配置\n",
        "# plt.text(-0.75, 0.2, '0.2', fontsize = 12)  # 0.2\n",
        "# plt.text(-0.75, 0.4, '0.4', fontsize = 12)  # 0.4\n",
        "\n",
        "\n",
        "# plt.xlabel(\"z\",labelpad=10,fontsize = 16)\n",
        "# plt.ylabel(\"f\",fontsize = 16 , rotation=\"horizontal\")\n",
        "plt.title(\"偏差値の正規分布\", x=0.5, y=-0.35, fontsize = 16)\n",
        "\n",
        "plt.show()"
      ],
      "metadata": {
        "id": "5kOXcSZHVw-1",
        "colab": {
          "base_uri": "https://localhost:8080/",
          "height": 321
        },
        "outputId": "a81dad59-32c4-49c5-b555-338eaeb33ff2"
      },
      "execution_count": 17,
      "outputs": [
        {
          "output_type": "display_data",
          "data": {
            "text/plain": [
              "<Figure size 432x288 with 1 Axes>"
            ],
            "image/png": "[encoded data removed]"
          },
          "metadata": {
            "needs_background": "light"
          }
        }
      ]
    }
  ]
}