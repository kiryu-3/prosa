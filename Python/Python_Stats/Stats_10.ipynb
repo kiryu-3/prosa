{
  "nbformat": 4,
  "nbformat_minor": 0,
  "metadata": {
    "colab": {
      "provenance": [],
      "toc_visible": true,
      "authorship_tag": "ABX9TyNSnmbOMywCOJJj4TtLzaZ9",
      "include_colab_link": true
    },
    "kernelspec": {
      "name": "python3",
      "display_name": "Python 3"
    },
    "language_info": {
      "name": "python"
    }
  },
  "cells": [
    {
      "cell_type": "markdown",
      "metadata": {
        "id": "view-in-github",
        "colab_type": "text"
      },
      "source": [
        "<a href=\"https://colab.research.google.com/github/kiryu-3/Prmn2023_DS/blob/main/Python/Python_Stats/Stats_10.ipynb\" target=\"_parent\"><img src=\"https://colab.research.google.com/assets/colab-badge.svg\" alt=\"Open In Colab\"/></a>"
      ]
    },
    {
      "cell_type": "markdown",
      "source": [
        "# 連関の検定"
      ],
      "metadata": {
        "id": "EV_rHgaWuc6N"
      }
    },
    {
      "cell_type": "code",
      "execution_count": null,
      "metadata": {
        "id": "nYuL9ezIXR-T"
      },
      "outputs": [],
      "source": [
        "import numpy as np\n",
        "import pandas as pd\n",
        "import matplotlib.pyplot as plt\n",
        "!pip install japanize-matplotlib\n",
        "import japanize_matplotlib\n",
        "import seaborn as sns\n",
        "from scipy import stats\n",
        "from scipy.stats import norm\n",
        "from scipy.stats import binom\n",
        "from scipy.stats import t\n",
        "from decimal import Decimal, ROUND_HALF_UP, ROUND_HALF_EVEN\n",
        "from statsmodels.stats.proportion import proportions_ztest"
      ]
    },
    {
      "cell_type": "markdown",
      "source": [
        "## 連関の検定"
      ],
      "metadata": {
        "id": "_AG51NWuvFXj"
      }
    },
    {
      "cell_type": "markdown",
      "source": [
        "2つのカテゴリー変数間に連関があるかどうかを検定します。  \n",
        "[こちら](https://bit.ly/3XF5LnA)の問題を解いていきます。"
      ],
      "metadata": {
        "id": "ycopu4rPvHQs"
      }
    },
    {
      "cell_type": "markdown",
      "source": [
        "### 仮説検定のステップ（再掲）\n",
        "①帰無仮説と対立仮説を立てる  \n",
        "②帰無仮説のもとで標本観察を行う  \n",
        "③帰無仮説を棄却できるかどうかを確認する"
      ],
      "metadata": {
        "id": "spMv_iOavNr-"
      }
    },
    {
      "cell_type": "markdown",
      "source": [
        "#### ① 帰無仮説と対立仮説を立てる  "
      ],
      "metadata": {
        "id": "GSPUhAnNw1Ev"
      }
    },
    {
      "cell_type": "markdown",
      "source": [
        "帰無仮説と対立仮説は以下のようになります。（**片側検定（上側）**になります）\n",
        "\n",
        "帰無仮説$H_0$：「連関がない（独立である）」  \n",
        "対立仮説$H_1$：「連関がある（独立でない）」"
      ],
      "metadata": {
        "id": "cLsiZsQLxMnF"
      }
    },
    {
      "cell_type": "markdown",
      "source": [
        "#### ② 帰無仮説のもとで標本観察を行う "
      ],
      "metadata": {
        "id": "7rOEi6wYxl62"
      }
    },
    {
      "cell_type": "markdown",
      "source": [
        "**カイ二乗値**（$\\chi^2$）が従う確率分布は **カイ二乗分布**に従います。  \n",
        "独立の場合はカイ二乗値は$0$になります。\n",
        "\n"
      ],
      "metadata": {
        "id": "2LK-pViLxrFu"
      }
    },
    {
      "cell_type": "markdown",
      "source": [
        "＜例＞ a行b列の分割表  \n",
        "自由度$=(a-1)(b-1)$"
      ],
      "metadata": {
        "id": "rjVfgRrnw9eX"
      }
    },
    {
      "cell_type": "markdown",
      "source": [
        "標本のカイ二乗値を求めます。    \n",
        "また、自由度を定めることで、$\\chi^2$分布が一つに決まります。"
      ],
      "metadata": {
        "id": "Ugv13uLyz7-R"
      }
    },
    {
      "cell_type": "markdown",
      "source": [
        "#### ③ 帰無仮説を棄却できるかどうかを確認する"
      ],
      "metadata": {
        "id": "08f-T6hz0Rs4"
      }
    },
    {
      "cell_type": "markdown",
      "source": [
        "有意水準を$5$%に設定します。"
      ],
      "metadata": {
        "id": "aD--a35-0ceZ"
      }
    },
    {
      "cell_type": "markdown",
      "source": [
        "②で導出した$\\chi^2$値と、有意水準に基づく$\\chi^2$値を比較し、  \n",
        "($p$**値を求めて**) 棄却が必要かどうか決めます。  \n"
      ],
      "metadata": {
        "id": "rx8HL8ht0mQJ"
      }
    },
    {
      "cell_type": "markdown",
      "source": [
        "### Pythonによる仮説検定"
      ],
      "metadata": {
        "id": "V0rG_s091LfQ"
      }
    },
    {
      "cell_type": "markdown",
      "source": [
        "では連関の検定を行っていきましょう。"
      ],
      "metadata": {
        "id": "IxJfQRiR1NUH"
      }
    },
    {
      "cell_type": "code",
      "source": [
        "obs = [[55,22,16,7] , [40,32,24,4]]\n",
        "chi , p , dof , ex = stats.chi2_contingency(obs,correction=False)\n",
        "\n",
        "print(f\"カイ二乗値は{chi}です\")\n",
        "print(f\"p値は{p*100}%です\")\n",
        "print(f\"自由度は{dof}です\")\n",
        "print(f\"期待度数は{ex}です\")"
      ],
      "metadata": {
        "colab": {
          "base_uri": "https://localhost:8080/"
        },
        "id": "EjRsl2Sa2-vj",
        "outputId": "c14c9add-3a52-4452-9030-b554af6e09a5"
      },
      "execution_count": 2,
      "outputs": [
        {
          "output_type": "stream",
          "name": "stdout",
          "text": [
            "カイ二乗値は6.63845472266525です\n",
            "p値は8.435923449835014%です\n",
            "自由度は3です\n",
            "期待度数は[[47.5 27.  20.   5.5]\n",
            " [47.5 27.  20.   5.5]]です\n"
          ]
        }
      ]
    },
    {
      "cell_type": "markdown",
      "source": [
        "自由度$3$の$\\chi^2$分布における有意水準$5$%に対応する値は$7.81$です。"
      ],
      "metadata": {
        "id": "lD8biY6P91i2"
      }
    },
    {
      "cell_type": "code",
      "source": [
        "stats.chi2.ppf(0.95, 3)"
      ],
      "metadata": {
        "colab": {
          "base_uri": "https://localhost:8080/"
        },
        "id": "mI4lf47y9pgP",
        "outputId": "c4e99401-d719-4961-adfa-9295e984ce47"
      },
      "execution_count": 3,
      "outputs": [
        {
          "output_type": "execute_result",
          "data": {
            "text/plain": [
              "7.814727903251179"
            ]
          },
          "metadata": {},
          "execution_count": 3
        }
      ]
    },
    {
      "cell_type": "markdown",
      "source": [
        "* $\\chi^2$値が$7.81$より小さくなった\n",
        "* $p$値が$5$%より大きくなった\n",
        "\n",
        "この二点から、帰無仮説$H_0$を棄却することができません。  \n",
        "よって、対立仮説$H_1$を採択しません。"
      ],
      "metadata": {
        "id": "jC1UETD58euJ"
      }
    },
    {
      "cell_type": "code",
      "source": [
        "print(\"したがって、性別と血液型は独立ではない（関連がある）\")"
      ],
      "metadata": {
        "colab": {
          "base_uri": "https://localhost:8080/"
        },
        "id": "JSJqPkA-5sc_",
        "outputId": "b9e3acfd-be28-431c-e3d4-0ee808e40c17"
      },
      "execution_count": 4,
      "outputs": [
        {
          "output_type": "stream",
          "name": "stdout",
          "text": [
            "したがって、性別と血液型は独立ではない（関連がある）\n"
          ]
        }
      ]
    },
    {
      "cell_type": "markdown",
      "source": [
        "#### Pythonによるカイ二乗分布の描画"
      ],
      "metadata": {
        "id": "IJTXkbl3-e-m"
      }
    },
    {
      "cell_type": "code",
      "source": [
        "x = np.linspace(0, 20, 10000)\n",
        "plt.plot(x, stats.chi2.pdf(x, 3), linestyle='--', label='自由度 k={}'.format(3))\n",
        "\n",
        "\"\"\"\n",
        "****************************************\n",
        "グラフの書式設定\n",
        "****************************************\n",
        "\"\"\"\n",
        "plt.title(\"$χ^2$分布\")   # タイトル\n",
        "plt.vlines(chi, 0, stats.chi2.pdf(chi, 3),color=\"black\", lw=0.8)\n",
        "plt.vlines(7.81, 0, stats.chi2.pdf(7.81, 3), color=\"black\", lw=0.8)\n",
        "plt.text(chi-0.75, -0.02, '6.638', fontsize = 12) \n",
        "#plt.text(7.81-0.75, -0.02, '7.81', fontsize = 12)\n",
        "plt.xticks(color=\"None\") \n",
        "plt.xlim(0, 16)       # X軸範囲\n",
        "plt.ylim(0, 0.25)       # Y軸範囲\n",
        "plt.legend()         # 凡例\n",
        "plt.show()"
      ],
      "metadata": {
        "colab": {
          "base_uri": "https://localhost:8080/",
          "height": 288
        },
        "id": "yWWl_CuY3fgk",
        "outputId": "cd12340d-3a1d-462f-d0c3-e0b549b74337"
      },
      "execution_count": 5,
      "outputs": [
        {
          "output_type": "display_data",
          "data": {
            "text/plain": [
              "<Figure size 432x288 with 1 Axes>"
            ],
            "image/png": "[encoded data removed]"
          },
          "metadata": {
            "needs_background": "light"
          }
        }
      ]
    },
    {
      "cell_type": "markdown",
      "source": [
        "### 補足"
      ],
      "metadata": {
        "id": "oGDaljBuAKkD"
      }
    },
    {
      "cell_type": "markdown",
      "source": [
        "#### イェイツの修正"
      ],
      "metadata": {
        "id": "fphiBhquANaq"
      }
    },
    {
      "cell_type": "markdown",
      "source": [
        "カイ二乗検定に修正を加えたものを**イェイツの修正**といいます。  \n",
        "ズレを補正するためにたまに用いられるようです。\n",
        "\n"
      ],
      "metadata": {
        "id": "WKc342lTAdjK"
      }
    },
    {
      "cell_type": "markdown",
      "source": [
        "`stats.chi2_contingency(obs,correction=False)`としたときに、引数`correction`はFalseを指定していました。  \n",
        "Trueを指定するとイェイツの修正をすることができます。\n",
        "\n",
        "詳しくは[こちら](https://bit.ly/3xrMTOs)を参照してください。"
      ],
      "metadata": {
        "id": "YIi3Hr9ZA3-1"
      }
    },
    {
      "cell_type": "markdown",
      "source": [
        "#### 連関の検定と比率差の検定"
      ],
      "metadata": {
        "id": "DJ5WIsuxBMoZ"
      }
    },
    {
      "cell_type": "markdown",
      "source": [
        "比率差の検定は、**連関の検定の自由度1のケース**です。"
      ],
      "metadata": {
        "id": "nbYQBJ31B_Y4"
      }
    },
    {
      "cell_type": "markdown",
      "source": [
        "比率の差の検定の際は、使い勝手がよい  \n",
        "`statsmodels.stats.proportion.proportions_ztest()`を使うとよいようです。\n",
        "\n",
        "詳しくは[こちら](https://bit.ly/3lH8orz)を参照してください。"
      ],
      "metadata": {
        "id": "wp9Ks1J_BSYI"
      }
    }
  ]
}