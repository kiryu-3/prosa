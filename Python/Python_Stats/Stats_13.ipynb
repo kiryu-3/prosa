{
  "nbformat": 4,
  "nbformat_minor": 0,
  "metadata": {
    "colab": {
      "provenance": [],
      "authorship_tag": "ABX9TyPEDU8lUmAfhfq0oww1jjfO",
      "include_colab_link": true
    },
    "kernelspec": {
      "name": "python3",
      "display_name": "Python 3"
    },
    "language_info": {
      "name": "python"
    }
  },
  "cells": [
    {
      "cell_type": "markdown",
      "metadata": {
        "id": "view-in-github",
        "colab_type": "text"
      },
      "source": [
        "<a href=\"https://colab.research.google.com/github/kiryu-3/prosa/blob/main/Python/Python_Stats/Stats_13.ipynb\" target=\"_parent\"><img src=\"https://colab.research.google.com/assets/colab-badge.svg\" alt=\"Open In Colab\"/></a>"
      ]
    },
    {
      "cell_type": "markdown",
      "source": [
        "# 平均値差の検定（対応あり）"
      ],
      "metadata": {
        "id": "oK0aFjkb64kP"
      }
    },
    {
      "cell_type": "code",
      "execution_count": null,
      "metadata": {
        "id": "eRAi9d7463x-"
      },
      "outputs": [],
      "source": [
        "import numpy as np\n",
        "import pandas as pd\n",
        "import matplotlib.pyplot as plt\n",
        "!pip install japanize-matplotlib\n",
        "import japanize_matplotlib\n",
        "import seaborn as sns\n",
        "from scipy import stats\n",
        "from scipy.stats import norm\n",
        "from scipy.stats import binom\n",
        "from scipy.stats import t\n",
        "from scipy.stats import f\n",
        "from decimal import Decimal, ROUND_HALF_UP, ROUND_HALF_EVEN\n",
        "from statsmodels.stats.proportion import proportions_ztest\n",
        "from statsmodels.api import qqplot"
      ]
    },
    {
      "cell_type": "markdown",
      "source": [
        "## 対応ありの平均値差の検定\n",
        "\n"
      ],
      "metadata": {
        "id": "UqxJVrKF7DZd"
      }
    },
    {
      "cell_type": "markdown",
      "source": [
        "今回からいよいよ**対応あり**の平均値差の検定を行っていきます。\n",
        "\n",
        "[こちら](https://bit.ly/3EcMGlH)の問題を解いていきます。"
      ],
      "metadata": {
        "id": "1aalxAq27KZd"
      }
    },
    {
      "cell_type": "markdown",
      "source": [
        "### 仮説検定のステップ（再掲）\n",
        "①帰無仮説と対立仮説を立てる  \n",
        "②帰無仮説のもとで標本観察を行う  \n",
        "③帰無仮説を棄却できるかどうかを確認する"
      ],
      "metadata": {
        "id": "7SW4DH3Cwq2A"
      }
    },
    {
      "cell_type": "markdown",
      "source": [
        "#### ① 帰無仮説と対立仮説を立てる  "
      ],
      "metadata": {
        "id": "GSPUhAnNw1Ev"
      }
    },
    {
      "cell_type": "markdown",
      "source": [
        "帰無仮説と対立仮説は以下のようになります。（**片側検定（下側）**になります）\n",
        "\n",
        "帰無仮説$H_0$：「投薬前後の血圧は等しい」  \n",
        "対立仮説$H_1$：「投薬によって血圧は下がった」"
      ],
      "metadata": {
        "id": "cLsiZsQLxMnF"
      }
    },
    {
      "cell_type": "markdown",
      "source": [
        "#### ② 帰無仮説のもとで標本観察を行う "
      ],
      "metadata": {
        "id": "q9KKfw80A2mL"
      }
    },
    {
      "cell_type": "markdown",
      "source": [
        "今回は、**各データの変化量**$d$を一つの標本として、その平均$\\bar{d}$を考えていきます。\n",
        "\n",
        "変化量の母集団の平均を$\\mu_d$、分散を$\\sigma_d^2$とします。 \n",
        "また、変化量$d$の標本の平均を$\\bar{d}$とします。"
      ],
      "metadata": {
        "id": "zadGu0SzA3OS"
      }
    },
    {
      "cell_type": "markdown",
      "source": [
        "平均$\\bar{d}$が従う確率分布は、変化量の母集団が正規分布に従うと仮定したとき、  \n",
        "平均$\\mu_d$、分散$\\frac{\\sigma_d^2}{n}$の正規分布となります。"
      ],
      "metadata": {
        "id": "32mWBpt9Bu64"
      }
    },
    {
      "cell_type": "markdown",
      "source": [
        "$\\sigma_d^2$は母集団の分散なので不定値です。  \n",
        "そのため、代わりに**不偏分散** $s^{'2}_d$を使います。\n",
        "\n",
        "不偏分散を用いたため、標準化したときの値は$t$**値**になります。\n",
        "\n",
        "$$\n",
        "t = \\frac{\\bar{d}-\\mu_d}{\\frac{s^{'}_d}{\\sqrt{n}}}\n",
        "$$"
      ],
      "metadata": {
        "id": "mgGZNDyaCY9w"
      }
    },
    {
      "cell_type": "markdown",
      "source": [
        "帰無仮説が正しいと仮定するため、$\\mu_d=0$となります。\n",
        "\n",
        "$$\n",
        "t = \\frac{\\bar{d}}{\\frac{s^{'}_d}{\\sqrt{n}}}\n",
        "$$"
      ],
      "metadata": {
        "id": "WS5Hc45UDd41"
      }
    },
    {
      "cell_type": "markdown",
      "source": [
        "上の式に従って$t$値を導出します。"
      ],
      "metadata": {
        "id": "JqnkCqkQDO--"
      }
    },
    {
      "cell_type": "markdown",
      "source": [
        "#### ③ 帰無仮説を棄却できるかどうかを確認する"
      ],
      "metadata": {
        "id": "YNb_zL84omKx"
      }
    },
    {
      "cell_type": "markdown",
      "source": [
        "有意水準を$5$%に設定します。"
      ],
      "metadata": {
        "id": "Ejr7NEZYomKx"
      }
    },
    {
      "cell_type": "markdown",
      "source": [
        "②で導出した$t$値と、有意水準に基づく$t$値を比較し、  \n",
        "($p$**値を求めて**) 棄却が必要かどうか決めます。  "
      ],
      "metadata": {
        "id": "lrEnhZC7omKy"
      }
    },
    {
      "cell_type": "markdown",
      "source": [
        "### Pythonによる仮説検定"
      ],
      "metadata": {
        "id": "p74mzaNH7cNA"
      }
    },
    {
      "cell_type": "markdown",
      "source": [
        "では対応ありの平均値差の検定を行っていきましょう。"
      ],
      "metadata": {
        "id": "0guZgdq67cNB"
      }
    },
    {
      "cell_type": "code",
      "source": [
        "data = {\n",
        "    \"投与前の血圧\":[180,130,165,155,140],\n",
        "    \"投与後の血圧\" : [150,135,145,150,140],\n",
        "}\n",
        "\n",
        "df = pd.DataFrame(data)\n",
        "df"
      ],
      "metadata": {
        "colab": {
          "base_uri": "https://localhost:8080/",
          "height": 206
        },
        "id": "KyI51uYGEc4Z",
        "outputId": "ea9bdf96-0602-427a-a341-2495214ea29c"
      },
      "execution_count": 2,
      "outputs": [
        {
          "output_type": "execute_result",
          "data": {
            "text/plain": [
              "   投与前の血圧  投与後の血圧\n",
              "0     180     150\n",
              "1     130     135\n",
              "2     165     145\n",
              "3     155     150\n",
              "4     140     140"
            ],
            "text/html": [
              "\n",
              "  <div id=\"df-a786c2de-9b4b-4e31-b616-a100a776966c\">\n",
              "    <div class=\"colab-df-container\">\n",
              "      <div>\n",
              "<style scoped>\n",
              "    .dataframe tbody tr th:only-of-type {\n",
              "        vertical-align: middle;\n",
              "    }\n",
              "\n",
              "    .dataframe tbody tr th {\n",
              "        vertical-align: top;\n",
              "    }\n",
              "\n",
              "    .dataframe thead th {\n",
              "        text-align: right;\n",
              "    }\n",
              "</style>\n",
              "<table border=\"1\" class=\"dataframe\">\n",
              "  <thead>\n",
              "    <tr style=\"text-align: right;\">\n",
              "      <th></th>\n",
              "      <th>投与前の血圧</th>\n",
              "      <th>投与後の血圧</th>\n",
              "    </tr>\n",
              "  </thead>\n",
              "  <tbody>\n",
              "    <tr>\n",
              "      <th>0</th>\n",
              "      <td>180</td>\n",
              "      <td>150</td>\n",
              "    </tr>\n",
              "    <tr>\n",
              "      <th>1</th>\n",
              "      <td>130</td>\n",
              "      <td>135</td>\n",
              "    </tr>\n",
              "    <tr>\n",
              "      <th>2</th>\n",
              "      <td>165</td>\n",
              "      <td>145</td>\n",
              "    </tr>\n",
              "    <tr>\n",
              "      <th>3</th>\n",
              "      <td>155</td>\n",
              "      <td>150</td>\n",
              "    </tr>\n",
              "    <tr>\n",
              "      <th>4</th>\n",
              "      <td>140</td>\n",
              "      <td>140</td>\n",
              "    </tr>\n",
              "  </tbody>\n",
              "</table>\n",
              "</div>\n",
              "      <button class=\"colab-df-convert\" onclick=\"convertToInteractive('df-a786c2de-9b4b-4e31-b616-a100a776966c')\"\n",
              "              title=\"Convert this dataframe to an interactive table.\"\n",
              "              style=\"display:none;\">\n",
              "        \n",
              "  <svg xmlns=\"http://www.w3.org/2000/svg\" height=\"24px\"viewBox=\"0 0 24 24\"\n",
              "       width=\"24px\">\n",
              "    <path d=\"M0 0h24v24H0V0z\" fill=\"none\"/>\n",
              "    <path d=\"M18.56 5.44l.94 2.06.94-2.06 2.06-.94-2.06-.94-.94-2.06-.94 2.06-2.06.94zm-11 1L8.5 8.5l.94-2.06 2.06-.94-2.06-.94L8.5 2.5l-.94 2.06-2.06.94zm10 10l.94 2.06.94-2.06 2.06-.94-2.06-.94-.94-2.06-.94 2.06-2.06.94z\"/><path d=\"M17.41 7.96l-1.37-1.37c-.4-.4-.92-.59-1.43-.59-.52 0-1.04.2-1.43.59L10.3 9.45l-7.72 7.72c-.78.78-.78 2.05 0 2.83L4 21.41c.39.39.9.59 1.41.59.51 0 1.02-.2 1.41-.59l7.78-7.78 2.81-2.81c.8-.78.8-2.07 0-2.86zM5.41 20L4 18.59l7.72-7.72 1.47 1.35L5.41 20z\"/>\n",
              "  </svg>\n",
              "      </button>\n",
              "      \n",
              "  <style>\n",
              "    .colab-df-container {\n",
              "      display:flex;\n",
              "      flex-wrap:wrap;\n",
              "      gap: 12px;\n",
              "    }\n",
              "\n",
              "    .colab-df-convert {\n",
              "      background-color: #E8F0FE;\n",
              "      border: none;\n",
              "      border-radius: 50%;\n",
              "      cursor: pointer;\n",
              "      display: none;\n",
              "      fill: #1967D2;\n",
              "      height: 32px;\n",
              "      padding: 0 0 0 0;\n",
              "      width: 32px;\n",
              "    }\n",
              "\n",
              "    .colab-df-convert:hover {\n",
              "      background-color: #E2EBFA;\n",
              "      box-shadow: 0px 1px 2px rgba(60, 64, 67, 0.3), 0px 1px 3px 1px rgba(60, 64, 67, 0.15);\n",
              "      fill: #174EA6;\n",
              "    }\n",
              "\n",
              "    [theme=dark] .colab-df-convert {\n",
              "      background-color: #3B4455;\n",
              "      fill: #D2E3FC;\n",
              "    }\n",
              "\n",
              "    [theme=dark] .colab-df-convert:hover {\n",
              "      background-color: #434B5C;\n",
              "      box-shadow: 0px 1px 3px 1px rgba(0, 0, 0, 0.15);\n",
              "      filter: drop-shadow(0px 1px 2px rgba(0, 0, 0, 0.3));\n",
              "      fill: #FFFFFF;\n",
              "    }\n",
              "  </style>\n",
              "\n",
              "      <script>\n",
              "        const buttonEl =\n",
              "          document.querySelector('#df-a786c2de-9b4b-4e31-b616-a100a776966c button.colab-df-convert');\n",
              "        buttonEl.style.display =\n",
              "          google.colab.kernel.accessAllowed ? 'block' : 'none';\n",
              "\n",
              "        async function convertToInteractive(key) {\n",
              "          const element = document.querySelector('#df-a786c2de-9b4b-4e31-b616-a100a776966c');\n",
              "          const dataTable =\n",
              "            await google.colab.kernel.invokeFunction('convertToInteractive',\n",
              "                                                     [key], {});\n",
              "          if (!dataTable) return;\n",
              "\n",
              "          const docLinkHtml = 'Like what you see? Visit the ' +\n",
              "            '<a target=\"_blank\" href=https://colab.research.google.com/notebooks/data_table.ipynb>data table notebook</a>'\n",
              "            + ' to learn more about interactive tables.';\n",
              "          element.innerHTML = '';\n",
              "          dataTable['output_type'] = 'display_data';\n",
              "          await google.colab.output.renderOutput(dataTable, element);\n",
              "          const docLink = document.createElement('div');\n",
              "          docLink.innerHTML = docLinkHtml;\n",
              "          element.appendChild(docLink);\n",
              "        }\n",
              "      </script>\n",
              "    </div>\n",
              "  </div>\n",
              "  "
            ]
          },
          "metadata": {},
          "execution_count": 2
        }
      ]
    },
    {
      "cell_type": "code",
      "source": [
        "df[\"差（投与前-投与後）\"] = df[\"投与前の血圧\"]-df[\"投与後の血圧\"]\n",
        "df"
      ],
      "metadata": {
        "colab": {
          "base_uri": "https://localhost:8080/",
          "height": 206
        },
        "id": "oCAVvWVeE0-C",
        "outputId": "ea756244-e2b2-4886-d62d-d8e230c78f94"
      },
      "execution_count": 3,
      "outputs": [
        {
          "output_type": "execute_result",
          "data": {
            "text/plain": [
              "   投与前の血圧  投与後の血圧  差（投与前-投与後）\n",
              "0     180     150          30\n",
              "1     130     135          -5\n",
              "2     165     145          20\n",
              "3     155     150           5\n",
              "4     140     140           0"
            ],
            "text/html": [
              "\n",
              "  <div id=\"df-6e0bd6b7-ed08-4f93-91aa-4eee2d6f7516\">\n",
              "    <div class=\"colab-df-container\">\n",
              "      <div>\n",
              "<style scoped>\n",
              "    .dataframe tbody tr th:only-of-type {\n",
              "        vertical-align: middle;\n",
              "    }\n",
              "\n",
              "    .dataframe tbody tr th {\n",
              "        vertical-align: top;\n",
              "    }\n",
              "\n",
              "    .dataframe thead th {\n",
              "        text-align: right;\n",
              "    }\n",
              "</style>\n",
              "<table border=\"1\" class=\"dataframe\">\n",
              "  <thead>\n",
              "    <tr style=\"text-align: right;\">\n",
              "      <th></th>\n",
              "      <th>投与前の血圧</th>\n",
              "      <th>投与後の血圧</th>\n",
              "      <th>差（投与前-投与後）</th>\n",
              "    </tr>\n",
              "  </thead>\n",
              "  <tbody>\n",
              "    <tr>\n",
              "      <th>0</th>\n",
              "      <td>180</td>\n",
              "      <td>150</td>\n",
              "      <td>30</td>\n",
              "    </tr>\n",
              "    <tr>\n",
              "      <th>1</th>\n",
              "      <td>130</td>\n",
              "      <td>135</td>\n",
              "      <td>-5</td>\n",
              "    </tr>\n",
              "    <tr>\n",
              "      <th>2</th>\n",
              "      <td>165</td>\n",
              "      <td>145</td>\n",
              "      <td>20</td>\n",
              "    </tr>\n",
              "    <tr>\n",
              "      <th>3</th>\n",
              "      <td>155</td>\n",
              "      <td>150</td>\n",
              "      <td>5</td>\n",
              "    </tr>\n",
              "    <tr>\n",
              "      <th>4</th>\n",
              "      <td>140</td>\n",
              "      <td>140</td>\n",
              "      <td>0</td>\n",
              "    </tr>\n",
              "  </tbody>\n",
              "</table>\n",
              "</div>\n",
              "      <button class=\"colab-df-convert\" onclick=\"convertToInteractive('df-6e0bd6b7-ed08-4f93-91aa-4eee2d6f7516')\"\n",
              "              title=\"Convert this dataframe to an interactive table.\"\n",
              "              style=\"display:none;\">\n",
              "        \n",
              "  <svg xmlns=\"http://www.w3.org/2000/svg\" height=\"24px\"viewBox=\"0 0 24 24\"\n",
              "       width=\"24px\">\n",
              "    <path d=\"M0 0h24v24H0V0z\" fill=\"none\"/>\n",
              "    <path d=\"M18.56 5.44l.94 2.06.94-2.06 2.06-.94-2.06-.94-.94-2.06-.94 2.06-2.06.94zm-11 1L8.5 8.5l.94-2.06 2.06-.94-2.06-.94L8.5 2.5l-.94 2.06-2.06.94zm10 10l.94 2.06.94-2.06 2.06-.94-2.06-.94-.94-2.06-.94 2.06-2.06.94z\"/><path d=\"M17.41 7.96l-1.37-1.37c-.4-.4-.92-.59-1.43-.59-.52 0-1.04.2-1.43.59L10.3 9.45l-7.72 7.72c-.78.78-.78 2.05 0 2.83L4 21.41c.39.39.9.59 1.41.59.51 0 1.02-.2 1.41-.59l7.78-7.78 2.81-2.81c.8-.78.8-2.07 0-2.86zM5.41 20L4 18.59l7.72-7.72 1.47 1.35L5.41 20z\"/>\n",
              "  </svg>\n",
              "      </button>\n",
              "      \n",
              "  <style>\n",
              "    .colab-df-container {\n",
              "      display:flex;\n",
              "      flex-wrap:wrap;\n",
              "      gap: 12px;\n",
              "    }\n",
              "\n",
              "    .colab-df-convert {\n",
              "      background-color: #E8F0FE;\n",
              "      border: none;\n",
              "      border-radius: 50%;\n",
              "      cursor: pointer;\n",
              "      display: none;\n",
              "      fill: #1967D2;\n",
              "      height: 32px;\n",
              "      padding: 0 0 0 0;\n",
              "      width: 32px;\n",
              "    }\n",
              "\n",
              "    .colab-df-convert:hover {\n",
              "      background-color: #E2EBFA;\n",
              "      box-shadow: 0px 1px 2px rgba(60, 64, 67, 0.3), 0px 1px 3px 1px rgba(60, 64, 67, 0.15);\n",
              "      fill: #174EA6;\n",
              "    }\n",
              "\n",
              "    [theme=dark] .colab-df-convert {\n",
              "      background-color: #3B4455;\n",
              "      fill: #D2E3FC;\n",
              "    }\n",
              "\n",
              "    [theme=dark] .colab-df-convert:hover {\n",
              "      background-color: #434B5C;\n",
              "      box-shadow: 0px 1px 3px 1px rgba(0, 0, 0, 0.15);\n",
              "      filter: drop-shadow(0px 1px 2px rgba(0, 0, 0, 0.3));\n",
              "      fill: #FFFFFF;\n",
              "    }\n",
              "  </style>\n",
              "\n",
              "      <script>\n",
              "        const buttonEl =\n",
              "          document.querySelector('#df-6e0bd6b7-ed08-4f93-91aa-4eee2d6f7516 button.colab-df-convert');\n",
              "        buttonEl.style.display =\n",
              "          google.colab.kernel.accessAllowed ? 'block' : 'none';\n",
              "\n",
              "        async function convertToInteractive(key) {\n",
              "          const element = document.querySelector('#df-6e0bd6b7-ed08-4f93-91aa-4eee2d6f7516');\n",
              "          const dataTable =\n",
              "            await google.colab.kernel.invokeFunction('convertToInteractive',\n",
              "                                                     [key], {});\n",
              "          if (!dataTable) return;\n",
              "\n",
              "          const docLinkHtml = 'Like what you see? Visit the ' +\n",
              "            '<a target=\"_blank\" href=https://colab.research.google.com/notebooks/data_table.ipynb>data table notebook</a>'\n",
              "            + ' to learn more about interactive tables.';\n",
              "          element.innerHTML = '';\n",
              "          dataTable['output_type'] = 'display_data';\n",
              "          await google.colab.output.renderOutput(dataTable, element);\n",
              "          const docLink = document.createElement('div');\n",
              "          docLink.innerHTML = docLinkHtml;\n",
              "          element.appendChild(docLink);\n",
              "        }\n",
              "      </script>\n",
              "    </div>\n",
              "  </div>\n",
              "  "
            ]
          },
          "metadata": {},
          "execution_count": 3
        }
      ]
    },
    {
      "cell_type": "code",
      "source": [
        "print(\"帰無仮説H_0：投薬前後の血圧は等しい\")  \n",
        "print(\"対立仮説H_1：投薬によって血圧は下がった\")"
      ],
      "metadata": {
        "colab": {
          "base_uri": "https://localhost:8080/"
        },
        "id": "xs2T-PRpFGAD",
        "outputId": "80013a11-deca-4e1a-8f84-d575be8adb95"
      },
      "execution_count": 4,
      "outputs": [
        {
          "output_type": "stream",
          "name": "stdout",
          "text": [
            "帰無仮説H_0：投薬前後の血圧は等しい\n",
            "対立仮説H_1：投薬によって血圧は下がった\n"
          ]
        }
      ]
    },
    {
      "cell_type": "code",
      "source": [
        "tt , pp = tuple(stats.ttest_rel(df[\"投与前の血圧\"],df[\"投与後の血圧\"],alternative=\"greater\"))\n",
        "\n",
        "tt = float(Decimal(str(tt)).quantize(Decimal('0.001'),rounding=ROUND_HALF_UP))\n",
        "print(f\"検定統計量のt値:{tt}\")\n",
        "pp = float(Decimal(str(pp*100)).quantize(Decimal('0.001'),rounding=ROUND_HALF_UP))\n",
        "print(f\"p値：{pp}%\")"
      ],
      "metadata": {
        "colab": {
          "base_uri": "https://localhost:8080/"
        },
        "id": "FnEuQGEnFhMB",
        "outputId": "12a5bd39-3b36-446a-c4ab-5ba4a594498f"
      },
      "execution_count": 5,
      "outputs": [
        {
          "output_type": "stream",
          "name": "stdout",
          "text": [
            "検定統計量のt値:1.534\n",
            "p値：9.991%\n"
          ]
        }
      ]
    },
    {
      "cell_type": "markdown",
      "source": [
        "自由度$4$の$t$分布における有意水準$5$%に対応する値は$2.132$です。"
      ],
      "metadata": {
        "id": "jmegrnmZJ44W"
      }
    },
    {
      "cell_type": "code",
      "source": [
        "float(Decimal(str(t.ppf(0.95, len(df)-1))).quantize(Decimal('0.001'),rounding=ROUND_HALF_UP))"
      ],
      "metadata": {
        "colab": {
          "base_uri": "https://localhost:8080/"
        },
        "outputId": "b8a7a21a-9690-4725-bdef-e4b86ddbe7fd",
        "id": "yUayyaANJ44X"
      },
      "execution_count": 6,
      "outputs": [
        {
          "output_type": "execute_result",
          "data": {
            "text/plain": [
              "2.132"
            ]
          },
          "metadata": {},
          "execution_count": 6
        }
      ]
    },
    {
      "cell_type": "markdown",
      "source": [
        "* $t$値が$2.132$より小さくなった\n",
        "* $p$値が$5$%より大きくなった\n",
        "\n",
        "この二点から、帰無仮説$H_0$を棄却することができません。  \n",
        "よって、対立仮説$H_1$を採択しません。\n"
      ],
      "metadata": {
        "id": "BQcNrwKKJ44Y"
      }
    },
    {
      "cell_type": "code",
      "source": [
        "print(\"したがって、投薬によって血圧は下がったとは言えない\")"
      ],
      "metadata": {
        "colab": {
          "base_uri": "https://localhost:8080/"
        },
        "outputId": "dbbabd1c-59ff-4ff9-b53b-d967e528246c",
        "id": "JJAePbeDJ44Z"
      },
      "execution_count": 9,
      "outputs": [
        {
          "output_type": "stream",
          "name": "stdout",
          "text": [
            "したがって、投薬によって血圧は下がったとは言えない\n"
          ]
        }
      ]
    },
    {
      "cell_type": "markdown",
      "source": [
        "### Pythonによる描画"
      ],
      "metadata": {
        "id": "uWEvMcxOHtJX"
      }
    },
    {
      "cell_type": "markdown",
      "source": [
        "平均値差の検定をするときは、$t$検定を行うだけではなくて、  \n",
        "データの分布も一緒に確認するようにしましょう。"
      ],
      "metadata": {
        "id": "WadsU5-mHyxN"
      }
    },
    {
      "cell_type": "code",
      "source": [
        "sns.boxplot(df[\"差（投与前-投与後）\"])"
      ],
      "metadata": {
        "colab": {
          "base_uri": "https://localhost:8080/",
          "height": 350
        },
        "id": "rqisjq-jH0ad",
        "outputId": "062e551f-d900-4ad5-8e3f-8db7a3ef971e"
      },
      "execution_count": 8,
      "outputs": [
        {
          "output_type": "stream",
          "name": "stderr",
          "text": [
            "/usr/local/lib/python3.8/dist-packages/seaborn/_decorators.py:36: FutureWarning: Pass the following variable as a keyword arg: x. From version 0.12, the only valid positional argument will be `data`, and passing other arguments without an explicit keyword will result in an error or misinterpretation.\n",
            "  warnings.warn(\n"
          ]
        },
        {
          "output_type": "execute_result",
          "data": {
            "text/plain": [
              "<matplotlib.axes._subplots.AxesSubplot at 0x7f8036a37e20>"
            ]
          },
          "metadata": {},
          "execution_count": 8
        },
        {
          "output_type": "display_data",
          "data": {
            "text/plain": [
              "<Figure size 432x288 with 1 Axes>"
            ],
            "image/png": "[encoded data removed]"
          },
          "metadata": {
            "needs_background": "light"
          }
        }
      ]
    },
    {
      "cell_type": "markdown",
      "source": [
        "箱ひげ図的には投与前の方が血圧が高いといえそうですが、  \n",
        "仮説検定で確かめることはできませんでした。"
      ],
      "metadata": {
        "id": "m4ud-CZRIOrD"
      }
    }
  ]
}