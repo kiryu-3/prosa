{
  "nbformat": 4,
  "nbformat_minor": 0,
  "metadata": {
    "colab": {
      "provenance": [],
      "include_colab_link": true
    },
    "kernelspec": {
      "name": "python3",
      "display_name": "Python 3"
    },
    "language_info": {
      "name": "python"
    }
  },
  "cells": [
    {
      "cell_type": "markdown",
      "metadata": {
        "id": "view-in-github",
        "colab_type": "text"
      },
      "source": [
        "<a href=\"https://colab.research.google.com/github/kiryu-3/prosa/blob/main/Python/Python_Stats/Stats_6.ipynb\" target=\"_parent\"><img src=\"https://colab.research.google.com/assets/colab-badge.svg\" alt=\"Open In Colab\"/></a>"
      ]
    },
    {
      "cell_type": "markdown",
      "source": [
        "# 第6章 母比率と母分散の区間推定"
      ],
      "metadata": {
        "id": "CI4tghRBq6gm"
      }
    },
    {
      "cell_type": "code",
      "execution_count": null,
      "metadata": {
        "id": "eLNJMFIQqoED"
      },
      "outputs": [],
      "source": [
        "import numpy as np\n",
        "import pandas as pd\n",
        "import matplotlib.pyplot as plt\n",
        "!pip install japanize-matplotlib\n",
        "import japanize_matplotlib\n",
        "import seaborn as sns\n",
        "from scipy import stats\n",
        "from scipy.stats import norm\n",
        "from scipy.stats import chi2\n",
        "from decimal import Decimal, ROUND_HALF_UP, ROUND_HALF_EVEN"
      ]
    },
    {
      "cell_type": "markdown",
      "source": [
        "## 比率とは？\n",
        "**比率**(ratio)とは、内閣支持率や工場で発生した不良品の割合など、  \n",
        "総数に対して個々のカテゴリが占める割合のことを指します。\n",
        "\n",
        "この比率の推定は、応用されている例は結構あります。  \n",
        "例えば選挙速報は、開票率1%で当選確実かどうかを判断しています。  \n",
        "これは母集団の比率を標本から推定しているためです。  \n",
        "\n"
      ],
      "metadata": {
        "id": "_SPC6nP_rNm0"
      }
    },
    {
      "cell_type": "markdown",
      "source": [
        "## 母比率の区間推定"
      ],
      "metadata": {
        "id": "l0h1HjoXrIP8"
      }
    },
    {
      "cell_type": "markdown",
      "source": [
        "### 区間推定のステップ（再掲）\n",
        "①母集団から無作為抽出して標本を作成  \n",
        "②標本から**推定量**を計算  \n",
        "③**信頼区間**を設けて母数を推定  \n",
        "④推定量の標本分布（標本統計量が従う分布）を考える  \n",
        "⑤信頼区間がとりうる値を標本分布から算出する"
      ],
      "metadata": {
        "id": "X9wr_r3OullL"
      }
    },
    {
      "cell_type": "markdown",
      "source": [
        "### 母集団から無作為抽出して標本を作成\n",
        "母集団の比率を$p$とし、標本の大きさを$n$とします。"
      ],
      "metadata": {
        "id": "rzeSqB_lvJOt"
      }
    },
    {
      "cell_type": "markdown",
      "source": [
        "イメージを付けやすくするために、具体例も平行して進めます。\n",
        "\n",
        "今回は知名度について取り上げます。  \n",
        "2020年にとある番組で年代別に2000人を対象として日本人の知名度を集計する企画が放送されました。\n",
        "\n",
        "今回はこの2000人の集計結果を元に標本を作ります。  \n",
        "$n=2000$となります。"
      ],
      "metadata": {
        "id": "-tX-u_yEvZ20"
      }
    },
    {
      "cell_type": "markdown",
      "source": [
        "### 標本から推定量を計算\n",
        "今回は標本比率が推定量となります。これを$\\hat{p}$とします。  \n",
        "\n",
        "今回の集計では大谷翔平選手の知名度が66.2%であったので、これを標本比率とします。  \n",
        "$\\hat{p}=0.662$となります。"
      ],
      "metadata": {
        "id": "Zb7Dp93Dz6Sd"
      }
    },
    {
      "cell_type": "markdown",
      "source": [
        "### 信頼区間を設けて母数を推定\n",
        "信頼区間は95%とすることが多いです。"
      ],
      "metadata": {
        "id": "T3-yDPxY5dOX"
      }
    },
    {
      "cell_type": "markdown",
      "source": [
        "### 推定量の標本分布を考える ※最重要\n",
        "標本比率の標本分布について考えてみましょう。  \n",
        "**ここが最重要です。**"
      ],
      "metadata": {
        "id": "GnPrt35DGHjr"
      }
    },
    {
      "cell_type": "markdown",
      "source": [
        "#### 二項分布の場合（復習）\n",
        "1回の事象が起こる確率を$p$とします。  \n",
        "この試行を$n$回行った後に、ある事象が起こる回数（$x$とします）が従う確率分布を**二項分布**といいます。  \n",
        "\n",
        "$平均μ=np$  \n",
        "$標準偏差σ=\\sqrt{np(1-p)} $"
      ],
      "metadata": {
        "id": "uVeE68wbGUu7"
      }
    },
    {
      "cell_type": "markdown",
      "source": [
        "また二項分布には、**$n$が大きいときには正規分布に近似できる**という性質があります。  \n",
        "その正規分布の平均は$np$、分散は$np(1-p)$になります。"
      ],
      "metadata": {
        "id": "kM5cfT64LmIR"
      }
    },
    {
      "cell_type": "markdown",
      "source": [
        "#### 標本比率の場合\n",
        "集計を例とします。 \n",
        "\n",
        "「知っている」と答える人の割合を $p$(不明) とします。  \n",
        "この試行を $n(=2000)$ 回行った後に、「知っている」と答えた人数（$x$とします）が従う確率分布は？  \n",
        "($x=2000×0.662=1324$ となります）"
      ],
      "metadata": {
        "id": "_mPD1tGxLGhD"
      }
    },
    {
      "cell_type": "markdown",
      "source": [
        "#### 比率と二項分布\n",
        "以上のように言い換えてみると、「知っている」と答えた人数$x$が従う確率分布は、  \n",
        "二項分布に従うことが分かります。\n",
        "\n",
        "$平均μ=np$  \n",
        "$標準偏差σ=\\sqrt{np(1-p)} $"
      ],
      "metadata": {
        "id": "wQoKu3wQP4AC"
      }
    },
    {
      "cell_type": "markdown",
      "source": [
        "よって比率 $\\hat{p} (=\\frac{x}{n})$が従う確率分布は二項分布に従うことが明らかになりました。  \n",
        "また、$n$が大きいときには正規分布で近似することができます。\n",
        "\n",
        "$平均μ=p$  \n",
        "$標準偏差σ=\\sqrt{\\frac{p(1-p)}{n}}$"
      ],
      "metadata": {
        "id": "Akx98vLYROSY"
      }
    },
    {
      "cell_type": "markdown",
      "source": [
        "#### 標準化\n",
        "標本分布の平均と標準偏差が分かったところで、**標準化**して分かりやすくしましょう。  \n",
        "標準化の式は以下の通りです。\n",
        "\n",
        "$$\n",
        "z=\\frac{\\hat{p}-p}{\\sqrt{\\frac{p(1-p)}{n}}}\n",
        "$$"
      ],
      "metadata": {
        "id": "bQele7WTXj5U"
      }
    },
    {
      "cell_type": "markdown",
      "source": [
        "### 信頼区間がとりうる値を標本分布から算出する\n",
        "あとは$p$に対して計算して値を出していくだけです。\n",
        "\n",
        "$$\n",
        "\\hat{p}-z×\\sqrt{\\frac{p(1-p)}{n}} ≦ p ≦ \\hat{p}+z×\\sqrt{\\frac{p(1-p)}{n}}\n",
        "$$"
      ],
      "metadata": {
        "id": "roa-GyLwYy71"
      }
    },
    {
      "cell_type": "markdown",
      "source": [
        "このままでは母比率$p$が信頼区間に含まれたままなので、$p$の不偏推定量である$\\hat{p}$を使います。  \n",
        "$\\sqrt{\\frac{p(1-p)}{n}}$の$p$を$\\hat{p}$に置き換えます。\n",
        "\n",
        "$$\n",
        "\\hat{p}-z×\\sqrt{\\frac{\\hat{p}(1-\\hat{p})}{n}} ≦ p ≦ \\hat{p}+z×\\sqrt{\\frac{\\hat{p}(1-\\hat{p})}{n}}\n",
        "$$"
      ],
      "metadata": {
        "id": "L2ReC_d0HkcQ"
      }
    },
    {
      "cell_type": "markdown",
      "source": [
        "### Pythonによる区間推定"
      ],
      "metadata": {
        "id": "eduU6946BLWD"
      }
    },
    {
      "cell_type": "markdown",
      "source": [
        "実際に手計算で解くのは結構手間なので、大谷翔平選手の知名度についてPythonで簡単に区間推定しましょう。"
      ],
      "metadata": {
        "id": "H9VMt4IIL1tY"
      }
    },
    {
      "cell_type": "code",
      "source": [
        "alpha = 0.95\n",
        "print(\"信頼係数：{}\".format(alpha))\n",
        "\n",
        "n = 2000\n",
        "print(\"標本の大きさ：{}\".format(n))\n",
        "\n",
        "p = 0.662\n",
        "print(\"標本の比率：{}\".format(p))"
      ],
      "metadata": {
        "id": "rMr3W7NiW8s2",
        "colab": {
          "base_uri": "https://localhost:8080/"
        },
        "outputId": "8dd489ec-cd05-497a-8dd7-b8dc3184a7db"
      },
      "execution_count": null,
      "outputs": [
        {
          "output_type": "stream",
          "name": "stdout",
          "text": [
            "信頼係数：0.95\n",
            "標本の大きさ：2000\n",
            "標本の比率：0.662\n"
          ]
        }
      ]
    },
    {
      "cell_type": "code",
      "source": [
        "# Pythonによる導出方法\n",
        "x1,x2 = stats.binom.interval(alpha, n, p)  # 下方信頼限界 , 上方信頼限界\n",
        "x1 = Decimal(str(x1)).quantize(Decimal('0.01'),rounding=ROUND_HALF_UP)\n",
        "x2 = Decimal(str(x2)).quantize(Decimal('0.01'), rounding=ROUND_HALF_UP)\n",
        "\n",
        "print(\"大谷翔平選手の知名度は信頼係数95%のもとで\")\n",
        "print(\"{} %≦ μ ≦ {}%\".format(x1/n*100,x2/n*100))"
      ],
      "metadata": {
        "id": "Ts1oAZzTMko-",
        "colab": {
          "base_uri": "https://localhost:8080/"
        },
        "outputId": "ca6b7918-80ea-4e6a-ed7f-b7542ccb51bd"
      },
      "execution_count": null,
      "outputs": [
        {
          "output_type": "stream",
          "name": "stdout",
          "text": [
            "大谷翔平選手の知名度は信頼係数95%のもとで\n",
            "64.100 %≦ μ ≦ 68.2500%\n"
          ]
        }
      ]
    },
    {
      "cell_type": "markdown",
      "source": [
        "### 演習\n",
        "演習をして母比率パートは終了です。"
      ],
      "metadata": {
        "id": "7ZbaKV99P6BA"
      }
    },
    {
      "cell_type": "markdown",
      "source": [
        "まずは[こちら](https://bit.ly/3Vp36xp)の問題を区間推定してみましょう。"
      ],
      "metadata": {
        "id": "AYBJ-vJ9Qa8X"
      }
    },
    {
      "cell_type": "code",
      "source": [
        "alpha = 0.95\n",
        "print(\"信頼係数：{}\".format(alpha))\n",
        "\n",
        "n = 100\n",
        "print(\"標本の大きさ：{}\".format(n))\n",
        "\n",
        "p = 0.1\n",
        "print(\"標本の比率：{}\".format(p))"
      ],
      "metadata": {
        "id": "qq5jAdcPQALD",
        "colab": {
          "base_uri": "https://localhost:8080/"
        },
        "outputId": "329da0de-89f6-424b-d59a-aeb0692e3d6c"
      },
      "execution_count": null,
      "outputs": [
        {
          "output_type": "stream",
          "name": "stdout",
          "text": [
            "信頼係数：0.95\n",
            "標本の大きさ：100\n",
            "標本の比率：0.1\n"
          ]
        }
      ]
    },
    {
      "cell_type": "code",
      "source": [
        "# Pythonによる導出方法\n",
        "x1,x2 = stats.binom.interval(alpha, n, p)  # 下方信頼限界 , 上方信頼限界\n",
        "\n",
        "print(\"このテレビ番組の視聴率は信頼係数95%のもとで\")\n",
        "print(\"{} %≦ μ ≦ {}%\".format(x1/n*100,x2/n*100))"
      ],
      "metadata": {
        "id": "ejRuBRzCQzS2",
        "colab": {
          "base_uri": "https://localhost:8080/"
        },
        "outputId": "538de079-093b-4398-c99c-3d27f316a5d9"
      },
      "execution_count": null,
      "outputs": [
        {
          "output_type": "stream",
          "name": "stdout",
          "text": [
            "このテレビ番組の視聴率は信頼係数95%のもとで\n",
            "5.0 %≦ μ ≦ 16.0%\n"
          ]
        }
      ]
    },
    {
      "cell_type": "markdown",
      "source": [
        "続いて[こちら](https://bit.ly/3veFMrl)の問題を区間推定してみましょう。"
      ],
      "metadata": {
        "id": "OwZOmIpcFAVK"
      }
    },
    {
      "cell_type": "code",
      "source": [
        "alpha = 0.95\n",
        "print(\"信頼係数：{}\".format(alpha))\n",
        "\n",
        "n = 400\n",
        "print(\"標本の大きさ：{}\".format(n))\n",
        "\n",
        "p = 0.25\n",
        "print(\"標本の比率：{}\".format(p))"
      ],
      "metadata": {
        "id": "jsuVoi_zR5x8",
        "colab": {
          "base_uri": "https://localhost:8080/"
        },
        "outputId": "2206c192-2dd0-422c-b93b-a6af81c5c005"
      },
      "execution_count": null,
      "outputs": [
        {
          "output_type": "stream",
          "name": "stdout",
          "text": [
            "信頼係数：0.95\n",
            "標本の大きさ：400\n",
            "標本の比率：0.25\n"
          ]
        }
      ]
    },
    {
      "cell_type": "code",
      "source": [
        "# Pythonによる導出方法\n",
        "x1,x2 = stats.binom.interval(alpha, n, p)  # 下方信頼限界 , 上方信頼限界\n",
        "\n",
        "print(\"「おいしい」と評価する割合は信頼係数95%のもとで\")\n",
        "print(\"{} %≦ μ ≦ {}%\".format(x1/n*100,x2/n*100))"
      ],
      "metadata": {
        "id": "rkF-umcESRrU",
        "colab": {
          "base_uri": "https://localhost:8080/"
        },
        "outputId": "c7257753-fba3-49bc-cd13-9bd025dad4bb"
      },
      "execution_count": null,
      "outputs": [
        {
          "output_type": "stream",
          "name": "stdout",
          "text": [
            "「おいしい」と評価する割合は信頼係数95%のもとで\n",
            "20.75 %≦ μ ≦ 29.25%\n"
          ]
        }
      ]
    },
    {
      "cell_type": "markdown",
      "source": [
        "最後に[こちら](https://bit.ly/3I5ElDc)の問題を区間推定してみましょう。"
      ],
      "metadata": {
        "id": "i-JYTOVBFawa"
      }
    },
    {
      "cell_type": "code",
      "source": [
        "alpha = 0.95\n",
        "print(\"信頼係数：{}\".format(alpha))\n",
        "\n",
        "n = 400\n",
        "print(\"標本の大きさ：{}\".format(n))\n",
        "\n",
        "p = 0.2\n",
        "print(\"標本の比率：{}\".format(p))"
      ],
      "metadata": {
        "id": "giW-dPK_FZWs",
        "colab": {
          "base_uri": "https://localhost:8080/"
        },
        "outputId": "1ae40e03-14f9-4956-ed7b-4c4a60c89ed1"
      },
      "execution_count": null,
      "outputs": [
        {
          "output_type": "stream",
          "name": "stdout",
          "text": [
            "信頼係数：0.95\n",
            "標本の大きさ：400\n",
            "標本の比率：0.2\n"
          ]
        }
      ]
    },
    {
      "cell_type": "code",
      "source": [
        "# Pythonによる導出方法\n",
        "x1,x2 = stats.binom.interval(alpha, n, p)  # 下方信頼限界 , 上方信頼限界\n",
        "\n",
        "print(\"6の目が出る割合は信頼係数95%のもとで\")\n",
        "print(\"{} %≦ μ ≦ {}%\".format(x1/n*100,x2/n*100))"
      ],
      "metadata": {
        "id": "ODKAn0CiFm3A",
        "colab": {
          "base_uri": "https://localhost:8080/"
        },
        "outputId": "c7914ac1-585a-4d27-82e2-c73d6d4d6b96"
      },
      "execution_count": null,
      "outputs": [
        {
          "output_type": "stream",
          "name": "stdout",
          "text": [
            "6の目が出る割合は信頼係数95%のもとで\n",
            "16.25 %≦ μ ≦ 24.0%\n"
          ]
        }
      ]
    },
    {
      "cell_type": "markdown",
      "source": [
        "## 母分散の区間推定"
      ],
      "metadata": {
        "id": "a8qqKVxCF42Z"
      }
    },
    {
      "cell_type": "markdown",
      "source": [
        "母集団の分散は通常未知です。    \n",
        "そのため**不偏分散**を推定量としていましたが、平均・比率と同様、区間推定をすることもできます。"
      ],
      "metadata": {
        "id": "GlQSXbEhJ5e-"
      }
    },
    {
      "cell_type": "markdown",
      "source": [
        "### カイ二乗\n",
        "標準化した変数の二乗値をいくつか足し合わせて変数が従う確率分布を  \n",
        "**カイ二乗分布**（**$\\chi^2$分布**）といいます。\n",
        "\n",
        "$$\n",
        "\\chi^2 = \\sum_{i=1}^{n} (\\frac{X_i-μ}{σ})^2=\\frac{(n-1)s^{'2}}{σ^2}\n",
        "$$"
      ],
      "metadata": {
        "id": "rhNxgEiyOMr5"
      }
    },
    {
      "cell_type": "markdown",
      "source": [
        "t分布と同様、自由度$m$の値が変わると形が変わります。  \n",
        "\n",
        "カイ二乗分布の確率密度関数は以下の通りです。\n",
        "\n",
        "$$\n",
        "f(χ^2) = \\frac{1}{2^\\frac{m}{2}Γ(\\frac{m}{2})}(χ^2)^{\\frac{m}{2}-1}e^{-\\frac{χ^2}{2}}  （0≦\\chi^2≦∞）\n",
        "$$"
      ],
      "metadata": {
        "id": "KyNMN6JxRaeh"
      }
    },
    {
      "cell_type": "markdown",
      "source": [
        "#### Pythonによるカイ二乗分布\n",
        "自由度が変化したときのカイ二乗分布の形の変化についてみてみましょう。"
      ],
      "metadata": {
        "id": "suiMiEwlShsW"
      }
    },
    {
      "cell_type": "code",
      "source": [
        "x = np.linspace(0, 20, 10000)\n",
        "\n",
        "# 自由度\n",
        "k_deg = [1, 4, 6, 10]\n",
        "\n",
        "# 自由度 n=1〜5 までのグラフを描画\n",
        "for i in k_deg:\n",
        "    plt.plot(x, chi2.pdf(x, i), linestyle='--',label='自由度 k={}'.format(i))\n",
        "\n",
        "\"\"\"\n",
        "****************************************\n",
        "グラフの書式設定\n",
        "****************************************\n",
        "\"\"\"\n",
        "plt.title(\"$χ^2$分布\")   # タイトル\n",
        "plt.xlim(0, 20)  # X軸範囲\n",
        "plt.ylim(0, 1)  # Y軸範囲\n",
        "plt.legend()  # 凡例\n",
        "plt.show()"
      ],
      "metadata": {
        "id": "kOvxKB8ESoct",
        "colab": {
          "base_uri": "https://localhost:8080/",
          "height": 284
        },
        "outputId": "da85766c-2718-480d-8db0-f731914950c8"
      },
      "execution_count": null,
      "outputs": [
        {
          "output_type": "display_data",
          "data": {
            "text/plain": [
              "<Figure size 432x288 with 1 Axes>"
            ],
            "image/png": "[encoded data removed]"
          },
          "metadata": {
            "needs_background": "light"
          }
        }
      ]
    },
    {
      "cell_type": "markdown",
      "source": [
        "#### カイ二乗分布表"
      ],
      "metadata": {
        "id": "m95SyMCRauQz"
      }
    },
    {
      "cell_type": "markdown",
      "source": [
        "![カイ二乗分布表.png](data:image/png;base64,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)"
      ],
      "metadata": {
        "id": "rBbA0d4WawrE"
      }
    },
    {
      "cell_type": "markdown",
      "source": [
        "#### カイ二乗分布表の使い方\n",
        "実際に手計算を行う際は、**カイ二乗分布表**を用いることで確率を求めます。"
      ],
      "metadata": {
        "id": "TPdv4452Tzup"
      }
    },
    {
      "cell_type": "markdown",
      "source": [
        "カイ二乗分布が以下のような図の場合、  \n",
        "「自由度が$k$であり、青色部分の面積が$α$となるカイ二乗の値$\\chi_α^2(k)$」を表します。"
      ],
      "metadata": {
        "id": "94V2k5rIVRrd"
      }
    },
    {
      "cell_type": "markdown",
      "source": [
        "![カイ二乗分布.png](data:image/png;base64,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)"
      ],
      "metadata": {
        "id": "_lO0s3dkVLQF"
      }
    },
    {
      "cell_type": "markdown",
      "source": [
        "  （例：95%信頼係数に対応する自由度5のカイ二乗分布）\n",
        "\n",
        "①自由度が「5」の行を見る。\n",
        "  \n",
        "②上方信頼限界を求める  \n",
        "　$(1.00-0.95)/2=0.025$  \n",
        "　$\\chi^2_{0.025}(5)=12.8$ \n",
        "\n",
        "③下方信頼限界を求める  \n",
        "　$1.00-0.025=0.975$  \n",
        "　$\\chi^2_{0.975}(5)=0.831$ "
      ],
      "metadata": {
        "id": "u-ozvIS-bG01"
      }
    },
    {
      "cell_type": "markdown",
      "source": [
        "### 区間推定のステップ（再掲）\n",
        "①母集団から無作為抽出して標本を作成  \n",
        "②標本から**推定量**を計算  \n",
        "③**信頼区間**を設けて母数を推定  \n",
        "④推定量の標本分布（標本統計量が従う分布）を考える  \n",
        "⑤信頼区間がとりうる値を標本分布から算出する"
      ],
      "metadata": {
        "id": "A9prkgN7KgdV"
      }
    },
    {
      "cell_type": "markdown",
      "source": [
        "### ① 母集団から無作為抽出して標本を作成\n",
        "母集団の分散を$σ^2$とし、標本の大きさを$n$とします。"
      ],
      "metadata": {
        "id": "ixkK-SSiKyts"
      }
    },
    {
      "cell_type": "markdown",
      "source": [
        "### ② 標本から推定量を計算\n",
        "今回は**標本の不偏分散**が推定量となります。これを$s^{'2}$とします。  "
      ],
      "metadata": {
        "id": "6ksifc7bLA9i"
      }
    },
    {
      "cell_type": "markdown",
      "source": [
        "### ③ 信頼区間を設けて母数を推定\n",
        "信頼区間は95%とすることが多いです。"
      ],
      "metadata": {
        "id": "CdkQoVD-LsRp"
      }
    },
    {
      "cell_type": "markdown",
      "source": [
        "### ④ 推定量の標本分布を考える\n",
        "不偏分散の標本分布は**カイ二乗分布**です。  \n",
        "自由度$m$は $n-1$ となります。\n",
        "\n",
        "$\\chi_α^2(k)$を読み取り、$s^{'2}$の上方信頼限界と下方信頼限界を求めましょう。  \n",
        "ここでは上方信頼限界を$\\chi_U^2(k)$、下方信頼限界を$\\chi_L^2(k)$とします。\n",
        "\n",
        "$$\n",
        "\\chi_L^2(k) ≦ \\frac{(n-1)s^{'2}}{σ^2} ≦ \\chi_U^2(k)\n",
        "$$"
      ],
      "metadata": {
        "id": "ytZyg6CFLxBJ"
      }
    },
    {
      "cell_type": "markdown",
      "source": [
        "### ⑤ 信頼区間がとりうる値を標本分布から算出する\n",
        "あとは$σ^2$に対して計算して値を出していくだけです。\n",
        "\n",
        "$$\n",
        "\\frac{(n-1)s^{'2}}{\\chi_U^2(k)} ≦ σ^2 ≦ \\frac{(n-1)s^{'2}}{\\chi_L^2(k)}\n",
        "$$"
      ],
      "metadata": {
        "id": "G54N1JcEewNz"
      }
    },
    {
      "cell_type": "markdown",
      "source": [
        "### Pythonによる区間推定"
      ],
      "metadata": {
        "id": "AKcG4u-EgrIG"
      }
    },
    {
      "cell_type": "markdown",
      "source": [
        "[こちら](https://bit.ly/3I25ib8)の演習問題の区間推定を行ってみましょう。  "
      ],
      "metadata": {
        "id": "4vOo4oDcg5xd"
      }
    },
    {
      "cell_type": "code",
      "source": [
        "# dictionaryからDataFrameを作る\n",
        "\n",
        "data = {\n",
        "    \"都道府県\":[\"兵庫県\",\"大阪県\",\"奈良県\",\"岩手県\",\"千葉県\",\n",
        "                \"茨城県\",\"福岡県\",\"山梨県\",\"滋賀県\",\"鳥取県\"],\n",
        "    \"全スクリーン数\" : [126,224,34,25,199,89,178,14,38,11]\n",
        "}\n",
        "\n",
        "df = pd.DataFrame(data)\n",
        "df"
      ],
      "metadata": {
        "id": "WVLa_ULVgode",
        "colab": {
          "base_uri": "https://localhost:8080/",
          "height": 363
        },
        "outputId": "45a05bbc-6e24-40e6-a94d-7209550bf8ab"
      },
      "execution_count": null,
      "outputs": [
        {
          "output_type": "execute_result",
          "data": {
            "text/plain": [
              "  都道府県  全スクリーン数\n",
              "0  兵庫県      126\n",
              "1  大阪県      224\n",
              "2  奈良県       34\n",
              "3  岩手県       25\n",
              "4  千葉県      199\n",
              "5  茨城県       89\n",
              "6  福岡県      178\n",
              "7  山梨県       14\n",
              "8  滋賀県       38\n",
              "9  鳥取県       11"
            ],
            "text/html": [
              "\n",
              "  <div id=\"df-db732e8a-a17c-4784-99e5-dcf4ffee36d5\">\n",
              "    <div class=\"colab-df-container\">\n",
              "      <div>\n",
              "<style scoped>\n",
              "    .dataframe tbody tr th:only-of-type {\n",
              "        vertical-align: middle;\n",
              "    }\n",
              "\n",
              "    .dataframe tbody tr th {\n",
              "        vertical-align: top;\n",
              "    }\n",
              "\n",
              "    .dataframe thead th {\n",
              "        text-align: right;\n",
              "    }\n",
              "</style>\n",
              "<table border=\"1\" class=\"dataframe\">\n",
              "  <thead>\n",
              "    <tr style=\"text-align: right;\">\n",
              "      <th></th>\n",
              "      <th>都道府県</th>\n",
              "      <th>全スクリーン数</th>\n",
              "    </tr>\n",
              "  </thead>\n",
              "  <tbody>\n",
              "    <tr>\n",
              "      <th>0</th>\n",
              "      <td>兵庫県</td>\n",
              "      <td>126</td>\n",
              "    </tr>\n",
              "    <tr>\n",
              "      <th>1</th>\n",
              "      <td>大阪県</td>\n",
              "      <td>224</td>\n",
              "    </tr>\n",
              "    <tr>\n",
              "      <th>2</th>\n",
              "      <td>奈良県</td>\n",
              "      <td>34</td>\n",
              "    </tr>\n",
              "    <tr>\n",
              "      <th>3</th>\n",
              "      <td>岩手県</td>\n",
              "      <td>25</td>\n",
              "    </tr>\n",
              "    <tr>\n",
              "      <th>4</th>\n",
              "      <td>千葉県</td>\n",
              "      <td>199</td>\n",
              "    </tr>\n",
              "    <tr>\n",
              "      <th>5</th>\n",
              "      <td>茨城県</td>\n",
              "      <td>89</td>\n",
              "    </tr>\n",
              "    <tr>\n",
              "      <th>6</th>\n",
              "      <td>福岡県</td>\n",
              "      <td>178</td>\n",
              "    </tr>\n",
              "    <tr>\n",
              "      <th>7</th>\n",
              "      <td>山梨県</td>\n",
              "      <td>14</td>\n",
              "    </tr>\n",
              "    <tr>\n",
              "      <th>8</th>\n",
              "      <td>滋賀県</td>\n",
              "      <td>38</td>\n",
              "    </tr>\n",
              "    <tr>\n",
              "      <th>9</th>\n",
              "      <td>鳥取県</td>\n",
              "      <td>11</td>\n",
              "    </tr>\n",
              "  </tbody>\n",
              "</table>\n",
              "</div>\n",
              "      <button class=\"colab-df-convert\" onclick=\"convertToInteractive('df-db732e8a-a17c-4784-99e5-dcf4ffee36d5')\"\n",
              "              title=\"Convert this dataframe to an interactive table.\"\n",
              "              style=\"display:none;\">\n",
              "        \n",
              "  <svg xmlns=\"http://www.w3.org/2000/svg\" height=\"24px\"viewBox=\"0 0 24 24\"\n",
              "       width=\"24px\">\n",
              "    <path d=\"M0 0h24v24H0V0z\" fill=\"none\"/>\n",
              "    <path d=\"M18.56 5.44l.94 2.06.94-2.06 2.06-.94-2.06-.94-.94-2.06-.94 2.06-2.06.94zm-11 1L8.5 8.5l.94-2.06 2.06-.94-2.06-.94L8.5 2.5l-.94 2.06-2.06.94zm10 10l.94 2.06.94-2.06 2.06-.94-2.06-.94-.94-2.06-.94 2.06-2.06.94z\"/><path d=\"M17.41 7.96l-1.37-1.37c-.4-.4-.92-.59-1.43-.59-.52 0-1.04.2-1.43.59L10.3 9.45l-7.72 7.72c-.78.78-.78 2.05 0 2.83L4 21.41c.39.39.9.59 1.41.59.51 0 1.02-.2 1.41-.59l7.78-7.78 2.81-2.81c.8-.78.8-2.07 0-2.86zM5.41 20L4 18.59l7.72-7.72 1.47 1.35L5.41 20z\"/>\n",
              "  </svg>\n",
              "      </button>\n",
              "      \n",
              "  <style>\n",
              "    .colab-df-container {\n",
              "      display:flex;\n",
              "      flex-wrap:wrap;\n",
              "      gap: 12px;\n",
              "    }\n",
              "\n",
              "    .colab-df-convert {\n",
              "      background-color: #E8F0FE;\n",
              "      border: none;\n",
              "      border-radius: 50%;\n",
              "      cursor: pointer;\n",
              "      display: none;\n",
              "      fill: #1967D2;\n",
              "      height: 32px;\n",
              "      padding: 0 0 0 0;\n",
              "      width: 32px;\n",
              "    }\n",
              "\n",
              "    .colab-df-convert:hover {\n",
              "      background-color: #E2EBFA;\n",
              "      box-shadow: 0px 1px 2px rgba(60, 64, 67, 0.3), 0px 1px 3px 1px rgba(60, 64, 67, 0.15);\n",
              "      fill: #174EA6;\n",
              "    }\n",
              "\n",
              "    [theme=dark] .colab-df-convert {\n",
              "      background-color: #3B4455;\n",
              "      fill: #D2E3FC;\n",
              "    }\n",
              "\n",
              "    [theme=dark] .colab-df-convert:hover {\n",
              "      background-color: #434B5C;\n",
              "      box-shadow: 0px 1px 3px 1px rgba(0, 0, 0, 0.15);\n",
              "      filter: drop-shadow(0px 1px 2px rgba(0, 0, 0, 0.3));\n",
              "      fill: #FFFFFF;\n",
              "    }\n",
              "  </style>\n",
              "\n",
              "      <script>\n",
              "        const buttonEl =\n",
              "          document.querySelector('#df-db732e8a-a17c-4784-99e5-dcf4ffee36d5 button.colab-df-convert');\n",
              "        buttonEl.style.display =\n",
              "          google.colab.kernel.accessAllowed ? 'block' : 'none';\n",
              "\n",
              "        async function convertToInteractive(key) {\n",
              "          const element = document.querySelector('#df-db732e8a-a17c-4784-99e5-dcf4ffee36d5');\n",
              "          const dataTable =\n",
              "            await google.colab.kernel.invokeFunction('convertToInteractive',\n",
              "                                                     [key], {});\n",
              "          if (!dataTable) return;\n",
              "\n",
              "          const docLinkHtml = 'Like what you see? Visit the ' +\n",
              "            '<a target=\"_blank\" href=https://colab.research.google.com/notebooks/data_table.ipynb>data table notebook</a>'\n",
              "            + ' to learn more about interactive tables.';\n",
              "          element.innerHTML = '';\n",
              "          dataTable['output_type'] = 'display_data';\n",
              "          await google.colab.output.renderOutput(dataTable, element);\n",
              "          const docLink = document.createElement('div');\n",
              "          docLink.innerHTML = docLinkHtml;\n",
              "          element.appendChild(docLink);\n",
              "        }\n",
              "      </script>\n",
              "    </div>\n",
              "  </div>\n",
              "  "
            ]
          },
          "metadata": {},
          "execution_count": 11
        }
      ]
    },
    {
      "cell_type": "code",
      "source": [
        "n = len(df)\n",
        "print(\"標本の大きさ：{}\".format(n))\n",
        "\n",
        "s = stats.tvar(df[\"全スクリーン数\"])\n",
        "print(\"不偏分散：{}\".format(s))"
      ],
      "metadata": {
        "id": "DkGkv5_-hoEL",
        "colab": {
          "base_uri": "https://localhost:8080/"
        },
        "outputId": "b5dff35d-5a46-44d4-8990-6148074309e9"
      },
      "execution_count": null,
      "outputs": [
        {
          "output_type": "stream",
          "name": "stdout",
          "text": [
            "標本の大きさ：10\n",
            "不偏分散：6757.288888888888\n"
          ]
        }
      ]
    },
    {
      "cell_type": "code",
      "source": [
        "x1,x2= stats.chi2.interval(alpha=0.95, df=n-1)  # 下側2.5%点,上側2.5%点\n",
        "x1 = Decimal(str(x1)).quantize(Decimal('0.01'),rounding=ROUND_HALF_UP)\n",
        "x2 = Decimal(str(x2)).quantize(Decimal('0.01'),rounding=ROUND_HALF_UP)\n",
        "\n",
        "print(\"下側2.5%点は{}です\".format(x1))\n",
        "print(\"上側2.5%点は{}です\".format(x2))"
      ],
      "metadata": {
        "id": "BC-h_YGLiL--",
        "colab": {
          "base_uri": "https://localhost:8080/"
        },
        "outputId": "4e0694b6-4801-46b7-e9f0-feda2c55641d"
      },
      "execution_count": null,
      "outputs": [
        {
          "output_type": "stream",
          "name": "stdout",
          "text": [
            "下側2.5%点は2.70です\n",
            "上側2.5%点は19.02です\n"
          ]
        }
      ]
    },
    {
      "cell_type": "code",
      "source": [
        "up = (n-1)*s/float(x1)\n",
        "bottom = (n-1)*s/float(x2)\n",
        "up = Decimal(str(up)).quantize(Decimal('0.01'),rounding=ROUND_HALF_UP)\n",
        "bottom = Decimal(str(bottom)).quantize(Decimal('0.01'),rounding=ROUND_HALF_UP)\n",
        "\n",
        "print(\"{}≦σ≦{}\".format(bottom,up))\n",
        "print(\"信頼係数95%\")"
      ],
      "metadata": {
        "id": "iAsvHrb4iegY",
        "colab": {
          "base_uri": "https://localhost:8080/"
        },
        "outputId": "d220bc79-9414-4359-b027-e26492dc93c0"
      },
      "execution_count": null,
      "outputs": [
        {
          "output_type": "stream",
          "name": "stdout",
          "text": [
            "3197.46≦σ≦22524.30\n",
            "信頼係数95%\n"
          ]
        }
      ]
    },
    {
      "cell_type": "markdown",
      "source": [
        "### 演習\n",
        "演習をして母分散パートは終了です。"
      ],
      "metadata": {
        "id": "59z1yuufjte1"
      }
    },
    {
      "cell_type": "markdown",
      "source": [
        "5章でも扱った2問の創作問題について区間推定してみましょう。"
      ],
      "metadata": {
        "id": "Inwo7OfBjxrX"
      }
    },
    {
      "cell_type": "code",
      "source": [
        "# dictionaryからDataFrameを作る\n",
        "\n",
        "data = {\n",
        "    \"都道府県\":[\"秋田県\",\"青森県\",\"島根県\",\"沖縄県\",\"北海道\",\n",
        "                \"高知県\",\"東京都\",\"大阪府\",\"石川県\",\"愛知県\"],\n",
        "    \"運転免許保有者割合（%）\" : [68.1,66.4,67.3,65.7,63.4,\n",
        "                                 67.8,57.6,57.9,68.7,68.1]\n",
        "}\n",
        "\n",
        "df = pd.DataFrame(data)\n",
        "df"
      ],
      "metadata": {
        "id": "PuhdMRzUj6nw",
        "colab": {
          "base_uri": "https://localhost:8080/",
          "height": 363
        },
        "outputId": "ca8b49b3-b762-467e-9515-5e7204901844"
      },
      "execution_count": null,
      "outputs": [
        {
          "output_type": "execute_result",
          "data": {
            "text/plain": [
              "  都道府県  運転免許保有者割合（%）\n",
              "0  秋田県          68.1\n",
              "1  青森県          66.4\n",
              "2  島根県          67.3\n",
              "3  沖縄県          65.7\n",
              "4  北海道          63.4\n",
              "5  高知県          67.8\n",
              "6  東京都          57.6\n",
              "7  大阪府          57.9\n",
              "8  石川県          68.7\n",
              "9  愛知県          68.1"
            ],
            "text/html": [
              "\n",
              "  <div id=\"df-46ff03e4-2d7e-4a8d-92e8-bf81d8b38637\">\n",
              "    <div class=\"colab-df-container\">\n",
              "      <div>\n",
              "<style scoped>\n",
              "    .dataframe tbody tr th:only-of-type {\n",
              "        vertical-align: middle;\n",
              "    }\n",
              "\n",
              "    .dataframe tbody tr th {\n",
              "        vertical-align: top;\n",
              "    }\n",
              "\n",
              "    .dataframe thead th {\n",
              "        text-align: right;\n",
              "    }\n",
              "</style>\n",
              "<table border=\"1\" class=\"dataframe\">\n",
              "  <thead>\n",
              "    <tr style=\"text-align: right;\">\n",
              "      <th></th>\n",
              "      <th>都道府県</th>\n",
              "      <th>運転免許保有者割合（%）</th>\n",
              "    </tr>\n",
              "  </thead>\n",
              "  <tbody>\n",
              "    <tr>\n",
              "      <th>0</th>\n",
              "      <td>秋田県</td>\n",
              "      <td>68.1</td>\n",
              "    </tr>\n",
              "    <tr>\n",
              "      <th>1</th>\n",
              "      <td>青森県</td>\n",
              "      <td>66.4</td>\n",
              "    </tr>\n",
              "    <tr>\n",
              "      <th>2</th>\n",
              "      <td>島根県</td>\n",
              "      <td>67.3</td>\n",
              "    </tr>\n",
              "    <tr>\n",
              "      <th>3</th>\n",
              "      <td>沖縄県</td>\n",
              "      <td>65.7</td>\n",
              "    </tr>\n",
              "    <tr>\n",
              "      <th>4</th>\n",
              "      <td>北海道</td>\n",
              "      <td>63.4</td>\n",
              "    </tr>\n",
              "    <tr>\n",
              "      <th>5</th>\n",
              "      <td>高知県</td>\n",
              "      <td>67.8</td>\n",
              "    </tr>\n",
              "    <tr>\n",
              "      <th>6</th>\n",
              "      <td>東京都</td>\n",
              "      <td>57.6</td>\n",
              "    </tr>\n",
              "    <tr>\n",
              "      <th>7</th>\n",
              "      <td>大阪府</td>\n",
              "      <td>57.9</td>\n",
              "    </tr>\n",
              "    <tr>\n",
              "      <th>8</th>\n",
              "      <td>石川県</td>\n",
              "      <td>68.7</td>\n",
              "    </tr>\n",
              "    <tr>\n",
              "      <th>9</th>\n",
              "      <td>愛知県</td>\n",
              "      <td>68.1</td>\n",
              "    </tr>\n",
              "  </tbody>\n",
              "</table>\n",
              "</div>\n",
              "      <button class=\"colab-df-convert\" onclick=\"convertToInteractive('df-46ff03e4-2d7e-4a8d-92e8-bf81d8b38637')\"\n",
              "              title=\"Convert this dataframe to an interactive table.\"\n",
              "              style=\"display:none;\">\n",
              "        \n",
              "  <svg xmlns=\"http://www.w3.org/2000/svg\" height=\"24px\"viewBox=\"0 0 24 24\"\n",
              "       width=\"24px\">\n",
              "    <path d=\"M0 0h24v24H0V0z\" fill=\"none\"/>\n",
              "    <path d=\"M18.56 5.44l.94 2.06.94-2.06 2.06-.94-2.06-.94-.94-2.06-.94 2.06-2.06.94zm-11 1L8.5 8.5l.94-2.06 2.06-.94-2.06-.94L8.5 2.5l-.94 2.06-2.06.94zm10 10l.94 2.06.94-2.06 2.06-.94-2.06-.94-.94-2.06-.94 2.06-2.06.94z\"/><path d=\"M17.41 7.96l-1.37-1.37c-.4-.4-.92-.59-1.43-.59-.52 0-1.04.2-1.43.59L10.3 9.45l-7.72 7.72c-.78.78-.78 2.05 0 2.83L4 21.41c.39.39.9.59 1.41.59.51 0 1.02-.2 1.41-.59l7.78-7.78 2.81-2.81c.8-.78.8-2.07 0-2.86zM5.41 20L4 18.59l7.72-7.72 1.47 1.35L5.41 20z\"/>\n",
              "  </svg>\n",
              "      </button>\n",
              "      \n",
              "  <style>\n",
              "    .colab-df-container {\n",
              "      display:flex;\n",
              "      flex-wrap:wrap;\n",
              "      gap: 12px;\n",
              "    }\n",
              "\n",
              "    .colab-df-convert {\n",
              "      background-color: #E8F0FE;\n",
              "      border: none;\n",
              "      border-radius: 50%;\n",
              "      cursor: pointer;\n",
              "      display: none;\n",
              "      fill: #1967D2;\n",
              "      height: 32px;\n",
              "      padding: 0 0 0 0;\n",
              "      width: 32px;\n",
              "    }\n",
              "\n",
              "    .colab-df-convert:hover {\n",
              "      background-color: #E2EBFA;\n",
              "      box-shadow: 0px 1px 2px rgba(60, 64, 67, 0.3), 0px 1px 3px 1px rgba(60, 64, 67, 0.15);\n",
              "      fill: #174EA6;\n",
              "    }\n",
              "\n",
              "    [theme=dark] .colab-df-convert {\n",
              "      background-color: #3B4455;\n",
              "      fill: #D2E3FC;\n",
              "    }\n",
              "\n",
              "    [theme=dark] .colab-df-convert:hover {\n",
              "      background-color: #434B5C;\n",
              "      box-shadow: 0px 1px 3px 1px rgba(0, 0, 0, 0.15);\n",
              "      filter: drop-shadow(0px 1px 2px rgba(0, 0, 0, 0.3));\n",
              "      fill: #FFFFFF;\n",
              "    }\n",
              "  </style>\n",
              "\n",
              "      <script>\n",
              "        const buttonEl =\n",
              "          document.querySelector('#df-46ff03e4-2d7e-4a8d-92e8-bf81d8b38637 button.colab-df-convert');\n",
              "        buttonEl.style.display =\n",
              "          google.colab.kernel.accessAllowed ? 'block' : 'none';\n",
              "\n",
              "        async function convertToInteractive(key) {\n",
              "          const element = document.querySelector('#df-46ff03e4-2d7e-4a8d-92e8-bf81d8b38637');\n",
              "          const dataTable =\n",
              "            await google.colab.kernel.invokeFunction('convertToInteractive',\n",
              "                                                     [key], {});\n",
              "          if (!dataTable) return;\n",
              "\n",
              "          const docLinkHtml = 'Like what you see? Visit the ' +\n",
              "            '<a target=\"_blank\" href=https://colab.research.google.com/notebooks/data_table.ipynb>data table notebook</a>'\n",
              "            + ' to learn more about interactive tables.';\n",
              "          element.innerHTML = '';\n",
              "          dataTable['output_type'] = 'display_data';\n",
              "          await google.colab.output.renderOutput(dataTable, element);\n",
              "          const docLink = document.createElement('div');\n",
              "          docLink.innerHTML = docLinkHtml;\n",
              "          element.appendChild(docLink);\n",
              "        }\n",
              "      </script>\n",
              "    </div>\n",
              "  </div>\n",
              "  "
            ]
          },
          "metadata": {},
          "execution_count": 15
        }
      ]
    },
    {
      "cell_type": "markdown",
      "source": [
        "＜問題＞  \n",
        "上のデータフレームは2021年の運転免許保有者割合を都道府県別に表したものの一部である。  \n",
        "運転免許保有者割合の分散を信頼係数95%で区間推定せよ。"
      ],
      "metadata": {
        "id": "Uj4OZp_1j9XM"
      }
    },
    {
      "cell_type": "code",
      "source": [
        "menkyo_per = df_kanto[\"運転免許保有者割合（%）\"]\n",
        "\n",
        "n = len(df)\n",
        "print(\"標本の大きさ：{}\".format(n))\n",
        "\n",
        "s = stats.tvar(menkyo_per)\n",
        "print(\"不偏分散：{}\".format(s))"
      ],
      "metadata": {
        "id": "fCgwTWv8kAwc",
        "colab": {
          "base_uri": "https://localhost:8080/"
        },
        "outputId": "dac871ad-d890-4d22-a456-cd8b31e69347"
      },
      "execution_count": null,
      "outputs": [
        {
          "output_type": "stream",
          "name": "stdout",
          "text": [
            "標本の大きさ：10\n",
            "不偏分散：17.34666666666666\n"
          ]
        }
      ]
    },
    {
      "cell_type": "code",
      "source": [
        "x1,x2= stats.chi2.interval(alpha=0.95, df=n-1)  #下側2.5%点,上側2.5%点\n",
        "x1 = Decimal(str(x1)).quantize(Decimal('0.01'),rounding=ROUND_HALF_UP)\n",
        "x2 = Decimal(str(x2)).quantize(Decimal('0.01'), rounding=ROUND_HALF_UP)\n",
        "\n",
        "print(\"下側2.5%点は{}です\".format(x1))\n",
        "print(\"上側2.5%点は{}です\".format(x2))"
      ],
      "metadata": {
        "id": "KMgE5k0jkHqk",
        "colab": {
          "base_uri": "https://localhost:8080/"
        },
        "outputId": "59b462b9-6764-47f0-c1c4-3a51567395d0"
      },
      "execution_count": null,
      "outputs": [
        {
          "output_type": "stream",
          "name": "stdout",
          "text": [
            "下側2.5%点は2.70です\n",
            "上側2.5%点は19.02です\n"
          ]
        }
      ]
    },
    {
      "cell_type": "code",
      "source": [
        "up = (n-1)*s/float(x1)\n",
        "bottom = (n-1)*s/float(x2)\n",
        "up = Decimal(str(up)).quantize(Decimal('0.01'),rounding=ROUND_HALF_UP)\n",
        "bottom = Decimal(str(bottom)).quantize(Decimal('0.01'),rounding=ROUND_HALF_UP)\n",
        "print(\"{}%≦σ≦{}%\".format(bottom,up))\n",
        "print(\"信頼係数95%\")"
      ],
      "metadata": {
        "id": "X8UhgtxokKpE",
        "colab": {
          "base_uri": "https://localhost:8080/"
        },
        "outputId": "28298a47-c8c2-4587-de2b-d13c26db8f20"
      },
      "execution_count": null,
      "outputs": [
        {
          "output_type": "stream",
          "name": "stdout",
          "text": [
            "8.21%≦σ≦57.82%\n",
            "信頼係数95%\n"
          ]
        }
      ]
    },
    {
      "cell_type": "code",
      "source": [
        "# 実際の母分散は12.11%なので、ある程度推定できていることが分かります"
      ],
      "metadata": {
        "id": "8NDGGbIUxZhY"
      },
      "execution_count": null,
      "outputs": []
    },
    {
      "cell_type": "markdown",
      "source": [
        "2問目です。"
      ],
      "metadata": {
        "id": "mF_XnQytkSXk"
      }
    },
    {
      "cell_type": "code",
      "source": [
        "# dictionaryからDataFrameを作る\n",
        "\n",
        "data = {\n",
        "    \"都道府県\":[\"秋田県\",\"青森県\",\"島根県\",\"沖縄県\",\"北海道\",\n",
        "                \"高知県\",\"東京都\",\"大阪府\",\"石川県\",\"愛知県\"],\n",
        "    \"15歳以上の平均睡眠時間（男）\" : [487,486,480,465,473,478,455,460,467,457],\n",
        "    \"15歳以上の平均睡眠時間（女）\" : [475,470,461,449,465,464,452,448,451,448]\n",
        "}\n",
        "\n",
        "df = pd.DataFrame(data)\n",
        "df"
      ],
      "metadata": {
        "id": "6C7tAF0WkUBT",
        "colab": {
          "base_uri": "https://localhost:8080/",
          "height": 363
        },
        "outputId": "c9aeb29b-4550-455b-821d-1315fc868c29"
      },
      "execution_count": null,
      "outputs": [
        {
          "output_type": "execute_result",
          "data": {
            "text/plain": [
              "  都道府県  15歳以上の平均睡眠時間（男）  15歳以上の平均睡眠時間（女）\n",
              "0  秋田県              487              475\n",
              "1  青森県              486              470\n",
              "2  島根県              480              461\n",
              "3  沖縄県              465              449\n",
              "4  北海道              473              465\n",
              "5  高知県              478              464\n",
              "6  東京都              455              452\n",
              "7  大阪府              460              448\n",
              "8  石川県              467              451\n",
              "9  愛知県              457              448"
            ],
            "text/html": [
              "\n",
              "  <div id=\"df-7c69f182-aa17-499b-b87c-40078f5e0d42\">\n",
              "    <div class=\"colab-df-container\">\n",
              "      <div>\n",
              "<style scoped>\n",
              "    .dataframe tbody tr th:only-of-type {\n",
              "        vertical-align: middle;\n",
              "    }\n",
              "\n",
              "    .dataframe tbody tr th {\n",
              "        vertical-align: top;\n",
              "    }\n",
              "\n",
              "    .dataframe thead th {\n",
              "        text-align: right;\n",
              "    }\n",
              "</style>\n",
              "<table border=\"1\" class=\"dataframe\">\n",
              "  <thead>\n",
              "    <tr style=\"text-align: right;\">\n",
              "      <th></th>\n",
              "      <th>都道府県</th>\n",
              "      <th>15歳以上の平均睡眠時間（男）</th>\n",
              "      <th>15歳以上の平均睡眠時間（女）</th>\n",
              "    </tr>\n",
              "  </thead>\n",
              "  <tbody>\n",
              "    <tr>\n",
              "      <th>0</th>\n",
              "      <td>秋田県</td>\n",
              "      <td>487</td>\n",
              "      <td>475</td>\n",
              "    </tr>\n",
              "    <tr>\n",
              "      <th>1</th>\n",
              "      <td>青森県</td>\n",
              "      <td>486</td>\n",
              "      <td>470</td>\n",
              "    </tr>\n",
              "    <tr>\n",
              "      <th>2</th>\n",
              "      <td>島根県</td>\n",
              "      <td>480</td>\n",
              "      <td>461</td>\n",
              "    </tr>\n",
              "    <tr>\n",
              "      <th>3</th>\n",
              "      <td>沖縄県</td>\n",
              "      <td>465</td>\n",
              "      <td>449</td>\n",
              "    </tr>\n",
              "    <tr>\n",
              "      <th>4</th>\n",
              "      <td>北海道</td>\n",
              "      <td>473</td>\n",
              "      <td>465</td>\n",
              "    </tr>\n",
              "    <tr>\n",
              "      <th>5</th>\n",
              "      <td>高知県</td>\n",
              "      <td>478</td>\n",
              "      <td>464</td>\n",
              "    </tr>\n",
              "    <tr>\n",
              "      <th>6</th>\n",
              "      <td>東京都</td>\n",
              "      <td>455</td>\n",
              "      <td>452</td>\n",
              "    </tr>\n",
              "    <tr>\n",
              "      <th>7</th>\n",
              "      <td>大阪府</td>\n",
              "      <td>460</td>\n",
              "      <td>448</td>\n",
              "    </tr>\n",
              "    <tr>\n",
              "      <th>8</th>\n",
              "      <td>石川県</td>\n",
              "      <td>467</td>\n",
              "      <td>451</td>\n",
              "    </tr>\n",
              "    <tr>\n",
              "      <th>9</th>\n",
              "      <td>愛知県</td>\n",
              "      <td>457</td>\n",
              "      <td>448</td>\n",
              "    </tr>\n",
              "  </tbody>\n",
              "</table>\n",
              "</div>\n",
              "      <button class=\"colab-df-convert\" onclick=\"convertToInteractive('df-7c69f182-aa17-499b-b87c-40078f5e0d42')\"\n",
              "              title=\"Convert this dataframe to an interactive table.\"\n",
              "              style=\"display:none;\">\n",
              "        \n",
              "  <svg xmlns=\"http://www.w3.org/2000/svg\" height=\"24px\"viewBox=\"0 0 24 24\"\n",
              "       width=\"24px\">\n",
              "    <path d=\"M0 0h24v24H0V0z\" fill=\"none\"/>\n",
              "    <path d=\"M18.56 5.44l.94 2.06.94-2.06 2.06-.94-2.06-.94-.94-2.06-.94 2.06-2.06.94zm-11 1L8.5 8.5l.94-2.06 2.06-.94-2.06-.94L8.5 2.5l-.94 2.06-2.06.94zm10 10l.94 2.06.94-2.06 2.06-.94-2.06-.94-.94-2.06-.94 2.06-2.06.94z\"/><path d=\"M17.41 7.96l-1.37-1.37c-.4-.4-.92-.59-1.43-.59-.52 0-1.04.2-1.43.59L10.3 9.45l-7.72 7.72c-.78.78-.78 2.05 0 2.83L4 21.41c.39.39.9.59 1.41.59.51 0 1.02-.2 1.41-.59l7.78-7.78 2.81-2.81c.8-.78.8-2.07 0-2.86zM5.41 20L4 18.59l7.72-7.72 1.47 1.35L5.41 20z\"/>\n",
              "  </svg>\n",
              "      </button>\n",
              "      \n",
              "  <style>\n",
              "    .colab-df-container {\n",
              "      display:flex;\n",
              "      flex-wrap:wrap;\n",
              "      gap: 12px;\n",
              "    }\n",
              "\n",
              "    .colab-df-convert {\n",
              "      background-color: #E8F0FE;\n",
              "      border: none;\n",
              "      border-radius: 50%;\n",
              "      cursor: pointer;\n",
              "      display: none;\n",
              "      fill: #1967D2;\n",
              "      height: 32px;\n",
              "      padding: 0 0 0 0;\n",
              "      width: 32px;\n",
              "    }\n",
              "\n",
              "    .colab-df-convert:hover {\n",
              "      background-color: #E2EBFA;\n",
              "      box-shadow: 0px 1px 2px rgba(60, 64, 67, 0.3), 0px 1px 3px 1px rgba(60, 64, 67, 0.15);\n",
              "      fill: #174EA6;\n",
              "    }\n",
              "\n",
              "    [theme=dark] .colab-df-convert {\n",
              "      background-color: #3B4455;\n",
              "      fill: #D2E3FC;\n",
              "    }\n",
              "\n",
              "    [theme=dark] .colab-df-convert:hover {\n",
              "      background-color: #434B5C;\n",
              "      box-shadow: 0px 1px 3px 1px rgba(0, 0, 0, 0.15);\n",
              "      filter: drop-shadow(0px 1px 2px rgba(0, 0, 0, 0.3));\n",
              "      fill: #FFFFFF;\n",
              "    }\n",
              "  </style>\n",
              "\n",
              "      <script>\n",
              "        const buttonEl =\n",
              "          document.querySelector('#df-7c69f182-aa17-499b-b87c-40078f5e0d42 button.colab-df-convert');\n",
              "        buttonEl.style.display =\n",
              "          google.colab.kernel.accessAllowed ? 'block' : 'none';\n",
              "\n",
              "        async function convertToInteractive(key) {\n",
              "          const element = document.querySelector('#df-7c69f182-aa17-499b-b87c-40078f5e0d42');\n",
              "          const dataTable =\n",
              "            await google.colab.kernel.invokeFunction('convertToInteractive',\n",
              "                                                     [key], {});\n",
              "          if (!dataTable) return;\n",
              "\n",
              "          const docLinkHtml = 'Like what you see? Visit the ' +\n",
              "            '<a target=\"_blank\" href=https://colab.research.google.com/notebooks/data_table.ipynb>data table notebook</a>'\n",
              "            + ' to learn more about interactive tables.';\n",
              "          element.innerHTML = '';\n",
              "          dataTable['output_type'] = 'display_data';\n",
              "          await google.colab.output.renderOutput(dataTable, element);\n",
              "          const docLink = document.createElement('div');\n",
              "          docLink.innerHTML = docLinkHtml;\n",
              "          element.appendChild(docLink);\n",
              "        }\n",
              "      </script>\n",
              "    </div>\n",
              "  </div>\n",
              "  "
            ]
          },
          "metadata": {},
          "execution_count": 20
        }
      ]
    },
    {
      "cell_type": "markdown",
      "source": [
        "＜問題＞  \n",
        "上のデータフレームは2016年の15歳以上の平均睡眠時間を都道府県別に表したものの一部である。  \n",
        "男女それぞれの睡眠時間の分散を信頼係数95%で区間推定せよ。"
      ],
      "metadata": {
        "id": "d_LScNyHkkUi"
      }
    },
    {
      "cell_type": "markdown",
      "source": [
        "＜男性＞"
      ],
      "metadata": {
        "id": "28VCJAPXkruT"
      }
    },
    {
      "cell_type": "code",
      "source": [
        "male_sleep = df_kanto[\"15歳以上の平均睡眠時間（男）\"]\n",
        "\n",
        "n = len(df)\n",
        "print(\"標本の大きさ：{}\".format(n))\n",
        "\n",
        "s = stats.tvar(male_sleep)\n",
        "print(\"不偏分散：{}\".format(s))"
      ],
      "metadata": {
        "id": "OIvHiSAjknlL",
        "colab": {
          "base_uri": "https://localhost:8080/"
        },
        "outputId": "cd0b17fd-5797-4812-de88-123ab66829da"
      },
      "execution_count": null,
      "outputs": [
        {
          "output_type": "stream",
          "name": "stdout",
          "text": [
            "標本の大きさ：10\n",
            "不偏分散：137.73333333333335\n"
          ]
        }
      ]
    },
    {
      "cell_type": "code",
      "source": [
        "x1,x2= stats.chi2.interval(alpha=0.95, df=n-1)  # 下側2.5%点,上側2.5%点\n",
        "x1 = Decimal(str(x1)).quantize(Decimal('0.01'),rounding=ROUND_HALF_UP)\n",
        "x2 = Decimal(str(x2)).quantize(Decimal('0.01'), rounding=ROUND_HALF_UP)\n",
        "\n",
        "print(\"下側2.5%点は{}です\".format(x1))\n",
        "print(\"上側2.5%点は{}です\".format(x2))"
      ],
      "metadata": {
        "id": "KZrm4pNdkzNL",
        "colab": {
          "base_uri": "https://localhost:8080/"
        },
        "outputId": "e1d63994-3513-4763-af4c-3c6299da6de0"
      },
      "execution_count": null,
      "outputs": [
        {
          "output_type": "stream",
          "name": "stdout",
          "text": [
            "下側2.5%点は2.70です\n",
            "上側2.5%点は19.02です\n"
          ]
        }
      ]
    },
    {
      "cell_type": "code",
      "source": [
        "up = (n-1)*s/float(x1)\n",
        "bottom = (n-1)*s/float(x2)\n",
        "up = Decimal(str(up)).quantize(Decimal('0.01'),rounding=ROUND_HALF_UP)\n",
        "bottom = Decimal(str(bottom)).quantize(Decimal('0.01'),rounding=ROUND_HALF_UP)\n",
        "\n",
        "print(\"{}時間≦σ≦{}時間\".format(bottom,up))\n",
        "print(\"信頼係数95%\")"
      ],
      "metadata": {
        "id": "-fy3GVIIk0tC",
        "colab": {
          "base_uri": "https://localhost:8080/"
        },
        "outputId": "b06a8aa3-2b61-47b6-d383-dddab21c4953"
      },
      "execution_count": null,
      "outputs": [
        {
          "output_type": "stream",
          "name": "stdout",
          "text": [
            "65.17時間≦σ≦459.11時間\n",
            "信頼係数95%\n"
          ]
        }
      ]
    },
    {
      "cell_type": "code",
      "source": [
        "# 実際の母分散は61.0時間です。推定できてないですね、、"
      ],
      "metadata": {
        "id": "z8Ja4GDNwknC"
      },
      "execution_count": null,
      "outputs": []
    },
    {
      "cell_type": "markdown",
      "source": [
        "＜女性＞"
      ],
      "metadata": {
        "id": "87PsVGJ4lJ5C"
      }
    },
    {
      "cell_type": "code",
      "source": [
        "female_sleep = df_kanto[\"15歳以上の平均睡眠時間（女）\"]\n",
        "\n",
        "n = len(df)\n",
        "print(\"標本の大きさ：{}\".format(n))\n",
        "\n",
        "s = stats.tvar(female_sleep)\n",
        "print(\"不偏分散：{}\".format(s))"
      ],
      "metadata": {
        "id": "XGSa933ZlOCw",
        "colab": {
          "base_uri": "https://localhost:8080/"
        },
        "outputId": "5bf9fb4a-5d74-493c-d727-340c774e2235"
      },
      "execution_count": null,
      "outputs": [
        {
          "output_type": "stream",
          "name": "stdout",
          "text": [
            "標本の大きさ：10\n",
            "不偏分散：99.12222222222222\n"
          ]
        }
      ]
    },
    {
      "cell_type": "code",
      "source": [
        "x1,x2= stats.chi2.interval(alpha=0.95, df=n-1)  # 下側2.5%点,上側2.5%点\n",
        "x1 = Decimal(str(x1)).quantize(Decimal('0.01'), rounding=ROUND_HALF_UP)\n",
        "x2 = Decimal(str(x2)).quantize(Decimal('0.01'),rounding=ROUND_HALF_UP)\n",
        "\n",
        "print(\"下側2.5%点は{}です\".format(x1))\n",
        "print(\"上側2.5%点は{}です\".format(x2))"
      ],
      "metadata": {
        "id": "eSjBHrRrlQNw",
        "colab": {
          "base_uri": "https://localhost:8080/"
        },
        "outputId": "a049759e-413e-47a3-d786-56f80db7835d"
      },
      "execution_count": null,
      "outputs": [
        {
          "output_type": "stream",
          "name": "stdout",
          "text": [
            "下側2.5%点は2.70です\n",
            "上側2.5%点は19.02です\n"
          ]
        }
      ]
    },
    {
      "cell_type": "code",
      "source": [
        "up = (n-1)*s/float(x1)\n",
        "bottom = (n-1)*s/float(x2)\n",
        "up = Decimal(str(up)).quantize(Decimal('0.01'),rounding=ROUND_HALF_UP)\n",
        "bottom = Decimal(str(bottom)).quantize(Decimal('0.01'),rounding=ROUND_HALF_UP)\n",
        "\n",
        "print(\"{}時間≦σ≦{}時間\".format(bottom,up))\n",
        "print(\"信頼係数95%\")"
      ],
      "metadata": {
        "id": "4JQRtSZNlRfo",
        "colab": {
          "base_uri": "https://localhost:8080/"
        },
        "outputId": "757b4b49-d521-4ddc-9cf2-fb04275808e0"
      },
      "execution_count": null,
      "outputs": [
        {
          "output_type": "stream",
          "name": "stdout",
          "text": [
            "46.90時間≦σ≦330.41時間\n",
            "信頼係数95%\n"
          ]
        }
      ]
    },
    {
      "cell_type": "code",
      "source": [
        "# 実際の母分散は51.9時間なので、ある程度推定できていることが分かります"
      ],
      "metadata": {
        "id": "rBvp--uDwWfx"
      },
      "execution_count": null,
      "outputs": []
    },
    {
      "cell_type": "markdown",
      "source": [
        "## 補足\n",
        "最後に、有名Youtuberヨビノリ先生の動画で参考になりそうなものを紹介しておきます。\n",
        "\n",
        "①[母比率の推定](https://bit.ly/3WG7xF4)  \n",
        "②[母分散の推定](https://bit.ly/3vzrx0F)  "
      ],
      "metadata": {
        "id": "Ym7eMqk-OoV-"
      }
    }
  ]
}