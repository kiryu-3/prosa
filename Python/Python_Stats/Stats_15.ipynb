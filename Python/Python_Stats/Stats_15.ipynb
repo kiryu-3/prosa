{
  "nbformat": 4,
  "nbformat_minor": 0,
  "metadata": {
    "colab": {
      "provenance": [],
      "toc_visible": true
    },
    "kernelspec": {
      "name": "python3",
      "display_name": "Python 3"
    },
    "language_info": {
      "name": "python"
    }
  },
  "cells": [
    {
      "cell_type": "markdown",
      "source": [
        "<a href=\"https://colab.research.google.com/github/kiryu-3/Prmn2023_DS/blob/main/Python/Python_Stats/Stats_15.ipynb\" target=\"_parent\"><img src=\"https://colab.research.google.com/assets/colab-badge.svg\" alt=\"Open In Colab\"/></a>"
      ],
      "metadata": {
        "id": "oxlrsaakV_Tm"
      }
    },
    {
      "cell_type": "markdown",
      "source": [
        "# 回帰分析"
      ],
      "metadata": {
        "id": "fRo7KwmeMgEc"
      }
    },
    {
      "cell_type": "code",
      "source": [
        "import numpy as np\n",
        "import pandas as pd\n",
        "import matplotlib.pyplot as plt\n",
        "import seaborn as sns\n",
        "from sklearn.linear_model import LinearRegression\n",
        "from sklearn.metrics import r2_score\n",
        "from sklearn.model_selection import train_test_split"
      ],
      "metadata": {
        "id": "cnrQZQbJKq6N"
      },
      "execution_count": 122,
      "outputs": []
    },
    {
      "cell_type": "markdown",
      "source": [
        "## 説明変数と目的変数"
      ],
      "metadata": {
        "id": "pKXFjOs6R-Bn"
      }
    },
    {
      "cell_type": "markdown",
      "source": [
        "「何かの原因となっている変数」を**説明変数**、  \n",
        "「その原因を受けて発生した結果となっている変数」を**目的変数**、  \n",
        "といいます。"
      ],
      "metadata": {
        "id": "f6joGibHSBOG"
      }
    },
    {
      "cell_type": "markdown",
      "source": [
        "説明変数と目的変数にはいくつかの表現があります。  \n",
        "詳しくは[こちら](https://bit.ly/3kl6M6S)を参照してください。"
      ],
      "metadata": {
        "id": "gkIsmuOsSWXO"
      }
    },
    {
      "cell_type": "markdown",
      "source": [
        "## 回帰"
      ],
      "metadata": {
        "id": "keRaZCJtS_8t"
      }
    },
    {
      "cell_type": "markdown",
      "source": [
        "**目的変数**$y$について**説明変数**$x$を使った式で表すことを**回帰**といいます。"
      ],
      "metadata": {
        "id": "clzzn-HKTK4M"
      }
    },
    {
      "cell_type": "markdown",
      "source": [
        "例として、身長から体重を予測することを考えてみましょう。\n",
        "\n",
        "身長170cmである場合の平均的な体重を予測しようとしたとき、  \n",
        "「身長が170cm」という条件付きでの体重の平均を，**条件付き平均**といいます。"
      ],
      "metadata": {
        "id": "-FgGGr3NYPFk"
      }
    },
    {
      "cell_type": "markdown",
      "source": [
        "この**条件付き平均**を以下のような**回帰直線**（**線形回帰**ともいう）を使って求めるのが回帰です。\n",
        "\n",
        "$$\n",
        "\\hat{y}=\\theta_0+\\theta_1x_1+\\theta_2x_2+ … + \\theta_nx_n\n",
        "$$\n",
        "\n",
        "$\\hat{y}$は、$x$に対する$y$の条件付き平均です。"
      ],
      "metadata": {
        "id": "DSftyJTbZNM6"
      }
    },
    {
      "cell_type": "markdown",
      "source": [
        "### 最小二乗法"
      ],
      "metadata": {
        "id": "TrDAvDA8CyjB"
      }
    },
    {
      "cell_type": "markdown",
      "source": [
        "パラメータ $\\theta_0 , \\theta_1 , \\theta_2, ･･･ \\theta_n,$ を求めることができれば、  \n",
        "回帰直線が一つに定まります。"
      ],
      "metadata": {
        "id": "R33qQtaaDgF1"
      }
    },
    {
      "cell_type": "markdown",
      "source": [
        "予測値と実測値の差のことを**残差**と呼びます。  \n",
        "（よく聞く「**誤差**」というワードと「**残差**」の違いについては[こちら](https://bit.ly/3KHNXFo)を参照してください。）\n",
        "\n",
        "**残差の二乗和を最小にする**アルゴリズムを**最小二乗法**と呼びます。\n"
      ],
      "metadata": {
        "id": "pUtEiFR4EcJl"
      }
    },
    {
      "cell_type": "markdown",
      "source": [
        "特徴量が一つの場合を例とします。  \n",
        "このとき、回帰直線は以下のように定まるものとします。\n",
        "\n",
        "$$\n",
        "\\hat{y} = a + bx　(a=\\theta_0 , b=\\theta_1)\n",
        "$$"
      ],
      "metadata": {
        "id": "d24V1rmGGmVa"
      }
    },
    {
      "cell_type": "markdown",
      "source": [
        "$\\hat{y}$ は**条件付き平均**、つまり予測値であるので、  \n",
        "実際のデータとは多少の誤差があると考えられます。\n",
        "\n",
        "![リンクテキスト](https://imgur.com/pAMsBS6.png)\n"
      ],
      "metadata": {
        "id": "lWvV1Jare7zf"
      }
    },
    {
      "cell_type": "markdown",
      "source": [
        "残差は以下のようにして求めることができます。\n",
        "\n",
        "![リンクテキスト](https://imgur.com/PMQhVAu.png)\n"
      ],
      "metadata": {
        "id": "ACyWZFIvmZ4o"
      }
    },
    {
      "cell_type": "markdown",
      "source": [
        "**残差の二乗の和**が最小になるような $a$ と$b$ を求めるのが、最小二乗法になります。\n",
        "\n",
        "$$\n",
        "\\sum^{n}_{i=1}{e_i^2}=\\sum^{n}_{i=1}{\\left\\{y_i-(a+bx_i)\\right\\}^2} = \\sum^{n}_{i=1}({y_i-\\hat{y}_i)^2}\n",
        "$$\n",
        "\n",
        "上の式のように、「**予測値と実測値のずれを計算する関数**」のことを**損失関数**と呼びます。"
      ],
      "metadata": {
        "id": "N_aQLNZ6ndT2"
      }
    },
    {
      "cell_type": "markdown",
      "source": [
        "今回の場合であれば後は $a$ と $b$ の値を求めて、  \n",
        "損失関数を「最小化」していくのみとなります。"
      ],
      "metadata": {
        "id": "gQsOiJUbHz-X"
      }
    },
    {
      "cell_type": "markdown",
      "source": [
        "ここまでは特徴量が一つの場合を見てきましたが、特徴量が複数になっても基本的な流れは同じです。"
      ],
      "metadata": {
        "id": "6J_i-9oYHSlk"
      }
    },
    {
      "cell_type": "markdown",
      "source": [
        "## 単回帰分析"
      ],
      "metadata": {
        "id": "O_6C4rXhZVe5"
      }
    },
    {
      "cell_type": "markdown",
      "source": [
        "回帰直線 $\\hat{y}=a+bx$ では、説明変数が$x$の一つだけ用いられています。  \n",
        "\n",
        "このような**単回帰式**を求めることを**単回帰分析**といいます。"
      ],
      "metadata": {
        "id": "mt33yWyaa9uw"
      }
    },
    {
      "cell_type": "markdown",
      "source": [
        "### 単回帰分析の流れ"
      ],
      "metadata": {
        "id": "od1RH4oYJOxG"
      }
    },
    {
      "cell_type": "markdown",
      "source": [
        "① **モデル**を決める  \n",
        "② **損失関数**を決める  \n",
        "③ 損失関数を「**最小化**」する"
      ],
      "metadata": {
        "id": "dbcPeitwJuf9"
      }
    },
    {
      "cell_type": "markdown",
      "source": [
        "#### モデルを決める"
      ],
      "metadata": {
        "id": "igSOeZgWcPDU"
      }
    },
    {
      "cell_type": "markdown",
      "source": [
        "今回は単回帰分析なので、モデルは以下のようになります。\n",
        "\n",
        "$$\n",
        "\\hat{y}_i = a + bx_i\n",
        "$$"
      ],
      "metadata": {
        "id": "rZX40kl9c0Ej"
      }
    },
    {
      "cell_type": "markdown",
      "source": [
        "#### 損失関数を決める"
      ],
      "metadata": {
        "id": "dzI3HbPyKOn0"
      }
    },
    {
      "cell_type": "markdown",
      "source": [
        "**最小二乗法**によって求めるので、損失関数は以下のようになります。  \n",
        "\n",
        "$$\n",
        "\\sum^{n}_{i=1}{e_i^2}=\\sum^{n}_{i=1}{\\left\\{y_i-(a+bx_i)\\right\\}^2} = \\sum^{n}_{i=1}({y_i-\\hat{y}_i)^2}\n",
        "$$"
      ],
      "metadata": {
        "id": "Q4BJvURtKRL8"
      }
    },
    {
      "cell_type": "markdown",
      "source": [
        "#### 損失関数を「最小化」する"
      ],
      "metadata": {
        "id": "9HuwTpglKbBc"
      }
    },
    {
      "cell_type": "markdown",
      "source": [
        "損失関数を計算すると、以下のような結果が得られます。\n",
        "\n",
        "$$\n",
        "a=\\bar{y}-b\\bar{x}  \n",
        "$$\n",
        "\n",
        "$$\n",
        "b=r_{xy}\\frac{s_y}{s_x}\n",
        "$$\n",
        "\n",
        "* $S_y$：$y$の標準偏差\n",
        "* $S_x$：$x$の標準偏差  \n",
        "* $r_{xy}$：$x$と $y$ の相関係数"
      ],
      "metadata": {
        "id": "uEOqHx5DoLmV"
      }
    },
    {
      "cell_type": "markdown",
      "source": [
        "（答えの導出過程は[こちら](https://bellcurve.jp/statistics/course/24375.html)や『データ活用基礎』第5回プリント課題の解答を参照してください。）  "
      ],
      "metadata": {
        "id": "2VBiaehFodB1"
      }
    },
    {
      "cell_type": "markdown",
      "source": [
        "### Pythonによる描画"
      ],
      "metadata": {
        "id": "T_Q-PazSr6cP"
      }
    },
    {
      "cell_type": "markdown",
      "source": [
        "身長から体重を予測することを例として、回帰直線を求めてみましょう。"
      ],
      "metadata": {
        "id": "Pw8VHZvWr9Du"
      }
    },
    {
      "cell_type": "code",
      "source": [
        "weight = np.array([68, 84, 68, 87, 78, 84, 76, 74, 66, 72, 67, 67])\n",
        "height = np.array([174, 187, 170, 189, 185, 187, 178, 177, 176, 180, 173, 173])\n",
        "\n",
        "sns.regplot(height, weight)  # 回帰直線の描画\n",
        "plt.scatter(height, weight)  # 散布図の描画\n",
        "plt.xlabel('height')\n",
        "plt.ylabel('weight')\n",
        "plt.xlim(167.5,190)"
      ],
      "metadata": {
        "colab": {
          "base_uri": "https://localhost:8080/",
          "height": 351
        },
        "id": "5xRAl2dQKnpb",
        "outputId": "d1337152-e385-48c6-bf84-c528d3edb375"
      },
      "execution_count": 123,
      "outputs": [
        {
          "output_type": "stream",
          "name": "stderr",
          "text": [
            "/usr/local/lib/python3.8/dist-packages/seaborn/_decorators.py:36: FutureWarning: Pass the following variables as keyword args: x, y. From version 0.12, the only valid positional argument will be `data`, and passing other arguments without an explicit keyword will result in an error or misinterpretation.\n",
            "  warnings.warn(\n"
          ]
        },
        {
          "output_type": "execute_result",
          "data": {
            "text/plain": [
              "(167.5, 190.0)"
            ]
          },
          "metadata": {},
          "execution_count": 123
        },
        {
          "output_type": "display_data",
          "data": {
            "text/plain": [
              "<Figure size 432x288 with 1 Axes>"
            ],
            "image/png": "[encoded data removed]"
          },
          "metadata": {
            "needs_background": "light"
          }
        }
      ]
    },
    {
      "cell_type": "markdown",
      "source": [
        "次はscikit-learnを使って描画してみます。\n",
        "\n",
        "理屈については今回触れないので  \n",
        "気になる方は[こちら](https://datawokagaku.com/linear_reg_implement/)などを参照してください。"
      ],
      "metadata": {
        "id": "O9MFLLt4ocDM"
      }
    },
    {
      "cell_type": "code",
      "source": [
        "# 学習のためのインスタンス作成\n",
        "reg = LinearRegression()\n",
        "\n",
        "\"\"\"\n",
        "fitメソッドで学習する\n",
        ".fit(x,y)に入れる\"x\"は、行列である必要がある\n",
        "\"\"\"\n",
        "X = np.expand_dims(height, axis=-1)  # 次元を1つ追加して「ベクトル→行列」にする\n",
        "y = weight\n",
        "reg.fit(X, y)\n",
        "\n",
        "# \"a\"と\"b\"の表示 \n",
        "print(\"b={}\".format(reg.coef_))\n",
        "print(\"a={}\".format(reg.intercept_))"
      ],
      "metadata": {
        "colab": {
          "base_uri": "https://localhost:8080/"
        },
        "id": "Q6zADXvZo5H1",
        "outputId": "9b071e8f-5b0c-4f3e-9fe3-2971abbcc986"
      },
      "execution_count": 124,
      "outputs": [
        {
          "output_type": "stream",
          "name": "stdout",
          "text": [
            "b=[1.09812147]\n",
            "a=-122.40525259894213\n"
          ]
        }
      ]
    },
    {
      "cell_type": "markdown",
      "source": [
        "以下の式が成り立つか確認してみましょう。\n",
        "\n",
        "$$\n",
        "a=\\bar{y}-b\\bar{x}  \n",
        "$$\n",
        "\n",
        "$$\n",
        "b=r\\frac{s_y}{s_x}\n",
        "$$"
      ],
      "metadata": {
        "id": "nqCfA2HJqe-X"
      }
    },
    {
      "cell_type": "code",
      "source": [
        "# 標準偏差\n",
        "s_x = np.std(height)\n",
        "s_y = np.std(weight)\n",
        "# 平均\n",
        "mean_x = np.mean(height)\n",
        "mean_y = np.mean(weight)\n",
        "# 相関係数\n",
        "r = np.corrcoef(weight, height)[0][1]\n",
        "b = r * s_y/s_x\n",
        "a = mean_y - b*mean_x\n",
        "print(\"b={}\".format(b))\n",
        "print(\"a={}\".format(a))"
      ],
      "metadata": {
        "colab": {
          "base_uri": "https://localhost:8080/"
        },
        "id": "ugB4ddq3qcDQ",
        "outputId": "175bff9f-10d8-4dbb-cc5b-4972fff84a06"
      },
      "execution_count": 125,
      "outputs": [
        {
          "output_type": "stream",
          "name": "stdout",
          "text": [
            "b=1.0981214663505376\n",
            "a=-122.40525259894213\n"
          ]
        }
      ]
    },
    {
      "cell_type": "markdown",
      "source": [
        "では求めた$a$と$b$から回帰直線を描画してみましょう。"
      ],
      "metadata": {
        "id": "HYnBlDEprguz"
      }
    },
    {
      "cell_type": "code",
      "source": [
        "# x軸の値作成\n",
        "x = np.arange(167.5, 190, 1)\n",
        "plt.plot(x, b*x+a, )\n",
        "# seaborn のregplotも合わせて描画する．\n",
        "sns.regplot(height, weight)\n",
        "plt.xlabel('height')\n",
        "plt.ylabel('weight')"
      ],
      "metadata": {
        "colab": {
          "base_uri": "https://localhost:8080/",
          "height": 351
        },
        "id": "uACIWNhYrlxm",
        "outputId": "b4557fcf-8e10-4d77-fae7-b3597cae2989"
      },
      "execution_count": 126,
      "outputs": [
        {
          "output_type": "stream",
          "name": "stderr",
          "text": [
            "/usr/local/lib/python3.8/dist-packages/seaborn/_decorators.py:36: FutureWarning: Pass the following variables as keyword args: x, y. From version 0.12, the only valid positional argument will be `data`, and passing other arguments without an explicit keyword will result in an error or misinterpretation.\n",
            "  warnings.warn(\n"
          ]
        },
        {
          "output_type": "execute_result",
          "data": {
            "text/plain": [
              "Text(0, 0.5, 'weight')"
            ]
          },
          "metadata": {},
          "execution_count": 126
        },
        {
          "output_type": "display_data",
          "data": {
            "text/plain": [
              "<Figure size 432x288 with 1 Axes>"
            ],
            "image/png": "[encoded data removed]"
          },
          "metadata": {
            "needs_background": "light"
          }
        }
      ]
    },
    {
      "cell_type": "markdown",
      "source": [
        "先ほど描画したregplotとぴったり重なっていますね。"
      ],
      "metadata": {
        "id": "1GjZSaRIsD-N"
      }
    },
    {
      "cell_type": "markdown",
      "source": [
        "学習済みのモデルができたので、175cmの体重を予測してみましょう。"
      ],
      "metadata": {
        "id": "ODqJE8v3sIIs"
      }
    },
    {
      "cell_type": "code",
      "source": [
        "X = np.array([[175]])\n",
        "y = reg.predict(X)\n",
        "print(X, y)"
      ],
      "metadata": {
        "colab": {
          "base_uri": "https://localhost:8080/"
        },
        "id": "0EC57X9St6H1",
        "outputId": "18fd397c-f425-41d5-8471-c6d6a5017d95"
      },
      "execution_count": 127,
      "outputs": [
        {
          "output_type": "stream",
          "name": "stdout",
          "text": [
            "[[175]] [69.76600401]\n"
          ]
        }
      ]
    },
    {
      "cell_type": "markdown",
      "source": [
        "約69.8kgと予測しています。"
      ],
      "metadata": {
        "id": "JziEcdS3uEXQ"
      }
    },
    {
      "cell_type": "markdown",
      "source": [
        "### 都道府県データで単回帰分析"
      ],
      "metadata": {
        "id": "8UH_BM0BuSKB"
      }
    },
    {
      "cell_type": "markdown",
      "source": [
        "統計編の資料で再三登場したtodohuken_kaidata.csvを使います。\n",
        "\n",
        "インポートしてください。"
      ],
      "metadata": {
        "id": "kBxp1vnhuWFm"
      }
    },
    {
      "cell_type": "code",
      "source": [
        "df = pd.read_csv(\"todohuken_kaidata.csv\")\n",
        "df.head(1)"
      ],
      "metadata": {
        "colab": {
          "base_uri": "https://localhost:8080/",
          "height": 159
        },
        "id": "LOlK3KavuhjM",
        "outputId": "e024f394-965c-42aa-e3ff-5f58641665c2"
      },
      "execution_count": 128,
      "outputs": [
        {
          "output_type": "execute_result",
          "data": {
            "text/plain": [
              "  都道府県     地方  15歳以上の平均睡眠時間（男）  15歳以上の平均睡眠時間（女）  運転免許保有者割合（%）  \\\n",
              "0  北海道  北海道地方              473              465          63.4   \n",
              "\n",
              "   農業従事者（人口100人あたり）  平均通勤時間（片道）  自動車保有台数（人口100人あたり）  鉄道旅客輸送量(人口一人あたり)  \n",
              "0              1.79        20.2               68.67              65.9  "
            ],
            "text/html": [
              "\n",
              "  <div id=\"df-b25289ba-2b62-4804-ab2c-310994d577ab\">\n",
              "    <div class=\"colab-df-container\">\n",
              "      <div>\n",
              "<style scoped>\n",
              "    .dataframe tbody tr th:only-of-type {\n",
              "        vertical-align: middle;\n",
              "    }\n",
              "\n",
              "    .dataframe tbody tr th {\n",
              "        vertical-align: top;\n",
              "    }\n",
              "\n",
              "    .dataframe thead th {\n",
              "        text-align: right;\n",
              "    }\n",
              "</style>\n",
              "<table border=\"1\" class=\"dataframe\">\n",
              "  <thead>\n",
              "    <tr style=\"text-align: right;\">\n",
              "      <th></th>\n",
              "      <th>都道府県</th>\n",
              "      <th>地方</th>\n",
              "      <th>15歳以上の平均睡眠時間（男）</th>\n",
              "      <th>15歳以上の平均睡眠時間（女）</th>\n",
              "      <th>運転免許保有者割合（%）</th>\n",
              "      <th>農業従事者（人口100人あたり）</th>\n",
              "      <th>平均通勤時間（片道）</th>\n",
              "      <th>自動車保有台数（人口100人あたり）</th>\n",
              "      <th>鉄道旅客輸送量(人口一人あたり)</th>\n",
              "    </tr>\n",
              "  </thead>\n",
              "  <tbody>\n",
              "    <tr>\n",
              "      <th>0</th>\n",
              "      <td>北海道</td>\n",
              "      <td>北海道地方</td>\n",
              "      <td>473</td>\n",
              "      <td>465</td>\n",
              "      <td>63.4</td>\n",
              "      <td>1.79</td>\n",
              "      <td>20.2</td>\n",
              "      <td>68.67</td>\n",
              "      <td>65.9</td>\n",
              "    </tr>\n",
              "  </tbody>\n",
              "</table>\n",
              "</div>\n",
              "      <button class=\"colab-df-convert\" onclick=\"convertToInteractive('df-b25289ba-2b62-4804-ab2c-310994d577ab')\"\n",
              "              title=\"Convert this dataframe to an interactive table.\"\n",
              "              style=\"display:none;\">\n",
              "        \n",
              "  <svg xmlns=\"http://www.w3.org/2000/svg\" height=\"24px\"viewBox=\"0 0 24 24\"\n",
              "       width=\"24px\">\n",
              "    <path d=\"M0 0h24v24H0V0z\" fill=\"none\"/>\n",
              "    <path d=\"M18.56 5.44l.94 2.06.94-2.06 2.06-.94-2.06-.94-.94-2.06-.94 2.06-2.06.94zm-11 1L8.5 8.5l.94-2.06 2.06-.94-2.06-.94L8.5 2.5l-.94 2.06-2.06.94zm10 10l.94 2.06.94-2.06 2.06-.94-2.06-.94-.94-2.06-.94 2.06-2.06.94z\"/><path d=\"M17.41 7.96l-1.37-1.37c-.4-.4-.92-.59-1.43-.59-.52 0-1.04.2-1.43.59L10.3 9.45l-7.72 7.72c-.78.78-.78 2.05 0 2.83L4 21.41c.39.39.9.59 1.41.59.51 0 1.02-.2 1.41-.59l7.78-7.78 2.81-2.81c.8-.78.8-2.07 0-2.86zM5.41 20L4 18.59l7.72-7.72 1.47 1.35L5.41 20z\"/>\n",
              "  </svg>\n",
              "      </button>\n",
              "      \n",
              "  <style>\n",
              "    .colab-df-container {\n",
              "      display:flex;\n",
              "      flex-wrap:wrap;\n",
              "      gap: 12px;\n",
              "    }\n",
              "\n",
              "    .colab-df-convert {\n",
              "      background-color: #E8F0FE;\n",
              "      border: none;\n",
              "      border-radius: 50%;\n",
              "      cursor: pointer;\n",
              "      display: none;\n",
              "      fill: #1967D2;\n",
              "      height: 32px;\n",
              "      padding: 0 0 0 0;\n",
              "      width: 32px;\n",
              "    }\n",
              "\n",
              "    .colab-df-convert:hover {\n",
              "      background-color: #E2EBFA;\n",
              "      box-shadow: 0px 1px 2px rgba(60, 64, 67, 0.3), 0px 1px 3px 1px rgba(60, 64, 67, 0.15);\n",
              "      fill: #174EA6;\n",
              "    }\n",
              "\n",
              "    [theme=dark] .colab-df-convert {\n",
              "      background-color: #3B4455;\n",
              "      fill: #D2E3FC;\n",
              "    }\n",
              "\n",
              "    [theme=dark] .colab-df-convert:hover {\n",
              "      background-color: #434B5C;\n",
              "      box-shadow: 0px 1px 3px 1px rgba(0, 0, 0, 0.15);\n",
              "      filter: drop-shadow(0px 1px 2px rgba(0, 0, 0, 0.3));\n",
              "      fill: #FFFFFF;\n",
              "    }\n",
              "  </style>\n",
              "\n",
              "      <script>\n",
              "        const buttonEl =\n",
              "          document.querySelector('#df-b25289ba-2b62-4804-ab2c-310994d577ab button.colab-df-convert');\n",
              "        buttonEl.style.display =\n",
              "          google.colab.kernel.accessAllowed ? 'block' : 'none';\n",
              "\n",
              "        async function convertToInteractive(key) {\n",
              "          const element = document.querySelector('#df-b25289ba-2b62-4804-ab2c-310994d577ab');\n",
              "          const dataTable =\n",
              "            await google.colab.kernel.invokeFunction('convertToInteractive',\n",
              "                                                     [key], {});\n",
              "          if (!dataTable) return;\n",
              "\n",
              "          const docLinkHtml = 'Like what you see? Visit the ' +\n",
              "            '<a target=\"_blank\" href=https://colab.research.google.com/notebooks/data_table.ipynb>data table notebook</a>'\n",
              "            + ' to learn more about interactive tables.';\n",
              "          element.innerHTML = '';\n",
              "          dataTable['output_type'] = 'display_data';\n",
              "          await google.colab.output.renderOutput(dataTable, element);\n",
              "          const docLink = document.createElement('div');\n",
              "          docLink.innerHTML = docLinkHtml;\n",
              "          element.appendChild(docLink);\n",
              "        }\n",
              "      </script>\n",
              "    </div>\n",
              "  </div>\n",
              "  "
            ]
          },
          "metadata": {},
          "execution_count": 128
        }
      ]
    },
    {
      "cell_type": "markdown",
      "source": [
        "まずは相関関係についてみてみましょう。"
      ],
      "metadata": {
        "id": "YOmSh4PFu2B3"
      }
    },
    {
      "cell_type": "code",
      "source": [
        "df.corr()"
      ],
      "metadata": {
        "colab": {
          "base_uri": "https://localhost:8080/",
          "height": 469
        },
        "id": "WL47LgjFu4v5",
        "outputId": "93d35b11-354c-4f84-9873-430ec8d5ce15"
      },
      "execution_count": 129,
      "outputs": [
        {
          "output_type": "execute_result",
          "data": {
            "text/plain": [
              "                    15歳以上の平均睡眠時間（男）  15歳以上の平均睡眠時間（女）  運転免許保有者割合（%）  \\\n",
              "15歳以上の平均睡眠時間（男）            1.000000         0.825764      0.400987   \n",
              "15歳以上の平均睡眠時間（女）            0.825764         1.000000      0.246533   \n",
              "運転免許保有者割合（%）               0.400987         0.246533      1.000000   \n",
              "農業従事者（人口100人あたり）           0.822237         0.749536      0.576308   \n",
              "平均通勤時間（片道）                -0.781084        -0.554681     -0.635377   \n",
              "自動車保有台数（人口100人あたり）         0.610426         0.433637      0.925849   \n",
              "鉄道旅客輸送量(人口一人あたり)          -0.595017        -0.338663     -0.751471   \n",
              "\n",
              "                    農業従事者（人口100人あたり）  平均通勤時間（片道）  自動車保有台数（人口100人あたり）  \\\n",
              "15歳以上の平均睡眠時間（男）             0.822237   -0.781084            0.610426   \n",
              "15歳以上の平均睡眠時間（女）             0.749536   -0.554681            0.433637   \n",
              "運転免許保有者割合（%）                0.576308   -0.635377            0.925849   \n",
              "農業従事者（人口100人あたり）            1.000000   -0.696542            0.719500   \n",
              "平均通勤時間（片道）                 -0.696542    1.000000           -0.826087   \n",
              "自動車保有台数（人口100人あたり）          0.719500   -0.826087            1.000000   \n",
              "鉄道旅客輸送量(人口一人あたり)           -0.629990    0.786965           -0.872011   \n",
              "\n",
              "                    鉄道旅客輸送量(人口一人あたり)  \n",
              "15歳以上の平均睡眠時間（男）            -0.595017  \n",
              "15歳以上の平均睡眠時間（女）            -0.338663  \n",
              "運転免許保有者割合（%）               -0.751471  \n",
              "農業従事者（人口100人あたり）           -0.629990  \n",
              "平均通勤時間（片道）                  0.786965  \n",
              "自動車保有台数（人口100人あたり）         -0.872011  \n",
              "鉄道旅客輸送量(人口一人あたり)            1.000000  "
            ],
            "text/html": [
              "\n",
              "  <div id=\"df-25afe107-7a29-4c3c-b1b3-bfd7eac7c729\">\n",
              "    <div class=\"colab-df-container\">\n",
              "      <div>\n",
              "<style scoped>\n",
              "    .dataframe tbody tr th:only-of-type {\n",
              "        vertical-align: middle;\n",
              "    }\n",
              "\n",
              "    .dataframe tbody tr th {\n",
              "        vertical-align: top;\n",
              "    }\n",
              "\n",
              "    .dataframe thead th {\n",
              "        text-align: right;\n",
              "    }\n",
              "</style>\n",
              "<table border=\"1\" class=\"dataframe\">\n",
              "  <thead>\n",
              "    <tr style=\"text-align: right;\">\n",
              "      <th></th>\n",
              "      <th>15歳以上の平均睡眠時間（男）</th>\n",
              "      <th>15歳以上の平均睡眠時間（女）</th>\n",
              "      <th>運転免許保有者割合（%）</th>\n",
              "      <th>農業従事者（人口100人あたり）</th>\n",
              "      <th>平均通勤時間（片道）</th>\n",
              "      <th>自動車保有台数（人口100人あたり）</th>\n",
              "      <th>鉄道旅客輸送量(人口一人あたり)</th>\n",
              "    </tr>\n",
              "  </thead>\n",
              "  <tbody>\n",
              "    <tr>\n",
              "      <th>15歳以上の平均睡眠時間（男）</th>\n",
              "      <td>1.000000</td>\n",
              "      <td>0.825764</td>\n",
              "      <td>0.400987</td>\n",
              "      <td>0.822237</td>\n",
              "      <td>-0.781084</td>\n",
              "      <td>0.610426</td>\n",
              "      <td>-0.595017</td>\n",
              "    </tr>\n",
              "    <tr>\n",
              "      <th>15歳以上の平均睡眠時間（女）</th>\n",
              "      <td>0.825764</td>\n",
              "      <td>1.000000</td>\n",
              "      <td>0.246533</td>\n",
              "      <td>0.749536</td>\n",
              "      <td>-0.554681</td>\n",
              "      <td>0.433637</td>\n",
              "      <td>-0.338663</td>\n",
              "    </tr>\n",
              "    <tr>\n",
              "      <th>運転免許保有者割合（%）</th>\n",
              "      <td>0.400987</td>\n",
              "      <td>0.246533</td>\n",
              "      <td>1.000000</td>\n",
              "      <td>0.576308</td>\n",
              "      <td>-0.635377</td>\n",
              "      <td>0.925849</td>\n",
              "      <td>-0.751471</td>\n",
              "    </tr>\n",
              "    <tr>\n",
              "      <th>農業従事者（人口100人あたり）</th>\n",
              "      <td>0.822237</td>\n",
              "      <td>0.749536</td>\n",
              "      <td>0.576308</td>\n",
              "      <td>1.000000</td>\n",
              "      <td>-0.696542</td>\n",
              "      <td>0.719500</td>\n",
              "      <td>-0.629990</td>\n",
              "    </tr>\n",
              "    <tr>\n",
              "      <th>平均通勤時間（片道）</th>\n",
              "      <td>-0.781084</td>\n",
              "      <td>-0.554681</td>\n",
              "      <td>-0.635377</td>\n",
              "      <td>-0.696542</td>\n",
              "      <td>1.000000</td>\n",
              "      <td>-0.826087</td>\n",
              "      <td>0.786965</td>\n",
              "    </tr>\n",
              "    <tr>\n",
              "      <th>自動車保有台数（人口100人あたり）</th>\n",
              "      <td>0.610426</td>\n",
              "      <td>0.433637</td>\n",
              "      <td>0.925849</td>\n",
              "      <td>0.719500</td>\n",
              "      <td>-0.826087</td>\n",
              "      <td>1.000000</td>\n",
              "      <td>-0.872011</td>\n",
              "    </tr>\n",
              "    <tr>\n",
              "      <th>鉄道旅客輸送量(人口一人あたり)</th>\n",
              "      <td>-0.595017</td>\n",
              "      <td>-0.338663</td>\n",
              "      <td>-0.751471</td>\n",
              "      <td>-0.629990</td>\n",
              "      <td>0.786965</td>\n",
              "      <td>-0.872011</td>\n",
              "      <td>1.000000</td>\n",
              "    </tr>\n",
              "  </tbody>\n",
              "</table>\n",
              "</div>\n",
              "      <button class=\"colab-df-convert\" onclick=\"convertToInteractive('df-25afe107-7a29-4c3c-b1b3-bfd7eac7c729')\"\n",
              "              title=\"Convert this dataframe to an interactive table.\"\n",
              "              style=\"display:none;\">\n",
              "        \n",
              "  <svg xmlns=\"http://www.w3.org/2000/svg\" height=\"24px\"viewBox=\"0 0 24 24\"\n",
              "       width=\"24px\">\n",
              "    <path d=\"M0 0h24v24H0V0z\" fill=\"none\"/>\n",
              "    <path d=\"M18.56 5.44l.94 2.06.94-2.06 2.06-.94-2.06-.94-.94-2.06-.94 2.06-2.06.94zm-11 1L8.5 8.5l.94-2.06 2.06-.94-2.06-.94L8.5 2.5l-.94 2.06-2.06.94zm10 10l.94 2.06.94-2.06 2.06-.94-2.06-.94-.94-2.06-.94 2.06-2.06.94z\"/><path d=\"M17.41 7.96l-1.37-1.37c-.4-.4-.92-.59-1.43-.59-.52 0-1.04.2-1.43.59L10.3 9.45l-7.72 7.72c-.78.78-.78 2.05 0 2.83L4 21.41c.39.39.9.59 1.41.59.51 0 1.02-.2 1.41-.59l7.78-7.78 2.81-2.81c.8-.78.8-2.07 0-2.86zM5.41 20L4 18.59l7.72-7.72 1.47 1.35L5.41 20z\"/>\n",
              "  </svg>\n",
              "      </button>\n",
              "      \n",
              "  <style>\n",
              "    .colab-df-container {\n",
              "      display:flex;\n",
              "      flex-wrap:wrap;\n",
              "      gap: 12px;\n",
              "    }\n",
              "\n",
              "    .colab-df-convert {\n",
              "      background-color: #E8F0FE;\n",
              "      border: none;\n",
              "      border-radius: 50%;\n",
              "      cursor: pointer;\n",
              "      display: none;\n",
              "      fill: #1967D2;\n",
              "      height: 32px;\n",
              "      padding: 0 0 0 0;\n",
              "      width: 32px;\n",
              "    }\n",
              "\n",
              "    .colab-df-convert:hover {\n",
              "      background-color: #E2EBFA;\n",
              "      box-shadow: 0px 1px 2px rgba(60, 64, 67, 0.3), 0px 1px 3px 1px rgba(60, 64, 67, 0.15);\n",
              "      fill: #174EA6;\n",
              "    }\n",
              "\n",
              "    [theme=dark] .colab-df-convert {\n",
              "      background-color: #3B4455;\n",
              "      fill: #D2E3FC;\n",
              "    }\n",
              "\n",
              "    [theme=dark] .colab-df-convert:hover {\n",
              "      background-color: #434B5C;\n",
              "      box-shadow: 0px 1px 3px 1px rgba(0, 0, 0, 0.15);\n",
              "      filter: drop-shadow(0px 1px 2px rgba(0, 0, 0, 0.3));\n",
              "      fill: #FFFFFF;\n",
              "    }\n",
              "  </style>\n",
              "\n",
              "      <script>\n",
              "        const buttonEl =\n",
              "          document.querySelector('#df-25afe107-7a29-4c3c-b1b3-bfd7eac7c729 button.colab-df-convert');\n",
              "        buttonEl.style.display =\n",
              "          google.colab.kernel.accessAllowed ? 'block' : 'none';\n",
              "\n",
              "        async function convertToInteractive(key) {\n",
              "          const element = document.querySelector('#df-25afe107-7a29-4c3c-b1b3-bfd7eac7c729');\n",
              "          const dataTable =\n",
              "            await google.colab.kernel.invokeFunction('convertToInteractive',\n",
              "                                                     [key], {});\n",
              "          if (!dataTable) return;\n",
              "\n",
              "          const docLinkHtml = 'Like what you see? Visit the ' +\n",
              "            '<a target=\"_blank\" href=https://colab.research.google.com/notebooks/data_table.ipynb>data table notebook</a>'\n",
              "            + ' to learn more about interactive tables.';\n",
              "          element.innerHTML = '';\n",
              "          dataTable['output_type'] = 'display_data';\n",
              "          await google.colab.output.renderOutput(dataTable, element);\n",
              "          const docLink = document.createElement('div');\n",
              "          docLink.innerHTML = docLinkHtml;\n",
              "          element.appendChild(docLink);\n",
              "        }\n",
              "      </script>\n",
              "    </div>\n",
              "  </div>\n",
              "  "
            ]
          },
          "metadata": {},
          "execution_count": 129
        }
      ]
    },
    {
      "cell_type": "markdown",
      "source": [
        "今回は男性の平均睡眠時間と平均通勤時間について単回帰分析を行ってみます。"
      ],
      "metadata": {
        "id": "ZboNb3dFvLyW"
      }
    },
    {
      "cell_type": "code",
      "source": [
        "man_sleep = df[\"15歳以上の平均睡眠時間（男）\"]\n",
        "commute_time = df[\"平均通勤時間（片道）\"]\n",
        "\n",
        "# 学習のためのインスタンス作成\n",
        "reg = LinearRegression()\n",
        "\n",
        "\"\"\"\n",
        "fitメソッドで学習する\n",
        ".fit(x,y)に入れる\"x\"は、行列である必要がある\n",
        "\"\"\"\n",
        "X = np.expand_dims(man_sleep, axis=-1)  # 次元を1つ追加して「ベクトル→行列」にする\n",
        "y = commute_time\n",
        "reg.fit(X, y)\n",
        "\n",
        "b = reg.coef_\n",
        "a = reg.intercept_\n",
        "\n",
        "# \"a\"と\"b\"の表示 \n",
        "print(\"b={}\".format(reg.coef_))\n",
        "print(\"a={}\".format(reg.intercept_))"
      ],
      "metadata": {
        "colab": {
          "base_uri": "https://localhost:8080/"
        },
        "id": "pKIdAlOvN3um",
        "outputId": "755df9a1-640c-45c6-aeca-ef6a725608c7"
      },
      "execution_count": 130,
      "outputs": [
        {
          "output_type": "stream",
          "name": "stdout",
          "text": [
            "b=[-0.76915791]\n",
            "a=384.67574380901476\n"
          ]
        }
      ]
    },
    {
      "cell_type": "code",
      "source": [
        "# x軸の値作成\n",
        "x = np.arange(450, 490, 1)\n",
        "plt.plot(x, b*x+a, )\n",
        "plt.xlabel('man_sleep')\n",
        "plt.ylabel('commute_time')"
      ],
      "metadata": {
        "colab": {
          "base_uri": "https://localhost:8080/",
          "height": 301
        },
        "id": "6bZ0zBmKv63F",
        "outputId": "59fd37a5-86a7-4527-8fc3-fb17e474bcaf"
      },
      "execution_count": 131,
      "outputs": [
        {
          "output_type": "execute_result",
          "data": {
            "text/plain": [
              "Text(0, 0.5, 'commute_time')"
            ]
          },
          "metadata": {},
          "execution_count": 131
        },
        {
          "output_type": "display_data",
          "data": {
            "text/plain": [
              "<Figure size 432x288 with 1 Axes>"
            ],
            "image/png": "[encoded data removed]"
          },
          "metadata": {
            "needs_background": "light"
          }
        }
      ]
    },
    {
      "cell_type": "code",
      "source": [
        "# 8時間睡眠している男性の平均通勤時間は？\n",
        "X = np.array([[480]])\n",
        "y = reg.predict(X)\n",
        "print(X, y)  # 約15分！（そんなバカな）"
      ],
      "metadata": {
        "colab": {
          "base_uri": "https://localhost:8080/"
        },
        "id": "N03Bp09vxTls",
        "outputId": "cdb4ab09-4789-4dc1-e1ad-40bce39e8f37"
      },
      "execution_count": 132,
      "outputs": [
        {
          "output_type": "stream",
          "name": "stdout",
          "text": [
            "[[480]] [15.47994833]\n"
          ]
        }
      ]
    },
    {
      "cell_type": "markdown",
      "source": [
        "### 説明変数と目的変数の入れ替え"
      ],
      "metadata": {
        "id": "0MKmT2LVxLrR"
      }
    },
    {
      "cell_type": "markdown",
      "source": [
        "入れ替えてみるとどうなるのでしょうか？  \n",
        "$a$と$b$を入れ替えてみた結果はこちらです。\n",
        "\n",
        "$$\n",
        "a^{'}=\\bar{x}-b^{'}\\bar{x}  \n",
        "$$\n",
        "\n",
        "$$\n",
        "b^{'}=r\\frac{s_x}{s_y}\n",
        "$$"
      ],
      "metadata": {
        "id": "_VabIeRax054"
      }
    },
    {
      "cell_type": "markdown",
      "source": [
        "説明変数と目的変数を入れ替えると、別の回帰直線ができあがります。"
      ],
      "metadata": {
        "id": "_mVBidFNyPqZ"
      }
    },
    {
      "cell_type": "code",
      "source": [
        "weight = np.array([68, 84, 68, 87, 78, 84, 76, 74, 66, 72, 67, 67])\n",
        "height = np.array([174, 187, 170, 189, 185, 187, 178, 177, 176, 180, 173, 173])\n",
        "\n",
        "# reg1: heightからweightを予測する回帰直線\n",
        "X = np.expand_dims(height, axis=-1)\n",
        "y = weight\n",
        "reg1 = LinearRegression()\n",
        "reg1.fit(X, y)\n",
        " \n",
        "# reg2: weightからheightを予測する回帰直線\n",
        "X = np.expand_dims(weight, axis=-1)\n",
        "y = height\n",
        "reg2 = LinearRegression()\n",
        "reg2.fit(X, y)\n",
        " \n",
        "x = np.arange(170, 190, 1)\n",
        "plt.scatter(height, weight)\n",
        "\n",
        "plt.plot(x, x*reg1.coef_+reg1.intercept_, 'b')\n",
        "# reg2を描画(x=a'+b'yを変形し，y=(x-a')/b')となることに注意\n",
        "plt.plot(x, (x-reg2.intercept_)/reg2.coef_, 'r')\n",
        "# reg1とreg2が交差している点がweightとheightの平均の点\n",
        "plt.plot(np.mean(height), np.mean(weight), 'ro')\n",
        "plt.xlabel('height')\n",
        "plt.ylabel('weight')"
      ],
      "metadata": {
        "colab": {
          "base_uri": "https://localhost:8080/",
          "height": 296
        },
        "id": "o4nWzt4Oypww",
        "outputId": "50ccda3d-7002-4169-eb50-f8943324d16a"
      },
      "execution_count": 133,
      "outputs": [
        {
          "output_type": "execute_result",
          "data": {
            "text/plain": [
              "Text(0, 0.5, 'weight')"
            ]
          },
          "metadata": {},
          "execution_count": 133
        },
        {
          "output_type": "display_data",
          "data": {
            "text/plain": [
              "<Figure size 432x288 with 1 Axes>"
            ],
            "image/png": "[encoded data removed]"
          },
          "metadata": {
            "needs_background": "light"
          }
        }
      ]
    },
    {
      "cell_type": "markdown",
      "source": [
        "どちらの回帰直線も$(\\bar{x} , \\bar{y})$ を通るので、  \n",
        "$(\\bar{x} , \\bar{y})$ で交わっています。"
      ],
      "metadata": {
        "id": "A86AzjXCzeuH"
      }
    },
    {
      "cell_type": "code",
      "source": [
        "print(f\"体重の平均：{np.mean(weight)}\")\n",
        "print(f\"身長の平均：{np.mean(height)}\")"
      ],
      "metadata": {
        "colab": {
          "base_uri": "https://localhost:8080/"
        },
        "id": "CY97ZKsnztzO",
        "outputId": "7ed94fe6-13be-44c3-fd42-f2b4c805a8fb"
      },
      "execution_count": 134,
      "outputs": [
        {
          "output_type": "stream",
          "name": "stdout",
          "text": [
            "体重の平均：74.25\n",
            "身長の平均：179.08333333333334\n"
          ]
        }
      ]
    },
    {
      "cell_type": "markdown",
      "source": [
        "とる目的変数によって回帰直線が変化してしまうので注意が必要です。"
      ],
      "metadata": {
        "id": "okYSuqIDz-Ej"
      }
    },
    {
      "cell_type": "markdown",
      "source": [
        "## 決定係数"
      ],
      "metadata": {
        "id": "mNTcZ17r05gL"
      }
    },
    {
      "cell_type": "markdown",
      "source": [
        "「説明変数がどれだけ目的変数の値を説明しているかの指標」を**決定係数**といいます。\n",
        "\n",
        "一般的に$R^2$で示され、0から1までの値をとります。  \n",
        "1に近いほど、回帰式が実際のデータに当てはまっていることを表しています。\n",
        "\n",
        "基準の目安は以下の通りです。  \n",
        "（参考：https://istat.co.jp/ta_commentary/multiple_02 ）\n",
        "\n",
        "* **0.8以上**：精度良い\n",
        "* **0.5~0.8**：精度やや良い\n",
        "* **0.5以下**：精度良くない\n"
      ],
      "metadata": {
        "id": "5mHsn1Ln1Ue6"
      }
    },
    {
      "cell_type": "markdown",
      "source": [
        "### 決定係数の定義"
      ],
      "metadata": {
        "id": "_CzPjeCf-vwx"
      }
    },
    {
      "cell_type": "markdown",
      "source": [
        "![リンクテキスト](https://imgur.com/gsoWMOU.png)\n",
        "\n",
        "①：全変動：実測値とデータ全体の平均値との差  \n",
        "②：回帰変動：予測値とデータ全体の平均値との差  \n",
        "③：残差変動：実測値と予測値との差\n",
        "\n",
        "②の回帰変動は「回帰直線によって説明できた部分」、  \n",
        "③の残差変動は「回帰直線によって説明できなかった部分」となります。"
      ],
      "metadata": {
        "id": "YHY8LonA_Lpg"
      }
    },
    {
      "cell_type": "markdown",
      "source": [
        "（[こちら](https://bit.ly/3XZs1IQ)などに書かれている証明によって）以下の式が成り立ちます。\n",
        "\n",
        "$$\n",
        "\\sum (y_i-\\bar{y})^2 = \\sum(\\hat{y}_i-\\bar{y})^2 + \\sum(y_i-\\hat{y}_i)^2\n",
        "$$\n",
        "\n"
      ],
      "metadata": {
        "id": "6NN6LEsKAQqn"
      }
    },
    {
      "cell_type": "markdown",
      "source": [
        "決定係数は「回帰変動が全変動に対してどれだけ多いか」を表すものなので、  \n",
        "決定係数は回帰変動を全変動で割ることで求められます。\n",
        "\n",
        "$$\n",
        "R^2 = \\frac{\\sum(\\hat{y}_i-\\bar{y})^2}{\\sum (y_i-\\bar{y})^2} = 1-\\frac{\\sum(y_i-\\hat{y}_i)^2}{\\sum (y_i-\\bar{y})^2}\n",
        "$$"
      ],
      "metadata": {
        "id": "oR6QQwHgBuWD"
      }
    },
    {
      "cell_type": "markdown",
      "source": [
        "**回帰直線が最小二乗法によって求められた場合、この$R$は相関係数$r$と一致します**。  \n",
        "重要なので覚えておきましょう。"
      ],
      "metadata": {
        "id": "_xjYeIXVGew8"
      }
    },
    {
      "cell_type": "markdown",
      "source": [
        "### Pythonによる決定係数の導出"
      ],
      "metadata": {
        "id": "NKlTG-jqHgHS"
      }
    },
    {
      "cell_type": "markdown",
      "source": [
        "適当に身長と体重のデータを用意したので、決定係数を求めてみましょう。"
      ],
      "metadata": {
        "id": "5VNxQTuOJfOY"
      }
    },
    {
      "cell_type": "code",
      "source": [
        "# 学習データ\n",
        "weight = np.array([68, 84, 68, 87, 78, 84, 76, 74, 66, 72, 67, 67])\n",
        "height = np.array([174, 187, 170, 189, 185, 187, 178, 177, 176, 180, 173, 173])\n",
        "\n",
        "# モデルの作成と学習\n",
        "reg = LinearRegression()\n",
        "\n",
        "X = np.expand_dims(height, axis=-1)\n",
        "y = weight\n",
        "reg.fit(X, y)"
      ],
      "metadata": {
        "colab": {
          "base_uri": "https://localhost:8080/"
        },
        "id": "qslzKxoSJ1Z8",
        "outputId": "7bf661a9-6aa8-4e15-9bc8-408d433aeee3"
      },
      "execution_count": 135,
      "outputs": [
        {
          "output_type": "execute_result",
          "data": {
            "text/plain": [
              "LinearRegression()"
            ]
          },
          "metadata": {},
          "execution_count": 135
        }
      ]
    },
    {
      "cell_type": "code",
      "source": [
        "# 評価データ\n",
        "weight_test = np.array([64, 88, 75, 72, 75, 84, 64, 75, 70, 73, 71, 68])\n",
        "height_test = np.array([172, 197, 183, 178, 186, 188, 175, 175, 180, 178, 173, 174])\n",
        "\n",
        "# 予測値\n",
        "X_test = np.expand_dims(height_test, axis=-1)\n",
        "y_test_pred = reg.predict(X_test)"
      ],
      "metadata": {
        "id": "SLe8fiGyKByM"
      },
      "execution_count": 136,
      "outputs": []
    },
    {
      "cell_type": "code",
      "source": [
        "# 決定係数\n",
        "r2_score(weight_test, y_test_pred)"
      ],
      "metadata": {
        "colab": {
          "base_uri": "https://localhost:8080/"
        },
        "id": "_Z6qBmEvMagv",
        "outputId": "e4045701-fa96-4ccb-c899-248f0146f062"
      },
      "execution_count": 137,
      "outputs": [
        {
          "output_type": "execute_result",
          "data": {
            "text/plain": [
              "0.6376269742887806"
            ]
          },
          "metadata": {},
          "execution_count": 137
        }
      ]
    },
    {
      "cell_type": "markdown",
      "source": [
        "## 重回帰分析"
      ],
      "metadata": {
        "id": "9lA7t5nYSCIU"
      }
    },
    {
      "cell_type": "markdown",
      "source": [
        "複数の説明変数 $x_i$ ($i=1,2,3,…n$)を用いて目的変数$y$を表す回帰分析を  \n",
        "**重回帰分析**といいます。"
      ],
      "metadata": {
        "id": "0XWuTra4SEqs"
      }
    },
    {
      "cell_type": "markdown",
      "source": [
        "### 重回帰分析の流れ"
      ],
      "metadata": {
        "id": "Ck2NBXvjd9Js"
      }
    },
    {
      "cell_type": "markdown",
      "source": [
        "① **モデル**を決める  \n",
        "② **損失関数**を決める  \n",
        "③ 損失関数を「**最小化**」する"
      ],
      "metadata": {
        "id": "en762NlLeAH9"
      }
    },
    {
      "cell_type": "markdown",
      "source": [
        "#### モデルを決める"
      ],
      "metadata": {
        "id": "YRRY_-OFS6Ts"
      }
    },
    {
      "cell_type": "markdown",
      "source": [
        "今回は特徴量が複数なので、各データの値を$x_{ij}$とし、  \n",
        "$j$番目の特徴量の$i$番目のデータという風にします。"
      ],
      "metadata": {
        "id": "v9suKmAsbS1K"
      }
    },
    {
      "cell_type": "markdown",
      "source": [
        "予測値 $\\hat{y}_i$ は以下の式で表されます。\n",
        "\n",
        "$$\n",
        "\\hat{y}_i = \\theta_1x_{i1} + \\theta_2x_{i2} + … + \\theta_nx_{in}\n",
        "$$\n",
        "\n",
        "説明変数の重要度が高いものはパラメータ $\\theta$ の値が大きくなります。"
      ],
      "metadata": {
        "id": "CA7oO7TDS8lK"
      }
    },
    {
      "cell_type": "markdown",
      "source": [
        "単回帰分析のときと同様、多少の誤差を考慮する必要があります。  \n",
        "これを $b$（**バイアス**）で表します。\n",
        "\n",
        "式を書き直すと以下のようになります。\n",
        "\n",
        "$$\n",
        "\\hat{y}_i = \\theta_1x_{i1} + \\theta_2x_{i2} + … + \\theta_nx_{in} + b\n",
        "$$"
      ],
      "metadata": {
        "id": "cPfn-PBMUjiZ"
      }
    },
    {
      "cell_type": "markdown",
      "source": [
        "$b = \\theta_0×x_0 = \\theta_0×1$ とダミーの変数を用いることで、  \n",
        "形式を他の項に合わせることができます。\n",
        "\n",
        "$$\n",
        "\\hat{y}_i = \\theta_1x_{i1} + \\theta_2x_{i2} + … + \\theta_nx_{in} + \\theta_0x_{i0}\n",
        "$$"
      ],
      "metadata": {
        "id": "Puo60nX5VAU-"
      }
    },
    {
      "cell_type": "markdown",
      "source": [
        "これを行列の形に変形します。\n",
        "\n",
        "$$\n",
        "\\begin{bmatrix} \n",
        "\\hat{y}_1 \\\\ \n",
        "\\hat{y}_2 \\\\ \n",
        "\\vdots \\\\ \n",
        "\\hat{y}_{m-1} \\\\ \n",
        "\\hat{y}_m \\\\ \n",
        "\\end{bmatrix} \n",
        "= \n",
        "\\begin{bmatrix} \n",
        "x_{10} & x_{11} & \\cdots & x_{1n-1} & x_{1n}   \\\\ \n",
        "x_{20} & x_{21} & \\cdots & x_{2n-1} & x_{2n}   \\\\ \n",
        "\\vdots & \\vdots & \\cdots & \\vdots & \\vdots \\\\ \n",
        "x_{m-10} & x_{m-11} & \\cdots & x_{m-1n-1} & x_{m-1n}   \\\\ \n",
        "x_{m0} & x_{m1} & \\cdots & x_{mn-1} & x_{mn}   \\\\ \n",
        "\\end{bmatrix} \n",
        "\\begin{bmatrix} \n",
        "\\theta_0 \\\\ \n",
        "\\theta_1 \\\\ \n",
        "\\vdots \\\\ \n",
        "\\vdots \\\\ \n",
        "\\theta_{n-1} \\\\ \n",
        "\\theta_n \\\\ \n",
        "\\end{bmatrix}\n",
        "$$"
      ],
      "metadata": {
        "id": "794yVgO5Vzos"
      }
    },
    {
      "cell_type": "markdown",
      "source": [
        "それぞれの行列およびベクトルを $\\mathbf{\\hat{y}},\\mathbf{X},\\theta$ とすると、\n",
        "\n",
        "$$\n",
        "\\mathbf{\\hat{y}}=\\mathbf{X}\\mathbf{\\theta}\n",
        "$$\n",
        "\n",
        "と表すことができます。"
      ],
      "metadata": {
        "id": "WUF3r8XHek-r"
      }
    },
    {
      "cell_type": "markdown",
      "source": [
        "#### 損失関数を決める"
      ],
      "metadata": {
        "id": "BT0ZLjxwX0aB"
      }
    },
    {
      "cell_type": "markdown",
      "source": [
        "基本は単回帰分析のときと同様です。"
      ],
      "metadata": {
        "id": "UnUfTeVzc9w1"
      }
    },
    {
      "cell_type": "markdown",
      "source": [
        "$$\n",
        "\\sum^{n}_{i=1}{e_i^2}= \\sum^{n}_{i=1}({y_i-\\hat{y}_i)^2}\n",
        "$$"
      ],
      "metadata": {
        "id": "-U2dRio3X3eM"
      }
    },
    {
      "cell_type": "markdown",
      "source": [
        "#### 損失関数を「最小化」する"
      ],
      "metadata": {
        "id": "YXPLYaNWd2dF"
      }
    },
    {
      "cell_type": "markdown",
      "source": [
        "損失関数を計算すると、以下のような結果が得られます。\n",
        "\n",
        "$$\n",
        "\\theta=(\\mathbf{X}^T\\mathbf{X})^{-1}\\mathbf{X}^T\\mathbf{y} \n",
        "$$\n",
        "\n",
        "（答えの導出過程は[こちら](https://bit.ly/3lTzKuL)や『データサイエンス入門』第7回講義資料を参照してください。）  "
      ],
      "metadata": {
        "id": "h0optuQceMSV"
      }
    },
    {
      "cell_type": "markdown",
      "source": [
        "この式は**正規方程式**と呼ばれます。"
      ],
      "metadata": {
        "id": "eFvzbL9je8T7"
      }
    },
    {
      "cell_type": "markdown",
      "source": [
        "# 終わりに"
      ],
      "metadata": {
        "id": "dNldiW9FgCez"
      }
    },
    {
      "cell_type": "markdown",
      "source": [
        "Pythonで重回帰分析を行おうとすると重たくなってしまうので  \n",
        "本資料はここまでとします。"
      ],
      "metadata": {
        "id": "Uys68Jm6fwXk"
      }
    }
  ]
}