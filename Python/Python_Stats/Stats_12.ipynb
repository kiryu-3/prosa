{
  "nbformat": 4,
  "nbformat_minor": 0,
  "metadata": {
    "colab": {
      "provenance": [],
      "authorship_tag": "ABX9TyN2i/w5va7b22JwhHro7Zj3",
      "include_colab_link": true
    },
    "kernelspec": {
      "name": "python3",
      "display_name": "Python 3"
    },
    "language_info": {
      "name": "python"
    }
  },
  "cells": [
    {
      "cell_type": "markdown",
      "metadata": {
        "id": "view-in-github",
        "colab_type": "text"
      },
      "source": [
        "<a href=\"https://colab.research.google.com/github/kiryu-3/prosa/blob/main/Python/Python_Stats/Stats_12.ipynb\" target=\"_parent\"><img src=\"https://colab.research.google.com/assets/colab-badge.svg\" alt=\"Open In Colab\"/></a>"
      ]
    },
    {
      "cell_type": "markdown",
      "source": [
        "# 正規性と等分散性の検定"
      ],
      "metadata": {
        "id": "an4MTbCaOVCK"
      }
    },
    {
      "cell_type": "code",
      "execution_count": null,
      "metadata": {
        "id": "ZIWv0uLPMOwr"
      },
      "outputs": [],
      "source": [
        "import numpy as np\n",
        "import pandas as pd\n",
        "import matplotlib.pyplot as plt\n",
        "!pip install japanize-matplotlib\n",
        "import japanize_matplotlib\n",
        "import seaborn as sns\n",
        "from scipy import stats\n",
        "from scipy.stats import norm\n",
        "from scipy.stats import binom\n",
        "from scipy.stats import t\n",
        "from scipy.stats import f\n",
        "from decimal import Decimal, ROUND_HALF_UP, ROUND_HALF_EVEN\n",
        "from statsmodels.stats.proportion import proportions_ztest\n",
        "from statsmodels.api import qqplot"
      ]
    },
    {
      "cell_type": "markdown",
      "source": [
        "## 正規性の検定"
      ],
      "metadata": {
        "id": "BNomghizOlN1"
      }
    },
    {
      "cell_type": "markdown",
      "source": [
        "検定の多くは「母集団が正規分布に従う」ということを仮定しています。  \n",
        "この仮定が正しいのかを検定していきます。\n",
        "\n",
        "ここでは**シャピロ=ウィルク検定**を紹介します。  \n",
        "そのほかの正規性の検定については[こちら](https://bellcurve.jp/statistics/course/12931.html)に紹介があります。"
      ],
      "metadata": {
        "id": "USHf7ZM0OnVR"
      }
    },
    {
      "cell_type": "markdown",
      "source": [
        "### 仮説検定のステップ（再掲）\n",
        "①帰無仮説と対立仮説を立てる  \n",
        "②帰無仮説のもとで標本観察を行う  \n",
        "③帰無仮説を棄却できるかどうかを確認する"
      ],
      "metadata": {
        "id": "fOiK0-pNPGhe"
      }
    },
    {
      "cell_type": "markdown",
      "source": [
        "#### ① 帰無仮説と対立仮説を立てる  "
      ],
      "metadata": {
        "id": "GSPUhAnNw1Ev"
      }
    },
    {
      "cell_type": "markdown",
      "source": [
        "帰無仮説と対立仮説は以下のようになります。（**両側検定**になります）  \n",
        "母集団が正規分布に従うことを期待しているので、少し帰無仮説の立て方が普段とは異なります。\n",
        "\n",
        "帰無仮説$H_0$：「母集団が正規分布に従う」  \n",
        "対立仮説$H_1$：「母集団が正規分布に従わない」"
      ],
      "metadata": {
        "id": "cLsiZsQLxMnF"
      }
    },
    {
      "cell_type": "markdown",
      "source": [
        "#### ② 帰無仮説のもとで標本観察を行う "
      ],
      "metadata": {
        "id": "kE9LideXSd3A"
      }
    },
    {
      "cell_type": "markdown",
      "source": [
        "今回は**Q-Qプロット**（Quantile-Quantile Plot）を使います。 \n",
        "\n",
        "得られたデータが正規分布にどれくらい近いかを視覚的に確認できます。"
      ],
      "metadata": {
        "id": "7OvaRnZGSk8Y"
      }
    },
    {
      "cell_type": "markdown",
      "source": [
        "点が直線に近ければ、観測データは正規分布に近いといういうことができます。  \n",
        "\n",
        "Pythonで描画するとイメージが湧きやすいと思います。"
      ],
      "metadata": {
        "id": "gFXDL3FHSywA"
      }
    },
    {
      "cell_type": "markdown",
      "source": [
        "#### ③ 帰無仮説を棄却できるかどうかを確認する"
      ],
      "metadata": {
        "id": "rnZgND-0TA3H"
      }
    },
    {
      "cell_type": "markdown",
      "source": [
        "有意水準を$5$%に設定します。\n",
        "\n",
        "($p$**値を求めて**) 棄却が必要かどうか決めます。  "
      ],
      "metadata": {
        "id": "5X90jhpATBX3"
      }
    },
    {
      "cell_type": "markdown",
      "source": [
        "### Pythonによる仮説検定"
      ],
      "metadata": {
        "id": "YTw5ekIHTzC2"
      }
    },
    {
      "cell_type": "markdown",
      "source": [
        "では正規性の検定を行っていきましょう。\n",
        "\n",
        "ここでは都道府県別の男性と女性の平均睡眠時間の分布について検定します。  \n",
        "`todohuken_kaidata.csv`をインポートしてください。\n"
      ],
      "metadata": {
        "id": "CHH48hIITzj2"
      }
    },
    {
      "cell_type": "code",
      "source": [
        "df = pd.read_csv(\"todohuken_kaidata.csv\")\n",
        "df.head(3)"
      ],
      "metadata": {
        "colab": {
          "base_uri": "https://localhost:8080/",
          "height": 430
        },
        "id": "RhOtvI7lUfDN",
        "outputId": "880bf62a-ac32-4ad7-b122-34d9a444dd21"
      },
      "execution_count": 3,
      "outputs": [
        {
          "output_type": "execute_result",
          "data": {
            "text/plain": [
              "  都道府県     地方  15歳以上の平均睡眠時間（男）  15歳以上の平均睡眠時間（女）  運転免許保有者割合（%）  \\\n",
              "0  北海道  北海道地方              473              465          63.4   \n",
              "1  青森県   東北地方              486              470          66.4   \n",
              "2  岩手県   東北地方              477              469          67.6   \n",
              "\n",
              "   農業従事者（人口100人あたり）  平均通勤時間（片道）  自動車保有台数（人口100人あたり）  鉄道旅客輸送量(人口一人あたり)  \n",
              "0              1.79        20.2               68.67             65.90  \n",
              "1              4.95        20.2               77.65             13.10  \n",
              "2              5.50        20.0               80.55             20.86  "
            ],
            "text/html": [
              "\n",
              "  <div id=\"df-9d60c444-da8d-491d-ba4a-99eb23d5e50b\">\n",
              "    <div class=\"colab-df-container\">\n",
              "      <div>\n",
              "<style scoped>\n",
              "    .dataframe tbody tr th:only-of-type {\n",
              "        vertical-align: middle;\n",
              "    }\n",
              "\n",
              "    .dataframe tbody tr th {\n",
              "        vertical-align: top;\n",
              "    }\n",
              "\n",
              "    .dataframe thead th {\n",
              "        text-align: right;\n",
              "    }\n",
              "</style>\n",
              "<table border=\"1\" class=\"dataframe\">\n",
              "  <thead>\n",
              "    <tr style=\"text-align: right;\">\n",
              "      <th></th>\n",
              "      <th>都道府県</th>\n",
              "      <th>地方</th>\n",
              "      <th>15歳以上の平均睡眠時間（男）</th>\n",
              "      <th>15歳以上の平均睡眠時間（女）</th>\n",
              "      <th>運転免許保有者割合（%）</th>\n",
              "      <th>農業従事者（人口100人あたり）</th>\n",
              "      <th>平均通勤時間（片道）</th>\n",
              "      <th>自動車保有台数（人口100人あたり）</th>\n",
              "      <th>鉄道旅客輸送量(人口一人あたり)</th>\n",
              "    </tr>\n",
              "  </thead>\n",
              "  <tbody>\n",
              "    <tr>\n",
              "      <th>0</th>\n",
              "      <td>北海道</td>\n",
              "      <td>北海道地方</td>\n",
              "      <td>473</td>\n",
              "      <td>465</td>\n",
              "      <td>63.4</td>\n",
              "      <td>1.79</td>\n",
              "      <td>20.2</td>\n",
              "      <td>68.67</td>\n",
              "      <td>65.90</td>\n",
              "    </tr>\n",
              "    <tr>\n",
              "      <th>1</th>\n",
              "      <td>青森県</td>\n",
              "      <td>東北地方</td>\n",
              "      <td>486</td>\n",
              "      <td>470</td>\n",
              "      <td>66.4</td>\n",
              "      <td>4.95</td>\n",
              "      <td>20.2</td>\n",
              "      <td>77.65</td>\n",
              "      <td>13.10</td>\n",
              "    </tr>\n",
              "    <tr>\n",
              "      <th>2</th>\n",
              "      <td>岩手県</td>\n",
              "      <td>東北地方</td>\n",
              "      <td>477</td>\n",
              "      <td>469</td>\n",
              "      <td>67.6</td>\n",
              "      <td>5.50</td>\n",
              "      <td>20.0</td>\n",
              "      <td>80.55</td>\n",
              "      <td>20.86</td>\n",
              "    </tr>\n",
              "  </tbody>\n",
              "</table>\n",
              "</div>\n",
              "      <button class=\"colab-df-convert\" onclick=\"convertToInteractive('df-9d60c444-da8d-491d-ba4a-99eb23d5e50b')\"\n",
              "              title=\"Convert this dataframe to an interactive table.\"\n",
              "              style=\"display:none;\">\n",
              "        \n",
              "  <svg xmlns=\"http://www.w3.org/2000/svg\" height=\"24px\"viewBox=\"0 0 24 24\"\n",
              "       width=\"24px\">\n",
              "    <path d=\"M0 0h24v24H0V0z\" fill=\"none\"/>\n",
              "    <path d=\"M18.56 5.44l.94 2.06.94-2.06 2.06-.94-2.06-.94-.94-2.06-.94 2.06-2.06.94zm-11 1L8.5 8.5l.94-2.06 2.06-.94-2.06-.94L8.5 2.5l-.94 2.06-2.06.94zm10 10l.94 2.06.94-2.06 2.06-.94-2.06-.94-.94-2.06-.94 2.06-2.06.94z\"/><path d=\"M17.41 7.96l-1.37-1.37c-.4-.4-.92-.59-1.43-.59-.52 0-1.04.2-1.43.59L10.3 9.45l-7.72 7.72c-.78.78-.78 2.05 0 2.83L4 21.41c.39.39.9.59 1.41.59.51 0 1.02-.2 1.41-.59l7.78-7.78 2.81-2.81c.8-.78.8-2.07 0-2.86zM5.41 20L4 18.59l7.72-7.72 1.47 1.35L5.41 20z\"/>\n",
              "  </svg>\n",
              "      </button>\n",
              "      \n",
              "  <style>\n",
              "    .colab-df-container {\n",
              "      display:flex;\n",
              "      flex-wrap:wrap;\n",
              "      gap: 12px;\n",
              "    }\n",
              "\n",
              "    .colab-df-convert {\n",
              "      background-color: #E8F0FE;\n",
              "      border: none;\n",
              "      border-radius: 50%;\n",
              "      cursor: pointer;\n",
              "      display: none;\n",
              "      fill: #1967D2;\n",
              "      height: 32px;\n",
              "      padding: 0 0 0 0;\n",
              "      width: 32px;\n",
              "    }\n",
              "\n",
              "    .colab-df-convert:hover {\n",
              "      background-color: #E2EBFA;\n",
              "      box-shadow: 0px 1px 2px rgba(60, 64, 67, 0.3), 0px 1px 3px 1px rgba(60, 64, 67, 0.15);\n",
              "      fill: #174EA6;\n",
              "    }\n",
              "\n",
              "    [theme=dark] .colab-df-convert {\n",
              "      background-color: #3B4455;\n",
              "      fill: #D2E3FC;\n",
              "    }\n",
              "\n",
              "    [theme=dark] .colab-df-convert:hover {\n",
              "      background-color: #434B5C;\n",
              "      box-shadow: 0px 1px 3px 1px rgba(0, 0, 0, 0.15);\n",
              "      filter: drop-shadow(0px 1px 2px rgba(0, 0, 0, 0.3));\n",
              "      fill: #FFFFFF;\n",
              "    }\n",
              "  </style>\n",
              "\n",
              "      <script>\n",
              "        const buttonEl =\n",
              "          document.querySelector('#df-9d60c444-da8d-491d-ba4a-99eb23d5e50b button.colab-df-convert');\n",
              "        buttonEl.style.display =\n",
              "          google.colab.kernel.accessAllowed ? 'block' : 'none';\n",
              "\n",
              "        async function convertToInteractive(key) {\n",
              "          const element = document.querySelector('#df-9d60c444-da8d-491d-ba4a-99eb23d5e50b');\n",
              "          const dataTable =\n",
              "            await google.colab.kernel.invokeFunction('convertToInteractive',\n",
              "                                                     [key], {});\n",
              "          if (!dataTable) return;\n",
              "\n",
              "          const docLinkHtml = 'Like what you see? Visit the ' +\n",
              "            '<a target=\"_blank\" href=https://colab.research.google.com/notebooks/data_table.ipynb>data table notebook</a>'\n",
              "            + ' to learn more about interactive tables.';\n",
              "          element.innerHTML = '';\n",
              "          dataTable['output_type'] = 'display_data';\n",
              "          await google.colab.output.renderOutput(dataTable, element);\n",
              "          const docLink = document.createElement('div');\n",
              "          docLink.innerHTML = docLinkHtml;\n",
              "          element.appendChild(docLink);\n",
              "        }\n",
              "      </script>\n",
              "    </div>\n",
              "  </div>\n",
              "  "
            ]
          },
          "metadata": {},
          "execution_count": 3
        }
      ]
    },
    {
      "cell_type": "code",
      "source": [
        "male_sleep = df[\"15歳以上の平均睡眠時間（男）\"]\n",
        "female_sleep = df[\"15歳以上の平均睡眠時間（女）\"] "
      ],
      "metadata": {
        "id": "0fx4PZc-op1Y"
      },
      "execution_count": 4,
      "outputs": []
    },
    {
      "cell_type": "code",
      "source": [
        "fig = qqplot(male_sleep,line=\"r\")"
      ],
      "metadata": {
        "colab": {
          "base_uri": "https://localhost:8080/",
          "height": 277
        },
        "id": "PJXfzGx_TLHR",
        "outputId": "1aa38ada-9e7d-433d-bcd4-90649f0e4734"
      },
      "execution_count": 5,
      "outputs": [
        {
          "output_type": "display_data",
          "data": {
            "text/plain": [
              "<Figure size 432x288 with 1 Axes>"
            ],
            "image/png": "[encoded data removed]"
          },
          "metadata": {
            "needs_background": "light"
          }
        }
      ]
    },
    {
      "cell_type": "code",
      "source": [
        "fig = qqplot(female_sleep,line=\"r\")"
      ],
      "metadata": {
        "colab": {
          "base_uri": "https://localhost:8080/",
          "height": 277
        },
        "id": "hM4X5YbKVWSq",
        "outputId": "17f45a8c-d9a5-4918-b61e-9c0ecca520e2"
      },
      "execution_count": 6,
      "outputs": [
        {
          "output_type": "display_data",
          "data": {
            "text/plain": [
              "<Figure size 432x288 with 1 Axes>"
            ],
            "image/png": "[encoded data removed]"
          },
          "metadata": {
            "needs_background": "light"
          }
        }
      ]
    },
    {
      "cell_type": "markdown",
      "source": [
        "以下ではシャピロ=ウィルク検定を行っています。"
      ],
      "metadata": {
        "id": "eEj2CzbrXjup"
      }
    },
    {
      "cell_type": "code",
      "source": [
        "to , pp = tuple(stats.shapiro(male_sleep))\n",
        "\n",
        "pp = float(Decimal(str(pp*100)).quantize(Decimal('0.001'), rounding=ROUND_HALF_UP))\n",
        "print(f\"p値：{pp}%\")"
      ],
      "metadata": {
        "colab": {
          "base_uri": "https://localhost:8080/"
        },
        "id": "MqR4t_S-XluX",
        "outputId": "0b07cc55-beb6-4aa3-8af3-140e6feed70a"
      },
      "execution_count": 7,
      "outputs": [
        {
          "output_type": "stream",
          "name": "stdout",
          "text": [
            "p値：56.967%\n"
          ]
        }
      ]
    },
    {
      "cell_type": "markdown",
      "source": [
        "* $p$値が$5$%より大きくなった\n",
        "\n",
        "この一点から、帰無仮説$H_0$を棄却することができません。  \n",
        "よって、対立仮説$H_1$を採択しません。"
      ],
      "metadata": {
        "id": "TdS84iMvZfpD"
      }
    },
    {
      "cell_type": "code",
      "source": [
        "print(\"したがって、男性の睡眠時間の分布は正規分布に従わないとは言えない\")"
      ],
      "metadata": {
        "colab": {
          "base_uri": "https://localhost:8080/"
        },
        "id": "1y_N637XZibD",
        "outputId": "bff6bd41-0585-4ce4-e86a-385c2d6f8067"
      },
      "execution_count": 8,
      "outputs": [
        {
          "output_type": "stream",
          "name": "stdout",
          "text": [
            "したがって、男性の睡眠時間の分布は正規分布に従わないとは言えない\n"
          ]
        }
      ]
    },
    {
      "cell_type": "code",
      "source": [
        "to , pp = tuple(stats.shapiro(female_sleep))\n",
        "\n",
        "pp = float(Decimal(str(pp*100)).quantize(Decimal('0.001'),rounding=ROUND_HALF_UP))\n",
        "print(f\"p値：{pp}%\")"
      ],
      "metadata": {
        "colab": {
          "base_uri": "https://localhost:8080/"
        },
        "id": "7J8z2OWMZq7q",
        "outputId": "968f6fa1-b378-4bfa-873e-4e0cac09f70b"
      },
      "execution_count": 9,
      "outputs": [
        {
          "output_type": "stream",
          "name": "stdout",
          "text": [
            "p値：0.566%\n"
          ]
        }
      ]
    },
    {
      "cell_type": "markdown",
      "source": [
        "* $p$値が$5$%より小さくなった\n",
        "\n",
        "この一点から、帰無仮説$H_0$を棄却することができます。  \n",
        "よって、対立仮説$H_1$を採択します。"
      ],
      "metadata": {
        "id": "nAKpnKDdZxRq"
      }
    },
    {
      "cell_type": "code",
      "source": [
        "print(\"したがって、女性の睡眠時間の分布は正規分布に従わない\")"
      ],
      "metadata": {
        "colab": {
          "base_uri": "https://localhost:8080/"
        },
        "id": "zPA7JxIqZ31T",
        "outputId": "28d918a4-abe8-4799-ecd8-70158f902ef4"
      },
      "execution_count": 10,
      "outputs": [
        {
          "output_type": "stream",
          "name": "stdout",
          "text": [
            "したがって、女性の睡眠時間の分布は正規分布に従わない\n"
          ]
        }
      ]
    },
    {
      "cell_type": "markdown",
      "source": [
        "Pythonによるシャピロ=ウィルク検定は、  \n",
        "**外れ値の影響を強く受ける**ため、注意しましょう。"
      ],
      "metadata": {
        "id": "597zXW4aaB8K"
      }
    },
    {
      "cell_type": "markdown",
      "source": [
        "## 等分散性の検定"
      ],
      "metadata": {
        "id": "gM9MJX4RaSwh"
      }
    },
    {
      "cell_type": "markdown",
      "source": [
        "等分散性の検定には色々なものがあります。  \n",
        "今回は2つの母集団の分散の検定に特化した、**F検定**を行っていきます。"
      ],
      "metadata": {
        "id": "U8szsFd3dJBb"
      }
    },
    {
      "cell_type": "markdown",
      "source": [
        "2つの標本から得た不偏分散を使って  \n",
        "母分散が等しいかを検定していきましょう。\n",
        "\n",
        "ここでは都道府県別の男性と女性の睡眠時間の分散に差があるかを検定します。  \n",
        "`todohuken_kaidata.csv`をインポートしてください。\n"
      ],
      "metadata": {
        "id": "bAjfs8_Wd7fb"
      }
    },
    {
      "cell_type": "markdown",
      "source": [
        "### 仮説検定のステップ（再掲）\n",
        "①帰無仮説と対立仮説を立てる  \n",
        "②帰無仮説のもとで標本観察を行う  \n",
        "③帰無仮説を棄却できるかどうかを確認する"
      ],
      "metadata": {
        "id": "6gnkV7e6ds0C"
      }
    },
    {
      "cell_type": "markdown",
      "source": [
        "#### ① 帰無仮説と対立仮説を立てる  "
      ],
      "metadata": {
        "id": "MmcrHheXds0C"
      }
    },
    {
      "cell_type": "markdown",
      "source": [
        "帰無仮説と対立仮説は以下のようになります。（**両側検定**になります）  \n",
        "\n",
        "帰無仮説$H_0$：「男性と女性の間で睡眠時間の分散に差がない」  \n",
        "対立仮説$H_1$：「男性と女性の間で睡眠時間の分散に差がある」"
      ],
      "metadata": {
        "id": "vHFzX88Uds0D"
      }
    },
    {
      "cell_type": "markdown",
      "source": [
        "#### ② 帰無仮説のもとで標本観察を行う "
      ],
      "metadata": {
        "id": "oU82JQyMGyk7"
      }
    },
    {
      "cell_type": "markdown",
      "source": [
        "それぞれの母集団の平均を $\\mu_1 , \\mu_2$ 、標準偏差を $\\sigma_1,\\sigma_2$、  \n",
        "標本平均を $\\bar{x}_1,\\bar{x}_2$、不偏分散を $s^{'2}_1,s^{'2}_2$ とした場合を考えます。"
      ],
      "metadata": {
        "id": "Bw8gsoWNGyk8"
      }
    },
    {
      "cell_type": "markdown",
      "source": [
        "二つの標本の不偏分散の比は、一つの確率変数になります。  \n",
        "（通常、大きい方を分子に置きます）\n",
        "\n",
        "$$\n",
        "F=\\frac{{s’_1}^2}{{s’_2}^2}\n",
        "$$\n",
        "\n",
        "大きい方の不偏分散を分子に置くので、$F$値は常に$1$以上になります。"
      ],
      "metadata": {
        "id": "J0GR9ci1fKO6"
      }
    },
    {
      "cell_type": "markdown",
      "source": [
        "この「不偏分散の比」が従う確率分布を$F$**分布**と呼びます。"
      ],
      "metadata": {
        "id": "E0k2He78fbJw"
      }
    },
    {
      "cell_type": "markdown",
      "source": [
        "$F$分布はよくカイ二乗$\\chi^2$を使って表されます。\n",
        "\n",
        "$$\n",
        "\\chi^2=\\sum^{n}_{i=1}\\frac{(x_i-\\bar{x})^2}{\\sigma^2}=\\frac{(n-1)s’^2}{\\sigma^2}\n",
        "$$"
      ],
      "metadata": {
        "id": "_rWsWigPfq8p"
      }
    },
    {
      "cell_type": "markdown",
      "source": [
        "この式を用いて先ほどの$F$を変形します。\n",
        "\n",
        "$$\n",
        "F=\\frac{\\frac{1}{n_1-1}\\chi^2_1\\sigma^2_1}{\\frac{1}{n_2-1}\\chi^2_2\\sigma^2_2}\n",
        "$$"
      ],
      "metadata": {
        "id": "i0fV3j5NgNjH"
      }
    },
    {
      "cell_type": "markdown",
      "source": [
        "今回は帰無仮説が正しいと仮定しているので、$\\sigma_1^2=\\sigma_2^2$ となります。\n",
        "\n",
        "$$\n",
        "F=\\frac{\\frac{1}{n_1-1}\\chi^2_1}{\\frac{1}{n_2-1}\\chi^2_2}\n",
        "$$"
      ],
      "metadata": {
        "id": "copaWfRDgfYG"
      }
    },
    {
      "cell_type": "markdown",
      "source": [
        "自由度は $n_1-1$と$n_2-1$ の二つあることに注意して、  \n",
        "上の式に従って$F$値を導出します。"
      ],
      "metadata": {
        "id": "JW_WVYpHhPKM"
      }
    },
    {
      "cell_type": "markdown",
      "source": [
        "#### ③ 帰無仮説を棄却できるかどうかを確認する"
      ],
      "metadata": {
        "id": "5d_jmR0-hiMm"
      }
    },
    {
      "cell_type": "markdown",
      "source": [
        "有意水準を$5$%に設定します。\n",
        "\n",
        "($p$**値を求めて**) 棄却が必要かどうか決めます。  "
      ],
      "metadata": {
        "id": "RRwWJ8oRhiMm"
      }
    },
    {
      "cell_type": "markdown",
      "source": [
        "### Pythonによる仮説検定"
      ],
      "metadata": {
        "id": "AiZjJmUaiSSH"
      }
    },
    {
      "cell_type": "markdown",
      "source": [
        "検定を行う前に、$F$分布がどんな感じか確認してみましょう。"
      ],
      "metadata": {
        "id": "BtL555XxiXnt"
      }
    },
    {
      "cell_type": "code",
      "source": [
        "x = np.linspace(0,3,100)\n",
        "\n",
        "for dfn in range(1,10,4):\n",
        "  for dfd in range(1,10,4):\n",
        "    y = f.pdf(x,dfn=dfn,dfd=dfd)\n",
        "    plt.plot(x,y,label=f\"dfn:{dfn},dfd:{dfd}\")\n",
        "plt.legend()"
      ],
      "metadata": {
        "colab": {
          "base_uri": "https://localhost:8080/",
          "height": 281
        },
        "id": "YCP3RnggjAoT",
        "outputId": "e8dd729b-24b9-4983-db8c-e6702eb5caed"
      },
      "execution_count": 11,
      "outputs": [
        {
          "output_type": "execute_result",
          "data": {
            "text/plain": [
              "<matplotlib.legend.Legend at 0x7f997f9bf730>"
            ]
          },
          "metadata": {},
          "execution_count": 11
        },
        {
          "output_type": "display_data",
          "data": {
            "text/plain": [
              "<Figure size 432x288 with 1 Axes>"
            ],
            "image/png": "[encoded data removed]"
          },
          "metadata": {
            "needs_background": "light"
          }
        }
      ]
    },
    {
      "cell_type": "markdown",
      "source": [
        "では等分散性の検定を行っていきましょう。"
      ],
      "metadata": {
        "id": "KgHI_9YiiSSI"
      }
    },
    {
      "cell_type": "code",
      "source": [
        "df = pd.read_csv(\"todohuken_kaidata.csv\")\n",
        "df.head(3)"
      ],
      "metadata": {
        "colab": {
          "base_uri": "https://localhost:8080/",
          "height": 430
        },
        "id": "m0oUBzOFf7zZ",
        "outputId": "5594ed9a-1989-4736-a9ae-021530fbae44"
      },
      "execution_count": 12,
      "outputs": [
        {
          "output_type": "execute_result",
          "data": {
            "text/plain": [
              "  都道府県     地方  15歳以上の平均睡眠時間（男）  15歳以上の平均睡眠時間（女）  運転免許保有者割合（%）  \\\n",
              "0  北海道  北海道地方              473              465          63.4   \n",
              "1  青森県   東北地方              486              470          66.4   \n",
              "2  岩手県   東北地方              477              469          67.6   \n",
              "\n",
              "   農業従事者（人口100人あたり）  平均通勤時間（片道）  自動車保有台数（人口100人あたり）  鉄道旅客輸送量(人口一人あたり)  \n",
              "0              1.79        20.2               68.67             65.90  \n",
              "1              4.95        20.2               77.65             13.10  \n",
              "2              5.50        20.0               80.55             20.86  "
            ],
            "text/html": [
              "\n",
              "  <div id=\"df-32f0ab0d-b14f-4f36-b0fc-281b1ffff823\">\n",
              "    <div class=\"colab-df-container\">\n",
              "      <div>\n",
              "<style scoped>\n",
              "    .dataframe tbody tr th:only-of-type {\n",
              "        vertical-align: middle;\n",
              "    }\n",
              "\n",
              "    .dataframe tbody tr th {\n",
              "        vertical-align: top;\n",
              "    }\n",
              "\n",
              "    .dataframe thead th {\n",
              "        text-align: right;\n",
              "    }\n",
              "</style>\n",
              "<table border=\"1\" class=\"dataframe\">\n",
              "  <thead>\n",
              "    <tr style=\"text-align: right;\">\n",
              "      <th></th>\n",
              "      <th>都道府県</th>\n",
              "      <th>地方</th>\n",
              "      <th>15歳以上の平均睡眠時間（男）</th>\n",
              "      <th>15歳以上の平均睡眠時間（女）</th>\n",
              "      <th>運転免許保有者割合（%）</th>\n",
              "      <th>農業従事者（人口100人あたり）</th>\n",
              "      <th>平均通勤時間（片道）</th>\n",
              "      <th>自動車保有台数（人口100人あたり）</th>\n",
              "      <th>鉄道旅客輸送量(人口一人あたり)</th>\n",
              "    </tr>\n",
              "  </thead>\n",
              "  <tbody>\n",
              "    <tr>\n",
              "      <th>0</th>\n",
              "      <td>北海道</td>\n",
              "      <td>北海道地方</td>\n",
              "      <td>473</td>\n",
              "      <td>465</td>\n",
              "      <td>63.4</td>\n",
              "      <td>1.79</td>\n",
              "      <td>20.2</td>\n",
              "      <td>68.67</td>\n",
              "      <td>65.90</td>\n",
              "    </tr>\n",
              "    <tr>\n",
              "      <th>1</th>\n",
              "      <td>青森県</td>\n",
              "      <td>東北地方</td>\n",
              "      <td>486</td>\n",
              "      <td>470</td>\n",
              "      <td>66.4</td>\n",
              "      <td>4.95</td>\n",
              "      <td>20.2</td>\n",
              "      <td>77.65</td>\n",
              "      <td>13.10</td>\n",
              "    </tr>\n",
              "    <tr>\n",
              "      <th>2</th>\n",
              "      <td>岩手県</td>\n",
              "      <td>東北地方</td>\n",
              "      <td>477</td>\n",
              "      <td>469</td>\n",
              "      <td>67.6</td>\n",
              "      <td>5.50</td>\n",
              "      <td>20.0</td>\n",
              "      <td>80.55</td>\n",
              "      <td>20.86</td>\n",
              "    </tr>\n",
              "  </tbody>\n",
              "</table>\n",
              "</div>\n",
              "      <button class=\"colab-df-convert\" onclick=\"convertToInteractive('df-32f0ab0d-b14f-4f36-b0fc-281b1ffff823')\"\n",
              "              title=\"Convert this dataframe to an interactive table.\"\n",
              "              style=\"display:none;\">\n",
              "        \n",
              "  <svg xmlns=\"http://www.w3.org/2000/svg\" height=\"24px\"viewBox=\"0 0 24 24\"\n",
              "       width=\"24px\">\n",
              "    <path d=\"M0 0h24v24H0V0z\" fill=\"none\"/>\n",
              "    <path d=\"M18.56 5.44l.94 2.06.94-2.06 2.06-.94-2.06-.94-.94-2.06-.94 2.06-2.06.94zm-11 1L8.5 8.5l.94-2.06 2.06-.94-2.06-.94L8.5 2.5l-.94 2.06-2.06.94zm10 10l.94 2.06.94-2.06 2.06-.94-2.06-.94-.94-2.06-.94 2.06-2.06.94z\"/><path d=\"M17.41 7.96l-1.37-1.37c-.4-.4-.92-.59-1.43-.59-.52 0-1.04.2-1.43.59L10.3 9.45l-7.72 7.72c-.78.78-.78 2.05 0 2.83L4 21.41c.39.39.9.59 1.41.59.51 0 1.02-.2 1.41-.59l7.78-7.78 2.81-2.81c.8-.78.8-2.07 0-2.86zM5.41 20L4 18.59l7.72-7.72 1.47 1.35L5.41 20z\"/>\n",
              "  </svg>\n",
              "      </button>\n",
              "      \n",
              "  <style>\n",
              "    .colab-df-container {\n",
              "      display:flex;\n",
              "      flex-wrap:wrap;\n",
              "      gap: 12px;\n",
              "    }\n",
              "\n",
              "    .colab-df-convert {\n",
              "      background-color: #E8F0FE;\n",
              "      border: none;\n",
              "      border-radius: 50%;\n",
              "      cursor: pointer;\n",
              "      display: none;\n",
              "      fill: #1967D2;\n",
              "      height: 32px;\n",
              "      padding: 0 0 0 0;\n",
              "      width: 32px;\n",
              "    }\n",
              "\n",
              "    .colab-df-convert:hover {\n",
              "      background-color: #E2EBFA;\n",
              "      box-shadow: 0px 1px 2px rgba(60, 64, 67, 0.3), 0px 1px 3px 1px rgba(60, 64, 67, 0.15);\n",
              "      fill: #174EA6;\n",
              "    }\n",
              "\n",
              "    [theme=dark] .colab-df-convert {\n",
              "      background-color: #3B4455;\n",
              "      fill: #D2E3FC;\n",
              "    }\n",
              "\n",
              "    [theme=dark] .colab-df-convert:hover {\n",
              "      background-color: #434B5C;\n",
              "      box-shadow: 0px 1px 3px 1px rgba(0, 0, 0, 0.15);\n",
              "      filter: drop-shadow(0px 1px 2px rgba(0, 0, 0, 0.3));\n",
              "      fill: #FFFFFF;\n",
              "    }\n",
              "  </style>\n",
              "\n",
              "      <script>\n",
              "        const buttonEl =\n",
              "          document.querySelector('#df-32f0ab0d-b14f-4f36-b0fc-281b1ffff823 button.colab-df-convert');\n",
              "        buttonEl.style.display =\n",
              "          google.colab.kernel.accessAllowed ? 'block' : 'none';\n",
              "\n",
              "        async function convertToInteractive(key) {\n",
              "          const element = document.querySelector('#df-32f0ab0d-b14f-4f36-b0fc-281b1ffff823');\n",
              "          const dataTable =\n",
              "            await google.colab.kernel.invokeFunction('convertToInteractive',\n",
              "                                                     [key], {});\n",
              "          if (!dataTable) return;\n",
              "\n",
              "          const docLinkHtml = 'Like what you see? Visit the ' +\n",
              "            '<a target=\"_blank\" href=https://colab.research.google.com/notebooks/data_table.ipynb>data table notebook</a>'\n",
              "            + ' to learn more about interactive tables.';\n",
              "          element.innerHTML = '';\n",
              "          dataTable['output_type'] = 'display_data';\n",
              "          await google.colab.output.renderOutput(dataTable, element);\n",
              "          const docLink = document.createElement('div');\n",
              "          docLink.innerHTML = docLinkHtml;\n",
              "          element.appendChild(docLink);\n",
              "        }\n",
              "      </script>\n",
              "    </div>\n",
              "  </div>\n",
              "  "
            ]
          },
          "metadata": {},
          "execution_count": 12
        }
      ]
    },
    {
      "cell_type": "code",
      "source": [
        "male_sleep = df[\"15歳以上の平均睡眠時間（男）\"]\n",
        "female_sleep = df[\"15歳以上の平均睡眠時間（女）\"]\n",
        "\n",
        "n1 = len(male_sleep)\n",
        "n2 = len(female_sleep)\n",
        "dfn = n1 -1\n",
        "dfd = n2 -1\n",
        "var1 = stats.tvar(male_sleep)\n",
        "var2 = stats.tvar(female_sleep)\n",
        "ff = var1/var2\n",
        "print(ff)"
      ],
      "metadata": {
        "colab": {
          "base_uri": "https://localhost:8080/"
        },
        "id": "OM8xPNHGszno",
        "outputId": "0762924f-7702-4240-9f5d-2c378466442c"
      },
      "execution_count": 13,
      "outputs": [
        {
          "output_type": "stream",
          "name": "stdout",
          "text": [
            "1.1741449639159087\n"
          ]
        }
      ]
    },
    {
      "cell_type": "markdown",
      "source": [
        "この$F$分布における有意水準$5$%に対応する値は$1.795$です。"
      ],
      "metadata": {
        "id": "lD8biY6P91i2"
      }
    },
    {
      "cell_type": "code",
      "source": [
        "fk = stats.f(dfn=dfn , dfd=dfd).ppf(0.975)\n",
        "fk"
      ],
      "metadata": {
        "colab": {
          "base_uri": "https://localhost:8080/"
        },
        "id": "pYiYL8oItxD3",
        "outputId": "eff5db4a-81ac-4a81-b0e1-17fef1be3575"
      },
      "execution_count": 14,
      "outputs": [
        {
          "output_type": "execute_result",
          "data": {
            "text/plain": [
              "1.795323201005244"
            ]
          },
          "metadata": {},
          "execution_count": 14
        }
      ]
    },
    {
      "cell_type": "code",
      "source": [
        "nyp = float(Decimal(str(stats.f(dfn=dfn , dfd=dfd).sf(fk)*100)).quantize(Decimal('0.001'),\n",
        "                                                     rounding=ROUND_HALF_UP))\n",
        "print(f\"有意水準：{nyp}%\")    # 右側の棄却域の面積\n",
        "nkp = float(Decimal(str(stats.f(dfn=dfn , dfd=dfd).sf(ff)*100)).quantize(Decimal('0.000001'),\n",
        "                                                     rounding=ROUND_HALF_UP))\n",
        "print(f\"p値：{nkp}%\")"
      ],
      "metadata": {
        "colab": {
          "base_uri": "https://localhost:8080/"
        },
        "id": "rVC2KzXp0FJK",
        "outputId": "5695a2a9-3cd1-4188-d3d0-fefc31a8de0e"
      },
      "execution_count": 15,
      "outputs": [
        {
          "output_type": "stream",
          "name": "stdout",
          "text": [
            "有意水準：2.5%\n",
            "p値：29.41921%\n"
          ]
        }
      ]
    },
    {
      "cell_type": "code",
      "source": [
        "print(\"p値が有意水準より大きくなったので、帰無仮説を棄却せず、対立仮説を採択しない\")\n",
        "print(\"したがって、男性と女性の間で睡眠時間の分散に差がないとはいえない\")"
      ],
      "metadata": {
        "colab": {
          "base_uri": "https://localhost:8080/"
        },
        "id": "AgEs5Xym1M3Q",
        "outputId": "5fd12b21-6851-4f29-a875-538e8ee54e56"
      },
      "execution_count": 16,
      "outputs": [
        {
          "output_type": "stream",
          "name": "stdout",
          "text": [
            "p値が有意水準より大きくなったので、帰無仮説を棄却せず、対立仮説を採択しない\n",
            "したがって、男性と女性の間で睡眠時間の分散に差がないとはいえない\n"
          ]
        }
      ]
    },
    {
      "cell_type": "markdown",
      "source": [
        "よって男性と女性の平均睡眠時間の差を検定したい場合は  \n",
        "**ウェルチの$t$検定**を行うべきであると分かります。"
      ],
      "metadata": {
        "id": "GiTa2zJH2p1V"
      }
    },
    {
      "cell_type": "markdown",
      "source": [
        "### Pythonによる$F$分布の描画"
      ],
      "metadata": {
        "id": "1TmAdf7K2BK_"
      }
    },
    {
      "cell_type": "code",
      "source": [
        "x = np.linspace(0,3,100)\n",
        "y = stats.f(dfn=dfn , dfd=dfd).pdf(x)\n",
        "plt.plot(x,y)\n",
        "\n",
        "\"\"\"\n",
        "****************************************\n",
        "グラフの書式設定\n",
        "****************************************\n",
        "\"\"\"\n",
        "plt.title(\"$F$分布\")   # タイトル\n",
        "plt.vlines(1.795, 0, stats.f(dfn=dfn , dfd=dfd).pdf(1.795),color=\"black\", lw=0.8)\n",
        "plt.vlines(ff, 0, stats.f(dfn=dfn , dfd=dfd).pdf(ff),color=\"black\", lw=0.8)\n",
        "plt.text(ff-0.15, -0.120, '1.174', fontsize = 12) \n",
        "plt.text(1.795-0.15, -0.120, '1.795', fontsize = 12)\n",
        "plt.xticks(color=\"None\") \n",
        "plt.xlim(0, 3)  # X軸範囲\n",
        "plt.ylim(0, 1.6)  # Y軸範囲\n",
        "plt.legend()  # 凡例\n",
        "plt.show()"
      ],
      "metadata": {
        "colab": {
          "base_uri": "https://localhost:8080/",
          "height": 301
        },
        "id": "qG4FQK4JuOGN",
        "outputId": "cc718992-e9bd-465e-9966-d0638cb72025"
      },
      "execution_count": 17,
      "outputs": [
        {
          "output_type": "stream",
          "name": "stderr",
          "text": [
            "WARNING:matplotlib.legend:No handles with labels found to put in legend.\n"
          ]
        },
        {
          "output_type": "display_data",
          "data": {
            "text/plain": [
              "<Figure size 432x288 with 1 Axes>"
            ],
            "image/png": "[encoded data removed]"
          },
          "metadata": {
            "needs_background": "light"
          }
        }
      ]
    },
    {
      "cell_type": "markdown",
      "source": [
        "### 演習"
      ],
      "metadata": {
        "id": "_a08WWq02_KE"
      }
    },
    {
      "cell_type": "markdown",
      "source": [
        "[こちら](https://bit.ly/3KfjOxi)の両側検定を行ってみましょう。  \n",
        "\n",
        "有意水準は$5$%とします。"
      ],
      "metadata": {
        "id": "5Xs8PlB03epH"
      }
    },
    {
      "cell_type": "code",
      "source": [
        "n1 = 26         # 1組の平均点\n",
        "n2 = 31         # 2組の平均点\n",
        "dfn = n1 -1     # 1組の自由度\n",
        "dfd = n2 -1     # 2組の自由度\n",
        "var1 = 20       # 1組の不偏分散\n",
        "var2 = 15       # 2組の不偏分散\n",
        "ff = var1/var2  # F値\n",
        "print(ff)"
      ],
      "metadata": {
        "colab": {
          "base_uri": "https://localhost:8080/"
        },
        "id": "QSmt8QbM3qBj",
        "outputId": "e77b481b-6c89-4025-ab80-4951bbb499c7"
      },
      "execution_count": 18,
      "outputs": [
        {
          "output_type": "stream",
          "name": "stdout",
          "text": [
            "1.3333333333333333\n"
          ]
        }
      ]
    },
    {
      "cell_type": "code",
      "source": [
        "print(\"H0 : 1組と2組の国語のテストの点数の分散は等しい\")\n",
        "print(\"H1 : 1組と2組の国語のテストの点数の分散は等しくない\")"
      ],
      "metadata": {
        "id": "g52rHtQn5X0K",
        "colab": {
          "base_uri": "https://localhost:8080/"
        },
        "outputId": "45d4006a-af35-4cb3-c868-0cca6c8d5210"
      },
      "execution_count": 19,
      "outputs": [
        {
          "output_type": "stream",
          "name": "stdout",
          "text": [
            "H0 : 1組と2組の国語のテストの点数の分散は等しい\n",
            "H1 : 1組と2組の国語のテストの点数の分散は等しくない\n"
          ]
        }
      ]
    },
    {
      "cell_type": "markdown",
      "source": [
        "この$F$分布における有意水準$5$%に対応する値は$2.124$です。"
      ],
      "metadata": {
        "id": "VzgRqnPA5NAE"
      }
    },
    {
      "cell_type": "code",
      "source": [
        "fk = stats.f(dfn=dfn , dfd=dfd).ppf(0.975)\n",
        "fk"
      ],
      "metadata": {
        "colab": {
          "base_uri": "https://localhost:8080/"
        },
        "outputId": "c4333264-00e3-41ec-fb22-803383ce2952",
        "id": "lyxLZ8Xr5NAE"
      },
      "execution_count": 20,
      "outputs": [
        {
          "output_type": "execute_result",
          "data": {
            "text/plain": [
              "2.1237175231782417"
            ]
          },
          "metadata": {},
          "execution_count": 20
        }
      ]
    },
    {
      "cell_type": "code",
      "source": [
        "nyp = float(Decimal(str(stats.f(dfn=dfn , dfd=dfd).sf(fk)*100)).quantize(Decimal('0.001'),\n",
        "                                                     rounding=ROUND_HALF_UP))\n",
        "print(f\"有意水準：{nyp}%\")    # 右側の棄却域の面積\n",
        "nkp = float(Decimal(str(stats.f(dfn=dfn , dfd=dfd).sf(ff)*100)).quantize(Decimal('0.000001'),\n",
        "                                                     rounding=ROUND_HALF_UP))\n",
        "print(f\"p値：{nkp}%\")"
      ],
      "metadata": {
        "colab": {
          "base_uri": "https://localhost:8080/"
        },
        "id": "N26Ujd745KUi",
        "outputId": "6036bfde-c833-4dfa-97b0-72e4020f0e7b"
      },
      "execution_count": 21,
      "outputs": [
        {
          "output_type": "stream",
          "name": "stdout",
          "text": [
            "有意水準：2.5%\n",
            "p値：22.422546%\n"
          ]
        }
      ]
    },
    {
      "cell_type": "code",
      "source": [
        "print(\"p値が有意水準より大きくなったので、帰無仮説を棄却せず、対立仮説を採択しない\")\n",
        "print(\"したがって、1組と2組の国語のテストの点数の分散は等しくないとはいえない\")"
      ],
      "metadata": {
        "colab": {
          "base_uri": "https://localhost:8080/"
        },
        "id": "H_KIHBzJ5t6n",
        "outputId": "c40b22ea-12c0-41b1-e654-13e0197b4cda"
      },
      "execution_count": 22,
      "outputs": [
        {
          "output_type": "stream",
          "name": "stdout",
          "text": [
            "p値が有意水準より大きくなったので、帰無仮説を棄却せず、対立仮説を採択しない\n",
            "したがって、1組と2組の国語のテストの点数の分散は等しくないとはいえない\n"
          ]
        }
      ]
    },
    {
      "cell_type": "markdown",
      "source": [
        "## 推定の多重性"
      ],
      "metadata": {
        "id": "-ONVxE_L33ea"
      }
    },
    {
      "cell_type": "markdown",
      "source": [
        "近年では、検定の前に検定を行うことは正しくないという指摘があります  \n",
        "（**推定の多重性**）。\n",
        "\n",
        "理由としては、連続して検定をすると、エラーが増幅されてしまうためです。\n",
        "\n"
      ],
      "metadata": {
        "id": "74dw10Su35ih"
      }
    },
    {
      "cell_type": "markdown",
      "source": [
        "最初から**ウェルチの$t$検定**を行い、等分散性を考えなくてもよいようにしましょう。  \n",
        "\n",
        "また、標本の数は最低でも$10$は欲しいところです。"
      ],
      "metadata": {
        "id": "GUN2vDzE4Yfb"
      }
    }
  ]
}