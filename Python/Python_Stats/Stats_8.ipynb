{
  "nbformat": 4,
  "nbformat_minor": 0,
  "metadata": {
    "colab": {
      "provenance": [],
      "authorship_tag": "ABX9TyO9H2FdQ1r8EaNmLwxJLlV4",
      "include_colab_link": true
    },
    "kernelspec": {
      "name": "python3",
      "display_name": "Python 3"
    },
    "language_info": {
      "name": "python"
    }
  },
  "cells": [
    {
      "cell_type": "markdown",
      "metadata": {
        "id": "view-in-github",
        "colab_type": "text"
      },
      "source": [
        "<a href=\"https://colab.research.google.com/github/kiryu-3/prosa/blob/main/Python/Python_Stats/Stats_8.ipynb\" target=\"_parent\"><img src=\"https://colab.research.google.com/assets/colab-badge.svg\" alt=\"Open In Colab\"/></a>"
      ]
    },
    {
      "cell_type": "markdown",
      "source": [
        "# 2変数間の記述統計"
      ],
      "metadata": {
        "id": "q203svqO4qQU"
      }
    },
    {
      "cell_type": "code",
      "source": [
        "import numpy as np\n",
        "import pandas as pd\n",
        "import matplotlib.pyplot as plt\n",
        "!pip install japanize-matplotlib\n",
        "import japanize_matplotlib\n",
        "import seaborn as sns\n",
        "from scipy import stats\n",
        "from scipy.stats import norm\n",
        "from scipy.stats import t\n",
        "from decimal import Decimal, ROUND_HALF_UP, ROUND_HALF_EVEN"
      ],
      "metadata": {
        "id": "5_dzuxJeKk1R"
      },
      "execution_count": null,
      "outputs": []
    },
    {
      "cell_type": "markdown",
      "source": [
        "## 共分散"
      ],
      "metadata": {
        "id": "r3SqIXHP5j01"
      }
    },
    {
      "cell_type": "markdown",
      "source": [
        "今回からは、**2変数**について扱っていきます。  "
      ],
      "metadata": {
        "id": "OD7BJwrV5lu2"
      }
    },
    {
      "cell_type": "markdown",
      "source": [
        "2つの変数$(x,y)$それぞれの偏差$(x_i-\\bar{x})$と$(y_i-\\bar{y})$を掛けた値の平均を  \n",
        "**共分散**と呼び、通常 $S_{xy}$ で表します。"
      ],
      "metadata": {
        "id": "qMitru2K57gH"
      }
    },
    {
      "cell_type": "markdown",
      "source": [
        "$$\n",
        "S_{xy} = \\frac{1}{n}\\sum_{i=1}^{n} (x_i-\\bar{x})(y_i-\\bar{y})\n",
        "$$"
      ],
      "metadata": {
        "id": "mLSuObuq7rwl"
      }
    },
    {
      "cell_type": "markdown",
      "source": [
        "「2変数の相関関係を表すのに使われる指標」です。\n",
        "\n",
        "※$n$で割るのか$n-1$で割るのかについては[こちら](https://bellcurve.jp/statistics/blog/13480.html)を参照して下さい"
      ],
      "metadata": {
        "id": "nQKmVFSb8c2z"
      }
    },
    {
      "cell_type": "markdown",
      "source": [
        "### 共分散行列"
      ],
      "metadata": {
        "id": "dmlN-RjWLwu6"
      }
    },
    {
      "cell_type": "markdown",
      "source": [
        "複数の変数間の分散と共分散を行列にしたものを**共分散行列**といいます。  \n",
        "\n",
        "変数が多くなると行列で扱えた方が便利です。"
      ],
      "metadata": {
        "id": "SvW73J2bLzGF"
      }
    },
    {
      "cell_type": "markdown",
      "source": [
        "＜例＞　変数$x,y$の場合\n",
        "\n",
        "$$\n",
        "S=\\begin{bmatrix}  \n",
        "s^2_{x} & s_{xy} \\\\  \n",
        "s_{xy} & s^2_{y}  \n",
        "\\end{bmatrix}\n",
        "$$"
      ],
      "metadata": {
        "id": "mYV3ZUuwL-af"
      }
    },
    {
      "cell_type": "markdown",
      "source": [
        "＜例＞　変数$X_1,X_2,…,X_n$の場合\n",
        "\n",
        "$$\n",
        "S=\\begin{bmatrix}  \n",
        "s_{11} & s_{12} & … & s_{1n}\\\\  \n",
        "s_{21} & s_{22} & … & s_{2n}\\\\  \n",
        "・ & ・ & ・ & ・\\\\  \n",
        "s_{n1} & s_{n2} & … & s_{nn}\\\\  \n",
        "\\end{bmatrix}\n",
        "$$"
      ],
      "metadata": {
        "id": "feXFRZJiUR8W"
      }
    },
    {
      "cell_type": "markdown",
      "source": [
        "実際どんな感じになるのか見てみましょう。  \n",
        "`todohuken_kaidata.csv`をインポートしてください。"
      ],
      "metadata": {
        "id": "LZudeq6mNlhS"
      }
    },
    {
      "cell_type": "code",
      "execution_count": null,
      "metadata": {
        "colab": {
          "base_uri": "https://localhost:8080/",
          "height": 430
        },
        "id": "ex1xFnxE2Wl8",
        "outputId": "46a6f784-d6d1-4b3d-94fb-a99aab5202f2"
      },
      "outputs": [
        {
          "output_type": "execute_result",
          "data": {
            "text/plain": [
              "  都道府県     地方  15歳以上の平均睡眠時間（男）  15歳以上の平均睡眠時間（女）  運転免許保有者割合（%）  \\\n",
              "0  北海道  北海道地方              473              465          63.4   \n",
              "1  青森県   東北地方              486              470          66.4   \n",
              "2  岩手県   東北地方              477              469          67.6   \n",
              "\n",
              "   農業従事者（人口100人あたり）  平均通勤時間（片道）  自動車保有台数（人口100人あたり）  鉄道旅客輸送量(人口一人あたり)  \n",
              "0              1.79        20.2               68.67             65.90  \n",
              "1              4.95        20.2               77.65             13.10  \n",
              "2              5.50        20.0               80.55             20.86  "
            ],
            "text/html": [
              "\n",
              "  <div id=\"df-a4cb3775-f2d9-494c-93cb-0c1eb69c1b32\">\n",
              "    <div class=\"colab-df-container\">\n",
              "      <div>\n",
              "<style scoped>\n",
              "    .dataframe tbody tr th:only-of-type {\n",
              "        vertical-align: middle;\n",
              "    }\n",
              "\n",
              "    .dataframe tbody tr th {\n",
              "        vertical-align: top;\n",
              "    }\n",
              "\n",
              "    .dataframe thead th {\n",
              "        text-align: right;\n",
              "    }\n",
              "</style>\n",
              "<table border=\"1\" class=\"dataframe\">\n",
              "  <thead>\n",
              "    <tr style=\"text-align: right;\">\n",
              "      <th></th>\n",
              "      <th>都道府県</th>\n",
              "      <th>地方</th>\n",
              "      <th>15歳以上の平均睡眠時間（男）</th>\n",
              "      <th>15歳以上の平均睡眠時間（女）</th>\n",
              "      <th>運転免許保有者割合（%）</th>\n",
              "      <th>農業従事者（人口100人あたり）</th>\n",
              "      <th>平均通勤時間（片道）</th>\n",
              "      <th>自動車保有台数（人口100人あたり）</th>\n",
              "      <th>鉄道旅客輸送量(人口一人あたり)</th>\n",
              "    </tr>\n",
              "  </thead>\n",
              "  <tbody>\n",
              "    <tr>\n",
              "      <th>0</th>\n",
              "      <td>北海道</td>\n",
              "      <td>北海道地方</td>\n",
              "      <td>473</td>\n",
              "      <td>465</td>\n",
              "      <td>63.4</td>\n",
              "      <td>1.79</td>\n",
              "      <td>20.2</td>\n",
              "      <td>68.67</td>\n",
              "      <td>65.90</td>\n",
              "    </tr>\n",
              "    <tr>\n",
              "      <th>1</th>\n",
              "      <td>青森県</td>\n",
              "      <td>東北地方</td>\n",
              "      <td>486</td>\n",
              "      <td>470</td>\n",
              "      <td>66.4</td>\n",
              "      <td>4.95</td>\n",
              "      <td>20.2</td>\n",
              "      <td>77.65</td>\n",
              "      <td>13.10</td>\n",
              "    </tr>\n",
              "    <tr>\n",
              "      <th>2</th>\n",
              "      <td>岩手県</td>\n",
              "      <td>東北地方</td>\n",
              "      <td>477</td>\n",
              "      <td>469</td>\n",
              "      <td>67.6</td>\n",
              "      <td>5.50</td>\n",
              "      <td>20.0</td>\n",
              "      <td>80.55</td>\n",
              "      <td>20.86</td>\n",
              "    </tr>\n",
              "  </tbody>\n",
              "</table>\n",
              "</div>\n",
              "      <button class=\"colab-df-convert\" onclick=\"convertToInteractive('df-a4cb3775-f2d9-494c-93cb-0c1eb69c1b32')\"\n",
              "              title=\"Convert this dataframe to an interactive table.\"\n",
              "              style=\"display:none;\">\n",
              "        \n",
              "  <svg xmlns=\"http://www.w3.org/2000/svg\" height=\"24px\"viewBox=\"0 0 24 24\"\n",
              "       width=\"24px\">\n",
              "    <path d=\"M0 0h24v24H0V0z\" fill=\"none\"/>\n",
              "    <path d=\"M18.56 5.44l.94 2.06.94-2.06 2.06-.94-2.06-.94-.94-2.06-.94 2.06-2.06.94zm-11 1L8.5 8.5l.94-2.06 2.06-.94-2.06-.94L8.5 2.5l-.94 2.06-2.06.94zm10 10l.94 2.06.94-2.06 2.06-.94-2.06-.94-.94-2.06-.94 2.06-2.06.94z\"/><path d=\"M17.41 7.96l-1.37-1.37c-.4-.4-.92-.59-1.43-.59-.52 0-1.04.2-1.43.59L10.3 9.45l-7.72 7.72c-.78.78-.78 2.05 0 2.83L4 21.41c.39.39.9.59 1.41.59.51 0 1.02-.2 1.41-.59l7.78-7.78 2.81-2.81c.8-.78.8-2.07 0-2.86zM5.41 20L4 18.59l7.72-7.72 1.47 1.35L5.41 20z\"/>\n",
              "  </svg>\n",
              "      </button>\n",
              "      \n",
              "  <style>\n",
              "    .colab-df-container {\n",
              "      display:flex;\n",
              "      flex-wrap:wrap;\n",
              "      gap: 12px;\n",
              "    }\n",
              "\n",
              "    .colab-df-convert {\n",
              "      background-color: #E8F0FE;\n",
              "      border: none;\n",
              "      border-radius: 50%;\n",
              "      cursor: pointer;\n",
              "      display: none;\n",
              "      fill: #1967D2;\n",
              "      height: 32px;\n",
              "      padding: 0 0 0 0;\n",
              "      width: 32px;\n",
              "    }\n",
              "\n",
              "    .colab-df-convert:hover {\n",
              "      background-color: #E2EBFA;\n",
              "      box-shadow: 0px 1px 2px rgba(60, 64, 67, 0.3), 0px 1px 3px 1px rgba(60, 64, 67, 0.15);\n",
              "      fill: #174EA6;\n",
              "    }\n",
              "\n",
              "    [theme=dark] .colab-df-convert {\n",
              "      background-color: #3B4455;\n",
              "      fill: #D2E3FC;\n",
              "    }\n",
              "\n",
              "    [theme=dark] .colab-df-convert:hover {\n",
              "      background-color: #434B5C;\n",
              "      box-shadow: 0px 1px 3px 1px rgba(0, 0, 0, 0.15);\n",
              "      filter: drop-shadow(0px 1px 2px rgba(0, 0, 0, 0.3));\n",
              "      fill: #FFFFFF;\n",
              "    }\n",
              "  </style>\n",
              "\n",
              "      <script>\n",
              "        const buttonEl =\n",
              "          document.querySelector('#df-a4cb3775-f2d9-494c-93cb-0c1eb69c1b32 button.colab-df-convert');\n",
              "        buttonEl.style.display =\n",
              "          google.colab.kernel.accessAllowed ? 'block' : 'none';\n",
              "\n",
              "        async function convertToInteractive(key) {\n",
              "          const element = document.querySelector('#df-a4cb3775-f2d9-494c-93cb-0c1eb69c1b32');\n",
              "          const dataTable =\n",
              "            await google.colab.kernel.invokeFunction('convertToInteractive',\n",
              "                                                     [key], {});\n",
              "          if (!dataTable) return;\n",
              "\n",
              "          const docLinkHtml = 'Like what you see? Visit the ' +\n",
              "            '<a target=\"_blank\" href=https://colab.research.google.com/notebooks/data_table.ipynb>data table notebook</a>'\n",
              "            + ' to learn more about interactive tables.';\n",
              "          element.innerHTML = '';\n",
              "          dataTable['output_type'] = 'display_data';\n",
              "          await google.colab.output.renderOutput(dataTable, element);\n",
              "          const docLink = document.createElement('div');\n",
              "          docLink.innerHTML = docLinkHtml;\n",
              "          element.appendChild(docLink);\n",
              "        }\n",
              "      </script>\n",
              "    </div>\n",
              "  </div>\n",
              "  "
            ]
          },
          "metadata": {},
          "execution_count": 2
        }
      ],
      "source": [
        "df = pd.read_csv(\"todohuken_kaidata.csv\")\n",
        "df.head(3)"
      ]
    },
    {
      "cell_type": "markdown",
      "source": [
        "ここでは「15歳以上の男性の平均睡眠時間」と「農業従事者」の  \n",
        "共分散行列を求めてみましょう。"
      ],
      "metadata": {
        "id": "4pQsstnLNsgC"
      }
    },
    {
      "cell_type": "code",
      "source": [
        "male_sleep = df[\"15歳以上の平均睡眠時間（男）\"]\n",
        "nogyo_number = df[\"農業従事者（人口100人あたり）\"]\n",
        "\n",
        "np.cov(male_sleep , nogyo_number , bias=True)"
      ],
      "metadata": {
        "colab": {
          "base_uri": "https://localhost:8080/"
        },
        "id": "TnJgX_nKLHle",
        "outputId": "f7852be0-9b1a-4395-bc46-a6196a891eb5"
      },
      "execution_count": null,
      "outputs": [
        {
          "output_type": "execute_result",
          "data": {
            "text/plain": [
              "array([[60.98325034,  8.94002716],\n",
              "       [ 8.94002716,  1.93853463]])"
            ]
          },
          "metadata": {},
          "execution_count": 3
        }
      ]
    },
    {
      "cell_type": "markdown",
      "source": [
        "3種類のカラムを指定することもできます。  \n",
        "「15歳以上の女性の平均睡眠時間」も追加します。"
      ],
      "metadata": {
        "id": "44m-QIn7Lu_9"
      }
    },
    {
      "cell_type": "code",
      "source": [
        "female_sleep = df[\"15歳以上の平均睡眠時間（女）\"]\n",
        "\n",
        "x = np.stack([male_sleep , female_sleep , nogyo_number] , axis=0)\n",
        "np.cov(x , bias=True)"
      ],
      "metadata": {
        "colab": {
          "base_uri": "https://localhost:8080/"
        },
        "id": "3NFbRMWdOlP1",
        "outputId": "0c0b1112-9a7e-48f8-a325-d7c5a0f4f0a1"
      },
      "execution_count": null,
      "outputs": [
        {
          "output_type": "execute_result",
          "data": {
            "text/plain": [
              "array([[60.98325034, 46.47351743,  8.94002716],\n",
              "       [46.47351743, 51.93843368,  7.52096876],\n",
              "       [ 8.94002716,  7.52096876,  1.93853463]])"
            ]
          },
          "metadata": {},
          "execution_count": 4
        }
      ]
    },
    {
      "cell_type": "markdown",
      "source": [
        "＜データの解釈方法＞  \n",
        "\n",
        "①男性の平均睡眠時間の分散：$60.9$   \n",
        "②女性の平均睡眠時間の分散：$51.9$  \n",
        "③農業従事者の分散：$1.93$  \n",
        "④男性と女性の平均睡眠時間の共分散：$46.4$  \n",
        "⑤平均睡眠時間(男)と農業従事者の共分散：$8.94$  \n",
        "⑥平均睡眠時間(女)と農業従事者の共分散：$7.52$"
      ],
      "metadata": {
        "id": "fpM_m6OvQs-F"
      }
    },
    {
      "cell_type": "markdown",
      "source": [
        "共分散は実際は**相関係数**を求めるために必要になります。  \n",
        "ここまでは一つのステップです。"
      ],
      "metadata": {
        "id": "tpesLTB_O66I"
      }
    },
    {
      "cell_type": "markdown",
      "source": [
        "## 相関係数"
      ],
      "metadata": {
        "id": "Smk3H7W6Pq_O"
      }
    },
    {
      "cell_type": "markdown",
      "source": [
        "共分散を標準化したものが**相関係数**です。  \n",
        "標準化して初めて、値の比較をすることができます。\n",
        "\n",
        "共分散のとりうる値を、$-1～1$の範囲にしたものになります。"
      ],
      "metadata": {
        "id": "km9CFlyQPs4A"
      }
    },
    {
      "cell_type": "markdown",
      "source": [
        "$$\n",
        "-1 ≦ \\frac{S_{xy}}{S_xS_y} ≦ 1\n",
        "$$"
      ],
      "metadata": {
        "id": "PePsPoJ4R-k6"
      }
    },
    {
      "cell_type": "markdown",
      "source": [
        "### 正の相関と負の相関"
      ],
      "metadata": {
        "id": "6Rf1MdDuSopQ"
      }
    },
    {
      "cell_type": "markdown",
      "source": [
        "ある値が大きいほどもう片方の値も大きい傾向にあるものは**正の相関**、  \n",
        "逆にある値が大きいほどもう片方の値は小さい傾向にあるものは**負の相関**と呼ばれます。  \n",
        "\n",
        "正の相関では相関係数は**正**、負の相関では相関係数は**負**になります。"
      ],
      "metadata": {
        "id": "nTMtHR4ZSs-Y"
      }
    },
    {
      "cell_type": "markdown",
      "source": [
        "ある値の大小ともう片方の値の大小が関係ないものは**無相関**と呼ばれます。  \n",
        "\n",
        "無相関では相関係数は **$0$** になります。"
      ],
      "metadata": {
        "id": "br0N8qWVTfFn"
      }
    },
    {
      "cell_type": "markdown",
      "source": [
        "### 相関行列"
      ],
      "metadata": {
        "id": "Mde8mRVVT152"
      }
    },
    {
      "cell_type": "markdown",
      "source": [
        "複数の変数間の相関係数を行列にしたものを**相関行列**といいます。   \n",
        "\n",
        "対角要素は必ず **$1$** になります。"
      ],
      "metadata": {
        "id": "hyjUxBm4T_F3"
      }
    },
    {
      "cell_type": "markdown",
      "source": [
        "＜例＞　変数$X_1,X_2,…,X_n$の場合\n",
        "\n",
        "$$\n",
        "R=\\begin{bmatrix}  \n",
        "1 & r_{12} & … & r_{1n}\\\\  \n",
        "r_{21} & 1 & … & r_{2n}\\\\  \n",
        "・ & ・ & ・ & ・\\\\  \n",
        "r_{n1} & r_{n2} & … & 1\\\\  \n",
        "\\end{bmatrix}\n",
        "$$"
      ],
      "metadata": {
        "id": "ADCATBRMU_9X"
      }
    },
    {
      "cell_type": "markdown",
      "source": [
        "ここでは「15歳以上の男性の平均睡眠時間」と「農業従事者」の  \n",
        "相関行列を求めてみましょう。"
      ],
      "metadata": {
        "id": "4YOgglm4U_c2"
      }
    },
    {
      "cell_type": "code",
      "source": [
        "male_sleep = df[\"15歳以上の平均睡眠時間（男）\"]\n",
        "nogyo_number = df[\"農業従事者（人口100人あたり）\"]\n",
        "\n",
        "np.corrcoef(male_sleep , nogyo_number)"
      ],
      "metadata": {
        "colab": {
          "base_uri": "https://localhost:8080/"
        },
        "id": "QRr-WhZWRwOv",
        "outputId": "9f6d4b57-31c5-463f-ffd1-3b22f937b3c4"
      },
      "execution_count": null,
      "outputs": [
        {
          "output_type": "execute_result",
          "data": {
            "text/plain": [
              "array([[1.        , 0.82223654],\n",
              "       [0.82223654, 1.        ]])"
            ]
          },
          "metadata": {},
          "execution_count": 5
        }
      ]
    },
    {
      "cell_type": "markdown",
      "source": [
        "3種類のカラムを指定することもできます。  \n",
        "「15歳以上の女性の平均睡眠時間」も追加します。"
      ],
      "metadata": {
        "id": "9TiBa7YBRpTk"
      }
    },
    {
      "cell_type": "code",
      "source": [
        "female_sleep = df[\"15歳以上の平均睡眠時間（女）\"]\n",
        "\n",
        "x = np.stack([male_sleep , female_sleep , nogyo_number] , axis=0)\n",
        "np.corrcoef(x)"
      ],
      "metadata": {
        "colab": {
          "base_uri": "https://localhost:8080/"
        },
        "id": "dSA4RRCwVmHr",
        "outputId": "ef3dcbf6-8f6b-4dab-9940-2f7f640563c8"
      },
      "execution_count": null,
      "outputs": [
        {
          "output_type": "execute_result",
          "data": {
            "text/plain": [
              "array([[1.        , 0.82576379, 0.82223654],\n",
              "       [0.82576379, 1.        , 0.74953614],\n",
              "       [0.82223654, 0.74953614, 1.        ]])"
            ]
          },
          "metadata": {},
          "execution_count": 6
        }
      ]
    },
    {
      "cell_type": "markdown",
      "source": [
        "＜データの解釈方法＞  \n",
        "\n",
        "①男性と女性の平均睡眠時間の相関係数：$0.825$  \n",
        "②平均睡眠時間(男)と農業従事者の相関係数：$0.822$  \n",
        "③平均睡眠時間(女)と農業従事者の相関係数：$0.749$"
      ],
      "metadata": {
        "id": "aVpG9QUYVvog"
      }
    },
    {
      "cell_type": "markdown",
      "source": [
        "この値が実際高いのかどうかについては次項で述べます。"
      ],
      "metadata": {
        "id": "9AntYIl4Wg7C"
      }
    },
    {
      "cell_type": "markdown",
      "source": [
        "**`df.corr()`**とすると、簡単に相関行列を求められます。"
      ],
      "metadata": {
        "id": "jZ1MxxQ-WmAB"
      }
    },
    {
      "cell_type": "code",
      "source": [
        "df.corr()"
      ],
      "metadata": {
        "colab": {
          "base_uri": "https://localhost:8080/",
          "height": 906
        },
        "id": "9ZaLyuMXWq5m",
        "outputId": "a1b750dc-06c0-4dcc-f88e-49762a8c2c56"
      },
      "execution_count": null,
      "outputs": [
        {
          "output_type": "execute_result",
          "data": {
            "text/plain": [
              "                    15歳以上の平均睡眠時間（男）  15歳以上の平均睡眠時間（女）  運転免許保有者割合（%）  \\\n",
              "15歳以上の平均睡眠時間（男）            1.000000         0.825764      0.400987   \n",
              "15歳以上の平均睡眠時間（女）            0.825764         1.000000      0.246533   \n",
              "運転免許保有者割合（%）               0.400987         0.246533      1.000000   \n",
              "農業従事者（人口100人あたり）           0.822237         0.749536      0.576308   \n",
              "平均通勤時間（片道）                -0.781084        -0.554681     -0.635377   \n",
              "自動車保有台数（人口100人あたり）         0.610426         0.433637      0.925849   \n",
              "鉄道旅客輸送量(人口一人あたり)          -0.595017        -0.338663     -0.751471   \n",
              "\n",
              "                    農業従事者（人口100人あたり）  平均通勤時間（片道）  自動車保有台数（人口100人あたり）  \\\n",
              "15歳以上の平均睡眠時間（男）             0.822237   -0.781084            0.610426   \n",
              "15歳以上の平均睡眠時間（女）             0.749536   -0.554681            0.433637   \n",
              "運転免許保有者割合（%）                0.576308   -0.635377            0.925849   \n",
              "農業従事者（人口100人あたり）            1.000000   -0.696542            0.719500   \n",
              "平均通勤時間（片道）                 -0.696542    1.000000           -0.826087   \n",
              "自動車保有台数（人口100人あたり）          0.719500   -0.826087            1.000000   \n",
              "鉄道旅客輸送量(人口一人あたり)           -0.629990    0.786965           -0.872011   \n",
              "\n",
              "                    鉄道旅客輸送量(人口一人あたり)  \n",
              "15歳以上の平均睡眠時間（男）            -0.595017  \n",
              "15歳以上の平均睡眠時間（女）            -0.338663  \n",
              "運転免許保有者割合（%）               -0.751471  \n",
              "農業従事者（人口100人あたり）           -0.629990  \n",
              "平均通勤時間（片道）                  0.786965  \n",
              "自動車保有台数（人口100人あたり）         -0.872011  \n",
              "鉄道旅客輸送量(人口一人あたり)            1.000000  "
            ],
            "text/html": [
              "\n",
              "  <div id=\"df-f0d36d30-8036-40f4-9d9a-bbb20db5f45c\">\n",
              "    <div class=\"colab-df-container\">\n",
              "      <div>\n",
              "<style scoped>\n",
              "    .dataframe tbody tr th:only-of-type {\n",
              "        vertical-align: middle;\n",
              "    }\n",
              "\n",
              "    .dataframe tbody tr th {\n",
              "        vertical-align: top;\n",
              "    }\n",
              "\n",
              "    .dataframe thead th {\n",
              "        text-align: right;\n",
              "    }\n",
              "</style>\n",
              "<table border=\"1\" class=\"dataframe\">\n",
              "  <thead>\n",
              "    <tr style=\"text-align: right;\">\n",
              "      <th></th>\n",
              "      <th>15歳以上の平均睡眠時間（男）</th>\n",
              "      <th>15歳以上の平均睡眠時間（女）</th>\n",
              "      <th>運転免許保有者割合（%）</th>\n",
              "      <th>農業従事者（人口100人あたり）</th>\n",
              "      <th>平均通勤時間（片道）</th>\n",
              "      <th>自動車保有台数（人口100人あたり）</th>\n",
              "      <th>鉄道旅客輸送量(人口一人あたり)</th>\n",
              "    </tr>\n",
              "  </thead>\n",
              "  <tbody>\n",
              "    <tr>\n",
              "      <th>15歳以上の平均睡眠時間（男）</th>\n",
              "      <td>1.000000</td>\n",
              "      <td>0.825764</td>\n",
              "      <td>0.400987</td>\n",
              "      <td>0.822237</td>\n",
              "      <td>-0.781084</td>\n",
              "      <td>0.610426</td>\n",
              "      <td>-0.595017</td>\n",
              "    </tr>\n",
              "    <tr>\n",
              "      <th>15歳以上の平均睡眠時間（女）</th>\n",
              "      <td>0.825764</td>\n",
              "      <td>1.000000</td>\n",
              "      <td>0.246533</td>\n",
              "      <td>0.749536</td>\n",
              "      <td>-0.554681</td>\n",
              "      <td>0.433637</td>\n",
              "      <td>-0.338663</td>\n",
              "    </tr>\n",
              "    <tr>\n",
              "      <th>運転免許保有者割合（%）</th>\n",
              "      <td>0.400987</td>\n",
              "      <td>0.246533</td>\n",
              "      <td>1.000000</td>\n",
              "      <td>0.576308</td>\n",
              "      <td>-0.635377</td>\n",
              "      <td>0.925849</td>\n",
              "      <td>-0.751471</td>\n",
              "    </tr>\n",
              "    <tr>\n",
              "      <th>農業従事者（人口100人あたり）</th>\n",
              "      <td>0.822237</td>\n",
              "      <td>0.749536</td>\n",
              "      <td>0.576308</td>\n",
              "      <td>1.000000</td>\n",
              "      <td>-0.696542</td>\n",
              "      <td>0.719500</td>\n",
              "      <td>-0.629990</td>\n",
              "    </tr>\n",
              "    <tr>\n",
              "      <th>平均通勤時間（片道）</th>\n",
              "      <td>-0.781084</td>\n",
              "      <td>-0.554681</td>\n",
              "      <td>-0.635377</td>\n",
              "      <td>-0.696542</td>\n",
              "      <td>1.000000</td>\n",
              "      <td>-0.826087</td>\n",
              "      <td>0.786965</td>\n",
              "    </tr>\n",
              "    <tr>\n",
              "      <th>自動車保有台数（人口100人あたり）</th>\n",
              "      <td>0.610426</td>\n",
              "      <td>0.433637</td>\n",
              "      <td>0.925849</td>\n",
              "      <td>0.719500</td>\n",
              "      <td>-0.826087</td>\n",
              "      <td>1.000000</td>\n",
              "      <td>-0.872011</td>\n",
              "    </tr>\n",
              "    <tr>\n",
              "      <th>鉄道旅客輸送量(人口一人あたり)</th>\n",
              "      <td>-0.595017</td>\n",
              "      <td>-0.338663</td>\n",
              "      <td>-0.751471</td>\n",
              "      <td>-0.629990</td>\n",
              "      <td>0.786965</td>\n",
              "      <td>-0.872011</td>\n",
              "      <td>1.000000</td>\n",
              "    </tr>\n",
              "  </tbody>\n",
              "</table>\n",
              "</div>\n",
              "      <button class=\"colab-df-convert\" onclick=\"convertToInteractive('df-f0d36d30-8036-40f4-9d9a-bbb20db5f45c')\"\n",
              "              title=\"Convert this dataframe to an interactive table.\"\n",
              "              style=\"display:none;\">\n",
              "        \n",
              "  <svg xmlns=\"http://www.w3.org/2000/svg\" height=\"24px\"viewBox=\"0 0 24 24\"\n",
              "       width=\"24px\">\n",
              "    <path d=\"M0 0h24v24H0V0z\" fill=\"none\"/>\n",
              "    <path d=\"M18.56 5.44l.94 2.06.94-2.06 2.06-.94-2.06-.94-.94-2.06-.94 2.06-2.06.94zm-11 1L8.5 8.5l.94-2.06 2.06-.94-2.06-.94L8.5 2.5l-.94 2.06-2.06.94zm10 10l.94 2.06.94-2.06 2.06-.94-2.06-.94-.94-2.06-.94 2.06-2.06.94z\"/><path d=\"M17.41 7.96l-1.37-1.37c-.4-.4-.92-.59-1.43-.59-.52 0-1.04.2-1.43.59L10.3 9.45l-7.72 7.72c-.78.78-.78 2.05 0 2.83L4 21.41c.39.39.9.59 1.41.59.51 0 1.02-.2 1.41-.59l7.78-7.78 2.81-2.81c.8-.78.8-2.07 0-2.86zM5.41 20L4 18.59l7.72-7.72 1.47 1.35L5.41 20z\"/>\n",
              "  </svg>\n",
              "      </button>\n",
              "      \n",
              "  <style>\n",
              "    .colab-df-container {\n",
              "      display:flex;\n",
              "      flex-wrap:wrap;\n",
              "      gap: 12px;\n",
              "    }\n",
              "\n",
              "    .colab-df-convert {\n",
              "      background-color: #E8F0FE;\n",
              "      border: none;\n",
              "      border-radius: 50%;\n",
              "      cursor: pointer;\n",
              "      display: none;\n",
              "      fill: #1967D2;\n",
              "      height: 32px;\n",
              "      padding: 0 0 0 0;\n",
              "      width: 32px;\n",
              "    }\n",
              "\n",
              "    .colab-df-convert:hover {\n",
              "      background-color: #E2EBFA;\n",
              "      box-shadow: 0px 1px 2px rgba(60, 64, 67, 0.3), 0px 1px 3px 1px rgba(60, 64, 67, 0.15);\n",
              "      fill: #174EA6;\n",
              "    }\n",
              "\n",
              "    [theme=dark] .colab-df-convert {\n",
              "      background-color: #3B4455;\n",
              "      fill: #D2E3FC;\n",
              "    }\n",
              "\n",
              "    [theme=dark] .colab-df-convert:hover {\n",
              "      background-color: #434B5C;\n",
              "      box-shadow: 0px 1px 3px 1px rgba(0, 0, 0, 0.15);\n",
              "      filter: drop-shadow(0px 1px 2px rgba(0, 0, 0, 0.3));\n",
              "      fill: #FFFFFF;\n",
              "    }\n",
              "  </style>\n",
              "\n",
              "      <script>\n",
              "        const buttonEl =\n",
              "          document.querySelector('#df-f0d36d30-8036-40f4-9d9a-bbb20db5f45c button.colab-df-convert');\n",
              "        buttonEl.style.display =\n",
              "          google.colab.kernel.accessAllowed ? 'block' : 'none';\n",
              "\n",
              "        async function convertToInteractive(key) {\n",
              "          const element = document.querySelector('#df-f0d36d30-8036-40f4-9d9a-bbb20db5f45c');\n",
              "          const dataTable =\n",
              "            await google.colab.kernel.invokeFunction('convertToInteractive',\n",
              "                                                     [key], {});\n",
              "          if (!dataTable) return;\n",
              "\n",
              "          const docLinkHtml = 'Like what you see? Visit the ' +\n",
              "            '<a target=\"_blank\" href=https://colab.research.google.com/notebooks/data_table.ipynb>data table notebook</a>'\n",
              "            + ' to learn more about interactive tables.';\n",
              "          element.innerHTML = '';\n",
              "          dataTable['output_type'] = 'display_data';\n",
              "          await google.colab.output.renderOutput(dataTable, element);\n",
              "          const docLink = document.createElement('div');\n",
              "          docLink.innerHTML = docLinkHtml;\n",
              "          element.appendChild(docLink);\n",
              "        }\n",
              "      </script>\n",
              "    </div>\n",
              "  </div>\n",
              "  "
            ]
          },
          "metadata": {},
          "execution_count": 7
        }
      ]
    },
    {
      "cell_type": "markdown",
      "source": [
        "＜データの解釈方法＞  \n",
        "\n",
        "①平均睡眠時間(男)と通勤時間の相関係数：$-0.781$  \n",
        "②運転免許保有者割合と自動車保有台数の相関係数：$0.925$  \n",
        "③運転免許保有者割合と鉄道旅客輸送量の相関係数：$-0.751$"
      ],
      "metadata": {
        "id": "4bQkQ1bRXSig"
      }
    },
    {
      "cell_type": "markdown",
      "source": [
        "### 相関行列の描画"
      ],
      "metadata": {
        "id": "dSPo4hxvX0Xf"
      }
    },
    {
      "cell_type": "markdown",
      "source": [
        "ヒートマップを使って相関行列を描画しましょう。"
      ],
      "metadata": {
        "id": "yVd1BEGpX9nQ"
      }
    },
    {
      "cell_type": "markdown",
      "source": [
        "まずは睡眠時間と農業従事者数・通勤時間の関係について確認します。  \n",
        "\n",
        "ここで睡眠時間は男性のもののみに絞ります。"
      ],
      "metadata": {
        "id": "4omQAvsyYU2e"
      }
    },
    {
      "cell_type": "code",
      "source": [
        "male_sleep = df[\"15歳以上の平均睡眠時間（男）\"]\n",
        "nogyo_number = df[\"農業従事者（人口100人あたり）\"]\n",
        "tukin_time = df[\"平均通勤時間（片道）\"]\n",
        "\n",
        "z = np.corrcoef([male_sleep , nogyo_number , tukin_time])\n",
        "sns.heatmap(z,cmap=\"coolwarm\",annot=True)"
      ],
      "metadata": {
        "colab": {
          "base_uri": "https://localhost:8080/",
          "height": 285
        },
        "id": "ddXo7pNyYCqo",
        "outputId": "bacf98df-3b1d-498d-9bf8-00b6d9a5c5a4"
      },
      "execution_count": null,
      "outputs": [
        {
          "output_type": "execute_result",
          "data": {
            "text/plain": [
              "<matplotlib.axes._subplots.AxesSubplot at 0x7f0959c96ac0>"
            ]
          },
          "metadata": {},
          "execution_count": 8
        },
        {
          "output_type": "display_data",
          "data": {
            "text/plain": [
              "<Figure size 432x288 with 2 Axes>"
            ],
            "image/png": "[encoded data removed]"
          },
          "metadata": {
            "needs_background": "light"
          }
        }
      ]
    },
    {
      "cell_type": "markdown",
      "source": [
        "睡眠時間と農業従事者数の間の**正の相関**、  \n",
        "睡眠時間と通勤時間の間の**負の相関**について確認できます。"
      ],
      "metadata": {
        "id": "leBUo6oOZNfs"
      }
    },
    {
      "cell_type": "markdown",
      "source": [
        "まずは免許取得率と自動車保有台数・鉄道旅客輸送量の関係について確認します。  "
      ],
      "metadata": {
        "id": "fZppVuWyZWl8"
      }
    },
    {
      "cell_type": "code",
      "source": [
        "menkyo_per = df[\"運転免許保有者割合（%）\"]\n",
        "car_number = df[\"自動車保有台数（人口100人あたり）\"]\n",
        "train_carry = df[\"鉄道旅客輸送量(人口一人あたり)\"]\n",
        "\n",
        "z = np.corrcoef([menkyo_per , car_number , train_carry])\n",
        "sns.heatmap(z,cmap=\"coolwarm\",annot=True)"
      ],
      "metadata": {
        "colab": {
          "base_uri": "https://localhost:8080/",
          "height": 285
        },
        "id": "9bH2D20cZg1i",
        "outputId": "12ef1df0-8480-4c6f-af30-fc8354b9cd15"
      },
      "execution_count": null,
      "outputs": [
        {
          "output_type": "execute_result",
          "data": {
            "text/plain": [
              "<matplotlib.axes._subplots.AxesSubplot at 0x7f098cbd7580>"
            ]
          },
          "metadata": {},
          "execution_count": 9
        },
        {
          "output_type": "display_data",
          "data": {
            "text/plain": [
              "<Figure size 432x288 with 2 Axes>"
            ],
            "image/png": "[encoded data removed]"
          },
          "metadata": {
            "needs_background": "light"
          }
        }
      ]
    },
    {
      "cell_type": "markdown",
      "source": [
        "免許取得率と自動車保有台数の間の**正の相関**、  \n",
        "免許取得率と鉄道旅客輸送量の間の**負の相関**について確認できます。"
      ],
      "metadata": {
        "id": "0MXJnwBKZru0"
      }
    },
    {
      "cell_type": "markdown",
      "source": [
        "### 相関係数のポイント"
      ],
      "metadata": {
        "id": "1lAcktXKZ9CL"
      }
    },
    {
      "cell_type": "markdown",
      "source": [
        "#### 相関の強弱"
      ],
      "metadata": {
        "id": "mEvjgwj_Z_hr"
      }
    },
    {
      "cell_type": "markdown",
      "source": [
        "相関の強さには、明確な基準はありません。  \n",
        "しかし、一般的な基準値は存在するようです。"
      ],
      "metadata": {
        "id": "wNHLTMK6aFe7"
      }
    },
    {
      "cell_type": "markdown",
      "source": [
        "![リンクテキスト](https://imgur.com/W9k2Uwy.png)"
      ],
      "metadata": {
        "id": "qeMiY50hcNXv"
      }
    },
    {
      "cell_type": "markdown",
      "source": [
        "この基準値より、以下のようなことがいえます。\n",
        "\n",
        "睡眠時間と農業従事者数の間には**強い正の相関**、  \n",
        "睡眠時間と通勤時間の間には**強い負の相関**がはたらいていると分かります。\n",
        "\n",
        "免許取得率と自動車保有台数の間には**強い正の相関**、  \n",
        "免許取得率と鉄道旅客輸送量の間には**強い負の相関**がはたらいていると分かります。"
      ],
      "metadata": {
        "id": "1zo01iexbcxI"
      }
    },
    {
      "cell_type": "markdown",
      "source": [
        "#### 散布図"
      ],
      "metadata": {
        "id": "Fs64foznb1uB"
      }
    },
    {
      "cell_type": "markdown",
      "source": [
        "変数間の相関を見る場合には必ず**散布図**を見るようにしましょう。  \n",
        "\n",
        "外れ値・異常値などが確認できます。"
      ],
      "metadata": {
        "id": "hYSXE4mSb4zw"
      }
    },
    {
      "cell_type": "markdown",
      "source": [
        "まずは「15歳以上の男性の平均睡眠時間」と「農業従事者」の  \n",
        "相関関係について散布図を見てみましょう。"
      ],
      "metadata": {
        "id": "vRLFdnBAcaUn"
      }
    },
    {
      "cell_type": "code",
      "source": [
        "sleep_time = df[\"15歳以上の平均睡眠時間（男）\"]\n",
        "nogyo_number = df[\"農業従事者（人口100人あたり）\"]\n",
        "\n",
        "plt.scatter(sleep_time,nogyo_number)\n",
        "plt.xlabel(\"平均睡眠時間\")\n",
        "plt.ylabel(\"農業従事者数\")"
      ],
      "metadata": {
        "colab": {
          "base_uri": "https://localhost:8080/",
          "height": 295
        },
        "id": "cVIFDc9EcGgX",
        "outputId": "f8452c6c-d44f-433f-dc6c-dbb07cb4b391"
      },
      "execution_count": null,
      "outputs": [
        {
          "output_type": "execute_result",
          "data": {
            "text/plain": [
              "Text(0, 0.5, '農業従事者数')"
            ]
          },
          "metadata": {},
          "execution_count": 10
        },
        {
          "output_type": "display_data",
          "data": {
            "text/plain": [
              "<Figure size 432x288 with 1 Axes>"
            ],
            "image/png": "[encoded data removed]"
          },
          "metadata": {
            "needs_background": "light"
          }
        }
      ]
    },
    {
      "cell_type": "markdown",
      "source": [
        "**強い正の相関**が確認できます。"
      ],
      "metadata": {
        "id": "YmXD5FXTdFAW"
      }
    },
    {
      "cell_type": "markdown",
      "source": [
        "続いて「15歳以上の男性の平均睡眠時間」と「平均通勤時間」の  \n",
        "相関関係について散布図を見てみましょう。"
      ],
      "metadata": {
        "id": "N34438RDdMAd"
      }
    },
    {
      "cell_type": "code",
      "source": [
        "sleep_time = df[\"15歳以上の平均睡眠時間（男）\"]\n",
        "tukin_number = df[\"平均通勤時間（片道）\"]\n",
        "\n",
        "plt.scatter(sleep_time,tukin_number)\n",
        "plt.xlabel(\"平均睡眠時間\")\n",
        "plt.ylabel(\"平均通勤時間\")"
      ],
      "metadata": {
        "colab": {
          "base_uri": "https://localhost:8080/",
          "height": 295
        },
        "id": "zaWPymJ6dRKm",
        "outputId": "d95b9d33-1c48-4acf-c696-3ef9451d94e7"
      },
      "execution_count": null,
      "outputs": [
        {
          "output_type": "execute_result",
          "data": {
            "text/plain": [
              "Text(0, 0.5, '平均通勤時間')"
            ]
          },
          "metadata": {},
          "execution_count": 11
        },
        {
          "output_type": "display_data",
          "data": {
            "text/plain": [
              "<Figure size 432x288 with 1 Axes>"
            ],
            "image/png": "[encoded data removed]"
          },
          "metadata": {
            "needs_background": "light"
          }
        }
      ]
    },
    {
      "cell_type": "markdown",
      "source": [
        "**強い負の相関**が確認できます。"
      ],
      "metadata": {
        "id": "eg7c7gwldg3s"
      }
    },
    {
      "cell_type": "markdown",
      "source": [
        "#### 相関関係と因果関係"
      ],
      "metadata": {
        "id": "-g3hb0oediHV"
      }
    },
    {
      "cell_type": "markdown",
      "source": [
        "「相関関係」は、2つの事象の間にある何らかの関係のことです。  \n",
        "しかし、どちらかの事象がもう片方の事象の直接的な原因かどうかは不明です。"
      ],
      "metadata": {
        "id": "rTebx6pDdmxg"
      }
    },
    {
      "cell_type": "markdown",
      "source": [
        "「因果関係」は、2つの事象のうち一方が原因となって他方の結果があるという関係のことです。\n",
        "\n",
        "誤解しないようにしましょう。"
      ],
      "metadata": {
        "id": "GvXFRUivdysK"
      }
    },
    {
      "cell_type": "markdown",
      "source": [
        "## 連関"
      ],
      "metadata": {
        "id": "nZvu5Mb1zfG5"
      }
    },
    {
      "cell_type": "markdown",
      "source": [
        "これまでは、連続変数間の相関関係について見てきました。  \n",
        "ここでは、カテゴリー変数間の相関関係について見ていきます。\n",
        "\n",
        "※連続変数・カテゴリー変数については[こちら](https://bit.ly/3I0b3Eo)に詳しく書かれています"
      ],
      "metadata": {
        "id": "6DwJMHre0WBI"
      }
    },
    {
      "cell_type": "markdown",
      "source": [
        "2つのカテゴリー変数間に相互関係が存在するとき、   \n",
        "2つの変数間には「**連関**がある」という言い方をします。  \n",
        "\n",
        "（相互関係が存在しないとき、「**独立**している」という言い方をします）"
      ],
      "metadata": {
        "id": "glI16EKszily"
      }
    },
    {
      "cell_type": "markdown",
      "source": [
        "### クロス集計表"
      ],
      "metadata": {
        "id": "WpinX2h7_O9K"
      }
    },
    {
      "cell_type": "markdown",
      "source": [
        "カテゴリー変数のそれぞれの組み合わせの集計値（**度数**という）を表にしたものを、  \n",
        "**分割表**や**クロス集計表**といいます。  \n",
        "英語では **contingency table**（コンフィデンシー）といいます。"
      ],
      "metadata": {
        "id": "S6ibiF241YLw"
      }
    },
    {
      "cell_type": "markdown",
      "source": [
        "では実際にPythonを使ってクロス集計表を作ってみましょう。  \n",
        "ここでは[こちら](https://bit.ly/3XrYN5r)を例として扱います。（説明用に一部データを変更しています）"
      ],
      "metadata": {
        "id": "cYeDrcgu1NS-"
      }
    },
    {
      "cell_type": "code",
      "source": [
        "# dataframeの作成（実データ）\n",
        "data = {\n",
        "    \"sport\":[\"野球\",\"野球\",\"サッカー\",\"サッカー\",\"野球\",\"サッカー\",\"サッカー\",\"テニス\",\"サッカー\",\"水泳\",\n",
        "             \"テニス\",\"野球\",\"野球\",\"サッカー\",\"サッカー\",\"水泳\",\"野球\",\"テニス\",\"テニス\",\"サッカー\",\n",
        "             \"サッカー\",\"水泳\",\"サッカー\",\"水泳\",\"野球\",\"テニス\",\"サッカー\",\"野球\",\"サッカー\",\"テニス\"],\n",
        "    \"sex\":[\"男子\",\"男子\",\"男子\",\"男子\",\"男子\",\"男子\",\"男子\",\"男子\",\"男子\",\"男子\",\n",
        "           \"男子\",\"男子\",\"男子\",\"男子\",\"男子\",\"女子\",\"女子\",\"女子\",\"女子\",\"女子\",\n",
        "           \"女子\",\"女子\",\"女子\",\"女子\",\"女子\",\"女子\",\"女子\",\"女子\",\"女子\",\"女子\",],\n",
        "}\n",
        "\n",
        "df = pd.DataFrame(data)\n",
        "df.head(3)"
      ],
      "metadata": {
        "colab": {
          "base_uri": "https://localhost:8080/",
          "height": 143
        },
        "id": "uC1Ux5fy4juB",
        "outputId": "57a1e4bb-e059-479f-870f-1ef81343d101"
      },
      "execution_count": null,
      "outputs": [
        {
          "output_type": "execute_result",
          "data": {
            "text/plain": [
              "  sport sex\n",
              "0    野球  男子\n",
              "1    野球  男子\n",
              "2  サッカー  男子"
            ],
            "text/html": [
              "\n",
              "  <div id=\"df-8550de29-9310-4c9c-9ec3-587c27021bac\">\n",
              "    <div class=\"colab-df-container\">\n",
              "      <div>\n",
              "<style scoped>\n",
              "    .dataframe tbody tr th:only-of-type {\n",
              "        vertical-align: middle;\n",
              "    }\n",
              "\n",
              "    .dataframe tbody tr th {\n",
              "        vertical-align: top;\n",
              "    }\n",
              "\n",
              "    .dataframe thead th {\n",
              "        text-align: right;\n",
              "    }\n",
              "</style>\n",
              "<table border=\"1\" class=\"dataframe\">\n",
              "  <thead>\n",
              "    <tr style=\"text-align: right;\">\n",
              "      <th></th>\n",
              "      <th>sport</th>\n",
              "      <th>sex</th>\n",
              "    </tr>\n",
              "  </thead>\n",
              "  <tbody>\n",
              "    <tr>\n",
              "      <th>0</th>\n",
              "      <td>野球</td>\n",
              "      <td>男子</td>\n",
              "    </tr>\n",
              "    <tr>\n",
              "      <th>1</th>\n",
              "      <td>野球</td>\n",
              "      <td>男子</td>\n",
              "    </tr>\n",
              "    <tr>\n",
              "      <th>2</th>\n",
              "      <td>サッカー</td>\n",
              "      <td>男子</td>\n",
              "    </tr>\n",
              "  </tbody>\n",
              "</table>\n",
              "</div>\n",
              "      <button class=\"colab-df-convert\" onclick=\"convertToInteractive('df-8550de29-9310-4c9c-9ec3-587c27021bac')\"\n",
              "              title=\"Convert this dataframe to an interactive table.\"\n",
              "              style=\"display:none;\">\n",
              "        \n",
              "  <svg xmlns=\"http://www.w3.org/2000/svg\" height=\"24px\"viewBox=\"0 0 24 24\"\n",
              "       width=\"24px\">\n",
              "    <path d=\"M0 0h24v24H0V0z\" fill=\"none\"/>\n",
              "    <path d=\"M18.56 5.44l.94 2.06.94-2.06 2.06-.94-2.06-.94-.94-2.06-.94 2.06-2.06.94zm-11 1L8.5 8.5l.94-2.06 2.06-.94-2.06-.94L8.5 2.5l-.94 2.06-2.06.94zm10 10l.94 2.06.94-2.06 2.06-.94-2.06-.94-.94-2.06-.94 2.06-2.06.94z\"/><path d=\"M17.41 7.96l-1.37-1.37c-.4-.4-.92-.59-1.43-.59-.52 0-1.04.2-1.43.59L10.3 9.45l-7.72 7.72c-.78.78-.78 2.05 0 2.83L4 21.41c.39.39.9.59 1.41.59.51 0 1.02-.2 1.41-.59l7.78-7.78 2.81-2.81c.8-.78.8-2.07 0-2.86zM5.41 20L4 18.59l7.72-7.72 1.47 1.35L5.41 20z\"/>\n",
              "  </svg>\n",
              "      </button>\n",
              "      \n",
              "  <style>\n",
              "    .colab-df-container {\n",
              "      display:flex;\n",
              "      flex-wrap:wrap;\n",
              "      gap: 12px;\n",
              "    }\n",
              "\n",
              "    .colab-df-convert {\n",
              "      background-color: #E8F0FE;\n",
              "      border: none;\n",
              "      border-radius: 50%;\n",
              "      cursor: pointer;\n",
              "      display: none;\n",
              "      fill: #1967D2;\n",
              "      height: 32px;\n",
              "      padding: 0 0 0 0;\n",
              "      width: 32px;\n",
              "    }\n",
              "\n",
              "    .colab-df-convert:hover {\n",
              "      background-color: #E2EBFA;\n",
              "      box-shadow: 0px 1px 2px rgba(60, 64, 67, 0.3), 0px 1px 3px 1px rgba(60, 64, 67, 0.15);\n",
              "      fill: #174EA6;\n",
              "    }\n",
              "\n",
              "    [theme=dark] .colab-df-convert {\n",
              "      background-color: #3B4455;\n",
              "      fill: #D2E3FC;\n",
              "    }\n",
              "\n",
              "    [theme=dark] .colab-df-convert:hover {\n",
              "      background-color: #434B5C;\n",
              "      box-shadow: 0px 1px 3px 1px rgba(0, 0, 0, 0.15);\n",
              "      filter: drop-shadow(0px 1px 2px rgba(0, 0, 0, 0.3));\n",
              "      fill: #FFFFFF;\n",
              "    }\n",
              "  </style>\n",
              "\n",
              "      <script>\n",
              "        const buttonEl =\n",
              "          document.querySelector('#df-8550de29-9310-4c9c-9ec3-587c27021bac button.colab-df-convert');\n",
              "        buttonEl.style.display =\n",
              "          google.colab.kernel.accessAllowed ? 'block' : 'none';\n",
              "\n",
              "        async function convertToInteractive(key) {\n",
              "          const element = document.querySelector('#df-8550de29-9310-4c9c-9ec3-587c27021bac');\n",
              "          const dataTable =\n",
              "            await google.colab.kernel.invokeFunction('convertToInteractive',\n",
              "                                                     [key], {});\n",
              "          if (!dataTable) return;\n",
              "\n",
              "          const docLinkHtml = 'Like what you see? Visit the ' +\n",
              "            '<a target=\"_blank\" href=https://colab.research.google.com/notebooks/data_table.ipynb>data table notebook</a>'\n",
              "            + ' to learn more about interactive tables.';\n",
              "          element.innerHTML = '';\n",
              "          dataTable['output_type'] = 'display_data';\n",
              "          await google.colab.output.renderOutput(dataTable, element);\n",
              "          const docLink = document.createElement('div');\n",
              "          docLink.innerHTML = docLinkHtml;\n",
              "          element.appendChild(docLink);\n",
              "        }\n",
              "      </script>\n",
              "    </div>\n",
              "  </div>\n",
              "  "
            ]
          },
          "metadata": {},
          "execution_count": 12
        }
      ]
    },
    {
      "cell_type": "code",
      "source": [
        "# クロス集計表の作成\n",
        "cont_table = pd.crosstab(df[\"sex\"],df[\"sport\"])\n",
        "cont_table"
      ],
      "metadata": {
        "colab": {
          "base_uri": "https://localhost:8080/",
          "height": 143
        },
        "id": "xdMHPIJM8MlG",
        "outputId": "14f11112-d790-449f-ef7b-a7c8ad11bea0"
      },
      "execution_count": null,
      "outputs": [
        {
          "output_type": "execute_result",
          "data": {
            "text/plain": [
              "sport  サッカー  テニス  水泳  野球\n",
              "sex                     \n",
              "女子        5    4   3   3\n",
              "男子        7    2   1   5"
            ],
            "text/html": [
              "\n",
              "  <div id=\"df-39bfc16d-92a0-4579-9bb0-8c4e72f499a7\">\n",
              "    <div class=\"colab-df-container\">\n",
              "      <div>\n",
              "<style scoped>\n",
              "    .dataframe tbody tr th:only-of-type {\n",
              "        vertical-align: middle;\n",
              "    }\n",
              "\n",
              "    .dataframe tbody tr th {\n",
              "        vertical-align: top;\n",
              "    }\n",
              "\n",
              "    .dataframe thead th {\n",
              "        text-align: right;\n",
              "    }\n",
              "</style>\n",
              "<table border=\"1\" class=\"dataframe\">\n",
              "  <thead>\n",
              "    <tr style=\"text-align: right;\">\n",
              "      <th>sport</th>\n",
              "      <th>サッカー</th>\n",
              "      <th>テニス</th>\n",
              "      <th>水泳</th>\n",
              "      <th>野球</th>\n",
              "    </tr>\n",
              "    <tr>\n",
              "      <th>sex</th>\n",
              "      <th></th>\n",
              "      <th></th>\n",
              "      <th></th>\n",
              "      <th></th>\n",
              "    </tr>\n",
              "  </thead>\n",
              "  <tbody>\n",
              "    <tr>\n",
              "      <th>女子</th>\n",
              "      <td>5</td>\n",
              "      <td>4</td>\n",
              "      <td>3</td>\n",
              "      <td>3</td>\n",
              "    </tr>\n",
              "    <tr>\n",
              "      <th>男子</th>\n",
              "      <td>7</td>\n",
              "      <td>2</td>\n",
              "      <td>1</td>\n",
              "      <td>5</td>\n",
              "    </tr>\n",
              "  </tbody>\n",
              "</table>\n",
              "</div>\n",
              "      <button class=\"colab-df-convert\" onclick=\"convertToInteractive('df-39bfc16d-92a0-4579-9bb0-8c4e72f499a7')\"\n",
              "              title=\"Convert this dataframe to an interactive table.\"\n",
              "              style=\"display:none;\">\n",
              "        \n",
              "  <svg xmlns=\"http://www.w3.org/2000/svg\" height=\"24px\"viewBox=\"0 0 24 24\"\n",
              "       width=\"24px\">\n",
              "    <path d=\"M0 0h24v24H0V0z\" fill=\"none\"/>\n",
              "    <path d=\"M18.56 5.44l.94 2.06.94-2.06 2.06-.94-2.06-.94-.94-2.06-.94 2.06-2.06.94zm-11 1L8.5 8.5l.94-2.06 2.06-.94-2.06-.94L8.5 2.5l-.94 2.06-2.06.94zm10 10l.94 2.06.94-2.06 2.06-.94-2.06-.94-.94-2.06-.94 2.06-2.06.94z\"/><path d=\"M17.41 7.96l-1.37-1.37c-.4-.4-.92-.59-1.43-.59-.52 0-1.04.2-1.43.59L10.3 9.45l-7.72 7.72c-.78.78-.78 2.05 0 2.83L4 21.41c.39.39.9.59 1.41.59.51 0 1.02-.2 1.41-.59l7.78-7.78 2.81-2.81c.8-.78.8-2.07 0-2.86zM5.41 20L4 18.59l7.72-7.72 1.47 1.35L5.41 20z\"/>\n",
              "  </svg>\n",
              "      </button>\n",
              "      \n",
              "  <style>\n",
              "    .colab-df-container {\n",
              "      display:flex;\n",
              "      flex-wrap:wrap;\n",
              "      gap: 12px;\n",
              "    }\n",
              "\n",
              "    .colab-df-convert {\n",
              "      background-color: #E8F0FE;\n",
              "      border: none;\n",
              "      border-radius: 50%;\n",
              "      cursor: pointer;\n",
              "      display: none;\n",
              "      fill: #1967D2;\n",
              "      height: 32px;\n",
              "      padding: 0 0 0 0;\n",
              "      width: 32px;\n",
              "    }\n",
              "\n",
              "    .colab-df-convert:hover {\n",
              "      background-color: #E2EBFA;\n",
              "      box-shadow: 0px 1px 2px rgba(60, 64, 67, 0.3), 0px 1px 3px 1px rgba(60, 64, 67, 0.15);\n",
              "      fill: #174EA6;\n",
              "    }\n",
              "\n",
              "    [theme=dark] .colab-df-convert {\n",
              "      background-color: #3B4455;\n",
              "      fill: #D2E3FC;\n",
              "    }\n",
              "\n",
              "    [theme=dark] .colab-df-convert:hover {\n",
              "      background-color: #434B5C;\n",
              "      box-shadow: 0px 1px 3px 1px rgba(0, 0, 0, 0.15);\n",
              "      filter: drop-shadow(0px 1px 2px rgba(0, 0, 0, 0.3));\n",
              "      fill: #FFFFFF;\n",
              "    }\n",
              "  </style>\n",
              "\n",
              "      <script>\n",
              "        const buttonEl =\n",
              "          document.querySelector('#df-39bfc16d-92a0-4579-9bb0-8c4e72f499a7 button.colab-df-convert');\n",
              "        buttonEl.style.display =\n",
              "          google.colab.kernel.accessAllowed ? 'block' : 'none';\n",
              "\n",
              "        async function convertToInteractive(key) {\n",
              "          const element = document.querySelector('#df-39bfc16d-92a0-4579-9bb0-8c4e72f499a7');\n",
              "          const dataTable =\n",
              "            await google.colab.kernel.invokeFunction('convertToInteractive',\n",
              "                                                     [key], {});\n",
              "          if (!dataTable) return;\n",
              "\n",
              "          const docLinkHtml = 'Like what you see? Visit the ' +\n",
              "            '<a target=\"_blank\" href=https://colab.research.google.com/notebooks/data_table.ipynb>data table notebook</a>'\n",
              "            + ' to learn more about interactive tables.';\n",
              "          element.innerHTML = '';\n",
              "          dataTable['output_type'] = 'display_data';\n",
              "          await google.colab.output.renderOutput(dataTable, element);\n",
              "          const docLink = document.createElement('div');\n",
              "          docLink.innerHTML = docLinkHtml;\n",
              "          element.appendChild(docLink);\n",
              "        }\n",
              "      </script>\n",
              "    </div>\n",
              "  </div>\n",
              "  "
            ]
          },
          "metadata": {},
          "execution_count": 13
        }
      ]
    },
    {
      "cell_type": "markdown",
      "source": [
        "実際に観測された度数を**観測度数**といいます。  \n",
        "上のクロス集計表は**観測度数**のクロス集計表です。"
      ],
      "metadata": {
        "id": "euGxbALE9BRw"
      }
    },
    {
      "cell_type": "code",
      "source": [
        "# dataframeの作成（説明用データ）\n",
        "data = {\n",
        "    \"sport\":[\"野球\",\"野球\",\"野球\",\"野球\",\"サッカー\",\"サッカー\",\"サッカー\",\"サッカー\",\"サッカー\",\"サッカー\",\n",
        "             \"テニス\",\"テニス\",\"テニス\",\"水泳\",\"水泳\",\"野球\",\"野球\",\"野球\",\"野球\",\"サッカー\",\n",
        "             \"サッカー\",\"サッカー\",\"サッカー\",\"サッカー\",\"サッカー\", \"テニス\",\"テニス\",\"テニス\",\"水泳\",\"水泳\"],\n",
        "    \"sex\":[\"男子\",\"男子\",\"男子\",\"男子\",\"男子\",\"男子\",\"男子\",\"男子\",\"男子\",\"男子\",\n",
        "           \"男子\",\"男子\",\"男子\",\"男子\",\"男子\",\"女子\",\"女子\",\"女子\",\"女子\",\"女子\",\n",
        "           \"女子\",\"女子\",\"女子\",\"女子\",\"女子\",\"女子\",\"女子\",\"女子\",\"女子\",\"女子\",],\n",
        "}\n",
        "\n",
        "df_test = pd.DataFrame(data)\n",
        "df_test.head(3)"
      ],
      "metadata": {
        "colab": {
          "base_uri": "https://localhost:8080/",
          "height": 143
        },
        "id": "Bzy4R_n29Nxf",
        "outputId": "baadf850-ae2b-4e03-91f3-0466b7f86e61"
      },
      "execution_count": null,
      "outputs": [
        {
          "output_type": "execute_result",
          "data": {
            "text/plain": [
              "  sport sex\n",
              "0    野球  男子\n",
              "1    野球  男子\n",
              "2    野球  男子"
            ],
            "text/html": [
              "\n",
              "  <div id=\"df-12dff59a-8a12-4725-865e-46ed3b50528a\">\n",
              "    <div class=\"colab-df-container\">\n",
              "      <div>\n",
              "<style scoped>\n",
              "    .dataframe tbody tr th:only-of-type {\n",
              "        vertical-align: middle;\n",
              "    }\n",
              "\n",
              "    .dataframe tbody tr th {\n",
              "        vertical-align: top;\n",
              "    }\n",
              "\n",
              "    .dataframe thead th {\n",
              "        text-align: right;\n",
              "    }\n",
              "</style>\n",
              "<table border=\"1\" class=\"dataframe\">\n",
              "  <thead>\n",
              "    <tr style=\"text-align: right;\">\n",
              "      <th></th>\n",
              "      <th>sport</th>\n",
              "      <th>sex</th>\n",
              "    </tr>\n",
              "  </thead>\n",
              "  <tbody>\n",
              "    <tr>\n",
              "      <th>0</th>\n",
              "      <td>野球</td>\n",
              "      <td>男子</td>\n",
              "    </tr>\n",
              "    <tr>\n",
              "      <th>1</th>\n",
              "      <td>野球</td>\n",
              "      <td>男子</td>\n",
              "    </tr>\n",
              "    <tr>\n",
              "      <th>2</th>\n",
              "      <td>野球</td>\n",
              "      <td>男子</td>\n",
              "    </tr>\n",
              "  </tbody>\n",
              "</table>\n",
              "</div>\n",
              "      <button class=\"colab-df-convert\" onclick=\"convertToInteractive('df-12dff59a-8a12-4725-865e-46ed3b50528a')\"\n",
              "              title=\"Convert this dataframe to an interactive table.\"\n",
              "              style=\"display:none;\">\n",
              "        \n",
              "  <svg xmlns=\"http://www.w3.org/2000/svg\" height=\"24px\"viewBox=\"0 0 24 24\"\n",
              "       width=\"24px\">\n",
              "    <path d=\"M0 0h24v24H0V0z\" fill=\"none\"/>\n",
              "    <path d=\"M18.56 5.44l.94 2.06.94-2.06 2.06-.94-2.06-.94-.94-2.06-.94 2.06-2.06.94zm-11 1L8.5 8.5l.94-2.06 2.06-.94-2.06-.94L8.5 2.5l-.94 2.06-2.06.94zm10 10l.94 2.06.94-2.06 2.06-.94-2.06-.94-.94-2.06-.94 2.06-2.06.94z\"/><path d=\"M17.41 7.96l-1.37-1.37c-.4-.4-.92-.59-1.43-.59-.52 0-1.04.2-1.43.59L10.3 9.45l-7.72 7.72c-.78.78-.78 2.05 0 2.83L4 21.41c.39.39.9.59 1.41.59.51 0 1.02-.2 1.41-.59l7.78-7.78 2.81-2.81c.8-.78.8-2.07 0-2.86zM5.41 20L4 18.59l7.72-7.72 1.47 1.35L5.41 20z\"/>\n",
              "  </svg>\n",
              "      </button>\n",
              "      \n",
              "  <style>\n",
              "    .colab-df-container {\n",
              "      display:flex;\n",
              "      flex-wrap:wrap;\n",
              "      gap: 12px;\n",
              "    }\n",
              "\n",
              "    .colab-df-convert {\n",
              "      background-color: #E8F0FE;\n",
              "      border: none;\n",
              "      border-radius: 50%;\n",
              "      cursor: pointer;\n",
              "      display: none;\n",
              "      fill: #1967D2;\n",
              "      height: 32px;\n",
              "      padding: 0 0 0 0;\n",
              "      width: 32px;\n",
              "    }\n",
              "\n",
              "    .colab-df-convert:hover {\n",
              "      background-color: #E2EBFA;\n",
              "      box-shadow: 0px 1px 2px rgba(60, 64, 67, 0.3), 0px 1px 3px 1px rgba(60, 64, 67, 0.15);\n",
              "      fill: #174EA6;\n",
              "    }\n",
              "\n",
              "    [theme=dark] .colab-df-convert {\n",
              "      background-color: #3B4455;\n",
              "      fill: #D2E3FC;\n",
              "    }\n",
              "\n",
              "    [theme=dark] .colab-df-convert:hover {\n",
              "      background-color: #434B5C;\n",
              "      box-shadow: 0px 1px 3px 1px rgba(0, 0, 0, 0.15);\n",
              "      filter: drop-shadow(0px 1px 2px rgba(0, 0, 0, 0.3));\n",
              "      fill: #FFFFFF;\n",
              "    }\n",
              "  </style>\n",
              "\n",
              "      <script>\n",
              "        const buttonEl =\n",
              "          document.querySelector('#df-12dff59a-8a12-4725-865e-46ed3b50528a button.colab-df-convert');\n",
              "        buttonEl.style.display =\n",
              "          google.colab.kernel.accessAllowed ? 'block' : 'none';\n",
              "\n",
              "        async function convertToInteractive(key) {\n",
              "          const element = document.querySelector('#df-12dff59a-8a12-4725-865e-46ed3b50528a');\n",
              "          const dataTable =\n",
              "            await google.colab.kernel.invokeFunction('convertToInteractive',\n",
              "                                                     [key], {});\n",
              "          if (!dataTable) return;\n",
              "\n",
              "          const docLinkHtml = 'Like what you see? Visit the ' +\n",
              "            '<a target=\"_blank\" href=https://colab.research.google.com/notebooks/data_table.ipynb>data table notebook</a>'\n",
              "            + ' to learn more about interactive tables.';\n",
              "          element.innerHTML = '';\n",
              "          dataTable['output_type'] = 'display_data';\n",
              "          await google.colab.output.renderOutput(dataTable, element);\n",
              "          const docLink = document.createElement('div');\n",
              "          docLink.innerHTML = docLinkHtml;\n",
              "          element.appendChild(docLink);\n",
              "        }\n",
              "      </script>\n",
              "    </div>\n",
              "  </div>\n",
              "  "
            ]
          },
          "metadata": {},
          "execution_count": 14
        }
      ]
    },
    {
      "cell_type": "code",
      "source": [
        "# クロス集計表の作成\n",
        "cont_testtable = pd.crosstab(df_test[\"sex\"],df_test[\"sport\"])\n",
        "cont_testtable"
      ],
      "metadata": {
        "colab": {
          "base_uri": "https://localhost:8080/",
          "height": 143
        },
        "id": "QM8OTDxN-MI9",
        "outputId": "32c33148-33dd-4665-b997-7cd51eafa300"
      },
      "execution_count": null,
      "outputs": [
        {
          "output_type": "execute_result",
          "data": {
            "text/plain": [
              "sport  サッカー  テニス  水泳  野球\n",
              "sex                     \n",
              "女子        6    3   2   4\n",
              "男子        6    3   2   4"
            ],
            "text/html": [
              "\n",
              "  <div id=\"df-e21c90a4-c2d3-4d76-a9b9-843b99ba120a\">\n",
              "    <div class=\"colab-df-container\">\n",
              "      <div>\n",
              "<style scoped>\n",
              "    .dataframe tbody tr th:only-of-type {\n",
              "        vertical-align: middle;\n",
              "    }\n",
              "\n",
              "    .dataframe tbody tr th {\n",
              "        vertical-align: top;\n",
              "    }\n",
              "\n",
              "    .dataframe thead th {\n",
              "        text-align: right;\n",
              "    }\n",
              "</style>\n",
              "<table border=\"1\" class=\"dataframe\">\n",
              "  <thead>\n",
              "    <tr style=\"text-align: right;\">\n",
              "      <th>sport</th>\n",
              "      <th>サッカー</th>\n",
              "      <th>テニス</th>\n",
              "      <th>水泳</th>\n",
              "      <th>野球</th>\n",
              "    </tr>\n",
              "    <tr>\n",
              "      <th>sex</th>\n",
              "      <th></th>\n",
              "      <th></th>\n",
              "      <th></th>\n",
              "      <th></th>\n",
              "    </tr>\n",
              "  </thead>\n",
              "  <tbody>\n",
              "    <tr>\n",
              "      <th>女子</th>\n",
              "      <td>6</td>\n",
              "      <td>3</td>\n",
              "      <td>2</td>\n",
              "      <td>4</td>\n",
              "    </tr>\n",
              "    <tr>\n",
              "      <th>男子</th>\n",
              "      <td>6</td>\n",
              "      <td>3</td>\n",
              "      <td>2</td>\n",
              "      <td>4</td>\n",
              "    </tr>\n",
              "  </tbody>\n",
              "</table>\n",
              "</div>\n",
              "      <button class=\"colab-df-convert\" onclick=\"convertToInteractive('df-e21c90a4-c2d3-4d76-a9b9-843b99ba120a')\"\n",
              "              title=\"Convert this dataframe to an interactive table.\"\n",
              "              style=\"display:none;\">\n",
              "        \n",
              "  <svg xmlns=\"http://www.w3.org/2000/svg\" height=\"24px\"viewBox=\"0 0 24 24\"\n",
              "       width=\"24px\">\n",
              "    <path d=\"M0 0h24v24H0V0z\" fill=\"none\"/>\n",
              "    <path d=\"M18.56 5.44l.94 2.06.94-2.06 2.06-.94-2.06-.94-.94-2.06-.94 2.06-2.06.94zm-11 1L8.5 8.5l.94-2.06 2.06-.94-2.06-.94L8.5 2.5l-.94 2.06-2.06.94zm10 10l.94 2.06.94-2.06 2.06-.94-2.06-.94-.94-2.06-.94 2.06-2.06.94z\"/><path d=\"M17.41 7.96l-1.37-1.37c-.4-.4-.92-.59-1.43-.59-.52 0-1.04.2-1.43.59L10.3 9.45l-7.72 7.72c-.78.78-.78 2.05 0 2.83L4 21.41c.39.39.9.59 1.41.59.51 0 1.02-.2 1.41-.59l7.78-7.78 2.81-2.81c.8-.78.8-2.07 0-2.86zM5.41 20L4 18.59l7.72-7.72 1.47 1.35L5.41 20z\"/>\n",
              "  </svg>\n",
              "      </button>\n",
              "      \n",
              "  <style>\n",
              "    .colab-df-container {\n",
              "      display:flex;\n",
              "      flex-wrap:wrap;\n",
              "      gap: 12px;\n",
              "    }\n",
              "\n",
              "    .colab-df-convert {\n",
              "      background-color: #E8F0FE;\n",
              "      border: none;\n",
              "      border-radius: 50%;\n",
              "      cursor: pointer;\n",
              "      display: none;\n",
              "      fill: #1967D2;\n",
              "      height: 32px;\n",
              "      padding: 0 0 0 0;\n",
              "      width: 32px;\n",
              "    }\n",
              "\n",
              "    .colab-df-convert:hover {\n",
              "      background-color: #E2EBFA;\n",
              "      box-shadow: 0px 1px 2px rgba(60, 64, 67, 0.3), 0px 1px 3px 1px rgba(60, 64, 67, 0.15);\n",
              "      fill: #174EA6;\n",
              "    }\n",
              "\n",
              "    [theme=dark] .colab-df-convert {\n",
              "      background-color: #3B4455;\n",
              "      fill: #D2E3FC;\n",
              "    }\n",
              "\n",
              "    [theme=dark] .colab-df-convert:hover {\n",
              "      background-color: #434B5C;\n",
              "      box-shadow: 0px 1px 3px 1px rgba(0, 0, 0, 0.15);\n",
              "      filter: drop-shadow(0px 1px 2px rgba(0, 0, 0, 0.3));\n",
              "      fill: #FFFFFF;\n",
              "    }\n",
              "  </style>\n",
              "\n",
              "      <script>\n",
              "        const buttonEl =\n",
              "          document.querySelector('#df-e21c90a4-c2d3-4d76-a9b9-843b99ba120a button.colab-df-convert');\n",
              "        buttonEl.style.display =\n",
              "          google.colab.kernel.accessAllowed ? 'block' : 'none';\n",
              "\n",
              "        async function convertToInteractive(key) {\n",
              "          const element = document.querySelector('#df-e21c90a4-c2d3-4d76-a9b9-843b99ba120a');\n",
              "          const dataTable =\n",
              "            await google.colab.kernel.invokeFunction('convertToInteractive',\n",
              "                                                     [key], {});\n",
              "          if (!dataTable) return;\n",
              "\n",
              "          const docLinkHtml = 'Like what you see? Visit the ' +\n",
              "            '<a target=\"_blank\" href=https://colab.research.google.com/notebooks/data_table.ipynb>data table notebook</a>'\n",
              "            + ' to learn more about interactive tables.';\n",
              "          element.innerHTML = '';\n",
              "          dataTable['output_type'] = 'display_data';\n",
              "          await google.colab.output.renderOutput(dataTable, element);\n",
              "          const docLink = document.createElement('div');\n",
              "          docLink.innerHTML = docLinkHtml;\n",
              "          element.appendChild(docLink);\n",
              "        }\n",
              "      </script>\n",
              "    </div>\n",
              "  </div>\n",
              "  "
            ]
          },
          "metadata": {},
          "execution_count": 15
        }
      ]
    },
    {
      "cell_type": "markdown",
      "source": [
        "それぞれの変数が独立であると想定した場合に期待される度数を**期待度数**といいます。  \n",
        "上のクロス集計表は**期待度数**のクロス集計表です。"
      ],
      "metadata": {
        "id": "OzgOpkZ5-fFE"
      }
    },
    {
      "cell_type": "markdown",
      "source": [
        "### カイ二乗値"
      ],
      "metadata": {
        "id": "9qOAPIMC_Tt7"
      }
    },
    {
      "cell_type": "markdown",
      "source": [
        "連関の強さを見るためには、観測度数が期待度数からどのくらい離れているかを見ます。\n",
        "\n",
        "観測度数が期待度数からどれくらい離れているかを計算した値を**カイ二乗値**（**$\\chi^2$**）といいます。"
      ],
      "metadata": {
        "id": "vkEvw5YD_abq"
      }
    },
    {
      "cell_type": "markdown",
      "source": [
        "※$a$行$b$列のクロス集計表における$i$行$j$列の観測度数を$n_{ij}$、期待度数を$e_{ij}$とする。\n",
        "\n",
        "$$\n",
        "\\chi^2 = \\sum_{i=1}^{a}\\sum_{j=1}^{b} \\frac{(n_{ij}-e_{ij})^2}{e_{ij}})\n",
        "$$"
      ],
      "metadata": {
        "id": "InttI2dLAZvz"
      }
    },
    {
      "cell_type": "markdown",
      "source": [
        "実際にPythonを使ってカイ二乗値を求めてみましょう。"
      ],
      "metadata": {
        "id": "PEIYPMS4B6qp"
      }
    },
    {
      "cell_type": "code",
      "source": [
        "cont_table = pd.crosstab(df[\"sex\"],df[\"sport\"])\n",
        "stats.chi2_contingency(cont_table , correction=False)"
      ],
      "metadata": {
        "colab": {
          "base_uri": "https://localhost:8080/"
        },
        "id": "eW1bx2VNB_lv",
        "outputId": "19b441ce-356c-425b-f81b-f7ab245cc55e"
      },
      "execution_count": null,
      "outputs": [
        {
          "output_type": "execute_result",
          "data": {
            "text/plain": [
              "(2.5, 0.4752910833430205, 3, array([[6., 3., 2., 4.],\n",
              "        [6., 3., 2., 4.]]))"
            ]
          },
          "metadata": {},
          "execution_count": 16
        }
      ]
    },
    {
      "cell_type": "markdown",
      "source": [
        "第一戻り値が**カイ二乗値**、第四戻り値が**期待度数**になります。\n",
        "\n",
        "カイ二乗値が$2.5$であると算出することができました。"
      ],
      "metadata": {
        "id": "PXOIXN7SCg7s"
      }
    },
    {
      "cell_type": "markdown",
      "source": [
        "### クラメールの連関係数"
      ],
      "metadata": {
        "id": "YVH7MHgNDkwj"
      }
    },
    {
      "cell_type": "markdown",
      "source": [
        "カイ二乗値は共分散と同じく標準化された値ではないので、  \n",
        "これを標準化する必要があります。"
      ],
      "metadata": {
        "id": "m8DpI1x0BoM2"
      }
    },
    {
      "cell_type": "markdown",
      "source": [
        "カイ二乗値を$0～1$に標準化した値を**クラメールの連関係数**といいます。  \n",
        "連関の強さを表す指標として最も使われます。"
      ],
      "metadata": {
        "id": "MnePwiYrD35Z"
      }
    },
    {
      "cell_type": "markdown",
      "source": [
        "※$min(a,b)$は行数$a$と列数$b$の小さい方\n",
        "\n",
        "$$\n",
        "V = \\sqrt\\frac{\\chi^2}{(min(a,b)-1)N}\n",
        "$$"
      ],
      "metadata": {
        "id": "eiZDCaNOEO2a"
      }
    },
    {
      "cell_type": "markdown",
      "source": [
        "統計学上はクラメールの連関係数よりもカイ二乗値の方が重要(？)なので、  \n",
        "計算は省略します。"
      ],
      "metadata": {
        "id": "ZHd1N7yUFKAB"
      }
    }
  ]
}