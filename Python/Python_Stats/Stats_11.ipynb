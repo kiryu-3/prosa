{
  "nbformat": 4,
  "nbformat_minor": 0,
  "metadata": {
    "colab": {
      "provenance": [],
      "toc_visible": true,
      "authorship_tag": "ABX9TyMnvoZMdjGnxIL6OtGL9FwZ",
      "include_colab_link": true
    },
    "kernelspec": {
      "name": "python3",
      "display_name": "Python 3"
    },
    "language_info": {
      "name": "python"
    }
  },
  "cells": [
    {
      "cell_type": "markdown",
      "metadata": {
        "id": "view-in-github",
        "colab_type": "text"
      },
      "source": [
        "<a href=\"https://colab.research.google.com/github/kiryu-3/prosa/blob/main/Python/Python_Stats/Stats_11.ipynb\" target=\"_parent\"><img src=\"https://colab.research.google.com/assets/colab-badge.svg\" alt=\"Open In Colab\"/></a>"
      ]
    },
    {
      "cell_type": "markdown",
      "source": [
        "# 平均値差の検定（対応なし）"
      ],
      "metadata": {
        "id": "mEXC6_GUCafo"
      }
    },
    {
      "cell_type": "code",
      "execution_count": null,
      "metadata": {
        "id": "o9R2t63dCQv-"
      },
      "outputs": [],
      "source": [
        "import numpy as np\n",
        "import pandas as pd\n",
        "import matplotlib.pyplot as plt\n",
        "!pip install japanize-matplotlib\n",
        "import japanize_matplotlib\n",
        "import seaborn as sns\n",
        "from scipy import stats\n",
        "from scipy.stats import norm\n",
        "from scipy.stats import binom\n",
        "from scipy.stats import t\n",
        "from decimal import Decimal, ROUND_HALF_UP, ROUND_HALF_EVEN\n",
        "from statsmodels.stats.proportion import proportions_ztest"
      ]
    },
    {
      "cell_type": "markdown",
      "source": [
        "## 平均値差の検定"
      ],
      "metadata": {
        "id": "XnbfJ3kFC7Af"
      }
    },
    {
      "cell_type": "markdown",
      "source": [
        "ある2つの母集団の平均値に差があるのかを調べる検定を**平均値差の検定**といいます。  \n",
        "$t$**検定**と呼ばれることもあります。\n",
        "\n",
        "最も有名な検定で、論文を書く際などにも用いられているようです。"
      ],
      "metadata": {
        "id": "Rs40Cp6QDBCF"
      }
    },
    {
      "cell_type": "markdown",
      "source": [
        "### 対応ありと対応なし"
      ],
      "metadata": {
        "id": "aSxvDogCDWjb"
      }
    },
    {
      "cell_type": "markdown",
      "source": [
        "$2$つの母集団からそれぞれ平均値を計算したとします。\n",
        "\n",
        "条件を変えても測定した母集団が同じであることを**対応あり**といいい、  \n",
        "それぞれの条件において測定した母集団が異なることを**対応なし**といいます。  "
      ],
      "metadata": {
        "id": "hdA-ZjK2DY1E"
      }
    },
    {
      "cell_type": "markdown",
      "source": [
        "**対応あり**の場合はかなり難しいので、今回は**対応なし**の検定について見ていきます。"
      ],
      "metadata": {
        "id": "BdMGXMSsHve7"
      }
    },
    {
      "cell_type": "markdown",
      "source": [
        "## 平均値差の検定（大標本の場合）"
      ],
      "metadata": {
        "id": "C3lvq36SH3rr"
      }
    },
    {
      "cell_type": "markdown",
      "source": [
        "2つの標本から得た標本平均を使って  \n",
        "母平均が等しいかを検定していきましょう。\n",
        "\n",
        "[こちら](https://bit.ly/3Kc60n3)の問題を解いていきます。\n",
        "\n",
        "※大体30個ほど標本が取れれば、大標本として検定できるといわれています"
      ],
      "metadata": {
        "id": "hBTH4jC4KVBf"
      }
    },
    {
      "cell_type": "markdown",
      "source": [
        "### 仮説検定のステップ（再掲）\n",
        "①帰無仮説と対立仮説を立てる  \n",
        "②帰無仮説のもとで標本観察を行う  \n",
        "③帰無仮説を棄却できるかどうかを確認する"
      ],
      "metadata": {
        "id": "7SW4DH3Cwq2A"
      }
    },
    {
      "cell_type": "markdown",
      "source": [
        "#### ① 帰無仮説と対立仮説を立てる  "
      ],
      "metadata": {
        "id": "GSPUhAnNw1Ev"
      }
    },
    {
      "cell_type": "markdown",
      "source": [
        "帰無仮説と対立仮説は以下のようになります。（**両側検定**になります）\n",
        "\n",
        "帰無仮説$H_0$：「1組と2組の算数のテストの平均点は等しい」  \n",
        "対立仮説$H_1$：「1組と2組の算数のテストの平均点には差がある」"
      ],
      "metadata": {
        "id": "cLsiZsQLxMnF"
      }
    },
    {
      "cell_type": "markdown",
      "source": [
        "#### ② 帰無仮説のもとで標本観察を行う "
      ],
      "metadata": {
        "id": "Nndlqp9KCJTt"
      }
    },
    {
      "cell_type": "markdown",
      "source": [
        "それぞれの母集団の平均を $\\mu_1 , \\mu_2$ 、標準偏差を $\\sigma_1,\\sigma_2$とした場合を考えます。"
      ],
      "metadata": {
        "id": "5ZhR7NuiLgVA"
      }
    },
    {
      "cell_type": "markdown",
      "source": [
        "標本平均$\\bar{x}_1$が従う確率分布は、$n$が大きいので、  \n",
        "母集団の確率分布にかかわわず正規分布です。\n",
        "\n",
        "平均 $=\\mu_1$   \n",
        "分散 $=\\frac{\\sigma_1^2}{n_1}$"
      ],
      "metadata": {
        "id": "EmA3dkn5L0Jt"
      }
    },
    {
      "cell_type": "markdown",
      "source": [
        "標本平均$\\bar{x}_2$が従う確率分布は、$n$が大きいので、  \n",
        "母集団の確率分布にかかわわず正規分布です。\n",
        "\n",
        "平均 $=\\mu_2$   \n",
        "分散 $=\\frac{\\sigma_2^2}{n_2}$"
      ],
      "metadata": {
        "id": "pa108mZTNIEn"
      }
    },
    {
      "cell_type": "markdown",
      "source": [
        "今回求めたいのは $\\bar{x}_1-\\bar{x}_2$ が従う確率分布です。\n",
        "\n",
        "どのような確率分布に従うのでしょうか？"
      ],
      "metadata": {
        "id": "tvkH35KeC1z2"
      }
    },
    {
      "cell_type": "markdown",
      "source": [
        "今回は$\\bar{x}_1,\\bar{x}_2$ともに正規分布に従うため、  \n",
        "比率の差の標本分布の時と同様、**平均の差**と**分散の和**が  \n",
        "平均の差の標本分布の標本値になります。"
      ],
      "metadata": {
        "id": "avGc_c-FNh87"
      }
    },
    {
      "cell_type": "markdown",
      "source": [
        "よって、標準偏差は以下のようになります。\n",
        "\n",
        "$$\n",
        "\\sigma = \\sqrt{\\frac{\\sigma_1^2}{n_1}+\\frac{\\sigma_2^2}{n_2}}\n",
        "$$"
      ],
      "metadata": {
        "id": "_2sw4veLOsE4"
      }
    },
    {
      "cell_type": "markdown",
      "source": [
        "$\\sigma_1^2$と$\\sigma_2^2$は母集団の分散なので不定値です。  \n",
        "そのため、代わりに**不偏分散** $s^{'2}_1$と $s^{'2}_2$を使います。"
      ],
      "metadata": {
        "id": "5fs5Jd7QPLs_"
      }
    },
    {
      "cell_type": "markdown",
      "source": [
        "$$\n",
        "\\sigma = \\sqrt{\\frac{s^{'2}_1}{n_1}+\\frac{s^{'2}_2}{n_2}}\n",
        "$$"
      ],
      "metadata": {
        "id": "RFe4AdpRPwBl"
      }
    },
    {
      "cell_type": "markdown",
      "source": [
        "今回は帰無仮説が正しいと仮定しているので、$\\mu_1=\\mu_2$ となります。\n",
        "\n",
        "大標本であるので、標準化をすれば標準正規分布の形に持っていけます。"
      ],
      "metadata": {
        "id": "NQBBjyfMOP-o"
      }
    },
    {
      "cell_type": "markdown",
      "source": [
        "$$\n",
        "z = \\frac{\\bar{x}_1-\\bar{x}_2}{\\sqrt{\\frac{s^{'2}_1}{n_1}+\\frac{s^{'2}_2}{n_2}}}\n",
        "$$"
      ],
      "metadata": {
        "id": "1twwip4zOgmH"
      }
    },
    {
      "cell_type": "markdown",
      "source": [
        "上の式に従って$z$値を導出します。"
      ],
      "metadata": {
        "id": "2kVekPGoQmQr"
      }
    },
    {
      "cell_type": "markdown",
      "source": [
        "#### ③ 帰無仮説を棄却できるかどうかを確認する"
      ],
      "metadata": {
        "id": "08f-T6hz0Rs4"
      }
    },
    {
      "cell_type": "markdown",
      "source": [
        "有意水準を$5$%に設定します。"
      ],
      "metadata": {
        "id": "aD--a35-0ceZ"
      }
    },
    {
      "cell_type": "markdown",
      "source": [
        "②で導出した$z$値と、有意水準に基づく$z$値を比較し、  \n",
        "($p$**値を求めて**) 棄却が必要かどうか決めます。  "
      ],
      "metadata": {
        "id": "rx8HL8ht0mQJ"
      }
    },
    {
      "cell_type": "markdown",
      "source": [
        "### Pythonによる仮説検定"
      ],
      "metadata": {
        "id": "BSqd_-xhTEuH"
      }
    },
    {
      "cell_type": "markdown",
      "source": [
        "では母平均の差の検定（大標本の場合）を行っていきましょう。"
      ],
      "metadata": {
        "id": "aqI1X6v0TG8p"
      }
    },
    {
      "cell_type": "code",
      "source": [
        "n1 = 30      # 1組の生徒数\n",
        "n2 = 32      # 2組の生徒数\n",
        "mean1 = 75   # 1組の平均点\n",
        "mean2 = 70   # 2組の平均点\n",
        "var1 = 5**2  # 1組の不偏分散\n",
        "var2 = 8**2  # 2組の不偏分散"
      ],
      "metadata": {
        "id": "Fwf7JR9HTKJo"
      },
      "execution_count": 2,
      "outputs": []
    },
    {
      "cell_type": "code",
      "source": [
        "z = (mean1 - mean2) / np.sqrt(var1/n1 + var2/n2)\n",
        "print(f\"検定統計量のz値:{z}\")  # t値とは少しズレる"
      ],
      "metadata": {
        "colab": {
          "base_uri": "https://localhost:8080/"
        },
        "id": "hnY0FEstUlGM",
        "outputId": "1f364524-1b8b-4374-b29f-e1b6799fe69a"
      },
      "execution_count": 3,
      "outputs": [
        {
          "output_type": "stream",
          "name": "stdout",
          "text": [
            "検定統計量のz値:2.9704426289300225\n"
          ]
        }
      ]
    },
    {
      "cell_type": "markdown",
      "source": [
        "* $z$値が$1.96$より大きくなった\n",
        "\n",
        "この一点から、帰無仮説$H_0$を棄却することができます。  \n",
        "よって、対立仮説$H_1$を採択します。"
      ],
      "metadata": {
        "id": "DSE_RPz1apDT"
      }
    },
    {
      "cell_type": "markdown",
      "source": [
        "## 平均値差の検定（小標本の場合その1）"
      ],
      "metadata": {
        "id": "pSw_f7iDbJKO"
      }
    },
    {
      "cell_type": "markdown",
      "source": [
        "「2つの母集団の分布が正規分布ではない」と分かっている場合は、  \n",
        "**ノンパラメトリック検定**を行う必要があります。  \n",
        "\n",
        "かなり難しいので、本資料では登場しません。  \n",
        "[こちら](https://bellcurve.jp/statistics/course/26258.html)を参照してください。\n"
      ],
      "metadata": {
        "id": "-2l70V7IbeW_"
      }
    },
    {
      "cell_type": "markdown",
      "source": [
        "「2つの母集団が正規分布である」という前提の元で、  \n",
        "なおかつ、「母分散が等しい」という前提の元では、  \n",
        "**スチューデントの$t$検定**を行います。  \n",
        "\n",
        "一般的に$t$検定といわれたらこの**スチューデントの$t$検定**を指します。"
      ],
      "metadata": {
        "id": "3rQdigzbcHTu"
      }
    },
    {
      "cell_type": "markdown",
      "source": [
        "2つの標本から得た標本平均を使って  \n",
        "母平均が等しいかを検定していきましょう。\n",
        "\n",
        "ここでは都道府県別の男性と女性の平均睡眠時間に差があるかを検定します。  \n",
        "`todohuken_kaidata.csv`をインポートしてください。\n"
      ],
      "metadata": {
        "id": "c3dR7UChbJKP"
      }
    },
    {
      "cell_type": "code",
      "source": [
        "df = pd.read_csv(\"todohuken_kaidata.csv\")\n",
        "df.head(3)"
      ],
      "metadata": {
        "colab": {
          "base_uri": "https://localhost:8080/",
          "height": 430
        },
        "id": "YVf6uIfRAn3W",
        "outputId": "aa385b8f-a99b-4e81-f489-9432fc69747d"
      },
      "execution_count": 4,
      "outputs": [
        {
          "output_type": "execute_result",
          "data": {
            "text/plain": [
              "  都道府県     地方  15歳以上の平均睡眠時間（男）  15歳以上の平均睡眠時間（女）  運転免許保有者割合（%）  \\\n",
              "0  北海道  北海道地方              473              465          63.4   \n",
              "1  青森県   東北地方              486              470          66.4   \n",
              "2  岩手県   東北地方              477              469          67.6   \n",
              "\n",
              "   農業従事者（人口100人あたり）  平均通勤時間（片道）  自動車保有台数（人口100人あたり）  鉄道旅客輸送量(人口一人あたり)  \n",
              "0              1.79        20.2               68.67             65.90  \n",
              "1              4.95        20.2               77.65             13.10  \n",
              "2              5.50        20.0               80.55             20.86  "
            ],
            "text/html": [
              "\n",
              "  <div id=\"df-2e3aada9-4e6b-403f-807c-25e4d8beaccf\">\n",
              "    <div class=\"colab-df-container\">\n",
              "      <div>\n",
              "<style scoped>\n",
              "    .dataframe tbody tr th:only-of-type {\n",
              "        vertical-align: middle;\n",
              "    }\n",
              "\n",
              "    .dataframe tbody tr th {\n",
              "        vertical-align: top;\n",
              "    }\n",
              "\n",
              "    .dataframe thead th {\n",
              "        text-align: right;\n",
              "    }\n",
              "</style>\n",
              "<table border=\"1\" class=\"dataframe\">\n",
              "  <thead>\n",
              "    <tr style=\"text-align: right;\">\n",
              "      <th></th>\n",
              "      <th>都道府県</th>\n",
              "      <th>地方</th>\n",
              "      <th>15歳以上の平均睡眠時間（男）</th>\n",
              "      <th>15歳以上の平均睡眠時間（女）</th>\n",
              "      <th>運転免許保有者割合（%）</th>\n",
              "      <th>農業従事者（人口100人あたり）</th>\n",
              "      <th>平均通勤時間（片道）</th>\n",
              "      <th>自動車保有台数（人口100人あたり）</th>\n",
              "      <th>鉄道旅客輸送量(人口一人あたり)</th>\n",
              "    </tr>\n",
              "  </thead>\n",
              "  <tbody>\n",
              "    <tr>\n",
              "      <th>0</th>\n",
              "      <td>北海道</td>\n",
              "      <td>北海道地方</td>\n",
              "      <td>473</td>\n",
              "      <td>465</td>\n",
              "      <td>63.4</td>\n",
              "      <td>1.79</td>\n",
              "      <td>20.2</td>\n",
              "      <td>68.67</td>\n",
              "      <td>65.90</td>\n",
              "    </tr>\n",
              "    <tr>\n",
              "      <th>1</th>\n",
              "      <td>青森県</td>\n",
              "      <td>東北地方</td>\n",
              "      <td>486</td>\n",
              "      <td>470</td>\n",
              "      <td>66.4</td>\n",
              "      <td>4.95</td>\n",
              "      <td>20.2</td>\n",
              "      <td>77.65</td>\n",
              "      <td>13.10</td>\n",
              "    </tr>\n",
              "    <tr>\n",
              "      <th>2</th>\n",
              "      <td>岩手県</td>\n",
              "      <td>東北地方</td>\n",
              "      <td>477</td>\n",
              "      <td>469</td>\n",
              "      <td>67.6</td>\n",
              "      <td>5.50</td>\n",
              "      <td>20.0</td>\n",
              "      <td>80.55</td>\n",
              "      <td>20.86</td>\n",
              "    </tr>\n",
              "  </tbody>\n",
              "</table>\n",
              "</div>\n",
              "      <button class=\"colab-df-convert\" onclick=\"convertToInteractive('df-2e3aada9-4e6b-403f-807c-25e4d8beaccf')\"\n",
              "              title=\"Convert this dataframe to an interactive table.\"\n",
              "              style=\"display:none;\">\n",
              "        \n",
              "  <svg xmlns=\"http://www.w3.org/2000/svg\" height=\"24px\"viewBox=\"0 0 24 24\"\n",
              "       width=\"24px\">\n",
              "    <path d=\"M0 0h24v24H0V0z\" fill=\"none\"/>\n",
              "    <path d=\"M18.56 5.44l.94 2.06.94-2.06 2.06-.94-2.06-.94-.94-2.06-.94 2.06-2.06.94zm-11 1L8.5 8.5l.94-2.06 2.06-.94-2.06-.94L8.5 2.5l-.94 2.06-2.06.94zm10 10l.94 2.06.94-2.06 2.06-.94-2.06-.94-.94-2.06-.94 2.06-2.06.94z\"/><path d=\"M17.41 7.96l-1.37-1.37c-.4-.4-.92-.59-1.43-.59-.52 0-1.04.2-1.43.59L10.3 9.45l-7.72 7.72c-.78.78-.78 2.05 0 2.83L4 21.41c.39.39.9.59 1.41.59.51 0 1.02-.2 1.41-.59l7.78-7.78 2.81-2.81c.8-.78.8-2.07 0-2.86zM5.41 20L4 18.59l7.72-7.72 1.47 1.35L5.41 20z\"/>\n",
              "  </svg>\n",
              "      </button>\n",
              "      \n",
              "  <style>\n",
              "    .colab-df-container {\n",
              "      display:flex;\n",
              "      flex-wrap:wrap;\n",
              "      gap: 12px;\n",
              "    }\n",
              "\n",
              "    .colab-df-convert {\n",
              "      background-color: #E8F0FE;\n",
              "      border: none;\n",
              "      border-radius: 50%;\n",
              "      cursor: pointer;\n",
              "      display: none;\n",
              "      fill: #1967D2;\n",
              "      height: 32px;\n",
              "      padding: 0 0 0 0;\n",
              "      width: 32px;\n",
              "    }\n",
              "\n",
              "    .colab-df-convert:hover {\n",
              "      background-color: #E2EBFA;\n",
              "      box-shadow: 0px 1px 2px rgba(60, 64, 67, 0.3), 0px 1px 3px 1px rgba(60, 64, 67, 0.15);\n",
              "      fill: #174EA6;\n",
              "    }\n",
              "\n",
              "    [theme=dark] .colab-df-convert {\n",
              "      background-color: #3B4455;\n",
              "      fill: #D2E3FC;\n",
              "    }\n",
              "\n",
              "    [theme=dark] .colab-df-convert:hover {\n",
              "      background-color: #434B5C;\n",
              "      box-shadow: 0px 1px 3px 1px rgba(0, 0, 0, 0.15);\n",
              "      filter: drop-shadow(0px 1px 2px rgba(0, 0, 0, 0.3));\n",
              "      fill: #FFFFFF;\n",
              "    }\n",
              "  </style>\n",
              "\n",
              "      <script>\n",
              "        const buttonEl =\n",
              "          document.querySelector('#df-2e3aada9-4e6b-403f-807c-25e4d8beaccf button.colab-df-convert');\n",
              "        buttonEl.style.display =\n",
              "          google.colab.kernel.accessAllowed ? 'block' : 'none';\n",
              "\n",
              "        async function convertToInteractive(key) {\n",
              "          const element = document.querySelector('#df-2e3aada9-4e6b-403f-807c-25e4d8beaccf');\n",
              "          const dataTable =\n",
              "            await google.colab.kernel.invokeFunction('convertToInteractive',\n",
              "                                                     [key], {});\n",
              "          if (!dataTable) return;\n",
              "\n",
              "          const docLinkHtml = 'Like what you see? Visit the ' +\n",
              "            '<a target=\"_blank\" href=https://colab.research.google.com/notebooks/data_table.ipynb>data table notebook</a>'\n",
              "            + ' to learn more about interactive tables.';\n",
              "          element.innerHTML = '';\n",
              "          dataTable['output_type'] = 'display_data';\n",
              "          await google.colab.output.renderOutput(dataTable, element);\n",
              "          const docLink = document.createElement('div');\n",
              "          docLink.innerHTML = docLinkHtml;\n",
              "          element.appendChild(docLink);\n",
              "        }\n",
              "      </script>\n",
              "    </div>\n",
              "  </div>\n",
              "  "
            ]
          },
          "metadata": {},
          "execution_count": 4
        }
      ]
    },
    {
      "cell_type": "markdown",
      "source": [
        "### 仮説検定のステップ（再掲）\n",
        "①帰無仮説と対立仮説を立てる  \n",
        "②帰無仮説のもとで標本観察を行う  \n",
        "③帰無仮説を棄却できるかどうかを確認する"
      ],
      "metadata": {
        "id": "ITZ_seHfbJKP"
      }
    },
    {
      "cell_type": "markdown",
      "source": [
        "#### ① 帰無仮説と対立仮説を立てる  "
      ],
      "metadata": {
        "id": "Kd5Btd8MbJKQ"
      }
    },
    {
      "cell_type": "markdown",
      "source": [
        "帰無仮説と対立仮説は以下のようになります。（**両側検定**になります）\n",
        "\n",
        "帰無仮説$H_0$：「男性と女性の間で睡眠時間の平均値に差がない」  \n",
        "対立仮説$H_1$：「男性と女性の間で睡眠時間の平均値に差がある」"
      ],
      "metadata": {
        "id": "m458lfeVbJKQ"
      }
    },
    {
      "cell_type": "markdown",
      "source": [
        "#### ② 帰無仮説のもとで標本観察を行う "
      ],
      "metadata": {
        "id": "j4SNwIaPbJKR"
      }
    },
    {
      "cell_type": "markdown",
      "source": [
        "それぞれの母集団の平均を $\\mu_1 , \\mu_2$ 、標準偏差を $\\sigma_1,\\sigma_2$とした場合を考えます。"
      ],
      "metadata": {
        "id": "hQUKo6shbJKR"
      }
    },
    {
      "cell_type": "markdown",
      "source": [
        "標本平均$\\bar{x}_1$が従う確率分布は、$n$が大きいので、  \n",
        "母集団の確率分布にかかわわず正規分布です。\n",
        "\n",
        "平均 $=\\mu_1$   \n",
        "分散 $=\\frac{\\sigma_1^2}{n_1}$"
      ],
      "metadata": {
        "id": "SCqEb-H2jalI"
      }
    },
    {
      "cell_type": "markdown",
      "source": [
        "標本平均$\\bar{x}_2$が従う確率分布は、$n$が大きいので、  \n",
        "母集団の確率分布にかかわわず正規分布です。\n",
        "\n",
        "平均 $=\\mu_2$   \n",
        "分散 $=\\frac{\\sigma_2^2}{n_2}$"
      ],
      "metadata": {
        "id": "A8mInV6SjalI"
      }
    },
    {
      "cell_type": "markdown",
      "source": [
        "今回求めたいのは $\\bar{x}_1-\\bar{x}_2$ が従う確率分布です。\n",
        "\n",
        "どのような確率分布に従うのでしょうか？"
      ],
      "metadata": {
        "id": "uzliYQH8jalJ"
      }
    },
    {
      "cell_type": "markdown",
      "source": [
        "今回は$\\bar{x}_1,\\bar{x}_2$ともに正規分布に従うため、  \n",
        "比率の差の標本分布の時と同様、**平均の差**と**分散の和**が  \n",
        "平均の差の標本分布の標本値になります。"
      ],
      "metadata": {
        "id": "XXq1vhGPjalJ"
      }
    },
    {
      "cell_type": "markdown",
      "source": [
        "よって、標準偏差は以下のようになります。\n",
        "\n",
        "$$\n",
        "\\sigma = \\sqrt{\\frac{\\sigma_1^2}{n_1}+\\frac{\\sigma_2^2}{n_2}}\n",
        "$$"
      ],
      "metadata": {
        "id": "-o0Kz5i0jalJ"
      }
    },
    {
      "cell_type": "markdown",
      "source": [
        "$\\sigma_1=\\sigma_2$であるので、式は次のように変形できます。\n",
        "\n",
        "$$\n",
        "\\sigma = \\sigma_1\\sqrt{\\frac{1}{n_1}+\\frac{1}{n_2}}\n",
        "$$"
      ],
      "metadata": {
        "id": "dit0mXy6jjeT"
      }
    },
    {
      "cell_type": "markdown",
      "source": [
        "不定値$\\sigma_1$の代わりとして、今回は**不偏分散をそのまま使いません**。   \n",
        "二つの標本を一つにまとめてしまいます。  \n",
        "\n",
        "その全データ$(n_1+n_2)$における平均からの偏差の2乗和を  \n",
        "全体の自由度で割ったものを使って、$\\sigma_1^2$を推定します。"
      ],
      "metadata": {
        "id": "hguBjn_me1W6"
      }
    },
    {
      "cell_type": "markdown",
      "source": [
        "##### 全データにおける平均からの偏差の2乗和"
      ],
      "metadata": {
        "id": "NIUQQfnjfo1J"
      }
    },
    {
      "cell_type": "markdown",
      "source": [
        "$\\sum^{n_1}_{i=1}(x_{1i}-\\bar{x}_1)^2$と$\\sum^{n_2}_{i=1}(x_{2i}-\\bar{x}_2)^2$を足し合わせたものになります。\n",
        "\n"
      ],
      "metadata": {
        "id": "vf9XAnf_f08w"
      }
    },
    {
      "cell_type": "markdown",
      "source": [
        "${{s’}_1}^2=\\frac{1}{(n_1-1)\\sum^{n_1}_{i=1}(x_{1i}-\\bar{x}_1)^2},{{s’}_2}^2=\\frac{1}{(n_2-1)\\sum^{n_2}_{i=1}(x_{2i}-\\bar{x}_2)^2}$より、\n",
        "\n",
        "$(n_1-1){{s’}_1}^2+(n_2-1){{s’}_2}^2$と導出することができます。"
      ],
      "metadata": {
        "id": "drP_tCUugSec"
      }
    },
    {
      "cell_type": "markdown",
      "source": [
        "##### 全体の自由度"
      ],
      "metadata": {
        "id": "8UUnAihxgcgp"
      }
    },
    {
      "cell_type": "markdown",
      "source": [
        "全体の自由度は$n_1-1$と$n_2-1$を足し合わせた    \n",
        "$n_1+n_2-2$になります。"
      ],
      "metadata": {
        "id": "1FQulmYOgnWT"
      }
    },
    {
      "cell_type": "markdown",
      "source": [
        "##### 全データにおける平均からの偏差の2乗和を全体の自由度で割ったもの"
      ],
      "metadata": {
        "id": "eulUninrg5wu"
      }
    },
    {
      "cell_type": "markdown",
      "source": [
        "以下の式になります。  \n",
        "\n",
        "$$\n",
        "\\frac{(n_1-1){{s’}_1}^2+(n_2-1){{s’}_2}^2}{n_1+n_2-2}\n",
        "$$"
      ],
      "metadata": {
        "id": "vyocMqfehPIv"
      }
    },
    {
      "cell_type": "markdown",
      "source": [
        "##### $t$値の導出"
      ],
      "metadata": {
        "id": "zqJ2g7Q6n5c6"
      }
    },
    {
      "cell_type": "markdown",
      "source": [
        "これを先ほどの$\\sigma = \\sigma_1\\sqrt{\\frac{1}{n_1}+\\frac{1}{n_2}}$に代入します。\n",
        "\n",
        "$$\n",
        "\\hat{\\sigma}=\\sqrt{\\frac{(n_1-1){{s’}_1}^2+(n_2-1){{s’}_2}^2}{n_1+n_2-2}}\\sqrt{\\frac{1}{n_1} + \\frac{1}{n_2}}\n",
        "$$"
      ],
      "metadata": {
        "id": "9Ej3vJ_3mHEZ"
      }
    },
    {
      "cell_type": "markdown",
      "source": [
        "$\\hat{\\sigma}^2$は$\\sigma^2$の推定値です。  \n"
      ],
      "metadata": {
        "id": "adbzL4WOmhW7"
      }
    },
    {
      "cell_type": "markdown",
      "source": [
        "今回は帰無仮説が正しいと仮定しているので、$\\mu_1=\\mu_2$ となります。\n",
        "\n",
        "推定値$\\hat{\\sigma}^2$を用いているため、標準化したときの値は$t$**値**になります。"
      ],
      "metadata": {
        "id": "9vG-0t7EbJKU"
      }
    },
    {
      "cell_type": "markdown",
      "source": [
        "$$\n",
        "t=\\frac{\\bar{x}_1-\\bar{x}_2-(\\mu_1-\\mu_2)}{\\sqrt{\\frac{(n_1-1){{s’}_1}^2+(n_2-1){{s’}_2}^2}{n_1+n_2-2}}\\sqrt{\\frac{1}{n_1}+\\frac{1}{n_2}}}=\\frac{\\bar{x}_1-\\bar{x}_2}{\\hat{\\sigma}}\n",
        "$$"
      ],
      "metadata": {
        "id": "Q_IzIMa3bJKU"
      }
    },
    {
      "cell_type": "markdown",
      "source": [
        "上の式に従って$t$値を導出します。"
      ],
      "metadata": {
        "id": "I-U5JdcebJKU"
      }
    },
    {
      "cell_type": "markdown",
      "source": [
        "#### ③ 帰無仮説を棄却できるかどうかを確認する"
      ],
      "metadata": {
        "id": "YNb_zL84omKx"
      }
    },
    {
      "cell_type": "markdown",
      "source": [
        "有意水準を$5$%に設定します。"
      ],
      "metadata": {
        "id": "Ejr7NEZYomKx"
      }
    },
    {
      "cell_type": "markdown",
      "source": [
        "②で導出した$t$値と、有意水準に基づく$t$値を比較し、  \n",
        "($p$**値を求めて**) 棄却が必要かどうか決めます。  "
      ],
      "metadata": {
        "id": "lrEnhZC7omKy"
      }
    },
    {
      "cell_type": "markdown",
      "source": [
        "### Pythonによる仮説検定"
      ],
      "metadata": {
        "id": "p74mzaNH7cNA"
      }
    },
    {
      "cell_type": "markdown",
      "source": [
        "では母平均の差の検定（スチューデントの$t$検定）を行っていきましょう。"
      ],
      "metadata": {
        "id": "0guZgdq67cNB"
      }
    },
    {
      "cell_type": "code",
      "source": [
        "df = pd.read_csv(\"todohuken_kaidata.csv\")\n",
        "df.head(3)"
      ],
      "metadata": {
        "colab": {
          "base_uri": "https://localhost:8080/",
          "height": 430
        },
        "id": "68F-9YZnCoEW",
        "outputId": "8ec4dd03-7c3f-4db6-ff7b-619dc0a5339f"
      },
      "execution_count": 5,
      "outputs": [
        {
          "output_type": "execute_result",
          "data": {
            "text/plain": [
              "  都道府県     地方  15歳以上の平均睡眠時間（男）  15歳以上の平均睡眠時間（女）  運転免許保有者割合（%）  \\\n",
              "0  北海道  北海道地方              473              465          63.4   \n",
              "1  青森県   東北地方              486              470          66.4   \n",
              "2  岩手県   東北地方              477              469          67.6   \n",
              "\n",
              "   農業従事者（人口100人あたり）  平均通勤時間（片道）  自動車保有台数（人口100人あたり）  鉄道旅客輸送量(人口一人あたり)  \n",
              "0              1.79        20.2               68.67             65.90  \n",
              "1              4.95        20.2               77.65             13.10  \n",
              "2              5.50        20.0               80.55             20.86  "
            ],
            "text/html": [
              "\n",
              "  <div id=\"df-843bba63-4038-498e-b85f-e4c9c4d4e063\">\n",
              "    <div class=\"colab-df-container\">\n",
              "      <div>\n",
              "<style scoped>\n",
              "    .dataframe tbody tr th:only-of-type {\n",
              "        vertical-align: middle;\n",
              "    }\n",
              "\n",
              "    .dataframe tbody tr th {\n",
              "        vertical-align: top;\n",
              "    }\n",
              "\n",
              "    .dataframe thead th {\n",
              "        text-align: right;\n",
              "    }\n",
              "</style>\n",
              "<table border=\"1\" class=\"dataframe\">\n",
              "  <thead>\n",
              "    <tr style=\"text-align: right;\">\n",
              "      <th></th>\n",
              "      <th>都道府県</th>\n",
              "      <th>地方</th>\n",
              "      <th>15歳以上の平均睡眠時間（男）</th>\n",
              "      <th>15歳以上の平均睡眠時間（女）</th>\n",
              "      <th>運転免許保有者割合（%）</th>\n",
              "      <th>農業従事者（人口100人あたり）</th>\n",
              "      <th>平均通勤時間（片道）</th>\n",
              "      <th>自動車保有台数（人口100人あたり）</th>\n",
              "      <th>鉄道旅客輸送量(人口一人あたり)</th>\n",
              "    </tr>\n",
              "  </thead>\n",
              "  <tbody>\n",
              "    <tr>\n",
              "      <th>0</th>\n",
              "      <td>北海道</td>\n",
              "      <td>北海道地方</td>\n",
              "      <td>473</td>\n",
              "      <td>465</td>\n",
              "      <td>63.4</td>\n",
              "      <td>1.79</td>\n",
              "      <td>20.2</td>\n",
              "      <td>68.67</td>\n",
              "      <td>65.90</td>\n",
              "    </tr>\n",
              "    <tr>\n",
              "      <th>1</th>\n",
              "      <td>青森県</td>\n",
              "      <td>東北地方</td>\n",
              "      <td>486</td>\n",
              "      <td>470</td>\n",
              "      <td>66.4</td>\n",
              "      <td>4.95</td>\n",
              "      <td>20.2</td>\n",
              "      <td>77.65</td>\n",
              "      <td>13.10</td>\n",
              "    </tr>\n",
              "    <tr>\n",
              "      <th>2</th>\n",
              "      <td>岩手県</td>\n",
              "      <td>東北地方</td>\n",
              "      <td>477</td>\n",
              "      <td>469</td>\n",
              "      <td>67.6</td>\n",
              "      <td>5.50</td>\n",
              "      <td>20.0</td>\n",
              "      <td>80.55</td>\n",
              "      <td>20.86</td>\n",
              "    </tr>\n",
              "  </tbody>\n",
              "</table>\n",
              "</div>\n",
              "      <button class=\"colab-df-convert\" onclick=\"convertToInteractive('df-843bba63-4038-498e-b85f-e4c9c4d4e063')\"\n",
              "              title=\"Convert this dataframe to an interactive table.\"\n",
              "              style=\"display:none;\">\n",
              "        \n",
              "  <svg xmlns=\"http://www.w3.org/2000/svg\" height=\"24px\"viewBox=\"0 0 24 24\"\n",
              "       width=\"24px\">\n",
              "    <path d=\"M0 0h24v24H0V0z\" fill=\"none\"/>\n",
              "    <path d=\"M18.56 5.44l.94 2.06.94-2.06 2.06-.94-2.06-.94-.94-2.06-.94 2.06-2.06.94zm-11 1L8.5 8.5l.94-2.06 2.06-.94-2.06-.94L8.5 2.5l-.94 2.06-2.06.94zm10 10l.94 2.06.94-2.06 2.06-.94-2.06-.94-.94-2.06-.94 2.06-2.06.94z\"/><path d=\"M17.41 7.96l-1.37-1.37c-.4-.4-.92-.59-1.43-.59-.52 0-1.04.2-1.43.59L10.3 9.45l-7.72 7.72c-.78.78-.78 2.05 0 2.83L4 21.41c.39.39.9.59 1.41.59.51 0 1.02-.2 1.41-.59l7.78-7.78 2.81-2.81c.8-.78.8-2.07 0-2.86zM5.41 20L4 18.59l7.72-7.72 1.47 1.35L5.41 20z\"/>\n",
              "  </svg>\n",
              "      </button>\n",
              "      \n",
              "  <style>\n",
              "    .colab-df-container {\n",
              "      display:flex;\n",
              "      flex-wrap:wrap;\n",
              "      gap: 12px;\n",
              "    }\n",
              "\n",
              "    .colab-df-convert {\n",
              "      background-color: #E8F0FE;\n",
              "      border: none;\n",
              "      border-radius: 50%;\n",
              "      cursor: pointer;\n",
              "      display: none;\n",
              "      fill: #1967D2;\n",
              "      height: 32px;\n",
              "      padding: 0 0 0 0;\n",
              "      width: 32px;\n",
              "    }\n",
              "\n",
              "    .colab-df-convert:hover {\n",
              "      background-color: #E2EBFA;\n",
              "      box-shadow: 0px 1px 2px rgba(60, 64, 67, 0.3), 0px 1px 3px 1px rgba(60, 64, 67, 0.15);\n",
              "      fill: #174EA6;\n",
              "    }\n",
              "\n",
              "    [theme=dark] .colab-df-convert {\n",
              "      background-color: #3B4455;\n",
              "      fill: #D2E3FC;\n",
              "    }\n",
              "\n",
              "    [theme=dark] .colab-df-convert:hover {\n",
              "      background-color: #434B5C;\n",
              "      box-shadow: 0px 1px 3px 1px rgba(0, 0, 0, 0.15);\n",
              "      filter: drop-shadow(0px 1px 2px rgba(0, 0, 0, 0.3));\n",
              "      fill: #FFFFFF;\n",
              "    }\n",
              "  </style>\n",
              "\n",
              "      <script>\n",
              "        const buttonEl =\n",
              "          document.querySelector('#df-843bba63-4038-498e-b85f-e4c9c4d4e063 button.colab-df-convert');\n",
              "        buttonEl.style.display =\n",
              "          google.colab.kernel.accessAllowed ? 'block' : 'none';\n",
              "\n",
              "        async function convertToInteractive(key) {\n",
              "          const element = document.querySelector('#df-843bba63-4038-498e-b85f-e4c9c4d4e063');\n",
              "          const dataTable =\n",
              "            await google.colab.kernel.invokeFunction('convertToInteractive',\n",
              "                                                     [key], {});\n",
              "          if (!dataTable) return;\n",
              "\n",
              "          const docLinkHtml = 'Like what you see? Visit the ' +\n",
              "            '<a target=\"_blank\" href=https://colab.research.google.com/notebooks/data_table.ipynb>data table notebook</a>'\n",
              "            + ' to learn more about interactive tables.';\n",
              "          element.innerHTML = '';\n",
              "          dataTable['output_type'] = 'display_data';\n",
              "          await google.colab.output.renderOutput(dataTable, element);\n",
              "          const docLink = document.createElement('div');\n",
              "          docLink.innerHTML = docLinkHtml;\n",
              "          element.appendChild(docLink);\n",
              "        }\n",
              "      </script>\n",
              "    </div>\n",
              "  </div>\n",
              "  "
            ]
          },
          "metadata": {},
          "execution_count": 5
        }
      ]
    },
    {
      "cell_type": "code",
      "source": [
        "male_sleep = df[\"15歳以上の平均睡眠時間（男）\"]\n",
        "female_sleep = df[\"15歳以上の平均睡眠時間（女）\"] \n",
        "\n",
        "tt , pp = stats.ttest_ind(male_sleep,female_sleep)\n",
        "\n",
        "nk = float(Decimal(str(tt)).quantize(Decimal('0.001'),rounding=ROUND_HALF_UP))\n",
        "print(f\"検定統計量のt値:{nk}\")\n",
        "nkp = float(Decimal(str(pp*100)).quantize(Decimal('0.000000000001'), rounding=ROUND_HALF_UP))\n",
        "print(f\"p値：{nkp}%\")"
      ],
      "metadata": {
        "colab": {
          "base_uri": "https://localhost:8080/"
        },
        "id": "mAY2Z2DXDpVi",
        "outputId": "6918ac45-2002-40ac-92aa-63c580127bf6"
      },
      "execution_count": 6,
      "outputs": [
        {
          "output_type": "stream",
          "name": "stdout",
          "text": [
            "検定統計量のt値:8.338\n",
            "p値：7.1e-11%\n"
          ]
        }
      ]
    },
    {
      "cell_type": "markdown",
      "source": [
        "自由度$47$の$t$分布における有意水準$5$%に対応する値は$2.012$です。"
      ],
      "metadata": {
        "id": "lD8biY6P91i2"
      }
    },
    {
      "cell_type": "code",
      "source": [
        "float(Decimal(str(t.ppf(0.975, len(df)-1))).quantize(Decimal('0.001'),\n",
        "                                                   rounding=ROUND_HALF_UP))"
      ],
      "metadata": {
        "colab": {
          "base_uri": "https://localhost:8080/"
        },
        "id": "F68XVLzoFNWS",
        "outputId": "a826fc72-0ddc-4d63-cf61-0e123951225a"
      },
      "execution_count": 7,
      "outputs": [
        {
          "output_type": "execute_result",
          "data": {
            "text/plain": [
              "2.013"
            ]
          },
          "metadata": {},
          "execution_count": 7
        }
      ]
    },
    {
      "cell_type": "markdown",
      "source": [
        "* $t$値が$2.012$より大きくなった\n",
        "* $p$値が$5$%より小さくなった\n",
        "\n",
        "この二点から、帰無仮説$H_0$を棄却することができます。  \n",
        "よって、対立仮説$H_1$を採択します。\n"
      ],
      "metadata": {
        "id": "dlLYI3hyFdbS"
      }
    },
    {
      "cell_type": "code",
      "source": [
        "print(\"したがって、男性と女性の間では睡眠時間に差がある\")"
      ],
      "metadata": {
        "colab": {
          "base_uri": "https://localhost:8080/"
        },
        "id": "it7oJ6ZUGfAg",
        "outputId": "dec7c6e5-a6ef-4b79-9d46-9d122a95ab42"
      },
      "execution_count": 8,
      "outputs": [
        {
          "output_type": "stream",
          "name": "stdout",
          "text": [
            "したがって、男性と女性の間では睡眠時間に差がある\n"
          ]
        }
      ]
    },
    {
      "cell_type": "markdown",
      "source": [
        "## 平均値差の検定（小標本の場合その2）"
      ],
      "metadata": {
        "id": "qX4pvzPj8Fni"
      }
    },
    {
      "cell_type": "markdown",
      "source": [
        "「2つの母集団が正規分布である」という前提の元で、  \n",
        "なおかつ、「母分散が等しいとは限らない」という前提の元では、  \n",
        "**ウェルチの$t$検定**を行います。  \n"
      ],
      "metadata": {
        "id": "bWiRi4XO7oy7"
      }
    },
    {
      "cell_type": "markdown",
      "source": [
        "2つの標本から得た標本平均を使って  \n",
        "母平均が等しいかを検定していきましょう。\n",
        "\n",
        "ここでは都道府県別の男性と女性の平均睡眠時間に差があるかを検定します。  \n",
        "`todohuken_kaidata.csv`をインポートしてください。\n"
      ],
      "metadata": {
        "id": "8MOcTEUIGpvr"
      }
    },
    {
      "cell_type": "code",
      "source": [
        "df = pd.read_csv(\"todohuken_kaidata.csv\")\n",
        "df.head(3)"
      ],
      "metadata": {
        "id": "nCaO2CbIGpvt",
        "colab": {
          "base_uri": "https://localhost:8080/",
          "height": 430
        },
        "outputId": "dec98250-04b2-4e8e-8c1a-1ce0fa70014e"
      },
      "execution_count": 9,
      "outputs": [
        {
          "output_type": "execute_result",
          "data": {
            "text/plain": [
              "  都道府県     地方  15歳以上の平均睡眠時間（男）  15歳以上の平均睡眠時間（女）  運転免許保有者割合（%）  \\\n",
              "0  北海道  北海道地方              473              465          63.4   \n",
              "1  青森県   東北地方              486              470          66.4   \n",
              "2  岩手県   東北地方              477              469          67.6   \n",
              "\n",
              "   農業従事者（人口100人あたり）  平均通勤時間（片道）  自動車保有台数（人口100人あたり）  鉄道旅客輸送量(人口一人あたり)  \n",
              "0              1.79        20.2               68.67             65.90  \n",
              "1              4.95        20.2               77.65             13.10  \n",
              "2              5.50        20.0               80.55             20.86  "
            ],
            "text/html": [
              "\n",
              "  <div id=\"df-7c315914-2cf9-4b37-b108-8caaf96f4ad7\">\n",
              "    <div class=\"colab-df-container\">\n",
              "      <div>\n",
              "<style scoped>\n",
              "    .dataframe tbody tr th:only-of-type {\n",
              "        vertical-align: middle;\n",
              "    }\n",
              "\n",
              "    .dataframe tbody tr th {\n",
              "        vertical-align: top;\n",
              "    }\n",
              "\n",
              "    .dataframe thead th {\n",
              "        text-align: right;\n",
              "    }\n",
              "</style>\n",
              "<table border=\"1\" class=\"dataframe\">\n",
              "  <thead>\n",
              "    <tr style=\"text-align: right;\">\n",
              "      <th></th>\n",
              "      <th>都道府県</th>\n",
              "      <th>地方</th>\n",
              "      <th>15歳以上の平均睡眠時間（男）</th>\n",
              "      <th>15歳以上の平均睡眠時間（女）</th>\n",
              "      <th>運転免許保有者割合（%）</th>\n",
              "      <th>農業従事者（人口100人あたり）</th>\n",
              "      <th>平均通勤時間（片道）</th>\n",
              "      <th>自動車保有台数（人口100人あたり）</th>\n",
              "      <th>鉄道旅客輸送量(人口一人あたり)</th>\n",
              "    </tr>\n",
              "  </thead>\n",
              "  <tbody>\n",
              "    <tr>\n",
              "      <th>0</th>\n",
              "      <td>北海道</td>\n",
              "      <td>北海道地方</td>\n",
              "      <td>473</td>\n",
              "      <td>465</td>\n",
              "      <td>63.4</td>\n",
              "      <td>1.79</td>\n",
              "      <td>20.2</td>\n",
              "      <td>68.67</td>\n",
              "      <td>65.90</td>\n",
              "    </tr>\n",
              "    <tr>\n",
              "      <th>1</th>\n",
              "      <td>青森県</td>\n",
              "      <td>東北地方</td>\n",
              "      <td>486</td>\n",
              "      <td>470</td>\n",
              "      <td>66.4</td>\n",
              "      <td>4.95</td>\n",
              "      <td>20.2</td>\n",
              "      <td>77.65</td>\n",
              "      <td>13.10</td>\n",
              "    </tr>\n",
              "    <tr>\n",
              "      <th>2</th>\n",
              "      <td>岩手県</td>\n",
              "      <td>東北地方</td>\n",
              "      <td>477</td>\n",
              "      <td>469</td>\n",
              "      <td>67.6</td>\n",
              "      <td>5.50</td>\n",
              "      <td>20.0</td>\n",
              "      <td>80.55</td>\n",
              "      <td>20.86</td>\n",
              "    </tr>\n",
              "  </tbody>\n",
              "</table>\n",
              "</div>\n",
              "      <button class=\"colab-df-convert\" onclick=\"convertToInteractive('df-7c315914-2cf9-4b37-b108-8caaf96f4ad7')\"\n",
              "              title=\"Convert this dataframe to an interactive table.\"\n",
              "              style=\"display:none;\">\n",
              "        \n",
              "  <svg xmlns=\"http://www.w3.org/2000/svg\" height=\"24px\"viewBox=\"0 0 24 24\"\n",
              "       width=\"24px\">\n",
              "    <path d=\"M0 0h24v24H0V0z\" fill=\"none\"/>\n",
              "    <path d=\"M18.56 5.44l.94 2.06.94-2.06 2.06-.94-2.06-.94-.94-2.06-.94 2.06-2.06.94zm-11 1L8.5 8.5l.94-2.06 2.06-.94-2.06-.94L8.5 2.5l-.94 2.06-2.06.94zm10 10l.94 2.06.94-2.06 2.06-.94-2.06-.94-.94-2.06-.94 2.06-2.06.94z\"/><path d=\"M17.41 7.96l-1.37-1.37c-.4-.4-.92-.59-1.43-.59-.52 0-1.04.2-1.43.59L10.3 9.45l-7.72 7.72c-.78.78-.78 2.05 0 2.83L4 21.41c.39.39.9.59 1.41.59.51 0 1.02-.2 1.41-.59l7.78-7.78 2.81-2.81c.8-.78.8-2.07 0-2.86zM5.41 20L4 18.59l7.72-7.72 1.47 1.35L5.41 20z\"/>\n",
              "  </svg>\n",
              "      </button>\n",
              "      \n",
              "  <style>\n",
              "    .colab-df-container {\n",
              "      display:flex;\n",
              "      flex-wrap:wrap;\n",
              "      gap: 12px;\n",
              "    }\n",
              "\n",
              "    .colab-df-convert {\n",
              "      background-color: #E8F0FE;\n",
              "      border: none;\n",
              "      border-radius: 50%;\n",
              "      cursor: pointer;\n",
              "      display: none;\n",
              "      fill: #1967D2;\n",
              "      height: 32px;\n",
              "      padding: 0 0 0 0;\n",
              "      width: 32px;\n",
              "    }\n",
              "\n",
              "    .colab-df-convert:hover {\n",
              "      background-color: #E2EBFA;\n",
              "      box-shadow: 0px 1px 2px rgba(60, 64, 67, 0.3), 0px 1px 3px 1px rgba(60, 64, 67, 0.15);\n",
              "      fill: #174EA6;\n",
              "    }\n",
              "\n",
              "    [theme=dark] .colab-df-convert {\n",
              "      background-color: #3B4455;\n",
              "      fill: #D2E3FC;\n",
              "    }\n",
              "\n",
              "    [theme=dark] .colab-df-convert:hover {\n",
              "      background-color: #434B5C;\n",
              "      box-shadow: 0px 1px 3px 1px rgba(0, 0, 0, 0.15);\n",
              "      filter: drop-shadow(0px 1px 2px rgba(0, 0, 0, 0.3));\n",
              "      fill: #FFFFFF;\n",
              "    }\n",
              "  </style>\n",
              "\n",
              "      <script>\n",
              "        const buttonEl =\n",
              "          document.querySelector('#df-7c315914-2cf9-4b37-b108-8caaf96f4ad7 button.colab-df-convert');\n",
              "        buttonEl.style.display =\n",
              "          google.colab.kernel.accessAllowed ? 'block' : 'none';\n",
              "\n",
              "        async function convertToInteractive(key) {\n",
              "          const element = document.querySelector('#df-7c315914-2cf9-4b37-b108-8caaf96f4ad7');\n",
              "          const dataTable =\n",
              "            await google.colab.kernel.invokeFunction('convertToInteractive',\n",
              "                                                     [key], {});\n",
              "          if (!dataTable) return;\n",
              "\n",
              "          const docLinkHtml = 'Like what you see? Visit the ' +\n",
              "            '<a target=\"_blank\" href=https://colab.research.google.com/notebooks/data_table.ipynb>data table notebook</a>'\n",
              "            + ' to learn more about interactive tables.';\n",
              "          element.innerHTML = '';\n",
              "          dataTable['output_type'] = 'display_data';\n",
              "          await google.colab.output.renderOutput(dataTable, element);\n",
              "          const docLink = document.createElement('div');\n",
              "          docLink.innerHTML = docLinkHtml;\n",
              "          element.appendChild(docLink);\n",
              "        }\n",
              "      </script>\n",
              "    </div>\n",
              "  </div>\n",
              "  "
            ]
          },
          "metadata": {},
          "execution_count": 9
        }
      ]
    },
    {
      "cell_type": "markdown",
      "source": [
        "### 仮説検定のステップ（再掲）\n",
        "①帰無仮説と対立仮説を立てる  \n",
        "②帰無仮説のもとで標本観察を行う  \n",
        "③帰無仮説を棄却できるかどうかを確認する"
      ],
      "metadata": {
        "id": "CzhBEIzNGuse"
      }
    },
    {
      "cell_type": "markdown",
      "source": [
        "#### ① 帰無仮説と対立仮説を立てる  "
      ],
      "metadata": {
        "id": "X7x-Z-LNGusf"
      }
    },
    {
      "cell_type": "markdown",
      "source": [
        "帰無仮説と対立仮説は以下のようになります。（**両側検定**になります）\n",
        "\n",
        "帰無仮説$H_0$：「男性と女性の間で睡眠時間の平均値に差がない」  \n",
        "対立仮説$H_1$：「男性と女性の間で睡眠時間の平均値に差がある」"
      ],
      "metadata": {
        "id": "vgRhLEH2Gusf"
      }
    },
    {
      "cell_type": "markdown",
      "source": [
        "#### ② 帰無仮説のもとで標本観察を行う "
      ],
      "metadata": {
        "id": "oU82JQyMGyk7"
      }
    },
    {
      "cell_type": "markdown",
      "source": [
        "それぞれの母集団の平均を $\\mu_1 , \\mu_2$ 、標準偏差を $\\sigma_1,\\sigma_2$、  \n",
        "標本平均を $\\bar{x}_1,\\bar{x}_2$、不偏分散を $s^{'2}_1,s^{'2}_2$ とした場合を考えます。"
      ],
      "metadata": {
        "id": "Bw8gsoWNGyk8"
      }
    },
    {
      "cell_type": "markdown",
      "source": [
        "ウェルチの検定のときは、統計量として  \n",
        "「大標本の場合の$z$値と同値の$t$値」を使います。"
      ],
      "metadata": {
        "id": "SCw8JTEnq8LT"
      }
    },
    {
      "cell_type": "markdown",
      "source": [
        "$$\n",
        "t = \\frac{\\bar{x}_1-\\bar{x}_2}{\\sqrt{\\frac{s^{'2}_1}{n_1}+\\frac{s^{'2}_2}{n_2}}}\n",
        "$$\n"
      ],
      "metadata": {
        "id": "Xw8qPT4NrPs0"
      }
    },
    {
      "cell_type": "markdown",
      "source": [
        "また、自由度は以下の式で近似できます。"
      ],
      "metadata": {
        "id": "VnQ9cLi-HWcS"
      }
    },
    {
      "cell_type": "markdown",
      "source": [
        "$$\n",
        "\\upsilon=\\frac{\\Bigl(\\frac{s^{'2}_1}{n_1}+\\frac{s^{'2}_2}{n_2}\\Bigr)^2} {\\frac{s^{'4}_1}{n_1^2(n_1-1)}+\\frac{s^{'4}_2}{n_2^2(n_2-1)}\n",
        "}\n",
        "$$"
      ],
      "metadata": {
        "id": "lKQfiHYQpiZm"
      }
    },
    {
      "cell_type": "markdown",
      "source": [
        "#### ③ 帰無仮説を棄却できるかどうかを確認する"
      ],
      "metadata": {
        "id": "-nl6-c3FHgcp"
      }
    },
    {
      "cell_type": "markdown",
      "source": [
        "有意水準を$5$%に設定します。"
      ],
      "metadata": {
        "id": "EUgs5GAFHgcq"
      }
    },
    {
      "cell_type": "markdown",
      "source": [
        "②で導出した$t$値と、有意水準に基づく$t$値を比較し、  \n",
        "($p$**値を求めて**) 棄却が必要かどうか決めます。  "
      ],
      "metadata": {
        "id": "uXKORlAeHgcr"
      }
    },
    {
      "cell_type": "markdown",
      "source": [
        "### Pythonによる仮説検定"
      ],
      "metadata": {
        "id": "xtbSE2pbHjDK"
      }
    },
    {
      "cell_type": "markdown",
      "source": [
        "では母平均の差の検定（ウェルチの$t$検定）を行っていきましょう。\n",
        "\n",
        "ここでは都道府県別の男性と女性の平均睡眠時間に差があるかを検定します。  \n",
        "`todohuken_kaidata.csv`をインポートしてください。"
      ],
      "metadata": {
        "id": "9fACJWe5HjDL"
      }
    },
    {
      "cell_type": "code",
      "source": [
        "df = pd.read_csv(\"todohuken_kaidata.csv\")\n",
        "df.head(3)"
      ],
      "metadata": {
        "colab": {
          "base_uri": "https://localhost:8080/",
          "height": 430
        },
        "outputId": "d0d91277-f352-4bfd-e013-c0f1d44558c2",
        "id": "fcsT_rBTHul5"
      },
      "execution_count": 10,
      "outputs": [
        {
          "output_type": "execute_result",
          "data": {
            "text/plain": [
              "  都道府県     地方  15歳以上の平均睡眠時間（男）  15歳以上の平均睡眠時間（女）  運転免許保有者割合（%）  \\\n",
              "0  北海道  北海道地方              473              465          63.4   \n",
              "1  青森県   東北地方              486              470          66.4   \n",
              "2  岩手県   東北地方              477              469          67.6   \n",
              "\n",
              "   農業従事者（人口100人あたり）  平均通勤時間（片道）  自動車保有台数（人口100人あたり）  鉄道旅客輸送量(人口一人あたり)  \n",
              "0              1.79        20.2               68.67             65.90  \n",
              "1              4.95        20.2               77.65             13.10  \n",
              "2              5.50        20.0               80.55             20.86  "
            ],
            "text/html": [
              "\n",
              "  <div id=\"df-179a4796-e820-467b-84b0-d349e713c6c8\">\n",
              "    <div class=\"colab-df-container\">\n",
              "      <div>\n",
              "<style scoped>\n",
              "    .dataframe tbody tr th:only-of-type {\n",
              "        vertical-align: middle;\n",
              "    }\n",
              "\n",
              "    .dataframe tbody tr th {\n",
              "        vertical-align: top;\n",
              "    }\n",
              "\n",
              "    .dataframe thead th {\n",
              "        text-align: right;\n",
              "    }\n",
              "</style>\n",
              "<table border=\"1\" class=\"dataframe\">\n",
              "  <thead>\n",
              "    <tr style=\"text-align: right;\">\n",
              "      <th></th>\n",
              "      <th>都道府県</th>\n",
              "      <th>地方</th>\n",
              "      <th>15歳以上の平均睡眠時間（男）</th>\n",
              "      <th>15歳以上の平均睡眠時間（女）</th>\n",
              "      <th>運転免許保有者割合（%）</th>\n",
              "      <th>農業従事者（人口100人あたり）</th>\n",
              "      <th>平均通勤時間（片道）</th>\n",
              "      <th>自動車保有台数（人口100人あたり）</th>\n",
              "      <th>鉄道旅客輸送量(人口一人あたり)</th>\n",
              "    </tr>\n",
              "  </thead>\n",
              "  <tbody>\n",
              "    <tr>\n",
              "      <th>0</th>\n",
              "      <td>北海道</td>\n",
              "      <td>北海道地方</td>\n",
              "      <td>473</td>\n",
              "      <td>465</td>\n",
              "      <td>63.4</td>\n",
              "      <td>1.79</td>\n",
              "      <td>20.2</td>\n",
              "      <td>68.67</td>\n",
              "      <td>65.90</td>\n",
              "    </tr>\n",
              "    <tr>\n",
              "      <th>1</th>\n",
              "      <td>青森県</td>\n",
              "      <td>東北地方</td>\n",
              "      <td>486</td>\n",
              "      <td>470</td>\n",
              "      <td>66.4</td>\n",
              "      <td>4.95</td>\n",
              "      <td>20.2</td>\n",
              "      <td>77.65</td>\n",
              "      <td>13.10</td>\n",
              "    </tr>\n",
              "    <tr>\n",
              "      <th>2</th>\n",
              "      <td>岩手県</td>\n",
              "      <td>東北地方</td>\n",
              "      <td>477</td>\n",
              "      <td>469</td>\n",
              "      <td>67.6</td>\n",
              "      <td>5.50</td>\n",
              "      <td>20.0</td>\n",
              "      <td>80.55</td>\n",
              "      <td>20.86</td>\n",
              "    </tr>\n",
              "  </tbody>\n",
              "</table>\n",
              "</div>\n",
              "      <button class=\"colab-df-convert\" onclick=\"convertToInteractive('df-179a4796-e820-467b-84b0-d349e713c6c8')\"\n",
              "              title=\"Convert this dataframe to an interactive table.\"\n",
              "              style=\"display:none;\">\n",
              "        \n",
              "  <svg xmlns=\"http://www.w3.org/2000/svg\" height=\"24px\"viewBox=\"0 0 24 24\"\n",
              "       width=\"24px\">\n",
              "    <path d=\"M0 0h24v24H0V0z\" fill=\"none\"/>\n",
              "    <path d=\"M18.56 5.44l.94 2.06.94-2.06 2.06-.94-2.06-.94-.94-2.06-.94 2.06-2.06.94zm-11 1L8.5 8.5l.94-2.06 2.06-.94-2.06-.94L8.5 2.5l-.94 2.06-2.06.94zm10 10l.94 2.06.94-2.06 2.06-.94-2.06-.94-.94-2.06-.94 2.06-2.06.94z\"/><path d=\"M17.41 7.96l-1.37-1.37c-.4-.4-.92-.59-1.43-.59-.52 0-1.04.2-1.43.59L10.3 9.45l-7.72 7.72c-.78.78-.78 2.05 0 2.83L4 21.41c.39.39.9.59 1.41.59.51 0 1.02-.2 1.41-.59l7.78-7.78 2.81-2.81c.8-.78.8-2.07 0-2.86zM5.41 20L4 18.59l7.72-7.72 1.47 1.35L5.41 20z\"/>\n",
              "  </svg>\n",
              "      </button>\n",
              "      \n",
              "  <style>\n",
              "    .colab-df-container {\n",
              "      display:flex;\n",
              "      flex-wrap:wrap;\n",
              "      gap: 12px;\n",
              "    }\n",
              "\n",
              "    .colab-df-convert {\n",
              "      background-color: #E8F0FE;\n",
              "      border: none;\n",
              "      border-radius: 50%;\n",
              "      cursor: pointer;\n",
              "      display: none;\n",
              "      fill: #1967D2;\n",
              "      height: 32px;\n",
              "      padding: 0 0 0 0;\n",
              "      width: 32px;\n",
              "    }\n",
              "\n",
              "    .colab-df-convert:hover {\n",
              "      background-color: #E2EBFA;\n",
              "      box-shadow: 0px 1px 2px rgba(60, 64, 67, 0.3), 0px 1px 3px 1px rgba(60, 64, 67, 0.15);\n",
              "      fill: #174EA6;\n",
              "    }\n",
              "\n",
              "    [theme=dark] .colab-df-convert {\n",
              "      background-color: #3B4455;\n",
              "      fill: #D2E3FC;\n",
              "    }\n",
              "\n",
              "    [theme=dark] .colab-df-convert:hover {\n",
              "      background-color: #434B5C;\n",
              "      box-shadow: 0px 1px 3px 1px rgba(0, 0, 0, 0.15);\n",
              "      filter: drop-shadow(0px 1px 2px rgba(0, 0, 0, 0.3));\n",
              "      fill: #FFFFFF;\n",
              "    }\n",
              "  </style>\n",
              "\n",
              "      <script>\n",
              "        const buttonEl =\n",
              "          document.querySelector('#df-179a4796-e820-467b-84b0-d349e713c6c8 button.colab-df-convert');\n",
              "        buttonEl.style.display =\n",
              "          google.colab.kernel.accessAllowed ? 'block' : 'none';\n",
              "\n",
              "        async function convertToInteractive(key) {\n",
              "          const element = document.querySelector('#df-179a4796-e820-467b-84b0-d349e713c6c8');\n",
              "          const dataTable =\n",
              "            await google.colab.kernel.invokeFunction('convertToInteractive',\n",
              "                                                     [key], {});\n",
              "          if (!dataTable) return;\n",
              "\n",
              "          const docLinkHtml = 'Like what you see? Visit the ' +\n",
              "            '<a target=\"_blank\" href=https://colab.research.google.com/notebooks/data_table.ipynb>data table notebook</a>'\n",
              "            + ' to learn more about interactive tables.';\n",
              "          element.innerHTML = '';\n",
              "          dataTable['output_type'] = 'display_data';\n",
              "          await google.colab.output.renderOutput(dataTable, element);\n",
              "          const docLink = document.createElement('div');\n",
              "          docLink.innerHTML = docLinkHtml;\n",
              "          element.appendChild(docLink);\n",
              "        }\n",
              "      </script>\n",
              "    </div>\n",
              "  </div>\n",
              "  "
            ]
          },
          "metadata": {},
          "execution_count": 10
        }
      ]
    },
    {
      "cell_type": "code",
      "source": [
        "male_sleep = df[\"15歳以上の平均睡眠時間（男）\"]\n",
        "female_sleep = df[\"15歳以上の平均睡眠時間（女）\"] \n",
        "\n",
        "tt , pp = stats.ttest_ind(male_sleep , female_sleep , equal_var=False)\n",
        "\n",
        "nk = float(Decimal(str(tt)).quantize(Decimal('0.001'),rounding=ROUND_HALF_UP))\n",
        "print(f\"検定統計量のt値:{nk}\")\n",
        "nkp = float(Decimal(str(pp*100)).quantize(Decimal('0.000000000001'),rounding=ROUND_HALF_UP))\n",
        "print(f\"p値：{nkp}%\")"
      ],
      "metadata": {
        "colab": {
          "base_uri": "https://localhost:8080/"
        },
        "outputId": "31c2c2a1-4522-47fc-e4ee-de0a5c76f89b",
        "id": "kfvU9W1HHul6"
      },
      "execution_count": 11,
      "outputs": [
        {
          "output_type": "stream",
          "name": "stdout",
          "text": [
            "検定統計量のt値:8.338\n",
            "p値：7.4e-11%\n"
          ]
        }
      ]
    },
    {
      "cell_type": "markdown",
      "source": [
        "自由度$47$の$t$分布における有意水準$5$%に対応する値は$2.012$です。"
      ],
      "metadata": {
        "id": "jmegrnmZJ44W"
      }
    },
    {
      "cell_type": "code",
      "source": [
        "float(Decimal(str(t.ppf(0.975, len(df)-1))).quantize(Decimal('0.001'),rounding=ROUND_HALF_UP))"
      ],
      "metadata": {
        "colab": {
          "base_uri": "https://localhost:8080/"
        },
        "outputId": "41da4a48-c6af-41e3-a683-371e56ce7f47",
        "id": "yUayyaANJ44X"
      },
      "execution_count": 12,
      "outputs": [
        {
          "output_type": "execute_result",
          "data": {
            "text/plain": [
              "2.013"
            ]
          },
          "metadata": {},
          "execution_count": 12
        }
      ]
    },
    {
      "cell_type": "markdown",
      "source": [
        "* $t$値が$2.012$より大きくなった\n",
        "* $p$値が$5$%より小さくなった\n",
        "\n",
        "この二点から、帰無仮説$H_0$を棄却することができます。  \n",
        "よって、対立仮説$H_1$を採択します。\n"
      ],
      "metadata": {
        "id": "BQcNrwKKJ44Y"
      }
    },
    {
      "cell_type": "code",
      "source": [
        "print(\"したがって、男性と女性の間では睡眠時間に差がある\")"
      ],
      "metadata": {
        "colab": {
          "base_uri": "https://localhost:8080/"
        },
        "outputId": "c1daf05b-c60f-4338-e9cb-f2e9cc7ed3e7",
        "id": "JJAePbeDJ44Z"
      },
      "execution_count": 13,
      "outputs": [
        {
          "output_type": "stream",
          "name": "stdout",
          "text": [
            "したがって、男性と女性の間では睡眠時間に差がある\n"
          ]
        }
      ]
    },
    {
      "cell_type": "markdown",
      "source": [
        "## Pythonによる描画"
      ],
      "metadata": {
        "id": "sO82KSXnIVuZ"
      }
    },
    {
      "cell_type": "markdown",
      "source": [
        "平均値差の検定をするときは、$t$検定を行うだけではなくて、  \n",
        "データの分布も一緒に確認するようにしましょう。\n",
        "\n",
        "まずはヒストグラムです。"
      ],
      "metadata": {
        "id": "Ezc_EGfVIfC7"
      }
    },
    {
      "cell_type": "code",
      "source": [
        "sns.histplot(df[\"15歳以上の平均睡眠時間（男）\"])"
      ],
      "metadata": {
        "colab": {
          "base_uri": "https://localhost:8080/",
          "height": 295
        },
        "id": "IYi85TVaIoi_",
        "outputId": "31b869b3-ba6f-4add-e74b-96e2318ad845"
      },
      "execution_count": 14,
      "outputs": [
        {
          "output_type": "execute_result",
          "data": {
            "text/plain": [
              "<matplotlib.axes._subplots.AxesSubplot at 0x7f7e58aa2fa0>"
            ]
          },
          "metadata": {},
          "execution_count": 14
        },
        {
          "output_type": "display_data",
          "data": {
            "text/plain": [
              "<Figure size 432x288 with 1 Axes>"
            ],
            "image/png": "[encoded data removed]"
          },
          "metadata": {
            "needs_background": "light"
          }
        }
      ]
    },
    {
      "cell_type": "code",
      "source": [
        "sns.histplot(df[\"15歳以上の平均睡眠時間（女）\"])"
      ],
      "metadata": {
        "colab": {
          "base_uri": "https://localhost:8080/",
          "height": 295
        },
        "id": "ViZhoEtUKBZa",
        "outputId": "39b83ea6-90e5-4be2-e8b7-601a7b90ea36"
      },
      "execution_count": 15,
      "outputs": [
        {
          "output_type": "execute_result",
          "data": {
            "text/plain": [
              "<matplotlib.axes._subplots.AxesSubplot at 0x7f7e589c79a0>"
            ]
          },
          "metadata": {},
          "execution_count": 15
        },
        {
          "output_type": "display_data",
          "data": {
            "text/plain": [
              "<Figure size 432x288 with 1 Axes>"
            ],
            "image/png": "[encoded data removed]"
          },
          "metadata": {
            "needs_background": "light"
          }
        }
      ]
    },
    {
      "cell_type": "markdown",
      "source": [
        "続いて箱ひげ図です。"
      ],
      "metadata": {
        "id": "ckxianRrKIzU"
      }
    },
    {
      "cell_type": "code",
      "source": [
        "sns.boxplot(data=df,x=\"15歳以上の平均睡眠時間（男）\")"
      ],
      "metadata": {
        "colab": {
          "base_uri": "https://localhost:8080/",
          "height": 295
        },
        "id": "XN0KuOCNKOOQ",
        "outputId": "71739f97-303a-4ea6-99ae-b68839d0d000"
      },
      "execution_count": 16,
      "outputs": [
        {
          "output_type": "execute_result",
          "data": {
            "text/plain": [
              "<matplotlib.axes._subplots.AxesSubplot at 0x7f7e58a0f160>"
            ]
          },
          "metadata": {},
          "execution_count": 16
        },
        {
          "output_type": "display_data",
          "data": {
            "text/plain": [
              "<Figure size 432x288 with 1 Axes>"
            ],
            "image/png": "[encoded data removed]"
          },
          "metadata": {
            "needs_background": "light"
          }
        }
      ]
    },
    {
      "cell_type": "code",
      "source": [
        "sns.boxplot(data=df,x=\"15歳以上の平均睡眠時間（女）\")"
      ],
      "metadata": {
        "colab": {
          "base_uri": "https://localhost:8080/",
          "height": 295
        },
        "id": "dLNj3DwjKaSg",
        "outputId": "ec9ca200-5515-4ebe-af76-7e830e7c47fa"
      },
      "execution_count": 17,
      "outputs": [
        {
          "output_type": "execute_result",
          "data": {
            "text/plain": [
              "<matplotlib.axes._subplots.AxesSubplot at 0x7f7e58459520>"
            ]
          },
          "metadata": {},
          "execution_count": 17
        },
        {
          "output_type": "display_data",
          "data": {
            "text/plain": [
              "<Figure size 432x288 with 1 Axes>"
            ],
            "image/png": "[encoded data removed]"
          },
          "metadata": {
            "needs_background": "light"
          }
        }
      ]
    },
    {
      "cell_type": "markdown",
      "source": [
        "男性の方が全体の分布が上にありそうなこと、  \n",
        "女性の方には少し大きめの外れ値があること、などが分かります。"
      ],
      "metadata": {
        "id": "5y3BnfyTKzJp"
      }
    },
    {
      "cell_type": "markdown",
      "source": [
        "## 3つの$t$検定の使い分け"
      ],
      "metadata": {
        "id": "5PvxLwynLMmW"
      }
    },
    {
      "cell_type": "markdown",
      "source": [
        "Pythonなどの統計ツールで$t$検定を行いたいときは、簡単に実行できるため、  \n",
        "大標本であってもウェルチの$t$検定を行うのが慣習です。\n",
        "\n"
      ],
      "metadata": {
        "id": "K2SGCdJFLP_k"
      }
    },
    {
      "cell_type": "markdown",
      "source": [
        "また、等分散であるといえるときはスチューデントの$t$検定を使ってしまってもいいですが、  \n",
        "等分散を言うのが大変なので、基本的にはウェルチの$t$検定を使うことが多いです。   \n",
        "（Pythonなどの統計ツールの場合） \n"
      ],
      "metadata": {
        "id": "xAsIcunZLnNF"
      }
    }
  ]
}