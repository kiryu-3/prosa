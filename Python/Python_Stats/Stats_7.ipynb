{
  "nbformat": 4,
  "nbformat_minor": 0,
  "metadata": {
    "colab": {
      "provenance": [],
      "include_colab_link": true
    },
    "kernelspec": {
      "name": "python3",
      "display_name": "Python 3"
    },
    "language_info": {
      "name": "python"
    }
  },
  "cells": [
    {
      "cell_type": "markdown",
      "metadata": {
        "id": "view-in-github",
        "colab_type": "text"
      },
      "source": [
        "<a href=\"https://colab.research.google.com/github/kiryu-3/Prmn2023_DS/blob/main/Python/Python_Stats/Stats_7.ipynb\" target=\"_parent\"><img src=\"https://colab.research.google.com/assets/colab-badge.svg\" alt=\"Open In Colab\"/></a>"
      ]
    },
    {
      "cell_type": "markdown",
      "source": [
        "# 統計的仮説検定（1変数の母平均に関する検定）"
      ],
      "metadata": {
        "id": "I2_-SqT9tBom"
      }
    },
    {
      "cell_type": "code",
      "source": [
        "import numpy as np\n",
        "import pandas as pd\n",
        "import matplotlib.pyplot as plt\n",
        "!pip install japanize-matplotlib\n",
        "import japanize_matplotlib\n",
        "import seaborn as sns\n",
        "from scipy import stats\n",
        "from scipy.stats import norm\n",
        "from scipy.stats import t\n",
        "from decimal import Decimal, ROUND_HALF_UP, ROUND_HALF_EVEN"
      ],
      "metadata": {
        "id": "bjk7EsFpU4DC",
        "colab": {
          "base_uri": "https://localhost:8080/"
        },
        "outputId": "52ac0a2a-4437-41b8-9c63-8b38b3dabb91"
      },
      "execution_count": 1,
      "outputs": [
        {
          "output_type": "stream",
          "name": "stdout",
          "text": [
            "Looking in indexes: https://pypi.org/simple, https://us-python.pkg.dev/colab-wheels/public/simple/\n",
            "Collecting japanize-matplotlib\n",
            "  Downloading japanize-matplotlib-1.1.3.tar.gz (4.1 MB)\n",
            "\u001b[2K     \u001b[90m━━━━━━━━━━━━━━━━━━━━━━━━━━━━━━━━━━━━━━━━\u001b[0m \u001b[32m4.1/4.1 MB\u001b[0m \u001b[31m21.3 MB/s\u001b[0m eta \u001b[36m0:00:00\u001b[0m\n",
            "\u001b[?25h  Preparing metadata (setup.py) ... \u001b[?25l\u001b[?25hdone\n",
            "Requirement already satisfied: matplotlib in /usr/local/lib/python3.8/dist-packages (from japanize-matplotlib) (3.2.2)\n",
            "Requirement already satisfied: numpy>=1.11 in /usr/local/lib/python3.8/dist-packages (from matplotlib->japanize-matplotlib) (1.21.6)\n",
            "Requirement already satisfied: cycler>=0.10 in /usr/local/lib/python3.8/dist-packages (from matplotlib->japanize-matplotlib) (0.11.0)\n",
            "Requirement already satisfied: pyparsing!=2.0.4,!=2.1.2,!=2.1.6,>=2.0.1 in /usr/local/lib/python3.8/dist-packages (from matplotlib->japanize-matplotlib) (3.0.9)\n",
            "Requirement already satisfied: kiwisolver>=1.0.1 in /usr/local/lib/python3.8/dist-packages (from matplotlib->japanize-matplotlib) (1.4.4)\n",
            "Requirement already satisfied: python-dateutil>=2.1 in /usr/local/lib/python3.8/dist-packages (from matplotlib->japanize-matplotlib) (2.8.2)\n",
            "Requirement already satisfied: six>=1.5 in /usr/local/lib/python3.8/dist-packages (from python-dateutil>=2.1->matplotlib->japanize-matplotlib) (1.15.0)\n",
            "Building wheels for collected packages: japanize-matplotlib\n",
            "  Building wheel for japanize-matplotlib (setup.py) ... \u001b[?25l\u001b[?25hdone\n",
            "  Created wheel for japanize-matplotlib: filename=japanize_matplotlib-1.1.3-py3-none-any.whl size=4120275 sha256=9dcbab17f67aa6d03e8fed50f10f90fb57e400c34f931fc11924a09758d4f725\n",
            "  Stored in directory: /root/.cache/pip/wheels/4f/ca/96/4cc5e192421cceb077fbf4ffec533382edd416fd3fa0af0bbd\n",
            "Successfully built japanize-matplotlib\n",
            "Installing collected packages: japanize-matplotlib\n",
            "Successfully installed japanize-matplotlib-1.1.3\n"
          ]
        }
      ]
    },
    {
      "cell_type": "markdown",
      "source": [
        "仮説を立て、標本観察によってその正誤を検証し、結論を導く方法を**統計的仮説検定**といいます。  \n",
        "\n",
        "意思決定をする上で重要な役割を果たします。"
      ],
      "metadata": {
        "id": "1cPnXjkV3_JB"
      }
    },
    {
      "cell_type": "markdown",
      "source": [
        "## 仮説検定のステップ\n",
        "仮説検定のステップは簡単に言うと以下の通りです。\n",
        "\n",
        "①帰無仮説と対立仮説を立てる  \n",
        "②帰無仮説のもとで標本観察を行う  \n",
        "③帰無仮説を棄却できるかどうかを確認する"
      ],
      "metadata": {
        "id": "PZO8G2pIPr7Q"
      }
    },
    {
      "cell_type": "markdown",
      "source": [
        "### 帰無仮説と対立仮説を立てる  "
      ],
      "metadata": {
        "id": "SOXW8yarQHuO"
      }
    },
    {
      "cell_type": "markdown",
      "source": [
        "具体例でみてみましょう。  \n",
        "  \n",
        "Aさんが所属している研究室($15$人)の睡眠時間は平均$420$分、不偏分散は$900$(=$30^2$)分です。  \n",
        "この大学の学生の睡眠時間は$468$分といえるのか、判断したいとします。"
      ],
      "metadata": {
        "id": "1rWT0R2FMUZz"
      }
    },
    {
      "cell_type": "markdown",
      "source": [
        "検定を行うため立てる仮説のことを**帰無仮説**といいます。  \n",
        "最初に立てた仮説は否定することを想定して立てます。\n",
        "\n",
        "例に当てはめて考えます。  \n",
        "「この大学の学生の睡眠時間は$468$分である」という（**帰無**）**仮説**を立てます。  \n",
        "この仮説が否定できたとき、2群の平均睡眠時間の間には何かしら違いがある、といえます。"
      ],
      "metadata": {
        "id": "Mgffm0EAKDJS"
      }
    },
    {
      "cell_type": "markdown",
      "source": [
        "帰無仮説に対する仮説のことを**対立仮説**といいます。  \n",
        "帰無仮説が否定された場合に成立します。  \n",
        "\n",
        "このように仮説を捨てることを**棄却**といいます。"
      ],
      "metadata": {
        "id": "61g9VBhZsQOT"
      }
    },
    {
      "cell_type": "markdown",
      "source": [
        "ここまでの流れをまとめると以下のようになります。  \n",
        "\n",
        "帰無仮説$H_0$：「この大学の学生の睡眠時間は$468$分である」  \n",
        "対立仮説$H_1$：「この大学の学生の睡眠時間は$468$分ではない」"
      ],
      "metadata": {
        "id": "0FfINTc9zms3"
      }
    },
    {
      "cell_type": "markdown",
      "source": [
        "最初から対立仮説を立ててしまうと、色々なケースが想定されるため、肯定するのが難しくなってしまいます。  \n",
        "そのため、「差がない」という一つのケースだけ否定しています。"
      ],
      "metadata": {
        "id": "6f4CX2HW05E8"
      }
    },
    {
      "cell_type": "markdown",
      "source": [
        "### 帰無仮説のもとで標本観察を行う    "
      ],
      "metadata": {
        "id": "GrUpyfRK1QqZ"
      }
    },
    {
      "cell_type": "markdown",
      "source": [
        "帰無仮説が成り立つものとして標本の統計量を計算します。  \n",
        "（この統計量は特に**検定統計量**と呼ばれます）\n",
        "\n",
        "この統計量の値が、帰無仮説が正しいとは言い難い領域に入っているかどうかを確認し、  \n",
        "もし入っていたら帰無仮説を否定することができます。\n",
        "\n",
        "この領域のことを**棄却域**といいます  \n",
        "（そうではない領域を**採択域**といいます）。"
      ],
      "metadata": {
        "id": "Seq6TYjL1XWh"
      }
    },
    {
      "cell_type": "markdown",
      "source": [
        "例に当てはめて考えます。  \n",
        "今回は母分散が分かっていないので、標本の不偏分散を用いて$t$値を導出します。"
      ],
      "metadata": {
        "id": "kUcuN5wIbUqd"
      }
    },
    {
      "cell_type": "markdown",
      "source": [
        "### 帰無仮説を棄却できるかどうかを確認する"
      ],
      "metadata": {
        "id": "_xZp_y5o3y7E"
      }
    },
    {
      "cell_type": "markdown",
      "source": [
        "**有意水準**が帰無仮説を棄却する基準となる確率になります。これを事前に設定します。  \n",
        "$5$%に設定することが多いです。\n",
        "\n",
        "※有意水準：めったに起こらないことが起こる確率"
      ],
      "metadata": {
        "id": "6VB2awZj32Oi"
      }
    },
    {
      "cell_type": "markdown",
      "source": [
        "帰無仮説が成り立つものとしたとき、  \n",
        "その検定統計量が得られる確率のことを **$p$値** といいます。\n",
        "\n"
      ],
      "metadata": {
        "id": "b5TF1nHy4Tah"
      }
    },
    {
      "cell_type": "markdown",
      "source": [
        "$p$値が有意水準より大きくなったときは、帰無仮説を棄却することはできません。  \n",
        "\n",
        "このときは帰無仮説を採択できるわけではなく、  \n",
        "あくまで「対立仮説が正しいと結論づけられない」ということしか言えません。"
      ],
      "metadata": {
        "id": "yC00YRmcN_Px"
      }
    },
    {
      "cell_type": "markdown",
      "source": [
        "反対に、$p$値が有意水準より小さくなったときは、帰無仮説を棄却し、対立仮説を採択します。"
      ],
      "metadata": {
        "id": "MgBmzBbiYjLX"
      }
    },
    {
      "cell_type": "markdown",
      "source": [
        "例に当てはめて考えます。  \n",
        "②で導出した$t$値と、有意水準に基づく$t$値を比較し、棄却が必要かどうか決めます。"
      ],
      "metadata": {
        "id": "tCwuJtmHe5KK"
      }
    },
    {
      "cell_type": "markdown",
      "source": [
        "## 両側検定と片側検定\n"
      ],
      "metadata": {
        "id": "wAPY6coySZyN"
      }
    },
    {
      "cell_type": "markdown",
      "source": [
        "帰無仮説$H_0$を「この大学の学生の睡眠時間は$468$分である」としたときは、  \n",
        "3通りの対立仮説$H_1$が考えられます。"
      ],
      "metadata": {
        "id": "Wz-UxffItDGt"
      }
    },
    {
      "cell_type": "markdown",
      "source": [
        "下の3つの標準正規分布では、3つの対立仮説に対応する棄却域を示しています。  \n",
        "青く塗りつぶしてあるところが棄却域です。"
      ],
      "metadata": {
        "id": "Mn5-7TNrlpvh"
      }
    },
    {
      "cell_type": "markdown",
      "source": [
        "![片側両側.png](data:image/png;base64,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)"
      ],
      "metadata": {
        "id": "kpx-w0YfkqTL"
      }
    },
    {
      "cell_type": "markdown",
      "source": [
        "標準正規分布の内、左2つにあたるものは**片側検定**です。  \n",
        "どの方向に変化しているのかを示したいときに行います。\n",
        "\n",
        "例に当てはめて考えます。  \n",
        "対立仮説$H_1$を「この大学の学生の睡眠時間は$468$分より長い」としたときは、  \n",
        "**片側検定（上側）**を行います。  \n",
        "対立仮説$H_1$を「この大学の学生の睡眠時間は$468$分より短い」としたときは、  \n",
        "**片側検定（下側）**を行います。 \n"
      ],
      "metadata": {
        "id": "s2dVoMFpk_eq"
      }
    },
    {
      "cell_type": "markdown",
      "source": [
        "標準正規分布の内、一番右にあたるものは**両側検定**です。  \n",
        "変化しているのかどうかを示したいときに行います。\n",
        "\n",
        "例に当てはめて考えます。  \n",
        "対立仮説$H_1$を「この大学の学生の睡眠時間は$468$分ではない」としたときは、  \n",
        "**両側検定**を行います。 \n"
      ],
      "metadata": {
        "id": "Qsc3WoLwloh5"
      }
    },
    {
      "cell_type": "markdown",
      "source": [
        "検定の目的に合わせて使い分けるようにしましょう。"
      ],
      "metadata": {
        "id": "2APdl9S8ton0"
      }
    },
    {
      "cell_type": "markdown",
      "source": [
        "## Pythonによる仮説検定"
      ],
      "metadata": {
        "id": "9IAb7InMRUTU"
      }
    },
    {
      "cell_type": "markdown",
      "source": [
        "実際に手計算で解くのは結構手間なので、平均睡眠時間についてPythonで仮説検定しましょう。"
      ],
      "metadata": {
        "id": "ESv3mp-BnG6O"
      }
    },
    {
      "cell_type": "code",
      "source": [
        "μ=468\n",
        "print(\"母平均は{}（分）です\".format(μ))\n",
        "\n",
        "n=15\n",
        "print(\"標本の大きさは{}（人）です\".format(n))\n",
        "\n",
        "x=420\n",
        "print(\"標本平均は{}（分）です\".format(x))\n",
        "\n",
        "s=30\n",
        "print(\"不偏分散の平方根は{}（分）です\".format(s))\n",
        "\n",
        "print(\"有意水準5%\")"
      ],
      "metadata": {
        "id": "A6VSb6EJnS9Q",
        "colab": {
          "base_uri": "https://localhost:8080/"
        },
        "outputId": "4e8beab1-500e-4025-fba6-4fcb88046147"
      },
      "execution_count": 2,
      "outputs": [
        {
          "output_type": "stream",
          "name": "stdout",
          "text": [
            "母平均は468（分）です\n",
            "標本の大きさは15（人）です\n",
            "標本平均は420（分）です\n",
            "不偏分散の平方根は30（分）です\n",
            "有意水準5%\n"
          ]
        }
      ]
    },
    {
      "cell_type": "code",
      "source": [
        "# 大学の学生の平均睡眠時間は468分\n",
        "print(\"H0 : μ＝{}(分) [帰無仮説]\".format(μ)) \n",
        "   \n",
        "# 大学の学生の平均睡眠時間は468分ではない\n",
        "print(\"H1 : μ≠{}(分) [対立仮説]\".format(μ))"
      ],
      "metadata": {
        "id": "P400U0BHnzWs",
        "colab": {
          "base_uri": "https://localhost:8080/"
        },
        "outputId": "48417d27-fc22-437a-a159-8762b587cf3b"
      },
      "execution_count": 3,
      "outputs": [
        {
          "output_type": "stream",
          "name": "stdout",
          "text": [
            "H0 : μ＝468(分) [帰無仮説]\n",
            "H1 : μ≠468(分) [対立仮説]\n"
          ]
        }
      ]
    },
    {
      "cell_type": "code",
      "source": [
        "# Pythonによる導出方法\n",
        "ty = float(Decimal(str(t.ppf(0.975, n-1))).quantize(Decimal('0.001'),\n",
        "                                                    rounding=ROUND_HALF_UP))\n",
        "print(f\"有意水準のt値:±{ty}\")  # 両側検定なのでt値は2つ\n",
        "\n",
        "tk = (x-μ)/(s/np.sqrt(n))  # 検定統計量をt値にする\n",
        "tk = float(Decimal(str(tk)).quantize(Decimal('0.001'),rounding=ROUND_HALF_UP))\n",
        "print(f\"検定統計量のt値:{tk}\")"
      ],
      "metadata": {
        "id": "tDez5p_auGRC",
        "colab": {
          "base_uri": "https://localhost:8080/"
        },
        "outputId": "c69f14d2-0137-45af-c965-72a3c15fa053"
      },
      "execution_count": 4,
      "outputs": [
        {
          "output_type": "stream",
          "name": "stdout",
          "text": [
            "有意水準のt値:±2.145\n",
            "検定統計量のt値:-6.197\n"
          ]
        }
      ]
    },
    {
      "cell_type": "code",
      "source": [
        "if tk<0:\n",
        "  typ = float(Decimal(str(t(n-1).cdf(-ty)*100)).quantize(Decimal('0.001'), \n",
        "                                                         rounding=ROUND_HALF_UP))\n",
        "  print(f\"有意水準：{typ}%\")    # 左側の棄却域の面積\n",
        "  tkp = float(Decimal(str(t(n-1).cdf(tk)*100)).quantize(Decimal('0.001'),\n",
        "                                                        rounding=ROUND_HALF_UP))\n",
        "  print(f\"p値：{tkp}%\")\n",
        "elif tk>=0:\n",
        "  typ = float(Decimal(str(t(n-1).sf(ty)*100)).quantize(Decimal('0.001'),\n",
        "                                                       rounding=ROUND_HALF_UP))\n",
        "  print(f\"有意水準：{typ}%\")    # 右側の棄却域の面積\n",
        "  tkp = float(Decimal(str(t(n-1).sf(tk)*100)).quantize(Decimal('0.001'),\n",
        "                                                       rounding=ROUND_HALF_UP))\n",
        "  print(f\"p値：{tkp}%\")"
      ],
      "metadata": {
        "id": "5HZlj4lD3CY4",
        "colab": {
          "base_uri": "https://localhost:8080/"
        },
        "outputId": "17e5c9f0-2b1e-402e-d893-33aa3b3fe96f"
      },
      "execution_count": 5,
      "outputs": [
        {
          "output_type": "stream",
          "name": "stdout",
          "text": [
            "有意水準：2.499%\n",
            "p値：0.001%\n"
          ]
        }
      ]
    },
    {
      "cell_type": "code",
      "source": [
        "print(\"p値が有意水準より小さくなったので、帰無仮説を棄却し、対立仮説を採択する\")\n",
        "print(\"したがって、大学の学生の平均睡眠時間は468分であるとはいえない\")"
      ],
      "metadata": {
        "id": "XRZw026w6jVm",
        "colab": {
          "base_uri": "https://localhost:8080/"
        },
        "outputId": "631b0a47-dd5c-44f1-e46c-ed4f57e1a7b4"
      },
      "execution_count": 6,
      "outputs": [
        {
          "output_type": "stream",
          "name": "stdout",
          "text": [
            "p値が有意水準より小さくなったので、帰無仮説を棄却し、対立仮説を採択する\n",
            "したがって、大学の学生の平均睡眠時間は468分であるとはいえない\n"
          ]
        }
      ]
    },
    {
      "cell_type": "markdown",
      "source": [
        "ここで手計算でも行えるように、$p$値を求めない別解も示します。  \n",
        "Pythonで求めていますが、適宜置き換えてください。"
      ],
      "metadata": {
        "id": "uItlmZXmutyD"
      }
    },
    {
      "cell_type": "code",
      "source": [
        "# 別解\n",
        "ty = float(Decimal(str(t.ppf(0.975, n-1))).quantize(Decimal('0.001'),\n",
        "                                                    rounding=ROUND_HALF_UP))\n",
        "print(f\"有意水準のt値:{ty}\")    # 両側検定なのでt値は2つ\n",
        "\n",
        "# 下方信頼限界 , 上方信頼限界\n",
        "x1,x2 = stats.t.interval(alpha=0.95,loc=μ,scale=s/np.sqrt(n),df=n-1)    \n",
        "x1 = Decimal(str(x1)).quantize(Decimal('0.00001'), rounding=ROUND_HALF_UP)\n",
        "x2 = Decimal(str(x2)).quantize(Decimal('0.00001'), rounding=ROUND_HALF_UP)\n",
        "\n",
        "print(\"xの下限値は{}(人)\".format(x1))\n",
        "print(\"xの上限値は{}(人)\".format(x2))  # 実際は標本平均が母平均を下回ることは明らかなので不要"
      ],
      "metadata": {
        "colab": {
          "base_uri": "https://localhost:8080/"
        },
        "id": "N8QcBxNIALs0",
        "outputId": "8301400d-4a1b-48c9-f5cf-4e43a0a0727a"
      },
      "execution_count": 7,
      "outputs": [
        {
          "output_type": "stream",
          "name": "stdout",
          "text": [
            "有意水準のt値:2.145\n",
            "xの下限値は451.38655(人)\n",
            "xの上限値は484.61345(人)\n"
          ]
        }
      ]
    },
    {
      "cell_type": "code",
      "source": [
        "print(\"棄却域は\\n{}(人) > x , x > {}(人) である。\\n\".format(x1,x2))\n",
        "print(\"標本平均{}(人)は、棄却域に入るため、\\n帰無仮説を棄却し、対立仮説を採択する\".format(x))"
      ],
      "metadata": {
        "colab": {
          "base_uri": "https://localhost:8080/"
        },
        "id": "-J4wsqJtu3hg",
        "outputId": "062d6a1a-0c9b-452b-8db0-6519283ab96d"
      },
      "execution_count": 8,
      "outputs": [
        {
          "output_type": "stream",
          "name": "stdout",
          "text": [
            "棄却域は\n",
            "451.38655(人) > x , x > 484.61345(人) である。\n",
            "\n",
            "標本平均420(人)は、棄却域に入るため、\n",
            "帰無仮説を棄却し、対立仮説を採択する\n"
          ]
        }
      ]
    },
    {
      "cell_type": "code",
      "source": [
        "print(\"したがって、大学の学生の平均睡眠時間は468分であるとはいえない\")"
      ],
      "metadata": {
        "colab": {
          "base_uri": "https://localhost:8080/"
        },
        "id": "cxIEAOkHVd54",
        "outputId": "6bbf6f9c-fb32-4392-e534-3256650dd98e"
      },
      "execution_count": 9,
      "outputs": [
        {
          "output_type": "stream",
          "name": "stdout",
          "text": [
            "したがって、大学の学生の平均睡眠時間は468分であるとはいえない\n"
          ]
        }
      ]
    },
    {
      "cell_type": "markdown",
      "source": [
        "### 演習① 両側検定"
      ],
      "metadata": {
        "id": "H6jSQEt17Xrc"
      }
    },
    {
      "cell_type": "markdown",
      "source": [
        "もう一問両側検定の問題を解いてみましょう。  \n",
        "[こちら](https://bit.ly/3PUeKPD)の問題になります。\n"
      ],
      "metadata": {
        "id": "-oxGM2G-7cZj"
      }
    },
    {
      "cell_type": "code",
      "source": [
        "μ=25.5\n",
        "print(\"母平均は{}（kg）です\".format(μ))\n",
        "\n",
        "n=20\n",
        "print(\"標本の大きさは{}（個）です\".format(n))\n",
        "\n",
        "x=25.29\n",
        "print(\"標本平均は{}（kg）です\".format(x))\n",
        "\n",
        "s=1.49\n",
        "print(\"不偏分散の平方根は{}（kg）です\".format(s))\n",
        "\n",
        "print(\"有意水準5%\")"
      ],
      "metadata": {
        "id": "iyPx6-4z76Qq",
        "colab": {
          "base_uri": "https://localhost:8080/"
        },
        "outputId": "506e8368-fa23-4787-d214-08fe03039e0e"
      },
      "execution_count": 10,
      "outputs": [
        {
          "output_type": "stream",
          "name": "stdout",
          "text": [
            "母平均は25.5（kg）です\n",
            "標本の大きさは20（個）です\n",
            "標本平均は25.29（kg）です\n",
            "不偏分散の平方根は1.49（kg）です\n",
            "有意水準5%\n"
          ]
        }
      ]
    },
    {
      "cell_type": "code",
      "source": [
        "print(\"H0 : μ＝{}(kg) [帰無仮説]\".format(μ))    # 強力粉の重量は25.5 kgである\n",
        "print(\"H1 : μ≠{}(kg) [対立仮説]\".format(μ))    # 強力粉の重量は25.5 kgではない"
      ],
      "metadata": {
        "id": "QZuK9pmh8c0p",
        "colab": {
          "base_uri": "https://localhost:8080/"
        },
        "outputId": "ba95f8f9-a546-4090-8093-fc29efbf092e"
      },
      "execution_count": 11,
      "outputs": [
        {
          "output_type": "stream",
          "name": "stdout",
          "text": [
            "H0 : μ＝25.5(kg) [帰無仮説]\n",
            "H1 : μ≠25.5(kg) [対立仮説]\n"
          ]
        }
      ]
    },
    {
      "cell_type": "code",
      "source": [
        "# Pythonによる導出方法\n",
        "ty = float(Decimal(str(t.ppf(0.975, n-1))).quantize(Decimal('0.001'),\n",
        "                                                    rounding=ROUND_HALF_UP))\n",
        "print(f\"有意水準のt値:±{ty}\")    # 両側検定なのでt値は2つ\n",
        "\n",
        "tk = (x-μ)/(s/np.sqrt(n))    # 検定統計量をt値にする\n",
        "tk = float(Decimal(str(tk)).quantize(Decimal('0.001'),rounding=ROUND_HALF_UP))\n",
        "print(f\"検定統計量のt値:{tk}\")"
      ],
      "metadata": {
        "id": "nPYae2Ca8lvK",
        "colab": {
          "base_uri": "https://localhost:8080/"
        },
        "outputId": "b8286fbd-67b0-4855-e038-6a4b5fd38dae"
      },
      "execution_count": 12,
      "outputs": [
        {
          "output_type": "stream",
          "name": "stdout",
          "text": [
            "有意水準のt値:±2.093\n",
            "検定統計量のt値:-0.63\n"
          ]
        }
      ]
    },
    {
      "cell_type": "code",
      "source": [
        "if tk<0:\n",
        "  typ = float(Decimal(str(t(n-1).cdf(-ty)*100)).quantize(Decimal('0.001'),\n",
        "                                                         rounding=ROUND_HALF_UP))\n",
        "  print(f\"有意水準：{typ}%\")    # 左側の棄却域の面積\n",
        "  tkp = float(Decimal(str(t(n-1).cdf(tk)*100)).quantize(Decimal('0.001'),\n",
        "                                                        rounding=ROUND_HALF_UP))\n",
        "  print(f\"p値：{tkp}%\")\n",
        "elif tk>=0:\n",
        "  typ = float(Decimal(str(t(n-1).sf(ty)*100)).quantize(Decimal('0.001'),\n",
        "                                                       rounding=ROUND_HALF_UP))\n",
        "  print(f\"有意水準：{typ}%\")    # 右側の棄却域の面積\n",
        "  tkp = float(Decimal(str(t(n-1).sf(tk)*100)).quantize(Decimal('0.001'), \n",
        "                                                       rounding=ROUND_HALF_UP))\n",
        "  print(f\"p値：{tkp}%\")"
      ],
      "metadata": {
        "id": "gRm2imCz8sII",
        "colab": {
          "base_uri": "https://localhost:8080/"
        },
        "outputId": "07f1df85-41dd-47cf-9263-9ef4d746e39c"
      },
      "execution_count": 13,
      "outputs": [
        {
          "output_type": "stream",
          "name": "stdout",
          "text": [
            "有意水準：2.5%\n",
            "p値：26.81%\n"
          ]
        }
      ]
    },
    {
      "cell_type": "code",
      "source": [
        "print(\"p値が有意水準より大きくなったので、帰無仮説を棄却せず、対立仮説を採択しない\")\n",
        "print(\"したがって、強力粉の重量は25.5 kgではないとは言えない\")"
      ],
      "metadata": {
        "id": "rUn7s2wU838g",
        "colab": {
          "base_uri": "https://localhost:8080/"
        },
        "outputId": "2a40659c-d360-42b2-a6a9-393aeaee8327"
      },
      "execution_count": 14,
      "outputs": [
        {
          "output_type": "stream",
          "name": "stdout",
          "text": [
            "p値が有意水準より大きくなったので、帰無仮説を棄却せず、対立仮説を採択しない\n",
            "したがって、強力粉の重量は25.5 kgではないとは言えない\n"
          ]
        }
      ]
    },
    {
      "cell_type": "code",
      "source": [
        "# 別解\n",
        "ty = float(Decimal(str(t.ppf(0.975, n-1))).quantize(Decimal('0.001'),\n",
        "                                                    rounding=ROUND_HALF_UP))\n",
        "print(f\"有意水準のt値:{ty}\")    # 両側検定なのでt値は2つ\n",
        "\n",
        "# 下方信頼限界 , 上方信頼限界\n",
        "x1,x2 = stats.t.interval(alpha=0.95,loc=μ,scale=s/np.sqrt(n),df=n-1)    \n",
        "x1 = Decimal(str(x1)).quantize(Decimal('0.00001'),rounding=ROUND_HALF_UP)\n",
        "x2 = Decimal(str(x2)).quantize(Decimal('0.00001'),rounding=ROUND_HALF_UP) \n",
        "\n",
        "print(\"xの下限値は{}(kg)\".format(x1))\n",
        "print(\"xの上限値は{}(kg)\".format(x2))  # 実際は標本平均が母平均を下回ることは明らかなので不要"
      ],
      "metadata": {
        "colab": {
          "base_uri": "https://localhost:8080/"
        },
        "outputId": "7f820377-1856-41de-9c37-554a33aa0676",
        "id": "3ruj4HbmwI38"
      },
      "execution_count": 15,
      "outputs": [
        {
          "output_type": "stream",
          "name": "stdout",
          "text": [
            "有意水準のt値:2.093\n",
            "xの下限値は24.80266(kg)\n",
            "xの上限値は26.19734(kg)\n"
          ]
        }
      ]
    },
    {
      "cell_type": "code",
      "source": [
        "print(\"棄却域は\\n{}(kg) > x , x > {}(kg) である。\\n\".format(x1,x2))\n",
        "print(\"標本平均{}(kg)は、棄却域に入らないため、\\n帰無仮説を棄却せず、対立仮説を採択しない\".format(x))"
      ],
      "metadata": {
        "colab": {
          "base_uri": "https://localhost:8080/"
        },
        "outputId": "d467ed00-b8a6-4d7e-ae33-8febef88aaa1",
        "id": "NUqU9PqxwI39"
      },
      "execution_count": 16,
      "outputs": [
        {
          "output_type": "stream",
          "name": "stdout",
          "text": [
            "棄却域は\n",
            "24.80266(kg) > x , x > 26.19734(kg) である。\n",
            "\n",
            "標本平均25.29(kg)は、棄却域に入らないため、\n",
            "帰無仮説を棄却せず、対立仮説を採択しない\n"
          ]
        }
      ]
    },
    {
      "cell_type": "code",
      "source": [
        "print(\"したがって、強力粉の重量は25.5 kgではないとは言えない\")"
      ],
      "metadata": {
        "colab": {
          "base_uri": "https://localhost:8080/"
        },
        "id": "n5Wd_ZuSVixg",
        "outputId": "2b735b09-3592-4e59-ab61-25ff5a28e7ce"
      },
      "execution_count": 17,
      "outputs": [
        {
          "output_type": "stream",
          "name": "stdout",
          "text": [
            "したがって、強力粉の重量は25.5 kgではないとは言えない\n"
          ]
        }
      ]
    },
    {
      "cell_type": "markdown",
      "source": [
        "### 演習② 片側検定（上側）"
      ],
      "metadata": {
        "id": "kpyiWeKD-Wqv"
      }
    },
    {
      "cell_type": "markdown",
      "source": [
        "片側検定の問題を解いてみましょう。  \n",
        "[こちら](https://bit.ly/3jzwHXC)の問題になります。"
      ],
      "metadata": {
        "id": "1dypc25N-lCr"
      }
    },
    {
      "cell_type": "code",
      "source": [
        "μ=21\n",
        "print(\"母平均は{}（羽）です\".format(μ))\n",
        "\n",
        "n=10\n",
        "print(\"標本の大きさは{}（回）です\".format(n))\n",
        "\n",
        "x=25\n",
        "print(\"標本平均は{}（羽）です\".format(x))\n",
        "\n",
        "s=3\n",
        "print(\"不偏分散の平方根は{}（羽）です\".format(s))\n",
        "\n",
        "print(\"有意水準5%\")"
      ],
      "metadata": {
        "id": "IAk9pw_B_CQq",
        "colab": {
          "base_uri": "https://localhost:8080/"
        },
        "outputId": "bf85f7ae-4bc7-4f72-85d6-bdcc5b98a78f"
      },
      "execution_count": 18,
      "outputs": [
        {
          "output_type": "stream",
          "name": "stdout",
          "text": [
            "母平均は21（羽）です\n",
            "標本の大きさは10（回）です\n",
            "標本平均は25（羽）です\n",
            "不偏分散の平方根は3（羽）です\n",
            "有意水準5%\n"
          ]
        }
      ]
    },
    {
      "cell_type": "code",
      "source": [
        "print(\"H0 : μ＝{}(羽) [帰無仮説]\".format(μ))  # 生息数は平均21である\n",
        "print(\"H1 : μ＞{}(羽) [対立仮説]\".format(μ))  # 生息数は平均21を超える"
      ],
      "metadata": {
        "id": "S0451q5j_T95",
        "colab": {
          "base_uri": "https://localhost:8080/"
        },
        "outputId": "6ca3f27d-45d4-4a5f-da0a-1cfc22972029"
      },
      "execution_count": 19,
      "outputs": [
        {
          "output_type": "stream",
          "name": "stdout",
          "text": [
            "H0 : μ＝21(羽) [帰無仮説]\n",
            "H1 : μ＞21(羽) [対立仮説]\n"
          ]
        }
      ]
    },
    {
      "cell_type": "code",
      "source": [
        "# Pythonによる導出方法\n",
        "ty = float(Decimal(str(t.ppf(0.95, n-1))).quantize(Decimal('0.001'),\n",
        "                                                   rounding=ROUND_HALF_UP))\n",
        "print(f\"有意水準のt値:{ty}\")  # 片側検定なのでt値は1つ\n",
        "\n",
        "tk = (x-μ)/(s/np.sqrt(n))  # 検定統計量をt値にする\n",
        "tk = float(Decimal(str(tk)).quantize(Decimal('0.001'),rounding=ROUND_HALF_UP))\n",
        "print(f\"検定統計量のt値:{tk}\")"
      ],
      "metadata": {
        "id": "eMUJXPqM_ZjB",
        "colab": {
          "base_uri": "https://localhost:8080/"
        },
        "outputId": "35599f58-9aeb-4fc4-ad5e-0372bf2a6894"
      },
      "execution_count": 20,
      "outputs": [
        {
          "output_type": "stream",
          "name": "stdout",
          "text": [
            "有意水準のt値:1.833\n",
            "検定統計量のt値:4.216\n"
          ]
        }
      ]
    },
    {
      "cell_type": "code",
      "source": [
        "if tk<0:\n",
        "  typ = float(Decimal(str(t(n-1).cdf(-ty)*100)).quantize(Decimal('0.001'), \n",
        "                                                         rounding=ROUND_HALF_UP))\n",
        "  print(f\"有意水準：{typ}%\")    # 左側の棄却域の面積\n",
        "  tkp = float(Decimal(str(t(n-1).cdf(tk)*100)).quantize(Decimal('0.001'),\n",
        "                                                        rounding=ROUND_HALF_UP))\n",
        "  print(f\"p値：{tkp}%\")\n",
        "elif tk>=0:\n",
        "  typ = float(Decimal(str(t(n-1).sf(ty)*100)).quantize(Decimal('0.001'),\n",
        "                                                       rounding=ROUND_HALF_UP))\n",
        "  print(f\"有意水準：{typ}%\")    # 右側の棄却域の面積\n",
        "  tkp = float(Decimal(str(t(n-1).sf(tk)*100)).quantize(Decimal('0.001'),\n",
        "                                                       rounding=ROUND_HALF_UP))\n",
        "  print(f\"p値：{tkp}%\")"
      ],
      "metadata": {
        "id": "k73kFMEL_tvY",
        "colab": {
          "base_uri": "https://localhost:8080/"
        },
        "outputId": "707837cc-e760-4b93-8009-2adc68cbb813"
      },
      "execution_count": 21,
      "outputs": [
        {
          "output_type": "stream",
          "name": "stdout",
          "text": [
            "有意水準：5.001%\n",
            "p値：0.113%\n"
          ]
        }
      ]
    },
    {
      "cell_type": "code",
      "source": [
        "print(\"p値が有意水準より小さくなったので、帰無仮説を棄却し、対立仮説を採択する\")\n",
        "print(\"したがって、生息数は平均21を超える\")"
      ],
      "metadata": {
        "id": "rtry5zwHACEQ",
        "colab": {
          "base_uri": "https://localhost:8080/"
        },
        "outputId": "f5783676-d961-4ca0-df7a-9dda82cc4aa3"
      },
      "execution_count": 22,
      "outputs": [
        {
          "output_type": "stream",
          "name": "stdout",
          "text": [
            "p値が有意水準より小さくなったので、帰無仮説を棄却し、対立仮説を採択する\n",
            "したがって、生息数は平均21を超える\n"
          ]
        }
      ]
    },
    {
      "cell_type": "code",
      "source": [
        "# 別解\n",
        "ty = float(Decimal(str(t.ppf(0.95, n-1))).quantize(Decimal('0.001'),\n",
        "                                                   rounding=ROUND_HALF_UP))\n",
        "print(f\"有意水準のt値:{ty}\")    # 片側検定\n",
        "\n",
        "# 下方信頼限界 , 上方信頼限界\n",
        "x1,x2 = stats.t.interval(alpha=0.90,loc=μ,scale=s/np.sqrt(n),df=n-1)    \n",
        "x1 = Decimal(str(x1)).quantize(Decimal('0.0001'),rounding=ROUND_HALF_UP)\n",
        "\n",
        "print(\"xの上限値は{}(羽)\".format(x2))"
      ],
      "metadata": {
        "colab": {
          "base_uri": "https://localhost:8080/"
        },
        "id": "Sdo7xSPKxRLf",
        "outputId": "c4b231c4-90e3-4cbd-8a46-26fb75b9f3ae"
      },
      "execution_count": 23,
      "outputs": [
        {
          "output_type": "stream",
          "name": "stdout",
          "text": [
            "有意水準のt値:1.833\n",
            "xの上限値は22.7390436226489(羽)\n"
          ]
        }
      ]
    },
    {
      "cell_type": "code",
      "source": [
        "print(\"棄却域は\\nx > {}(羽) である。\\n\".format(x2))\n",
        "print(\"標本平均{}(羽)は、棄却域に入るため、\\n帰無仮説を棄却し、対立仮説を採択する\".format(x))"
      ],
      "metadata": {
        "colab": {
          "base_uri": "https://localhost:8080/"
        },
        "id": "t9ANDC8ZxkZm",
        "outputId": "04e249a0-bb7d-444c-9310-0c1d05c74136"
      },
      "execution_count": 24,
      "outputs": [
        {
          "output_type": "stream",
          "name": "stdout",
          "text": [
            "棄却域は\n",
            "x > 22.7390436226489(羽) である。\n",
            "\n",
            "標本平均25(羽)は、棄却域に入るため、\n",
            "帰無仮説を棄却し、対立仮説を採択する\n"
          ]
        }
      ]
    },
    {
      "cell_type": "code",
      "source": [
        "print(\"したがって、生息数は平均21を超える\")"
      ],
      "metadata": {
        "colab": {
          "base_uri": "https://localhost:8080/"
        },
        "id": "ONGQXDnnVp0_",
        "outputId": "1906bd15-fbab-4a87-bd04-4ed80c256885"
      },
      "execution_count": 25,
      "outputs": [
        {
          "output_type": "stream",
          "name": "stdout",
          "text": [
            "したがって、生息数は平均21を超える\n"
          ]
        }
      ]
    },
    {
      "cell_type": "markdown",
      "source": [
        "### 演習③ 片側検定（下側）"
      ],
      "metadata": {
        "id": "3fZP7K5zAgoO"
      }
    },
    {
      "cell_type": "markdown",
      "source": [
        "もう一問片側検定の問題を解いてみましょう。  \n",
        "[こちら](https://bit.ly/3WLOU2j)の問題になります。"
      ],
      "metadata": {
        "id": "dPTFodTXAkzt"
      }
    },
    {
      "cell_type": "code",
      "source": [
        "μ=2000\n",
        "print(\"母平均は{}（時間）です\".format(μ))\n",
        "\n",
        "n=15\n",
        "print(\"標本の大きさは{}（個）です\".format(n))\n",
        "\n",
        "x=1900\n",
        "print(\"標本平均は{}（時間）です\".format(x))\n",
        "\n",
        "s=150\n",
        "print(\"不偏分散の平方根は{}（時間）です\".format(s))\n",
        "\n",
        "print(\"有意水準5%\")"
      ],
      "metadata": {
        "id": "9FTTYa9NAr0X",
        "colab": {
          "base_uri": "https://localhost:8080/"
        },
        "outputId": "1ad112ea-ad30-41ca-81d8-595654b686b0"
      },
      "execution_count": 26,
      "outputs": [
        {
          "output_type": "stream",
          "name": "stdout",
          "text": [
            "母平均は2000（時間）です\n",
            "標本の大きさは15（個）です\n",
            "標本平均は1900（時間）です\n",
            "不偏分散の平方根は150（時間）です\n",
            "有意水準5%\n"
          ]
        }
      ]
    },
    {
      "cell_type": "code",
      "source": [
        "print(\"H0 : μ＝{}(時間) [帰無仮説]\".format(μ))    # この電球の寿命は2,000時間である\n",
        "print(\"H1 : μ＞{}(時間) [対立仮説]\".format(μ))    # この電球の寿命は2,000時間よりも短い"
      ],
      "metadata": {
        "id": "WoRQVIc8BDuS",
        "colab": {
          "base_uri": "https://localhost:8080/"
        },
        "outputId": "928359fe-fb61-4c44-de07-fcbef0cca7ad"
      },
      "execution_count": 27,
      "outputs": [
        {
          "output_type": "stream",
          "name": "stdout",
          "text": [
            "H0 : μ＝2000(時間) [帰無仮説]\n",
            "H1 : μ＞2000(時間) [対立仮説]\n"
          ]
        }
      ]
    },
    {
      "cell_type": "code",
      "source": [
        "# Pythonによる導出方法\n",
        "ty = float(Decimal(str(t.ppf(0.95, n-1))).quantize(Decimal('0.001'),\n",
        "                                                   rounding=ROUND_HALF_UP))\n",
        "print(f\"有意水準のt値:{-ty}\")  # 片側検定なのでt値は1つ\n",
        "\n",
        "tk = (x-μ)/(s/np.sqrt(n))  # 検定統計量をt値にする\n",
        "tk = float(Decimal(str(tk)).quantize(Decimal('0.001'), rounding=ROUND_HALF_UP))\n",
        "print(f\"検定統計量のt値:{tk}\")"
      ],
      "metadata": {
        "id": "a089Dx4aBZbb",
        "colab": {
          "base_uri": "https://localhost:8080/"
        },
        "outputId": "60c98c8a-5e05-4705-ff1e-501557aadd0f"
      },
      "execution_count": 28,
      "outputs": [
        {
          "output_type": "stream",
          "name": "stdout",
          "text": [
            "有意水準のt値:-1.761\n",
            "検定統計量のt値:-2.582\n"
          ]
        }
      ]
    },
    {
      "cell_type": "code",
      "source": [
        "if tk<0:\n",
        "  typ = float(Decimal(str(t(n-1).cdf(-ty)*100)).quantize(Decimal('0.001'),\n",
        "                                                         rounding=ROUND_HALF_UP))\n",
        "  print(f\"有意水準：{typ}%\")    # 左側の棄却域の面積\n",
        "  tkp = float(Decimal(str(t(n-1).cdf(tk)*100)).quantize(Decimal('0.001'), \n",
        "                                                        rounding=ROUND_HALF_UP))\n",
        "  print(f\"p値：{tkp}%\")\n",
        "elif tk>=0:\n",
        "  typ = float(Decimal(str(t(n-1).sf(ty)*100)).quantize(Decimal('0.001'),\n",
        "                                                       rounding=ROUND_HALF_UP))\n",
        "  print(f\"有意水準：{typ}%\")    # 右側の棄却域の面積\n",
        "  tkp = float(Decimal(str(t(n-1).sf(tk)*100)).quantize(Decimal('0.001'),\n",
        "                                                       rounding=ROUND_HALF_UP))\n",
        "  print(f\"p値：{tkp}%\")"
      ],
      "metadata": {
        "id": "2HJy-wVzBnjT",
        "colab": {
          "base_uri": "https://localhost:8080/"
        },
        "outputId": "3c49d525-c23e-4f34-f27a-7d7dc2002387"
      },
      "execution_count": 29,
      "outputs": [
        {
          "output_type": "stream",
          "name": "stdout",
          "text": [
            "有意水準：5.003%\n",
            "p値：1.086%\n"
          ]
        }
      ]
    },
    {
      "cell_type": "code",
      "source": [
        "print(\"p値が有意水準より小さくなったので、帰無仮説を棄却し、対立仮説を採択する\")\n",
        "print(\"したがって、この電球の寿命は2,000時間よりも短い\")"
      ],
      "metadata": {
        "id": "CsRBDRjiBsyj",
        "colab": {
          "base_uri": "https://localhost:8080/"
        },
        "outputId": "5c599011-3179-423b-82b6-b5ae846f4230"
      },
      "execution_count": 30,
      "outputs": [
        {
          "output_type": "stream",
          "name": "stdout",
          "text": [
            "p値が有意水準より小さくなったので、帰無仮説を棄却し、対立仮説を採択する\n",
            "したがって、この電球の寿命は2,000時間よりも短い\n"
          ]
        }
      ]
    },
    {
      "cell_type": "code",
      "source": [
        "# 別解\n",
        "ty = float(Decimal(str(t.ppf(0.95, n-1))).quantize(Decimal('0.001'),\n",
        "                                                   rounding=ROUND_HALF_UP))\n",
        "print(f\"有意水準のt値:{ty}\")    # 片側検定\n",
        "\n",
        "# 下方信頼限界 , 上方信頼限界\n",
        "x1,x2 = stats.t.interval(alpha=0.90,loc=μ,scale=s/np.sqrt(n),df=n-1)    \n",
        "x1 = Decimal(str(x1)).quantize(Decimal('0.0001'), rounding=ROUND_HALF_UP)\n",
        "\n",
        "print(\"xの下限値は{}(時間)\".format(x1))"
      ],
      "metadata": {
        "colab": {
          "base_uri": "https://localhost:8080/"
        },
        "id": "B8enQ2SPOrOO",
        "outputId": "1e65a239-48c4-464f-a587-6913af67982b"
      },
      "execution_count": 31,
      "outputs": [
        {
          "output_type": "stream",
          "name": "stdout",
          "text": [
            "有意水準のt値:1.761\n",
            "xの下限値は1931.7848(時間)\n"
          ]
        }
      ]
    },
    {
      "cell_type": "code",
      "source": [
        "print(\"棄却域は\\n{}(時間) > x である。\\n\".format(x1))\n",
        "print(\"標本平均{}(時間)は、棄却域に入るため、\\n帰無仮説を棄却し、対立仮説を採択する\".format(x))"
      ],
      "metadata": {
        "colab": {
          "base_uri": "https://localhost:8080/"
        },
        "id": "XLben9T_OcJs",
        "outputId": "25c03dc6-1236-460a-f538-c64219b56b39"
      },
      "execution_count": 32,
      "outputs": [
        {
          "output_type": "stream",
          "name": "stdout",
          "text": [
            "棄却域は\n",
            "1931.7848(時間) > x である。\n",
            "\n",
            "標本平均1900(時間)は、棄却域に入るため、\n",
            "帰無仮説を棄却し、対立仮説を採択する\n"
          ]
        }
      ]
    },
    {
      "cell_type": "code",
      "source": [
        "print(\"したがって、この電球の寿命は2,000時間よりも短い\")"
      ],
      "metadata": {
        "colab": {
          "base_uri": "https://localhost:8080/"
        },
        "id": "io6EaER-V1T9",
        "outputId": "508e47b0-c268-4f57-cf1f-a5cded420068"
      },
      "execution_count": 33,
      "outputs": [
        {
          "output_type": "stream",
          "name": "stdout",
          "text": [
            "したがって、この電球の寿命は2,000時間よりも短い\n"
          ]
        }
      ]
    },
    {
      "cell_type": "markdown",
      "source": [
        "## Pythonによる仮説検定（高速Ver）"
      ],
      "metadata": {
        "id": "ZCJITJ_nEQZv"
      }
    },
    {
      "cell_type": "markdown",
      "source": [
        "標本が「平均と不偏分散」のセットではなく**標本値**で与えられている場合、  \n",
        "Pythonでは一瞬で仮説検定を行うことができます。"
      ],
      "metadata": {
        "id": "qyFf_NcZEofC"
      }
    },
    {
      "cell_type": "markdown",
      "source": [
        "`todohuken_data.csv`をインポートしてください。"
      ],
      "metadata": {
        "id": "rrbi7qW9FGSS"
      }
    },
    {
      "cell_type": "code",
      "execution_count": 48,
      "metadata": {
        "id": "o74qG3wtpMjx",
        "colab": {
          "base_uri": "https://localhost:8080/",
          "height": 257
        },
        "outputId": "4748249f-0db7-4234-b96b-3c3d14ff7b98"
      },
      "outputs": [
        {
          "output_type": "execute_result",
          "data": {
            "text/plain": [
              "  都道府県     地方  15歳以上の平均睡眠時間（男）  15歳以上の平均睡眠時間（女）  運転免許保有者割合（%）\n",
              "0  北海道  北海道地方              473              465          63.4\n",
              "1  青森県   東北地方              486              470          66.4\n",
              "2  岩手県   東北地方              477              469          67.6"
            ],
            "text/html": [
              "\n",
              "  <div id=\"df-c6a4c45c-8752-4947-af9a-5cff8330c61d\">\n",
              "    <div class=\"colab-df-container\">\n",
              "      <div>\n",
              "<style scoped>\n",
              "    .dataframe tbody tr th:only-of-type {\n",
              "        vertical-align: middle;\n",
              "    }\n",
              "\n",
              "    .dataframe tbody tr th {\n",
              "        vertical-align: top;\n",
              "    }\n",
              "\n",
              "    .dataframe thead th {\n",
              "        text-align: right;\n",
              "    }\n",
              "</style>\n",
              "<table border=\"1\" class=\"dataframe\">\n",
              "  <thead>\n",
              "    <tr style=\"text-align: right;\">\n",
              "      <th></th>\n",
              "      <th>都道府県</th>\n",
              "      <th>地方</th>\n",
              "      <th>15歳以上の平均睡眠時間（男）</th>\n",
              "      <th>15歳以上の平均睡眠時間（女）</th>\n",
              "      <th>運転免許保有者割合（%）</th>\n",
              "    </tr>\n",
              "  </thead>\n",
              "  <tbody>\n",
              "    <tr>\n",
              "      <th>0</th>\n",
              "      <td>北海道</td>\n",
              "      <td>北海道地方</td>\n",
              "      <td>473</td>\n",
              "      <td>465</td>\n",
              "      <td>63.4</td>\n",
              "    </tr>\n",
              "    <tr>\n",
              "      <th>1</th>\n",
              "      <td>青森県</td>\n",
              "      <td>東北地方</td>\n",
              "      <td>486</td>\n",
              "      <td>470</td>\n",
              "      <td>66.4</td>\n",
              "    </tr>\n",
              "    <tr>\n",
              "      <th>2</th>\n",
              "      <td>岩手県</td>\n",
              "      <td>東北地方</td>\n",
              "      <td>477</td>\n",
              "      <td>469</td>\n",
              "      <td>67.6</td>\n",
              "    </tr>\n",
              "  </tbody>\n",
              "</table>\n",
              "</div>\n",
              "      <button class=\"colab-df-convert\" onclick=\"convertToInteractive('df-c6a4c45c-8752-4947-af9a-5cff8330c61d')\"\n",
              "              title=\"Convert this dataframe to an interactive table.\"\n",
              "              style=\"display:none;\">\n",
              "        \n",
              "  <svg xmlns=\"http://www.w3.org/2000/svg\" height=\"24px\"viewBox=\"0 0 24 24\"\n",
              "       width=\"24px\">\n",
              "    <path d=\"M0 0h24v24H0V0z\" fill=\"none\"/>\n",
              "    <path d=\"M18.56 5.44l.94 2.06.94-2.06 2.06-.94-2.06-.94-.94-2.06-.94 2.06-2.06.94zm-11 1L8.5 8.5l.94-2.06 2.06-.94-2.06-.94L8.5 2.5l-.94 2.06-2.06.94zm10 10l.94 2.06.94-2.06 2.06-.94-2.06-.94-.94-2.06-.94 2.06-2.06.94z\"/><path d=\"M17.41 7.96l-1.37-1.37c-.4-.4-.92-.59-1.43-.59-.52 0-1.04.2-1.43.59L10.3 9.45l-7.72 7.72c-.78.78-.78 2.05 0 2.83L4 21.41c.39.39.9.59 1.41.59.51 0 1.02-.2 1.41-.59l7.78-7.78 2.81-2.81c.8-.78.8-2.07 0-2.86zM5.41 20L4 18.59l7.72-7.72 1.47 1.35L5.41 20z\"/>\n",
              "  </svg>\n",
              "      </button>\n",
              "      \n",
              "  <style>\n",
              "    .colab-df-container {\n",
              "      display:flex;\n",
              "      flex-wrap:wrap;\n",
              "      gap: 12px;\n",
              "    }\n",
              "\n",
              "    .colab-df-convert {\n",
              "      background-color: #E8F0FE;\n",
              "      border: none;\n",
              "      border-radius: 50%;\n",
              "      cursor: pointer;\n",
              "      display: none;\n",
              "      fill: #1967D2;\n",
              "      height: 32px;\n",
              "      padding: 0 0 0 0;\n",
              "      width: 32px;\n",
              "    }\n",
              "\n",
              "    .colab-df-convert:hover {\n",
              "      background-color: #E2EBFA;\n",
              "      box-shadow: 0px 1px 2px rgba(60, 64, 67, 0.3), 0px 1px 3px 1px rgba(60, 64, 67, 0.15);\n",
              "      fill: #174EA6;\n",
              "    }\n",
              "\n",
              "    [theme=dark] .colab-df-convert {\n",
              "      background-color: #3B4455;\n",
              "      fill: #D2E3FC;\n",
              "    }\n",
              "\n",
              "    [theme=dark] .colab-df-convert:hover {\n",
              "      background-color: #434B5C;\n",
              "      box-shadow: 0px 1px 3px 1px rgba(0, 0, 0, 0.15);\n",
              "      filter: drop-shadow(0px 1px 2px rgba(0, 0, 0, 0.3));\n",
              "      fill: #FFFFFF;\n",
              "    }\n",
              "  </style>\n",
              "\n",
              "      <script>\n",
              "        const buttonEl =\n",
              "          document.querySelector('#df-c6a4c45c-8752-4947-af9a-5cff8330c61d button.colab-df-convert');\n",
              "        buttonEl.style.display =\n",
              "          google.colab.kernel.accessAllowed ? 'block' : 'none';\n",
              "\n",
              "        async function convertToInteractive(key) {\n",
              "          const element = document.querySelector('#df-c6a4c45c-8752-4947-af9a-5cff8330c61d');\n",
              "          const dataTable =\n",
              "            await google.colab.kernel.invokeFunction('convertToInteractive',\n",
              "                                                     [key], {});\n",
              "          if (!dataTable) return;\n",
              "\n",
              "          const docLinkHtml = 'Like what you see? Visit the ' +\n",
              "            '<a target=\"_blank\" href=https://colab.research.google.com/notebooks/data_table.ipynb>data table notebook</a>'\n",
              "            + ' to learn more about interactive tables.';\n",
              "          element.innerHTML = '';\n",
              "          dataTable['output_type'] = 'display_data';\n",
              "          await google.colab.output.renderOutput(dataTable, element);\n",
              "          const docLink = document.createElement('div');\n",
              "          docLink.innerHTML = docLinkHtml;\n",
              "          element.appendChild(docLink);\n",
              "        }\n",
              "      </script>\n",
              "    </div>\n",
              "  </div>\n",
              "  "
            ]
          },
          "metadata": {},
          "execution_count": 48
        }
      ],
      "source": [
        "df = pd.read_csv(\"todohuken_data.csv\")\n",
        "df.head(3)"
      ]
    },
    {
      "cell_type": "code",
      "source": [
        "df_kanto = df[df[\"地方\"] == \"関東地方\"]\n",
        "df_kanto.head(3)"
      ],
      "metadata": {
        "id": "RHDr5xoXDVlQ",
        "colab": {
          "base_uri": "https://localhost:8080/",
          "height": 257
        },
        "outputId": "dfa1e35a-ac93-4dbf-93e8-7a3187f4e073"
      },
      "execution_count": 49,
      "outputs": [
        {
          "output_type": "execute_result",
          "data": {
            "text/plain": [
              "  都道府県    地方  15歳以上の平均睡眠時間（男）  15歳以上の平均睡眠時間（女）  運転免許保有者割合（%）\n",
              "7  茨城県  関東地方              463              447          71.2\n",
              "8  栃木県  関東地方              465              455          71.9\n",
              "9  群馬県  関東地方              464              455          72.1"
            ],
            "text/html": [
              "\n",
              "  <div id=\"df-fcca2791-6024-401a-9704-0e838609a6da\">\n",
              "    <div class=\"colab-df-container\">\n",
              "      <div>\n",
              "<style scoped>\n",
              "    .dataframe tbody tr th:only-of-type {\n",
              "        vertical-align: middle;\n",
              "    }\n",
              "\n",
              "    .dataframe tbody tr th {\n",
              "        vertical-align: top;\n",
              "    }\n",
              "\n",
              "    .dataframe thead th {\n",
              "        text-align: right;\n",
              "    }\n",
              "</style>\n",
              "<table border=\"1\" class=\"dataframe\">\n",
              "  <thead>\n",
              "    <tr style=\"text-align: right;\">\n",
              "      <th></th>\n",
              "      <th>都道府県</th>\n",
              "      <th>地方</th>\n",
              "      <th>15歳以上の平均睡眠時間（男）</th>\n",
              "      <th>15歳以上の平均睡眠時間（女）</th>\n",
              "      <th>運転免許保有者割合（%）</th>\n",
              "    </tr>\n",
              "  </thead>\n",
              "  <tbody>\n",
              "    <tr>\n",
              "      <th>7</th>\n",
              "      <td>茨城県</td>\n",
              "      <td>関東地方</td>\n",
              "      <td>463</td>\n",
              "      <td>447</td>\n",
              "      <td>71.2</td>\n",
              "    </tr>\n",
              "    <tr>\n",
              "      <th>8</th>\n",
              "      <td>栃木県</td>\n",
              "      <td>関東地方</td>\n",
              "      <td>465</td>\n",
              "      <td>455</td>\n",
              "      <td>71.9</td>\n",
              "    </tr>\n",
              "    <tr>\n",
              "      <th>9</th>\n",
              "      <td>群馬県</td>\n",
              "      <td>関東地方</td>\n",
              "      <td>464</td>\n",
              "      <td>455</td>\n",
              "      <td>72.1</td>\n",
              "    </tr>\n",
              "  </tbody>\n",
              "</table>\n",
              "</div>\n",
              "      <button class=\"colab-df-convert\" onclick=\"convertToInteractive('df-fcca2791-6024-401a-9704-0e838609a6da')\"\n",
              "              title=\"Convert this dataframe to an interactive table.\"\n",
              "              style=\"display:none;\">\n",
              "        \n",
              "  <svg xmlns=\"http://www.w3.org/2000/svg\" height=\"24px\"viewBox=\"0 0 24 24\"\n",
              "       width=\"24px\">\n",
              "    <path d=\"M0 0h24v24H0V0z\" fill=\"none\"/>\n",
              "    <path d=\"M18.56 5.44l.94 2.06.94-2.06 2.06-.94-2.06-.94-.94-2.06-.94 2.06-2.06.94zm-11 1L8.5 8.5l.94-2.06 2.06-.94-2.06-.94L8.5 2.5l-.94 2.06-2.06.94zm10 10l.94 2.06.94-2.06 2.06-.94-2.06-.94-.94-2.06-.94 2.06-2.06.94z\"/><path d=\"M17.41 7.96l-1.37-1.37c-.4-.4-.92-.59-1.43-.59-.52 0-1.04.2-1.43.59L10.3 9.45l-7.72 7.72c-.78.78-.78 2.05 0 2.83L4 21.41c.39.39.9.59 1.41.59.51 0 1.02-.2 1.41-.59l7.78-7.78 2.81-2.81c.8-.78.8-2.07 0-2.86zM5.41 20L4 18.59l7.72-7.72 1.47 1.35L5.41 20z\"/>\n",
              "  </svg>\n",
              "      </button>\n",
              "      \n",
              "  <style>\n",
              "    .colab-df-container {\n",
              "      display:flex;\n",
              "      flex-wrap:wrap;\n",
              "      gap: 12px;\n",
              "    }\n",
              "\n",
              "    .colab-df-convert {\n",
              "      background-color: #E8F0FE;\n",
              "      border: none;\n",
              "      border-radius: 50%;\n",
              "      cursor: pointer;\n",
              "      display: none;\n",
              "      fill: #1967D2;\n",
              "      height: 32px;\n",
              "      padding: 0 0 0 0;\n",
              "      width: 32px;\n",
              "    }\n",
              "\n",
              "    .colab-df-convert:hover {\n",
              "      background-color: #E2EBFA;\n",
              "      box-shadow: 0px 1px 2px rgba(60, 64, 67, 0.3), 0px 1px 3px 1px rgba(60, 64, 67, 0.15);\n",
              "      fill: #174EA6;\n",
              "    }\n",
              "\n",
              "    [theme=dark] .colab-df-convert {\n",
              "      background-color: #3B4455;\n",
              "      fill: #D2E3FC;\n",
              "    }\n",
              "\n",
              "    [theme=dark] .colab-df-convert:hover {\n",
              "      background-color: #434B5C;\n",
              "      box-shadow: 0px 1px 3px 1px rgba(0, 0, 0, 0.15);\n",
              "      filter: drop-shadow(0px 1px 2px rgba(0, 0, 0, 0.3));\n",
              "      fill: #FFFFFF;\n",
              "    }\n",
              "  </style>\n",
              "\n",
              "      <script>\n",
              "        const buttonEl =\n",
              "          document.querySelector('#df-fcca2791-6024-401a-9704-0e838609a6da button.colab-df-convert');\n",
              "        buttonEl.style.display =\n",
              "          google.colab.kernel.accessAllowed ? 'block' : 'none';\n",
              "\n",
              "        async function convertToInteractive(key) {\n",
              "          const element = document.querySelector('#df-fcca2791-6024-401a-9704-0e838609a6da');\n",
              "          const dataTable =\n",
              "            await google.colab.kernel.invokeFunction('convertToInteractive',\n",
              "                                                     [key], {});\n",
              "          if (!dataTable) return;\n",
              "\n",
              "          const docLinkHtml = 'Like what you see? Visit the ' +\n",
              "            '<a target=\"_blank\" href=https://colab.research.google.com/notebooks/data_table.ipynb>data table notebook</a>'\n",
              "            + ' to learn more about interactive tables.';\n",
              "          element.innerHTML = '';\n",
              "          dataTable['output_type'] = 'display_data';\n",
              "          await google.colab.output.renderOutput(dataTable, element);\n",
              "          const docLink = document.createElement('div');\n",
              "          docLink.innerHTML = docLinkHtml;\n",
              "          element.appendChild(docLink);\n",
              "        }\n",
              "      </script>\n",
              "    </div>\n",
              "  </div>\n",
              "  "
            ]
          },
          "metadata": {},
          "execution_count": 49
        }
      ]
    },
    {
      "cell_type": "markdown",
      "source": [
        "上のデータフレームは2016年の平均睡眠時間と2021年の運転免許取得率を  \n",
        "都道府県別に表したものの内、関東地方をまとめたものになります。"
      ],
      "metadata": {
        "id": "PTC-Us9HFORp"
      }
    },
    {
      "cell_type": "markdown",
      "source": [
        "### 問題1 \n",
        "関東地方の男性の平均睡眠時間を`df_kanto`の通りにサンプリングした。  \n",
        "日本の男性の平均睡眠時間が$450$分であるかどうか検定せよ。"
      ],
      "metadata": {
        "id": "jZOK20VSKZ-c"
      }
    },
    {
      "cell_type": "code",
      "source": [
        "male_sleep = df_kanto[\"15歳以上の平均睡眠時間（男）\"]"
      ],
      "metadata": {
        "id": "mdkQCtB7lJpg"
      },
      "execution_count": 36,
      "outputs": []
    },
    {
      "cell_type": "code",
      "source": [
        "μ=450\n",
        "print(\"母平均は{}（分）です\".format(μ))\n",
        "\n",
        "n=len(male_sleep)\n",
        "print(\"標本の大きさは{}（県）です\".format(n))\n",
        "\n",
        "x=male_sleep.mean()\n",
        "print(\"標本平均は{}（分）です\".format(x))\n",
        "\n",
        "s=male_sleep.std()\n",
        "print(\"不偏分散の平方根は{}（分）です\".format(s))\n",
        "\n",
        "print(\"有意水準5%\")"
      ],
      "metadata": {
        "id": "5d-bWCrhQkXr",
        "colab": {
          "base_uri": "https://localhost:8080/"
        },
        "outputId": "59647120-bdf9-43de-9d4f-a8edcb572c6e"
      },
      "execution_count": 37,
      "outputs": [
        {
          "output_type": "stream",
          "name": "stdout",
          "text": [
            "母平均は450（分）です\n",
            "標本の大きさは7（県）です\n",
            "標本平均は457.7142857142857（分）です\n",
            "不偏分散の平方根は6.047431568147635（分）です\n",
            "有意水準5%\n"
          ]
        }
      ]
    },
    {
      "cell_type": "code",
      "source": [
        "print(\"H0 : μ＝{}(分) [帰無仮説]\".format(μ))    # 日本の男性の平均睡眠時間は450分である\n",
        "print(\"H1 : μ≠{}(分) [対立仮説]\".format(μ))    # 日本の男性の平均睡眠時間は450分ではない"
      ],
      "metadata": {
        "id": "8JNUF9YUTNls",
        "colab": {
          "base_uri": "https://localhost:8080/"
        },
        "outputId": "4cd35863-6a86-4a0b-d063-933caa8b50d6"
      },
      "execution_count": 38,
      "outputs": [
        {
          "output_type": "stream",
          "name": "stdout",
          "text": [
            "H0 : μ＝450(分) [帰無仮説]\n",
            "H1 : μ≠450(分) [対立仮説]\n"
          ]
        }
      ]
    },
    {
      "cell_type": "markdown",
      "source": [
        "Scipyの`stats.ttest_1samp`メソッドを使うと、  \n",
        "両側検定と片側検定を一発で行うことができます。"
      ],
      "metadata": {
        "id": "TCQqkZAiTbtb"
      }
    },
    {
      "cell_type": "code",
      "source": [
        "tt, pp = stats.ttest_1samp(male_sleep, popmean=450)\n",
        "print('母平均が450分のt値：'+str(tt))\n",
        "print('母平均が450分である確率(p値)：'+str(pp*100))"
      ],
      "metadata": {
        "id": "bJEH7BckGTFS",
        "colab": {
          "base_uri": "https://localhost:8080/"
        },
        "outputId": "0abdda65-c0b1-4f3d-a457-5a1a78af0677"
      },
      "execution_count": 39,
      "outputs": [
        {
          "output_type": "stream",
          "name": "stdout",
          "text": [
            "母平均が450分のt値：3.3750000000000036\n",
            "母平均が450分である確率(p値)：1.4949810458305364\n"
          ]
        }
      ]
    },
    {
      "cell_type": "markdown",
      "source": [
        "$5$%有意水準としたとき、  \n",
        "$p$値が$2.5$%以下であるとき**両側検定**で帰無仮説を棄却でき、  \n",
        "$p$値が$5.0$%以下であるとき**片側検定**で帰無仮説が棄却できます。"
      ],
      "metadata": {
        "id": "4TtxV_uaTpM0"
      }
    },
    {
      "cell_type": "markdown",
      "source": [
        "今回は$p$値が$2.5$%以下であるので両側検定で帰無仮説を棄却できます。\n",
        "\n",
        "また、$t$値が正であり、$p$値が$5.0$%以下であることから、  \n",
        "日本の男性の平均睡眠時間が$450$分より**長い**ということまで分かります。"
      ],
      "metadata": {
        "id": "OgsrUrw_UGdJ"
      }
    },
    {
      "cell_type": "markdown",
      "source": [
        "### 問題2  \n",
        "関東地方の女性の平均睡眠時間を`df_kanto`の通りにサンプリングした。  \n",
        "日本の女性の平均睡眠時間が$450$分であるかどうか検定せよ。"
      ],
      "metadata": {
        "id": "YUUrtpGzVoX9"
      }
    },
    {
      "cell_type": "code",
      "source": [
        "female_sleep = df_kanto[\"15歳以上の平均睡眠時間（女）\"]"
      ],
      "metadata": {
        "id": "wWujG9dxlhm5"
      },
      "execution_count": 40,
      "outputs": []
    },
    {
      "cell_type": "code",
      "source": [
        "μ=450\n",
        "print(\"母平均は{}（分）です\".format(μ))\n",
        "\n",
        "n=len(female_sleep)\n",
        "print(\"標本の大きさは{}（県）です\".format(n))\n",
        "\n",
        "x=female_sleep.mean()\n",
        "print(\"標本平均は{}（分）です\".format(x))\n",
        "\n",
        "s=female_sleep.std()\n",
        "print(\"不偏分散の平方根は{}（分）です\".format(s))\n",
        "\n",
        "print(\"有意水準5%\")"
      ],
      "metadata": {
        "id": "JxDoVJLsV1qM",
        "colab": {
          "base_uri": "https://localhost:8080/"
        },
        "outputId": "0d488610-de1d-4fa0-e5e7-c155b52d572b"
      },
      "execution_count": 41,
      "outputs": [
        {
          "output_type": "stream",
          "name": "stdout",
          "text": [
            "母平均は450（分）です\n",
            "標本の大きさは7（県）です\n",
            "標本平均は449.57142857142856（分）です\n",
            "不偏分散の平方根は4.429339411136566（分）です\n",
            "有意水準5%\n"
          ]
        }
      ]
    },
    {
      "cell_type": "code",
      "source": [
        "print(\"H0 : μ＝{}(分) [帰無仮説]\".format(μ))    # 日本の女性の平均睡眠時間は450分である\n",
        "print(\"H1 : μ≠{}(分) [対立仮説]\".format(μ))    # 日本の女性の平均睡眠時間は450分ではない"
      ],
      "metadata": {
        "id": "wO9rsMYMV98U",
        "colab": {
          "base_uri": "https://localhost:8080/"
        },
        "outputId": "ee6e7571-5eab-4889-c36f-3f320d351eec"
      },
      "execution_count": 42,
      "outputs": [
        {
          "output_type": "stream",
          "name": "stdout",
          "text": [
            "H0 : μ＝450(分) [帰無仮説]\n",
            "H1 : μ≠450(分) [対立仮説]\n"
          ]
        }
      ]
    },
    {
      "cell_type": "code",
      "source": [
        "tt, pp = stats.ttest_1samp(female_sleep, popmean=450)\n",
        "print('母平均が450分のt値：'+str(tt))\n",
        "print('母平均が450分である確率(p値)：'+str(pp*100))"
      ],
      "metadata": {
        "id": "vNd7wKRDW9HJ",
        "colab": {
          "base_uri": "https://localhost:8080/"
        },
        "outputId": "2cee0b1d-0381-450f-a4be-a11601115679"
      },
      "execution_count": 43,
      "outputs": [
        {
          "output_type": "stream",
          "name": "stdout",
          "text": [
            "母平均が450分のt値：-0.2559960557948681\n",
            "母平均が450分である確率(p値)：80.65045545190732\n"
          ]
        }
      ]
    },
    {
      "cell_type": "markdown",
      "source": [
        "今回は$p$値が$5.0$%以下ではないので帰無仮説を棄却できません。\n",
        "\n"
      ],
      "metadata": {
        "id": "KNrVPWlqYwcl"
      }
    },
    {
      "cell_type": "markdown",
      "source": [
        "問題1と問題2を通して、男性の方が平均睡眠時間が長いことが立証されました。"
      ],
      "metadata": {
        "id": "awaogAyyZJQ0"
      }
    },
    {
      "cell_type": "markdown",
      "source": [
        "### 問題3\n",
        "関東地方の運転免許保有者割合を`df_kanto`の通りにサンプリングした。  \n",
        "日本の運転免許保有者割合が$75$%であるかどうか検定せよ。"
      ],
      "metadata": {
        "id": "fDoUxZ_5ZeUy"
      }
    },
    {
      "cell_type": "code",
      "source": [
        "menkyo_per = df_kanto[\"運転免許保有者割合（%）\"]"
      ],
      "metadata": {
        "id": "vFjNDU1fl7Gf"
      },
      "execution_count": 44,
      "outputs": []
    },
    {
      "cell_type": "code",
      "source": [
        "μ=75\n",
        "print(\"母平均は{}（%）です\".format(μ))\n",
        "\n",
        "n=len(menkyo_per)\n",
        "print(\"標本の大きさは{}（県）です\".format(n))\n",
        "\n",
        "x=menkyo_per.mean()\n",
        "print(\"標本平均は{}（%）です\".format(x))\n",
        "\n",
        "s=menkyo_per.std()\n",
        "print(\"不偏分散の平方根は{}（%）です\".format(s))\n",
        "\n",
        "print(\"有意水準5%\")"
      ],
      "metadata": {
        "id": "rF-LXOTEZ1vu",
        "colab": {
          "base_uri": "https://localhost:8080/"
        },
        "outputId": "83f2e9eb-64e3-4468-bf84-b58644e08549"
      },
      "execution_count": 45,
      "outputs": [
        {
          "output_type": "stream",
          "name": "stdout",
          "text": [
            "母平均は75（%）です\n",
            "標本の大きさは7（県）です\n",
            "標本平均は66.07142857142858（%）です\n",
            "不偏分散の平方根は5.764753329708127（%）です\n",
            "有意水準5%\n"
          ]
        }
      ]
    },
    {
      "cell_type": "code",
      "source": [
        "print(\"H0 : μ＝{}(%) [帰無仮説]\".format(μ))    # 日本の運転免許保有者割合は75%である\n",
        "print(\"H1 : μ≠{}(%) [対立仮説]\".format(μ))    # 日本の運転免許保有者割合は75%ではない"
      ],
      "metadata": {
        "id": "zW_sCHwwaANo",
        "colab": {
          "base_uri": "https://localhost:8080/"
        },
        "outputId": "5f8f7eaf-9140-4fc1-db2c-70a98170d78d"
      },
      "execution_count": 46,
      "outputs": [
        {
          "output_type": "stream",
          "name": "stdout",
          "text": [
            "H0 : μ＝75(%) [帰無仮説]\n",
            "H1 : μ≠75(%) [対立仮説]\n"
          ]
        }
      ]
    },
    {
      "cell_type": "code",
      "source": [
        "tt, pp = stats.ttest_1samp(menkyo_per, popmean=75)\n",
        "print('母平均が75%のt値：'+str(tt))\n",
        "print('母平均が75%である確率(p値)：'+str(pp*100))"
      ],
      "metadata": {
        "id": "qaUC_KJbaCLQ",
        "colab": {
          "base_uri": "https://localhost:8080/"
        },
        "outputId": "030b2eeb-a5fd-45a4-e44e-5fe9d4478ef4"
      },
      "execution_count": 47,
      "outputs": [
        {
          "output_type": "stream",
          "name": "stdout",
          "text": [
            "母平均が75%のt値：-4.097795380305145\n",
            "母平均が75%である確率(p値)：0.6373141122471138\n"
          ]
        }
      ]
    },
    {
      "cell_type": "markdown",
      "source": [
        "今回は$p$値が$2.5$%以下であるので両側検定で帰無仮説を棄却できます。\n",
        "\n",
        "また、$t$値が負であり、$p$値が$5.0$%以下であることから、  \n",
        "日本の運転免許保有者割合が$75$%より**低い**ということまで分かります。"
      ],
      "metadata": {
        "id": "Sm3e8lvDagHY"
      }
    },
    {
      "cell_type": "markdown",
      "source": [
        "## 補足\n",
        "最後に、有名Youtuberヨビノリ先生の動画で参考になりそうなものを紹介しておきます。\n",
        "\n",
        "①[母平均の検定](https://www.youtube.com/watch?v=4ZHcBtLdOQs&list=PLDJfzGjtVLHmx7qMP410-9gx0weC9d90X&index=8)  \n"
      ],
      "metadata": {
        "id": "-ePOgGUERWuG"
      }
    }
  ]
}