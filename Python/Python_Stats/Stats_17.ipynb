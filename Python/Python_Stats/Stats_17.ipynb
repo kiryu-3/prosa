{
  "nbformat": 4,
  "nbformat_minor": 0,
  "metadata": {
    "colab": {
      "provenance": [],
      "toc_visible": true
    },
    "kernelspec": {
      "name": "python3",
      "display_name": "Python 3"
    },
    "language_info": {
      "name": "python"
    }
  },
  "cells": [
    {
      "cell_type": "markdown",
      "source": [
        "<a href=\"https://colab.research.google.com/github/kiryu-3/Prmn2023_DS/blob/main/Python/Python_Stats/Stats_17.ipynb\" target=\"_parent\"><img src=\"https://colab.research.google.com/assets/colab-badge.svg\" alt=\"Open In Colab\"/></a>"
      ],
      "metadata": {
        "id": "_k8gsGaGH53G"
      }
    },
    {
      "cell_type": "markdown",
      "source": [
        "# 分散分析2"
      ],
      "metadata": {
        "id": "F-q5r8DrjvvG"
      }
    },
    {
      "cell_type": "code",
      "source": [
        "import numpy as np\n",
        "import pandas as pd\n",
        "import matplotlib.pyplot as plt\n",
        "!pip install japanize-matplotlib\n",
        "import japanize_matplotlib\n",
        "from scipy import stats\n",
        "from statsmodels.formula.api import ols\n",
        "import statsmodels.formula.api as smf\n",
        "import statsmodels.api as sm\n",
        "from statsmodels.stats.multicomp import pairwise_tukeyhsd\n",
        "from statsmodels.graphics.factorplots import interaction_plot\n",
        "from statsmodels.stats.anova import anova_lm\n",
        "import statsmodels.api as sm\n",
        "from scipy.stats import f\n",
        "from decimal import Decimal, ROUND_HALF_UP, ROUND_HALF_EVEN"
      ],
      "metadata": {
        "id": "U2faXi0YaWkp"
      },
      "execution_count": null,
      "outputs": []
    },
    {
      "cell_type": "markdown",
      "source": [
        "## 分散分析とは（再掲）"
      ],
      "metadata": {
        "id": "VkTJp2cHj8Li"
      }
    },
    {
      "cell_type": "markdown",
      "source": [
        "平均値の差の検定において、3群以上からなるデータに対しては  \n",
        "（推定の多重性のため）$t$検定を行うことができません。"
      ],
      "metadata": {
        "id": "3XLKKGYMj-T7"
      }
    },
    {
      "cell_type": "markdown",
      "source": [
        "このような場合にも対応できる、  \n",
        "「分散の比」を考えて平均値の差を検定する分析手法を**分散分析**といいます。"
      ],
      "metadata": {
        "id": "jr8Gz6zup1lG"
      }
    },
    {
      "cell_type": "markdown",
      "source": [
        "### 基本用語（再掲）"
      ],
      "metadata": {
        "id": "0iNX03x9qWLs"
      }
    },
    {
      "cell_type": "markdown",
      "source": [
        "* **要因**：データの値に変化を与える要素のこと  \n",
        "* **因子**：要因の中でも特に、母平均に差をもたらすと考えられることから注目する要因  \n",
        "* **水準**：1つの要因に含まれる項目のこと\n",
        "* **〇元配置**：データに含まれる因子の数を表すもの"
      ],
      "metadata": {
        "id": "k-fqgwNOrUW8"
      }
    },
    {
      "cell_type": "markdown",
      "source": [
        "### 分散分析の種類（再掲）"
      ],
      "metadata": {
        "id": "Mo-uGe6lrzFk"
      }
    },
    {
      "cell_type": "markdown",
      "source": [
        "分散分析にはいくつかの種類があります。"
      ],
      "metadata": {
        "id": "8qd7_xP-r2dL"
      }
    },
    {
      "cell_type": "markdown",
      "source": [
        "* 「一元配置分散分析」：1つの因子からデータを分析する方法。  \n",
        "　　　　　　　　　　　因子に含まれる水準間の平均値の差を見ることができる。  \n",
        "\n",
        "* 「二元配置分散分析」：2つの因子からなるデータを分析する方法。  \n",
        "　　　　　　　　　　　各因子における水準間の平均値の差を見ることができる。  \n",
        "　　　　　　　　　　　また、2つの要因が組み合わさることで現れる相乗効果の有無も確認できる。\n",
        "\n",
        "* 「多元配置分散分析」：3つ以上の因子からなるデータを分析する方法。"
      ],
      "metadata": {
        "id": "JswTW1sTr9Fm"
      }
    },
    {
      "cell_type": "markdown",
      "source": [
        "## 二元配置分散分析"
      ],
      "metadata": {
        "id": "l0C5gq1WIEl6"
      }
    },
    {
      "cell_type": "markdown",
      "source": [
        "二元配置分散分析では、因子が2つになります。\n",
        "\n",
        "二元配置分散分析でも同様に、  \n",
        "「全体平均から因子の各水準の平均値がどの程度ズレているか」に注目します。"
      ],
      "metadata": {
        "id": "euVdJ1ArJGf8"
      }
    },
    {
      "cell_type": "markdown",
      "source": [
        "2つの因子が組み合わさることで初めて現れる相乗効果のことを**交互作用**といいます。  \n",
        "反対に、1つの因子に絞った場合の効果を**主作用**といいます。  \n",
        "（詳しくは[こちら](https://bellcurve.jp/statistics/course/10090.html)を参照してください）\n",
        "\n",
        "二元配置分散分析では、必ず考慮しなければなりません。\n"
      ],
      "metadata": {
        "id": "0IDo2AHWKEl9"
      }
    },
    {
      "cell_type": "markdown",
      "source": [
        "### 分散分析表"
      ],
      "metadata": {
        "id": "DBvWwYOhKgU0"
      }
    },
    {
      "cell_type": "markdown",
      "source": [
        "二元配置分散分析の分散分析表は以下の通りです。"
      ],
      "metadata": {
        "id": "aDUfn3V1K7nL"
      }
    },
    {
      "cell_type": "markdown",
      "source": [
        "| 因子 | 平方和 | 自由度 | 平均平方 | F値 |\n",
        "|:--------:|:--------:|:--------:|:--------:|:--------:|\n",
        "|要因1| | ||\n",
        "|要因2| | ||\n",
        "|交互作用| | ||\n",
        "|残差| | ||\n",
        "|全体| | ||"
      ],
      "metadata": {
        "id": "fEizC-XULB6z"
      }
    },
    {
      "cell_type": "markdown",
      "source": [
        "「平方和」の部分にはそれぞれのズレの二乗和が入ります。\n",
        "\n",
        "* 「要因1・2」：全体平均から各群の平均値のズレ\n",
        "* 「交互作用」：全体平均から2群合わせた平均値のズレを求め、  \n",
        "　　　　　　　そこから「要因1・2」を引いたもの\n",
        "* 「残差」：「全体」から「要素1・2」と「交互作用」を引いたもの\n",
        "* 「全体」：全体平均から各データのズレ"
      ],
      "metadata": {
        "id": "PfkxwpxwLbAM"
      }
    },
    {
      "cell_type": "markdown",
      "source": [
        "「自由度」は以下のものが入ります。\n",
        "\n",
        "* 「要因1・2」：因子の水準の個数から1を引いたもの\n",
        "* 「交互作用」：2つの因子の水準数から1を引いたものをかけあわせたもの\n",
        "* 「残差」：「全体」から「要素1・2」と「交互作用」を引いたもの \n",
        "* 「全体」：すべてのデータの個数から1を引いたもの"
      ],
      "metadata": {
        "id": "DI2Fuh2nLmn6"
      }
    },
    {
      "cell_type": "markdown",
      "source": [
        "「平均平方」には「平方和」を「自由度」で割ったものが入ります。"
      ],
      "metadata": {
        "id": "baUhdLR2OY2Z"
      }
    },
    {
      "cell_type": "markdown",
      "source": [
        "最後に「各因子の平均平方」を分子に、「残差の平均平方」を分母にして  \n",
        "統計量$F$を算出します。"
      ],
      "metadata": {
        "id": "lyoAkw8MOnaA"
      }
    },
    {
      "cell_type": "markdown",
      "source": [
        "### 演習"
      ],
      "metadata": {
        "id": "7bMA-c8nSycH"
      }
    },
    {
      "cell_type": "markdown",
      "source": [
        "まずは[こちら](https://bit.ly/41A6n19)の例題について、分散分析を行ってみます。"
      ],
      "metadata": {
        "id": "NUx8DgrotOmp"
      }
    },
    {
      "cell_type": "code",
      "execution_count": 216,
      "metadata": {
        "colab": {
          "base_uri": "https://localhost:8080/",
          "height": 300
        },
        "id": "AEeJS7QXGyzT",
        "outputId": "111bb6f7-8fa2-432f-efc1-c959d897eaf7"
      },
      "outputs": [
        {
          "output_type": "execute_result",
          "data": {
            "text/plain": [
              "   土の種類  肥料の量(g)  収量(kg)\n",
              "0    土A      100    14.5\n",
              "4    土A      200    16.1\n",
              "7    土A      300    19.0\n",
              "10   土A      400    20.2\n",
              "13   土B      100    15.3\n",
              "16   土B      200    16.9\n",
              "19   土B      300    20.5\n",
              "22   土B      400    24.9"
            ],
            "text/html": [
              "\n",
              "  <div id=\"df-4695f03c-c3b1-4464-ad61-2aab411343ea\">\n",
              "    <div class=\"colab-df-container\">\n",
              "      <div>\n",
              "<style scoped>\n",
              "    .dataframe tbody tr th:only-of-type {\n",
              "        vertical-align: middle;\n",
              "    }\n",
              "\n",
              "    .dataframe tbody tr th {\n",
              "        vertical-align: top;\n",
              "    }\n",
              "\n",
              "    .dataframe thead th {\n",
              "        text-align: right;\n",
              "    }\n",
              "</style>\n",
              "<table border=\"1\" class=\"dataframe\">\n",
              "  <thead>\n",
              "    <tr style=\"text-align: right;\">\n",
              "      <th></th>\n",
              "      <th>土の種類</th>\n",
              "      <th>肥料の量(g)</th>\n",
              "      <th>収量(kg)</th>\n",
              "    </tr>\n",
              "  </thead>\n",
              "  <tbody>\n",
              "    <tr>\n",
              "      <th>0</th>\n",
              "      <td>土A</td>\n",
              "      <td>100</td>\n",
              "      <td>14.5</td>\n",
              "    </tr>\n",
              "    <tr>\n",
              "      <th>4</th>\n",
              "      <td>土A</td>\n",
              "      <td>200</td>\n",
              "      <td>16.1</td>\n",
              "    </tr>\n",
              "    <tr>\n",
              "      <th>7</th>\n",
              "      <td>土A</td>\n",
              "      <td>300</td>\n",
              "      <td>19.0</td>\n",
              "    </tr>\n",
              "    <tr>\n",
              "      <th>10</th>\n",
              "      <td>土A</td>\n",
              "      <td>400</td>\n",
              "      <td>20.2</td>\n",
              "    </tr>\n",
              "    <tr>\n",
              "      <th>13</th>\n",
              "      <td>土B</td>\n",
              "      <td>100</td>\n",
              "      <td>15.3</td>\n",
              "    </tr>\n",
              "    <tr>\n",
              "      <th>16</th>\n",
              "      <td>土B</td>\n",
              "      <td>200</td>\n",
              "      <td>16.9</td>\n",
              "    </tr>\n",
              "    <tr>\n",
              "      <th>19</th>\n",
              "      <td>土B</td>\n",
              "      <td>300</td>\n",
              "      <td>20.5</td>\n",
              "    </tr>\n",
              "    <tr>\n",
              "      <th>22</th>\n",
              "      <td>土B</td>\n",
              "      <td>400</td>\n",
              "      <td>24.9</td>\n",
              "    </tr>\n",
              "  </tbody>\n",
              "</table>\n",
              "</div>\n",
              "      <button class=\"colab-df-convert\" onclick=\"convertToInteractive('df-4695f03c-c3b1-4464-ad61-2aab411343ea')\"\n",
              "              title=\"Convert this dataframe to an interactive table.\"\n",
              "              style=\"display:none;\">\n",
              "        \n",
              "  <svg xmlns=\"http://www.w3.org/2000/svg\" height=\"24px\"viewBox=\"0 0 24 24\"\n",
              "       width=\"24px\">\n",
              "    <path d=\"M0 0h24v24H0V0z\" fill=\"none\"/>\n",
              "    <path d=\"M18.56 5.44l.94 2.06.94-2.06 2.06-.94-2.06-.94-.94-2.06-.94 2.06-2.06.94zm-11 1L8.5 8.5l.94-2.06 2.06-.94-2.06-.94L8.5 2.5l-.94 2.06-2.06.94zm10 10l.94 2.06.94-2.06 2.06-.94-2.06-.94-.94-2.06-.94 2.06-2.06.94z\"/><path d=\"M17.41 7.96l-1.37-1.37c-.4-.4-.92-.59-1.43-.59-.52 0-1.04.2-1.43.59L10.3 9.45l-7.72 7.72c-.78.78-.78 2.05 0 2.83L4 21.41c.39.39.9.59 1.41.59.51 0 1.02-.2 1.41-.59l7.78-7.78 2.81-2.81c.8-.78.8-2.07 0-2.86zM5.41 20L4 18.59l7.72-7.72 1.47 1.35L5.41 20z\"/>\n",
              "  </svg>\n",
              "      </button>\n",
              "      \n",
              "  <style>\n",
              "    .colab-df-container {\n",
              "      display:flex;\n",
              "      flex-wrap:wrap;\n",
              "      gap: 12px;\n",
              "    }\n",
              "\n",
              "    .colab-df-convert {\n",
              "      background-color: #E8F0FE;\n",
              "      border: none;\n",
              "      border-radius: 50%;\n",
              "      cursor: pointer;\n",
              "      display: none;\n",
              "      fill: #1967D2;\n",
              "      height: 32px;\n",
              "      padding: 0 0 0 0;\n",
              "      width: 32px;\n",
              "    }\n",
              "\n",
              "    .colab-df-convert:hover {\n",
              "      background-color: #E2EBFA;\n",
              "      box-shadow: 0px 1px 2px rgba(60, 64, 67, 0.3), 0px 1px 3px 1px rgba(60, 64, 67, 0.15);\n",
              "      fill: #174EA6;\n",
              "    }\n",
              "\n",
              "    [theme=dark] .colab-df-convert {\n",
              "      background-color: #3B4455;\n",
              "      fill: #D2E3FC;\n",
              "    }\n",
              "\n",
              "    [theme=dark] .colab-df-convert:hover {\n",
              "      background-color: #434B5C;\n",
              "      box-shadow: 0px 1px 3px 1px rgba(0, 0, 0, 0.15);\n",
              "      filter: drop-shadow(0px 1px 2px rgba(0, 0, 0, 0.3));\n",
              "      fill: #FFFFFF;\n",
              "    }\n",
              "  </style>\n",
              "\n",
              "      <script>\n",
              "        const buttonEl =\n",
              "          document.querySelector('#df-4695f03c-c3b1-4464-ad61-2aab411343ea button.colab-df-convert');\n",
              "        buttonEl.style.display =\n",
              "          google.colab.kernel.accessAllowed ? 'block' : 'none';\n",
              "\n",
              "        async function convertToInteractive(key) {\n",
              "          const element = document.querySelector('#df-4695f03c-c3b1-4464-ad61-2aab411343ea');\n",
              "          const dataTable =\n",
              "            await google.colab.kernel.invokeFunction('convertToInteractive',\n",
              "                                                     [key], {});\n",
              "          if (!dataTable) return;\n",
              "\n",
              "          const docLinkHtml = 'Like what you see? Visit the ' +\n",
              "            '<a target=\"_blank\" href=https://colab.research.google.com/notebooks/data_table.ipynb>data table notebook</a>'\n",
              "            + ' to learn more about interactive tables.';\n",
              "          element.innerHTML = '';\n",
              "          dataTable['output_type'] = 'display_data';\n",
              "          await google.colab.output.renderOutput(dataTable, element);\n",
              "          const docLink = document.createElement('div');\n",
              "          docLink.innerHTML = docLinkHtml;\n",
              "          element.appendChild(docLink);\n",
              "        }\n",
              "      </script>\n",
              "    </div>\n",
              "  </div>\n",
              "  "
            ]
          },
          "metadata": {},
          "execution_count": 216
        }
      ],
      "source": [
        "df = pd.read_excel(\"crop_yield.xlsx\")\n",
        "df.iloc[[0,4,7,10,13,16,19,22]]"
      ]
    },
    {
      "cell_type": "markdown",
      "source": [
        "ここで用語について整理します。\n",
        "\n",
        "* **要因**：「収量」に変化を与える要素のこと。  \n",
        "　　　　今回の場合は、「土の種類」「肥料の量」のほかに「天気」など様々なものが考えられる。\n",
        "* **因子**：要因の中でも特に、「映画館の数」の母平均に差をもたらすと考えられる  \n",
        "　　　「土の種類」「肥料の量」のこと。  \n",
        "* **水準**：土の種類の水準数は「2」、肥料の量の水準数は「4」。\n",
        "* **二元配置**：今回は因子が「土の種類」「肥料の量」であるので「二元配置」。"
      ],
      "metadata": {
        "id": "t-Uv3nX_NL0r"
      }
    },
    {
      "cell_type": "markdown",
      "source": [
        "### 仮説検定のステップ（再掲）\n",
        "①帰無仮説と対立仮説を立てる  \n",
        "②帰無仮説のもとで標本観察を行う  \n",
        "③帰無仮説を棄却できるかどうかを確認する"
      ],
      "metadata": {
        "id": "9VK_ziK336Ko"
      }
    },
    {
      "cell_type": "markdown",
      "source": [
        "#### ① 帰無仮説と対立仮説を立てる  "
      ],
      "metadata": {
        "id": "4rEcI4TV39L2"
      }
    },
    {
      "cell_type": "markdown",
      "source": [
        "帰無仮説と対立仮説は以下のようになります。（**片側検定（上側）**になります）  \n",
        "\n",
        "帰無仮説$H_0$：「各因子の水準間で作物の収量の平均値は等しい」  \n",
        "対立仮説$H_1$：「各因子の水準間で作物の収量の平均値では差がある」"
      ],
      "metadata": {
        "id": "vs5GR-tL3982"
      }
    },
    {
      "cell_type": "markdown",
      "source": [
        "分散分析では「残差のばらつき」に対して「要因のばらつき」が大きいかどうかを検定するため、  \n",
        "必ず「片側検定」を行います。"
      ],
      "metadata": {
        "id": "BpMKBzWt58cf"
      }
    },
    {
      "cell_type": "markdown",
      "source": [
        "#### ② 帰無仮説のもとで標本観察を行う"
      ],
      "metadata": {
        "id": "TIfAggQa4t3m"
      }
    },
    {
      "cell_type": "markdown",
      "source": [
        "##### 全体平均と各群の平均値の導出"
      ],
      "metadata": {
        "id": "slwhYlYoPR_M"
      }
    },
    {
      "cell_type": "markdown",
      "source": [
        "以下のようになります。"
      ],
      "metadata": {
        "id": "o3K6RePOPjQs"
      }
    },
    {
      "cell_type": "code",
      "source": [
        "df[\"収量(kg)\"].mean()"
      ],
      "metadata": {
        "colab": {
          "base_uri": "https://localhost:8080/"
        },
        "id": "M13_7Ys4Pl3l",
        "outputId": "9c00c62b-76f3-45ef-c8b9-5e1efb454ee5"
      },
      "execution_count": 217,
      "outputs": [
        {
          "output_type": "execute_result",
          "data": {
            "text/plain": [
              "18.229166666666668"
            ]
          },
          "metadata": {},
          "execution_count": 217
        }
      ]
    },
    {
      "cell_type": "code",
      "source": [
        "new_df1 = df.groupby([\"土の種類\"]).mean()\n",
        "new_df1 = new_df1.reset_index()\n",
        "new_df1"
      ],
      "metadata": {
        "colab": {
          "base_uri": "https://localhost:8080/",
          "height": 112
        },
        "id": "5J4l8xTzW7v3",
        "outputId": "f1e60765-5121-4ad0-9abd-00deb97ea9f0"
      },
      "execution_count": 218,
      "outputs": [
        {
          "output_type": "execute_result",
          "data": {
            "text/plain": [
              "  土の種類  肥料の量(g)     収量(kg)\n",
              "0   土A    250.0  16.566667\n",
              "1   土B    250.0  19.891667"
            ],
            "text/html": [
              "\n",
              "  <div id=\"df-d90a0943-6265-4e2e-a198-a7c7f7671035\">\n",
              "    <div class=\"colab-df-container\">\n",
              "      <div>\n",
              "<style scoped>\n",
              "    .dataframe tbody tr th:only-of-type {\n",
              "        vertical-align: middle;\n",
              "    }\n",
              "\n",
              "    .dataframe tbody tr th {\n",
              "        vertical-align: top;\n",
              "    }\n",
              "\n",
              "    .dataframe thead th {\n",
              "        text-align: right;\n",
              "    }\n",
              "</style>\n",
              "<table border=\"1\" class=\"dataframe\">\n",
              "  <thead>\n",
              "    <tr style=\"text-align: right;\">\n",
              "      <th></th>\n",
              "      <th>土の種類</th>\n",
              "      <th>肥料の量(g)</th>\n",
              "      <th>収量(kg)</th>\n",
              "    </tr>\n",
              "  </thead>\n",
              "  <tbody>\n",
              "    <tr>\n",
              "      <th>0</th>\n",
              "      <td>土A</td>\n",
              "      <td>250.0</td>\n",
              "      <td>16.566667</td>\n",
              "    </tr>\n",
              "    <tr>\n",
              "      <th>1</th>\n",
              "      <td>土B</td>\n",
              "      <td>250.0</td>\n",
              "      <td>19.891667</td>\n",
              "    </tr>\n",
              "  </tbody>\n",
              "</table>\n",
              "</div>\n",
              "      <button class=\"colab-df-convert\" onclick=\"convertToInteractive('df-d90a0943-6265-4e2e-a198-a7c7f7671035')\"\n",
              "              title=\"Convert this dataframe to an interactive table.\"\n",
              "              style=\"display:none;\">\n",
              "        \n",
              "  <svg xmlns=\"http://www.w3.org/2000/svg\" height=\"24px\"viewBox=\"0 0 24 24\"\n",
              "       width=\"24px\">\n",
              "    <path d=\"M0 0h24v24H0V0z\" fill=\"none\"/>\n",
              "    <path d=\"M18.56 5.44l.94 2.06.94-2.06 2.06-.94-2.06-.94-.94-2.06-.94 2.06-2.06.94zm-11 1L8.5 8.5l.94-2.06 2.06-.94-2.06-.94L8.5 2.5l-.94 2.06-2.06.94zm10 10l.94 2.06.94-2.06 2.06-.94-2.06-.94-.94-2.06-.94 2.06-2.06.94z\"/><path d=\"M17.41 7.96l-1.37-1.37c-.4-.4-.92-.59-1.43-.59-.52 0-1.04.2-1.43.59L10.3 9.45l-7.72 7.72c-.78.78-.78 2.05 0 2.83L4 21.41c.39.39.9.59 1.41.59.51 0 1.02-.2 1.41-.59l7.78-7.78 2.81-2.81c.8-.78.8-2.07 0-2.86zM5.41 20L4 18.59l7.72-7.72 1.47 1.35L5.41 20z\"/>\n",
              "  </svg>\n",
              "      </button>\n",
              "      \n",
              "  <style>\n",
              "    .colab-df-container {\n",
              "      display:flex;\n",
              "      flex-wrap:wrap;\n",
              "      gap: 12px;\n",
              "    }\n",
              "\n",
              "    .colab-df-convert {\n",
              "      background-color: #E8F0FE;\n",
              "      border: none;\n",
              "      border-radius: 50%;\n",
              "      cursor: pointer;\n",
              "      display: none;\n",
              "      fill: #1967D2;\n",
              "      height: 32px;\n",
              "      padding: 0 0 0 0;\n",
              "      width: 32px;\n",
              "    }\n",
              "\n",
              "    .colab-df-convert:hover {\n",
              "      background-color: #E2EBFA;\n",
              "      box-shadow: 0px 1px 2px rgba(60, 64, 67, 0.3), 0px 1px 3px 1px rgba(60, 64, 67, 0.15);\n",
              "      fill: #174EA6;\n",
              "    }\n",
              "\n",
              "    [theme=dark] .colab-df-convert {\n",
              "      background-color: #3B4455;\n",
              "      fill: #D2E3FC;\n",
              "    }\n",
              "\n",
              "    [theme=dark] .colab-df-convert:hover {\n",
              "      background-color: #434B5C;\n",
              "      box-shadow: 0px 1px 3px 1px rgba(0, 0, 0, 0.15);\n",
              "      filter: drop-shadow(0px 1px 2px rgba(0, 0, 0, 0.3));\n",
              "      fill: #FFFFFF;\n",
              "    }\n",
              "  </style>\n",
              "\n",
              "      <script>\n",
              "        const buttonEl =\n",
              "          document.querySelector('#df-d90a0943-6265-4e2e-a198-a7c7f7671035 button.colab-df-convert');\n",
              "        buttonEl.style.display =\n",
              "          google.colab.kernel.accessAllowed ? 'block' : 'none';\n",
              "\n",
              "        async function convertToInteractive(key) {\n",
              "          const element = document.querySelector('#df-d90a0943-6265-4e2e-a198-a7c7f7671035');\n",
              "          const dataTable =\n",
              "            await google.colab.kernel.invokeFunction('convertToInteractive',\n",
              "                                                     [key], {});\n",
              "          if (!dataTable) return;\n",
              "\n",
              "          const docLinkHtml = 'Like what you see? Visit the ' +\n",
              "            '<a target=\"_blank\" href=https://colab.research.google.com/notebooks/data_table.ipynb>data table notebook</a>'\n",
              "            + ' to learn more about interactive tables.';\n",
              "          element.innerHTML = '';\n",
              "          dataTable['output_type'] = 'display_data';\n",
              "          await google.colab.output.renderOutput(dataTable, element);\n",
              "          const docLink = document.createElement('div');\n",
              "          docLink.innerHTML = docLinkHtml;\n",
              "          element.appendChild(docLink);\n",
              "        }\n",
              "      </script>\n",
              "    </div>\n",
              "  </div>\n",
              "  "
            ]
          },
          "metadata": {},
          "execution_count": 218
        }
      ]
    },
    {
      "cell_type": "code",
      "source": [
        "new_df2 = df.groupby([\"肥料の量(g)\"]).mean()\n",
        "new_df2 = new_df2.reset_index()\n",
        "new_df2"
      ],
      "metadata": {
        "colab": {
          "base_uri": "https://localhost:8080/",
          "height": 175
        },
        "id": "MgdVYpM6XDxH",
        "outputId": "f61c8fb4-de6a-4f9f-ce26-d4149108a46b"
      },
      "execution_count": 219,
      "outputs": [
        {
          "output_type": "execute_result",
          "data": {
            "text/plain": [
              "   肥料の量(g)     収量(kg)\n",
              "0      100  15.450000\n",
              "1      200  16.950000\n",
              "2      300  18.933333\n",
              "3      400  21.583333"
            ],
            "text/html": [
              "\n",
              "  <div id=\"df-1fbaa2a9-5bd2-4b63-a3ff-c80f1cb4d473\">\n",
              "    <div class=\"colab-df-container\">\n",
              "      <div>\n",
              "<style scoped>\n",
              "    .dataframe tbody tr th:only-of-type {\n",
              "        vertical-align: middle;\n",
              "    }\n",
              "\n",
              "    .dataframe tbody tr th {\n",
              "        vertical-align: top;\n",
              "    }\n",
              "\n",
              "    .dataframe thead th {\n",
              "        text-align: right;\n",
              "    }\n",
              "</style>\n",
              "<table border=\"1\" class=\"dataframe\">\n",
              "  <thead>\n",
              "    <tr style=\"text-align: right;\">\n",
              "      <th></th>\n",
              "      <th>肥料の量(g)</th>\n",
              "      <th>収量(kg)</th>\n",
              "    </tr>\n",
              "  </thead>\n",
              "  <tbody>\n",
              "    <tr>\n",
              "      <th>0</th>\n",
              "      <td>100</td>\n",
              "      <td>15.450000</td>\n",
              "    </tr>\n",
              "    <tr>\n",
              "      <th>1</th>\n",
              "      <td>200</td>\n",
              "      <td>16.950000</td>\n",
              "    </tr>\n",
              "    <tr>\n",
              "      <th>2</th>\n",
              "      <td>300</td>\n",
              "      <td>18.933333</td>\n",
              "    </tr>\n",
              "    <tr>\n",
              "      <th>3</th>\n",
              "      <td>400</td>\n",
              "      <td>21.583333</td>\n",
              "    </tr>\n",
              "  </tbody>\n",
              "</table>\n",
              "</div>\n",
              "      <button class=\"colab-df-convert\" onclick=\"convertToInteractive('df-1fbaa2a9-5bd2-4b63-a3ff-c80f1cb4d473')\"\n",
              "              title=\"Convert this dataframe to an interactive table.\"\n",
              "              style=\"display:none;\">\n",
              "        \n",
              "  <svg xmlns=\"http://www.w3.org/2000/svg\" height=\"24px\"viewBox=\"0 0 24 24\"\n",
              "       width=\"24px\">\n",
              "    <path d=\"M0 0h24v24H0V0z\" fill=\"none\"/>\n",
              "    <path d=\"M18.56 5.44l.94 2.06.94-2.06 2.06-.94-2.06-.94-.94-2.06-.94 2.06-2.06.94zm-11 1L8.5 8.5l.94-2.06 2.06-.94-2.06-.94L8.5 2.5l-.94 2.06-2.06.94zm10 10l.94 2.06.94-2.06 2.06-.94-2.06-.94-.94-2.06-.94 2.06-2.06.94z\"/><path d=\"M17.41 7.96l-1.37-1.37c-.4-.4-.92-.59-1.43-.59-.52 0-1.04.2-1.43.59L10.3 9.45l-7.72 7.72c-.78.78-.78 2.05 0 2.83L4 21.41c.39.39.9.59 1.41.59.51 0 1.02-.2 1.41-.59l7.78-7.78 2.81-2.81c.8-.78.8-2.07 0-2.86zM5.41 20L4 18.59l7.72-7.72 1.47 1.35L5.41 20z\"/>\n",
              "  </svg>\n",
              "      </button>\n",
              "      \n",
              "  <style>\n",
              "    .colab-df-container {\n",
              "      display:flex;\n",
              "      flex-wrap:wrap;\n",
              "      gap: 12px;\n",
              "    }\n",
              "\n",
              "    .colab-df-convert {\n",
              "      background-color: #E8F0FE;\n",
              "      border: none;\n",
              "      border-radius: 50%;\n",
              "      cursor: pointer;\n",
              "      display: none;\n",
              "      fill: #1967D2;\n",
              "      height: 32px;\n",
              "      padding: 0 0 0 0;\n",
              "      width: 32px;\n",
              "    }\n",
              "\n",
              "    .colab-df-convert:hover {\n",
              "      background-color: #E2EBFA;\n",
              "      box-shadow: 0px 1px 2px rgba(60, 64, 67, 0.3), 0px 1px 3px 1px rgba(60, 64, 67, 0.15);\n",
              "      fill: #174EA6;\n",
              "    }\n",
              "\n",
              "    [theme=dark] .colab-df-convert {\n",
              "      background-color: #3B4455;\n",
              "      fill: #D2E3FC;\n",
              "    }\n",
              "\n",
              "    [theme=dark] .colab-df-convert:hover {\n",
              "      background-color: #434B5C;\n",
              "      box-shadow: 0px 1px 3px 1px rgba(0, 0, 0, 0.15);\n",
              "      filter: drop-shadow(0px 1px 2px rgba(0, 0, 0, 0.3));\n",
              "      fill: #FFFFFF;\n",
              "    }\n",
              "  </style>\n",
              "\n",
              "      <script>\n",
              "        const buttonEl =\n",
              "          document.querySelector('#df-1fbaa2a9-5bd2-4b63-a3ff-c80f1cb4d473 button.colab-df-convert');\n",
              "        buttonEl.style.display =\n",
              "          google.colab.kernel.accessAllowed ? 'block' : 'none';\n",
              "\n",
              "        async function convertToInteractive(key) {\n",
              "          const element = document.querySelector('#df-1fbaa2a9-5bd2-4b63-a3ff-c80f1cb4d473');\n",
              "          const dataTable =\n",
              "            await google.colab.kernel.invokeFunction('convertToInteractive',\n",
              "                                                     [key], {});\n",
              "          if (!dataTable) return;\n",
              "\n",
              "          const docLinkHtml = 'Like what you see? Visit the ' +\n",
              "            '<a target=\"_blank\" href=https://colab.research.google.com/notebooks/data_table.ipynb>data table notebook</a>'\n",
              "            + ' to learn more about interactive tables.';\n",
              "          element.innerHTML = '';\n",
              "          dataTable['output_type'] = 'display_data';\n",
              "          await google.colab.output.renderOutput(dataTable, element);\n",
              "          const docLink = document.createElement('div');\n",
              "          docLink.innerHTML = docLinkHtml;\n",
              "          element.appendChild(docLink);\n",
              "        }\n",
              "      </script>\n",
              "    </div>\n",
              "  </div>\n",
              "  "
            ]
          },
          "metadata": {},
          "execution_count": 219
        }
      ]
    },
    {
      "cell_type": "code",
      "source": [
        "new_df3 = df.groupby([\"土の種類\",\"肥料の量(g)\"]).mean()\n",
        "new_df3 = new_df3.reset_index()\n",
        "new_df3"
      ],
      "metadata": {
        "colab": {
          "base_uri": "https://localhost:8080/",
          "height": 300
        },
        "id": "AtpkrJv96fGD",
        "outputId": "b64daa85-2685-4abd-ab19-2021ca6d798a"
      },
      "execution_count": 220,
      "outputs": [
        {
          "output_type": "execute_result",
          "data": {
            "text/plain": [
              "  土の種類  肥料の量(g)     収量(kg)\n",
              "0   土A      100  14.566667\n",
              "1   土A      200  15.866667\n",
              "2   土A      300  17.333333\n",
              "3   土A      400  18.500000\n",
              "4   土B      100  16.333333\n",
              "5   土B      200  18.033333\n",
              "6   土B      300  20.533333\n",
              "7   土B      400  24.666667"
            ],
            "text/html": [
              "\n",
              "  <div id=\"df-0b30cb69-2afe-4bd2-9614-ee2b8273135d\">\n",
              "    <div class=\"colab-df-container\">\n",
              "      <div>\n",
              "<style scoped>\n",
              "    .dataframe tbody tr th:only-of-type {\n",
              "        vertical-align: middle;\n",
              "    }\n",
              "\n",
              "    .dataframe tbody tr th {\n",
              "        vertical-align: top;\n",
              "    }\n",
              "\n",
              "    .dataframe thead th {\n",
              "        text-align: right;\n",
              "    }\n",
              "</style>\n",
              "<table border=\"1\" class=\"dataframe\">\n",
              "  <thead>\n",
              "    <tr style=\"text-align: right;\">\n",
              "      <th></th>\n",
              "      <th>土の種類</th>\n",
              "      <th>肥料の量(g)</th>\n",
              "      <th>収量(kg)</th>\n",
              "    </tr>\n",
              "  </thead>\n",
              "  <tbody>\n",
              "    <tr>\n",
              "      <th>0</th>\n",
              "      <td>土A</td>\n",
              "      <td>100</td>\n",
              "      <td>14.566667</td>\n",
              "    </tr>\n",
              "    <tr>\n",
              "      <th>1</th>\n",
              "      <td>土A</td>\n",
              "      <td>200</td>\n",
              "      <td>15.866667</td>\n",
              "    </tr>\n",
              "    <tr>\n",
              "      <th>2</th>\n",
              "      <td>土A</td>\n",
              "      <td>300</td>\n",
              "      <td>17.333333</td>\n",
              "    </tr>\n",
              "    <tr>\n",
              "      <th>3</th>\n",
              "      <td>土A</td>\n",
              "      <td>400</td>\n",
              "      <td>18.500000</td>\n",
              "    </tr>\n",
              "    <tr>\n",
              "      <th>4</th>\n",
              "      <td>土B</td>\n",
              "      <td>100</td>\n",
              "      <td>16.333333</td>\n",
              "    </tr>\n",
              "    <tr>\n",
              "      <th>5</th>\n",
              "      <td>土B</td>\n",
              "      <td>200</td>\n",
              "      <td>18.033333</td>\n",
              "    </tr>\n",
              "    <tr>\n",
              "      <th>6</th>\n",
              "      <td>土B</td>\n",
              "      <td>300</td>\n",
              "      <td>20.533333</td>\n",
              "    </tr>\n",
              "    <tr>\n",
              "      <th>7</th>\n",
              "      <td>土B</td>\n",
              "      <td>400</td>\n",
              "      <td>24.666667</td>\n",
              "    </tr>\n",
              "  </tbody>\n",
              "</table>\n",
              "</div>\n",
              "      <button class=\"colab-df-convert\" onclick=\"convertToInteractive('df-0b30cb69-2afe-4bd2-9614-ee2b8273135d')\"\n",
              "              title=\"Convert this dataframe to an interactive table.\"\n",
              "              style=\"display:none;\">\n",
              "        \n",
              "  <svg xmlns=\"http://www.w3.org/2000/svg\" height=\"24px\"viewBox=\"0 0 24 24\"\n",
              "       width=\"24px\">\n",
              "    <path d=\"M0 0h24v24H0V0z\" fill=\"none\"/>\n",
              "    <path d=\"M18.56 5.44l.94 2.06.94-2.06 2.06-.94-2.06-.94-.94-2.06-.94 2.06-2.06.94zm-11 1L8.5 8.5l.94-2.06 2.06-.94-2.06-.94L8.5 2.5l-.94 2.06-2.06.94zm10 10l.94 2.06.94-2.06 2.06-.94-2.06-.94-.94-2.06-.94 2.06-2.06.94z\"/><path d=\"M17.41 7.96l-1.37-1.37c-.4-.4-.92-.59-1.43-.59-.52 0-1.04.2-1.43.59L10.3 9.45l-7.72 7.72c-.78.78-.78 2.05 0 2.83L4 21.41c.39.39.9.59 1.41.59.51 0 1.02-.2 1.41-.59l7.78-7.78 2.81-2.81c.8-.78.8-2.07 0-2.86zM5.41 20L4 18.59l7.72-7.72 1.47 1.35L5.41 20z\"/>\n",
              "  </svg>\n",
              "      </button>\n",
              "      \n",
              "  <style>\n",
              "    .colab-df-container {\n",
              "      display:flex;\n",
              "      flex-wrap:wrap;\n",
              "      gap: 12px;\n",
              "    }\n",
              "\n",
              "    .colab-df-convert {\n",
              "      background-color: #E8F0FE;\n",
              "      border: none;\n",
              "      border-radius: 50%;\n",
              "      cursor: pointer;\n",
              "      display: none;\n",
              "      fill: #1967D2;\n",
              "      height: 32px;\n",
              "      padding: 0 0 0 0;\n",
              "      width: 32px;\n",
              "    }\n",
              "\n",
              "    .colab-df-convert:hover {\n",
              "      background-color: #E2EBFA;\n",
              "      box-shadow: 0px 1px 2px rgba(60, 64, 67, 0.3), 0px 1px 3px 1px rgba(60, 64, 67, 0.15);\n",
              "      fill: #174EA6;\n",
              "    }\n",
              "\n",
              "    [theme=dark] .colab-df-convert {\n",
              "      background-color: #3B4455;\n",
              "      fill: #D2E3FC;\n",
              "    }\n",
              "\n",
              "    [theme=dark] .colab-df-convert:hover {\n",
              "      background-color: #434B5C;\n",
              "      box-shadow: 0px 1px 3px 1px rgba(0, 0, 0, 0.15);\n",
              "      filter: drop-shadow(0px 1px 2px rgba(0, 0, 0, 0.3));\n",
              "      fill: #FFFFFF;\n",
              "    }\n",
              "  </style>\n",
              "\n",
              "      <script>\n",
              "        const buttonEl =\n",
              "          document.querySelector('#df-0b30cb69-2afe-4bd2-9614-ee2b8273135d button.colab-df-convert');\n",
              "        buttonEl.style.display =\n",
              "          google.colab.kernel.accessAllowed ? 'block' : 'none';\n",
              "\n",
              "        async function convertToInteractive(key) {\n",
              "          const element = document.querySelector('#df-0b30cb69-2afe-4bd2-9614-ee2b8273135d');\n",
              "          const dataTable =\n",
              "            await google.colab.kernel.invokeFunction('convertToInteractive',\n",
              "                                                     [key], {});\n",
              "          if (!dataTable) return;\n",
              "\n",
              "          const docLinkHtml = 'Like what you see? Visit the ' +\n",
              "            '<a target=\"_blank\" href=https://colab.research.google.com/notebooks/data_table.ipynb>data table notebook</a>'\n",
              "            + ' to learn more about interactive tables.';\n",
              "          element.innerHTML = '';\n",
              "          dataTable['output_type'] = 'display_data';\n",
              "          await google.colab.output.renderOutput(dataTable, element);\n",
              "          const docLink = document.createElement('div');\n",
              "          docLink.innerHTML = docLinkHtml;\n",
              "          element.appendChild(docLink);\n",
              "        }\n",
              "      </script>\n",
              "    </div>\n",
              "  </div>\n",
              "  "
            ]
          },
          "metadata": {},
          "execution_count": 220
        }
      ]
    },
    {
      "cell_type": "markdown",
      "source": [
        "##### 全体平均から各データのズレ"
      ],
      "metadata": {
        "id": "lxr3sDNsPvft"
      }
    },
    {
      "cell_type": "markdown",
      "source": [
        "このズレの二乗和を求めます。"
      ],
      "metadata": {
        "id": "UoheX6FDP1_b"
      }
    },
    {
      "cell_type": "code",
      "source": [
        "df[\"全体平均 - 各データ\"] = (df[\"収量(kg)\"] - df[\"収量(kg)\"].mean())**2\n",
        "df.iloc[[0,4,7,10,13,16,19,22]]"
      ],
      "metadata": {
        "colab": {
          "base_uri": "https://localhost:8080/",
          "height": 300
        },
        "id": "KtTXmji2K5OR",
        "outputId": "951ef06f-85fc-4c19-b6db-7ad561e624eb"
      },
      "execution_count": 221,
      "outputs": [
        {
          "output_type": "execute_result",
          "data": {
            "text/plain": [
              "   土の種類  肥料の量(g)  収量(kg)  全体平均 - 各データ\n",
              "0    土A      100    14.5    13.906684\n",
              "4    土A      200    16.1     4.533351\n",
              "7    土A      300    19.0     0.594184\n",
              "10   土A      400    20.2     3.884184\n",
              "13   土B      100    15.3     8.580017\n",
              "16   土B      200    16.9     1.766684\n",
              "19   土B      300    20.5     5.156684\n",
              "22   土B      400    24.9    44.500017"
            ],
            "text/html": [
              "\n",
              "  <div id=\"df-bf39c683-fa5f-42c0-b446-3e628b263b7a\">\n",
              "    <div class=\"colab-df-container\">\n",
              "      <div>\n",
              "<style scoped>\n",
              "    .dataframe tbody tr th:only-of-type {\n",
              "        vertical-align: middle;\n",
              "    }\n",
              "\n",
              "    .dataframe tbody tr th {\n",
              "        vertical-align: top;\n",
              "    }\n",
              "\n",
              "    .dataframe thead th {\n",
              "        text-align: right;\n",
              "    }\n",
              "</style>\n",
              "<table border=\"1\" class=\"dataframe\">\n",
              "  <thead>\n",
              "    <tr style=\"text-align: right;\">\n",
              "      <th></th>\n",
              "      <th>土の種類</th>\n",
              "      <th>肥料の量(g)</th>\n",
              "      <th>収量(kg)</th>\n",
              "      <th>全体平均 - 各データ</th>\n",
              "    </tr>\n",
              "  </thead>\n",
              "  <tbody>\n",
              "    <tr>\n",
              "      <th>0</th>\n",
              "      <td>土A</td>\n",
              "      <td>100</td>\n",
              "      <td>14.5</td>\n",
              "      <td>13.906684</td>\n",
              "    </tr>\n",
              "    <tr>\n",
              "      <th>4</th>\n",
              "      <td>土A</td>\n",
              "      <td>200</td>\n",
              "      <td>16.1</td>\n",
              "      <td>4.533351</td>\n",
              "    </tr>\n",
              "    <tr>\n",
              "      <th>7</th>\n",
              "      <td>土A</td>\n",
              "      <td>300</td>\n",
              "      <td>19.0</td>\n",
              "      <td>0.594184</td>\n",
              "    </tr>\n",
              "    <tr>\n",
              "      <th>10</th>\n",
              "      <td>土A</td>\n",
              "      <td>400</td>\n",
              "      <td>20.2</td>\n",
              "      <td>3.884184</td>\n",
              "    </tr>\n",
              "    <tr>\n",
              "      <th>13</th>\n",
              "      <td>土B</td>\n",
              "      <td>100</td>\n",
              "      <td>15.3</td>\n",
              "      <td>8.580017</td>\n",
              "    </tr>\n",
              "    <tr>\n",
              "      <th>16</th>\n",
              "      <td>土B</td>\n",
              "      <td>200</td>\n",
              "      <td>16.9</td>\n",
              "      <td>1.766684</td>\n",
              "    </tr>\n",
              "    <tr>\n",
              "      <th>19</th>\n",
              "      <td>土B</td>\n",
              "      <td>300</td>\n",
              "      <td>20.5</td>\n",
              "      <td>5.156684</td>\n",
              "    </tr>\n",
              "    <tr>\n",
              "      <th>22</th>\n",
              "      <td>土B</td>\n",
              "      <td>400</td>\n",
              "      <td>24.9</td>\n",
              "      <td>44.500017</td>\n",
              "    </tr>\n",
              "  </tbody>\n",
              "</table>\n",
              "</div>\n",
              "      <button class=\"colab-df-convert\" onclick=\"convertToInteractive('df-bf39c683-fa5f-42c0-b446-3e628b263b7a')\"\n",
              "              title=\"Convert this dataframe to an interactive table.\"\n",
              "              style=\"display:none;\">\n",
              "        \n",
              "  <svg xmlns=\"http://www.w3.org/2000/svg\" height=\"24px\"viewBox=\"0 0 24 24\"\n",
              "       width=\"24px\">\n",
              "    <path d=\"M0 0h24v24H0V0z\" fill=\"none\"/>\n",
              "    <path d=\"M18.56 5.44l.94 2.06.94-2.06 2.06-.94-2.06-.94-.94-2.06-.94 2.06-2.06.94zm-11 1L8.5 8.5l.94-2.06 2.06-.94-2.06-.94L8.5 2.5l-.94 2.06-2.06.94zm10 10l.94 2.06.94-2.06 2.06-.94-2.06-.94-.94-2.06-.94 2.06-2.06.94z\"/><path d=\"M17.41 7.96l-1.37-1.37c-.4-.4-.92-.59-1.43-.59-.52 0-1.04.2-1.43.59L10.3 9.45l-7.72 7.72c-.78.78-.78 2.05 0 2.83L4 21.41c.39.39.9.59 1.41.59.51 0 1.02-.2 1.41-.59l7.78-7.78 2.81-2.81c.8-.78.8-2.07 0-2.86zM5.41 20L4 18.59l7.72-7.72 1.47 1.35L5.41 20z\"/>\n",
              "  </svg>\n",
              "      </button>\n",
              "      \n",
              "  <style>\n",
              "    .colab-df-container {\n",
              "      display:flex;\n",
              "      flex-wrap:wrap;\n",
              "      gap: 12px;\n",
              "    }\n",
              "\n",
              "    .colab-df-convert {\n",
              "      background-color: #E8F0FE;\n",
              "      border: none;\n",
              "      border-radius: 50%;\n",
              "      cursor: pointer;\n",
              "      display: none;\n",
              "      fill: #1967D2;\n",
              "      height: 32px;\n",
              "      padding: 0 0 0 0;\n",
              "      width: 32px;\n",
              "    }\n",
              "\n",
              "    .colab-df-convert:hover {\n",
              "      background-color: #E2EBFA;\n",
              "      box-shadow: 0px 1px 2px rgba(60, 64, 67, 0.3), 0px 1px 3px 1px rgba(60, 64, 67, 0.15);\n",
              "      fill: #174EA6;\n",
              "    }\n",
              "\n",
              "    [theme=dark] .colab-df-convert {\n",
              "      background-color: #3B4455;\n",
              "      fill: #D2E3FC;\n",
              "    }\n",
              "\n",
              "    [theme=dark] .colab-df-convert:hover {\n",
              "      background-color: #434B5C;\n",
              "      box-shadow: 0px 1px 3px 1px rgba(0, 0, 0, 0.15);\n",
              "      filter: drop-shadow(0px 1px 2px rgba(0, 0, 0, 0.3));\n",
              "      fill: #FFFFFF;\n",
              "    }\n",
              "  </style>\n",
              "\n",
              "      <script>\n",
              "        const buttonEl =\n",
              "          document.querySelector('#df-bf39c683-fa5f-42c0-b446-3e628b263b7a button.colab-df-convert');\n",
              "        buttonEl.style.display =\n",
              "          google.colab.kernel.accessAllowed ? 'block' : 'none';\n",
              "\n",
              "        async function convertToInteractive(key) {\n",
              "          const element = document.querySelector('#df-bf39c683-fa5f-42c0-b446-3e628b263b7a');\n",
              "          const dataTable =\n",
              "            await google.colab.kernel.invokeFunction('convertToInteractive',\n",
              "                                                     [key], {});\n",
              "          if (!dataTable) return;\n",
              "\n",
              "          const docLinkHtml = 'Like what you see? Visit the ' +\n",
              "            '<a target=\"_blank\" href=https://colab.research.google.com/notebooks/data_table.ipynb>data table notebook</a>'\n",
              "            + ' to learn more about interactive tables.';\n",
              "          element.innerHTML = '';\n",
              "          dataTable['output_type'] = 'display_data';\n",
              "          await google.colab.output.renderOutput(dataTable, element);\n",
              "          const docLink = document.createElement('div');\n",
              "          docLink.innerHTML = docLinkHtml;\n",
              "          element.appendChild(docLink);\n",
              "        }\n",
              "      </script>\n",
              "    </div>\n",
              "  </div>\n",
              "  "
            ]
          },
          "metadata": {},
          "execution_count": 221
        }
      ]
    },
    {
      "cell_type": "code",
      "source": [
        "zentai = round(sum(df[\"全体平均 - 各データ\"]),2)\n",
        "round(sum(df[\"全体平均 - 各データ\"]),2)"
      ],
      "metadata": {
        "colab": {
          "base_uri": "https://localhost:8080/"
        },
        "id": "4AvnQkmLb6di",
        "outputId": "b52783d3-0452-4ad8-bc59-ba69d08412e0"
      },
      "execution_count": 222,
      "outputs": [
        {
          "output_type": "execute_result",
          "data": {
            "text/plain": [
              "233.67"
            ]
          },
          "metadata": {},
          "execution_count": 222
        }
      ]
    },
    {
      "cell_type": "markdown",
      "source": [
        "##### 全体平均から各群の平均値のズレ"
      ],
      "metadata": {
        "id": "Y-7Bbt8hQC50"
      }
    },
    {
      "cell_type": "markdown",
      "source": [
        "このズレの二乗和を求めます。"
      ],
      "metadata": {
        "id": "y4yS2CYrQIYl"
      }
    },
    {
      "cell_type": "markdown",
      "source": [
        "まずは「土の種類の平方和」です。"
      ],
      "metadata": {
        "id": "-X4Jk3VJXY4G"
      }
    },
    {
      "cell_type": "code",
      "source": [
        "df = pd.read_excel(\"crop_yield.xlsx\")\n",
        "df.iloc[[0,4,7,10,13,16,19,22]]"
      ],
      "metadata": {
        "colab": {
          "base_uri": "https://localhost:8080/",
          "height": 300
        },
        "id": "UeqCCGOAZ-xc",
        "outputId": "a2f85d2b-e54a-4d6f-9b50-58975c7d2231"
      },
      "execution_count": 223,
      "outputs": [
        {
          "output_type": "execute_result",
          "data": {
            "text/plain": [
              "   土の種類  肥料の量(g)  収量(kg)\n",
              "0    土A      100    14.5\n",
              "4    土A      200    16.1\n",
              "7    土A      300    19.0\n",
              "10   土A      400    20.2\n",
              "13   土B      100    15.3\n",
              "16   土B      200    16.9\n",
              "19   土B      300    20.5\n",
              "22   土B      400    24.9"
            ],
            "text/html": [
              "\n",
              "  <div id=\"df-ad46d6d7-5a7c-40fd-82ef-e179d6a49734\">\n",
              "    <div class=\"colab-df-container\">\n",
              "      <div>\n",
              "<style scoped>\n",
              "    .dataframe tbody tr th:only-of-type {\n",
              "        vertical-align: middle;\n",
              "    }\n",
              "\n",
              "    .dataframe tbody tr th {\n",
              "        vertical-align: top;\n",
              "    }\n",
              "\n",
              "    .dataframe thead th {\n",
              "        text-align: right;\n",
              "    }\n",
              "</style>\n",
              "<table border=\"1\" class=\"dataframe\">\n",
              "  <thead>\n",
              "    <tr style=\"text-align: right;\">\n",
              "      <th></th>\n",
              "      <th>土の種類</th>\n",
              "      <th>肥料の量(g)</th>\n",
              "      <th>収量(kg)</th>\n",
              "    </tr>\n",
              "  </thead>\n",
              "  <tbody>\n",
              "    <tr>\n",
              "      <th>0</th>\n",
              "      <td>土A</td>\n",
              "      <td>100</td>\n",
              "      <td>14.5</td>\n",
              "    </tr>\n",
              "    <tr>\n",
              "      <th>4</th>\n",
              "      <td>土A</td>\n",
              "      <td>200</td>\n",
              "      <td>16.1</td>\n",
              "    </tr>\n",
              "    <tr>\n",
              "      <th>7</th>\n",
              "      <td>土A</td>\n",
              "      <td>300</td>\n",
              "      <td>19.0</td>\n",
              "    </tr>\n",
              "    <tr>\n",
              "      <th>10</th>\n",
              "      <td>土A</td>\n",
              "      <td>400</td>\n",
              "      <td>20.2</td>\n",
              "    </tr>\n",
              "    <tr>\n",
              "      <th>13</th>\n",
              "      <td>土B</td>\n",
              "      <td>100</td>\n",
              "      <td>15.3</td>\n",
              "    </tr>\n",
              "    <tr>\n",
              "      <th>16</th>\n",
              "      <td>土B</td>\n",
              "      <td>200</td>\n",
              "      <td>16.9</td>\n",
              "    </tr>\n",
              "    <tr>\n",
              "      <th>19</th>\n",
              "      <td>土B</td>\n",
              "      <td>300</td>\n",
              "      <td>20.5</td>\n",
              "    </tr>\n",
              "    <tr>\n",
              "      <th>22</th>\n",
              "      <td>土B</td>\n",
              "      <td>400</td>\n",
              "      <td>24.9</td>\n",
              "    </tr>\n",
              "  </tbody>\n",
              "</table>\n",
              "</div>\n",
              "      <button class=\"colab-df-convert\" onclick=\"convertToInteractive('df-ad46d6d7-5a7c-40fd-82ef-e179d6a49734')\"\n",
              "              title=\"Convert this dataframe to an interactive table.\"\n",
              "              style=\"display:none;\">\n",
              "        \n",
              "  <svg xmlns=\"http://www.w3.org/2000/svg\" height=\"24px\"viewBox=\"0 0 24 24\"\n",
              "       width=\"24px\">\n",
              "    <path d=\"M0 0h24v24H0V0z\" fill=\"none\"/>\n",
              "    <path d=\"M18.56 5.44l.94 2.06.94-2.06 2.06-.94-2.06-.94-.94-2.06-.94 2.06-2.06.94zm-11 1L8.5 8.5l.94-2.06 2.06-.94-2.06-.94L8.5 2.5l-.94 2.06-2.06.94zm10 10l.94 2.06.94-2.06 2.06-.94-2.06-.94-.94-2.06-.94 2.06-2.06.94z\"/><path d=\"M17.41 7.96l-1.37-1.37c-.4-.4-.92-.59-1.43-.59-.52 0-1.04.2-1.43.59L10.3 9.45l-7.72 7.72c-.78.78-.78 2.05 0 2.83L4 21.41c.39.39.9.59 1.41.59.51 0 1.02-.2 1.41-.59l7.78-7.78 2.81-2.81c.8-.78.8-2.07 0-2.86zM5.41 20L4 18.59l7.72-7.72 1.47 1.35L5.41 20z\"/>\n",
              "  </svg>\n",
              "      </button>\n",
              "      \n",
              "  <style>\n",
              "    .colab-df-container {\n",
              "      display:flex;\n",
              "      flex-wrap:wrap;\n",
              "      gap: 12px;\n",
              "    }\n",
              "\n",
              "    .colab-df-convert {\n",
              "      background-color: #E8F0FE;\n",
              "      border: none;\n",
              "      border-radius: 50%;\n",
              "      cursor: pointer;\n",
              "      display: none;\n",
              "      fill: #1967D2;\n",
              "      height: 32px;\n",
              "      padding: 0 0 0 0;\n",
              "      width: 32px;\n",
              "    }\n",
              "\n",
              "    .colab-df-convert:hover {\n",
              "      background-color: #E2EBFA;\n",
              "      box-shadow: 0px 1px 2px rgba(60, 64, 67, 0.3), 0px 1px 3px 1px rgba(60, 64, 67, 0.15);\n",
              "      fill: #174EA6;\n",
              "    }\n",
              "\n",
              "    [theme=dark] .colab-df-convert {\n",
              "      background-color: #3B4455;\n",
              "      fill: #D2E3FC;\n",
              "    }\n",
              "\n",
              "    [theme=dark] .colab-df-convert:hover {\n",
              "      background-color: #434B5C;\n",
              "      box-shadow: 0px 1px 3px 1px rgba(0, 0, 0, 0.15);\n",
              "      filter: drop-shadow(0px 1px 2px rgba(0, 0, 0, 0.3));\n",
              "      fill: #FFFFFF;\n",
              "    }\n",
              "  </style>\n",
              "\n",
              "      <script>\n",
              "        const buttonEl =\n",
              "          document.querySelector('#df-ad46d6d7-5a7c-40fd-82ef-e179d6a49734 button.colab-df-convert');\n",
              "        buttonEl.style.display =\n",
              "          google.colab.kernel.accessAllowed ? 'block' : 'none';\n",
              "\n",
              "        async function convertToInteractive(key) {\n",
              "          const element = document.querySelector('#df-ad46d6d7-5a7c-40fd-82ef-e179d6a49734');\n",
              "          const dataTable =\n",
              "            await google.colab.kernel.invokeFunction('convertToInteractive',\n",
              "                                                     [key], {});\n",
              "          if (!dataTable) return;\n",
              "\n",
              "          const docLinkHtml = 'Like what you see? Visit the ' +\n",
              "            '<a target=\"_blank\" href=https://colab.research.google.com/notebooks/data_table.ipynb>data table notebook</a>'\n",
              "            + ' to learn more about interactive tables.';\n",
              "          element.innerHTML = '';\n",
              "          dataTable['output_type'] = 'display_data';\n",
              "          await google.colab.output.renderOutput(dataTable, element);\n",
              "          const docLink = document.createElement('div');\n",
              "          docLink.innerHTML = docLinkHtml;\n",
              "          element.appendChild(docLink);\n",
              "        }\n",
              "      </script>\n",
              "    </div>\n",
              "  </div>\n",
              "  "
            ]
          },
          "metadata": {},
          "execution_count": 223
        }
      ]
    },
    {
      "cell_type": "code",
      "source": [
        "goukei = []\n",
        "new_tuthi = new_df1[\"土の種類\"]\n",
        "new_tuthi_uni = new_df1[\"土の種類\"].unique()\n",
        "\n",
        "for i in range(len(df[\"収量(kg)\"])):\n",
        "  if df.loc[i][\"土の種類\"] in new_tuthi_uni:\n",
        "    goukei.append(float(new_df1[new_tuthi == df.loc[i][\"土の種類\"]][\"収量(kg)\"]))\n",
        "\n",
        "df[\"群の平均値\"] = pd.Series(goukei)\n",
        "df.iloc[[0,4,7,10,13,16,19,22]]"
      ],
      "metadata": {
        "colab": {
          "base_uri": "https://localhost:8080/",
          "height": 300
        },
        "id": "C-sZKyuMX1sX",
        "outputId": "26eade74-a61a-4042-efdb-ed0f904fc614"
      },
      "execution_count": 224,
      "outputs": [
        {
          "output_type": "execute_result",
          "data": {
            "text/plain": [
              "   土の種類  肥料の量(g)  収量(kg)      群の平均値\n",
              "0    土A      100    14.5  16.566667\n",
              "4    土A      200    16.1  16.566667\n",
              "7    土A      300    19.0  16.566667\n",
              "10   土A      400    20.2  16.566667\n",
              "13   土B      100    15.3  19.891667\n",
              "16   土B      200    16.9  19.891667\n",
              "19   土B      300    20.5  19.891667\n",
              "22   土B      400    24.9  19.891667"
            ],
            "text/html": [
              "\n",
              "  <div id=\"df-84b3adf4-7070-47fe-a03e-3249397c7685\">\n",
              "    <div class=\"colab-df-container\">\n",
              "      <div>\n",
              "<style scoped>\n",
              "    .dataframe tbody tr th:only-of-type {\n",
              "        vertical-align: middle;\n",
              "    }\n",
              "\n",
              "    .dataframe tbody tr th {\n",
              "        vertical-align: top;\n",
              "    }\n",
              "\n",
              "    .dataframe thead th {\n",
              "        text-align: right;\n",
              "    }\n",
              "</style>\n",
              "<table border=\"1\" class=\"dataframe\">\n",
              "  <thead>\n",
              "    <tr style=\"text-align: right;\">\n",
              "      <th></th>\n",
              "      <th>土の種類</th>\n",
              "      <th>肥料の量(g)</th>\n",
              "      <th>収量(kg)</th>\n",
              "      <th>群の平均値</th>\n",
              "    </tr>\n",
              "  </thead>\n",
              "  <tbody>\n",
              "    <tr>\n",
              "      <th>0</th>\n",
              "      <td>土A</td>\n",
              "      <td>100</td>\n",
              "      <td>14.5</td>\n",
              "      <td>16.566667</td>\n",
              "    </tr>\n",
              "    <tr>\n",
              "      <th>4</th>\n",
              "      <td>土A</td>\n",
              "      <td>200</td>\n",
              "      <td>16.1</td>\n",
              "      <td>16.566667</td>\n",
              "    </tr>\n",
              "    <tr>\n",
              "      <th>7</th>\n",
              "      <td>土A</td>\n",
              "      <td>300</td>\n",
              "      <td>19.0</td>\n",
              "      <td>16.566667</td>\n",
              "    </tr>\n",
              "    <tr>\n",
              "      <th>10</th>\n",
              "      <td>土A</td>\n",
              "      <td>400</td>\n",
              "      <td>20.2</td>\n",
              "      <td>16.566667</td>\n",
              "    </tr>\n",
              "    <tr>\n",
              "      <th>13</th>\n",
              "      <td>土B</td>\n",
              "      <td>100</td>\n",
              "      <td>15.3</td>\n",
              "      <td>19.891667</td>\n",
              "    </tr>\n",
              "    <tr>\n",
              "      <th>16</th>\n",
              "      <td>土B</td>\n",
              "      <td>200</td>\n",
              "      <td>16.9</td>\n",
              "      <td>19.891667</td>\n",
              "    </tr>\n",
              "    <tr>\n",
              "      <th>19</th>\n",
              "      <td>土B</td>\n",
              "      <td>300</td>\n",
              "      <td>20.5</td>\n",
              "      <td>19.891667</td>\n",
              "    </tr>\n",
              "    <tr>\n",
              "      <th>22</th>\n",
              "      <td>土B</td>\n",
              "      <td>400</td>\n",
              "      <td>24.9</td>\n",
              "      <td>19.891667</td>\n",
              "    </tr>\n",
              "  </tbody>\n",
              "</table>\n",
              "</div>\n",
              "      <button class=\"colab-df-convert\" onclick=\"convertToInteractive('df-84b3adf4-7070-47fe-a03e-3249397c7685')\"\n",
              "              title=\"Convert this dataframe to an interactive table.\"\n",
              "              style=\"display:none;\">\n",
              "        \n",
              "  <svg xmlns=\"http://www.w3.org/2000/svg\" height=\"24px\"viewBox=\"0 0 24 24\"\n",
              "       width=\"24px\">\n",
              "    <path d=\"M0 0h24v24H0V0z\" fill=\"none\"/>\n",
              "    <path d=\"M18.56 5.44l.94 2.06.94-2.06 2.06-.94-2.06-.94-.94-2.06-.94 2.06-2.06.94zm-11 1L8.5 8.5l.94-2.06 2.06-.94-2.06-.94L8.5 2.5l-.94 2.06-2.06.94zm10 10l.94 2.06.94-2.06 2.06-.94-2.06-.94-.94-2.06-.94 2.06-2.06.94z\"/><path d=\"M17.41 7.96l-1.37-1.37c-.4-.4-.92-.59-1.43-.59-.52 0-1.04.2-1.43.59L10.3 9.45l-7.72 7.72c-.78.78-.78 2.05 0 2.83L4 21.41c.39.39.9.59 1.41.59.51 0 1.02-.2 1.41-.59l7.78-7.78 2.81-2.81c.8-.78.8-2.07 0-2.86zM5.41 20L4 18.59l7.72-7.72 1.47 1.35L5.41 20z\"/>\n",
              "  </svg>\n",
              "      </button>\n",
              "      \n",
              "  <style>\n",
              "    .colab-df-container {\n",
              "      display:flex;\n",
              "      flex-wrap:wrap;\n",
              "      gap: 12px;\n",
              "    }\n",
              "\n",
              "    .colab-df-convert {\n",
              "      background-color: #E8F0FE;\n",
              "      border: none;\n",
              "      border-radius: 50%;\n",
              "      cursor: pointer;\n",
              "      display: none;\n",
              "      fill: #1967D2;\n",
              "      height: 32px;\n",
              "      padding: 0 0 0 0;\n",
              "      width: 32px;\n",
              "    }\n",
              "\n",
              "    .colab-df-convert:hover {\n",
              "      background-color: #E2EBFA;\n",
              "      box-shadow: 0px 1px 2px rgba(60, 64, 67, 0.3), 0px 1px 3px 1px rgba(60, 64, 67, 0.15);\n",
              "      fill: #174EA6;\n",
              "    }\n",
              "\n",
              "    [theme=dark] .colab-df-convert {\n",
              "      background-color: #3B4455;\n",
              "      fill: #D2E3FC;\n",
              "    }\n",
              "\n",
              "    [theme=dark] .colab-df-convert:hover {\n",
              "      background-color: #434B5C;\n",
              "      box-shadow: 0px 1px 3px 1px rgba(0, 0, 0, 0.15);\n",
              "      filter: drop-shadow(0px 1px 2px rgba(0, 0, 0, 0.3));\n",
              "      fill: #FFFFFF;\n",
              "    }\n",
              "  </style>\n",
              "\n",
              "      <script>\n",
              "        const buttonEl =\n",
              "          document.querySelector('#df-84b3adf4-7070-47fe-a03e-3249397c7685 button.colab-df-convert');\n",
              "        buttonEl.style.display =\n",
              "          google.colab.kernel.accessAllowed ? 'block' : 'none';\n",
              "\n",
              "        async function convertToInteractive(key) {\n",
              "          const element = document.querySelector('#df-84b3adf4-7070-47fe-a03e-3249397c7685');\n",
              "          const dataTable =\n",
              "            await google.colab.kernel.invokeFunction('convertToInteractive',\n",
              "                                                     [key], {});\n",
              "          if (!dataTable) return;\n",
              "\n",
              "          const docLinkHtml = 'Like what you see? Visit the ' +\n",
              "            '<a target=\"_blank\" href=https://colab.research.google.com/notebooks/data_table.ipynb>data table notebook</a>'\n",
              "            + ' to learn more about interactive tables.';\n",
              "          element.innerHTML = '';\n",
              "          dataTable['output_type'] = 'display_data';\n",
              "          await google.colab.output.renderOutput(dataTable, element);\n",
              "          const docLink = document.createElement('div');\n",
              "          docLink.innerHTML = docLinkHtml;\n",
              "          element.appendChild(docLink);\n",
              "        }\n",
              "      </script>\n",
              "    </div>\n",
              "  </div>\n",
              "  "
            ]
          },
          "metadata": {},
          "execution_count": 224
        }
      ]
    },
    {
      "cell_type": "code",
      "source": [
        "df[\"全体平均 - 因子の平均\"] = (df[\"収量(kg)\"].mean() - df[\"群の平均値\"])**2\n",
        "df.iloc[[0,4,7,10,13,16,19,22]]"
      ],
      "metadata": {
        "colab": {
          "base_uri": "https://localhost:8080/",
          "height": 300
        },
        "id": "aPDa91g7Y0QW",
        "outputId": "7d118e4e-fe60-480d-8d67-34603652a167"
      },
      "execution_count": 225,
      "outputs": [
        {
          "output_type": "execute_result",
          "data": {
            "text/plain": [
              "   土の種類  肥料の量(g)  収量(kg)      群の平均値  全体平均 - 因子の平均\n",
              "0    土A      100    14.5  16.566667      2.763906\n",
              "4    土A      200    16.1  16.566667      2.763906\n",
              "7    土A      300    19.0  16.566667      2.763906\n",
              "10   土A      400    20.2  16.566667      2.763906\n",
              "13   土B      100    15.3  19.891667      2.763906\n",
              "16   土B      200    16.9  19.891667      2.763906\n",
              "19   土B      300    20.5  19.891667      2.763906\n",
              "22   土B      400    24.9  19.891667      2.763906"
            ],
            "text/html": [
              "\n",
              "  <div id=\"df-4155fe10-96cf-418d-9e2c-5d83eef3d0bd\">\n",
              "    <div class=\"colab-df-container\">\n",
              "      <div>\n",
              "<style scoped>\n",
              "    .dataframe tbody tr th:only-of-type {\n",
              "        vertical-align: middle;\n",
              "    }\n",
              "\n",
              "    .dataframe tbody tr th {\n",
              "        vertical-align: top;\n",
              "    }\n",
              "\n",
              "    .dataframe thead th {\n",
              "        text-align: right;\n",
              "    }\n",
              "</style>\n",
              "<table border=\"1\" class=\"dataframe\">\n",
              "  <thead>\n",
              "    <tr style=\"text-align: right;\">\n",
              "      <th></th>\n",
              "      <th>土の種類</th>\n",
              "      <th>肥料の量(g)</th>\n",
              "      <th>収量(kg)</th>\n",
              "      <th>群の平均値</th>\n",
              "      <th>全体平均 - 因子の平均</th>\n",
              "    </tr>\n",
              "  </thead>\n",
              "  <tbody>\n",
              "    <tr>\n",
              "      <th>0</th>\n",
              "      <td>土A</td>\n",
              "      <td>100</td>\n",
              "      <td>14.5</td>\n",
              "      <td>16.566667</td>\n",
              "      <td>2.763906</td>\n",
              "    </tr>\n",
              "    <tr>\n",
              "      <th>4</th>\n",
              "      <td>土A</td>\n",
              "      <td>200</td>\n",
              "      <td>16.1</td>\n",
              "      <td>16.566667</td>\n",
              "      <td>2.763906</td>\n",
              "    </tr>\n",
              "    <tr>\n",
              "      <th>7</th>\n",
              "      <td>土A</td>\n",
              "      <td>300</td>\n",
              "      <td>19.0</td>\n",
              "      <td>16.566667</td>\n",
              "      <td>2.763906</td>\n",
              "    </tr>\n",
              "    <tr>\n",
              "      <th>10</th>\n",
              "      <td>土A</td>\n",
              "      <td>400</td>\n",
              "      <td>20.2</td>\n",
              "      <td>16.566667</td>\n",
              "      <td>2.763906</td>\n",
              "    </tr>\n",
              "    <tr>\n",
              "      <th>13</th>\n",
              "      <td>土B</td>\n",
              "      <td>100</td>\n",
              "      <td>15.3</td>\n",
              "      <td>19.891667</td>\n",
              "      <td>2.763906</td>\n",
              "    </tr>\n",
              "    <tr>\n",
              "      <th>16</th>\n",
              "      <td>土B</td>\n",
              "      <td>200</td>\n",
              "      <td>16.9</td>\n",
              "      <td>19.891667</td>\n",
              "      <td>2.763906</td>\n",
              "    </tr>\n",
              "    <tr>\n",
              "      <th>19</th>\n",
              "      <td>土B</td>\n",
              "      <td>300</td>\n",
              "      <td>20.5</td>\n",
              "      <td>19.891667</td>\n",
              "      <td>2.763906</td>\n",
              "    </tr>\n",
              "    <tr>\n",
              "      <th>22</th>\n",
              "      <td>土B</td>\n",
              "      <td>400</td>\n",
              "      <td>24.9</td>\n",
              "      <td>19.891667</td>\n",
              "      <td>2.763906</td>\n",
              "    </tr>\n",
              "  </tbody>\n",
              "</table>\n",
              "</div>\n",
              "      <button class=\"colab-df-convert\" onclick=\"convertToInteractive('df-4155fe10-96cf-418d-9e2c-5d83eef3d0bd')\"\n",
              "              title=\"Convert this dataframe to an interactive table.\"\n",
              "              style=\"display:none;\">\n",
              "        \n",
              "  <svg xmlns=\"http://www.w3.org/2000/svg\" height=\"24px\"viewBox=\"0 0 24 24\"\n",
              "       width=\"24px\">\n",
              "    <path d=\"M0 0h24v24H0V0z\" fill=\"none\"/>\n",
              "    <path d=\"M18.56 5.44l.94 2.06.94-2.06 2.06-.94-2.06-.94-.94-2.06-.94 2.06-2.06.94zm-11 1L8.5 8.5l.94-2.06 2.06-.94-2.06-.94L8.5 2.5l-.94 2.06-2.06.94zm10 10l.94 2.06.94-2.06 2.06-.94-2.06-.94-.94-2.06-.94 2.06-2.06.94z\"/><path d=\"M17.41 7.96l-1.37-1.37c-.4-.4-.92-.59-1.43-.59-.52 0-1.04.2-1.43.59L10.3 9.45l-7.72 7.72c-.78.78-.78 2.05 0 2.83L4 21.41c.39.39.9.59 1.41.59.51 0 1.02-.2 1.41-.59l7.78-7.78 2.81-2.81c.8-.78.8-2.07 0-2.86zM5.41 20L4 18.59l7.72-7.72 1.47 1.35L5.41 20z\"/>\n",
              "  </svg>\n",
              "      </button>\n",
              "      \n",
              "  <style>\n",
              "    .colab-df-container {\n",
              "      display:flex;\n",
              "      flex-wrap:wrap;\n",
              "      gap: 12px;\n",
              "    }\n",
              "\n",
              "    .colab-df-convert {\n",
              "      background-color: #E8F0FE;\n",
              "      border: none;\n",
              "      border-radius: 50%;\n",
              "      cursor: pointer;\n",
              "      display: none;\n",
              "      fill: #1967D2;\n",
              "      height: 32px;\n",
              "      padding: 0 0 0 0;\n",
              "      width: 32px;\n",
              "    }\n",
              "\n",
              "    .colab-df-convert:hover {\n",
              "      background-color: #E2EBFA;\n",
              "      box-shadow: 0px 1px 2px rgba(60, 64, 67, 0.3), 0px 1px 3px 1px rgba(60, 64, 67, 0.15);\n",
              "      fill: #174EA6;\n",
              "    }\n",
              "\n",
              "    [theme=dark] .colab-df-convert {\n",
              "      background-color: #3B4455;\n",
              "      fill: #D2E3FC;\n",
              "    }\n",
              "\n",
              "    [theme=dark] .colab-df-convert:hover {\n",
              "      background-color: #434B5C;\n",
              "      box-shadow: 0px 1px 3px 1px rgba(0, 0, 0, 0.15);\n",
              "      filter: drop-shadow(0px 1px 2px rgba(0, 0, 0, 0.3));\n",
              "      fill: #FFFFFF;\n",
              "    }\n",
              "  </style>\n",
              "\n",
              "      <script>\n",
              "        const buttonEl =\n",
              "          document.querySelector('#df-4155fe10-96cf-418d-9e2c-5d83eef3d0bd button.colab-df-convert');\n",
              "        buttonEl.style.display =\n",
              "          google.colab.kernel.accessAllowed ? 'block' : 'none';\n",
              "\n",
              "        async function convertToInteractive(key) {\n",
              "          const element = document.querySelector('#df-4155fe10-96cf-418d-9e2c-5d83eef3d0bd');\n",
              "          const dataTable =\n",
              "            await google.colab.kernel.invokeFunction('convertToInteractive',\n",
              "                                                     [key], {});\n",
              "          if (!dataTable) return;\n",
              "\n",
              "          const docLinkHtml = 'Like what you see? Visit the ' +\n",
              "            '<a target=\"_blank\" href=https://colab.research.google.com/notebooks/data_table.ipynb>data table notebook</a>'\n",
              "            + ' to learn more about interactive tables.';\n",
              "          element.innerHTML = '';\n",
              "          dataTable['output_type'] = 'display_data';\n",
              "          await google.colab.output.renderOutput(dataTable, element);\n",
              "          const docLink = document.createElement('div');\n",
              "          docLink.innerHTML = docLinkHtml;\n",
              "          element.appendChild(docLink);\n",
              "        }\n",
              "      </script>\n",
              "    </div>\n",
              "  </div>\n",
              "  "
            ]
          },
          "metadata": {},
          "execution_count": 225
        }
      ]
    },
    {
      "cell_type": "code",
      "source": [
        "tuthi = round(sum(df[\"全体平均 - 因子の平均\"]),2)\n",
        "round(sum(df[\"全体平均 - 因子の平均\"]),2)"
      ],
      "metadata": {
        "colab": {
          "base_uri": "https://localhost:8080/"
        },
        "id": "sqlJ7Gt9ZIAc",
        "outputId": "b651d304-f9e1-4a05-97ff-a8ecffb2ff9d"
      },
      "execution_count": 226,
      "outputs": [
        {
          "output_type": "execute_result",
          "data": {
            "text/plain": [
              "66.33"
            ]
          },
          "metadata": {},
          "execution_count": 226
        }
      ]
    },
    {
      "cell_type": "markdown",
      "source": [
        "次に「肥料の量の平方和」です。"
      ],
      "metadata": {
        "id": "WvVdH7tPYAt-"
      }
    },
    {
      "cell_type": "code",
      "source": [
        "df = pd.read_excel(\"crop_yield.xlsx\")\n",
        "df.iloc[[0,4,7,10,13,16,19,22]]"
      ],
      "metadata": {
        "colab": {
          "base_uri": "https://localhost:8080/",
          "height": 300
        },
        "id": "DLl2I0uFZ1mv",
        "outputId": "5fc59b5f-f40c-4c3a-e23c-4a50caf3b955"
      },
      "execution_count": 227,
      "outputs": [
        {
          "output_type": "execute_result",
          "data": {
            "text/plain": [
              "   土の種類  肥料の量(g)  収量(kg)\n",
              "0    土A      100    14.5\n",
              "4    土A      200    16.1\n",
              "7    土A      300    19.0\n",
              "10   土A      400    20.2\n",
              "13   土B      100    15.3\n",
              "16   土B      200    16.9\n",
              "19   土B      300    20.5\n",
              "22   土B      400    24.9"
            ],
            "text/html": [
              "\n",
              "  <div id=\"df-99399a65-6b1f-47de-8cc2-73fcb4a48084\">\n",
              "    <div class=\"colab-df-container\">\n",
              "      <div>\n",
              "<style scoped>\n",
              "    .dataframe tbody tr th:only-of-type {\n",
              "        vertical-align: middle;\n",
              "    }\n",
              "\n",
              "    .dataframe tbody tr th {\n",
              "        vertical-align: top;\n",
              "    }\n",
              "\n",
              "    .dataframe thead th {\n",
              "        text-align: right;\n",
              "    }\n",
              "</style>\n",
              "<table border=\"1\" class=\"dataframe\">\n",
              "  <thead>\n",
              "    <tr style=\"text-align: right;\">\n",
              "      <th></th>\n",
              "      <th>土の種類</th>\n",
              "      <th>肥料の量(g)</th>\n",
              "      <th>収量(kg)</th>\n",
              "    </tr>\n",
              "  </thead>\n",
              "  <tbody>\n",
              "    <tr>\n",
              "      <th>0</th>\n",
              "      <td>土A</td>\n",
              "      <td>100</td>\n",
              "      <td>14.5</td>\n",
              "    </tr>\n",
              "    <tr>\n",
              "      <th>4</th>\n",
              "      <td>土A</td>\n",
              "      <td>200</td>\n",
              "      <td>16.1</td>\n",
              "    </tr>\n",
              "    <tr>\n",
              "      <th>7</th>\n",
              "      <td>土A</td>\n",
              "      <td>300</td>\n",
              "      <td>19.0</td>\n",
              "    </tr>\n",
              "    <tr>\n",
              "      <th>10</th>\n",
              "      <td>土A</td>\n",
              "      <td>400</td>\n",
              "      <td>20.2</td>\n",
              "    </tr>\n",
              "    <tr>\n",
              "      <th>13</th>\n",
              "      <td>土B</td>\n",
              "      <td>100</td>\n",
              "      <td>15.3</td>\n",
              "    </tr>\n",
              "    <tr>\n",
              "      <th>16</th>\n",
              "      <td>土B</td>\n",
              "      <td>200</td>\n",
              "      <td>16.9</td>\n",
              "    </tr>\n",
              "    <tr>\n",
              "      <th>19</th>\n",
              "      <td>土B</td>\n",
              "      <td>300</td>\n",
              "      <td>20.5</td>\n",
              "    </tr>\n",
              "    <tr>\n",
              "      <th>22</th>\n",
              "      <td>土B</td>\n",
              "      <td>400</td>\n",
              "      <td>24.9</td>\n",
              "    </tr>\n",
              "  </tbody>\n",
              "</table>\n",
              "</div>\n",
              "      <button class=\"colab-df-convert\" onclick=\"convertToInteractive('df-99399a65-6b1f-47de-8cc2-73fcb4a48084')\"\n",
              "              title=\"Convert this dataframe to an interactive table.\"\n",
              "              style=\"display:none;\">\n",
              "        \n",
              "  <svg xmlns=\"http://www.w3.org/2000/svg\" height=\"24px\"viewBox=\"0 0 24 24\"\n",
              "       width=\"24px\">\n",
              "    <path d=\"M0 0h24v24H0V0z\" fill=\"none\"/>\n",
              "    <path d=\"M18.56 5.44l.94 2.06.94-2.06 2.06-.94-2.06-.94-.94-2.06-.94 2.06-2.06.94zm-11 1L8.5 8.5l.94-2.06 2.06-.94-2.06-.94L8.5 2.5l-.94 2.06-2.06.94zm10 10l.94 2.06.94-2.06 2.06-.94-2.06-.94-.94-2.06-.94 2.06-2.06.94z\"/><path d=\"M17.41 7.96l-1.37-1.37c-.4-.4-.92-.59-1.43-.59-.52 0-1.04.2-1.43.59L10.3 9.45l-7.72 7.72c-.78.78-.78 2.05 0 2.83L4 21.41c.39.39.9.59 1.41.59.51 0 1.02-.2 1.41-.59l7.78-7.78 2.81-2.81c.8-.78.8-2.07 0-2.86zM5.41 20L4 18.59l7.72-7.72 1.47 1.35L5.41 20z\"/>\n",
              "  </svg>\n",
              "      </button>\n",
              "      \n",
              "  <style>\n",
              "    .colab-df-container {\n",
              "      display:flex;\n",
              "      flex-wrap:wrap;\n",
              "      gap: 12px;\n",
              "    }\n",
              "\n",
              "    .colab-df-convert {\n",
              "      background-color: #E8F0FE;\n",
              "      border: none;\n",
              "      border-radius: 50%;\n",
              "      cursor: pointer;\n",
              "      display: none;\n",
              "      fill: #1967D2;\n",
              "      height: 32px;\n",
              "      padding: 0 0 0 0;\n",
              "      width: 32px;\n",
              "    }\n",
              "\n",
              "    .colab-df-convert:hover {\n",
              "      background-color: #E2EBFA;\n",
              "      box-shadow: 0px 1px 2px rgba(60, 64, 67, 0.3), 0px 1px 3px 1px rgba(60, 64, 67, 0.15);\n",
              "      fill: #174EA6;\n",
              "    }\n",
              "\n",
              "    [theme=dark] .colab-df-convert {\n",
              "      background-color: #3B4455;\n",
              "      fill: #D2E3FC;\n",
              "    }\n",
              "\n",
              "    [theme=dark] .colab-df-convert:hover {\n",
              "      background-color: #434B5C;\n",
              "      box-shadow: 0px 1px 3px 1px rgba(0, 0, 0, 0.15);\n",
              "      filter: drop-shadow(0px 1px 2px rgba(0, 0, 0, 0.3));\n",
              "      fill: #FFFFFF;\n",
              "    }\n",
              "  </style>\n",
              "\n",
              "      <script>\n",
              "        const buttonEl =\n",
              "          document.querySelector('#df-99399a65-6b1f-47de-8cc2-73fcb4a48084 button.colab-df-convert');\n",
              "        buttonEl.style.display =\n",
              "          google.colab.kernel.accessAllowed ? 'block' : 'none';\n",
              "\n",
              "        async function convertToInteractive(key) {\n",
              "          const element = document.querySelector('#df-99399a65-6b1f-47de-8cc2-73fcb4a48084');\n",
              "          const dataTable =\n",
              "            await google.colab.kernel.invokeFunction('convertToInteractive',\n",
              "                                                     [key], {});\n",
              "          if (!dataTable) return;\n",
              "\n",
              "          const docLinkHtml = 'Like what you see? Visit the ' +\n",
              "            '<a target=\"_blank\" href=https://colab.research.google.com/notebooks/data_table.ipynb>data table notebook</a>'\n",
              "            + ' to learn more about interactive tables.';\n",
              "          element.innerHTML = '';\n",
              "          dataTable['output_type'] = 'display_data';\n",
              "          await google.colab.output.renderOutput(dataTable, element);\n",
              "          const docLink = document.createElement('div');\n",
              "          docLink.innerHTML = docLinkHtml;\n",
              "          element.appendChild(docLink);\n",
              "        }\n",
              "      </script>\n",
              "    </div>\n",
              "  </div>\n",
              "  "
            ]
          },
          "metadata": {},
          "execution_count": 227
        }
      ]
    },
    {
      "cell_type": "code",
      "source": [
        "goukei = []\n",
        "new_hiryo = new_df2[\"肥料の量(g)\"]\n",
        "new_hiryo_uni = new_df2[\"肥料の量(g)\"].unique()\n",
        "\n",
        "for i in range(len(df[\"収量(kg)\"])):\n",
        "  if df.loc[i][\"肥料の量(g)\"] in new_hiryo_uni:\n",
        "    goukei.append(float(new_df2[new_hiryo == df.loc[i][\"肥料の量(g)\"]][\"収量(kg)\"]))\n",
        "\n",
        "df[\"群の平均値\"] = pd.Series(goukei)\n",
        "df.iloc[[0,4,7,10,13,16,19,22]]"
      ],
      "metadata": {
        "colab": {
          "base_uri": "https://localhost:8080/",
          "height": 300
        },
        "id": "PecP6gTpYF0O",
        "outputId": "82c9ac8e-cfda-49ff-9bdd-5562db7fdd64"
      },
      "execution_count": 228,
      "outputs": [
        {
          "output_type": "execute_result",
          "data": {
            "text/plain": [
              "   土の種類  肥料の量(g)  収量(kg)      群の平均値\n",
              "0    土A      100    14.5  15.450000\n",
              "4    土A      200    16.1  16.950000\n",
              "7    土A      300    19.0  18.933333\n",
              "10   土A      400    20.2  21.583333\n",
              "13   土B      100    15.3  15.450000\n",
              "16   土B      200    16.9  16.950000\n",
              "19   土B      300    20.5  18.933333\n",
              "22   土B      400    24.9  21.583333"
            ],
            "text/html": [
              "\n",
              "  <div id=\"df-8dee9bc4-16f6-4617-897a-27c74676d81d\">\n",
              "    <div class=\"colab-df-container\">\n",
              "      <div>\n",
              "<style scoped>\n",
              "    .dataframe tbody tr th:only-of-type {\n",
              "        vertical-align: middle;\n",
              "    }\n",
              "\n",
              "    .dataframe tbody tr th {\n",
              "        vertical-align: top;\n",
              "    }\n",
              "\n",
              "    .dataframe thead th {\n",
              "        text-align: right;\n",
              "    }\n",
              "</style>\n",
              "<table border=\"1\" class=\"dataframe\">\n",
              "  <thead>\n",
              "    <tr style=\"text-align: right;\">\n",
              "      <th></th>\n",
              "      <th>土の種類</th>\n",
              "      <th>肥料の量(g)</th>\n",
              "      <th>収量(kg)</th>\n",
              "      <th>群の平均値</th>\n",
              "    </tr>\n",
              "  </thead>\n",
              "  <tbody>\n",
              "    <tr>\n",
              "      <th>0</th>\n",
              "      <td>土A</td>\n",
              "      <td>100</td>\n",
              "      <td>14.5</td>\n",
              "      <td>15.450000</td>\n",
              "    </tr>\n",
              "    <tr>\n",
              "      <th>4</th>\n",
              "      <td>土A</td>\n",
              "      <td>200</td>\n",
              "      <td>16.1</td>\n",
              "      <td>16.950000</td>\n",
              "    </tr>\n",
              "    <tr>\n",
              "      <th>7</th>\n",
              "      <td>土A</td>\n",
              "      <td>300</td>\n",
              "      <td>19.0</td>\n",
              "      <td>18.933333</td>\n",
              "    </tr>\n",
              "    <tr>\n",
              "      <th>10</th>\n",
              "      <td>土A</td>\n",
              "      <td>400</td>\n",
              "      <td>20.2</td>\n",
              "      <td>21.583333</td>\n",
              "    </tr>\n",
              "    <tr>\n",
              "      <th>13</th>\n",
              "      <td>土B</td>\n",
              "      <td>100</td>\n",
              "      <td>15.3</td>\n",
              "      <td>15.450000</td>\n",
              "    </tr>\n",
              "    <tr>\n",
              "      <th>16</th>\n",
              "      <td>土B</td>\n",
              "      <td>200</td>\n",
              "      <td>16.9</td>\n",
              "      <td>16.950000</td>\n",
              "    </tr>\n",
              "    <tr>\n",
              "      <th>19</th>\n",
              "      <td>土B</td>\n",
              "      <td>300</td>\n",
              "      <td>20.5</td>\n",
              "      <td>18.933333</td>\n",
              "    </tr>\n",
              "    <tr>\n",
              "      <th>22</th>\n",
              "      <td>土B</td>\n",
              "      <td>400</td>\n",
              "      <td>24.9</td>\n",
              "      <td>21.583333</td>\n",
              "    </tr>\n",
              "  </tbody>\n",
              "</table>\n",
              "</div>\n",
              "      <button class=\"colab-df-convert\" onclick=\"convertToInteractive('df-8dee9bc4-16f6-4617-897a-27c74676d81d')\"\n",
              "              title=\"Convert this dataframe to an interactive table.\"\n",
              "              style=\"display:none;\">\n",
              "        \n",
              "  <svg xmlns=\"http://www.w3.org/2000/svg\" height=\"24px\"viewBox=\"0 0 24 24\"\n",
              "       width=\"24px\">\n",
              "    <path d=\"M0 0h24v24H0V0z\" fill=\"none\"/>\n",
              "    <path d=\"M18.56 5.44l.94 2.06.94-2.06 2.06-.94-2.06-.94-.94-2.06-.94 2.06-2.06.94zm-11 1L8.5 8.5l.94-2.06 2.06-.94-2.06-.94L8.5 2.5l-.94 2.06-2.06.94zm10 10l.94 2.06.94-2.06 2.06-.94-2.06-.94-.94-2.06-.94 2.06-2.06.94z\"/><path d=\"M17.41 7.96l-1.37-1.37c-.4-.4-.92-.59-1.43-.59-.52 0-1.04.2-1.43.59L10.3 9.45l-7.72 7.72c-.78.78-.78 2.05 0 2.83L4 21.41c.39.39.9.59 1.41.59.51 0 1.02-.2 1.41-.59l7.78-7.78 2.81-2.81c.8-.78.8-2.07 0-2.86zM5.41 20L4 18.59l7.72-7.72 1.47 1.35L5.41 20z\"/>\n",
              "  </svg>\n",
              "      </button>\n",
              "      \n",
              "  <style>\n",
              "    .colab-df-container {\n",
              "      display:flex;\n",
              "      flex-wrap:wrap;\n",
              "      gap: 12px;\n",
              "    }\n",
              "\n",
              "    .colab-df-convert {\n",
              "      background-color: #E8F0FE;\n",
              "      border: none;\n",
              "      border-radius: 50%;\n",
              "      cursor: pointer;\n",
              "      display: none;\n",
              "      fill: #1967D2;\n",
              "      height: 32px;\n",
              "      padding: 0 0 0 0;\n",
              "      width: 32px;\n",
              "    }\n",
              "\n",
              "    .colab-df-convert:hover {\n",
              "      background-color: #E2EBFA;\n",
              "      box-shadow: 0px 1px 2px rgba(60, 64, 67, 0.3), 0px 1px 3px 1px rgba(60, 64, 67, 0.15);\n",
              "      fill: #174EA6;\n",
              "    }\n",
              "\n",
              "    [theme=dark] .colab-df-convert {\n",
              "      background-color: #3B4455;\n",
              "      fill: #D2E3FC;\n",
              "    }\n",
              "\n",
              "    [theme=dark] .colab-df-convert:hover {\n",
              "      background-color: #434B5C;\n",
              "      box-shadow: 0px 1px 3px 1px rgba(0, 0, 0, 0.15);\n",
              "      filter: drop-shadow(0px 1px 2px rgba(0, 0, 0, 0.3));\n",
              "      fill: #FFFFFF;\n",
              "    }\n",
              "  </style>\n",
              "\n",
              "      <script>\n",
              "        const buttonEl =\n",
              "          document.querySelector('#df-8dee9bc4-16f6-4617-897a-27c74676d81d button.colab-df-convert');\n",
              "        buttonEl.style.display =\n",
              "          google.colab.kernel.accessAllowed ? 'block' : 'none';\n",
              "\n",
              "        async function convertToInteractive(key) {\n",
              "          const element = document.querySelector('#df-8dee9bc4-16f6-4617-897a-27c74676d81d');\n",
              "          const dataTable =\n",
              "            await google.colab.kernel.invokeFunction('convertToInteractive',\n",
              "                                                     [key], {});\n",
              "          if (!dataTable) return;\n",
              "\n",
              "          const docLinkHtml = 'Like what you see? Visit the ' +\n",
              "            '<a target=\"_blank\" href=https://colab.research.google.com/notebooks/data_table.ipynb>data table notebook</a>'\n",
              "            + ' to learn more about interactive tables.';\n",
              "          element.innerHTML = '';\n",
              "          dataTable['output_type'] = 'display_data';\n",
              "          await google.colab.output.renderOutput(dataTable, element);\n",
              "          const docLink = document.createElement('div');\n",
              "          docLink.innerHTML = docLinkHtml;\n",
              "          element.appendChild(docLink);\n",
              "        }\n",
              "      </script>\n",
              "    </div>\n",
              "  </div>\n",
              "  "
            ]
          },
          "metadata": {},
          "execution_count": 228
        }
      ]
    },
    {
      "cell_type": "code",
      "source": [
        "df[\"全体平均 - 因子の平均\"] = (df[\"収量(kg)\"].mean() - df[\"群の平均値\"])**2\n",
        "df.iloc[[0,4,7,10,13,16,19,22]]"
      ],
      "metadata": {
        "colab": {
          "base_uri": "https://localhost:8080/",
          "height": 300
        },
        "id": "Omz_BTIiYqr1",
        "outputId": "68b1b1a4-514e-49d5-89ec-b341ca3167ae"
      },
      "execution_count": 229,
      "outputs": [
        {
          "output_type": "execute_result",
          "data": {
            "text/plain": [
              "   土の種類  肥料の量(g)  収量(kg)      群の平均値  全体平均 - 因子の平均\n",
              "0    土A      100    14.5  15.450000      7.723767\n",
              "4    土A      200    16.1  16.950000      1.636267\n",
              "7    土A      300    19.0  18.933333      0.495851\n",
              "10   土A      400    20.2  21.583333     11.250434\n",
              "13   土B      100    15.3  15.450000      7.723767\n",
              "16   土B      200    16.9  16.950000      1.636267\n",
              "19   土B      300    20.5  18.933333      0.495851\n",
              "22   土B      400    24.9  21.583333     11.250434"
            ],
            "text/html": [
              "\n",
              "  <div id=\"df-9df35334-38d5-4e40-b522-dfc02f138ece\">\n",
              "    <div class=\"colab-df-container\">\n",
              "      <div>\n",
              "<style scoped>\n",
              "    .dataframe tbody tr th:only-of-type {\n",
              "        vertical-align: middle;\n",
              "    }\n",
              "\n",
              "    .dataframe tbody tr th {\n",
              "        vertical-align: top;\n",
              "    }\n",
              "\n",
              "    .dataframe thead th {\n",
              "        text-align: right;\n",
              "    }\n",
              "</style>\n",
              "<table border=\"1\" class=\"dataframe\">\n",
              "  <thead>\n",
              "    <tr style=\"text-align: right;\">\n",
              "      <th></th>\n",
              "      <th>土の種類</th>\n",
              "      <th>肥料の量(g)</th>\n",
              "      <th>収量(kg)</th>\n",
              "      <th>群の平均値</th>\n",
              "      <th>全体平均 - 因子の平均</th>\n",
              "    </tr>\n",
              "  </thead>\n",
              "  <tbody>\n",
              "    <tr>\n",
              "      <th>0</th>\n",
              "      <td>土A</td>\n",
              "      <td>100</td>\n",
              "      <td>14.5</td>\n",
              "      <td>15.450000</td>\n",
              "      <td>7.723767</td>\n",
              "    </tr>\n",
              "    <tr>\n",
              "      <th>4</th>\n",
              "      <td>土A</td>\n",
              "      <td>200</td>\n",
              "      <td>16.1</td>\n",
              "      <td>16.950000</td>\n",
              "      <td>1.636267</td>\n",
              "    </tr>\n",
              "    <tr>\n",
              "      <th>7</th>\n",
              "      <td>土A</td>\n",
              "      <td>300</td>\n",
              "      <td>19.0</td>\n",
              "      <td>18.933333</td>\n",
              "      <td>0.495851</td>\n",
              "    </tr>\n",
              "    <tr>\n",
              "      <th>10</th>\n",
              "      <td>土A</td>\n",
              "      <td>400</td>\n",
              "      <td>20.2</td>\n",
              "      <td>21.583333</td>\n",
              "      <td>11.250434</td>\n",
              "    </tr>\n",
              "    <tr>\n",
              "      <th>13</th>\n",
              "      <td>土B</td>\n",
              "      <td>100</td>\n",
              "      <td>15.3</td>\n",
              "      <td>15.450000</td>\n",
              "      <td>7.723767</td>\n",
              "    </tr>\n",
              "    <tr>\n",
              "      <th>16</th>\n",
              "      <td>土B</td>\n",
              "      <td>200</td>\n",
              "      <td>16.9</td>\n",
              "      <td>16.950000</td>\n",
              "      <td>1.636267</td>\n",
              "    </tr>\n",
              "    <tr>\n",
              "      <th>19</th>\n",
              "      <td>土B</td>\n",
              "      <td>300</td>\n",
              "      <td>20.5</td>\n",
              "      <td>18.933333</td>\n",
              "      <td>0.495851</td>\n",
              "    </tr>\n",
              "    <tr>\n",
              "      <th>22</th>\n",
              "      <td>土B</td>\n",
              "      <td>400</td>\n",
              "      <td>24.9</td>\n",
              "      <td>21.583333</td>\n",
              "      <td>11.250434</td>\n",
              "    </tr>\n",
              "  </tbody>\n",
              "</table>\n",
              "</div>\n",
              "      <button class=\"colab-df-convert\" onclick=\"convertToInteractive('df-9df35334-38d5-4e40-b522-dfc02f138ece')\"\n",
              "              title=\"Convert this dataframe to an interactive table.\"\n",
              "              style=\"display:none;\">\n",
              "        \n",
              "  <svg xmlns=\"http://www.w3.org/2000/svg\" height=\"24px\"viewBox=\"0 0 24 24\"\n",
              "       width=\"24px\">\n",
              "    <path d=\"M0 0h24v24H0V0z\" fill=\"none\"/>\n",
              "    <path d=\"M18.56 5.44l.94 2.06.94-2.06 2.06-.94-2.06-.94-.94-2.06-.94 2.06-2.06.94zm-11 1L8.5 8.5l.94-2.06 2.06-.94-2.06-.94L8.5 2.5l-.94 2.06-2.06.94zm10 10l.94 2.06.94-2.06 2.06-.94-2.06-.94-.94-2.06-.94 2.06-2.06.94z\"/><path d=\"M17.41 7.96l-1.37-1.37c-.4-.4-.92-.59-1.43-.59-.52 0-1.04.2-1.43.59L10.3 9.45l-7.72 7.72c-.78.78-.78 2.05 0 2.83L4 21.41c.39.39.9.59 1.41.59.51 0 1.02-.2 1.41-.59l7.78-7.78 2.81-2.81c.8-.78.8-2.07 0-2.86zM5.41 20L4 18.59l7.72-7.72 1.47 1.35L5.41 20z\"/>\n",
              "  </svg>\n",
              "      </button>\n",
              "      \n",
              "  <style>\n",
              "    .colab-df-container {\n",
              "      display:flex;\n",
              "      flex-wrap:wrap;\n",
              "      gap: 12px;\n",
              "    }\n",
              "\n",
              "    .colab-df-convert {\n",
              "      background-color: #E8F0FE;\n",
              "      border: none;\n",
              "      border-radius: 50%;\n",
              "      cursor: pointer;\n",
              "      display: none;\n",
              "      fill: #1967D2;\n",
              "      height: 32px;\n",
              "      padding: 0 0 0 0;\n",
              "      width: 32px;\n",
              "    }\n",
              "\n",
              "    .colab-df-convert:hover {\n",
              "      background-color: #E2EBFA;\n",
              "      box-shadow: 0px 1px 2px rgba(60, 64, 67, 0.3), 0px 1px 3px 1px rgba(60, 64, 67, 0.15);\n",
              "      fill: #174EA6;\n",
              "    }\n",
              "\n",
              "    [theme=dark] .colab-df-convert {\n",
              "      background-color: #3B4455;\n",
              "      fill: #D2E3FC;\n",
              "    }\n",
              "\n",
              "    [theme=dark] .colab-df-convert:hover {\n",
              "      background-color: #434B5C;\n",
              "      box-shadow: 0px 1px 3px 1px rgba(0, 0, 0, 0.15);\n",
              "      filter: drop-shadow(0px 1px 2px rgba(0, 0, 0, 0.3));\n",
              "      fill: #FFFFFF;\n",
              "    }\n",
              "  </style>\n",
              "\n",
              "      <script>\n",
              "        const buttonEl =\n",
              "          document.querySelector('#df-9df35334-38d5-4e40-b522-dfc02f138ece button.colab-df-convert');\n",
              "        buttonEl.style.display =\n",
              "          google.colab.kernel.accessAllowed ? 'block' : 'none';\n",
              "\n",
              "        async function convertToInteractive(key) {\n",
              "          const element = document.querySelector('#df-9df35334-38d5-4e40-b522-dfc02f138ece');\n",
              "          const dataTable =\n",
              "            await google.colab.kernel.invokeFunction('convertToInteractive',\n",
              "                                                     [key], {});\n",
              "          if (!dataTable) return;\n",
              "\n",
              "          const docLinkHtml = 'Like what you see? Visit the ' +\n",
              "            '<a target=\"_blank\" href=https://colab.research.google.com/notebooks/data_table.ipynb>data table notebook</a>'\n",
              "            + ' to learn more about interactive tables.';\n",
              "          element.innerHTML = '';\n",
              "          dataTable['output_type'] = 'display_data';\n",
              "          await google.colab.output.renderOutput(dataTable, element);\n",
              "          const docLink = document.createElement('div');\n",
              "          docLink.innerHTML = docLinkHtml;\n",
              "          element.appendChild(docLink);\n",
              "        }\n",
              "      </script>\n",
              "    </div>\n",
              "  </div>\n",
              "  "
            ]
          },
          "metadata": {},
          "execution_count": 229
        }
      ]
    },
    {
      "cell_type": "code",
      "source": [
        "hiryo = round(sum(df[\"全体平均 - 因子の平均\"]),2)\n",
        "round(sum(df[\"全体平均 - 因子の平均\"]),2)"
      ],
      "metadata": {
        "colab": {
          "base_uri": "https://localhost:8080/"
        },
        "id": "UP7vcT8FaOdu",
        "outputId": "7fc4d72a-b104-4fa6-f99f-6c19659426e2"
      },
      "execution_count": 230,
      "outputs": [
        {
          "output_type": "execute_result",
          "data": {
            "text/plain": [
              "126.64"
            ]
          },
          "metadata": {},
          "execution_count": 230
        }
      ]
    },
    {
      "cell_type": "markdown",
      "source": [
        "##### 交互作用の平方和"
      ],
      "metadata": {
        "id": "MVbwMfUsYVDW"
      }
    },
    {
      "cell_type": "markdown",
      "source": [
        "「土の種類×肥料の量 の平方和」を求めます。"
      ],
      "metadata": {
        "id": "VLkHrcLVYa91"
      }
    },
    {
      "cell_type": "code",
      "source": [
        "df = pd.read_excel(\"crop_yield.xlsx\")\n",
        "df.iloc[[0,4,7,10,13,16,19,22]]"
      ],
      "metadata": {
        "colab": {
          "base_uri": "https://localhost:8080/",
          "height": 300
        },
        "id": "194VQKHWaTH0",
        "outputId": "17ec4b8b-8f8b-4602-89bd-7eea3990b33d"
      },
      "execution_count": 231,
      "outputs": [
        {
          "output_type": "execute_result",
          "data": {
            "text/plain": [
              "   土の種類  肥料の量(g)  収量(kg)\n",
              "0    土A      100    14.5\n",
              "4    土A      200    16.1\n",
              "7    土A      300    19.0\n",
              "10   土A      400    20.2\n",
              "13   土B      100    15.3\n",
              "16   土B      200    16.9\n",
              "19   土B      300    20.5\n",
              "22   土B      400    24.9"
            ],
            "text/html": [
              "\n",
              "  <div id=\"df-6d9a389d-dafd-4a30-9f3f-63e69ddfa35d\">\n",
              "    <div class=\"colab-df-container\">\n",
              "      <div>\n",
              "<style scoped>\n",
              "    .dataframe tbody tr th:only-of-type {\n",
              "        vertical-align: middle;\n",
              "    }\n",
              "\n",
              "    .dataframe tbody tr th {\n",
              "        vertical-align: top;\n",
              "    }\n",
              "\n",
              "    .dataframe thead th {\n",
              "        text-align: right;\n",
              "    }\n",
              "</style>\n",
              "<table border=\"1\" class=\"dataframe\">\n",
              "  <thead>\n",
              "    <tr style=\"text-align: right;\">\n",
              "      <th></th>\n",
              "      <th>土の種類</th>\n",
              "      <th>肥料の量(g)</th>\n",
              "      <th>収量(kg)</th>\n",
              "    </tr>\n",
              "  </thead>\n",
              "  <tbody>\n",
              "    <tr>\n",
              "      <th>0</th>\n",
              "      <td>土A</td>\n",
              "      <td>100</td>\n",
              "      <td>14.5</td>\n",
              "    </tr>\n",
              "    <tr>\n",
              "      <th>4</th>\n",
              "      <td>土A</td>\n",
              "      <td>200</td>\n",
              "      <td>16.1</td>\n",
              "    </tr>\n",
              "    <tr>\n",
              "      <th>7</th>\n",
              "      <td>土A</td>\n",
              "      <td>300</td>\n",
              "      <td>19.0</td>\n",
              "    </tr>\n",
              "    <tr>\n",
              "      <th>10</th>\n",
              "      <td>土A</td>\n",
              "      <td>400</td>\n",
              "      <td>20.2</td>\n",
              "    </tr>\n",
              "    <tr>\n",
              "      <th>13</th>\n",
              "      <td>土B</td>\n",
              "      <td>100</td>\n",
              "      <td>15.3</td>\n",
              "    </tr>\n",
              "    <tr>\n",
              "      <th>16</th>\n",
              "      <td>土B</td>\n",
              "      <td>200</td>\n",
              "      <td>16.9</td>\n",
              "    </tr>\n",
              "    <tr>\n",
              "      <th>19</th>\n",
              "      <td>土B</td>\n",
              "      <td>300</td>\n",
              "      <td>20.5</td>\n",
              "    </tr>\n",
              "    <tr>\n",
              "      <th>22</th>\n",
              "      <td>土B</td>\n",
              "      <td>400</td>\n",
              "      <td>24.9</td>\n",
              "    </tr>\n",
              "  </tbody>\n",
              "</table>\n",
              "</div>\n",
              "      <button class=\"colab-df-convert\" onclick=\"convertToInteractive('df-6d9a389d-dafd-4a30-9f3f-63e69ddfa35d')\"\n",
              "              title=\"Convert this dataframe to an interactive table.\"\n",
              "              style=\"display:none;\">\n",
              "        \n",
              "  <svg xmlns=\"http://www.w3.org/2000/svg\" height=\"24px\"viewBox=\"0 0 24 24\"\n",
              "       width=\"24px\">\n",
              "    <path d=\"M0 0h24v24H0V0z\" fill=\"none\"/>\n",
              "    <path d=\"M18.56 5.44l.94 2.06.94-2.06 2.06-.94-2.06-.94-.94-2.06-.94 2.06-2.06.94zm-11 1L8.5 8.5l.94-2.06 2.06-.94-2.06-.94L8.5 2.5l-.94 2.06-2.06.94zm10 10l.94 2.06.94-2.06 2.06-.94-2.06-.94-.94-2.06-.94 2.06-2.06.94z\"/><path d=\"M17.41 7.96l-1.37-1.37c-.4-.4-.92-.59-1.43-.59-.52 0-1.04.2-1.43.59L10.3 9.45l-7.72 7.72c-.78.78-.78 2.05 0 2.83L4 21.41c.39.39.9.59 1.41.59.51 0 1.02-.2 1.41-.59l7.78-7.78 2.81-2.81c.8-.78.8-2.07 0-2.86zM5.41 20L4 18.59l7.72-7.72 1.47 1.35L5.41 20z\"/>\n",
              "  </svg>\n",
              "      </button>\n",
              "      \n",
              "  <style>\n",
              "    .colab-df-container {\n",
              "      display:flex;\n",
              "      flex-wrap:wrap;\n",
              "      gap: 12px;\n",
              "    }\n",
              "\n",
              "    .colab-df-convert {\n",
              "      background-color: #E8F0FE;\n",
              "      border: none;\n",
              "      border-radius: 50%;\n",
              "      cursor: pointer;\n",
              "      display: none;\n",
              "      fill: #1967D2;\n",
              "      height: 32px;\n",
              "      padding: 0 0 0 0;\n",
              "      width: 32px;\n",
              "    }\n",
              "\n",
              "    .colab-df-convert:hover {\n",
              "      background-color: #E2EBFA;\n",
              "      box-shadow: 0px 1px 2px rgba(60, 64, 67, 0.3), 0px 1px 3px 1px rgba(60, 64, 67, 0.15);\n",
              "      fill: #174EA6;\n",
              "    }\n",
              "\n",
              "    [theme=dark] .colab-df-convert {\n",
              "      background-color: #3B4455;\n",
              "      fill: #D2E3FC;\n",
              "    }\n",
              "\n",
              "    [theme=dark] .colab-df-convert:hover {\n",
              "      background-color: #434B5C;\n",
              "      box-shadow: 0px 1px 3px 1px rgba(0, 0, 0, 0.15);\n",
              "      filter: drop-shadow(0px 1px 2px rgba(0, 0, 0, 0.3));\n",
              "      fill: #FFFFFF;\n",
              "    }\n",
              "  </style>\n",
              "\n",
              "      <script>\n",
              "        const buttonEl =\n",
              "          document.querySelector('#df-6d9a389d-dafd-4a30-9f3f-63e69ddfa35d button.colab-df-convert');\n",
              "        buttonEl.style.display =\n",
              "          google.colab.kernel.accessAllowed ? 'block' : 'none';\n",
              "\n",
              "        async function convertToInteractive(key) {\n",
              "          const element = document.querySelector('#df-6d9a389d-dafd-4a30-9f3f-63e69ddfa35d');\n",
              "          const dataTable =\n",
              "            await google.colab.kernel.invokeFunction('convertToInteractive',\n",
              "                                                     [key], {});\n",
              "          if (!dataTable) return;\n",
              "\n",
              "          const docLinkHtml = 'Like what you see? Visit the ' +\n",
              "            '<a target=\"_blank\" href=https://colab.research.google.com/notebooks/data_table.ipynb>data table notebook</a>'\n",
              "            + ' to learn more about interactive tables.';\n",
              "          element.innerHTML = '';\n",
              "          dataTable['output_type'] = 'display_data';\n",
              "          await google.colab.output.renderOutput(dataTable, element);\n",
              "          const docLink = document.createElement('div');\n",
              "          docLink.innerHTML = docLinkHtml;\n",
              "          element.appendChild(docLink);\n",
              "        }\n",
              "      </script>\n",
              "    </div>\n",
              "  </div>\n",
              "  "
            ]
          },
          "metadata": {},
          "execution_count": 231
        }
      ]
    },
    {
      "cell_type": "code",
      "source": [
        "goukei = []\n",
        "new_tuthi = new_df3[\"土の種類\"]\n",
        "new_hiryo = new_df3[\"肥料の量(g)\"]\n",
        "new_tuthi_uni = new_df3[\"土の種類\"].unique()\n",
        "new_hiryo_uni = new_df3[\"肥料の量(g)\"].unique()\n",
        "\n",
        "for i in range(len(df[\"収量(kg)\"])):\n",
        "  if df.loc[i][\"土の種類\"] in new_tuthi_uni and df.loc[i][\"肥料の量(g)\"] in new_hiryo_uni:\n",
        "    goukei.append(float(new_df3[(new_tuthi == df.loc[i][\"土の種類\"]) & (new_hiryo == df.loc[i][\"肥料の量(g)\"])][\"収量(kg)\"]))\n",
        "\n",
        "df[\"群の平均値\"] = pd.Series(goukei)\n",
        "df.iloc[[0,4,7,10,13,16,19,22]]"
      ],
      "metadata": {
        "colab": {
          "base_uri": "https://localhost:8080/",
          "height": 300
        },
        "id": "1JB9sRW09E7w",
        "outputId": "199ba058-ff19-4e70-cf3d-aad26946f3eb"
      },
      "execution_count": 232,
      "outputs": [
        {
          "output_type": "execute_result",
          "data": {
            "text/plain": [
              "   土の種類  肥料の量(g)  収量(kg)      群の平均値\n",
              "0    土A      100    14.5  14.566667\n",
              "4    土A      200    16.1  15.866667\n",
              "7    土A      300    19.0  17.333333\n",
              "10   土A      400    20.2  18.500000\n",
              "13   土B      100    15.3  16.333333\n",
              "16   土B      200    16.9  18.033333\n",
              "19   土B      300    20.5  20.533333\n",
              "22   土B      400    24.9  24.666667"
            ],
            "text/html": [
              "\n",
              "  <div id=\"df-b5a195d8-0203-4da1-8785-2d07646f54cb\">\n",
              "    <div class=\"colab-df-container\">\n",
              "      <div>\n",
              "<style scoped>\n",
              "    .dataframe tbody tr th:only-of-type {\n",
              "        vertical-align: middle;\n",
              "    }\n",
              "\n",
              "    .dataframe tbody tr th {\n",
              "        vertical-align: top;\n",
              "    }\n",
              "\n",
              "    .dataframe thead th {\n",
              "        text-align: right;\n",
              "    }\n",
              "</style>\n",
              "<table border=\"1\" class=\"dataframe\">\n",
              "  <thead>\n",
              "    <tr style=\"text-align: right;\">\n",
              "      <th></th>\n",
              "      <th>土の種類</th>\n",
              "      <th>肥料の量(g)</th>\n",
              "      <th>収量(kg)</th>\n",
              "      <th>群の平均値</th>\n",
              "    </tr>\n",
              "  </thead>\n",
              "  <tbody>\n",
              "    <tr>\n",
              "      <th>0</th>\n",
              "      <td>土A</td>\n",
              "      <td>100</td>\n",
              "      <td>14.5</td>\n",
              "      <td>14.566667</td>\n",
              "    </tr>\n",
              "    <tr>\n",
              "      <th>4</th>\n",
              "      <td>土A</td>\n",
              "      <td>200</td>\n",
              "      <td>16.1</td>\n",
              "      <td>15.866667</td>\n",
              "    </tr>\n",
              "    <tr>\n",
              "      <th>7</th>\n",
              "      <td>土A</td>\n",
              "      <td>300</td>\n",
              "      <td>19.0</td>\n",
              "      <td>17.333333</td>\n",
              "    </tr>\n",
              "    <tr>\n",
              "      <th>10</th>\n",
              "      <td>土A</td>\n",
              "      <td>400</td>\n",
              "      <td>20.2</td>\n",
              "      <td>18.500000</td>\n",
              "    </tr>\n",
              "    <tr>\n",
              "      <th>13</th>\n",
              "      <td>土B</td>\n",
              "      <td>100</td>\n",
              "      <td>15.3</td>\n",
              "      <td>16.333333</td>\n",
              "    </tr>\n",
              "    <tr>\n",
              "      <th>16</th>\n",
              "      <td>土B</td>\n",
              "      <td>200</td>\n",
              "      <td>16.9</td>\n",
              "      <td>18.033333</td>\n",
              "    </tr>\n",
              "    <tr>\n",
              "      <th>19</th>\n",
              "      <td>土B</td>\n",
              "      <td>300</td>\n",
              "      <td>20.5</td>\n",
              "      <td>20.533333</td>\n",
              "    </tr>\n",
              "    <tr>\n",
              "      <th>22</th>\n",
              "      <td>土B</td>\n",
              "      <td>400</td>\n",
              "      <td>24.9</td>\n",
              "      <td>24.666667</td>\n",
              "    </tr>\n",
              "  </tbody>\n",
              "</table>\n",
              "</div>\n",
              "      <button class=\"colab-df-convert\" onclick=\"convertToInteractive('df-b5a195d8-0203-4da1-8785-2d07646f54cb')\"\n",
              "              title=\"Convert this dataframe to an interactive table.\"\n",
              "              style=\"display:none;\">\n",
              "        \n",
              "  <svg xmlns=\"http://www.w3.org/2000/svg\" height=\"24px\"viewBox=\"0 0 24 24\"\n",
              "       width=\"24px\">\n",
              "    <path d=\"M0 0h24v24H0V0z\" fill=\"none\"/>\n",
              "    <path d=\"M18.56 5.44l.94 2.06.94-2.06 2.06-.94-2.06-.94-.94-2.06-.94 2.06-2.06.94zm-11 1L8.5 8.5l.94-2.06 2.06-.94-2.06-.94L8.5 2.5l-.94 2.06-2.06.94zm10 10l.94 2.06.94-2.06 2.06-.94-2.06-.94-.94-2.06-.94 2.06-2.06.94z\"/><path d=\"M17.41 7.96l-1.37-1.37c-.4-.4-.92-.59-1.43-.59-.52 0-1.04.2-1.43.59L10.3 9.45l-7.72 7.72c-.78.78-.78 2.05 0 2.83L4 21.41c.39.39.9.59 1.41.59.51 0 1.02-.2 1.41-.59l7.78-7.78 2.81-2.81c.8-.78.8-2.07 0-2.86zM5.41 20L4 18.59l7.72-7.72 1.47 1.35L5.41 20z\"/>\n",
              "  </svg>\n",
              "      </button>\n",
              "      \n",
              "  <style>\n",
              "    .colab-df-container {\n",
              "      display:flex;\n",
              "      flex-wrap:wrap;\n",
              "      gap: 12px;\n",
              "    }\n",
              "\n",
              "    .colab-df-convert {\n",
              "      background-color: #E8F0FE;\n",
              "      border: none;\n",
              "      border-radius: 50%;\n",
              "      cursor: pointer;\n",
              "      display: none;\n",
              "      fill: #1967D2;\n",
              "      height: 32px;\n",
              "      padding: 0 0 0 0;\n",
              "      width: 32px;\n",
              "    }\n",
              "\n",
              "    .colab-df-convert:hover {\n",
              "      background-color: #E2EBFA;\n",
              "      box-shadow: 0px 1px 2px rgba(60, 64, 67, 0.3), 0px 1px 3px 1px rgba(60, 64, 67, 0.15);\n",
              "      fill: #174EA6;\n",
              "    }\n",
              "\n",
              "    [theme=dark] .colab-df-convert {\n",
              "      background-color: #3B4455;\n",
              "      fill: #D2E3FC;\n",
              "    }\n",
              "\n",
              "    [theme=dark] .colab-df-convert:hover {\n",
              "      background-color: #434B5C;\n",
              "      box-shadow: 0px 1px 3px 1px rgba(0, 0, 0, 0.15);\n",
              "      filter: drop-shadow(0px 1px 2px rgba(0, 0, 0, 0.3));\n",
              "      fill: #FFFFFF;\n",
              "    }\n",
              "  </style>\n",
              "\n",
              "      <script>\n",
              "        const buttonEl =\n",
              "          document.querySelector('#df-b5a195d8-0203-4da1-8785-2d07646f54cb button.colab-df-convert');\n",
              "        buttonEl.style.display =\n",
              "          google.colab.kernel.accessAllowed ? 'block' : 'none';\n",
              "\n",
              "        async function convertToInteractive(key) {\n",
              "          const element = document.querySelector('#df-b5a195d8-0203-4da1-8785-2d07646f54cb');\n",
              "          const dataTable =\n",
              "            await google.colab.kernel.invokeFunction('convertToInteractive',\n",
              "                                                     [key], {});\n",
              "          if (!dataTable) return;\n",
              "\n",
              "          const docLinkHtml = 'Like what you see? Visit the ' +\n",
              "            '<a target=\"_blank\" href=https://colab.research.google.com/notebooks/data_table.ipynb>data table notebook</a>'\n",
              "            + ' to learn more about interactive tables.';\n",
              "          element.innerHTML = '';\n",
              "          dataTable['output_type'] = 'display_data';\n",
              "          await google.colab.output.renderOutput(dataTable, element);\n",
              "          const docLink = document.createElement('div');\n",
              "          docLink.innerHTML = docLinkHtml;\n",
              "          element.appendChild(docLink);\n",
              "        }\n",
              "      </script>\n",
              "    </div>\n",
              "  </div>\n",
              "  "
            ]
          },
          "metadata": {},
          "execution_count": 232
        }
      ]
    },
    {
      "cell_type": "code",
      "source": [
        "df[\"全体平均 - 因子の平均\"] = (df[\"収量(kg)\"].mean() - df[\"群の平均値\"])**2\n",
        "df.iloc[[0,4,7,10,13,16,19,22]]"
      ],
      "metadata": {
        "colab": {
          "base_uri": "https://localhost:8080/",
          "height": 300
        },
        "id": "mEBPLxGZJ3BK",
        "outputId": "c3dd1f1a-e7a0-4451-a329-58779003cd97"
      },
      "execution_count": 233,
      "outputs": [
        {
          "output_type": "execute_result",
          "data": {
            "text/plain": [
              "   土の種類  肥料の量(g)  収量(kg)      群の平均値  全体平均 - 因子の平均\n",
              "0    土A      100    14.5  14.566667     13.413906\n",
              "4    土A      200    16.1  15.866667      5.581406\n",
              "7    土A      300    19.0  17.333333      0.802517\n",
              "10   土A      400    20.2  18.500000      0.073351\n",
              "13   土B      100    15.3  16.333333      3.594184\n",
              "16   土B      200    16.9  18.033333      0.038351\n",
              "19   土B      300    20.5  20.533333      5.309184\n",
              "22   土B      400    24.9  24.666667     41.441406"
            ],
            "text/html": [
              "\n",
              "  <div id=\"df-c801d421-093a-4a3f-a16d-1d7de7545994\">\n",
              "    <div class=\"colab-df-container\">\n",
              "      <div>\n",
              "<style scoped>\n",
              "    .dataframe tbody tr th:only-of-type {\n",
              "        vertical-align: middle;\n",
              "    }\n",
              "\n",
              "    .dataframe tbody tr th {\n",
              "        vertical-align: top;\n",
              "    }\n",
              "\n",
              "    .dataframe thead th {\n",
              "        text-align: right;\n",
              "    }\n",
              "</style>\n",
              "<table border=\"1\" class=\"dataframe\">\n",
              "  <thead>\n",
              "    <tr style=\"text-align: right;\">\n",
              "      <th></th>\n",
              "      <th>土の種類</th>\n",
              "      <th>肥料の量(g)</th>\n",
              "      <th>収量(kg)</th>\n",
              "      <th>群の平均値</th>\n",
              "      <th>全体平均 - 因子の平均</th>\n",
              "    </tr>\n",
              "  </thead>\n",
              "  <tbody>\n",
              "    <tr>\n",
              "      <th>0</th>\n",
              "      <td>土A</td>\n",
              "      <td>100</td>\n",
              "      <td>14.5</td>\n",
              "      <td>14.566667</td>\n",
              "      <td>13.413906</td>\n",
              "    </tr>\n",
              "    <tr>\n",
              "      <th>4</th>\n",
              "      <td>土A</td>\n",
              "      <td>200</td>\n",
              "      <td>16.1</td>\n",
              "      <td>15.866667</td>\n",
              "      <td>5.581406</td>\n",
              "    </tr>\n",
              "    <tr>\n",
              "      <th>7</th>\n",
              "      <td>土A</td>\n",
              "      <td>300</td>\n",
              "      <td>19.0</td>\n",
              "      <td>17.333333</td>\n",
              "      <td>0.802517</td>\n",
              "    </tr>\n",
              "    <tr>\n",
              "      <th>10</th>\n",
              "      <td>土A</td>\n",
              "      <td>400</td>\n",
              "      <td>20.2</td>\n",
              "      <td>18.500000</td>\n",
              "      <td>0.073351</td>\n",
              "    </tr>\n",
              "    <tr>\n",
              "      <th>13</th>\n",
              "      <td>土B</td>\n",
              "      <td>100</td>\n",
              "      <td>15.3</td>\n",
              "      <td>16.333333</td>\n",
              "      <td>3.594184</td>\n",
              "    </tr>\n",
              "    <tr>\n",
              "      <th>16</th>\n",
              "      <td>土B</td>\n",
              "      <td>200</td>\n",
              "      <td>16.9</td>\n",
              "      <td>18.033333</td>\n",
              "      <td>0.038351</td>\n",
              "    </tr>\n",
              "    <tr>\n",
              "      <th>19</th>\n",
              "      <td>土B</td>\n",
              "      <td>300</td>\n",
              "      <td>20.5</td>\n",
              "      <td>20.533333</td>\n",
              "      <td>5.309184</td>\n",
              "    </tr>\n",
              "    <tr>\n",
              "      <th>22</th>\n",
              "      <td>土B</td>\n",
              "      <td>400</td>\n",
              "      <td>24.9</td>\n",
              "      <td>24.666667</td>\n",
              "      <td>41.441406</td>\n",
              "    </tr>\n",
              "  </tbody>\n",
              "</table>\n",
              "</div>\n",
              "      <button class=\"colab-df-convert\" onclick=\"convertToInteractive('df-c801d421-093a-4a3f-a16d-1d7de7545994')\"\n",
              "              title=\"Convert this dataframe to an interactive table.\"\n",
              "              style=\"display:none;\">\n",
              "        \n",
              "  <svg xmlns=\"http://www.w3.org/2000/svg\" height=\"24px\"viewBox=\"0 0 24 24\"\n",
              "       width=\"24px\">\n",
              "    <path d=\"M0 0h24v24H0V0z\" fill=\"none\"/>\n",
              "    <path d=\"M18.56 5.44l.94 2.06.94-2.06 2.06-.94-2.06-.94-.94-2.06-.94 2.06-2.06.94zm-11 1L8.5 8.5l.94-2.06 2.06-.94-2.06-.94L8.5 2.5l-.94 2.06-2.06.94zm10 10l.94 2.06.94-2.06 2.06-.94-2.06-.94-.94-2.06-.94 2.06-2.06.94z\"/><path d=\"M17.41 7.96l-1.37-1.37c-.4-.4-.92-.59-1.43-.59-.52 0-1.04.2-1.43.59L10.3 9.45l-7.72 7.72c-.78.78-.78 2.05 0 2.83L4 21.41c.39.39.9.59 1.41.59.51 0 1.02-.2 1.41-.59l7.78-7.78 2.81-2.81c.8-.78.8-2.07 0-2.86zM5.41 20L4 18.59l7.72-7.72 1.47 1.35L5.41 20z\"/>\n",
              "  </svg>\n",
              "      </button>\n",
              "      \n",
              "  <style>\n",
              "    .colab-df-container {\n",
              "      display:flex;\n",
              "      flex-wrap:wrap;\n",
              "      gap: 12px;\n",
              "    }\n",
              "\n",
              "    .colab-df-convert {\n",
              "      background-color: #E8F0FE;\n",
              "      border: none;\n",
              "      border-radius: 50%;\n",
              "      cursor: pointer;\n",
              "      display: none;\n",
              "      fill: #1967D2;\n",
              "      height: 32px;\n",
              "      padding: 0 0 0 0;\n",
              "      width: 32px;\n",
              "    }\n",
              "\n",
              "    .colab-df-convert:hover {\n",
              "      background-color: #E2EBFA;\n",
              "      box-shadow: 0px 1px 2px rgba(60, 64, 67, 0.3), 0px 1px 3px 1px rgba(60, 64, 67, 0.15);\n",
              "      fill: #174EA6;\n",
              "    }\n",
              "\n",
              "    [theme=dark] .colab-df-convert {\n",
              "      background-color: #3B4455;\n",
              "      fill: #D2E3FC;\n",
              "    }\n",
              "\n",
              "    [theme=dark] .colab-df-convert:hover {\n",
              "      background-color: #434B5C;\n",
              "      box-shadow: 0px 1px 3px 1px rgba(0, 0, 0, 0.15);\n",
              "      filter: drop-shadow(0px 1px 2px rgba(0, 0, 0, 0.3));\n",
              "      fill: #FFFFFF;\n",
              "    }\n",
              "  </style>\n",
              "\n",
              "      <script>\n",
              "        const buttonEl =\n",
              "          document.querySelector('#df-c801d421-093a-4a3f-a16d-1d7de7545994 button.colab-df-convert');\n",
              "        buttonEl.style.display =\n",
              "          google.colab.kernel.accessAllowed ? 'block' : 'none';\n",
              "\n",
              "        async function convertToInteractive(key) {\n",
              "          const element = document.querySelector('#df-c801d421-093a-4a3f-a16d-1d7de7545994');\n",
              "          const dataTable =\n",
              "            await google.colab.kernel.invokeFunction('convertToInteractive',\n",
              "                                                     [key], {});\n",
              "          if (!dataTable) return;\n",
              "\n",
              "          const docLinkHtml = 'Like what you see? Visit the ' +\n",
              "            '<a target=\"_blank\" href=https://colab.research.google.com/notebooks/data_table.ipynb>data table notebook</a>'\n",
              "            + ' to learn more about interactive tables.';\n",
              "          element.innerHTML = '';\n",
              "          dataTable['output_type'] = 'display_data';\n",
              "          await google.colab.output.renderOutput(dataTable, element);\n",
              "          const docLink = document.createElement('div');\n",
              "          docLink.innerHTML = docLinkHtml;\n",
              "          element.appendChild(docLink);\n",
              "        }\n",
              "      </script>\n",
              "    </div>\n",
              "  </div>\n",
              "  "
            ]
          },
          "metadata": {},
          "execution_count": 233
        }
      ]
    },
    {
      "cell_type": "code",
      "source": [
        "round(sum(df[\"全体平均 - 因子の平均\"]),2)"
      ],
      "metadata": {
        "colab": {
          "base_uri": "https://localhost:8080/"
        },
        "id": "6IJLaN7wKQmR",
        "outputId": "5de822a2-9008-4dc3-b3ed-10ea64773ac8"
      },
      "execution_count": 234,
      "outputs": [
        {
          "output_type": "execute_result",
          "data": {
            "text/plain": [
              "210.76"
            ]
          },
          "metadata": {},
          "execution_count": 234
        }
      ]
    },
    {
      "cell_type": "code",
      "source": [
        "hiryo_tuthi = round(sum(df[\"全体平均 - 因子の平均\"]),2)\n",
        "kougosayou =  round(hiryo_tuthi - tuthi - hiryo, 2)\n",
        "kougosayou"
      ],
      "metadata": {
        "colab": {
          "base_uri": "https://localhost:8080/"
        },
        "id": "FtWvJH8gWeaQ",
        "outputId": "473d0891-4a65-451e-ca82-19a40da8e83f"
      },
      "execution_count": 235,
      "outputs": [
        {
          "output_type": "execute_result",
          "data": {
            "text/plain": [
              "17.79"
            ]
          },
          "metadata": {},
          "execution_count": 235
        }
      ]
    },
    {
      "cell_type": "markdown",
      "source": [
        "##### 残差の平方和"
      ],
      "metadata": {
        "id": "lFAAwWZGbXtb"
      }
    },
    {
      "cell_type": "code",
      "source": [
        "zansa = round(zentai - tuthi - hiryo - kougosayou, 2)\n",
        "print(zansa)"
      ],
      "metadata": {
        "colab": {
          "base_uri": "https://localhost:8080/"
        },
        "id": "Qe0a9jBibl4l",
        "outputId": "b7672a45-ef24-4ada-9206-61bc1d90e9ef"
      },
      "execution_count": 236,
      "outputs": [
        {
          "output_type": "stream",
          "name": "stdout",
          "text": [
            "22.91\n"
          ]
        }
      ]
    },
    {
      "cell_type": "markdown",
      "source": [
        "##### 自由度→平均平方"
      ],
      "metadata": {
        "id": "M00u8OB_wyWp"
      }
    },
    {
      "cell_type": "markdown",
      "source": [
        "ここまで分かったことを、分散分析表にまとめていきます。"
      ],
      "metadata": {
        "id": "snYzX1rfw3gR"
      }
    },
    {
      "cell_type": "markdown",
      "source": [
        "| 因子 | 平方和 | 自由度 | 平均平方 | F値 |\n",
        "|:--------:|:--------:|:--------:|:--------:|:--------:|\n",
        "|肥料の量|126.64 | ||\n",
        "|土の種類|66.33 | ||\n",
        "|肥料の量×土の種類|17.79 | ||\n",
        "|残差|22.91 | ||\n",
        "|全体|233.67 | ||"
      ],
      "metadata": {
        "id": "iHDKVbO6xOoQ"
      }
    },
    {
      "cell_type": "markdown",
      "source": [
        "自由度は以下のようにして求めます。\n",
        "\n",
        "* 「肥料の量」：4パターンあるので自由度は 4 ー1＝3\n",
        "* 「土の種類」：2パターンあるので自由度は 2 ー1＝1\n",
        "* 「肥料の量×土の種類」：自由度は 3 × 1＝3\n",
        "* 「残差」：自由度は 23 ー(3＋1＋3)＝16\n",
        "* 「全体」：データ数は24なので自由度は 24 ー1＝23"
      ],
      "metadata": {
        "id": "himJQRxdxVcA"
      }
    },
    {
      "cell_type": "markdown",
      "source": [
        "自由度が求まったので、平均平方も求められます。"
      ],
      "metadata": {
        "id": "EmFjbnPeequZ"
      }
    },
    {
      "cell_type": "markdown",
      "source": [
        "| 因子 | 平方和 | 自由度 | 平均平方 | F値 |\n",
        "|:--------:|:--------:|:--------:|:--------:|:--------:|\n",
        "|肥料の量|126.64 |3 |42.21||\n",
        "|土の種類|66.33 | 1|66.33||\n",
        "|肥料の量×土の種類|17.79 |3 |5.93||\n",
        "|残差|22.91 |16 |1.43||\n",
        "|全体|233.67 |23 |||"
      ],
      "metadata": {
        "id": "7WbhCHvpxblA"
      }
    },
    {
      "cell_type": "markdown",
      "source": [
        "##### 統計量$F$"
      ],
      "metadata": {
        "id": "fL5QJTMxxzvg"
      }
    },
    {
      "cell_type": "markdown",
      "source": [
        "要因の平均平方を「分子」、残差の平均平方を「分母」として、  \n",
        "統計量$F$を算出します。\n",
        "\n",
        "$$\n",
        "F_{肥料} = \\frac{s^2_{肥料}}{s^2_{残差}} = \\frac{42.21}{1.43} = 29.49\n",
        "$$"
      ],
      "metadata": {
        "id": "V-in__NQx22I"
      }
    },
    {
      "cell_type": "markdown",
      "source": [
        "$$\n",
        "F_{土} = \\frac{s^2_{土}}{s^2_{残差}} = \\frac{66.33}{1.43} = 46.33\n",
        "$$\n"
      ],
      "metadata": {
        "id": "1dTmcOk5gh9F"
      }
    },
    {
      "cell_type": "markdown",
      "source": [
        "$$\n",
        "F_{肥料×土} = \\frac{s^2_{肥料×土}}{s^2_{残差}} = \\frac{5.93}{1.43} = 4.14\n",
        "$$"
      ],
      "metadata": {
        "id": "bJGFcwWzg-X_"
      }
    },
    {
      "cell_type": "markdown",
      "source": [
        "| 因子 | 平方和 | 自由度 | 平均平方 | F値 |\n",
        "|:--------:|:--------:|:--------:|:--------:|:--------:|\n",
        "|肥料の量|126.64 |3 |42.21|29.49|\n",
        "|土の種類|66.33 | 1|66.33|46.33|\n",
        "|肥料の量×土の種類|17.79 |3 |5.93|4.14|\n",
        "|残差|22.91 |16 |1.43||\n",
        "|全体|233.67 |23 |||"
      ],
      "metadata": {
        "id": "oTu9QaNYHGkw"
      }
    },
    {
      "cell_type": "markdown",
      "source": [
        "#### ③ 帰無仮説を棄却できるかどうかを確認する"
      ],
      "metadata": {
        "id": "5d_jmR0-hiMm"
      }
    },
    {
      "cell_type": "markdown",
      "source": [
        "有意水準を$5$%に設定します。\n",
        "\n",
        "($p$**値を求めて**) 棄却が必要かどうか決めます。  "
      ],
      "metadata": {
        "id": "RRwWJ8oRhiMm"
      }
    },
    {
      "cell_type": "markdown",
      "source": [
        "##### 肥料の量の$F$検定"
      ],
      "metadata": {
        "id": "PKWuwae8hcnb"
      }
    },
    {
      "cell_type": "code",
      "source": [
        "fk = stats.f(dfn=3 , dfd=16).ppf(0.95)\n",
        "fk"
      ],
      "metadata": {
        "colab": {
          "base_uri": "https://localhost:8080/"
        },
        "id": "Yoxy-NeLhg_j",
        "outputId": "ae508692-bdf9-4a87-a2eb-b86fdcc83e44"
      },
      "execution_count": 237,
      "outputs": [
        {
          "output_type": "execute_result",
          "data": {
            "text/plain": [
              "3.238871517453585"
            ]
          },
          "metadata": {},
          "execution_count": 237
        }
      ]
    },
    {
      "cell_type": "code",
      "source": [
        "nyp = float(Decimal(str(stats.f(dfn=3 , dfd=16).sf(fk)*100)).\n",
        "            quantize(Decimal('0.001'),rounding=ROUND_HALF_UP))\n",
        "print(f\"有意水準：{nyp}%\")    # 右側の棄却域の面積\n",
        "\n",
        "nkp = float(Decimal(str(stats.f(dfn=3 , dfd=16).sf(29.49)*100)).\n",
        "            quantize(Decimal('0.000001'),rounding=ROUND_HALF_UP))\n",
        "print(f\"p値：{nkp}%\")"
      ],
      "metadata": {
        "colab": {
          "base_uri": "https://localhost:8080/"
        },
        "id": "CGxe1nDThokj",
        "outputId": "8b6592a4-7f4f-418e-d15a-0bed02c102c8"
      },
      "execution_count": 238,
      "outputs": [
        {
          "output_type": "stream",
          "name": "stdout",
          "text": [
            "有意水準：5.0%\n",
            "p値：9.4e-05%\n"
          ]
        }
      ]
    },
    {
      "cell_type": "code",
      "source": [
        "print(\"p値が有意水準より小さくなったので、帰無仮説を棄却し、対立仮説を採択する\")\n",
        "print(\"したがって、肥料の量によって収量の平均値に差があるといえる\")"
      ],
      "metadata": {
        "colab": {
          "base_uri": "https://localhost:8080/"
        },
        "id": "k3tUmKVOisgL",
        "outputId": "c75d7cf4-b91a-4e4d-b70f-60aa3dd395be"
      },
      "execution_count": 239,
      "outputs": [
        {
          "output_type": "stream",
          "name": "stdout",
          "text": [
            "p値が有意水準より小さくなったので、帰無仮説を棄却し、対立仮説を採択する\n",
            "したがって、肥料の量によって収量の平均値に差があるといえる\n"
          ]
        }
      ]
    },
    {
      "cell_type": "markdown",
      "source": [
        "##### 土の種類の$F$検定"
      ],
      "metadata": {
        "id": "LWrSauodky83"
      }
    },
    {
      "cell_type": "code",
      "source": [
        "fk = stats.f(dfn=1 , dfd=16).ppf(0.95)\n",
        "fk"
      ],
      "metadata": {
        "colab": {
          "base_uri": "https://localhost:8080/"
        },
        "id": "o9xJp4Duk3sh",
        "outputId": "6248bd6b-1590-4b48-c037-71f111de398f"
      },
      "execution_count": 240,
      "outputs": [
        {
          "output_type": "execute_result",
          "data": {
            "text/plain": [
              "4.493998477666352"
            ]
          },
          "metadata": {},
          "execution_count": 240
        }
      ]
    },
    {
      "cell_type": "code",
      "source": [
        "nyp = float(Decimal(str(stats.f(dfn=3 , dfd=16).sf(fk)*100)).\n",
        "            quantize(Decimal('0.001'),rounding=ROUND_HALF_UP))\n",
        "print(f\"有意水準：{nyp}%\")    # 右側の棄却域の面積\n",
        "\n",
        "nkp = float(Decimal(str(stats.f(dfn=3 , dfd=16).sf(46.33)*100)).\n",
        "            quantize(Decimal('0.000001'),rounding=ROUND_HALF_UP))\n",
        "print(f\"p値：{nkp}%\")"
      ],
      "metadata": {
        "colab": {
          "base_uri": "https://localhost:8080/"
        },
        "id": "eQQmhbZ9k6xg",
        "outputId": "7acc00a2-f074-4449-893a-43a6bb49d6c8"
      },
      "execution_count": 241,
      "outputs": [
        {
          "output_type": "stream",
          "name": "stdout",
          "text": [
            "有意水準：1.805%\n",
            "p値：4e-06%\n"
          ]
        }
      ]
    },
    {
      "cell_type": "code",
      "source": [
        "print(\"p値が有意水準より小さくなったので、帰無仮説を棄却し、対立仮説を採択する\")\n",
        "print(\"したがって、土の種類によって収量の平均値に差があるといえる\")"
      ],
      "metadata": {
        "colab": {
          "base_uri": "https://localhost:8080/"
        },
        "id": "IoQEUmkilBav",
        "outputId": "2ad03814-2ae9-4f99-ce89-2c12bb4c916a"
      },
      "execution_count": 242,
      "outputs": [
        {
          "output_type": "stream",
          "name": "stdout",
          "text": [
            "p値が有意水準より小さくなったので、帰無仮説を棄却し、対立仮説を採択する\n",
            "したがって、土の種類によって収量の平均値に差があるといえる\n"
          ]
        }
      ]
    },
    {
      "cell_type": "markdown",
      "source": [
        "##### 交互作用の$F$検定"
      ],
      "metadata": {
        "id": "vV-kNQnplE7k"
      }
    },
    {
      "cell_type": "markdown",
      "source": [
        "※ 解説をだいぶ省略するので、解説が気になる方は[こちら](https://bellcurve.jp/statistics/course/10090.html)を参照してください。"
      ],
      "metadata": {
        "id": "NQO5e0ihlJy-"
      }
    },
    {
      "cell_type": "code",
      "source": [
        "fk = stats.f(dfn=3 , dfd=16).ppf(0.95)\n",
        "fk"
      ],
      "metadata": {
        "colab": {
          "base_uri": "https://localhost:8080/"
        },
        "id": "-BJHjVKplS1C",
        "outputId": "ea42108e-6ef0-49bb-9a80-afe9428f1ad1"
      },
      "execution_count": 243,
      "outputs": [
        {
          "output_type": "execute_result",
          "data": {
            "text/plain": [
              "3.238871517453585"
            ]
          },
          "metadata": {},
          "execution_count": 243
        }
      ]
    },
    {
      "cell_type": "code",
      "source": [
        "nyp = float(Decimal(str(stats.f(dfn=3 , dfd=16).sf(fk)*100)).\n",
        "            quantize(Decimal('0.001'),rounding=ROUND_HALF_UP))\n",
        "print(f\"有意水準：{nyp}%\")    # 右側の棄却域の面積\n",
        "\n",
        "nkp = float(Decimal(str(stats.f(dfn=3 , dfd=16).sf(4.14)*100)).\n",
        "            quantize(Decimal('0.000001'),rounding=ROUND_HALF_UP))\n",
        "print(f\"p値：{nkp}%\")"
      ],
      "metadata": {
        "colab": {
          "base_uri": "https://localhost:8080/"
        },
        "id": "SyIuxcN8lZE4",
        "outputId": "a4164f04-f78a-47cf-a9c3-bcef10284087"
      },
      "execution_count": 244,
      "outputs": [
        {
          "output_type": "stream",
          "name": "stdout",
          "text": [
            "有意水準：5.0%\n",
            "p値：2.377795%\n"
          ]
        }
      ]
    },
    {
      "cell_type": "code",
      "source": [
        "print(\"p値が有意水準より小さくなったので、帰無仮説を棄却し、対立仮説を採択する\")\n",
        "print(\"したがって、肥料の量によって、土の種類の収量への効果が異なるといえる\")"
      ],
      "metadata": {
        "colab": {
          "base_uri": "https://localhost:8080/"
        },
        "id": "GDRl6on6ldj3",
        "outputId": "d477fcb5-7e7b-44e3-f9cb-ce6be92e7719"
      },
      "execution_count": 245,
      "outputs": [
        {
          "output_type": "stream",
          "name": "stdout",
          "text": [
            "p値が有意水準より小さくなったので、帰無仮説を棄却し、対立仮説を採択する\n",
            "したがって、肥料の量によって、土の種類の収量への効果が異なるといえる\n"
          ]
        }
      ]
    },
    {
      "cell_type": "markdown",
      "source": [
        "### Pythonによる二元配置分散分析"
      ],
      "metadata": {
        "id": "R1UNjIlcy3zm"
      }
    },
    {
      "cell_type": "markdown",
      "source": [
        "と、ここまで結構ステップを踏んできましたが、  \n",
        "Pythonでは簡単に分散分析表を求めることができます。"
      ],
      "metadata": {
        "id": "bqclFzbE79Z9"
      }
    },
    {
      "cell_type": "code",
      "source": [
        "df = pd.read_excel(\"crop_yield.xlsx\")\n",
        "df.iloc[[0,4,7,10,13,16,19,22]]"
      ],
      "metadata": {
        "colab": {
          "base_uri": "https://localhost:8080/",
          "height": 300
        },
        "id": "kaHfsAQ-lrXv",
        "outputId": "f7bce493-e250-4336-8e15-fb6275233157"
      },
      "execution_count": 274,
      "outputs": [
        {
          "output_type": "execute_result",
          "data": {
            "text/plain": [
              "   土の種類  肥料の量(g)  収量(kg)\n",
              "0    土A      100    14.5\n",
              "4    土A      200    16.1\n",
              "7    土A      300    19.0\n",
              "10   土A      400    20.2\n",
              "13   土B      100    15.3\n",
              "16   土B      200    16.9\n",
              "19   土B      300    20.5\n",
              "22   土B      400    24.9"
            ],
            "text/html": [
              "\n",
              "  <div id=\"df-0d52d571-8109-4492-a2f2-4e5d64af2c8b\">\n",
              "    <div class=\"colab-df-container\">\n",
              "      <div>\n",
              "<style scoped>\n",
              "    .dataframe tbody tr th:only-of-type {\n",
              "        vertical-align: middle;\n",
              "    }\n",
              "\n",
              "    .dataframe tbody tr th {\n",
              "        vertical-align: top;\n",
              "    }\n",
              "\n",
              "    .dataframe thead th {\n",
              "        text-align: right;\n",
              "    }\n",
              "</style>\n",
              "<table border=\"1\" class=\"dataframe\">\n",
              "  <thead>\n",
              "    <tr style=\"text-align: right;\">\n",
              "      <th></th>\n",
              "      <th>土の種類</th>\n",
              "      <th>肥料の量(g)</th>\n",
              "      <th>収量(kg)</th>\n",
              "    </tr>\n",
              "  </thead>\n",
              "  <tbody>\n",
              "    <tr>\n",
              "      <th>0</th>\n",
              "      <td>土A</td>\n",
              "      <td>100</td>\n",
              "      <td>14.5</td>\n",
              "    </tr>\n",
              "    <tr>\n",
              "      <th>4</th>\n",
              "      <td>土A</td>\n",
              "      <td>200</td>\n",
              "      <td>16.1</td>\n",
              "    </tr>\n",
              "    <tr>\n",
              "      <th>7</th>\n",
              "      <td>土A</td>\n",
              "      <td>300</td>\n",
              "      <td>19.0</td>\n",
              "    </tr>\n",
              "    <tr>\n",
              "      <th>10</th>\n",
              "      <td>土A</td>\n",
              "      <td>400</td>\n",
              "      <td>20.2</td>\n",
              "    </tr>\n",
              "    <tr>\n",
              "      <th>13</th>\n",
              "      <td>土B</td>\n",
              "      <td>100</td>\n",
              "      <td>15.3</td>\n",
              "    </tr>\n",
              "    <tr>\n",
              "      <th>16</th>\n",
              "      <td>土B</td>\n",
              "      <td>200</td>\n",
              "      <td>16.9</td>\n",
              "    </tr>\n",
              "    <tr>\n",
              "      <th>19</th>\n",
              "      <td>土B</td>\n",
              "      <td>300</td>\n",
              "      <td>20.5</td>\n",
              "    </tr>\n",
              "    <tr>\n",
              "      <th>22</th>\n",
              "      <td>土B</td>\n",
              "      <td>400</td>\n",
              "      <td>24.9</td>\n",
              "    </tr>\n",
              "  </tbody>\n",
              "</table>\n",
              "</div>\n",
              "      <button class=\"colab-df-convert\" onclick=\"convertToInteractive('df-0d52d571-8109-4492-a2f2-4e5d64af2c8b')\"\n",
              "              title=\"Convert this dataframe to an interactive table.\"\n",
              "              style=\"display:none;\">\n",
              "        \n",
              "  <svg xmlns=\"http://www.w3.org/2000/svg\" height=\"24px\"viewBox=\"0 0 24 24\"\n",
              "       width=\"24px\">\n",
              "    <path d=\"M0 0h24v24H0V0z\" fill=\"none\"/>\n",
              "    <path d=\"M18.56 5.44l.94 2.06.94-2.06 2.06-.94-2.06-.94-.94-2.06-.94 2.06-2.06.94zm-11 1L8.5 8.5l.94-2.06 2.06-.94-2.06-.94L8.5 2.5l-.94 2.06-2.06.94zm10 10l.94 2.06.94-2.06 2.06-.94-2.06-.94-.94-2.06-.94 2.06-2.06.94z\"/><path d=\"M17.41 7.96l-1.37-1.37c-.4-.4-.92-.59-1.43-.59-.52 0-1.04.2-1.43.59L10.3 9.45l-7.72 7.72c-.78.78-.78 2.05 0 2.83L4 21.41c.39.39.9.59 1.41.59.51 0 1.02-.2 1.41-.59l7.78-7.78 2.81-2.81c.8-.78.8-2.07 0-2.86zM5.41 20L4 18.59l7.72-7.72 1.47 1.35L5.41 20z\"/>\n",
              "  </svg>\n",
              "      </button>\n",
              "      \n",
              "  <style>\n",
              "    .colab-df-container {\n",
              "      display:flex;\n",
              "      flex-wrap:wrap;\n",
              "      gap: 12px;\n",
              "    }\n",
              "\n",
              "    .colab-df-convert {\n",
              "      background-color: #E8F0FE;\n",
              "      border: none;\n",
              "      border-radius: 50%;\n",
              "      cursor: pointer;\n",
              "      display: none;\n",
              "      fill: #1967D2;\n",
              "      height: 32px;\n",
              "      padding: 0 0 0 0;\n",
              "      width: 32px;\n",
              "    }\n",
              "\n",
              "    .colab-df-convert:hover {\n",
              "      background-color: #E2EBFA;\n",
              "      box-shadow: 0px 1px 2px rgba(60, 64, 67, 0.3), 0px 1px 3px 1px rgba(60, 64, 67, 0.15);\n",
              "      fill: #174EA6;\n",
              "    }\n",
              "\n",
              "    [theme=dark] .colab-df-convert {\n",
              "      background-color: #3B4455;\n",
              "      fill: #D2E3FC;\n",
              "    }\n",
              "\n",
              "    [theme=dark] .colab-df-convert:hover {\n",
              "      background-color: #434B5C;\n",
              "      box-shadow: 0px 1px 3px 1px rgba(0, 0, 0, 0.15);\n",
              "      filter: drop-shadow(0px 1px 2px rgba(0, 0, 0, 0.3));\n",
              "      fill: #FFFFFF;\n",
              "    }\n",
              "  </style>\n",
              "\n",
              "      <script>\n",
              "        const buttonEl =\n",
              "          document.querySelector('#df-0d52d571-8109-4492-a2f2-4e5d64af2c8b button.colab-df-convert');\n",
              "        buttonEl.style.display =\n",
              "          google.colab.kernel.accessAllowed ? 'block' : 'none';\n",
              "\n",
              "        async function convertToInteractive(key) {\n",
              "          const element = document.querySelector('#df-0d52d571-8109-4492-a2f2-4e5d64af2c8b');\n",
              "          const dataTable =\n",
              "            await google.colab.kernel.invokeFunction('convertToInteractive',\n",
              "                                                     [key], {});\n",
              "          if (!dataTable) return;\n",
              "\n",
              "          const docLinkHtml = 'Like what you see? Visit the ' +\n",
              "            '<a target=\"_blank\" href=https://colab.research.google.com/notebooks/data_table.ipynb>data table notebook</a>'\n",
              "            + ' to learn more about interactive tables.';\n",
              "          element.innerHTML = '';\n",
              "          dataTable['output_type'] = 'display_data';\n",
              "          await google.colab.output.renderOutput(dataTable, element);\n",
              "          const docLink = document.createElement('div');\n",
              "          docLink.innerHTML = docLinkHtml;\n",
              "          element.appendChild(docLink);\n",
              "        }\n",
              "      </script>\n",
              "    </div>\n",
              "  </div>\n",
              "  "
            ]
          },
          "metadata": {},
          "execution_count": 274
        }
      ]
    },
    {
      "cell_type": "code",
      "source": [
        "fig = interaction_plot(df[\"肥料の量(g)\"], df[\"土の種類\"], df[\"収量(kg)\"], \n",
        "                       colors = [ '#FF4B00', '#4DC4FF'],ms=14)\n",
        "plt.show()"
      ],
      "metadata": {
        "colab": {
          "base_uri": "https://localhost:8080/",
          "height": 278
        },
        "id": "DCcDtwibpQgz",
        "outputId": "eac3bfe8-9b1a-44c2-c00d-00f3984885a3"
      },
      "execution_count": 247,
      "outputs": [
        {
          "output_type": "display_data",
          "data": {
            "text/plain": [
              "<Figure size 432x288 with 1 Axes>"
            ],
            "image/png": "[encoded data removed]"
          },
          "metadata": {
            "needs_background": "light"
          }
        }
      ]
    },
    {
      "cell_type": "markdown",
      "source": [
        "土Bの方が肥料の量の増加につれて収量の伸びが大きいことから、  \n",
        "「交互作用効果」が確認できます。"
      ],
      "metadata": {
        "id": "iDtMskR1paVb"
      }
    },
    {
      "cell_type": "code",
      "source": [
        "fig = interaction_plot(df[\"土の種類\"], df[\"肥料の量(g)\"], df[\"収量(kg)\"],\n",
        "                       colors = [ '#FF4B00', '#F6AA00', '#03AF7A', '#4DC4FF'], ms=14)\n",
        "plt.show()"
      ],
      "metadata": {
        "colab": {
          "base_uri": "https://localhost:8080/",
          "height": 278
        },
        "id": "gyxTzqZimJHw",
        "outputId": "c09bb883-5615-4580-b27e-47bab6fd0597"
      },
      "execution_count": 248,
      "outputs": [
        {
          "output_type": "display_data",
          "data": {
            "text/plain": [
              "<Figure size 432x288 with 1 Axes>"
            ],
            "image/png": "[encoded data removed]"
          },
          "metadata": {
            "needs_background": "light"
          }
        }
      ]
    },
    {
      "cell_type": "markdown",
      "source": [
        "肥料の量によって土の種類に対する収量の伸びが異なることから、  \n",
        "「交互作用効果」が確認できます。"
      ],
      "metadata": {
        "id": "2LQmqwe7poA7"
      }
    },
    {
      "cell_type": "markdown",
      "source": [
        "ここでPythonで二次元配置分散分析を行いたいところですが、  \n",
        "理想の結果が得られなかったので、省略することにします。"
      ],
      "metadata": {
        "id": "kUU11nrGGTSc"
      }
    }
  ]
}