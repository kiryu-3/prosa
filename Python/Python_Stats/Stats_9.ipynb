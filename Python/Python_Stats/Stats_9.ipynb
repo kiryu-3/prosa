{
  "nbformat": 4,
  "nbformat_minor": 0,
  "metadata": {
    "colab": {
      "provenance": [],
      "toc_visible": true,
      "authorship_tag": "ABX9TyPMo3Ig049ZxGLDCNorXfQL",
      "include_colab_link": true
    },
    "kernelspec": {
      "name": "python3",
      "display_name": "Python 3"
    },
    "language_info": {
      "name": "python"
    }
  },
  "cells": [
    {
      "cell_type": "markdown",
      "metadata": {
        "id": "view-in-github",
        "colab_type": "text"
      },
      "source": [
        "<a href=\"https://colab.research.google.com/github/kiryu-3/Prmn2023_DS/blob/main/Python/Python_Stats/Stats_9.ipynb\" target=\"_parent\"><img src=\"https://colab.research.google.com/assets/colab-badge.svg\" alt=\"Open In Colab\"/></a>"
      ]
    },
    {
      "cell_type": "markdown",
      "source": [
        "# 比率差の検定"
      ],
      "metadata": {
        "id": "TCvR2TobuKbK"
      }
    },
    {
      "cell_type": "code",
      "source": [
        "import numpy as np\n",
        "import pandas as pd\n",
        "import matplotlib.pyplot as plt\n",
        "!pip install japanize-matplotlib\n",
        "import japanize_matplotlib\n",
        "import seaborn as sns\n",
        "from scipy import stats\n",
        "from scipy.stats import norm\n",
        "from scipy.stats import binom\n",
        "from scipy.stats import t\n",
        "from decimal import Decimal, ROUND_HALF_UP, ROUND_HALF_EVEN\n",
        "from statsmodels.stats.proportion import proportions_ztest"
      ],
      "metadata": {
        "id": "g6YNm7rJYhjL"
      },
      "execution_count": null,
      "outputs": []
    },
    {
      "cell_type": "markdown",
      "source": [
        "## 母比率の検定"
      ],
      "metadata": {
        "id": "MDJ5lcGpuQa8"
      }
    },
    {
      "cell_type": "markdown",
      "source": [
        "まずは一変数ですが、母比率の仮説検定を行っていきましょう。  \n",
        "[こちら](https://bit.ly/3k8ioK5)の問題を解いていきます。"
      ],
      "metadata": {
        "id": "feH4-2iCuxaL"
      }
    },
    {
      "cell_type": "markdown",
      "source": [
        "### 仮説検定のステップ（再掲）\n",
        "①帰無仮説と対立仮説を立てる  \n",
        "②帰無仮説のもとで標本観察を行う  \n",
        "③帰無仮説を棄却できるかどうかを確認する"
      ],
      "metadata": {
        "id": "7SW4DH3Cwq2A"
      }
    },
    {
      "cell_type": "markdown",
      "source": [
        "#### ① 帰無仮説と対立仮説を立てる  "
      ],
      "metadata": {
        "id": "GSPUhAnNw1Ev"
      }
    },
    {
      "cell_type": "markdown",
      "source": [
        "帰無仮説と対立仮説は以下のようになります。（**両側検定**になります）\n",
        "\n",
        "帰無仮説$H_0$：「このサイコロの1が出る確率は1/6である」  \n",
        "対立仮説$H_1$：「このサイコロの1が出る確率は1/6ではない」"
      ],
      "metadata": {
        "id": "cLsiZsQLxMnF"
      }
    },
    {
      "cell_type": "markdown",
      "source": [
        "#### ② 帰無仮説のもとで標本観察を行う "
      ],
      "metadata": {
        "id": "7rOEi6wYxl62"
      }
    },
    {
      "cell_type": "markdown",
      "source": [
        "比率 $\\hat{p} (=\\frac{x}{n})$が従う確率分布は二項分布に従います。  \n",
        "また、$n$が大きいときには正規分布で近似することができます。\n",
        "\n",
        "平均$μ=p$  \n",
        "標準偏差$σ=\\sqrt{\\frac{p(1-p)}{n}}$"
      ],
      "metadata": {
        "id": "2LK-pViLxrFu"
      }
    },
    {
      "cell_type": "markdown",
      "source": [
        "母比率$p$とサンプルサイズ$n=12000$を用いて、$z$値を導出します。  \n",
        "（上方・下方の信頼限界を求める方法もあります）"
      ],
      "metadata": {
        "id": "Ugv13uLyz7-R"
      }
    },
    {
      "cell_type": "markdown",
      "source": [
        "#### ③ 帰無仮説を棄却できるかどうかを確認する"
      ],
      "metadata": {
        "id": "08f-T6hz0Rs4"
      }
    },
    {
      "cell_type": "markdown",
      "source": [
        "有意水準を$5$%に設定します。"
      ],
      "metadata": {
        "id": "aD--a35-0ceZ"
      }
    },
    {
      "cell_type": "markdown",
      "source": [
        "②で導出した$z$値と、有意水準に基づく$z$値を比較し、  \n",
        "($p$**値を求めて**) 棄却が必要かどうか決めます。  \n",
        "\n",
        "（標本統計量が信頼区間の中に入っているかで決めることもあります）"
      ],
      "metadata": {
        "id": "rx8HL8ht0mQJ"
      }
    },
    {
      "cell_type": "markdown",
      "source": [
        "### Pythonによる仮説検定"
      ],
      "metadata": {
        "id": "V0rG_s091LfQ"
      }
    },
    {
      "cell_type": "markdown",
      "source": [
        "では母比率の検定を行っていきましょう。"
      ],
      "metadata": {
        "id": "IxJfQRiR1NUH"
      }
    },
    {
      "cell_type": "code",
      "execution_count": 2,
      "metadata": {
        "colab": {
          "base_uri": "https://localhost:8080/"
        },
        "id": "UpmGyTRPGCdt",
        "outputId": "aaaa31f6-33e8-4fd6-d542-133964d92ad5"
      },
      "outputs": [
        {
          "output_type": "stream",
          "name": "stdout",
          "text": [
            "信頼係数：0.95\n",
            "標本の⼤きさ：12000\n",
            "標本の⽐率：0.18333333333333332\n",
            "母集団の比率：0.16666666666666666\n"
          ]
        }
      ],
      "source": [
        "alpha = 0.95\n",
        "print(\"信頼係数：{}\".format(alpha))\n",
        "n = 12000\n",
        "print(\"標本の⼤きさ：{}\".format(n))\n",
        "p = 2200/12000\n",
        "print(\"標本の⽐率：{}\".format(p))\n",
        "μ = 1/6\n",
        "print(\"母集団の比率：{}\".format(μ))"
      ]
    },
    {
      "cell_type": "code",
      "source": [
        "print(\"H0 : μ＝1/6 [帰無仮説]\")  # 1の目が出る確率は1/6\n",
        "print(\"H1 : μ≠1/6 [対⽴仮説]\")  # 1の目が出る確率は1/6ではない"
      ],
      "metadata": {
        "colab": {
          "base_uri": "https://localhost:8080/"
        },
        "id": "eofUtTm3XlGe",
        "outputId": "fa06de32-8bd4-4e02-d7f8-ba60f5fc9289"
      },
      "execution_count": 3,
      "outputs": [
        {
          "output_type": "stream",
          "name": "stdout",
          "text": [
            "H0 : μ＝1/6 [帰無仮説]\n",
            "H1 : μ≠1/6 [対⽴仮説]\n"
          ]
        }
      ]
    },
    {
      "cell_type": "code",
      "source": [
        "# p値を求める方法\n",
        "ny = float(Decimal(str(norm.ppf(0.975,loc=0,scale=1))).quantize(Decimal('0.001'),\n",
        "                                                                rounding=ROUND_HALF_UP))\n",
        "print(f\"有意⽔準のz値:±{ny}\") # 両側検定なのでt値は2つ\n",
        "\n",
        "nk = (p-μ)/np.sqrt(μ*(1-μ)/n)  # 検定統計量をz値にする\n",
        "nk = float(Decimal(str(nk)).quantize(Decimal('0.001'),rounding=ROUND_HALF_UP))\n",
        "print(f\"検定統計量のz値:{nk}\")"
      ],
      "metadata": {
        "colab": {
          "base_uri": "https://localhost:8080/"
        },
        "id": "hbP9Z2z_18XV",
        "outputId": "8e556ad9-4c49-41f8-e6be-377ca0f99c5d"
      },
      "execution_count": 4,
      "outputs": [
        {
          "output_type": "stream",
          "name": "stdout",
          "text": [
            "有意⽔準のz値:±1.96\n",
            "検定統計量のz値:4.899\n"
          ]
        }
      ]
    },
    {
      "cell_type": "code",
      "source": [
        "if nk<0:\n",
        "  nyp = float(Decimal(str(norm.cdf(-ny)*100)).quantize(Decimal('0.001'),\n",
        "                                                       rounding=ROUND_HALF_UP))\n",
        "  print(f\"有意水準：{nyp}%\")    # 左側の棄却域の面積\n",
        "  nkp = float(Decimal(str(norm.cdf(nk)*100)).quantize(Decimal('0.000001'),\n",
        "                                                      rounding=ROUND_HALF_UP))\n",
        "  print(f\"p値：{nkp}%\")\n",
        "elif nk>=0:\n",
        "  nyp = float(Decimal(str(norm.sf(ny)*100)).quantize(Decimal('0.001'),\n",
        "                                                     rounding=ROUND_HALF_UP))\n",
        "  print(f\"有意水準：{nyp}%\")    # 右側の棄却域の面積\n",
        "  nkp = float(Decimal(str(norm.sf(nk)*100)).quantize(Decimal('0.000001'),\n",
        "                                                     rounding=ROUND_HALF_UP))\n",
        "  print(f\"p値：{nkp}%\")"
      ],
      "metadata": {
        "colab": {
          "base_uri": "https://localhost:8080/"
        },
        "id": "gqrCK0Df2ZA8",
        "outputId": "54e1bfc2-a9cf-4b49-c918-2cd0024a00b1"
      },
      "execution_count": 5,
      "outputs": [
        {
          "output_type": "stream",
          "name": "stdout",
          "text": [
            "有意水準：2.5%\n",
            "p値：4.8e-05%\n"
          ]
        }
      ]
    },
    {
      "cell_type": "code",
      "source": [
        "print(\"p値が有意水準より小さくなったので、帰無仮説を棄却し、対立仮説を採択する\")\n",
        "print(\"したがって、このサイコロは1の出やすさに関して歪んでいる\")"
      ],
      "metadata": {
        "colab": {
          "base_uri": "https://localhost:8080/"
        },
        "id": "oUuS06sN4cXy",
        "outputId": "b9edd08f-ea7a-4bae-8637-7e4ef7011ab2"
      },
      "execution_count": 6,
      "outputs": [
        {
          "output_type": "stream",
          "name": "stdout",
          "text": [
            "p値が有意水準より小さくなったので、帰無仮説を棄却し、対立仮説を採択する\n",
            "したがって、このサイコロは1の出やすさに関して歪んでいる\n"
          ]
        }
      ]
    },
    {
      "cell_type": "code",
      "source": [
        "# 信頼区間を求める方法（二項分布）\n",
        "x1,x2 = binom.interval(alpha,n,μ)  # binomでもnormでも可\n",
        "\n",
        "print(\"xの下限値は{}(%)\".format(x1/n*100))  # 実際は標本比率が⺟比率を上回ることは明らかなので不要\n",
        "print(\"xの上限値は{}(%)\".format(x2/n*100))"
      ],
      "metadata": {
        "colab": {
          "base_uri": "https://localhost:8080/"
        },
        "id": "AQpn_HIDYHHq",
        "outputId": "2920e26e-eea4-4d31-f9c7-298a6e13d0de"
      },
      "execution_count": 7,
      "outputs": [
        {
          "output_type": "stream",
          "name": "stdout",
          "text": [
            "xの下限値は16.0(%)\n",
            "xの上限値は17.333333333333336(%)\n"
          ]
        }
      ]
    },
    {
      "cell_type": "code",
      "source": [
        "# 信頼区間を求める方法（正規分布）\n",
        "xs1,xs2 = norm.interval(alpha,loc=μ,scale=np.sqrt((μ*(1-μ))/n))\n",
        "\n",
        "print(\"xの下限値は{}(%)\".format(xs1*100))  # 実際は標本比率が⺟比率を上回ることは明らかなので不要\n",
        "print(\"xの上限値は{}(%)\".format(xs2*100))"
      ],
      "metadata": {
        "colab": {
          "base_uri": "https://localhost:8080/"
        },
        "id": "gtYGdI0q5KEp",
        "outputId": "5d578122-087c-4397-d444-08890b383097"
      },
      "execution_count": 8,
      "outputs": [
        {
          "output_type": "stream",
          "name": "stdout",
          "text": [
            "xの下限値は15.999873378283983(%)\n",
            "xの上限値は17.33345995504935(%)\n"
          ]
        }
      ]
    },
    {
      "cell_type": "code",
      "source": [
        "print(\"棄却域は\\n{}(%) > x , x > {}(%) である。\\n\".format(x1/n*100,x2/n*100))\n",
        "print(\"標本比率{}(%)は、棄却域に⼊るため、\\n帰無仮説を棄却し、対⽴仮説を採択する\".format(p*100))"
      ],
      "metadata": {
        "colab": {
          "base_uri": "https://localhost:8080/"
        },
        "id": "SCayA1KZaBEv",
        "outputId": "220be4fc-c70e-4dd9-c722-bb7112d3bf40"
      },
      "execution_count": 9,
      "outputs": [
        {
          "output_type": "stream",
          "name": "stdout",
          "text": [
            "棄却域は\n",
            "16.0(%) > x , x > 17.333333333333336(%) である。\n",
            "\n",
            "標本比率18.333333333333332(%)は、棄却域に⼊るため、\n",
            "帰無仮説を棄却し、対⽴仮説を採択する\n"
          ]
        }
      ]
    },
    {
      "cell_type": "code",
      "source": [
        "print(\"したがって、このサイコロは1の出やすさに関して歪んでいる\")"
      ],
      "metadata": {
        "colab": {
          "base_uri": "https://localhost:8080/"
        },
        "id": "_B8DUF8EchWI",
        "outputId": "bfed2c79-a327-4bfc-ae75-fb73fcfdc570"
      },
      "execution_count": 10,
      "outputs": [
        {
          "output_type": "stream",
          "name": "stdout",
          "text": [
            "したがって、このサイコロは1の出やすさに関して歪んでいる\n"
          ]
        }
      ]
    },
    {
      "cell_type": "markdown",
      "source": [
        "### 演習"
      ],
      "metadata": {
        "id": "WUeRdjKG6jX9"
      }
    },
    {
      "cell_type": "markdown",
      "source": [
        "[こちら](https://bit.ly/3YBjZHn)の問題もやってみましょう。"
      ],
      "metadata": {
        "id": "CEYQSood6mNt"
      }
    },
    {
      "cell_type": "code",
      "source": [
        "alpha = 0.95\n",
        "print(\"信頼係数：{}\".format(alpha))\n",
        "n = 300\n",
        "print(\"標本の⼤きさ：{}\".format(n))\n",
        "p = 160/300\n",
        "print(\"標本の⽐率：{}\".format(p))\n",
        "μ = 0.5\n",
        "print(\"母集団の比率：{}\".format(μ))"
      ],
      "metadata": {
        "colab": {
          "base_uri": "https://localhost:8080/"
        },
        "id": "9kzye5G06u4E",
        "outputId": "3b773e49-f56c-4906-c75e-4b97ca1f6232"
      },
      "execution_count": 11,
      "outputs": [
        {
          "output_type": "stream",
          "name": "stdout",
          "text": [
            "信頼係数：0.95\n",
            "標本の⼤きさ：300\n",
            "標本の⽐率：0.5333333333333333\n",
            "母集団の比率：0.5\n"
          ]
        }
      ]
    },
    {
      "cell_type": "code",
      "source": [
        "print(\"H0 : μ＝0.5 [帰無仮説]\")  # 「おいしい」と回答する比率は0.5\n",
        "print(\"H1 : μ≠0.5 [対⽴仮説]\")  # 「おいしい」と回答する比率は0.5ではない"
      ],
      "metadata": {
        "id": "xYh6ILUX65SN",
        "colab": {
          "base_uri": "https://localhost:8080/"
        },
        "outputId": "9bae71a4-2c48-4c89-feb6-6b32b3e368a8"
      },
      "execution_count": 12,
      "outputs": [
        {
          "output_type": "stream",
          "name": "stdout",
          "text": [
            "H0 : μ＝0.5 [帰無仮説]\n",
            "H1 : μ≠0.5 [対⽴仮説]\n"
          ]
        }
      ]
    },
    {
      "cell_type": "code",
      "source": [
        "# p値を求める方法\n",
        "ny = float(Decimal(str(norm.ppf(0.975,loc=0,scale=1))).quantize(Decimal('0.001'),\n",
        "                                                                rounding=ROUND_HALF_UP))\n",
        "print(f\"有意⽔準のz値:±{ny}\")  # 両側検定なのでt値は2つ\n",
        "\n",
        "nk = (p-μ)/np.sqrt(μ*(1-μ)/n)  # 検定統計量をz値にする\n",
        "nk = float(Decimal(str(nk)).quantize(Decimal('0.00001')\n",
        ",rounding=ROUND_HALF_UP))\n",
        "print(f\"検定統計量のz値:{nk}\")"
      ],
      "metadata": {
        "colab": {
          "base_uri": "https://localhost:8080/"
        },
        "id": "DR8UKYZp7HUc",
        "outputId": "5e8a440e-4f5f-44a1-e8d1-9039295699a4"
      },
      "execution_count": 13,
      "outputs": [
        {
          "output_type": "stream",
          "name": "stdout",
          "text": [
            "有意⽔準のz値:±1.96\n",
            "検定統計量のz値:1.1547\n"
          ]
        }
      ]
    },
    {
      "cell_type": "code",
      "source": [
        "if nk<0:\n",
        "  nyp = float(Decimal(str(norm.cdf(-ny)*100)).quantize(Decimal('0.001'),\n",
        "                                                       rounding=ROUND_HALF_UP))\n",
        "  print(f\"有意水準：{nyp}%\")  # 左側の棄却域の面積\n",
        "  nkp = float(Decimal(str(norm.cdf(nk)*100)).quantize(Decimal('0.000001'), \n",
        "                                                      rounding=ROUND_HALF_UP))\n",
        "  print(f\"p値：{nkp}%\")\n",
        "elif nk>=0:\n",
        "  nyp = float(Decimal(str(norm.sf(ny)*100)).quantize(Decimal('0.001'),\n",
        "                                                     rounding=ROUND_HALF_UP))\n",
        "  print(f\"有意水準：{nyp}%\")  # 右側の棄却域の面積\n",
        "  nkp = float(Decimal(str(norm.sf(nk)*100)).quantize(Decimal('0.000001'),\n",
        "                                                     rounding=ROUND_HALF_UP))\n",
        "  print(f\"p値：{nkp}%\")"
      ],
      "metadata": {
        "colab": {
          "base_uri": "https://localhost:8080/"
        },
        "id": "wUF1941p7RzF",
        "outputId": "78a23749-7e1c-4405-a110-076c80492cbb"
      },
      "execution_count": 14,
      "outputs": [
        {
          "output_type": "stream",
          "name": "stdout",
          "text": [
            "有意水準：2.5%\n",
            "p値：12.410665%\n"
          ]
        }
      ]
    },
    {
      "cell_type": "code",
      "source": [
        "print(\"p値が有意水準より大きくなったので、帰無仮説を棄却せず、対立仮説を採択しない\")\n",
        "print(\"したがって、「おいしい」と回答する比率は0.5でないとは言えない\")"
      ],
      "metadata": {
        "colab": {
          "base_uri": "https://localhost:8080/"
        },
        "id": "yfV0ynGL7ZUj",
        "outputId": "0d600bda-bc2e-4886-e871-501fc2f5fc7a"
      },
      "execution_count": 15,
      "outputs": [
        {
          "output_type": "stream",
          "name": "stdout",
          "text": [
            "p値が有意水準より大きくなったので、帰無仮説を棄却せず、対立仮説を採択しない\n",
            "したがって、「おいしい」と回答する比率は0.5でないとは言えない\n"
          ]
        }
      ]
    },
    {
      "cell_type": "code",
      "source": [
        "# 信頼区間を求める方法（二項分布）\n",
        "x1,x2 = stats.binom.interval(alpha,n,μ)  # binomでもnormでも可\n",
        "\n",
        "print(\"xの下限値は{}(%)\".format(x1/n*100))  # 実際は標本比率が⺟比率を上回ることは明らかなので不要\n",
        "print(\"xの上限値は{}(%)\".format(x2/n*100))"
      ],
      "metadata": {
        "colab": {
          "base_uri": "https://localhost:8080/"
        },
        "id": "T69iDbpS7vkl",
        "outputId": "7d8a3299-a054-49f3-8fc4-a524a9981120"
      },
      "execution_count": 16,
      "outputs": [
        {
          "output_type": "stream",
          "name": "stdout",
          "text": [
            "xの下限値は44.333333333333336(%)\n",
            "xの上限値は55.666666666666664(%)\n"
          ]
        }
      ]
    },
    {
      "cell_type": "code",
      "source": [
        "# 信頼区間を求める方法（正規分布）\n",
        "xs1,xs2 = stats.norm.interval(alpha,loc=μ,scale=np.sqrt((μ*(1-μ))/n))\n",
        "\n",
        "print(\"xの下限値は{}(%)\".format(xs1*100))  # 実際は標本比率が⺟比率を上回ることは明らかなので不要\n",
        "print(\"xの上限値は{}(%)\".format(xs2*100))"
      ],
      "metadata": {
        "colab": {
          "base_uri": "https://localhost:8080/"
        },
        "id": "eu7gOX4f7x9V",
        "outputId": "89730bf2-c0ba-439b-bfc2-d192f1f0928f"
      },
      "execution_count": 17,
      "outputs": [
        {
          "output_type": "stream",
          "name": "stdout",
          "text": [
            "xの下限値は44.342071329619145(%)\n",
            "xの上限値は55.65792867038086(%)\n"
          ]
        }
      ]
    },
    {
      "cell_type": "code",
      "source": [
        "print(\"棄却域は\\n{}(%) > x , x > {}(%) である。\\n\"\n",
        ".format(x1/n*100,x2/n*100))\n",
        "print(\"標本平均{}(%)は、棄却域に入らないため、\\n帰無仮説を棄却せず、対立仮説を採択しない\".format(p*100))"
      ],
      "metadata": {
        "colab": {
          "base_uri": "https://localhost:8080/"
        },
        "id": "uaKxoF6E713k",
        "outputId": "77321569-9da3-420f-e1a4-2271f207bdea"
      },
      "execution_count": 19,
      "outputs": [
        {
          "output_type": "stream",
          "name": "stdout",
          "text": [
            "棄却域は\n",
            "44.333333333333336(%) > x , x > 55.666666666666664(%) である。\n",
            "\n",
            "標本平均53.333333333333336(%)は、棄却域に入らないため、\n",
            "帰無仮説を棄却せず、対立仮説を採択しない\n"
          ]
        }
      ]
    },
    {
      "cell_type": "code",
      "source": [
        "print(\"したがって、「おいしい」と回答する比率は0.5でないとは言えない\")"
      ],
      "metadata": {
        "colab": {
          "base_uri": "https://localhost:8080/"
        },
        "id": "jgBAGVwi-G6G",
        "outputId": "1c7407f2-c1d3-49aa-aaa7-4a2d147f1888"
      },
      "execution_count": 20,
      "outputs": [
        {
          "output_type": "stream",
          "name": "stdout",
          "text": [
            "したがって、「おいしい」と回答する比率は0.5でないとは言えない\n"
          ]
        }
      ]
    },
    {
      "cell_type": "markdown",
      "source": [
        "## 母比率の差の検定"
      ],
      "metadata": {
        "id": "iC6OcSD__IYO"
      }
    },
    {
      "cell_type": "markdown",
      "source": [
        "2つの標本から得た標本比率を使って  \n",
        "母比率が等しいかを検定していきましょう。\n",
        "\n",
        "[こちら](https://bit.ly/3k8qPoG)の問題を解いていきます。"
      ],
      "metadata": {
        "id": "-M6igB6Z_Jr2"
      }
    },
    {
      "cell_type": "markdown",
      "source": [
        "### 仮説検定のステップ（再掲）\n",
        "①帰無仮説と対立仮説を立てる  \n",
        "②帰無仮説のもとで標本観察を行う  \n",
        "③帰無仮説を棄却できるかどうかを確認する"
      ],
      "metadata": {
        "id": "2qrAgx4sBF3C"
      }
    },
    {
      "cell_type": "markdown",
      "source": [
        "#### ① 帰無仮説と対立仮説を立てる  "
      ],
      "metadata": {
        "id": "9E848Jc3BHxC"
      }
    },
    {
      "cell_type": "markdown",
      "source": [
        "帰無仮説と対立仮説は以下のようになります。（**両側検定**になります）\n",
        "\n",
        "帰無仮説$H_0$：「関東地区と関西地区の視聴率は等しい」  \n",
        "対立仮説$H_1$：「関東地区と関西地区の視聴率は等しくない」"
      ],
      "metadata": {
        "id": "-X7EskPOBHxC"
      }
    },
    {
      "cell_type": "markdown",
      "source": [
        "#### ② 帰無仮説のもとで標本観察を行う "
      ],
      "metadata": {
        "id": "Nndlqp9KCJTt"
      }
    },
    {
      "cell_type": "markdown",
      "source": [
        "それぞれの母集団の比率を$p_1$,$p_2$とした場合を考えます。\n",
        "\n"
      ],
      "metadata": {
        "id": "l6iAscqBCLOm"
      }
    },
    {
      "cell_type": "markdown",
      "source": [
        "比率 $\\hat{p}_1 (=\\frac{x_1}{n_1})$が従う確率分布は二項分布です。  \n",
        "また、$n$が大きいときには正規分布で近似することができます。\n",
        "\n",
        "平均$μ_1=p_1$   \n",
        "標準偏差$σ_1=\\sqrt{\\frac{p_1(1-p_1)}{n_1}}$"
      ],
      "metadata": {
        "id": "GaX9R5DTCJTu"
      }
    },
    {
      "cell_type": "markdown",
      "source": [
        "比率 $\\hat{p}_2 (=\\frac{x_2}{n_2})$が従う確率分布は二項分布です。  \n",
        "また、$n$が大きいときには正規分布で近似することができます。\n",
        "\n",
        "平均$μ_2=p_2$  \n",
        "標準偏差$σ_2=\\sqrt{\\frac{p_2(1-p_2)}{n_2}}$"
      ],
      "metadata": {
        "id": "OXcj_sl9CuJd"
      }
    },
    {
      "cell_type": "markdown",
      "source": [
        "今回求めたいのは $\\hat{p}_1-\\hat{p}_2（\\frac{x_1}{n_1}-\\frac{x_2}{n_2}）$ が従う確率分布です。\n",
        "\n",
        "どのような確率分布に従うのでしょうか？"
      ],
      "metadata": {
        "id": "tvkH35KeC1z2"
      }
    },
    {
      "cell_type": "markdown",
      "source": [
        "比率の差の標本分布の統計量は、それぞれの比率の標本分布の  \n",
        "**平均の差**と**分散の和**になります。\n",
        "\n",
        "（経緯については[こちら](https://bit.ly/3EcZXeh)が参考になると思います）"
      ],
      "metadata": {
        "id": "6zWtkG8hD1_0"
      }
    },
    {
      "cell_type": "markdown",
      "source": [
        "今回は帰無仮説が正しいと仮定しているので、$p_1=p_2$ となります。\n",
        "\n",
        "ここで、母比率を $p_1=p_2=p$ とします。"
      ],
      "metadata": {
        "id": "ZG15wbOTGh8d"
      }
    },
    {
      "cell_type": "markdown",
      "source": [
        "母比率$p$とサンプルサイズ$n_1,n_2$を用いて、$z$値を導出します。  \n",
        "（上方・下方の信頼限界を求める方法もあります）"
      ],
      "metadata": {
        "id": "hzvhXzE0CJTu"
      }
    },
    {
      "cell_type": "markdown",
      "source": [
        "標準偏差 $σ=\\sqrt{\\frac{p_1(1-p_1)}{n_1}+\\frac{p_2(1-p_2)}{n_2}} = \\sqrt{p(1-p)(\\frac{1}{n_1}+\\frac{1}{n_2})}$\n",
        "\n"
      ],
      "metadata": {
        "id": "qIfq0fS8G_MY"
      }
    },
    {
      "cell_type": "markdown",
      "source": [
        "よって \n",
        "$$\n",
        "z=\\frac{\\frac{x_1}{n_1}-\\frac{x_2}{n_2}}{\\sqrt{p(1-p)(\\frac{1}{n_1}+\\frac{1}{n_2})}}\n",
        "$$"
      ],
      "metadata": {
        "id": "_hJ9GX3mIceV"
      }
    },
    {
      "cell_type": "markdown",
      "source": [
        "上の$z$の式には母集団の比率$p$が入っています。  \n",
        "当然未知の値なので、標本比率（$\\hat{p}$とします）を代わりの値として代入します。\n",
        "\n",
        "今回は$8000$世帯中$1540$世帯が視聴していたので、  \n",
        "$1540/8000$ を代入しましょう。"
      ],
      "metadata": {
        "id": "82Dg1S0WJtI5"
      }
    },
    {
      "cell_type": "markdown",
      "source": [
        "よって \n",
        "$$\n",
        "z=\\frac{\\frac{x_1}{n_1}-\\frac{x_2}{n_2}}{\\sqrt{\\hat{p}(1-\\hat{p})(\\frac{1}{n_1}+\\frac{1}{n_2})}}\n",
        "$$"
      ],
      "metadata": {
        "id": "0w59_Z0IKkKI"
      }
    },
    {
      "cell_type": "markdown",
      "source": [
        "上の式に従って$z$値を導出します。"
      ],
      "metadata": {
        "id": "DRa4jncLIq-K"
      }
    },
    {
      "cell_type": "markdown",
      "source": [
        "#### ③ 帰無仮説を棄却できるかどうかを確認する"
      ],
      "metadata": {
        "id": "mjENmjg8FPG5"
      }
    },
    {
      "cell_type": "markdown",
      "source": [
        "有意水準を$5$%に設定します。"
      ],
      "metadata": {
        "id": "jLG8CBWmFPG6"
      }
    },
    {
      "cell_type": "markdown",
      "source": [
        "②で導出した$z$値と、有意水準に基づく$z$値を比較し、  \n",
        "($p$**値を求めて**) 棄却が必要かどうか決めます。  \n"
      ],
      "metadata": {
        "id": "oU-zszluFPG6"
      }
    },
    {
      "cell_type": "markdown",
      "source": [
        "### Pythonによる仮説検定"
      ],
      "metadata": {
        "id": "xvQ63gnxI6_B"
      }
    },
    {
      "cell_type": "markdown",
      "source": [
        "では母比率の差の検定を行っていきましょう。"
      ],
      "metadata": {
        "id": "kLBWsoT7I6_D"
      }
    },
    {
      "cell_type": "code",
      "source": [
        "print(\"H0 : p1＝p2 [帰無仮説]\")  # 関東地区と関西地区の視聴率は等しい\n",
        "print(\"H1 : p1≠p2 [対⽴仮説]\")  # 関東地区と関西地区の視聴率は等しくない"
      ],
      "metadata": {
        "colab": {
          "base_uri": "https://localhost:8080/"
        },
        "id": "NcUJz5GNSj7y",
        "outputId": "d5bc6e20-2549-4d00-f5ab-11a14189b444"
      },
      "execution_count": 21,
      "outputs": [
        {
          "output_type": "stream",
          "name": "stdout",
          "text": [
            "H0 : p1＝p2 [帰無仮説]\n",
            "H1 : p1≠p2 [対⽴仮説]\n"
          ]
        }
      ]
    },
    {
      "cell_type": "code",
      "source": [
        "# ([標本の中で観察できた数],[標本の大きさ],[検定方法（今回は両側検定）])\n",
        "nk , nkp = proportions_ztest([1000,540],[5000,3000],alternative=\"two-sided\")\n",
        "\n",
        "nk = float(Decimal(str(nk)).quantize(Decimal('0.001'),rounding=ROUND_HALF_UP))\n",
        "print(f\"検定統計量のz値:{nk}\")\n",
        "nkp = float(Decimal(str(nkp*100)).quantize(Decimal('0.001'),rounding=ROUND_HALF_UP))\n",
        "print(f\"p値：{nkp}%\")"
      ],
      "metadata": {
        "colab": {
          "base_uri": "https://localhost:8080/"
        },
        "id": "d3VRpkk4Q_mL",
        "outputId": "b1cd7423-40bd-4363-9761-37a967d6f92c"
      },
      "execution_count": 22,
      "outputs": [
        {
          "output_type": "stream",
          "name": "stdout",
          "text": [
            "検定統計量のz値:2.197\n",
            "p値：2.805%\n"
          ]
        }
      ]
    },
    {
      "cell_type": "markdown",
      "source": [
        "* $z$値が$1.96$より大きくなった\n",
        "* $p$値が$5$%より小さくなった\n",
        "\n",
        "この二点から、帰無仮説$H_0$を棄却することができます。  \n",
        "よって、対立仮説$H_1$を採択します。"
      ],
      "metadata": {
        "id": "VzmBDWu4U9ol"
      }
    },
    {
      "cell_type": "code",
      "source": [
        "print(\"したがって、関東地区と関西地区とで視聴率に差がある\")"
      ],
      "metadata": {
        "colab": {
          "base_uri": "https://localhost:8080/"
        },
        "id": "n0QSgoMrXI3H",
        "outputId": "ca66d0bc-17ec-4dca-8323-e6a6d6f33e95"
      },
      "execution_count": 23,
      "outputs": [
        {
          "output_type": "stream",
          "name": "stdout",
          "text": [
            "したがって、関東地区と関西地区とで視聴率に差がある\n"
          ]
        }
      ]
    }
  ]
}