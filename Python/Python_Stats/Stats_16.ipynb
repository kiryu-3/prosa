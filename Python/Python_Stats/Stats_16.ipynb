{
  "nbformat": 4,
  "nbformat_minor": 0,
  "metadata": {
    "colab": {
      "provenance": [],
      "toc_visible": true
    },
    "kernelspec": {
      "name": "python3",
      "display_name": "Python 3"
    },
    "language_info": {
      "name": "python"
    }
  },
  "cells": [
    {
      "cell_type": "markdown",
      "source": [
        "<a href=\"https://colab.research.google.com/github/kiryu-3/Prmn2023_DS/blob/main/Python/Python_Stats/Stats_16.ipynb\" target=\"_parent\"><img src=\"https://colab.research.google.com/assets/colab-badge.svg\" alt=\"Open In Colab\"/></a>"
      ],
      "metadata": {
        "id": "Cyr0qTyEH2a_"
      }
    },
    {
      "cell_type": "markdown",
      "source": [
        "# 分散分析1"
      ],
      "metadata": {
        "id": "F-q5r8DrjvvG"
      }
    },
    {
      "cell_type": "code",
      "source": [
        "import numpy as np\n",
        "import pandas as pd\n",
        "from scipy import stats\n",
        "from statsmodels.formula.api import ols\n",
        "from statsmodels.stats.multicomp import pairwise_tukeyhsd\n",
        "import statsmodels.api as sm\n",
        "from scipy.stats import f\n",
        "from decimal import Decimal, ROUND_HALF_UP, ROUND_HALF_EVEN"
      ],
      "metadata": {
        "id": "U2faXi0YaWkp"
      },
      "execution_count": 36,
      "outputs": []
    },
    {
      "cell_type": "markdown",
      "source": [
        "## 分散分析とは"
      ],
      "metadata": {
        "id": "VkTJp2cHj8Li"
      }
    },
    {
      "cell_type": "markdown",
      "source": [
        "平均値の差の検定において、3群以上からなるデータに対しては  \n",
        "（推定の多重性のため）$t$検定を行うことができません。"
      ],
      "metadata": {
        "id": "3XLKKGYMj-T7"
      }
    },
    {
      "cell_type": "markdown",
      "source": [
        "このような場合にも対応できる、  \n",
        "「分散の比」を考えて平均値の差を検定する分析手法を**分散分析**といいます。"
      ],
      "metadata": {
        "id": "jr8Gz6zup1lG"
      }
    },
    {
      "cell_type": "markdown",
      "source": [
        "### 基本用語"
      ],
      "metadata": {
        "id": "0iNX03x9qWLs"
      }
    },
    {
      "cell_type": "markdown",
      "source": [
        "* **要因**：データの値に変化を与える要素のこと  \n",
        "* **因子**：要因の中でも特に、母平均に差をもたらすと考えられることから注目する要因  \n",
        "* **水準**：1つの要因に含まれる項目のこと\n",
        "* **〇元配置**：データに含まれる因子の数を表すもの"
      ],
      "metadata": {
        "id": "k-fqgwNOrUW8"
      }
    },
    {
      "cell_type": "markdown",
      "source": [
        "### 分散分析の種類"
      ],
      "metadata": {
        "id": "Mo-uGe6lrzFk"
      }
    },
    {
      "cell_type": "markdown",
      "source": [
        "分散分析にはいくつかの種類があります。"
      ],
      "metadata": {
        "id": "8qd7_xP-r2dL"
      }
    },
    {
      "cell_type": "markdown",
      "source": [
        "* 「一元配置分散分析」：1つの因子からデータを分析する方法。  \n",
        "　　　　　　　　　　　因子に含まれる水準間の平均値の差を見ることができる。  \n",
        "\n",
        "* 「二元配置分散分析」：2つの因子からなるデータを分析する方法。  \n",
        "　　　　　　　　　　　各因子における水準間の平均値の差を見ることができる。  \n",
        "　　　　　　　　　　　また、2つの要因が組み合わさることで現れる相乗効果の有無も確認できる。\n",
        "\n",
        "* 「多元配置分散分析」：3つ以上の因子からなるデータを分析する方法。"
      ],
      "metadata": {
        "id": "JswTW1sTr9Fm"
      }
    },
    {
      "cell_type": "markdown",
      "source": [
        "## 一元配置分散分析"
      ],
      "metadata": {
        "id": "T9WmZTUJtLSC"
      }
    },
    {
      "cell_type": "markdown",
      "source": [
        "分散分析では、「全体平均から因子の各水準の平均値がどの程度ズレているか」に注目します。\n",
        "\n"
      ],
      "metadata": {
        "id": "-JtR1lPb42Ol"
      }
    },
    {
      "cell_type": "markdown",
      "source": [
        "ズレは以下の式で表すことができます。\n",
        "\n",
        "「全体平均から各データのズレ」=「全体平均から各群の平均値のズレ」 + 「各群の平均値から各データのズレ」\n",
        "\n",
        "これらのズレを二乗和として求めます。"
      ],
      "metadata": {
        "id": "vMzHe_HlO1Tm"
      }
    },
    {
      "cell_type": "markdown",
      "source": [
        "### 分散分析表"
      ],
      "metadata": {
        "id": "MCo5LCfAQqx0"
      }
    },
    {
      "cell_type": "markdown",
      "source": [
        "分散分析では、**分散分析表**という表を用いて、結果を分かりやすく表現することが多いです。  \n",
        "\n",
        "一元配置分散分析の分散分析表は以下の通りです。"
      ],
      "metadata": {
        "id": "Z0YUzbifQtf0"
      }
    },
    {
      "cell_type": "markdown",
      "source": [
        "| 因子 | 平方和 | 自由度 | 平均平方 | F値 |\n",
        "|:--------:|:--------:|:--------:|:--------:|:--------:|\n",
        "|要因| | ||\n",
        "|残差| | ||\n",
        "|全体| | ||"
      ],
      "metadata": {
        "id": "aSfsR-W7RHaq"
      }
    },
    {
      "cell_type": "markdown",
      "source": [
        "「平方和」の部分にはそれぞれのズレの二乗和が入ります。\n",
        "\n",
        "* 「要因」：全体平均から各群の平均値のズレ\n",
        "* 「残差」：各群の平均値から各データのズレ\n",
        "* 「全体」：全体平均から各データのズレ"
      ],
      "metadata": {
        "id": "09Fg5-gUSNxp"
      }
    },
    {
      "cell_type": "markdown",
      "source": [
        "「自由度」は以下のものが入ります。\n",
        "\n",
        "* 「要因」：因子の水準の個数から1を引いたもの  \n",
        "* 「残差」：全体の自由度から要因の自由度を引いたもの  \n",
        "* 「全体」：すべてのデータの個数から1を引いたもの"
      ],
      "metadata": {
        "id": "CFWHICkdTBW6"
      }
    },
    {
      "cell_type": "markdown",
      "source": [
        "「平均平方」には「平方和」を「自由度」で割ったものが入ります。\n"
      ],
      "metadata": {
        "id": "LmNIn-ZYTk0g"
      }
    },
    {
      "cell_type": "markdown",
      "source": [
        "最後に「要因の平均平方」を分子に、「残差の平均平方」を分母にして  \n",
        "統計量$F$を算出します。"
      ],
      "metadata": {
        "id": "SfZ5Pw3WTumI"
      }
    },
    {
      "cell_type": "markdown",
      "source": [
        "### 演習"
      ],
      "metadata": {
        "id": "7bMA-c8nSycH"
      }
    },
    {
      "cell_type": "markdown",
      "source": [
        "まずは[こちら](https://bit.ly/3Y7Hzup)の例題について、分散分析を行ってみます。"
      ],
      "metadata": {
        "id": "NUx8DgrotOmp"
      }
    },
    {
      "cell_type": "code",
      "source": [
        "df = pd.read_excel(\"movie_theatre.xlsx\")\n",
        "df.iloc[[0,7,14]]"
      ],
      "metadata": {
        "colab": {
          "base_uri": "https://localhost:8080/",
          "height": 143
        },
        "id": "-tuMnRLv0DQ6",
        "outputId": "67c3e8ec-9f0f-4e06-b64e-595eba809812"
      },
      "execution_count": 3,
      "outputs": [
        {
          "output_type": "execute_result",
          "data": {
            "text/plain": [
              "        地方  映画館の数\n",
              "0   北海道・東北     21\n",
              "7       関東     92\n",
              "14      中部      2"
            ],
            "text/html": [
              "\n",
              "  <div id=\"df-095325f0-852e-4420-861f-eb11418c0639\">\n",
              "    <div class=\"colab-df-container\">\n",
              "      <div>\n",
              "<style scoped>\n",
              "    .dataframe tbody tr th:only-of-type {\n",
              "        vertical-align: middle;\n",
              "    }\n",
              "\n",
              "    .dataframe tbody tr th {\n",
              "        vertical-align: top;\n",
              "    }\n",
              "\n",
              "    .dataframe thead th {\n",
              "        text-align: right;\n",
              "    }\n",
              "</style>\n",
              "<table border=\"1\" class=\"dataframe\">\n",
              "  <thead>\n",
              "    <tr style=\"text-align: right;\">\n",
              "      <th></th>\n",
              "      <th>地方</th>\n",
              "      <th>映画館の数</th>\n",
              "    </tr>\n",
              "  </thead>\n",
              "  <tbody>\n",
              "    <tr>\n",
              "      <th>0</th>\n",
              "      <td>北海道・東北</td>\n",
              "      <td>21</td>\n",
              "    </tr>\n",
              "    <tr>\n",
              "      <th>7</th>\n",
              "      <td>関東</td>\n",
              "      <td>92</td>\n",
              "    </tr>\n",
              "    <tr>\n",
              "      <th>14</th>\n",
              "      <td>中部</td>\n",
              "      <td>2</td>\n",
              "    </tr>\n",
              "  </tbody>\n",
              "</table>\n",
              "</div>\n",
              "      <button class=\"colab-df-convert\" onclick=\"convertToInteractive('df-095325f0-852e-4420-861f-eb11418c0639')\"\n",
              "              title=\"Convert this dataframe to an interactive table.\"\n",
              "              style=\"display:none;\">\n",
              "        \n",
              "  <svg xmlns=\"http://www.w3.org/2000/svg\" height=\"24px\"viewBox=\"0 0 24 24\"\n",
              "       width=\"24px\">\n",
              "    <path d=\"M0 0h24v24H0V0z\" fill=\"none\"/>\n",
              "    <path d=\"M18.56 5.44l.94 2.06.94-2.06 2.06-.94-2.06-.94-.94-2.06-.94 2.06-2.06.94zm-11 1L8.5 8.5l.94-2.06 2.06-.94-2.06-.94L8.5 2.5l-.94 2.06-2.06.94zm10 10l.94 2.06.94-2.06 2.06-.94-2.06-.94-.94-2.06-.94 2.06-2.06.94z\"/><path d=\"M17.41 7.96l-1.37-1.37c-.4-.4-.92-.59-1.43-.59-.52 0-1.04.2-1.43.59L10.3 9.45l-7.72 7.72c-.78.78-.78 2.05 0 2.83L4 21.41c.39.39.9.59 1.41.59.51 0 1.02-.2 1.41-.59l7.78-7.78 2.81-2.81c.8-.78.8-2.07 0-2.86zM5.41 20L4 18.59l7.72-7.72 1.47 1.35L5.41 20z\"/>\n",
              "  </svg>\n",
              "      </button>\n",
              "      \n",
              "  <style>\n",
              "    .colab-df-container {\n",
              "      display:flex;\n",
              "      flex-wrap:wrap;\n",
              "      gap: 12px;\n",
              "    }\n",
              "\n",
              "    .colab-df-convert {\n",
              "      background-color: #E8F0FE;\n",
              "      border: none;\n",
              "      border-radius: 50%;\n",
              "      cursor: pointer;\n",
              "      display: none;\n",
              "      fill: #1967D2;\n",
              "      height: 32px;\n",
              "      padding: 0 0 0 0;\n",
              "      width: 32px;\n",
              "    }\n",
              "\n",
              "    .colab-df-convert:hover {\n",
              "      background-color: #E2EBFA;\n",
              "      box-shadow: 0px 1px 2px rgba(60, 64, 67, 0.3), 0px 1px 3px 1px rgba(60, 64, 67, 0.15);\n",
              "      fill: #174EA6;\n",
              "    }\n",
              "\n",
              "    [theme=dark] .colab-df-convert {\n",
              "      background-color: #3B4455;\n",
              "      fill: #D2E3FC;\n",
              "    }\n",
              "\n",
              "    [theme=dark] .colab-df-convert:hover {\n",
              "      background-color: #434B5C;\n",
              "      box-shadow: 0px 1px 3px 1px rgba(0, 0, 0, 0.15);\n",
              "      filter: drop-shadow(0px 1px 2px rgba(0, 0, 0, 0.3));\n",
              "      fill: #FFFFFF;\n",
              "    }\n",
              "  </style>\n",
              "\n",
              "      <script>\n",
              "        const buttonEl =\n",
              "          document.querySelector('#df-095325f0-852e-4420-861f-eb11418c0639 button.colab-df-convert');\n",
              "        buttonEl.style.display =\n",
              "          google.colab.kernel.accessAllowed ? 'block' : 'none';\n",
              "\n",
              "        async function convertToInteractive(key) {\n",
              "          const element = document.querySelector('#df-095325f0-852e-4420-861f-eb11418c0639');\n",
              "          const dataTable =\n",
              "            await google.colab.kernel.invokeFunction('convertToInteractive',\n",
              "                                                     [key], {});\n",
              "          if (!dataTable) return;\n",
              "\n",
              "          const docLinkHtml = 'Like what you see? Visit the ' +\n",
              "            '<a target=\"_blank\" href=https://colab.research.google.com/notebooks/data_table.ipynb>data table notebook</a>'\n",
              "            + ' to learn more about interactive tables.';\n",
              "          element.innerHTML = '';\n",
              "          dataTable['output_type'] = 'display_data';\n",
              "          await google.colab.output.renderOutput(dataTable, element);\n",
              "          const docLink = document.createElement('div');\n",
              "          docLink.innerHTML = docLinkHtml;\n",
              "          element.appendChild(docLink);\n",
              "        }\n",
              "      </script>\n",
              "    </div>\n",
              "  </div>\n",
              "  "
            ]
          },
          "metadata": {},
          "execution_count": 3
        }
      ]
    },
    {
      "cell_type": "markdown",
      "source": [
        "ここで用語について整理します。\n",
        "\n",
        "* **要因**：「映画館の数」に変化を与える要素のこと。  \n",
        "　　　　今回の場合は、「地方」のほかに「人口」など様々なものが考えられる。\n",
        "* **因子**：要因の中でも特に、「映画館の数」の母平均に差をもたらすと考えられる「地方」のこと。  \n",
        "* **水準**：今回の場合は、7つの地方に分けられるので水準数は「7」。\n",
        "* **一元配置**：今回は因子が「地方」のみであるので「一元配置」。"
      ],
      "metadata": {
        "id": "t-Uv3nX_NL0r"
      }
    },
    {
      "cell_type": "markdown",
      "source": [
        "### 仮説検定のステップ（再掲）\n",
        "①帰無仮説と対立仮説を立てる  \n",
        "②帰無仮説のもとで標本観察を行う  \n",
        "③帰無仮説を棄却できるかどうかを確認する"
      ],
      "metadata": {
        "id": "9VK_ziK336Ko"
      }
    },
    {
      "cell_type": "markdown",
      "source": [
        "#### ① 帰無仮説と対立仮説を立てる  "
      ],
      "metadata": {
        "id": "4rEcI4TV39L2"
      }
    },
    {
      "cell_type": "markdown",
      "source": [
        "帰無仮説と対立仮説は以下のようになります。（**片側検定（上側）**になります）  \n",
        "\n",
        "帰無仮説$H_0$：「各地方の映画館数の母平均は等しい」  \n",
        "対立仮説$H_1$：「各地方の映画館数の母平均では差がある」"
      ],
      "metadata": {
        "id": "vs5GR-tL3982"
      }
    },
    {
      "cell_type": "markdown",
      "source": [
        "分散分析では「残差のばらつき」に対して「要因のばらつき」が大きいかどうかを検定するため、  \n",
        "必ず「片側検定」を行います。"
      ],
      "metadata": {
        "id": "BpMKBzWt58cf"
      }
    },
    {
      "cell_type": "markdown",
      "source": [
        "#### ② 帰無仮説のもとで標本観察を行う"
      ],
      "metadata": {
        "id": "TIfAggQa4t3m"
      }
    },
    {
      "cell_type": "markdown",
      "source": [
        "##### 全体平均と各群の平均値の導出"
      ],
      "metadata": {
        "id": "slwhYlYoPR_M"
      }
    },
    {
      "cell_type": "markdown",
      "source": [
        "以下のようになります。"
      ],
      "metadata": {
        "id": "o3K6RePOPjQs"
      }
    },
    {
      "cell_type": "code",
      "source": [
        "df[\"映画館の数\"].mean()"
      ],
      "metadata": {
        "colab": {
          "base_uri": "https://localhost:8080/"
        },
        "id": "M13_7Ys4Pl3l",
        "outputId": "a6977039-692a-4cf3-ddfb-834cd94c7284"
      },
      "execution_count": 4,
      "outputs": [
        {
          "output_type": "execute_result",
          "data": {
            "text/plain": [
              "9.382978723404255"
            ]
          },
          "metadata": {},
          "execution_count": 4
        }
      ]
    },
    {
      "cell_type": "code",
      "source": [
        "new_df = df.groupby(\"地方\").mean()\n",
        "new_df = new_df.reindex(index=df[\"地方\"].unique())\n",
        "new_df = new_df.reset_index()\n",
        "new_df"
      ],
      "metadata": {
        "colab": {
          "base_uri": "https://localhost:8080/",
          "height": 269
        },
        "id": "AtpkrJv96fGD",
        "outputId": "d6df34e4-e6d0-4866-ec66-0a668f6ca805"
      },
      "execution_count": 5,
      "outputs": [
        {
          "output_type": "execute_result",
          "data": {
            "text/plain": [
              "       地方      映画館の数\n",
              "0  北海道・東北   9.285714\n",
              "1      関東  19.000000\n",
              "2      中部   8.111111\n",
              "3      近畿  12.428571\n",
              "4      中国   5.400000\n",
              "5      四国   2.250000\n",
              "6   九州・沖縄   5.875000"
            ],
            "text/html": [
              "\n",
              "  <div id=\"df-df3cfd21-53b4-49f6-ad2a-63bad8c3f8e0\">\n",
              "    <div class=\"colab-df-container\">\n",
              "      <div>\n",
              "<style scoped>\n",
              "    .dataframe tbody tr th:only-of-type {\n",
              "        vertical-align: middle;\n",
              "    }\n",
              "\n",
              "    .dataframe tbody tr th {\n",
              "        vertical-align: top;\n",
              "    }\n",
              "\n",
              "    .dataframe thead th {\n",
              "        text-align: right;\n",
              "    }\n",
              "</style>\n",
              "<table border=\"1\" class=\"dataframe\">\n",
              "  <thead>\n",
              "    <tr style=\"text-align: right;\">\n",
              "      <th></th>\n",
              "      <th>地方</th>\n",
              "      <th>映画館の数</th>\n",
              "    </tr>\n",
              "  </thead>\n",
              "  <tbody>\n",
              "    <tr>\n",
              "      <th>0</th>\n",
              "      <td>北海道・東北</td>\n",
              "      <td>9.285714</td>\n",
              "    </tr>\n",
              "    <tr>\n",
              "      <th>1</th>\n",
              "      <td>関東</td>\n",
              "      <td>19.000000</td>\n",
              "    </tr>\n",
              "    <tr>\n",
              "      <th>2</th>\n",
              "      <td>中部</td>\n",
              "      <td>8.111111</td>\n",
              "    </tr>\n",
              "    <tr>\n",
              "      <th>3</th>\n",
              "      <td>近畿</td>\n",
              "      <td>12.428571</td>\n",
              "    </tr>\n",
              "    <tr>\n",
              "      <th>4</th>\n",
              "      <td>中国</td>\n",
              "      <td>5.400000</td>\n",
              "    </tr>\n",
              "    <tr>\n",
              "      <th>5</th>\n",
              "      <td>四国</td>\n",
              "      <td>2.250000</td>\n",
              "    </tr>\n",
              "    <tr>\n",
              "      <th>6</th>\n",
              "      <td>九州・沖縄</td>\n",
              "      <td>5.875000</td>\n",
              "    </tr>\n",
              "  </tbody>\n",
              "</table>\n",
              "</div>\n",
              "      <button class=\"colab-df-convert\" onclick=\"convertToInteractive('df-df3cfd21-53b4-49f6-ad2a-63bad8c3f8e0')\"\n",
              "              title=\"Convert this dataframe to an interactive table.\"\n",
              "              style=\"display:none;\">\n",
              "        \n",
              "  <svg xmlns=\"http://www.w3.org/2000/svg\" height=\"24px\"viewBox=\"0 0 24 24\"\n",
              "       width=\"24px\">\n",
              "    <path d=\"M0 0h24v24H0V0z\" fill=\"none\"/>\n",
              "    <path d=\"M18.56 5.44l.94 2.06.94-2.06 2.06-.94-2.06-.94-.94-2.06-.94 2.06-2.06.94zm-11 1L8.5 8.5l.94-2.06 2.06-.94-2.06-.94L8.5 2.5l-.94 2.06-2.06.94zm10 10l.94 2.06.94-2.06 2.06-.94-2.06-.94-.94-2.06-.94 2.06-2.06.94z\"/><path d=\"M17.41 7.96l-1.37-1.37c-.4-.4-.92-.59-1.43-.59-.52 0-1.04.2-1.43.59L10.3 9.45l-7.72 7.72c-.78.78-.78 2.05 0 2.83L4 21.41c.39.39.9.59 1.41.59.51 0 1.02-.2 1.41-.59l7.78-7.78 2.81-2.81c.8-.78.8-2.07 0-2.86zM5.41 20L4 18.59l7.72-7.72 1.47 1.35L5.41 20z\"/>\n",
              "  </svg>\n",
              "      </button>\n",
              "      \n",
              "  <style>\n",
              "    .colab-df-container {\n",
              "      display:flex;\n",
              "      flex-wrap:wrap;\n",
              "      gap: 12px;\n",
              "    }\n",
              "\n",
              "    .colab-df-convert {\n",
              "      background-color: #E8F0FE;\n",
              "      border: none;\n",
              "      border-radius: 50%;\n",
              "      cursor: pointer;\n",
              "      display: none;\n",
              "      fill: #1967D2;\n",
              "      height: 32px;\n",
              "      padding: 0 0 0 0;\n",
              "      width: 32px;\n",
              "    }\n",
              "\n",
              "    .colab-df-convert:hover {\n",
              "      background-color: #E2EBFA;\n",
              "      box-shadow: 0px 1px 2px rgba(60, 64, 67, 0.3), 0px 1px 3px 1px rgba(60, 64, 67, 0.15);\n",
              "      fill: #174EA6;\n",
              "    }\n",
              "\n",
              "    [theme=dark] .colab-df-convert {\n",
              "      background-color: #3B4455;\n",
              "      fill: #D2E3FC;\n",
              "    }\n",
              "\n",
              "    [theme=dark] .colab-df-convert:hover {\n",
              "      background-color: #434B5C;\n",
              "      box-shadow: 0px 1px 3px 1px rgba(0, 0, 0, 0.15);\n",
              "      filter: drop-shadow(0px 1px 2px rgba(0, 0, 0, 0.3));\n",
              "      fill: #FFFFFF;\n",
              "    }\n",
              "  </style>\n",
              "\n",
              "      <script>\n",
              "        const buttonEl =\n",
              "          document.querySelector('#df-df3cfd21-53b4-49f6-ad2a-63bad8c3f8e0 button.colab-df-convert');\n",
              "        buttonEl.style.display =\n",
              "          google.colab.kernel.accessAllowed ? 'block' : 'none';\n",
              "\n",
              "        async function convertToInteractive(key) {\n",
              "          const element = document.querySelector('#df-df3cfd21-53b4-49f6-ad2a-63bad8c3f8e0');\n",
              "          const dataTable =\n",
              "            await google.colab.kernel.invokeFunction('convertToInteractive',\n",
              "                                                     [key], {});\n",
              "          if (!dataTable) return;\n",
              "\n",
              "          const docLinkHtml = 'Like what you see? Visit the ' +\n",
              "            '<a target=\"_blank\" href=https://colab.research.google.com/notebooks/data_table.ipynb>data table notebook</a>'\n",
              "            + ' to learn more about interactive tables.';\n",
              "          element.innerHTML = '';\n",
              "          dataTable['output_type'] = 'display_data';\n",
              "          await google.colab.output.renderOutput(dataTable, element);\n",
              "          const docLink = document.createElement('div');\n",
              "          docLink.innerHTML = docLinkHtml;\n",
              "          element.appendChild(docLink);\n",
              "        }\n",
              "      </script>\n",
              "    </div>\n",
              "  </div>\n",
              "  "
            ]
          },
          "metadata": {},
          "execution_count": 5
        }
      ]
    },
    {
      "cell_type": "markdown",
      "source": [
        "##### 全体平均から各データのズレ"
      ],
      "metadata": {
        "id": "lxr3sDNsPvft"
      }
    },
    {
      "cell_type": "markdown",
      "source": [
        "このズレの二乗和を求めます。"
      ],
      "metadata": {
        "id": "UoheX6FDP1_b"
      }
    },
    {
      "cell_type": "code",
      "source": [
        "df[\"全体平均 - 各データ\"] = (df[\"映画館の数\"] - df[\"映画館の数\"].mean())**2\n",
        "df.iloc[[0,7,14]]"
      ],
      "metadata": {
        "colab": {
          "base_uri": "https://localhost:8080/",
          "height": 143
        },
        "id": "KtTXmji2K5OR",
        "outputId": "277cc726-ebb4-4346-a19c-94d682c7372c"
      },
      "execution_count": 6,
      "outputs": [
        {
          "output_type": "execute_result",
          "data": {
            "text/plain": [
              "        地方  映画館の数  全体平均 - 各データ\n",
              "0   北海道・東北     21   134.955183\n",
              "7       関東     92  6825.572205\n",
              "14      中部      2    54.508375"
            ],
            "text/html": [
              "\n",
              "  <div id=\"df-c9abc0de-94d1-42f0-b43f-4802e013c900\">\n",
              "    <div class=\"colab-df-container\">\n",
              "      <div>\n",
              "<style scoped>\n",
              "    .dataframe tbody tr th:only-of-type {\n",
              "        vertical-align: middle;\n",
              "    }\n",
              "\n",
              "    .dataframe tbody tr th {\n",
              "        vertical-align: top;\n",
              "    }\n",
              "\n",
              "    .dataframe thead th {\n",
              "        text-align: right;\n",
              "    }\n",
              "</style>\n",
              "<table border=\"1\" class=\"dataframe\">\n",
              "  <thead>\n",
              "    <tr style=\"text-align: right;\">\n",
              "      <th></th>\n",
              "      <th>地方</th>\n",
              "      <th>映画館の数</th>\n",
              "      <th>全体平均 - 各データ</th>\n",
              "    </tr>\n",
              "  </thead>\n",
              "  <tbody>\n",
              "    <tr>\n",
              "      <th>0</th>\n",
              "      <td>北海道・東北</td>\n",
              "      <td>21</td>\n",
              "      <td>134.955183</td>\n",
              "    </tr>\n",
              "    <tr>\n",
              "      <th>7</th>\n",
              "      <td>関東</td>\n",
              "      <td>92</td>\n",
              "      <td>6825.572205</td>\n",
              "    </tr>\n",
              "    <tr>\n",
              "      <th>14</th>\n",
              "      <td>中部</td>\n",
              "      <td>2</td>\n",
              "      <td>54.508375</td>\n",
              "    </tr>\n",
              "  </tbody>\n",
              "</table>\n",
              "</div>\n",
              "      <button class=\"colab-df-convert\" onclick=\"convertToInteractive('df-c9abc0de-94d1-42f0-b43f-4802e013c900')\"\n",
              "              title=\"Convert this dataframe to an interactive table.\"\n",
              "              style=\"display:none;\">\n",
              "        \n",
              "  <svg xmlns=\"http://www.w3.org/2000/svg\" height=\"24px\"viewBox=\"0 0 24 24\"\n",
              "       width=\"24px\">\n",
              "    <path d=\"M0 0h24v24H0V0z\" fill=\"none\"/>\n",
              "    <path d=\"M18.56 5.44l.94 2.06.94-2.06 2.06-.94-2.06-.94-.94-2.06-.94 2.06-2.06.94zm-11 1L8.5 8.5l.94-2.06 2.06-.94-2.06-.94L8.5 2.5l-.94 2.06-2.06.94zm10 10l.94 2.06.94-2.06 2.06-.94-2.06-.94-.94-2.06-.94 2.06-2.06.94z\"/><path d=\"M17.41 7.96l-1.37-1.37c-.4-.4-.92-.59-1.43-.59-.52 0-1.04.2-1.43.59L10.3 9.45l-7.72 7.72c-.78.78-.78 2.05 0 2.83L4 21.41c.39.39.9.59 1.41.59.51 0 1.02-.2 1.41-.59l7.78-7.78 2.81-2.81c.8-.78.8-2.07 0-2.86zM5.41 20L4 18.59l7.72-7.72 1.47 1.35L5.41 20z\"/>\n",
              "  </svg>\n",
              "      </button>\n",
              "      \n",
              "  <style>\n",
              "    .colab-df-container {\n",
              "      display:flex;\n",
              "      flex-wrap:wrap;\n",
              "      gap: 12px;\n",
              "    }\n",
              "\n",
              "    .colab-df-convert {\n",
              "      background-color: #E8F0FE;\n",
              "      border: none;\n",
              "      border-radius: 50%;\n",
              "      cursor: pointer;\n",
              "      display: none;\n",
              "      fill: #1967D2;\n",
              "      height: 32px;\n",
              "      padding: 0 0 0 0;\n",
              "      width: 32px;\n",
              "    }\n",
              "\n",
              "    .colab-df-convert:hover {\n",
              "      background-color: #E2EBFA;\n",
              "      box-shadow: 0px 1px 2px rgba(60, 64, 67, 0.3), 0px 1px 3px 1px rgba(60, 64, 67, 0.15);\n",
              "      fill: #174EA6;\n",
              "    }\n",
              "\n",
              "    [theme=dark] .colab-df-convert {\n",
              "      background-color: #3B4455;\n",
              "      fill: #D2E3FC;\n",
              "    }\n",
              "\n",
              "    [theme=dark] .colab-df-convert:hover {\n",
              "      background-color: #434B5C;\n",
              "      box-shadow: 0px 1px 3px 1px rgba(0, 0, 0, 0.15);\n",
              "      filter: drop-shadow(0px 1px 2px rgba(0, 0, 0, 0.3));\n",
              "      fill: #FFFFFF;\n",
              "    }\n",
              "  </style>\n",
              "\n",
              "      <script>\n",
              "        const buttonEl =\n",
              "          document.querySelector('#df-c9abc0de-94d1-42f0-b43f-4802e013c900 button.colab-df-convert');\n",
              "        buttonEl.style.display =\n",
              "          google.colab.kernel.accessAllowed ? 'block' : 'none';\n",
              "\n",
              "        async function convertToInteractive(key) {\n",
              "          const element = document.querySelector('#df-c9abc0de-94d1-42f0-b43f-4802e013c900');\n",
              "          const dataTable =\n",
              "            await google.colab.kernel.invokeFunction('convertToInteractive',\n",
              "                                                     [key], {});\n",
              "          if (!dataTable) return;\n",
              "\n",
              "          const docLinkHtml = 'Like what you see? Visit the ' +\n",
              "            '<a target=\"_blank\" href=https://colab.research.google.com/notebooks/data_table.ipynb>data table notebook</a>'\n",
              "            + ' to learn more about interactive tables.';\n",
              "          element.innerHTML = '';\n",
              "          dataTable['output_type'] = 'display_data';\n",
              "          await google.colab.output.renderOutput(dataTable, element);\n",
              "          const docLink = document.createElement('div');\n",
              "          docLink.innerHTML = docLinkHtml;\n",
              "          element.appendChild(docLink);\n",
              "        }\n",
              "      </script>\n",
              "    </div>\n",
              "  </div>\n",
              "  "
            ]
          },
          "metadata": {},
          "execution_count": 6
        }
      ]
    },
    {
      "cell_type": "code",
      "source": [
        "round(sum(df[\"全体平均 - 各データ\"]),2)"
      ],
      "metadata": {
        "colab": {
          "base_uri": "https://localhost:8080/"
        },
        "id": "ch41j_axLm3Y",
        "outputId": "d4f845b9-f54e-4954-c492-0d5a35e6f9ba"
      },
      "execution_count": 7,
      "outputs": [
        {
          "output_type": "execute_result",
          "data": {
            "text/plain": [
              "9085.11"
            ]
          },
          "metadata": {},
          "execution_count": 7
        }
      ]
    },
    {
      "cell_type": "markdown",
      "source": [
        "##### 全体平均から各群の平均値のズレ"
      ],
      "metadata": {
        "id": "Y-7Bbt8hQC50"
      }
    },
    {
      "cell_type": "markdown",
      "source": [
        "このズレの二乗和を求めます。"
      ],
      "metadata": {
        "id": "y4yS2CYrQIYl"
      }
    },
    {
      "cell_type": "code",
      "source": [
        "goukei = []\n",
        "for i in range(len(df[\"映画館の数\"])):\n",
        "  if df.loc[i][\"地方\"] in new_df[\"地方\"].unique():\n",
        "    goukei.append(float(new_df[new_df[\"地方\"]  == df.loc[i][\"地方\"]][\"映画館の数\"]))\n",
        "\n",
        "df[\"各群の平均値\"] = pd.Series(goukei)\n",
        "df.iloc[[0,7,14]]"
      ],
      "metadata": {
        "colab": {
          "base_uri": "https://localhost:8080/",
          "height": 143
        },
        "id": "1JB9sRW09E7w",
        "outputId": "db15d230-4302-494e-a0bf-9cfc78a25f37"
      },
      "execution_count": 8,
      "outputs": [
        {
          "output_type": "execute_result",
          "data": {
            "text/plain": [
              "        地方  映画館の数  全体平均 - 各データ     各群の平均値\n",
              "0   北海道・東北     21   134.955183   9.285714\n",
              "7       関東     92  6825.572205  19.000000\n",
              "14      中部      2    54.508375   8.111111"
            ],
            "text/html": [
              "\n",
              "  <div id=\"df-6fe2dc82-1e1d-435e-930d-28b72668cf83\">\n",
              "    <div class=\"colab-df-container\">\n",
              "      <div>\n",
              "<style scoped>\n",
              "    .dataframe tbody tr th:only-of-type {\n",
              "        vertical-align: middle;\n",
              "    }\n",
              "\n",
              "    .dataframe tbody tr th {\n",
              "        vertical-align: top;\n",
              "    }\n",
              "\n",
              "    .dataframe thead th {\n",
              "        text-align: right;\n",
              "    }\n",
              "</style>\n",
              "<table border=\"1\" class=\"dataframe\">\n",
              "  <thead>\n",
              "    <tr style=\"text-align: right;\">\n",
              "      <th></th>\n",
              "      <th>地方</th>\n",
              "      <th>映画館の数</th>\n",
              "      <th>全体平均 - 各データ</th>\n",
              "      <th>各群の平均値</th>\n",
              "    </tr>\n",
              "  </thead>\n",
              "  <tbody>\n",
              "    <tr>\n",
              "      <th>0</th>\n",
              "      <td>北海道・東北</td>\n",
              "      <td>21</td>\n",
              "      <td>134.955183</td>\n",
              "      <td>9.285714</td>\n",
              "    </tr>\n",
              "    <tr>\n",
              "      <th>7</th>\n",
              "      <td>関東</td>\n",
              "      <td>92</td>\n",
              "      <td>6825.572205</td>\n",
              "      <td>19.000000</td>\n",
              "    </tr>\n",
              "    <tr>\n",
              "      <th>14</th>\n",
              "      <td>中部</td>\n",
              "      <td>2</td>\n",
              "      <td>54.508375</td>\n",
              "      <td>8.111111</td>\n",
              "    </tr>\n",
              "  </tbody>\n",
              "</table>\n",
              "</div>\n",
              "      <button class=\"colab-df-convert\" onclick=\"convertToInteractive('df-6fe2dc82-1e1d-435e-930d-28b72668cf83')\"\n",
              "              title=\"Convert this dataframe to an interactive table.\"\n",
              "              style=\"display:none;\">\n",
              "        \n",
              "  <svg xmlns=\"http://www.w3.org/2000/svg\" height=\"24px\"viewBox=\"0 0 24 24\"\n",
              "       width=\"24px\">\n",
              "    <path d=\"M0 0h24v24H0V0z\" fill=\"none\"/>\n",
              "    <path d=\"M18.56 5.44l.94 2.06.94-2.06 2.06-.94-2.06-.94-.94-2.06-.94 2.06-2.06.94zm-11 1L8.5 8.5l.94-2.06 2.06-.94-2.06-.94L8.5 2.5l-.94 2.06-2.06.94zm10 10l.94 2.06.94-2.06 2.06-.94-2.06-.94-.94-2.06-.94 2.06-2.06.94z\"/><path d=\"M17.41 7.96l-1.37-1.37c-.4-.4-.92-.59-1.43-.59-.52 0-1.04.2-1.43.59L10.3 9.45l-7.72 7.72c-.78.78-.78 2.05 0 2.83L4 21.41c.39.39.9.59 1.41.59.51 0 1.02-.2 1.41-.59l7.78-7.78 2.81-2.81c.8-.78.8-2.07 0-2.86zM5.41 20L4 18.59l7.72-7.72 1.47 1.35L5.41 20z\"/>\n",
              "  </svg>\n",
              "      </button>\n",
              "      \n",
              "  <style>\n",
              "    .colab-df-container {\n",
              "      display:flex;\n",
              "      flex-wrap:wrap;\n",
              "      gap: 12px;\n",
              "    }\n",
              "\n",
              "    .colab-df-convert {\n",
              "      background-color: #E8F0FE;\n",
              "      border: none;\n",
              "      border-radius: 50%;\n",
              "      cursor: pointer;\n",
              "      display: none;\n",
              "      fill: #1967D2;\n",
              "      height: 32px;\n",
              "      padding: 0 0 0 0;\n",
              "      width: 32px;\n",
              "    }\n",
              "\n",
              "    .colab-df-convert:hover {\n",
              "      background-color: #E2EBFA;\n",
              "      box-shadow: 0px 1px 2px rgba(60, 64, 67, 0.3), 0px 1px 3px 1px rgba(60, 64, 67, 0.15);\n",
              "      fill: #174EA6;\n",
              "    }\n",
              "\n",
              "    [theme=dark] .colab-df-convert {\n",
              "      background-color: #3B4455;\n",
              "      fill: #D2E3FC;\n",
              "    }\n",
              "\n",
              "    [theme=dark] .colab-df-convert:hover {\n",
              "      background-color: #434B5C;\n",
              "      box-shadow: 0px 1px 3px 1px rgba(0, 0, 0, 0.15);\n",
              "      filter: drop-shadow(0px 1px 2px rgba(0, 0, 0, 0.3));\n",
              "      fill: #FFFFFF;\n",
              "    }\n",
              "  </style>\n",
              "\n",
              "      <script>\n",
              "        const buttonEl =\n",
              "          document.querySelector('#df-6fe2dc82-1e1d-435e-930d-28b72668cf83 button.colab-df-convert');\n",
              "        buttonEl.style.display =\n",
              "          google.colab.kernel.accessAllowed ? 'block' : 'none';\n",
              "\n",
              "        async function convertToInteractive(key) {\n",
              "          const element = document.querySelector('#df-6fe2dc82-1e1d-435e-930d-28b72668cf83');\n",
              "          const dataTable =\n",
              "            await google.colab.kernel.invokeFunction('convertToInteractive',\n",
              "                                                     [key], {});\n",
              "          if (!dataTable) return;\n",
              "\n",
              "          const docLinkHtml = 'Like what you see? Visit the ' +\n",
              "            '<a target=\"_blank\" href=https://colab.research.google.com/notebooks/data_table.ipynb>data table notebook</a>'\n",
              "            + ' to learn more about interactive tables.';\n",
              "          element.innerHTML = '';\n",
              "          dataTable['output_type'] = 'display_data';\n",
              "          await google.colab.output.renderOutput(dataTable, element);\n",
              "          const docLink = document.createElement('div');\n",
              "          docLink.innerHTML = docLinkHtml;\n",
              "          element.appendChild(docLink);\n",
              "        }\n",
              "      </script>\n",
              "    </div>\n",
              "  </div>\n",
              "  "
            ]
          },
          "metadata": {},
          "execution_count": 8
        }
      ]
    },
    {
      "cell_type": "code",
      "source": [
        "df[\"全体平均 - 各地方の平均\"] = (df[\"映画館の数\"].mean() - df[\"各群の平均値\"])**2\n",
        "df.iloc[[0,7,14]]"
      ],
      "metadata": {
        "colab": {
          "base_uri": "https://localhost:8080/",
          "height": 143
        },
        "id": "mEBPLxGZJ3BK",
        "outputId": "b3542157-0b7f-4821-f964-01efb643e72a"
      },
      "execution_count": 9,
      "outputs": [
        {
          "output_type": "execute_result",
          "data": {
            "text/plain": [
              "        地方  映画館の数  全体平均 - 各データ     各群の平均値  全体平均 - 各地方の平均\n",
              "0   北海道・東北     21   134.955183   9.285714       0.009460\n",
              "7       関東     92  6825.572205  19.000000      92.487098\n",
              "14      中部      2    54.508375   8.111111       1.617647"
            ],
            "text/html": [
              "\n",
              "  <div id=\"df-dfa72350-c4f4-422c-bbf8-161633cd4622\">\n",
              "    <div class=\"colab-df-container\">\n",
              "      <div>\n",
              "<style scoped>\n",
              "    .dataframe tbody tr th:only-of-type {\n",
              "        vertical-align: middle;\n",
              "    }\n",
              "\n",
              "    .dataframe tbody tr th {\n",
              "        vertical-align: top;\n",
              "    }\n",
              "\n",
              "    .dataframe thead th {\n",
              "        text-align: right;\n",
              "    }\n",
              "</style>\n",
              "<table border=\"1\" class=\"dataframe\">\n",
              "  <thead>\n",
              "    <tr style=\"text-align: right;\">\n",
              "      <th></th>\n",
              "      <th>地方</th>\n",
              "      <th>映画館の数</th>\n",
              "      <th>全体平均 - 各データ</th>\n",
              "      <th>各群の平均値</th>\n",
              "      <th>全体平均 - 各地方の平均</th>\n",
              "    </tr>\n",
              "  </thead>\n",
              "  <tbody>\n",
              "    <tr>\n",
              "      <th>0</th>\n",
              "      <td>北海道・東北</td>\n",
              "      <td>21</td>\n",
              "      <td>134.955183</td>\n",
              "      <td>9.285714</td>\n",
              "      <td>0.009460</td>\n",
              "    </tr>\n",
              "    <tr>\n",
              "      <th>7</th>\n",
              "      <td>関東</td>\n",
              "      <td>92</td>\n",
              "      <td>6825.572205</td>\n",
              "      <td>19.000000</td>\n",
              "      <td>92.487098</td>\n",
              "    </tr>\n",
              "    <tr>\n",
              "      <th>14</th>\n",
              "      <td>中部</td>\n",
              "      <td>2</td>\n",
              "      <td>54.508375</td>\n",
              "      <td>8.111111</td>\n",
              "      <td>1.617647</td>\n",
              "    </tr>\n",
              "  </tbody>\n",
              "</table>\n",
              "</div>\n",
              "      <button class=\"colab-df-convert\" onclick=\"convertToInteractive('df-dfa72350-c4f4-422c-bbf8-161633cd4622')\"\n",
              "              title=\"Convert this dataframe to an interactive table.\"\n",
              "              style=\"display:none;\">\n",
              "        \n",
              "  <svg xmlns=\"http://www.w3.org/2000/svg\" height=\"24px\"viewBox=\"0 0 24 24\"\n",
              "       width=\"24px\">\n",
              "    <path d=\"M0 0h24v24H0V0z\" fill=\"none\"/>\n",
              "    <path d=\"M18.56 5.44l.94 2.06.94-2.06 2.06-.94-2.06-.94-.94-2.06-.94 2.06-2.06.94zm-11 1L8.5 8.5l.94-2.06 2.06-.94-2.06-.94L8.5 2.5l-.94 2.06-2.06.94zm10 10l.94 2.06.94-2.06 2.06-.94-2.06-.94-.94-2.06-.94 2.06-2.06.94z\"/><path d=\"M17.41 7.96l-1.37-1.37c-.4-.4-.92-.59-1.43-.59-.52 0-1.04.2-1.43.59L10.3 9.45l-7.72 7.72c-.78.78-.78 2.05 0 2.83L4 21.41c.39.39.9.59 1.41.59.51 0 1.02-.2 1.41-.59l7.78-7.78 2.81-2.81c.8-.78.8-2.07 0-2.86zM5.41 20L4 18.59l7.72-7.72 1.47 1.35L5.41 20z\"/>\n",
              "  </svg>\n",
              "      </button>\n",
              "      \n",
              "  <style>\n",
              "    .colab-df-container {\n",
              "      display:flex;\n",
              "      flex-wrap:wrap;\n",
              "      gap: 12px;\n",
              "    }\n",
              "\n",
              "    .colab-df-convert {\n",
              "      background-color: #E8F0FE;\n",
              "      border: none;\n",
              "      border-radius: 50%;\n",
              "      cursor: pointer;\n",
              "      display: none;\n",
              "      fill: #1967D2;\n",
              "      height: 32px;\n",
              "      padding: 0 0 0 0;\n",
              "      width: 32px;\n",
              "    }\n",
              "\n",
              "    .colab-df-convert:hover {\n",
              "      background-color: #E2EBFA;\n",
              "      box-shadow: 0px 1px 2px rgba(60, 64, 67, 0.3), 0px 1px 3px 1px rgba(60, 64, 67, 0.15);\n",
              "      fill: #174EA6;\n",
              "    }\n",
              "\n",
              "    [theme=dark] .colab-df-convert {\n",
              "      background-color: #3B4455;\n",
              "      fill: #D2E3FC;\n",
              "    }\n",
              "\n",
              "    [theme=dark] .colab-df-convert:hover {\n",
              "      background-color: #434B5C;\n",
              "      box-shadow: 0px 1px 3px 1px rgba(0, 0, 0, 0.15);\n",
              "      filter: drop-shadow(0px 1px 2px rgba(0, 0, 0, 0.3));\n",
              "      fill: #FFFFFF;\n",
              "    }\n",
              "  </style>\n",
              "\n",
              "      <script>\n",
              "        const buttonEl =\n",
              "          document.querySelector('#df-dfa72350-c4f4-422c-bbf8-161633cd4622 button.colab-df-convert');\n",
              "        buttonEl.style.display =\n",
              "          google.colab.kernel.accessAllowed ? 'block' : 'none';\n",
              "\n",
              "        async function convertToInteractive(key) {\n",
              "          const element = document.querySelector('#df-dfa72350-c4f4-422c-bbf8-161633cd4622');\n",
              "          const dataTable =\n",
              "            await google.colab.kernel.invokeFunction('convertToInteractive',\n",
              "                                                     [key], {});\n",
              "          if (!dataTable) return;\n",
              "\n",
              "          const docLinkHtml = 'Like what you see? Visit the ' +\n",
              "            '<a target=\"_blank\" href=https://colab.research.google.com/notebooks/data_table.ipynb>data table notebook</a>'\n",
              "            + ' to learn more about interactive tables.';\n",
              "          element.innerHTML = '';\n",
              "          dataTable['output_type'] = 'display_data';\n",
              "          await google.colab.output.renderOutput(dataTable, element);\n",
              "          const docLink = document.createElement('div');\n",
              "          docLink.innerHTML = docLinkHtml;\n",
              "          element.appendChild(docLink);\n",
              "        }\n",
              "      </script>\n",
              "    </div>\n",
              "  </div>\n",
              "  "
            ]
          },
          "metadata": {},
          "execution_count": 9
        }
      ]
    },
    {
      "cell_type": "code",
      "source": [
        "round(sum(df[\"全体平均 - 各地方の平均\"]),2)"
      ],
      "metadata": {
        "colab": {
          "base_uri": "https://localhost:8080/"
        },
        "id": "6IJLaN7wKQmR",
        "outputId": "3cb95fa9-9e19-43e7-a33c-69466e63ff97"
      },
      "execution_count": 10,
      "outputs": [
        {
          "output_type": "execute_result",
          "data": {
            "text/plain": [
              "1108.25"
            ]
          },
          "metadata": {},
          "execution_count": 10
        }
      ]
    },
    {
      "cell_type": "markdown",
      "source": [
        "##### 各群の平均値から各データのズレ"
      ],
      "metadata": {
        "id": "X1OvmqqfQZvW"
      }
    },
    {
      "cell_type": "markdown",
      "source": [
        "引き算をすることで求めます。"
      ],
      "metadata": {
        "id": "kw5iqB5SQbCe"
      }
    },
    {
      "cell_type": "code",
      "source": [
        "round(sum(df[\"全体平均 - 各データ\"]),2) - round(sum(df[\"全体平均 - 各地方の平均\"]),2)"
      ],
      "metadata": {
        "colab": {
          "base_uri": "https://localhost:8080/"
        },
        "id": "kHVnOs8jM2vf",
        "outputId": "f5c88d70-0814-46fb-b7c3-b7bb005cd5b9"
      },
      "execution_count": 11,
      "outputs": [
        {
          "output_type": "execute_result",
          "data": {
            "text/plain": [
              "7976.860000000001"
            ]
          },
          "metadata": {},
          "execution_count": 11
        }
      ]
    },
    {
      "cell_type": "markdown",
      "source": [
        "##### 自由度→平均平方"
      ],
      "metadata": {
        "id": "M00u8OB_wyWp"
      }
    },
    {
      "cell_type": "markdown",
      "source": [
        "ここまで分かったことを、分散分析表にまとめていきます。"
      ],
      "metadata": {
        "id": "snYzX1rfw3gR"
      }
    },
    {
      "cell_type": "markdown",
      "source": [
        "| 因子 | 平方和 | 自由度 | 平均平方 | F値 |\n",
        "|:--------:|:--------:|:--------:|:--------:|:--------:|\n",
        "|要因|1108.25 | ||\n",
        "|残差|7976.86 | ||\n",
        "|全体|9085.11 | ||"
      ],
      "metadata": {
        "id": "iHDKVbO6xOoQ"
      }
    },
    {
      "cell_type": "markdown",
      "source": [
        "自由度、平均平方もすぐ求められます。"
      ],
      "metadata": {
        "id": "himJQRxdxVcA"
      }
    },
    {
      "cell_type": "markdown",
      "source": [
        "| 因子 | 平方和 | 自由度 | 平均平方 | F値 |\n",
        "|:--------:|:--------:|:--------:|:--------:|:--------:|\n",
        "|要因|1108.25 |6|184.71||\n",
        "|残差|7976.86 |40|199.42||\n",
        "|全体|9085.11 |46|||"
      ],
      "metadata": {
        "id": "7WbhCHvpxblA"
      }
    },
    {
      "cell_type": "markdown",
      "source": [
        "##### 統計量$F$"
      ],
      "metadata": {
        "id": "fL5QJTMxxzvg"
      }
    },
    {
      "cell_type": "markdown",
      "source": [
        "要因の平均平方を「分子」、残差の平均平方を「分母」として、  \n",
        "統計量$F$を算出します。\n",
        "\n",
        "$$\n",
        "F = \\frac{s^2_1}{s^2_2} = \\frac{184.71}{199.42} = 0.926\n",
        "$$"
      ],
      "metadata": {
        "id": "V-in__NQx22I"
      }
    },
    {
      "cell_type": "markdown",
      "source": [
        "| 因子 | 平方和 | 自由度 | 平均平方 | F値 |\n",
        "|:--------:|:--------:|:--------:|:--------:|:--------:|\n",
        "|要因|1108.25 |6|184.71|0.926|\n",
        "|残差|7976.86 |40|199.42||\n",
        "|全体|9085.11 |46|||"
      ],
      "metadata": {
        "id": "oTu9QaNYHGkw"
      }
    },
    {
      "cell_type": "markdown",
      "source": [
        "#### ③ 帰無仮説を棄却できるかどうかを確認する"
      ],
      "metadata": {
        "id": "5d_jmR0-hiMm"
      }
    },
    {
      "cell_type": "markdown",
      "source": [
        "有意水準を$5$%に設定します。\n",
        "\n",
        "($p$**値を求めて**) 棄却が必要かどうか決めます。  "
      ],
      "metadata": {
        "id": "RRwWJ8oRhiMm"
      }
    },
    {
      "cell_type": "code",
      "source": [
        "fk = stats.f(dfn=6 , dfd=40).ppf(0.95)\n",
        "fk"
      ],
      "metadata": {
        "colab": {
          "base_uri": "https://localhost:8080/"
        },
        "id": "j47-w2_Ozcrr",
        "outputId": "6bf2b4d4-0617-4233-b07e-8aa6ae8ceadd"
      },
      "execution_count": 21,
      "outputs": [
        {
          "output_type": "execute_result",
          "data": {
            "text/plain": [
              "2.335852404791663"
            ]
          },
          "metadata": {},
          "execution_count": 21
        }
      ]
    },
    {
      "cell_type": "code",
      "source": [
        "nyp = float(Decimal(str(stats.f(dfn=6 , dfd=40).sf(fk)*100)).\n",
        "            quantize(Decimal('0.001'),rounding=ROUND_HALF_UP))\n",
        "print(f\"有意水準：{nyp}%\")    # 右側の棄却域の面積\n",
        "\n",
        "nkp = float(Decimal(str(stats.f(dfn=6 , dfd=40).sf(0.926)*100)).\n",
        "            quantize(Decimal('0.000001'),rounding=ROUND_HALF_UP))\n",
        "print(f\"p値：{nkp}%\")"
      ],
      "metadata": {
        "colab": {
          "base_uri": "https://localhost:8080/"
        },
        "id": "s1wZm5bu6WYA",
        "outputId": "f025503a-c54c-4e91-d47d-a6686659fc94"
      },
      "execution_count": 23,
      "outputs": [
        {
          "output_type": "stream",
          "name": "stdout",
          "text": [
            "有意水準：5.0%\n",
            "p値：48.682816%\n"
          ]
        }
      ]
    },
    {
      "cell_type": "code",
      "source": [
        "print(\"p値が有意水準より大きくなったので、帰無仮説を棄却せず、対立仮説を採択しない\")\n",
        "print(\"したがって、地方によって映画館の数の母平均に差があるとはいえない\")"
      ],
      "metadata": {
        "id": "XFxW701R63kP"
      },
      "execution_count": null,
      "outputs": []
    },
    {
      "cell_type": "markdown",
      "source": [
        "### Pythonによる一元配置分散分析"
      ],
      "metadata": {
        "id": "R1UNjIlcy3zm"
      }
    },
    {
      "cell_type": "markdown",
      "source": [
        "と、ここまで結構ステップを踏んできましたが、  \n",
        "Pythonでは簡単に分散分析表を求めることができます。"
      ],
      "metadata": {
        "id": "bqclFzbE79Z9"
      }
    },
    {
      "cell_type": "code",
      "source": [
        "df = pd.read_excel(\"movie_theatre.xlsx\")\n",
        "df.iloc[[0,7,14]]"
      ],
      "metadata": {
        "colab": {
          "base_uri": "https://localhost:8080/",
          "height": 143
        },
        "id": "kbolzxOt8S6t",
        "outputId": "3ff2ffde-3e2c-42ad-fb3e-3688042d8eb7"
      },
      "execution_count": 50,
      "outputs": [
        {
          "output_type": "execute_result",
          "data": {
            "text/plain": [
              "        地方  映画館の数\n",
              "0   北海道・東北     21\n",
              "7       関東     92\n",
              "14      中部      2"
            ],
            "text/html": [
              "\n",
              "  <div id=\"df-740781d1-e65b-4206-b7f1-61911a1b7967\">\n",
              "    <div class=\"colab-df-container\">\n",
              "      <div>\n",
              "<style scoped>\n",
              "    .dataframe tbody tr th:only-of-type {\n",
              "        vertical-align: middle;\n",
              "    }\n",
              "\n",
              "    .dataframe tbody tr th {\n",
              "        vertical-align: top;\n",
              "    }\n",
              "\n",
              "    .dataframe thead th {\n",
              "        text-align: right;\n",
              "    }\n",
              "</style>\n",
              "<table border=\"1\" class=\"dataframe\">\n",
              "  <thead>\n",
              "    <tr style=\"text-align: right;\">\n",
              "      <th></th>\n",
              "      <th>地方</th>\n",
              "      <th>映画館の数</th>\n",
              "    </tr>\n",
              "  </thead>\n",
              "  <tbody>\n",
              "    <tr>\n",
              "      <th>0</th>\n",
              "      <td>北海道・東北</td>\n",
              "      <td>21</td>\n",
              "    </tr>\n",
              "    <tr>\n",
              "      <th>7</th>\n",
              "      <td>関東</td>\n",
              "      <td>92</td>\n",
              "    </tr>\n",
              "    <tr>\n",
              "      <th>14</th>\n",
              "      <td>中部</td>\n",
              "      <td>2</td>\n",
              "    </tr>\n",
              "  </tbody>\n",
              "</table>\n",
              "</div>\n",
              "      <button class=\"colab-df-convert\" onclick=\"convertToInteractive('df-740781d1-e65b-4206-b7f1-61911a1b7967')\"\n",
              "              title=\"Convert this dataframe to an interactive table.\"\n",
              "              style=\"display:none;\">\n",
              "        \n",
              "  <svg xmlns=\"http://www.w3.org/2000/svg\" height=\"24px\"viewBox=\"0 0 24 24\"\n",
              "       width=\"24px\">\n",
              "    <path d=\"M0 0h24v24H0V0z\" fill=\"none\"/>\n",
              "    <path d=\"M18.56 5.44l.94 2.06.94-2.06 2.06-.94-2.06-.94-.94-2.06-.94 2.06-2.06.94zm-11 1L8.5 8.5l.94-2.06 2.06-.94-2.06-.94L8.5 2.5l-.94 2.06-2.06.94zm10 10l.94 2.06.94-2.06 2.06-.94-2.06-.94-.94-2.06-.94 2.06-2.06.94z\"/><path d=\"M17.41 7.96l-1.37-1.37c-.4-.4-.92-.59-1.43-.59-.52 0-1.04.2-1.43.59L10.3 9.45l-7.72 7.72c-.78.78-.78 2.05 0 2.83L4 21.41c.39.39.9.59 1.41.59.51 0 1.02-.2 1.41-.59l7.78-7.78 2.81-2.81c.8-.78.8-2.07 0-2.86zM5.41 20L4 18.59l7.72-7.72 1.47 1.35L5.41 20z\"/>\n",
              "  </svg>\n",
              "      </button>\n",
              "      \n",
              "  <style>\n",
              "    .colab-df-container {\n",
              "      display:flex;\n",
              "      flex-wrap:wrap;\n",
              "      gap: 12px;\n",
              "    }\n",
              "\n",
              "    .colab-df-convert {\n",
              "      background-color: #E8F0FE;\n",
              "      border: none;\n",
              "      border-radius: 50%;\n",
              "      cursor: pointer;\n",
              "      display: none;\n",
              "      fill: #1967D2;\n",
              "      height: 32px;\n",
              "      padding: 0 0 0 0;\n",
              "      width: 32px;\n",
              "    }\n",
              "\n",
              "    .colab-df-convert:hover {\n",
              "      background-color: #E2EBFA;\n",
              "      box-shadow: 0px 1px 2px rgba(60, 64, 67, 0.3), 0px 1px 3px 1px rgba(60, 64, 67, 0.15);\n",
              "      fill: #174EA6;\n",
              "    }\n",
              "\n",
              "    [theme=dark] .colab-df-convert {\n",
              "      background-color: #3B4455;\n",
              "      fill: #D2E3FC;\n",
              "    }\n",
              "\n",
              "    [theme=dark] .colab-df-convert:hover {\n",
              "      background-color: #434B5C;\n",
              "      box-shadow: 0px 1px 3px 1px rgba(0, 0, 0, 0.15);\n",
              "      filter: drop-shadow(0px 1px 2px rgba(0, 0, 0, 0.3));\n",
              "      fill: #FFFFFF;\n",
              "    }\n",
              "  </style>\n",
              "\n",
              "      <script>\n",
              "        const buttonEl =\n",
              "          document.querySelector('#df-740781d1-e65b-4206-b7f1-61911a1b7967 button.colab-df-convert');\n",
              "        buttonEl.style.display =\n",
              "          google.colab.kernel.accessAllowed ? 'block' : 'none';\n",
              "\n",
              "        async function convertToInteractive(key) {\n",
              "          const element = document.querySelector('#df-740781d1-e65b-4206-b7f1-61911a1b7967');\n",
              "          const dataTable =\n",
              "            await google.colab.kernel.invokeFunction('convertToInteractive',\n",
              "                                                     [key], {});\n",
              "          if (!dataTable) return;\n",
              "\n",
              "          const docLinkHtml = 'Like what you see? Visit the ' +\n",
              "            '<a target=\"_blank\" href=https://colab.research.google.com/notebooks/data_table.ipynb>data table notebook</a>'\n",
              "            + ' to learn more about interactive tables.';\n",
              "          element.innerHTML = '';\n",
              "          dataTable['output_type'] = 'display_data';\n",
              "          await google.colab.output.renderOutput(dataTable, element);\n",
              "          const docLink = document.createElement('div');\n",
              "          docLink.innerHTML = docLinkHtml;\n",
              "          element.appendChild(docLink);\n",
              "        }\n",
              "      </script>\n",
              "    </div>\n",
              "  </div>\n",
              "  "
            ]
          },
          "metadata": {},
          "execution_count": 50
        }
      ]
    },
    {
      "cell_type": "code",
      "source": [
        "model = ols('映画館の数 ~ 地方', data=df).fit()\n",
        "anova = sm.stats.anova_lm(model, typ=2)\n",
        "anova  "
      ],
      "metadata": {
        "colab": {
          "base_uri": "https://localhost:8080/",
          "height": 112
        },
        "id": "S8Nsna2R9b9T",
        "outputId": "ab5a3e55-0901-4db5-e099-8d246168cdce"
      },
      "execution_count": 51,
      "outputs": [
        {
          "output_type": "execute_result",
          "data": {
            "text/plain": [
              "               sum_sq    df         F   PR(>F)\n",
              "地方        1108.249637   6.0  0.926221  0.48668\n",
              "Residual  7976.856746  40.0       NaN      NaN"
            ],
            "text/html": [
              "\n",
              "  <div id=\"df-ead1bfe3-71eb-43b5-aa86-4519dfe7a605\">\n",
              "    <div class=\"colab-df-container\">\n",
              "      <div>\n",
              "<style scoped>\n",
              "    .dataframe tbody tr th:only-of-type {\n",
              "        vertical-align: middle;\n",
              "    }\n",
              "\n",
              "    .dataframe tbody tr th {\n",
              "        vertical-align: top;\n",
              "    }\n",
              "\n",
              "    .dataframe thead th {\n",
              "        text-align: right;\n",
              "    }\n",
              "</style>\n",
              "<table border=\"1\" class=\"dataframe\">\n",
              "  <thead>\n",
              "    <tr style=\"text-align: right;\">\n",
              "      <th></th>\n",
              "      <th>sum_sq</th>\n",
              "      <th>df</th>\n",
              "      <th>F</th>\n",
              "      <th>PR(&gt;F)</th>\n",
              "    </tr>\n",
              "  </thead>\n",
              "  <tbody>\n",
              "    <tr>\n",
              "      <th>地方</th>\n",
              "      <td>1108.249637</td>\n",
              "      <td>6.0</td>\n",
              "      <td>0.926221</td>\n",
              "      <td>0.48668</td>\n",
              "    </tr>\n",
              "    <tr>\n",
              "      <th>Residual</th>\n",
              "      <td>7976.856746</td>\n",
              "      <td>40.0</td>\n",
              "      <td>NaN</td>\n",
              "      <td>NaN</td>\n",
              "    </tr>\n",
              "  </tbody>\n",
              "</table>\n",
              "</div>\n",
              "      <button class=\"colab-df-convert\" onclick=\"convertToInteractive('df-ead1bfe3-71eb-43b5-aa86-4519dfe7a605')\"\n",
              "              title=\"Convert this dataframe to an interactive table.\"\n",
              "              style=\"display:none;\">\n",
              "        \n",
              "  <svg xmlns=\"http://www.w3.org/2000/svg\" height=\"24px\"viewBox=\"0 0 24 24\"\n",
              "       width=\"24px\">\n",
              "    <path d=\"M0 0h24v24H0V0z\" fill=\"none\"/>\n",
              "    <path d=\"M18.56 5.44l.94 2.06.94-2.06 2.06-.94-2.06-.94-.94-2.06-.94 2.06-2.06.94zm-11 1L8.5 8.5l.94-2.06 2.06-.94-2.06-.94L8.5 2.5l-.94 2.06-2.06.94zm10 10l.94 2.06.94-2.06 2.06-.94-2.06-.94-.94-2.06-.94 2.06-2.06.94z\"/><path d=\"M17.41 7.96l-1.37-1.37c-.4-.4-.92-.59-1.43-.59-.52 0-1.04.2-1.43.59L10.3 9.45l-7.72 7.72c-.78.78-.78 2.05 0 2.83L4 21.41c.39.39.9.59 1.41.59.51 0 1.02-.2 1.41-.59l7.78-7.78 2.81-2.81c.8-.78.8-2.07 0-2.86zM5.41 20L4 18.59l7.72-7.72 1.47 1.35L5.41 20z\"/>\n",
              "  </svg>\n",
              "      </button>\n",
              "      \n",
              "  <style>\n",
              "    .colab-df-container {\n",
              "      display:flex;\n",
              "      flex-wrap:wrap;\n",
              "      gap: 12px;\n",
              "    }\n",
              "\n",
              "    .colab-df-convert {\n",
              "      background-color: #E8F0FE;\n",
              "      border: none;\n",
              "      border-radius: 50%;\n",
              "      cursor: pointer;\n",
              "      display: none;\n",
              "      fill: #1967D2;\n",
              "      height: 32px;\n",
              "      padding: 0 0 0 0;\n",
              "      width: 32px;\n",
              "    }\n",
              "\n",
              "    .colab-df-convert:hover {\n",
              "      background-color: #E2EBFA;\n",
              "      box-shadow: 0px 1px 2px rgba(60, 64, 67, 0.3), 0px 1px 3px 1px rgba(60, 64, 67, 0.15);\n",
              "      fill: #174EA6;\n",
              "    }\n",
              "\n",
              "    [theme=dark] .colab-df-convert {\n",
              "      background-color: #3B4455;\n",
              "      fill: #D2E3FC;\n",
              "    }\n",
              "\n",
              "    [theme=dark] .colab-df-convert:hover {\n",
              "      background-color: #434B5C;\n",
              "      box-shadow: 0px 1px 3px 1px rgba(0, 0, 0, 0.15);\n",
              "      filter: drop-shadow(0px 1px 2px rgba(0, 0, 0, 0.3));\n",
              "      fill: #FFFFFF;\n",
              "    }\n",
              "  </style>\n",
              "\n",
              "      <script>\n",
              "        const buttonEl =\n",
              "          document.querySelector('#df-ead1bfe3-71eb-43b5-aa86-4519dfe7a605 button.colab-df-convert');\n",
              "        buttonEl.style.display =\n",
              "          google.colab.kernel.accessAllowed ? 'block' : 'none';\n",
              "\n",
              "        async function convertToInteractive(key) {\n",
              "          const element = document.querySelector('#df-ead1bfe3-71eb-43b5-aa86-4519dfe7a605');\n",
              "          const dataTable =\n",
              "            await google.colab.kernel.invokeFunction('convertToInteractive',\n",
              "                                                     [key], {});\n",
              "          if (!dataTable) return;\n",
              "\n",
              "          const docLinkHtml = 'Like what you see? Visit the ' +\n",
              "            '<a target=\"_blank\" href=https://colab.research.google.com/notebooks/data_table.ipynb>data table notebook</a>'\n",
              "            + ' to learn more about interactive tables.';\n",
              "          element.innerHTML = '';\n",
              "          dataTable['output_type'] = 'display_data';\n",
              "          await google.colab.output.renderOutput(dataTable, element);\n",
              "          const docLink = document.createElement('div');\n",
              "          docLink.innerHTML = docLinkHtml;\n",
              "          element.appendChild(docLink);\n",
              "        }\n",
              "      </script>\n",
              "    </div>\n",
              "  </div>\n",
              "  "
            ]
          },
          "metadata": {},
          "execution_count": 51
        }
      ]
    },
    {
      "cell_type": "markdown",
      "source": [
        "$F$値と$P$値を簡単に求めることができました。"
      ],
      "metadata": {
        "id": "CkVwWlUW-kRq"
      }
    },
    {
      "cell_type": "markdown",
      "source": [
        "### 都道府県データで分散分析"
      ],
      "metadata": {
        "id": "CMVvsvIwAII4"
      }
    },
    {
      "cell_type": "markdown",
      "source": [
        "男性の平均睡眠時間について、地方間で差があるかどうかを検定します。\n",
        "\n",
        "`todohuken_kaidata.csv`をインポートしてください。"
      ],
      "metadata": {
        "id": "_nXyhVGTALOR"
      }
    },
    {
      "cell_type": "code",
      "source": [
        "df = pd.read_csv(\"todohuken_kaidata.csv\")\n",
        "df = df[[\"地方\",\"15歳以上の平均睡眠時間（男）\"]]\n",
        "df.head(3)"
      ],
      "metadata": {
        "colab": {
          "base_uri": "https://localhost:8080/",
          "height": 143
        },
        "id": "u4IJT9LHmRi5",
        "outputId": "bdec0f7a-ad6a-45e0-82c0-ca510a12e714"
      },
      "execution_count": 60,
      "outputs": [
        {
          "output_type": "execute_result",
          "data": {
            "text/plain": [
              "      地方  15歳以上の平均睡眠時間（男）\n",
              "0  北海道地方              473\n",
              "1   東北地方              486\n",
              "2   東北地方              477"
            ],
            "text/html": [
              "\n",
              "  <div id=\"df-f87778bb-73eb-499c-b82e-b3dec121d9fd\">\n",
              "    <div class=\"colab-df-container\">\n",
              "      <div>\n",
              "<style scoped>\n",
              "    .dataframe tbody tr th:only-of-type {\n",
              "        vertical-align: middle;\n",
              "    }\n",
              "\n",
              "    .dataframe tbody tr th {\n",
              "        vertical-align: top;\n",
              "    }\n",
              "\n",
              "    .dataframe thead th {\n",
              "        text-align: right;\n",
              "    }\n",
              "</style>\n",
              "<table border=\"1\" class=\"dataframe\">\n",
              "  <thead>\n",
              "    <tr style=\"text-align: right;\">\n",
              "      <th></th>\n",
              "      <th>地方</th>\n",
              "      <th>15歳以上の平均睡眠時間（男）</th>\n",
              "    </tr>\n",
              "  </thead>\n",
              "  <tbody>\n",
              "    <tr>\n",
              "      <th>0</th>\n",
              "      <td>北海道地方</td>\n",
              "      <td>473</td>\n",
              "    </tr>\n",
              "    <tr>\n",
              "      <th>1</th>\n",
              "      <td>東北地方</td>\n",
              "      <td>486</td>\n",
              "    </tr>\n",
              "    <tr>\n",
              "      <th>2</th>\n",
              "      <td>東北地方</td>\n",
              "      <td>477</td>\n",
              "    </tr>\n",
              "  </tbody>\n",
              "</table>\n",
              "</div>\n",
              "      <button class=\"colab-df-convert\" onclick=\"convertToInteractive('df-f87778bb-73eb-499c-b82e-b3dec121d9fd')\"\n",
              "              title=\"Convert this dataframe to an interactive table.\"\n",
              "              style=\"display:none;\">\n",
              "        \n",
              "  <svg xmlns=\"http://www.w3.org/2000/svg\" height=\"24px\"viewBox=\"0 0 24 24\"\n",
              "       width=\"24px\">\n",
              "    <path d=\"M0 0h24v24H0V0z\" fill=\"none\"/>\n",
              "    <path d=\"M18.56 5.44l.94 2.06.94-2.06 2.06-.94-2.06-.94-.94-2.06-.94 2.06-2.06.94zm-11 1L8.5 8.5l.94-2.06 2.06-.94-2.06-.94L8.5 2.5l-.94 2.06-2.06.94zm10 10l.94 2.06.94-2.06 2.06-.94-2.06-.94-.94-2.06-.94 2.06-2.06.94z\"/><path d=\"M17.41 7.96l-1.37-1.37c-.4-.4-.92-.59-1.43-.59-.52 0-1.04.2-1.43.59L10.3 9.45l-7.72 7.72c-.78.78-.78 2.05 0 2.83L4 21.41c.39.39.9.59 1.41.59.51 0 1.02-.2 1.41-.59l7.78-7.78 2.81-2.81c.8-.78.8-2.07 0-2.86zM5.41 20L4 18.59l7.72-7.72 1.47 1.35L5.41 20z\"/>\n",
              "  </svg>\n",
              "      </button>\n",
              "      \n",
              "  <style>\n",
              "    .colab-df-container {\n",
              "      display:flex;\n",
              "      flex-wrap:wrap;\n",
              "      gap: 12px;\n",
              "    }\n",
              "\n",
              "    .colab-df-convert {\n",
              "      background-color: #E8F0FE;\n",
              "      border: none;\n",
              "      border-radius: 50%;\n",
              "      cursor: pointer;\n",
              "      display: none;\n",
              "      fill: #1967D2;\n",
              "      height: 32px;\n",
              "      padding: 0 0 0 0;\n",
              "      width: 32px;\n",
              "    }\n",
              "\n",
              "    .colab-df-convert:hover {\n",
              "      background-color: #E2EBFA;\n",
              "      box-shadow: 0px 1px 2px rgba(60, 64, 67, 0.3), 0px 1px 3px 1px rgba(60, 64, 67, 0.15);\n",
              "      fill: #174EA6;\n",
              "    }\n",
              "\n",
              "    [theme=dark] .colab-df-convert {\n",
              "      background-color: #3B4455;\n",
              "      fill: #D2E3FC;\n",
              "    }\n",
              "\n",
              "    [theme=dark] .colab-df-convert:hover {\n",
              "      background-color: #434B5C;\n",
              "      box-shadow: 0px 1px 3px 1px rgba(0, 0, 0, 0.15);\n",
              "      filter: drop-shadow(0px 1px 2px rgba(0, 0, 0, 0.3));\n",
              "      fill: #FFFFFF;\n",
              "    }\n",
              "  </style>\n",
              "\n",
              "      <script>\n",
              "        const buttonEl =\n",
              "          document.querySelector('#df-f87778bb-73eb-499c-b82e-b3dec121d9fd button.colab-df-convert');\n",
              "        buttonEl.style.display =\n",
              "          google.colab.kernel.accessAllowed ? 'block' : 'none';\n",
              "\n",
              "        async function convertToInteractive(key) {\n",
              "          const element = document.querySelector('#df-f87778bb-73eb-499c-b82e-b3dec121d9fd');\n",
              "          const dataTable =\n",
              "            await google.colab.kernel.invokeFunction('convertToInteractive',\n",
              "                                                     [key], {});\n",
              "          if (!dataTable) return;\n",
              "\n",
              "          const docLinkHtml = 'Like what you see? Visit the ' +\n",
              "            '<a target=\"_blank\" href=https://colab.research.google.com/notebooks/data_table.ipynb>data table notebook</a>'\n",
              "            + ' to learn more about interactive tables.';\n",
              "          element.innerHTML = '';\n",
              "          dataTable['output_type'] = 'display_data';\n",
              "          await google.colab.output.renderOutput(dataTable, element);\n",
              "          const docLink = document.createElement('div');\n",
              "          docLink.innerHTML = docLinkHtml;\n",
              "          element.appendChild(docLink);\n",
              "        }\n",
              "      </script>\n",
              "    </div>\n",
              "  </div>\n",
              "  "
            ]
          },
          "metadata": {},
          "execution_count": 60
        }
      ]
    },
    {
      "cell_type": "markdown",
      "source": [
        "北海道は東北地方と混ぜてしまいます。"
      ],
      "metadata": {
        "id": "iEEjjRhUAfsf"
      }
    },
    {
      "cell_type": "code",
      "source": [
        "for idx,row in df.iterrows():  # rowには各行のSeriesが⼊る\n",
        " if row[\"地方\"] in [\"北海道地方\",\"東北地方\"]: \n",
        "  row[\"地方\"] = \"北海道・東北地方\"\n",
        "  df.iloc[idx] = row\n",
        "\n",
        "df.head(3)"
      ],
      "metadata": {
        "colab": {
          "base_uri": "https://localhost:8080/",
          "height": 143
        },
        "id": "nQ1mJcUrnhHx",
        "outputId": "9aa15e5d-ae87-474a-b05a-1898989b3abf"
      },
      "execution_count": 61,
      "outputs": [
        {
          "output_type": "execute_result",
          "data": {
            "text/plain": [
              "         地方  15歳以上の平均睡眠時間（男）\n",
              "0  北海道・東北地方              473\n",
              "1  北海道・東北地方              486\n",
              "2  北海道・東北地方              477"
            ],
            "text/html": [
              "\n",
              "  <div id=\"df-532eaa8e-39c3-4030-90e7-cbb9023e86d6\">\n",
              "    <div class=\"colab-df-container\">\n",
              "      <div>\n",
              "<style scoped>\n",
              "    .dataframe tbody tr th:only-of-type {\n",
              "        vertical-align: middle;\n",
              "    }\n",
              "\n",
              "    .dataframe tbody tr th {\n",
              "        vertical-align: top;\n",
              "    }\n",
              "\n",
              "    .dataframe thead th {\n",
              "        text-align: right;\n",
              "    }\n",
              "</style>\n",
              "<table border=\"1\" class=\"dataframe\">\n",
              "  <thead>\n",
              "    <tr style=\"text-align: right;\">\n",
              "      <th></th>\n",
              "      <th>地方</th>\n",
              "      <th>15歳以上の平均睡眠時間（男）</th>\n",
              "    </tr>\n",
              "  </thead>\n",
              "  <tbody>\n",
              "    <tr>\n",
              "      <th>0</th>\n",
              "      <td>北海道・東北地方</td>\n",
              "      <td>473</td>\n",
              "    </tr>\n",
              "    <tr>\n",
              "      <th>1</th>\n",
              "      <td>北海道・東北地方</td>\n",
              "      <td>486</td>\n",
              "    </tr>\n",
              "    <tr>\n",
              "      <th>2</th>\n",
              "      <td>北海道・東北地方</td>\n",
              "      <td>477</td>\n",
              "    </tr>\n",
              "  </tbody>\n",
              "</table>\n",
              "</div>\n",
              "      <button class=\"colab-df-convert\" onclick=\"convertToInteractive('df-532eaa8e-39c3-4030-90e7-cbb9023e86d6')\"\n",
              "              title=\"Convert this dataframe to an interactive table.\"\n",
              "              style=\"display:none;\">\n",
              "        \n",
              "  <svg xmlns=\"http://www.w3.org/2000/svg\" height=\"24px\"viewBox=\"0 0 24 24\"\n",
              "       width=\"24px\">\n",
              "    <path d=\"M0 0h24v24H0V0z\" fill=\"none\"/>\n",
              "    <path d=\"M18.56 5.44l.94 2.06.94-2.06 2.06-.94-2.06-.94-.94-2.06-.94 2.06-2.06.94zm-11 1L8.5 8.5l.94-2.06 2.06-.94-2.06-.94L8.5 2.5l-.94 2.06-2.06.94zm10 10l.94 2.06.94-2.06 2.06-.94-2.06-.94-.94-2.06-.94 2.06-2.06.94z\"/><path d=\"M17.41 7.96l-1.37-1.37c-.4-.4-.92-.59-1.43-.59-.52 0-1.04.2-1.43.59L10.3 9.45l-7.72 7.72c-.78.78-.78 2.05 0 2.83L4 21.41c.39.39.9.59 1.41.59.51 0 1.02-.2 1.41-.59l7.78-7.78 2.81-2.81c.8-.78.8-2.07 0-2.86zM5.41 20L4 18.59l7.72-7.72 1.47 1.35L5.41 20z\"/>\n",
              "  </svg>\n",
              "      </button>\n",
              "      \n",
              "  <style>\n",
              "    .colab-df-container {\n",
              "      display:flex;\n",
              "      flex-wrap:wrap;\n",
              "      gap: 12px;\n",
              "    }\n",
              "\n",
              "    .colab-df-convert {\n",
              "      background-color: #E8F0FE;\n",
              "      border: none;\n",
              "      border-radius: 50%;\n",
              "      cursor: pointer;\n",
              "      display: none;\n",
              "      fill: #1967D2;\n",
              "      height: 32px;\n",
              "      padding: 0 0 0 0;\n",
              "      width: 32px;\n",
              "    }\n",
              "\n",
              "    .colab-df-convert:hover {\n",
              "      background-color: #E2EBFA;\n",
              "      box-shadow: 0px 1px 2px rgba(60, 64, 67, 0.3), 0px 1px 3px 1px rgba(60, 64, 67, 0.15);\n",
              "      fill: #174EA6;\n",
              "    }\n",
              "\n",
              "    [theme=dark] .colab-df-convert {\n",
              "      background-color: #3B4455;\n",
              "      fill: #D2E3FC;\n",
              "    }\n",
              "\n",
              "    [theme=dark] .colab-df-convert:hover {\n",
              "      background-color: #434B5C;\n",
              "      box-shadow: 0px 1px 3px 1px rgba(0, 0, 0, 0.15);\n",
              "      filter: drop-shadow(0px 1px 2px rgba(0, 0, 0, 0.3));\n",
              "      fill: #FFFFFF;\n",
              "    }\n",
              "  </style>\n",
              "\n",
              "      <script>\n",
              "        const buttonEl =\n",
              "          document.querySelector('#df-532eaa8e-39c3-4030-90e7-cbb9023e86d6 button.colab-df-convert');\n",
              "        buttonEl.style.display =\n",
              "          google.colab.kernel.accessAllowed ? 'block' : 'none';\n",
              "\n",
              "        async function convertToInteractive(key) {\n",
              "          const element = document.querySelector('#df-532eaa8e-39c3-4030-90e7-cbb9023e86d6');\n",
              "          const dataTable =\n",
              "            await google.colab.kernel.invokeFunction('convertToInteractive',\n",
              "                                                     [key], {});\n",
              "          if (!dataTable) return;\n",
              "\n",
              "          const docLinkHtml = 'Like what you see? Visit the ' +\n",
              "            '<a target=\"_blank\" href=https://colab.research.google.com/notebooks/data_table.ipynb>data table notebook</a>'\n",
              "            + ' to learn more about interactive tables.';\n",
              "          element.innerHTML = '';\n",
              "          dataTable['output_type'] = 'display_data';\n",
              "          await google.colab.output.renderOutput(dataTable, element);\n",
              "          const docLink = document.createElement('div');\n",
              "          docLink.innerHTML = docLinkHtml;\n",
              "          element.appendChild(docLink);\n",
              "        }\n",
              "      </script>\n",
              "    </div>\n",
              "  </div>\n",
              "  "
            ]
          },
          "metadata": {},
          "execution_count": 61
        }
      ]
    },
    {
      "cell_type": "markdown",
      "source": [
        "エラーを解消する目的で、カラム名を変更します。"
      ],
      "metadata": {
        "id": "75RuJzbiCjy2"
      }
    },
    {
      "cell_type": "code",
      "source": [
        "df = df.rename(columns={'地方': 'region', \n",
        "                   '15歳以上の平均睡眠時間（男）': 'average_sleep_time_male'})\n",
        "df.head(3)"
      ],
      "metadata": {
        "colab": {
          "base_uri": "https://localhost:8080/",
          "height": 143
        },
        "id": "kLlG3CxNCoLH",
        "outputId": "2c39434e-ee5b-4356-a45b-66747eb0dce3"
      },
      "execution_count": 62,
      "outputs": [
        {
          "output_type": "execute_result",
          "data": {
            "text/plain": [
              "     region  average_sleep_time_male\n",
              "0  北海道・東北地方                      473\n",
              "1  北海道・東北地方                      486\n",
              "2  北海道・東北地方                      477"
            ],
            "text/html": [
              "\n",
              "  <div id=\"df-dc0c0653-9786-49d9-af91-ccac1f05eba0\">\n",
              "    <div class=\"colab-df-container\">\n",
              "      <div>\n",
              "<style scoped>\n",
              "    .dataframe tbody tr th:only-of-type {\n",
              "        vertical-align: middle;\n",
              "    }\n",
              "\n",
              "    .dataframe tbody tr th {\n",
              "        vertical-align: top;\n",
              "    }\n",
              "\n",
              "    .dataframe thead th {\n",
              "        text-align: right;\n",
              "    }\n",
              "</style>\n",
              "<table border=\"1\" class=\"dataframe\">\n",
              "  <thead>\n",
              "    <tr style=\"text-align: right;\">\n",
              "      <th></th>\n",
              "      <th>region</th>\n",
              "      <th>average_sleep_time_male</th>\n",
              "    </tr>\n",
              "  </thead>\n",
              "  <tbody>\n",
              "    <tr>\n",
              "      <th>0</th>\n",
              "      <td>北海道・東北地方</td>\n",
              "      <td>473</td>\n",
              "    </tr>\n",
              "    <tr>\n",
              "      <th>1</th>\n",
              "      <td>北海道・東北地方</td>\n",
              "      <td>486</td>\n",
              "    </tr>\n",
              "    <tr>\n",
              "      <th>2</th>\n",
              "      <td>北海道・東北地方</td>\n",
              "      <td>477</td>\n",
              "    </tr>\n",
              "  </tbody>\n",
              "</table>\n",
              "</div>\n",
              "      <button class=\"colab-df-convert\" onclick=\"convertToInteractive('df-dc0c0653-9786-49d9-af91-ccac1f05eba0')\"\n",
              "              title=\"Convert this dataframe to an interactive table.\"\n",
              "              style=\"display:none;\">\n",
              "        \n",
              "  <svg xmlns=\"http://www.w3.org/2000/svg\" height=\"24px\"viewBox=\"0 0 24 24\"\n",
              "       width=\"24px\">\n",
              "    <path d=\"M0 0h24v24H0V0z\" fill=\"none\"/>\n",
              "    <path d=\"M18.56 5.44l.94 2.06.94-2.06 2.06-.94-2.06-.94-.94-2.06-.94 2.06-2.06.94zm-11 1L8.5 8.5l.94-2.06 2.06-.94-2.06-.94L8.5 2.5l-.94 2.06-2.06.94zm10 10l.94 2.06.94-2.06 2.06-.94-2.06-.94-.94-2.06-.94 2.06-2.06.94z\"/><path d=\"M17.41 7.96l-1.37-1.37c-.4-.4-.92-.59-1.43-.59-.52 0-1.04.2-1.43.59L10.3 9.45l-7.72 7.72c-.78.78-.78 2.05 0 2.83L4 21.41c.39.39.9.59 1.41.59.51 0 1.02-.2 1.41-.59l7.78-7.78 2.81-2.81c.8-.78.8-2.07 0-2.86zM5.41 20L4 18.59l7.72-7.72 1.47 1.35L5.41 20z\"/>\n",
              "  </svg>\n",
              "      </button>\n",
              "      \n",
              "  <style>\n",
              "    .colab-df-container {\n",
              "      display:flex;\n",
              "      flex-wrap:wrap;\n",
              "      gap: 12px;\n",
              "    }\n",
              "\n",
              "    .colab-df-convert {\n",
              "      background-color: #E8F0FE;\n",
              "      border: none;\n",
              "      border-radius: 50%;\n",
              "      cursor: pointer;\n",
              "      display: none;\n",
              "      fill: #1967D2;\n",
              "      height: 32px;\n",
              "      padding: 0 0 0 0;\n",
              "      width: 32px;\n",
              "    }\n",
              "\n",
              "    .colab-df-convert:hover {\n",
              "      background-color: #E2EBFA;\n",
              "      box-shadow: 0px 1px 2px rgba(60, 64, 67, 0.3), 0px 1px 3px 1px rgba(60, 64, 67, 0.15);\n",
              "      fill: #174EA6;\n",
              "    }\n",
              "\n",
              "    [theme=dark] .colab-df-convert {\n",
              "      background-color: #3B4455;\n",
              "      fill: #D2E3FC;\n",
              "    }\n",
              "\n",
              "    [theme=dark] .colab-df-convert:hover {\n",
              "      background-color: #434B5C;\n",
              "      box-shadow: 0px 1px 3px 1px rgba(0, 0, 0, 0.15);\n",
              "      filter: drop-shadow(0px 1px 2px rgba(0, 0, 0, 0.3));\n",
              "      fill: #FFFFFF;\n",
              "    }\n",
              "  </style>\n",
              "\n",
              "      <script>\n",
              "        const buttonEl =\n",
              "          document.querySelector('#df-dc0c0653-9786-49d9-af91-ccac1f05eba0 button.colab-df-convert');\n",
              "        buttonEl.style.display =\n",
              "          google.colab.kernel.accessAllowed ? 'block' : 'none';\n",
              "\n",
              "        async function convertToInteractive(key) {\n",
              "          const element = document.querySelector('#df-dc0c0653-9786-49d9-af91-ccac1f05eba0');\n",
              "          const dataTable =\n",
              "            await google.colab.kernel.invokeFunction('convertToInteractive',\n",
              "                                                     [key], {});\n",
              "          if (!dataTable) return;\n",
              "\n",
              "          const docLinkHtml = 'Like what you see? Visit the ' +\n",
              "            '<a target=\"_blank\" href=https://colab.research.google.com/notebooks/data_table.ipynb>data table notebook</a>'\n",
              "            + ' to learn more about interactive tables.';\n",
              "          element.innerHTML = '';\n",
              "          dataTable['output_type'] = 'display_data';\n",
              "          await google.colab.output.renderOutput(dataTable, element);\n",
              "          const docLink = document.createElement('div');\n",
              "          docLink.innerHTML = docLinkHtml;\n",
              "          element.appendChild(docLink);\n",
              "        }\n",
              "      </script>\n",
              "    </div>\n",
              "  </div>\n",
              "  "
            ]
          },
          "metadata": {},
          "execution_count": 62
        }
      ]
    },
    {
      "cell_type": "code",
      "source": [
        "model = ols('average_sleep_time_male~region', data=df).fit()\n",
        "anova = sm.stats.anova_lm(model, typ=2)\n",
        "anova"
      ],
      "metadata": {
        "colab": {
          "base_uri": "https://localhost:8080/",
          "height": 112
        },
        "id": "AYytkGHnBE74",
        "outputId": "7c8bae5e-dfb9-40d1-f644-132a5f5d1dd0"
      },
      "execution_count": 63,
      "outputs": [
        {
          "output_type": "execute_result",
          "data": {
            "text/plain": [
              "               sum_sq    df         F    PR(>F)\n",
              "region    1601.791734   6.0  8.445456  0.000006\n",
              "Residual  1264.421032  40.0       NaN       NaN"
            ],
            "text/html": [
              "\n",
              "  <div id=\"df-241f2344-de0e-40d6-b0d4-1ecdd86953fc\">\n",
              "    <div class=\"colab-df-container\">\n",
              "      <div>\n",
              "<style scoped>\n",
              "    .dataframe tbody tr th:only-of-type {\n",
              "        vertical-align: middle;\n",
              "    }\n",
              "\n",
              "    .dataframe tbody tr th {\n",
              "        vertical-align: top;\n",
              "    }\n",
              "\n",
              "    .dataframe thead th {\n",
              "        text-align: right;\n",
              "    }\n",
              "</style>\n",
              "<table border=\"1\" class=\"dataframe\">\n",
              "  <thead>\n",
              "    <tr style=\"text-align: right;\">\n",
              "      <th></th>\n",
              "      <th>sum_sq</th>\n",
              "      <th>df</th>\n",
              "      <th>F</th>\n",
              "      <th>PR(&gt;F)</th>\n",
              "    </tr>\n",
              "  </thead>\n",
              "  <tbody>\n",
              "    <tr>\n",
              "      <th>region</th>\n",
              "      <td>1601.791734</td>\n",
              "      <td>6.0</td>\n",
              "      <td>8.445456</td>\n",
              "      <td>0.000006</td>\n",
              "    </tr>\n",
              "    <tr>\n",
              "      <th>Residual</th>\n",
              "      <td>1264.421032</td>\n",
              "      <td>40.0</td>\n",
              "      <td>NaN</td>\n",
              "      <td>NaN</td>\n",
              "    </tr>\n",
              "  </tbody>\n",
              "</table>\n",
              "</div>\n",
              "      <button class=\"colab-df-convert\" onclick=\"convertToInteractive('df-241f2344-de0e-40d6-b0d4-1ecdd86953fc')\"\n",
              "              title=\"Convert this dataframe to an interactive table.\"\n",
              "              style=\"display:none;\">\n",
              "        \n",
              "  <svg xmlns=\"http://www.w3.org/2000/svg\" height=\"24px\"viewBox=\"0 0 24 24\"\n",
              "       width=\"24px\">\n",
              "    <path d=\"M0 0h24v24H0V0z\" fill=\"none\"/>\n",
              "    <path d=\"M18.56 5.44l.94 2.06.94-2.06 2.06-.94-2.06-.94-.94-2.06-.94 2.06-2.06.94zm-11 1L8.5 8.5l.94-2.06 2.06-.94-2.06-.94L8.5 2.5l-.94 2.06-2.06.94zm10 10l.94 2.06.94-2.06 2.06-.94-2.06-.94-.94-2.06-.94 2.06-2.06.94z\"/><path d=\"M17.41 7.96l-1.37-1.37c-.4-.4-.92-.59-1.43-.59-.52 0-1.04.2-1.43.59L10.3 9.45l-7.72 7.72c-.78.78-.78 2.05 0 2.83L4 21.41c.39.39.9.59 1.41.59.51 0 1.02-.2 1.41-.59l7.78-7.78 2.81-2.81c.8-.78.8-2.07 0-2.86zM5.41 20L4 18.59l7.72-7.72 1.47 1.35L5.41 20z\"/>\n",
              "  </svg>\n",
              "      </button>\n",
              "      \n",
              "  <style>\n",
              "    .colab-df-container {\n",
              "      display:flex;\n",
              "      flex-wrap:wrap;\n",
              "      gap: 12px;\n",
              "    }\n",
              "\n",
              "    .colab-df-convert {\n",
              "      background-color: #E8F0FE;\n",
              "      border: none;\n",
              "      border-radius: 50%;\n",
              "      cursor: pointer;\n",
              "      display: none;\n",
              "      fill: #1967D2;\n",
              "      height: 32px;\n",
              "      padding: 0 0 0 0;\n",
              "      width: 32px;\n",
              "    }\n",
              "\n",
              "    .colab-df-convert:hover {\n",
              "      background-color: #E2EBFA;\n",
              "      box-shadow: 0px 1px 2px rgba(60, 64, 67, 0.3), 0px 1px 3px 1px rgba(60, 64, 67, 0.15);\n",
              "      fill: #174EA6;\n",
              "    }\n",
              "\n",
              "    [theme=dark] .colab-df-convert {\n",
              "      background-color: #3B4455;\n",
              "      fill: #D2E3FC;\n",
              "    }\n",
              "\n",
              "    [theme=dark] .colab-df-convert:hover {\n",
              "      background-color: #434B5C;\n",
              "      box-shadow: 0px 1px 3px 1px rgba(0, 0, 0, 0.15);\n",
              "      filter: drop-shadow(0px 1px 2px rgba(0, 0, 0, 0.3));\n",
              "      fill: #FFFFFF;\n",
              "    }\n",
              "  </style>\n",
              "\n",
              "      <script>\n",
              "        const buttonEl =\n",
              "          document.querySelector('#df-241f2344-de0e-40d6-b0d4-1ecdd86953fc button.colab-df-convert');\n",
              "        buttonEl.style.display =\n",
              "          google.colab.kernel.accessAllowed ? 'block' : 'none';\n",
              "\n",
              "        async function convertToInteractive(key) {\n",
              "          const element = document.querySelector('#df-241f2344-de0e-40d6-b0d4-1ecdd86953fc');\n",
              "          const dataTable =\n",
              "            await google.colab.kernel.invokeFunction('convertToInteractive',\n",
              "                                                     [key], {});\n",
              "          if (!dataTable) return;\n",
              "\n",
              "          const docLinkHtml = 'Like what you see? Visit the ' +\n",
              "            '<a target=\"_blank\" href=https://colab.research.google.com/notebooks/data_table.ipynb>data table notebook</a>'\n",
              "            + ' to learn more about interactive tables.';\n",
              "          element.innerHTML = '';\n",
              "          dataTable['output_type'] = 'display_data';\n",
              "          await google.colab.output.renderOutput(dataTable, element);\n",
              "          const docLink = document.createElement('div');\n",
              "          docLink.innerHTML = docLinkHtml;\n",
              "          element.appendChild(docLink);\n",
              "        }\n",
              "      </script>\n",
              "    </div>\n",
              "  </div>\n",
              "  "
            ]
          },
          "metadata": {},
          "execution_count": 63
        }
      ]
    },
    {
      "cell_type": "markdown",
      "source": [
        "$P$値がとても小さくなったので、帰無仮説を棄却できそうです。  \n",
        "\n",
        "よって、地方ごとに平均睡眠時間に差があるといえます。"
      ],
      "metadata": {
        "id": "F_KMNugzDlC2"
      }
    },
    {
      "cell_type": "markdown",
      "source": [
        "### 多重比較法"
      ],
      "metadata": {
        "id": "CEfCN8rcEVMc"
      }
    },
    {
      "cell_type": "markdown",
      "source": [
        "かなり難しいので、説明は省略します。\n",
        "（[こちら](https://bellcurve.jp/statistics/blog/14439.html)などに解説があります）\n",
        "\n",
        "具体的にどの群の間に差異が存在するのかを検定することができます。\n"
      ],
      "metadata": {
        "id": "qhubrrWQEc2m"
      }
    },
    {
      "cell_type": "code",
      "source": [
        "print(pairwise_tukeyhsd(df[\"average_sleep_time_male\"], df[\"region\"]))"
      ],
      "metadata": {
        "colab": {
          "base_uri": "https://localhost:8080/"
        },
        "id": "CblOc2H7FHDi",
        "outputId": "cf9bf7a4-8956-4bf7-b4e9-ce5fb47a2042"
      },
      "execution_count": 64,
      "outputs": [
        {
          "output_type": "stream",
          "name": "stdout",
          "text": [
            "   Multiple Comparison of Means - Tukey HSD, FWER=0.05    \n",
            "==========================================================\n",
            " group1   group2  meandiff p-adj   lower    upper   reject\n",
            "----------------------------------------------------------\n",
            "    中国地方     中部地方  -2.3111    0.9 -12.0426   7.4203  False\n",
            "    中国地方     九州地方    0.175    0.9  -9.7713  10.1213  False\n",
            "    中国地方 北海道・東北地方   8.2286 0.1867  -1.9873  18.4445  False\n",
            "    中国地方     四国地方      2.8    0.9  -8.9038  14.5038  False\n",
            "    中国地方     近畿地方  -5.7714 0.5752 -15.9873   4.4445  False\n",
            "    中国地方     関東地方 -11.4857 0.0188 -21.7016  -1.2698   True\n",
            "    中部地方     九州地方   2.4861    0.9  -5.9916  10.9638  False\n",
            "    中部地方 北海道・東北地方  10.5397 0.0101   1.7472  19.3321   True\n",
            "    中部地方     四国地方   5.1111 0.7102  -5.3732  15.5954  False\n",
            "    中部地方     近畿地方  -3.4603  0.874 -12.2528   5.3321  False\n",
            "    中部地方     関東地方  -9.1746 0.0359 -17.9671  -0.3822   True\n",
            "    九州地方 北海道・東北地方   8.0536  0.108  -0.9761  17.0832  False\n",
            "    九州地方     四国地方    2.625    0.9   -8.059   13.309  False\n",
            "    九州地方     近畿地方  -5.9464 0.4067 -14.9761   3.0832  False\n",
            "    九州地方     関東地方 -11.6607 0.0045 -20.6904   -2.631   True\n",
            "北海道・東北地方     四国地方  -5.4286 0.6946  -16.364   5.5069  False\n",
            "北海道・東北地方     近畿地方    -14.0  0.001 -23.3258  -4.6742   True\n",
            "北海道・東北地方     関東地方 -19.7143  0.001 -29.0401 -10.3885   True\n",
            "    四国地方     近畿地方  -8.5714 0.2122 -19.5069    2.364  False\n",
            "    四国地方     関東地方 -14.2857 0.0039 -25.2212  -3.3502   True\n",
            "    近畿地方     関東地方  -5.7143 0.4915 -15.0401   3.6115  False\n",
            "----------------------------------------------------------\n"
          ]
        }
      ]
    },
    {
      "cell_type": "markdown",
      "source": [
        "有意差ありの場合、項目`reject`がTrueになるようです。  \n",
        "Trueになった項目を以下にまとめます。"
      ],
      "metadata": {
        "id": "JrC2HKuiFRyC"
      }
    },
    {
      "cell_type": "markdown",
      "source": [
        "* 関東地方 ⇔ 北海道・東北地方\n",
        "* 関東地方 ⇔ 中部地方\n",
        "* 関東地方 ⇔ 中国地方\n",
        "* 関東地方 ⇔ 四国地方\n",
        "* 関東地方 ⇔ 九州地方\n",
        "* 中部地方 ⇔ 北海道・東北地方\n",
        "* 近畿地方 ⇔ 北海道・東北地方"
      ],
      "metadata": {
        "id": "9nIbXkEOFZhL"
      }
    },
    {
      "cell_type": "markdown",
      "source": [
        "なんとなく都心と田舎の特徴が出ている気がしますね。"
      ],
      "metadata": {
        "id": "jn6U4vhQGhdb"
      }
    }
  ]
}